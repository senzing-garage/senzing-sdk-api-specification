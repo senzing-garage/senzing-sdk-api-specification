{
 "cells": [
  {
   "cell_type": "markdown",
   "metadata": {},
   "source": [
    "# G2Config Reference\n",
    "\n",
    "**!! If you wish to run any of Senzing's Java notebooks navigate to \"Help\" -> \"Launch Classic Notebook\" !!**"
   ]
  },
  {
   "cell_type": "markdown",
   "metadata": {},
   "source": [
    "## Prepare Environment"
   ]
  },
  {
   "cell_type": "code",
   "execution_count": null,
   "metadata": {},
   "outputs": [],
   "source": [
    "import com.senzing.g2.engine.G2Config;\n",
    "import com.senzing.g2.engine.G2ConfigJNI;\n",
    "import com.senzing.g2.engine.Result;"
   ]
  },
  {
   "cell_type": "markdown",
   "metadata": {},
   "source": [
    "### Helper class for Json Rendering"
   ]
  },
  {
   "cell_type": "code",
   "execution_count": null,
   "metadata": {},
   "outputs": [],
   "source": [
    "%%loadFromPOM\n",
    "<dependency>\n",
    "    <groupId>org.glassfish</groupId>\n",
    "    <artifactId>javax.json</artifactId>\n",
    "    <version>1.1.4</version>\n",
    "</dependency>"
   ]
  },
  {
   "cell_type": "code",
   "execution_count": null,
   "metadata": {},
   "outputs": [],
   "source": [
    "import javax.json.*;\n",
    "import static java.util.Collections.*;\n",
    "import static javax.json.stream.JsonGenerator.PRETTY_PRINTING;"
   ]
  },
  {
   "cell_type": "code",
   "execution_count": null,
   "metadata": {},
   "outputs": [],
   "source": [
    "public class JsonUtil {\n",
    "    private static final JsonWriterFactory PRETTY_FACTORY\n",
    "        = Json.createWriterFactory(singletonMap(PRETTY_PRINTING, true));\n",
    "        \n",
    "    private static final JsonWriterFactory UGLY_FACTORY\n",
    "        = Json.createWriterFactory(emptyMap());\n",
    "    \n",
    "    public static String toJsonText(JsonValue val) {\n",
    "        return toJsonText(val, true);\n",
    "    }\n",
    "\n",
    "    public static String toJsonText(JsonValue val, boolean prettyPrint) {\n",
    "        JsonWriterFactory factory = (prettyPrint) ? PRETTY_FACTORY : UGLY_FACTORY;\n",
    "        StringWriter sw = new StringWriter();\n",
    "        JsonWriter writer = factory.createWriter(sw);\n",
    "        writer.write(val);\n",
    "        sw.flush();\n",
    "        return sw.toString();\n",
    "    }\n",
    "    \n",
    "    public static JsonObject parseJsonObject(String jsonText) {\n",
    "        if (jsonText == null) return null;\n",
    "        StringReader sr = new StringReader(jsonText);\n",
    "        JsonReader jsonReader = Json.createReader(sr);\n",
    "        return jsonReader.readObject();\n",
    "  }\n",
    "\n",
    "    public static JsonArray parseJsonArray(String jsonText) {\n",
    "        if (jsonText == null) return null;\n",
    "        StringReader sr = new StringReader(jsonText);\n",
    "        JsonReader jsonReader = Json.createReader(sr);\n",
    "        return jsonReader.readArray();\n",
    "  }\n",
    "    \n",
    "    \n",
    "}"
   ]
  },
  {
   "cell_type": "code",
   "execution_count": null,
   "metadata": {},
   "outputs": [],
   "source": [
    "import java.util.UUID;\n",
    "String str;\n",
    "public static void RenderJSON(Object obj){\n",
    "    str = obj.toString();\n",
    "    JsonObject json = JsonUtil.parseJsonObject(str);\n",
    "    String Config = JsonUtil.toJsonText(json, false);\n",
    "    UUID id = UUID.randomUUID();\n",
    "    String uuid = id.toString();\n",
    "    String div = \"<div id=\\\"\"+ uuid +\"\\\" style=\\\"height:100%; width:100%; background-color: LightCyan\\\"></div>\";\n",
    "    display(div, \"text/html\");\n",
    "    String jav = \"require([\\\"https://rawgit.com/caldwell/renderjson/master/renderjson.js\\\"], function() {document.getElementById(\\'\"+ uuid +\"\\').appendChild(renderjson(\"+json+\"))});\";\n",
    "    display(jav, \"application/javascript\");\n",
    "}"
   ]
  },
  {
   "cell_type": "markdown",
   "metadata": {},
   "source": [
    "### Initialize Senzing configuration\n",
    "\n",
    "Using environment variables and default values, create `senzingConfigJson`.\n",
    "This value is used when instantiating Senzing objects."
   ]
  },
  {
   "cell_type": "code",
   "execution_count": null,
   "metadata": {},
   "outputs": [],
   "source": [
    "// Get variables used in constructing Senzing Engine configuration.\n",
    "\n",
    "String configPath = System.getenv(\"SENZING_ETC_DIR\");\n",
    "if (configPath == null) {\n",
    "    configPath = \"/etc/opt/senzing\";\n",
    "}\n",
    "\n",
    "String supportPath = System.getenv(\"SENZING_DATA_VERSION_DIR\");\n",
    "if (supportPath == null) {\n",
    "    supportPath = \"/opt/senzing/data\";\n",
    "}\n",
    "\n",
    "String g2Path = System.getenv(\"SENZING_G2_DIR\");\n",
    "if (g2Path == null) {\n",
    "    g2Path = \"/opt/senzing/g2\";\n",
    "}\n",
    "\n",
    "String resourcePath = g2Path + \"/resources\";\n",
    "\n",
    "String sqlConnection = System.getenv(\"SENZING_SQL_CONNECTION\");\n",
    "if (sqlConnection == null) {\n",
    "    sqlConnection = \"sqlite3://na:na@/var/opt/senzing/sqlite/G2C.db\";\n",
    "}\n",
    "\n",
    "String senzingLicenseBase64 = System.getenv(\"SENZING_LICENSE_BASE64_ENCODED\");\n",
    "\n",
    "// Construct the JSON string used for Senzing Engine configuration.\n",
    "String senzingConfigJson;\n",
    "if(senzingLicenseBase64!=null){\n",
    "    senzingConfigJson = \"{\"\n",
    "   + \"\\\"PIPELINE\\\": {\"\n",
    "   +     \"\\\"CONFIGPATH\\\": \\\"\" + configPath + \"\\\",\"\n",
    "   +     \"\\\"LICENSESTRINGBASE64\\\": \\\"\" + senzingLicenseBase64 + \"\\\",\"\n",
    "   +     \"\\\"SUPPORTPATH\\\": \\\"\" + supportPath + \"\\\",\"\n",
    "   +     \"\\\"RESOURCEPATH\\\": \\\"\" + resourcePath + \"\\\"\"\n",
    "   + \"},\"\n",
    "   + \"\\\"SQL\\\": {\"\n",
    "   +     \"\\\"CONNECTION\\\": \\\"\" + sqlConnection + \"\\\"\"\n",
    "   + \"}}\";\n",
    "}\n",
    "\n",
    "else{\n",
    "    senzingConfigJson = \"{\"\n",
    "   + \"\\\"PIPELINE\\\": {\"\n",
    "   +     \"\\\"CONFIGPATH\\\": \\\"\" + configPath + \"\\\",\"\n",
    "   +     \"\\\"SUPPORTPATH\\\": \\\"\" + supportPath + \"\\\",\"\n",
    "   +     \"\\\"RESOURCEPATH\\\": \\\"\" + resourcePath + \"\\\"\"\n",
    "   + \"},\"\n",
    "   + \"\\\"SQL\\\": {\"\n",
    "   +     \"\\\"CONNECTION\\\": \\\"\" + sqlConnection + \"\\\"\"\n",
    "   + \"}}\";\n",
    "   \n",
    "}\n",
    "RenderJSON(senzingConfigJson);"
   ]
  },
  {
   "cell_type": "markdown",
   "metadata": {},
   "source": [
    "## G2Config\n",
    "\n",
    "The G2Config API is used to create a new JSON configuration from the default template\n",
    "or manipulate a JSON configuration that it is provided.\n",
    "The API read/writes a JSON string, but that string would typically be\n",
    "read/written from/to a g2config.json file that the G2 engine reads during the initV2(...) call."
   ]
  },
  {
   "cell_type": "markdown",
   "metadata": {},
   "source": [
    "### Initialize G2Config\n",
    "\n",
    "###### Parameters\n",
    "\n",
    "- **moduleName:** (str) A short name given to this instance of the G2Config\n",
    "  object.\n",
    "- **senzingConfigJson:** (str) A JSON string containing configuration parameters.\n",
    "- **verboseLogging:** (bool) A boolean which enables diagnostic logging."
   ]
  },
  {
   "cell_type": "code",
   "execution_count": null,
   "metadata": {},
   "outputs": [],
   "source": [
    "String moduleName = \"ExampleG2Config\";\n",
    "boolean verboseLogging = true;\n",
    "\n",
    "G2Config g2config = new G2ConfigJNI();\n",
    "int return_code = g2config.init(moduleName, senzingConfigJson, verboseLogging);\n",
    "\n",
    "if(return_code!=0)\n",
    "    System.out.print(g2config.getLastException());\n",
    "else\n",
    "    System.out.print(return_code);"
   ]
  },
  {
   "cell_type": "markdown",
   "metadata": {},
   "source": [
    "### Create Configuration handle\n",
    "`create()` creates an in-memory handle for an editable configuration document.  It does so by pulling from the default template config document, stored in the product installation."
   ]
  },
  {
   "cell_type": "code",
   "execution_count": null,
   "metadata": {},
   "outputs": [],
   "source": [
    "Result<Long> config = new Result<Long>();\n",
    "long configHandle;\n",
    "int return_code = g2config.create(config);\n",
    "\n",
    "if(return_code!=0)\n",
    "    System.out.print(g2config.getLastException());\n",
    "else{\n",
    "    configHandle = config.getValue();\n",
    "    System.out.print(config.getValue());\n",
    "}"
   ]
  },
  {
   "cell_type": "markdown",
   "metadata": {},
   "source": [
    "### save\n",
    "`save()` takes an in-memory handle for an editable configuration document, and exports it as a string through the function parameters.\n",
    "\n",
    "###### Parameters\n",
    "\n",
    "- **configHandle:** (int) variable containg the the number of the used config\n",
    "- **response:** (StringBuffer) Object to store the output of the method. Can be used to print or store for later."
   ]
  },
  {
   "cell_type": "code",
   "execution_count": null,
   "metadata": {},
   "outputs": [],
   "source": [
    "StringBuffer response = new StringBuffer();\n",
    "\n",
    "int return_code = g2config.save(configHandle, response);\n",
    "\n",
    "if(return_code!=0)\n",
    "    System.out.print(g2config.getLastException());\n",
    "else\n",
    "    RenderJSON(response);"
   ]
  },
  {
   "cell_type": "markdown",
   "metadata": {},
   "source": [
    "### load\n",
    "`load()` creates an in-memory handle for an editable configuration document. It does so by loading the config document, provided as an input parameter string.\n",
    "\n",
    "###### Parameters\n",
    "\n",
    "- **response:** (StringBuffer) Object to store the output of the method. Can be used to print or store for later.\n",
    "- **config:** (long) the handle of the config object to get the config json data from"
   ]
  },
  {
   "cell_type": "code",
   "execution_count": null,
   "metadata": {},
   "outputs": [],
   "source": [
    "// example using the saved config from the `save()` method\n",
    "g2config.load(response.toString(), config);"
   ]
  },
  {
   "cell_type": "markdown",
   "metadata": {},
   "source": [
    "## Datasources"
   ]
  },
  {
   "cell_type": "markdown",
   "metadata": {},
   "source": [
    "### listDataSources\n",
    "\n",
    "`listDataSources()` returns a list of data sources contained in an in-memory handle for an editable configuration document\n",
    "\n",
    "###### Parameters\n",
    "\n",
    "- **configHandle:** (long) the handle of the config object to get the config json data from\n",
    "- **response:** (StringBuffer) Object to store the output of the method. Can be used to print or store for later."
   ]
  },
  {
   "cell_type": "code",
   "execution_count": null,
   "metadata": {},
   "outputs": [],
   "source": [
    "StringBuffer response = new StringBuffer();\n",
    "\n",
    "int return_code = g2config.listDataSources(configHandle, response);\n",
    "\n",
    "if(return_code!=0)\n",
    "    System.out.print(g2config.getLastException());\n",
    "else\n",
    "    RenderJSON(response);"
   ]
  },
  {
   "cell_type": "markdown",
   "metadata": {},
   "source": [
    "### addDataSource\n",
    "\n",
    "`addDataSource()` adds a new data source to an in-memory handle for an editable configuration document\n",
    "\n",
    "###### Parameters\n",
    "\n",
    "- **configHandle:** (long) the handle of the config object to get the config json data from\n",
    "- **dataSource:** (str) json containing the name of the datasource to be added\n",
    "- **response:** (StringBuffer) Object to store the output of the method. Can be used to print or store for later."
   ]
  },
  {
   "cell_type": "code",
   "execution_count": null,
   "metadata": {},
   "outputs": [],
   "source": [
    "String dataSource = \"{\\\"DSRC_CODE\\\": \\\"CUSTOMER\\\"}\";\n",
    "\n",
    "StringBuffer response = new StringBuffer();\n",
    "\n",
    "int return_code = g2config.addDataSource(configHandle, dataSource, response);\n",
    "\n",
    "if(return_code!=0)\n",
    "    System.out.print(g2config.getLastException());\n",
    "else\n",
    "    RenderJSON(response);"
   ]
  },
  {
   "cell_type": "markdown",
   "metadata": {},
   "source": [
    "### listDataSources again\n",
    "\n",
    "Call G2Config's `listDataSources()` method and pretty-print results. Notice that the list now contains the newly added datasource_code of \"CUSTOMER\".\n",
    "\n",
    "Parameters\n",
    "- **configHandle:** (long) the handle of the config object to get the config json data from\n",
    "- **response:** (StringBuffer) Object to store the output of the method. Can be used to print or store for later."
   ]
  },
  {
   "cell_type": "code",
   "execution_count": null,
   "metadata": {},
   "outputs": [],
   "source": [
    "StringBuffer response = new StringBuffer();\n",
    "\n",
    "int return_code = g2config.listDataSources(configHandle, response);\n",
    "\n",
    "if(return_code!=0)\n",
    "    System.out.print(g2config.getLastException());\n",
    "else\n",
    "    RenderJSON(response);"
   ]
  },
  {
   "cell_type": "markdown",
   "metadata": {},
   "source": [
    "### deleteDataSource\n",
    "\n",
    "`deleteDataSource()` removes a data source from an in-memory handle for an editable configuration document\n",
    "\n",
    "###### Parameters\n",
    "\n",
    "- **configHandle:** (long) the handle of the config object to get the config json data from\n",
    "- **dataSource:** (str) json containing the name of the datasource to be added"
   ]
  },
  {
   "cell_type": "code",
   "execution_count": null,
   "metadata": {},
   "outputs": [],
   "source": [
    "String dataSource = \"{\\\"DSRC_CODE\\\": \\\"COMPANY\\\"}\";\n",
    "\n",
    "int return_code = g2config.deleteDataSource(configHandle, dataSource);\n",
    "\n",
    "if(return_code!=0)\n",
    "    System.out.print(g2config.getLastException());"
   ]
  },
  {
   "cell_type": "markdown",
   "metadata": {},
   "source": [
    "## Cleanup"
   ]
  },
  {
   "cell_type": "markdown",
   "metadata": {},
   "source": [
    "### close\n",
    "`close()` deletes an in-memory handle for an editable configuration document, and frees it’s internal memory resources.\n",
    "\n",
    "**Parameters**\n",
    "- **configHandle:** (long) the handle of the config object to get the config json data from"
   ]
  },
  {
   "cell_type": "code",
   "execution_count": null,
   "metadata": {},
   "outputs": [],
   "source": [
    "g2config.close(configHandle);"
   ]
  },
  {
   "cell_type": "markdown",
   "metadata": {},
   "source": [
    "### destroy"
   ]
  },
  {
   "cell_type": "code",
   "execution_count": null,
   "metadata": {},
   "outputs": [],
   "source": [
    "int return_code = g2config.destroy();\n",
    "\n",
    "if(return_code!=0)\n",
    "    System.out.print(g2config.getLastException());"
   ]
  }
 ],
 "metadata": {
  "kernelspec": {
   "display_name": "Java",
   "language": "java",
   "name": "java"
  },
  "language_info": {
   "codemirror_mode": "java",
   "file_extension": ".jshell",
   "mimetype": "text/x-java-source",
   "name": "Java",
   "pygments_lexer": "java",
   "version": "11.0.15+10-Ubuntu-0ubuntu0.20.04.1"
  },
  "toc": {
   "base_numbering": 1,
   "nav_menu": {},
   "number_sections": true,
   "sideBar": true,
   "skip_h1_title": true,
   "title_cell": "Table of Contents",
   "title_sidebar": "Contents",
   "toc_cell": false,
   "toc_position": {},
   "toc_section_display": true,
   "toc_window_display": true
  }
 },
 "nbformat": 4,
 "nbformat_minor": 4
}
