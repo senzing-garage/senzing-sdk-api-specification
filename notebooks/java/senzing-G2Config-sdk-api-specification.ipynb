{
 "cells": [
  {
   "cell_type": "markdown",
   "metadata": {},
   "source": [
    "# G2Config Reference"
   ]
  },
  {
   "cell_type": "markdown",
   "metadata": {},
   "source": [
    "## Prepare Environment"
   ]
  },
  {
   "cell_type": "code",
   "execution_count": null,
   "metadata": {},
   "outputs": [],
   "source": [
    "import com.senzing.g2.engine.G2Config;\n",
    "import com.senzing.g2.engine.G2ConfigJNI;"
   ]
  },
  {
   "cell_type": "markdown",
   "metadata": {},
   "source": [
    "### Helper class for Json Rendering"
   ]
  },
  {
   "cell_type": "code",
   "execution_count": null,
   "metadata": {},
   "outputs": [],
   "source": [
    "%%loadFromPOM\n",
    "<dependency>\n",
    "    <groupId>org.glassfish</groupId>\n",
    "    <artifactId>javax.json</artifactId>\n",
    "    <version>1.1.4</version>\n",
    "</dependency>"
   ]
  },
  {
   "cell_type": "code",
   "execution_count": null,
   "metadata": {},
   "outputs": [],
   "source": [
    "import javax.json.*;\n",
    "import static java.util.Collections.*;\n",
    "import static javax.json.stream.JsonGenerator.PRETTY_PRINTING;"
   ]
  },
  {
   "cell_type": "code",
   "execution_count": null,
   "metadata": {},
   "outputs": [],
   "source": [
    "public class JsonUtil {\n",
    "    private static final JsonWriterFactory PRETTY_FACTORY\n",
    "        = Json.createWriterFactory(singletonMap(PRETTY_PRINTING, true));\n",
    "        \n",
    "    private static final JsonWriterFactory UGLY_FACTORY\n",
    "        = Json.createWriterFactory(emptyMap());\n",
    "    \n",
    "    public static String toJsonText(JsonValue val) {\n",
    "        return toJsonText(val, true);\n",
    "    }\n",
    "\n",
    "    public static String toJsonText(JsonValue val, boolean prettyPrint) {\n",
    "        JsonWriterFactory factory = (prettyPrint) ? PRETTY_FACTORY : UGLY_FACTORY;\n",
    "        StringWriter sw = new StringWriter();\n",
    "        JsonWriter writer = factory.createWriter(sw);\n",
    "        writer.write(val);\n",
    "        sw.flush();\n",
    "        return sw.toString();\n",
    "    }\n",
    "    \n",
    "    public static JsonObject parseJsonObject(String jsonText) {\n",
    "        if (jsonText == null) return null;\n",
    "        StringReader sr = new StringReader(jsonText);\n",
    "        JsonReader jsonReader = Json.createReader(sr);\n",
    "        return jsonReader.readObject();\n",
    "  }\n",
    "\n",
    "    public static JsonArray parseJsonArray(String jsonText) {\n",
    "        if (jsonText == null) return null;\n",
    "        StringReader sr = new StringReader(jsonText);\n",
    "        JsonReader jsonReader = Json.createReader(sr);\n",
    "        return jsonReader.readArray();\n",
    "  }\n",
    "    \n",
    "    \n",
    "}"
   ]
  },
  {
   "cell_type": "code",
   "execution_count": null,
   "metadata": {},
   "outputs": [],
   "source": [
    "import java.util.UUID;\n",
    "String str;\n",
    "public static void RenderJSON(Object obj){\n",
    "    str = obj.toString();\n",
    "    JsonObject json = JsonUtil.parseJsonObject(str);\n",
    "    String Config = JsonUtil.toJsonText(json, false);\n",
    "    UUID id = UUID.randomUUID();\n",
    "    String uuid = id.toString();\n",
    "    String div = \"<div id=\\\"\"+ uuid +\"\\\" style=\\\"height:100%; width:100%; background-color: LightCyan\\\"></div>\";\n",
    "    display(div, \"text/html\");\n",
    "    String jav = \"require([\\\"https://rawgit.com/caldwell/renderjson/master/renderjson.js\\\"], function() {document.getElementById(\\'\"+ uuid +\"\\').appendChild(renderjson(\"+json+\"))});\";\n",
    "    display(jav, \"application/javascript\");\n",
    "}"
   ]
  },
  {
   "cell_type": "markdown",
   "metadata": {},
   "source": [
    "### Initialize Senzing configuration\n",
    "\n",
    "Using environment variables and default values, create `senzingConfigJson`.\n",
    "This value is used when instantiating Senzing objects."
   ]
  },
  {
   "cell_type": "code",
   "execution_count": null,
   "metadata": {},
   "outputs": [],
   "source": [
    "// Get variables used in constructing Senzing Engine configuration.\n",
    "\n",
    "String configPath = System.getenv(\"SENZING_ETC_DIR\");\n",
    "if (configPath == null) {\n",
    "    configPath = \"/etc/opt/senzing\";\n",
    "}\n",
    "\n",
    "String supportPath = System.getenv(\"SENZING_DATA_VERSION_DIR\");\n",
    "if (supportPath == null) {\n",
    "    supportPath = \"/opt/senzing/data\";\n",
    "}\n",
    "\n",
    "String g2Path = System.getenv(\"SENZING_G2_DIR\");\n",
    "if (g2Path == null) {\n",
    "    g2Path = \"/opt/senzing/g2\";\n",
    "}\n",
    "\n",
    "String resourcePath = g2Path + \"/resources\";\n",
    "\n",
    "String sqlConnection = System.getenv(\"SENZING_SQL_CONNECTION\");\n",
    "if (sqlConnection == null) {\n",
    "    sqlConnection = \"sqlite3://na:na@/var/opt/senzing/sqlite/G2C.db\";\n",
    "}\n",
    "\n",
    "// Construct the JSON string used for Senzing Engine configuration.\n",
    "\n",
    "String senzingConfigJson = \"{\"\n",
    "   + \"\\\"PIPELINE\\\": {\"\n",
    "   +     \"\\\"CONFIGPATH\\\": \\\"\" + configPath + \"\\\",\"\n",
    "   +     \"\\\"SUPPORTPATH\\\": \\\"\" + supportPath + \"\\\",\"\n",
    "   +     \"\\\"RESOURCEPATH\\\": \\\"\" + resourcePath + \"\\\"\"\n",
    "   + \"},\"\n",
    "   + \"\\\"SQL\\\": {\"\n",
    "   +     \"\\\"CONNECTION\\\": \\\"\" + sqlConnection + \"\\\"\"\n",
    "   + \"}}\";\n",
    "   \n",
    "RenderJSON(senzingConfigJson);"
   ]
  },
  {
   "cell_type": "markdown",
   "metadata": {},
   "source": [
    "## G2Config\n",
    "\n",
    "The G2Config API is used to create a new JSON configuration from the default template\n",
    "or manipulate a JSON configuration that it is provided.\n",
    "The API read/writes a JSON string, but that string would typically be\n",
    "read/written from/to a g2config.json file that the G2 engine reads during the initV2(...) call."
   ]
  },
  {
   "cell_type": "markdown",
   "metadata": {},
   "source": [
    "### G2Config Initialization\n",
    "\n",
    "To start using G2Config, you must first create and initialize the G2Config object.\n",
    "This should be done once per process.\n",
    "\n",
    "Create a new instance of the Senzing G2Config object and assign it to a variable.\n",
    "Then, call the appropriate initialization method (such as initV2) to initialize the G2Config object.\n",
    "\n",
    "During the call, the initialization methods accept the following parameters:\n",
    "\n",
    "- **moduleName:** A short name given to this instance of the G2 engine (i.e. your G2Module object)\n",
    "- **senzingConfigJson:** A JSON document containing system parameters (see the section called \"Initialization Parameters\")\n",
    "- **verboseLogging:** A boolean which enables diagnostic logging - this will print a massive amount of information to stdout (default = False)\n",
    "\n",
    "Calling these functions will return \"0\" upon success - useful for error handling."
   ]
  },
  {
   "cell_type": "code",
   "execution_count": null,
   "metadata": {},
   "outputs": [],
   "source": [
    "String moduleName = \"ExampleG2Config\";\n",
    "boolean verboseLogging = true;\n",
    "\n",
    "G2Config g2config = new G2ConfigJNI();\n",
    "int return_code = g2config.initV2(moduleName, senzingConfigJson, verboseLogging);\n",
    "\n",
    "if(return_code!=0)\n",
    "    System.out.print(g2config.getLastException());\n",
    "else\n",
    "    System.out.print(return_code);"
   ]
  },
  {
   "cell_type": "markdown",
   "metadata": {},
   "source": [
    "### Create Configuration handle"
   ]
  },
  {
   "cell_type": "code",
   "execution_count": null,
   "metadata": {},
   "outputs": [],
   "source": [
    "long config_handle = g2config.create()"
   ]
  },
  {
   "cell_type": "markdown",
   "metadata": {},
   "source": [
    "### save"
   ]
  },
  {
   "cell_type": "code",
   "execution_count": null,
   "metadata": {},
   "outputs": [],
   "source": [
    "StringBuffer response = new StringBuffer();\n",
    "\n",
    "int return_code = g2config.save(config_handle, response);\n",
    "\n",
    "if(return_code!=0)\n",
    "    System.out.print(g2config.getLastException());\n",
    "else\n",
    "    RenderJSON(response);"
   ]
  },
  {
   "cell_type": "markdown",
   "metadata": {},
   "source": [
    "### load"
   ]
  },
  {
   "cell_type": "code",
   "execution_count": null,
   "metadata": {},
   "outputs": [],
   "source": [
    "// example using the saved config from the `save()` method\n",
    "long configHandle = g2config.load(response.toString());"
   ]
  },
  {
   "cell_type": "markdown",
   "metadata": {},
   "source": [
    "## Datasources"
   ]
  },
  {
   "cell_type": "markdown",
   "metadata": {},
   "source": [
    "### listDataSourcesV2\n",
    "Call G2Config's `listDataSourcesV2()` method and print results."
   ]
  },
  {
   "cell_type": "code",
   "execution_count": null,
   "metadata": {},
   "outputs": [],
   "source": [
    "StringBuffer response = new StringBuffer();\n",
    "\n",
    "int return_code = g2config.listDataSourcesV2(config_handle, response);\n",
    "\n",
    "if(return_code!=0)\n",
    "    System.out.print(g2config.getLastException());\n",
    "else\n",
    "    RenderJSON(response);"
   ]
  },
  {
   "cell_type": "markdown",
   "metadata": {},
   "source": [
    "### addDataSourceV2\n",
    "Call G2Config's `addDataSourceV2()` method and print results"
   ]
  },
  {
   "cell_type": "code",
   "execution_count": null,
   "metadata": {},
   "outputs": [],
   "source": [
    "String dataSource = \"{\\\"DSRC_CODE\\\": \\\"CUSTOMER\\\"}\";\n",
    "\n",
    "StringBuffer response = new StringBuffer();\n",
    "\n",
    "int return_code = g2config.addDataSourceV2(config_handle, dataSource, response);\n",
    "\n",
    "if(return_code!=0)\n",
    "    System.out.print(g2config.getLastException());\n",
    "else\n",
    "    RenderJSON(response);"
   ]
  },
  {
   "cell_type": "markdown",
   "metadata": {},
   "source": [
    "### addDataSourceWithID"
   ]
  },
  {
   "cell_type": "code",
   "execution_count": null,
   "metadata": {},
   "outputs": [],
   "source": [
    "String dataSource = \"COMPANY\";\n",
    "\n",
    "StringBuffer response = new StringBuffer();\n",
    "\n",
    "int id = 0;\n",
    "int return_code = g2config.addDataSourceWithID(config_handle, dataSource, id);\n",
    "\n",
    "if(return_code!=0)\n",
    "    System.out.print(g2config.getLastException());"
   ]
  },
  {
   "cell_type": "markdown",
   "metadata": {},
   "source": [
    "### listDataSources again\n",
    "Call G2Config's `listDataSourcesV2()` method and print results. Notice that the list now contains the newly add dataSource of \"CUSTOMER\"."
   ]
  },
  {
   "cell_type": "code",
   "execution_count": null,
   "metadata": {},
   "outputs": [],
   "source": [
    "StringBuffer response = new StringBuffer();\n",
    "\n",
    "int return_code = g2config.listDataSourcesV2(config_handle, response);\n",
    "\n",
    "if(return_code!=0)\n",
    "    System.out.print(g2config.getLastException());\n",
    "else\n",
    "    RenderJSON(response);"
   ]
  },
  {
   "cell_type": "markdown",
   "metadata": {},
   "source": [
    "### deleteDataSourceV2"
   ]
  },
  {
   "cell_type": "code",
   "execution_count": null,
   "metadata": {},
   "outputs": [],
   "source": [
    "String dataSource = \"{\\\"DSRC_CODE\\\": \\\"COMPANY\\\"}\";\n",
    "\n",
    "int return_code = g2config.deleteDataSourceV2(config_handle, dataSource);\n",
    "\n",
    "if(return_code!=0)\n",
    "    System.out.print(g2config.getLastException());"
   ]
  },
  {
   "cell_type": "markdown",
   "metadata": {},
   "source": [
    "## Entities"
   ]
  },
  {
   "cell_type": "markdown",
   "metadata": {},
   "source": [
    "### listEntityClassesV2\n",
    "Call G2Config's `listEntityClassesV2()` method and print results."
   ]
  },
  {
   "cell_type": "code",
   "execution_count": null,
   "metadata": {
    "scrolled": true
   },
   "outputs": [],
   "source": [
    "StringBuffer response = new StringBuffer();\n",
    "\n",
    "int return_code = g2config.listEntityTypesV2(config_handle, response);\n",
    "\n",
    "if(return_code!=0)\n",
    "    System.out.print(g2config.getLastException());\n",
    "else\n",
    "    RenderJSON(response);"
   ]
  },
  {
   "cell_type": "markdown",
   "metadata": {},
   "source": [
    "### listEntityTypesV2\n",
    "Call G2Config's `listEntityTypesV2()` method and print results."
   ]
  },
  {
   "cell_type": "code",
   "execution_count": null,
   "metadata": {},
   "outputs": [],
   "source": [
    "StringBuffer response = new StringBuffer();\n",
    "\n",
    "int return_code = g2config.listEntityTypesV2(config_handle, response);\n",
    "\n",
    "if(return_code!=0)\n",
    "    System.out.print(g2config.getLastException());\n",
    "else\n",
    "    RenderJSON(response);"
   ]
  },
  {
   "cell_type": "markdown",
   "metadata": {},
   "source": [
    "### addEntityClassV2\n",
    "Call G2Config's `addEntityClassV2()` method and print results"
   ]
  },
  {
   "cell_type": "code",
   "execution_count": null,
   "metadata": {},
   "outputs": [],
   "source": [
    "String entityClass = \"{\\\"ECLASS_CODE\\\": \\\"COMPANY\\\"}\";\n",
    "StringBuffer response = new StringBuffer();\n",
    "\n",
    "int return_code = g2config.addEntityClassV2(config_handle, entityClass, response);\n",
    "\n",
    "if(return_code!=0)\n",
    "    System.out.print(g2config.getLastException());\n",
    "else\n",
    "    RenderJSON(response);"
   ]
  },
  {
   "cell_type": "markdown",
   "metadata": {},
   "source": [
    "### listEntityClasses again\n",
    "Call G2Config's `listEntityClassesV2()` method and print results. Notice that the list now contains the newly added entityClass \"COMPANY\"."
   ]
  },
  {
   "cell_type": "code",
   "execution_count": null,
   "metadata": {},
   "outputs": [],
   "source": [
    "StringBuffer response = new StringBuffer();\n",
    "\n",
    "int return_code = g2config.listEntityClassesV2(config_handle, response);\n",
    "\n",
    "if(return_code!=0)\n",
    "    System.out.print(g2config.getLastException());\n",
    "else\n",
    "    RenderJSON(response);"
   ]
  },
  {
   "cell_type": "markdown",
   "metadata": {},
   "source": [
    "### addEntityTypeV2\n",
    "Call G2Config's `addEntityTypeV2()` method and print results."
   ]
  },
  {
   "cell_type": "code",
   "execution_count": null,
   "metadata": {},
   "outputs": [],
   "source": [
    "String entityType = \"{\\\"ETYPE_CODE\\\": \\\"PROFESSIONAL\\\", \\\"ECLASS_CODE\\\": \\\"ACTOR\\\"}\";\n",
    "StringBuffer response = new StringBuffer();\n",
    "\n",
    "int return_code = g2config.addEntityTypeV2(config_handle, entityType, response);\n",
    "\n",
    "if(return_code!=0)\n",
    "    System.out.print(g2config.getLastException());\n",
    "else\n",
    "    RenderJSON(response);"
   ]
  },
  {
   "cell_type": "markdown",
   "metadata": {},
   "source": [
    "### listEntityTypes again\n",
    "Call G2Config's `listEntityTypesV2()` method and print results. Notice that the list now contains the newly added entityType \"PROFESSIONAL\"."
   ]
  },
  {
   "cell_type": "code",
   "execution_count": null,
   "metadata": {},
   "outputs": [],
   "source": [
    "StringBuffer response = new StringBuffer();\n",
    "\n",
    "int return_code = g2config.listEntityTypesV2(config_handle, response);\n",
    "\n",
    "if(return_code!=0)\n",
    "    System.out.print(g2config.getLastException());\n",
    "else\n",
    "    RenderJSON(response);"
   ]
  },
  {
   "cell_type": "markdown",
   "metadata": {},
   "source": [
    "### deleteEntityClassV2\n",
    "Call G2Config's `deleteEntityClassV2()` method. Returns 0 on success"
   ]
  },
  {
   "cell_type": "code",
   "execution_count": null,
   "metadata": {
    "scrolled": true
   },
   "outputs": [],
   "source": [
    "String entityClass = \"{\\\"ECLASS_CODE\\\": \\\"COMPANY\\\"}\";\n",
    "\n",
    "int return_code = g2config.deleteEntityClassV2(config_handle, entityClass);\n",
    "\n",
    "if(return_code!=0)\n",
    "    System.out.print(g2config.getLastException());\n",
    "else\n",
    "    System.out.print(return_code);"
   ]
  },
  {
   "cell_type": "markdown",
   "metadata": {},
   "source": [
    "### deleteEntityTypeV2\n",
    "Call G2Config's `deleteEntityTypeV2()` method. Returns 0 on success"
   ]
  },
  {
   "cell_type": "code",
   "execution_count": null,
   "metadata": {},
   "outputs": [],
   "source": [
    "String entityType = \"{\\\"ETYPE_CODE\\\": \\\"PROFESSIONAL\\\", \\\"ECLASS_CODE\\\": \\\"ACTOR\\\"}\";\n",
    "\n",
    "int return_code = g2config.deleteEntityTypeV2(config_handle, entityType);\n",
    "\n",
    "if(return_code!=0)\n",
    "    System.out.print(g2config.getLastException());\n",
    "else\n",
    "    System.out.print(return_code);"
   ]
  },
  {
   "cell_type": "markdown",
   "metadata": {},
   "source": [
    "## Feature"
   ]
  },
  {
   "cell_type": "markdown",
   "metadata": {},
   "source": [
    "### listFeatureElementsV2\n",
    "Call G2Config's `listFeatureElementsV2()` method and print results."
   ]
  },
  {
   "cell_type": "code",
   "execution_count": null,
   "metadata": {
    "scrolled": true
   },
   "outputs": [],
   "source": [
    "StringBuffer response = new StringBuffer();\n",
    "\n",
    "int return_code = g2config.listFeatureElementsV2(config_handle, response);\n",
    "\n",
    "if(return_code!=0)\n",
    "    System.out.print(g2config.getLastException());\n",
    "else\n",
    "    RenderJSON(response);"
   ]
  },
  {
   "cell_type": "markdown",
   "metadata": {},
   "source": [
    "### getFeatureElementV2\n",
    "Call G2Config's `getFeatureElementV2()` method and print results."
   ]
  },
  {
   "cell_type": "code",
   "execution_count": null,
   "metadata": {},
   "outputs": [],
   "source": [
    "String featureElm = \"{\\\"FELEM_CODE\\\": \\\"GIVEN_NAME\\\"}\";\n",
    "StringBuffer response = new StringBuffer();\n",
    "\n",
    "int return_code = g2config.getFeatureElementV2(config_handle, featureElm, response);\n",
    "\n",
    "if(return_code!=0)\n",
    "    System.out.print(g2config.getLastException());\n",
    "else\n",
    "    RenderJSON(response);"
   ]
  },
  {
   "cell_type": "markdown",
   "metadata": {},
   "source": [
    "### addFeatureElementV2\n",
    "Call G2Config's `addFeatureElementV2()` method and print results."
   ]
  },
  {
   "cell_type": "code",
   "execution_count": null,
   "metadata": {},
   "outputs": [],
   "source": [
    "String featureElm = \"{\\\"FELEM_CODE\\\":\\\"myNewFelem\\\",\\\"FELEM_ID\\\":789,\\\"TOKENIZE\\\":1,\\\"DATA_TYPE\\\":\\\"string\\\"}\";\n",
    "StringBuffer response = new StringBuffer();\n",
    "\n",
    "int return_code = g2config.addFeatureElementV2(config_handle, featureElm, response);\n",
    "\n",
    "if(return_code!=0)\n",
    "    System.out.print(g2config.getLastException());\n",
    "else\n",
    "    RenderJSON(response);"
   ]
  },
  {
   "cell_type": "markdown",
   "metadata": {},
   "source": [
    "### deleteFeatureElementV2\n",
    "Call G2Config's `deleteFeatureElementV2()` method. Returns 0 on success"
   ]
  },
  {
   "cell_type": "code",
   "execution_count": null,
   "metadata": {},
   "outputs": [],
   "source": [
    "String featureElm = \"{\\\"FELEM_CODE\\\": \\\"myNewFelem\\\"}\";\n",
    "\n",
    "int return_code = g2config.deleteFeatureElementV2(config_handle, featureElm);\n",
    "\n",
    "if(return_code!=0)\n",
    "    System.out.print(g2config.getLastException());\n",
    "else\n",
    "    System.out.print(return_code);"
   ]
  },
  {
   "cell_type": "markdown",
   "metadata": {},
   "source": [
    "### listFeatureClassesV2\n",
    "Call G2Config's `listFeatureClassesV2()` method and print results."
   ]
  },
  {
   "cell_type": "code",
   "execution_count": null,
   "metadata": {
    "scrolled": true
   },
   "outputs": [],
   "source": [
    "StringBuffer response = new StringBuffer();\n",
    "\n",
    "int return_code = g2config.listFeatureClassesV2(config_handle, response);\n",
    "\n",
    "if(return_code!=0)\n",
    "    System.out.print(g2config.getLastException());\n",
    "else\n",
    "    RenderJSON(response);"
   ]
  },
  {
   "cell_type": "markdown",
   "metadata": {},
   "source": [
    "### listFeaturesV2\n",
    "Call G2Config's `listFeaturesV2()` method and print results."
   ]
  },
  {
   "cell_type": "code",
   "execution_count": null,
   "metadata": {
    "scrolled": true
   },
   "outputs": [],
   "source": [
    "StringBuffer response = new StringBuffer();\n",
    "\n",
    "int return_code = g2config.listFeaturesV2(config_handle, response);\n",
    "\n",
    "if(return_code!=0)\n",
    "    System.out.print(g2config.getLastException());\n",
    "else\n",
    "    RenderJSON(response);"
   ]
  },
  {
   "cell_type": "markdown",
   "metadata": {},
   "source": [
    "### getFeatureV2\n",
    "Call G2Config's `getFeatureV2()` method and print results."
   ]
  },
  {
   "cell_type": "code",
   "execution_count": null,
   "metadata": {},
   "outputs": [],
   "source": [
    "String feature = \"{\\\"FTYPE_CODE\\\":\\\"name\\\"}\";\n",
    "StringBuffer response = new StringBuffer();\n",
    "\n",
    "int return_code = g2config.getFeatureV2(config_handle, feature, response);\n",
    "\n",
    "if(return_code!=0)\n",
    "    System.out.print(g2config.getLastException());\n",
    "else\n",
    "    RenderJSON(response);"
   ]
  },
  {
   "cell_type": "markdown",
   "metadata": {},
   "source": [
    "### addFeatureV2\n",
    "Call G2Config's `addFeatureV2()` method and print results."
   ]
  },
  {
   "cell_type": "code",
   "execution_count": null,
   "metadata": {},
   "outputs": [],
   "source": [
    "String feature = \"{\\\"FTYPE_CODE\\\":\\\"myNewFtype\\\",\\\"FTYPE_ID\\\":789,\\\"FCLASS_CODE\\\":\\\"ELECTED_ID\\\",\\\"FTYPE_FREQ\\\":\\\"FF\\\", \\\"FEATURE_ELEMENTS\\\":[{\\\"FELEM_CODE\\\":\\\"expression\\\"}]}\";\n",
    "StringBuffer response = new StringBuffer();\n",
    "\n",
    "int return_code = g2config.addFeatureV2(config_handle, feature, response);\n",
    "\n",
    "if(return_code!=0)\n",
    "    System.out.print(g2config.getLastException());\n",
    "else\n",
    "    RenderJSON(response);"
   ]
  },
  {
   "cell_type": "markdown",
   "metadata": {},
   "source": [
    "### deleteFeatureV2\n",
    "Call G2Config's `deleteFeatureV2()` method. Returns 0 on success."
   ]
  },
  {
   "cell_type": "code",
   "execution_count": null,
   "metadata": {},
   "outputs": [],
   "source": [
    "String feature = \"{\\\"FTYPE_CODE\\\":\\\"NAME\\\"}\";\n",
    "\n",
    "int return_code = g2config.deleteFeatureV2(config_handle, feature);\n",
    "\n",
    "if(return_code!=0)\n",
    "    System.out.print(g2config.getLastException());\n",
    "else\n",
    "    System.out.print(return_code);"
   ]
  },
  {
   "cell_type": "markdown",
   "metadata": {},
   "source": [
    "### addElementToFeatureV2\n",
    "Call G2Config's `addElementToFeatureV2()` method. Returns 0 on success"
   ]
  },
  {
   "cell_type": "code",
   "execution_count": null,
   "metadata": {},
   "outputs": [],
   "source": [
    "String elmnt = \"{\\\"FTYPE_CODE\\\":\\\"myNewFtype\\\", \\\"FELEM_CODE\\\":\\\"expression\\\",\\\"EXEC_ORDER\\\":4}\";\n",
    "\n",
    "int return_code = g2config.addElementToFeatureV2(config_handle, elmnt);\n",
    "\n",
    "if(return_code!=0)\n",
    "    System.out.print(g2config.getLastException());\n",
    "else\n",
    "    System.out.print(return_code);"
   ]
  },
  {
   "cell_type": "markdown",
   "metadata": {},
   "source": [
    "### deleteElementFromFeatureV2\n",
    "Call G2Config's `deleteElementFromFeatureV2()` method. Returns 0 on success"
   ]
  },
  {
   "cell_type": "code",
   "execution_count": null,
   "metadata": {},
   "outputs": [],
   "source": [
    "String elmnt = \"{\\\"FTYPE_CODE\\\":\\\"myNewFtype\\\", \\\"FELEM_CODE\\\":\\\"expression\\\"}\";\n",
    "\n",
    "int return_code = g2config.deleteElementFromFeatureV2(config_handle, elmnt);\n",
    "\n",
    "if(return_code!=0)\n",
    "    System.out.print(g2config.getLastException());\n",
    "else\n",
    "    System.out.print(return_code);"
   ]
  },
  {
   "cell_type": "markdown",
   "metadata": {},
   "source": [
    "### Standardization"
   ]
  },
  {
   "cell_type": "markdown",
   "metadata": {},
   "source": [
    "#### listFeatureStandardizationFunctionsV2\n",
    "Call G2Config's `listFeatureStandardizationFunctionsV2()` method and print results."
   ]
  },
  {
   "cell_type": "code",
   "execution_count": null,
   "metadata": {},
   "outputs": [],
   "source": [
    "StringBuffer response = new StringBuffer();\n",
    "\n",
    "int return_code = g2config.listFeatureStandardizationFunctionsV2(config_handle, response);\n",
    "\n",
    "if(return_code!=0)\n",
    "    System.out.print(g2config.getLastException());\n",
    "else\n",
    "    RenderJSON(response);"
   ]
  },
  {
   "cell_type": "markdown",
   "metadata": {},
   "source": [
    "#### listFeaturesStandardizationFunctionCallsV2\n",
    "Call G2Config's `listFeatureStandardizationFunctionCallsV2()` method and print results."
   ]
  },
  {
   "cell_type": "code",
   "execution_count": null,
   "metadata": {
    "scrolled": true
   },
   "outputs": [],
   "source": [
    "StringBuffer response = new StringBuffer();\n",
    "\n",
    "int return_code = g2config.listFeatureStandardizationFunctionCallsV2(config_handle, response);\n",
    "\n",
    "if(return_code!=0)\n",
    "    System.out.print(g2config.getLastException());\n",
    "else\n",
    "    RenderJSON(response);"
   ]
  },
  {
   "cell_type": "markdown",
   "metadata": {},
   "source": [
    "#### getFeatureStandardizationFunctionCallsV2\n",
    "Call G2Config's `getFeatureStandardizationFunctionCallV2()` method and print results."
   ]
  },
  {
   "cell_type": "code",
   "execution_count": null,
   "metadata": {},
   "outputs": [],
   "source": [
    "String featureStandard = \"{\\\"SFCALL_ID\\\":4}\";\n",
    "StringBuffer response = new StringBuffer();\n",
    "\n",
    "int return_code = g2config.getFeatureStandardizationFunctionCallV2(config_handle, featureStandard, response);\n",
    "\n",
    "if(return_code!=0)\n",
    "    System.out.print(g2config.getLastException());\n",
    "else\n",
    "    RenderJSON(response);"
   ]
  },
  {
   "cell_type": "markdown",
   "metadata": {},
   "source": [
    "#### addFeatureStandardizationFunctionCallsV2\n",
    "Call G2Config's `addFeatureStandardizationFunctionCallV2()` method and print results."
   ]
  },
  {
   "cell_type": "code",
   "execution_count": null,
   "metadata": {},
   "outputs": [],
   "source": [
    "String featureStandard = \"{\\\"FTYPE_CODE\\\":\\\"veh_vin\\\",\\\"SFCALL_ID\\\":789,\\\"SFUNC_CODE\\\":\\\"PARSE_ID\\\",\\\"EXEC_ORDER\\\":15}\";\n",
    "StringBuffer response = new StringBuffer();\n",
    "\n",
    "int return_code = g2config.addFeatureStandardizationFunctionCallV2(config_handle, featureStandard, response);\n",
    "\n",
    "if(return_code!=0)\n",
    "    System.out.print(g2config.getLastException());\n",
    "else\n",
    "    RenderJSON(response);"
   ]
  },
  {
   "cell_type": "markdown",
   "metadata": {},
   "source": [
    "#### deleteFeatureStandardizationFunctionCallV2\n",
    "Call G2Config's `deleteFeatureStandardizationFunctionCallV2()` method. Returns 0 on success"
   ]
  },
  {
   "cell_type": "code",
   "execution_count": null,
   "metadata": {},
   "outputs": [],
   "source": [
    "String featureStandard = \"{\\\"SFCALL_ID\\\":789}\";\n",
    "\n",
    "int return_code = g2config.deleteFeatureStandardizationFunctionCallV2(config_handle, featureStandard);\n",
    "\n",
    "if(return_code!=0)\n",
    "    System.out.print(g2config.getLastException());\n",
    "else\n",
    "    System.out.print(return_code);"
   ]
  },
  {
   "cell_type": "markdown",
   "metadata": {},
   "source": [
    "### Expression"
   ]
  },
  {
   "cell_type": "markdown",
   "metadata": {},
   "source": [
    "#### listFeatureExpressionFunctionsV2\n",
    "Call G2Config's `listFeatureExpressionFunctionsV2()` method and print results."
   ]
  },
  {
   "cell_type": "code",
   "execution_count": null,
   "metadata": {},
   "outputs": [],
   "source": [
    "StringBuffer response = new StringBuffer();\n",
    "\n",
    "int return_code = g2config.listFeatureExpressionFunctionsV2(config_handle, response);\n",
    "\n",
    "if(return_code!=0)\n",
    "    System.out.print(g2config.getLastException());\n",
    "else\n",
    "    RenderJSON(response);"
   ]
  },
  {
   "cell_type": "markdown",
   "metadata": {},
   "source": [
    "#### listFeatureExpressionFunctionCallsV2\n",
    "Call G2Config's `listFeatureExpressionFunctionCallsV2()` method and print results."
   ]
  },
  {
   "cell_type": "code",
   "execution_count": null,
   "metadata": {
    "scrolled": true
   },
   "outputs": [],
   "source": [
    "StringBuffer response = new StringBuffer();\n",
    "\n",
    "int return_code = g2config.listFeatureExpressionFunctionCallsV2(config_handle, response);\n",
    "\n",
    "if(return_code!=0)\n",
    "    System.out.print(g2config.getLastException());\n",
    "else\n",
    "    RenderJSON(response);"
   ]
  },
  {
   "cell_type": "markdown",
   "metadata": {},
   "source": [
    "#### getFeatureExpressionFunctionCallsV2\n",
    "Call G2Config's `getFeatureExpressionFunctionCallV2()` method and print results."
   ]
  },
  {
   "cell_type": "code",
   "execution_count": null,
   "metadata": {},
   "outputs": [],
   "source": [
    "String featureExpress = \"{\\\"EFCALL_ID\\\":1}\";\n",
    "StringBuffer response = new StringBuffer();\n",
    "\n",
    "int return_code = g2config.getFeatureExpressionFunctionCallV2(config_handle, featureExpress, response);\n",
    "\n",
    "if(return_code!=0)\n",
    "    System.out.print(g2config.getLastException());\n",
    "else\n",
    "    RenderJSON(response);"
   ]
  },
  {
   "cell_type": "markdown",
   "metadata": {},
   "source": [
    "#### addFeatureExpressionFunctionCallV2\n",
    "Call G2Config's `addFeatureExpressionFunctionCallV2()` method and print results."
   ]
  },
  {
   "cell_type": "code",
   "execution_count": null,
   "metadata": {},
   "outputs": [],
   "source": [
    "String featureExpress = \"{\\\"FTYPE_CODE\\\":\\\"veh_vin\\\",\\\"EFCALL_ID\\\":789,\\\"EFUNC_CODE\\\":\\\"EXPRESS_ID\\\",\\\"EXEC_ORDER\\\":15, \\\"BOM_ELEMENTS\\\":[{\\\"FTYPE_CODE\\\":\\\"veh_vin\\\",\\\"FELEM_CODE\\\":\\\"id_num\\\",\\\"REQUIRED\\\":\\\"Yes\\\"}]}\";\n",
    "StringBuffer response = new StringBuffer();\n",
    "\n",
    "int return_code = g2config.addFeatureExpressionFunctionCallV2(config_handle, featureExpress, response);\n",
    "\n",
    "if(return_code!=0)\n",
    "    System.out.print(g2config.getLastException());\n",
    "else\n",
    "    RenderJSON(response);"
   ]
  },
  {
   "cell_type": "markdown",
   "metadata": {},
   "source": [
    "#### addFeatureExpressionFunctionCallElementV2\n",
    "Call G2Config's `addFeatureExpressionFunctionCallElementV2()` method. Returns 0 on success."
   ]
  },
  {
   "cell_type": "code",
   "execution_count": null,
   "metadata": {},
   "outputs": [],
   "source": [
    "String featureExpressElm = \"{\\\"EFCALL_ID\\\":789, \\\"FTYPE_CODE\\\":\\\"address\\\",\\\"FELEM_CODE\\\":\\\"addr5\\\",\\\"REQUIRED\\\":\\\"Yes\\\"}\";\n",
    "\n",
    "int return_code = g2config.addFeatureExpressionFunctionCallElementV2(config_handle, featureExpressElm);\n",
    "\n",
    "if(return_code!=0)\n",
    "    System.out.print(g2config.getLastException());\n",
    "else\n",
    "    System.out.print(return_code);"
   ]
  },
  {
   "cell_type": "markdown",
   "metadata": {},
   "source": [
    "#### deleteFeatureExpressionFunctionCallElementV2\n",
    "Call G2Config's `deleteFeatureExpressionFunctionCallElementV2()` method. Returns 0 on success."
   ]
  },
  {
   "cell_type": "code",
   "execution_count": null,
   "metadata": {},
   "outputs": [],
   "source": [
    "String featureExpressElm = \"{\\\"EFCALL_ID\\\":789, \\\"FTYPE_CODE\\\":\\\"ADDRESS\\\",\\\"FELEM_CODE\\\":\\\"ADDR5\\\"}\";\n",
    "\n",
    "int return_code = g2config.deleteFeatureExpressionFunctionCallElementV2(config_handle, featureExpressElm);\n",
    "\n",
    "if(return_code!=0)\n",
    "    System.out.print(g2config.getLastException());\n",
    "else\n",
    "    System.out.print(return_code);"
   ]
  },
  {
   "cell_type": "markdown",
   "metadata": {},
   "source": [
    "#### deleteFeatureExpressionFunctionCallV2\n",
    "Call G2Config's `deleteFeatureExpressionFunctionCallV2()` method. Returns 0 on success"
   ]
  },
  {
   "cell_type": "code",
   "execution_count": null,
   "metadata": {},
   "outputs": [],
   "source": [
    "String featureExpressElm = \"{\\\"EFCALL_ID\\\":789}\";\n",
    "\n",
    "int return_code = g2config.deleteFeatureExpressionFunctionCallV2(config_handle, featureExpressElm);\n",
    "\n",
    "if(return_code!=0)\n",
    "    System.out.print(g2config.getLastException());\n",
    "else\n",
    "    System.out.print(return_code);"
   ]
  },
  {
   "cell_type": "markdown",
   "metadata": {},
   "source": [
    "### Comparison"
   ]
  },
  {
   "cell_type": "markdown",
   "metadata": {},
   "source": [
    "#### listFeatureComparisonFunctionsV2\n",
    "Call G2Config's `listFeatureComparisonFunctionsV2()` method and print results."
   ]
  },
  {
   "cell_type": "code",
   "execution_count": null,
   "metadata": {},
   "outputs": [],
   "source": [
    "StringBuffer response = new StringBuffer();\n",
    "\n",
    "int return_code = g2config.listFeatureComparisonFunctionsV2(config_handle, response);\n",
    "\n",
    "if(return_code!=0)\n",
    "    System.out.print(g2config.getLastException());\n",
    "else\n",
    "    RenderJSON(response);"
   ]
  },
  {
   "cell_type": "markdown",
   "metadata": {},
   "source": [
    "#### listFeatureComparisonFunctionCallsV2\n",
    "Call G2Config's `listFeatureComparisonFunctionCallsV2()` method and print results."
   ]
  },
  {
   "cell_type": "code",
   "execution_count": null,
   "metadata": {
    "scrolled": true
   },
   "outputs": [],
   "source": [
    "StringBuffer response = new StringBuffer();\n",
    "\n",
    "int return_code = g2config.listFeatureComparisonFunctionCallsV2(config_handle, response);\n",
    "\n",
    "if(return_code!=0)\n",
    "    System.out.print(g2config.getLastException());\n",
    "else\n",
    "    RenderJSON(response);"
   ]
  },
  {
   "cell_type": "markdown",
   "metadata": {},
   "source": [
    "#### getFeatureComparisonFunctionCallV2\n",
    "Call G2Config's `getFeatureComparisonFunctionCallV2()` method and print results."
   ]
  },
  {
   "cell_type": "code",
   "execution_count": null,
   "metadata": {},
   "outputs": [],
   "source": [
    "String featureCompFunc = \"{\\\"CFCALL_ID\\\":2}\";\n",
    "StringBuffer response = new StringBuffer();\n",
    "\n",
    "int return_code = g2config.getFeatureComparisonFunctionCallV2(config_handle, featureCompFunc, response);\n",
    "\n",
    "if(return_code!=0)\n",
    "    System.out.print(g2config.getLastException());\n",
    "else\n",
    "    RenderJSON(response);"
   ]
  },
  {
   "cell_type": "markdown",
   "metadata": {},
   "source": [
    "#### addFeatureComparisonFunctionCallV2\n",
    "Call G2Config's `addFeatureComparisonFunctionCallV2()` method and print results."
   ]
  },
  {
   "cell_type": "code",
   "execution_count": null,
   "metadata": {},
   "outputs": [],
   "source": [
    "String featureCompFunc = \"{\\\"FTYPE_CODE\\\":\\\"name_key\\\",\\\"CFCALL_ID\\\":789,\\\"CFUNC_CODE\\\":\\\"ID_COMP\\\",\\\"EXEC_ORDER\\\":15, \\\"BOM_ELEMENTS\\\":[{\\\"FELEM_CODE\\\":\\\"expression\\\"}]}\";\n",
    "StringBuffer response = new StringBuffer();\n",
    "\n",
    "int return_code = g2config.addFeatureComparisonFunctionCallV2(config_handle, featureCompFunc, response);\n",
    "\n",
    "\n",
    "if(return_code!=0)\n",
    "    System.out.print(g2config.getLastException());\n",
    "else\n",
    "    RenderJSON(response);"
   ]
  },
  {
   "cell_type": "markdown",
   "metadata": {},
   "source": [
    "#### deleteFeatureComparisonFunctionCallV2\n",
    "Call G2Config's `deleteFeatureComparisonFunctionCallV2()` method. Returns 0 on success."
   ]
  },
  {
   "cell_type": "code",
   "execution_count": null,
   "metadata": {},
   "outputs": [],
   "source": [
    "String featureComp = \"{\\\"CFCALL_ID\\\":789}\";\n",
    "\n",
    "int return_code = g2config.deleteFeatureComparisonFunctionCallV2(config_handle, featureComp);\n",
    "\n",
    "if(return_code!=0)\n",
    "    System.out.print(g2config.getLastException());\n",
    "else\n",
    "    System.out.print(return_code);"
   ]
  },
  {
   "cell_type": "markdown",
   "metadata": {},
   "source": [
    "#### addFeatureComparisonFunctionCallElementV2\n",
    "Call G2Config's `addFeatureComparisonFunctionCallElementV2()` method. Returns 0 on success"
   ]
  },
  {
   "cell_type": "code",
   "execution_count": null,
   "metadata": {},
   "outputs": [],
   "source": [
    "String featureCompElm = \"{\\\"CFCALL_ID\\\":5, \\\"FELEM_CODE\\\":\\\"addr6\\\"}\";\n",
    "\n",
    "int return_code = g2config.addFeatureComparisonFunctionCallElementV2(config_handle, featureCompElm);\n",
    "\n",
    "if(return_code!=0)\n",
    "    System.out.print(g2config.getLastException());\n",
    "else\n",
    "    System.out.print(return_code);"
   ]
  },
  {
   "cell_type": "markdown",
   "metadata": {},
   "source": [
    "#### deleteFeatureComparisonFunctionCallElementV2\n",
    "Call G2Config's `deleteFeatureComparisonFunctionCallElementV2()` method. Returns 0 on success."
   ]
  },
  {
   "cell_type": "code",
   "execution_count": null,
   "metadata": {},
   "outputs": [],
   "source": [
    "String featureCompElm = \"{\\\"CFCALL_ID\\\":5, \\\"FELEM_CODE\\\":\\\"ADDR4\\\"}\";\n",
    "\n",
    "int return_code = g2config.deleteFeatureComparisonFunctionCallElementV2(config_handle, featureCompElm);\n",
    "\n",
    "if(return_code!=0)\n",
    "    System.out.print(g2config.getLastException());\n",
    "else\n",
    "    System.out.print(return_code);"
   ]
  },
  {
   "cell_type": "markdown",
   "metadata": {},
   "source": [
    "### Distinct"
   ]
  },
  {
   "cell_type": "markdown",
   "metadata": {},
   "source": [
    "#### listFeatureDistinctFunctionsV2\n",
    "Call G2Config's `listFeatureDistinctFunctionV2()` method and print results."
   ]
  },
  {
   "cell_type": "code",
   "execution_count": null,
   "metadata": {},
   "outputs": [],
   "source": [
    "StringBuffer response = new StringBuffer();\n",
    "\n",
    "int return_code = g2config.listFeatureDistinctFunctionsV2(config_handle, response);\n",
    "\n",
    "if(return_code!=0)\n",
    "    System.out.print(g2config.getLastException());\n",
    "else\n",
    "    RenderJSON(response);"
   ]
  },
  {
   "cell_type": "markdown",
   "metadata": {},
   "source": [
    "#### listFeatureDistinctFunctionsV2\n",
    "Call G2config's `listFeatureDistinctFunctionCallsV2()` method and print results"
   ]
  },
  {
   "cell_type": "code",
   "execution_count": null,
   "metadata": {},
   "outputs": [],
   "source": [
    "StringBuffer response = new StringBuffer();\n",
    "\n",
    "int return_code = g2config.listFeatureDistinctFunctionsV2(config_handle, response);\n",
    "\n",
    "if(return_code!=0)\n",
    "    System.out.print(g2config.getLastException());\n",
    "else\n",
    "    RenderJSON(response);"
   ]
  },
  {
   "cell_type": "markdown",
   "metadata": {},
   "source": [
    "#### getFeatureDistinctFunctionCallV2\n",
    "Call G2Config's `getFeatureDistinctFunctionCallV2()` method and print results."
   ]
  },
  {
   "cell_type": "code",
   "execution_count": null,
   "metadata": {},
   "outputs": [],
   "source": [
    "String featureFunc = \"{\\\"DFCALL_ID\\\":2}\";\n",
    "StringBuffer response = new StringBuffer();\n",
    "\n",
    "int return_code = g2config.getFeatureDistinctFunctionCallV2(config_handle, featureFunc, response);\n",
    "\n",
    "if(return_code!=0)\n",
    "    System.out.print(g2config.getLastException());\n",
    "else\n",
    "    RenderJSON(response);"
   ]
  },
  {
   "cell_type": "markdown",
   "metadata": {},
   "source": [
    "#### addFeatureDistinctFunctionCallV2\n",
    "Call G2Config's `addFeatureDistinctFunctionCallV2()` method and print results."
   ]
  },
  {
   "cell_type": "code",
   "execution_count": null,
   "metadata": {},
   "outputs": [],
   "source": [
    "String featureFunc = \"{\\\"FTYPE_CODE\\\":\\\"name_key\\\",\\\"DFCALL_ID\\\":789,\\\"DFUNC_CODE\\\":\\\"FELEM_STRICT_SUBSET\\\",\\\"EXEC_ORDER\\\":15, \\\"BOM_ELEMENTS\\\":[{\\\"FELEM_CODE\\\":\\\"expression\\\"}]}\";\n",
    "StringBuffer response = new StringBuffer();\n",
    "\n",
    "int return_code = g2config.addFeatureDistinctFunctionCallV2(config_handle, featureFunc, response);\n",
    "\n",
    "if(return_code!=0)\n",
    "    System.out.print(g2config.getLastException());\n",
    "else\n",
    "    RenderJSON(response);"
   ]
  },
  {
   "cell_type": "markdown",
   "metadata": {},
   "source": [
    "#### deleteFeatureDistinctFunctionCallV2\n",
    "Call G2Config's `deleteFeatureDistinctFunctionCallV2()` method. Returns 0 on success"
   ]
  },
  {
   "cell_type": "code",
   "execution_count": null,
   "metadata": {},
   "outputs": [],
   "source": [
    "String featureFunc = \"{\\\"DFCALL_ID\\\":1002}\";\n",
    "\n",
    "int return_code = g2config.deleteFeatureDistinctFunctionCallV2(config_handle, featureFunc);\n",
    "\n",
    "if(return_code!=0)\n",
    "    System.out.print(g2config.getLastException());\n",
    "else\n",
    "    System.out.print(return_code);"
   ]
  },
  {
   "cell_type": "markdown",
   "metadata": {},
   "source": [
    "#### addFeatureDistinctFunctionCallElementV2\n",
    "Call G2Config's `addFeatureDistinctFunctionCallElementV2()` method. Returns 0 on success"
   ]
  },
  {
   "cell_type": "code",
   "execution_count": null,
   "metadata": {},
   "outputs": [],
   "source": [
    "String featureElmt = \"{\\\"DFCALL_ID\\\":5, \\\"FELEM_CODE\\\":\\\"addr6\\\"}\";\n",
    "\n",
    "int return_code = g2config.addFeatureDistinctFunctionCallElementV2(config_handle, featureElmt);\n",
    "\n",
    "if(return_code!=0)\n",
    "    System.out.print(g2config.getLastException());\n",
    "else\n",
    "    System.out.print(return_code);"
   ]
  },
  {
   "cell_type": "markdown",
   "metadata": {},
   "source": [
    "#### deleteFeatureDistinctFunctionCallElementV2\n",
    "Call G2Config's `deleteFeatureDistrinctFunctionCallElementV2()` method. Returns 0 on success"
   ]
  },
  {
   "cell_type": "code",
   "execution_count": null,
   "metadata": {},
   "outputs": [],
   "source": [
    "String featureElmt = \"{\\\"DFCALL_ID\\\":5, \\\"FELEM_CODE\\\":\\\"ADDR4\\\"}\";\n",
    "\n",
    "int return_code = g2config.deleteFeatureDistinctFunctionCallElementV2(config_handle, featureElmt);\n",
    "\n",
    "if(return_code!=0)\n",
    "    System.out.print(g2config.getLastException());\n",
    "else\n",
    "    System.out.print(return_code);"
   ]
  },
  {
   "cell_type": "markdown",
   "metadata": {},
   "source": [
    "## Attributes"
   ]
  },
  {
   "cell_type": "markdown",
   "metadata": {},
   "source": [
    "### listAttributeClassesV2\n",
    "Call G2Config's `listAttributeClassesV2()` method and print results."
   ]
  },
  {
   "cell_type": "code",
   "execution_count": null,
   "metadata": {},
   "outputs": [],
   "source": [
    "StringBuffer response = new StringBuffer();\n",
    "\n",
    "int return_code = g2config.listAttributeClassesV2(config_handle, response);\n",
    "\n",
    "if(return_code!=0)\n",
    "    System.out.print(g2config.getLastException());\n",
    "else\n",
    "    RenderJSON(response);"
   ]
  },
  {
   "cell_type": "markdown",
   "metadata": {},
   "source": [
    "### listAttributesV2\n",
    "Call G2Config's `listAttributesV2()` method and print results"
   ]
  },
  {
   "cell_type": "code",
   "execution_count": null,
   "metadata": {
    "scrolled": true
   },
   "outputs": [],
   "source": [
    "StringBuffer response = new StringBuffer();\n",
    "\n",
    "int return_code = g2config.listAttributesV2(config_handle, response);\n",
    "\n",
    "if(return_code!=0)\n",
    "    System.out.print(g2config.getLastException());\n",
    "else\n",
    "    RenderJSON(response);"
   ]
  },
  {
   "cell_type": "markdown",
   "metadata": {},
   "source": [
    "### getAttributeV2\n",
    "Call G2Config's `getAttributeV2()` method and print results."
   ]
  },
  {
   "cell_type": "code",
   "execution_count": null,
   "metadata": {},
   "outputs": [],
   "source": [
    "String attr = \"{\\\"ATTR_CODE\\\":\\\"DATA_SOURCE\\\"}\";\n",
    "StringBuffer response = new StringBuffer();\n",
    "\n",
    "int return_code = g2config.getAttributeV2(config_handle, attr, response);\n",
    "\n",
    "if(return_code!=0)\n",
    "    System.out.print(g2config.getLastException());\n",
    "else\n",
    "    RenderJSON(response);"
   ]
  },
  {
   "cell_type": "markdown",
   "metadata": {},
   "source": [
    "### addAttributeV2\n",
    "Call G2Config's `addAttributeV2()` method and print results."
   ]
  },
  {
   "cell_type": "code",
   "execution_count": null,
   "metadata": {},
   "outputs": [],
   "source": [
    "String attr = \"{\\\"ATTR_CODE\\\":\\\"myNewAttr\\\",\\\"ATTR_ID\\\":789,\\\"ATTR_CLASS\\\":\\\"attribute\\\",\\\"FTYPE_CODE\\\":\\\"name_key\\\",\\\"FELEM_CODE\\\":\\\"latitude\\\",\\\"FELEM_REQ\\\":\\\"myReqValue\\\",\\\"DEFAULT_VALUE\\\":\\\"myDefault\\\",\\\"ADVANCED\\\":\\\"Y\\\",\\\"INTERNAL\\\":1}\";\n",
    "StringBuffer response = new StringBuffer();\n",
    "\n",
    "int return_code = g2config.addAttributeV2(config_handle, attr, response);\n",
    "\n",
    "if(return_code!=0)\n",
    "    System.out.print(g2config.getLastException());\n",
    "else\n",
    "    RenderJSON(response);"
   ]
  },
  {
   "cell_type": "markdown",
   "metadata": {},
   "source": [
    "### deleteAttributeV2\n",
    "Call G2Config's `deleteAttributeV2()` method. Returns 0 on success"
   ]
  },
  {
   "cell_type": "code",
   "execution_count": null,
   "metadata": {},
   "outputs": [],
   "source": [
    "String attr = \"{\\\"ATTR_CODE\\\":\\\"NAME_FIRST\\\"}\";\n",
    "\n",
    "int return_code = g2config.deleteAttributeV2(config_handle, attr);\n",
    "\n",
    "if(return_code!=0)\n",
    "    System.out.print(g2config.getLastException());\n",
    "else\n",
    "    RenderJSON(response);"
   ]
  },
  {
   "cell_type": "markdown",
   "metadata": {},
   "source": [
    "## Cleanup"
   ]
  },
  {
   "cell_type": "markdown",
   "metadata": {},
   "source": [
    "### getLastException"
   ]
  },
  {
   "cell_type": "code",
   "execution_count": null,
   "metadata": {
    "scrolled": false
   },
   "outputs": [],
   "source": [
    "System.out.print(g2config.getLastException());"
   ]
  },
  {
   "cell_type": "markdown",
   "metadata": {},
   "source": [
    "### clearLastException"
   ]
  },
  {
   "cell_type": "code",
   "execution_count": null,
   "metadata": {
    "scrolled": false
   },
   "outputs": [],
   "source": [
    "g2config.clearLastException();"
   ]
  },
  {
   "cell_type": "markdown",
   "metadata": {},
   "source": [
    "### close"
   ]
  },
  {
   "cell_type": "code",
   "execution_count": null,
   "metadata": {},
   "outputs": [],
   "source": [
    "g2config.close(config_handle);"
   ]
  },
  {
   "cell_type": "markdown",
   "metadata": {},
   "source": [
    "### destroy"
   ]
  },
  {
   "cell_type": "code",
   "execution_count": null,
   "metadata": {},
   "outputs": [],
   "source": [
    "int return_code = g2config.destroy();\n",
    "\n",
    "if(return_code!=0)\n",
    "    System.out.print(g2config.getLastException());"
   ]
  }
 ],
 "metadata": {
  "kernelspec": {
   "display_name": "Java",
   "language": "java",
   "name": "java"
  },
  "language_info": {
   "codemirror_mode": "java",
   "file_extension": ".jshell",
   "mimetype": "text/x-java-source",
   "name": "Java",
   "pygments_lexer": "java",
   "version": "11.0.11+9-Ubuntu-0ubuntu2.18.04"
  },
  "toc": {
   "base_numbering": 1,
   "nav_menu": {},
   "number_sections": true,
   "sideBar": true,
   "skip_h1_title": true,
   "title_cell": "Table of Contents",
   "title_sidebar": "Contents",
   "toc_cell": false,
   "toc_position": {},
   "toc_section_display": true,
   "toc_window_display": true
  }
 },
 "nbformat": 4,
 "nbformat_minor": 4
}
