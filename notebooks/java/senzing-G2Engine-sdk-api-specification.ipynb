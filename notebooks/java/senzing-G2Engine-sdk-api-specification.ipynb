{
 "cells": [
  {
   "cell_type": "markdown",
   "metadata": {},
   "source": [
    "# G2Engine Reference"
   ]
  },
  {
   "cell_type": "markdown",
   "metadata": {},
   "source": [
    "## Prepare Environment"
   ]
  },
  {
   "cell_type": "code",
   "execution_count": null,
   "metadata": {},
   "outputs": [],
   "source": [
    "import com.senzing.g2.engine.G2Engine;\n",
    "import com.senzing.g2.engine.G2JNI;\n",
    "import com.senzing.g2.engine.Result;"
   ]
  },
  {
   "cell_type": "markdown",
   "metadata": {},
   "source": [
    "### Helper class for Json Rendering"
   ]
  },
  {
   "cell_type": "code",
   "execution_count": null,
   "metadata": {},
   "outputs": [],
   "source": [
    "%%loadFromPOM\n",
    "<dependency>\n",
    "    <groupId>org.glassfish</groupId>\n",
    "    <artifactId>javax.json</artifactId>\n",
    "    <version>1.1.4</version>\n",
    "</dependency>"
   ]
  },
  {
   "cell_type": "code",
   "execution_count": null,
   "metadata": {},
   "outputs": [],
   "source": [
    "import javax.json.*;\n",
    "import static java.util.Collections.*;\n",
    "import static javax.json.stream.JsonGenerator.PRETTY_PRINTING;"
   ]
  },
  {
   "cell_type": "code",
   "execution_count": null,
   "metadata": {},
   "outputs": [],
   "source": [
    "public class JsonUtil {\n",
    "    private static final JsonWriterFactory PRETTY_FACTORY\n",
    "        = Json.createWriterFactory(singletonMap(PRETTY_PRINTING, true));\n",
    "        \n",
    "    private static final JsonWriterFactory UGLY_FACTORY\n",
    "        = Json.createWriterFactory(emptyMap());\n",
    "    \n",
    "    public static String toJsonText(JsonValue val) {\n",
    "        return toJsonText(val, true);\n",
    "    }\n",
    "\n",
    "    public static String toJsonText(JsonValue val, boolean prettyPrint) {\n",
    "        JsonWriterFactory factory = (prettyPrint) ? PRETTY_FACTORY : UGLY_FACTORY;\n",
    "        StringWriter sw = new StringWriter();\n",
    "        JsonWriter writer = factory.createWriter(sw);\n",
    "        writer.write(val);\n",
    "        sw.flush();\n",
    "        return sw.toString();\n",
    "    }\n",
    "    \n",
    "    public static JsonObject parseJsonObject(String jsonText) {\n",
    "        if (jsonText == null) return null;\n",
    "        StringReader sr = new StringReader(jsonText);\n",
    "        JsonReader jsonReader = Json.createReader(sr);\n",
    "        return jsonReader.readObject();\n",
    "  }\n",
    "\n",
    "    public static JsonArray parseJsonArray(String jsonText) {\n",
    "        if (jsonText == null) return null;\n",
    "        StringReader sr = new StringReader(jsonText);\n",
    "        JsonReader jsonReader = Json.createReader(sr);\n",
    "        return jsonReader.readArray();\n",
    "  }\n",
    "    \n",
    "    \n",
    "}"
   ]
  },
  {
   "cell_type": "code",
   "execution_count": null,
   "metadata": {},
   "outputs": [],
   "source": [
    "import java.util.UUID;\n",
    "public static void RenderJSON(Object obj){\n",
    "    String str = obj.toString();\n",
    "    JsonObject json = JsonUtil.parseJsonObject(str);\n",
    "    String Config = JsonUtil.toJsonText(json, false);\n",
    "    UUID id = UUID.randomUUID();\n",
    "    String uuid = id.toString();\n",
    "    String div = \"<div id=\\\"\"+ uuid +\"\\\" style=\\\"height:100%; width:100%; background-color: LightCyan\\\"></div>\";\n",
    "    display(div, \"text/html\");\n",
    "    String jav = \"require([\\\"https://rawgit.com/caldwell/renderjson/master/renderjson.js\\\"], function() {document.getElementById(\\'\"+ uuid +\"\\').appendChild(renderjson(\"+json+\"))});\";\n",
    "    display(jav, \"application/javascript\");\n",
    "}"
   ]
  },
  {
   "cell_type": "markdown",
   "metadata": {},
   "source": [
    "### Initialize Senzing configuration\n",
    "\n",
    "Using environment variables and default values, create `senzingConfigJson`.\n",
    "This value is used when instantiating Senzing objects."
   ]
  },
  {
   "cell_type": "code",
   "execution_count": null,
   "metadata": {
    "scrolled": true
   },
   "outputs": [],
   "source": [
    "// Get variables used in constructing Senzing Engine configuration.\n",
    "\n",
    "String configPath = System.getenv(\"SENZING_ETC_DIR\");\n",
    "if (configPath == null) {\n",
    "    configPath = \"/etc/opt/senzing\";\n",
    "}\n",
    "\n",
    "String supportPath = System.getenv(\"SENZING_DATA_VERSION_DIR\");\n",
    "if (supportPath == null) {\n",
    "    supportPath = \"/opt/senzing/data\";\n",
    "}\n",
    "\n",
    "String g2Path = System.getenv(\"SENZING_G2_DIR\");\n",
    "if (g2Path == null) {\n",
    "    g2Path = \"/opt/senzing/g2\";\n",
    "}\n",
    "\n",
    "String resourcePath = g2Path + \"/resources\";\n",
    "\n",
    "String sqlConnection = System.getenv(\"SENZING_SQL_CONNECTION\");\n",
    "if (sqlConnection == null) {\n",
    "    sqlConnection = \"sqlite3://na:na@/var/opt/senzing/sqlite/G2C.db\";\n",
    "}\n",
    "\n",
    "// Construct the JSON string used for Senzing Engine configuration.\n",
    "\n",
    "String senzingConfigJson = \"{\"\n",
    "   + \"\\\"PIPELINE\\\": {\"\n",
    "   +     \"\\\"CONFIGPATH\\\": \\\"\" + configPath + \"\\\",\"\n",
    "   +     \"\\\"SUPPORTPATH\\\": \\\"\" + supportPath + \"\\\",\"\n",
    "   +     \"\\\"RESOURCEPATH\\\": \\\"\" + resourcePath + \"\\\"\"\n",
    "   + \"},\"\n",
    "   + \"\\\"SQL\\\": {\"\n",
    "   +     \"\\\"CONNECTION\\\": \\\"\" + sqlConnection + \"\\\"\"\n",
    "   + \"}}\";\n",
    "\n",
    "RenderJSON(senzingConfigJson);"
   ]
  },
  {
   "cell_type": "markdown",
   "metadata": {},
   "source": [
    "## G2Engine\n",
    "\n",
    "To start using Senzing G2Engine, create and initialize an instance.\n",
    "This should be done once per process.\n",
    "The `initV2()` method accepts the following parameters:\n",
    "\n",
    "- **moduleName:** A short name given to this instance of the G2Engine\n",
    "  object.\n",
    "- **senzingConfigJson:** A JSON string containing configuration parameters.\n",
    "- **verbosLogging:** A boolean which enables diagnostic logging.\n",
    "- **configId:** (optional) The identifier value for the engine configuration\n",
    "  can be returned here.\n",
    "\n",
    "Calling this function will return \"0\" upon success."
   ]
  },
  {
   "cell_type": "code",
   "execution_count": null,
   "metadata": {},
   "outputs": [],
   "source": [
    "G2Engine g2engine = new G2JNI();\n",
    "\n",
    "String moduleName = \"ExampleG2Engine\";\n",
    "boolean verboseLogging = true;\n",
    "int return_code = g2engine.initV2(moduleName, senzingConfigJson, verboseLogging);\n",
    "System.out.print(return_code);"
   ]
  },
  {
   "cell_type": "markdown",
   "metadata": {},
   "source": [
    "### initWithConfigIDV2\n",
    "\n",
    "Alternatively `initWithConfigIDV2()` can be used to specify a configuration."
   ]
  },
  {
   "cell_type": "markdown",
   "metadata": {},
   "source": [
    "### reinitV2\n",
    "\n",
    "The `reinitV2()` function may be used to reinitialize the engine with a configuration"
   ]
  },
  {
   "cell_type": "markdown",
   "metadata": {},
   "source": [
    "### primeEngine\n",
    "\n",
    "The `primeEngine()` method may optionally be called to pre-initialize some of the heavier weight internal resources of the G2 engine."
   ]
  },
  {
   "cell_type": "code",
   "execution_count": null,
   "metadata": {},
   "outputs": [],
   "source": [
    "int return_code= g2engine.primeEngine();\n",
    "if(return_code!=0)\n",
    "    System.out.print(g2engine.getLastException());\n",
    "System.out.print(return_code)"
   ]
  },
  {
   "cell_type": "markdown",
   "metadata": {},
   "source": [
    "### getActiveConfigID\n",
    "\n",
    "Call `getActiveConfigID()` to return an identifier for the loaded\n",
    "Senzing engine configuration.\n",
    "The call will assign a long integer to a user-designated variable\n",
    "-- the function itself will return \"0\" upon success.\n",
    "The `getActiveConfigID()` method accepts one parameter as input:\n",
    "\n",
    "- **configID:** The identifier value for the engine configuration.\n",
    "  The result of function call is returned here"
   ]
  },
  {
   "cell_type": "code",
   "execution_count": null,
   "metadata": {},
   "outputs": [],
   "source": [
    "Result<Long> configID = new Result<Long>();\n",
    "g2engine.getActiveConfigID(configID);\n",
    "\n",
    "System.out.print(configID.getValue());"
   ]
  },
  {
   "cell_type": "markdown",
   "metadata": {},
   "source": [
    "### exportConfig\n",
    "\n",
    "Call `exportConfig()` to retrieve your Senzing engine's configuration.\n",
    "The call will assign a JSON document to a user-designated buffer,\n",
    "containing all relevant configuration information\n",
    "-- the function itself will return \"0\" upon success.\n",
    "The exportConfig function accepts the following parameters as input:\n",
    "\n",
    "- **response:** The memory buffer to retrieve the JSON\n",
    "  configuration document\n",
    "- **configID:** The identifier value for the engine configuration\n",
    "  can be returned here."
   ]
  },
  {
   "cell_type": "code",
   "execution_count": null,
   "metadata": {},
   "outputs": [],
   "source": [
    "StringBuffer response = new StringBuffer();\n",
    "\n",
    "g2engine.exportConfig(response, configID);\n",
    "System.out.print(\"Config ID: \"+configID.getValue());"
   ]
  },
  {
   "cell_type": "markdown",
   "metadata": {},
   "source": [
    "### stats\n",
    "\n",
    "Call `stats()` to retrieve workload statistics for the current process.\n",
    "These statistics will automatically reset after retrieval.\n",
    "\n",
    "- **response:** A memory buffer for returning the response\n",
    "  document.  If an error occurred, an error response is stored here."
   ]
  },
  {
   "cell_type": "code",
   "execution_count": null,
   "metadata": {
    "scrolled": true
   },
   "outputs": [],
   "source": [
    "String response = g2engine.stats();\n",
    "RenderJSON(response);"
   ]
  },
  {
   "cell_type": "markdown",
   "metadata": {},
   "source": [
    "### getRepositoryLastModifiedTime\n",
    "\n",
    "Call `getRepositoryLastModifiedTime()` to obtain the last modified time of\n",
    "the Senzing repository, measured in the number of seconds between the last\n",
    "modified time and January 1, 1970 12:00am GMT (epoch time).\n",
    "The call will assign a long integer to a user-designated buffer\n",
    "-- the function itself will return \"0\" upon success.\n",
    "The getRepositoryLastModifiedTime() method accepts one parameter as input:\n",
    "\n",
    "- **lastModifiedTime:** The last modified time. The result of function\n",
    "  call is returned here\n"
   ]
  },
  {
   "cell_type": "code",
   "execution_count": null,
   "metadata": {},
   "outputs": [],
   "source": [
    "Result<Long> lastModifiedTime = new Result<Long>();\n",
    "\n",
    "g2engine.getRepositoryLastModifiedTime(lastModifiedTime);\n",
    "\n",
    "System.out.print(lastModifiedTime.getValue());"
   ]
  },
  {
   "cell_type": "markdown",
   "metadata": {},
   "source": [
    "## Insert"
   ]
  },
  {
   "cell_type": "markdown",
   "metadata": {},
   "source": [
    "### addRecord\n",
    "\n",
    "Once the Senzing engine is initialized, use addRecord() to load a record into the Senzing repository -- addRecord() can be called as many times as desired and from multiple threads at the same time. The addRecord() function returns \"0\" upon success, and accepts four parameters as input:\n",
    "\n",
    "- **dataSourceCode:** The name of the data source the record is associated with. This value is configurable to the system\n",
    "- **recordID:** The record ID, used to identify distinct records\n",
    "- **jsonData:** A JSON document with the attribute data for the record\n",
    "- **loadID:** The observation load ID for the record; value can be null and will default to data_source\n",
    "- **responseBuffer:** A memory buffer for returning the response\n",
    "  document.  If an error occurred, an error response is stored here."
   ]
  },
  {
   "cell_type": "code",
   "execution_count": null,
   "metadata": {},
   "outputs": [],
   "source": [
    "String dataSourceCode = \"TEST\";\n",
    "String recordID = \"1\";\n",
    "String jsonData =  \"{\\\"NAME_TYPE\\\": \\\"PRIMARY\\\", \\\"NAME_FIRST\\\": \\\"JANE\\\", \\\"NAME_LAST\\\": \\\"SMITH\\\", \\\"ADDR_TYPE\\\": \\\"HOME\\\", \\\"ADDR_LINE1\\\": \\\"653 STATE ROUTE 7\\\", \\\"ADDR_CITY\\\": \\\"FRESNO\\\", \\\"ADDR_STATE\\\": \\\"CA\\\", \\\"ADDR_POSTAL_CODE\\\": \\\"55073-1234\\\"}\";\n",
    "String loadID = null;\n",
    "\n",
    "/** addRecord */\n",
    "int return_code= g2engine.addRecord(dataSourceCode, recordID, jsonData, loadID);\n",
    "\n",
    "/** addRecordWithReturnedRecordID */\n",
    "StringBuffer recordID2 = new StringBuffer();\n",
    "int ret2 = g2engine.addRecordWithReturnedRecordID(dataSourceCode, recordID2, jsonData, loadID);\n",
    "\n",
    "System.out.print(\"New Record ID: \" + recordID2.toString());\n",
    "\n",
    "/** addRecordWithInfo */\n",
    "StringBuffer responseBuffer = new StringBuffer();\n",
    "int flags = 0;\n",
    "int ret3 = g2engine.addRecordWithInfo(dataSourceCode, recordID, jsonData, loadID, flags, responseBuffer);\n",
    "\n",
    "RenderJSON(responseBuffer.toString());"
   ]
  },
  {
   "cell_type": "code",
   "execution_count": null,
   "metadata": {},
   "outputs": [],
   "source": [
    "String dataSourceCode = \"TEST\";\n",
    "String recordID = \"1\";\n",
    "StringBuffer response = new StringBuffer();\n",
    "g2engine.getEntityByRecordIDV2(dataSourceCode, recordID, flags, response);\n",
    "JsonObject jsonObject = JsonUtil.parseJsonObject(response.toString());\n",
    "long entityID1 = jsonObject.getJsonObject(\"RESOLVED_ENTITY\").getJsonNumber(\"ENTITY_ID\").longValue();"
   ]
  },
  {
   "cell_type": "markdown",
   "metadata": {},
   "source": [
    "## Search"
   ]
  },
  {
   "cell_type": "markdown",
   "metadata": {},
   "source": [
    "### Record search"
   ]
  },
  {
   "cell_type": "markdown",
   "metadata": {},
   "source": [
    "#### getRecordV2\n",
    "\n",
    "Use `getRecord()` to retrieve a single record from the data repository; the record is assigned in JSON form to a user-designated buffer, and the function itself returns \"0\" upon success. Once the Senzing engine is initialized, `getRecord()` can be called as many times as desired and from multiple threads at the same time. The `getRecord()` function accepts the following parameters as input:\n",
    "\n",
    "- **data_source:** The name of the data source the record is associated with. This value is configurable to the system\n",
    "- **record_id:** The record ID, used to identify the record for retrieval\n",
    "- **response:** A memory buffer for returning the response document; if an error occurred, an error response is stored here"
   ]
  },
  {
   "cell_type": "code",
   "execution_count": null,
   "metadata": {},
   "outputs": [],
   "source": [
    "int flags = 0;\n",
    "String dataSourceCode = \"TEST\";\n",
    "String recordID = \"1\";\n",
    "StringBuffer response = new StringBuffer();\n",
    "int return_code= g2engine.getRecordV2(dataSourceCode, recordID, flags, response);\n",
    "\n",
    "if(return_code!=0)\n",
    "    System.out.print(g2engine.getLastException());\n",
    "else\n",
    "    RenderJSON(response)"
   ]
  },
  {
   "cell_type": "markdown",
   "metadata": {},
   "source": [
    "### Entity search"
   ]
  },
  {
   "cell_type": "markdown",
   "metadata": {},
   "source": [
    "#### getEntityByRecordIDV2\n",
    "\n",
    "Use `getEntityByRecordIDV2()` to retrieve entity data based on the record ID of a particular data record. This function accepts the following parameters as input:\n",
    "\n",
    "- **dataSourceCode:** The name of the data source the record is associated with. This value is configurable to the system\n",
    "- **recordID:** The record ID for a particular data record\n",
    "- **flags:** Control flags for specifying what data about the\n",
    "  entity to retrieve.\n",
    "- **response:** A memory buffer for returning the response document; if an error occurred, an error response is stored here."
   ]
  },
  {
   "cell_type": "code",
   "execution_count": null,
   "metadata": {
    "scrolled": true
   },
   "outputs": [],
   "source": [
    "String dataSourceCode = \"TEST\";\n",
    "String recordID = \"1\";\n",
    "\n",
    "StringBuffer response = new StringBuffer();\n",
    "\n",
    "int return_code = g2engine.getEntityByRecordIDV2(dataSourceCode, recordID, flags, response);\n",
    "int start = response.indexOf(\"\\\"ENTITY_ID\\\":\")+12;\n",
    "int end = response.indexOf(\",\");\n",
    "long entityID=Integer.parseInt(response.substring(start, end));\n",
    "if(return_code!=0)\n",
    "    RenderJSON(g2engine.getLastException());\n",
    "else\n",
    "    RenderJSON(response);"
   ]
  },
  {
   "cell_type": "markdown",
   "metadata": {},
   "source": [
    "#### getEntityByEntityIDV2\n",
    "\n",
    "Entity searching is a key component for interactive use of Entity Resolution\n",
    "intelligence.\n",
    "The core Senzing engine provides real-time search capabilities that are\n",
    "easily accessed via the Senzing API.\n",
    "Senzing offers methods for entity searching, all of which can be called as\n",
    "many times\n",
    "as desired and from multiple threads at the same time (and all of which\n",
    "return \"0\" upon success).\n",
    "\n",
    "Use `getEntityByEntityIDV2()` to retrieve entity data based on the ID of a\n",
    "resolved identity.\n",
    "This function accepts the following parameters as input:\n",
    "\n",
    "- **entityID:** The numeric ID of a resolved entity\n",
    "- **flags:** Control flags for specifying what data about the\n",
    "  entity to retrieve.\n",
    "- **response:** A memory buffer for returning the response\n",
    "  document; if an error occurred, an error response is stored here."
   ]
  },
  {
   "cell_type": "code",
   "execution_count": null,
   "metadata": {
    "scrolled": true
   },
   "outputs": [],
   "source": [
    "response = new StringBuffer();\n",
    "\n",
    "int return_code = g2engine.getEntityByEntityIDV2(entityID, flags, response);\n",
    "if(return_code!=0)\n",
    "    System.out.print(g2engine.getLastException());\n",
    "else\n",
    "    RenderJSON(response);"
   ]
  },
  {
   "cell_type": "markdown",
   "metadata": {},
   "source": [
    "### searchByAttributes\n",
    "\n",
    "Use `searchByAttributesV2()` to retrieve entity data based on a user-specified set of entity attributes. This function accepts the following parameters as input:\n",
    "\n",
    "- **jsonData:** A JSON document with the attribute data to search for\n",
    "- **flags:** Control flags for specifying what data about the\n",
    "  entity to retrieve.\n",
    "- **response:** A memory buffer for returning the response\n",
    "  document; if an error occurred, an error response is stored here."
   ]
  },
  {
   "cell_type": "code",
   "execution_count": null,
   "metadata": {
    "scrolled": true
   },
   "outputs": [],
   "source": [
    "String dataSourceCode = \"TEST\";\n",
    "String recordID = \"1\";\n",
    "int flags = 0;\n",
    "response = new StringBuffer();\n",
    "\n",
    "int return_code = g2engine.searchByAttributesV2(jsonData, flags, response);\n",
    "if(return_code!=0)\n",
    "    System.out.print(g2engine.getLastException());\n",
    "else\n",
    "    RenderJSON(response);"
   ]
  },
  {
   "cell_type": "markdown",
   "metadata": {},
   "source": [
    "### Finding Paths\n",
    "The `FindPathByEntityID()` and `FindPathByRecordID()` functions can be used to find single relationship paths between two entities. Paths are found using known relationships with other entities.\n",
    "\n",
    "Entities can be searched for by either Entity ID or by Record ID, depending on which function is chosen.\n",
    "\n",
    "These functions have the following parameters:\n",
    "\n",
    "- **entityID1:** The entity ID for the starting entity of the search path\n",
    "- **entityID2:** The entity ID for the ending entity of the search path\n",
    "- **dataSourceCode1:** The data source for the starting entity of the search path\n",
    "- **recordID1:** The record ID for the starting entity of the search path\n",
    "- **dataSourceCode2:** The data source for the ending entity of the search path\n",
    "- **recordID2:** The record ID for the ending entity of the search path\n",
    "- **maxDegree:** The number of relationship degrees to search"
   ]
  },
  {
   "cell_type": "markdown",
   "metadata": {},
   "source": [
    "First you will need to create some records so that you have some that you can compare. Can you see what is the same between this record and the previous one?"
   ]
  },
  {
   "cell_type": "code",
   "execution_count": null,
   "metadata": {},
   "outputs": [],
   "source": [
    "String dataSourceCode = \"TEST\";\n",
    "String recordID = \"2\";\n",
    "String jsonData =  \"{\\\"NAME_TYPE\\\": \\\"PRIMARY\\\", \\\"NAME_FIRST\\\": \\\"JOHN\\\", \\\"NAME_LAST\\\": \\\"SMITH\\\", \\\"ADDR_TYPE\\\": \\\"HOME\\\", \\\"ADDR_LINE1\\\": \\\"753 STATE ROUTE 8\\\", \\\"ADDR_CITY\\\": \\\"FRESNO\\\", \\\"ADDR_STATE\\\": \\\"CA\\\", \\\"ADDR_POSTAL_CODE\\\": \\\"55073-1234\\\"}\";\n",
    "String loadID = null;\n",
    "\n",
    "int return_code = g2engine.addRecord(dataSourceCode, recordID, jsonData, loadID);\n",
    "\n",
    "if(return_code!=0)\n",
    "    System.out.print(g2engine.getLastException());\n",
    "\n",
    "StringBuffer recordID2 = new StringBuffer();\n",
    "int return_code = g2engine.addRecordWithReturnedRecordID(dataSourceCode, recordID2, jsonData, loadID);\n",
    "\n",
    "System.out.print(\"New Record ID: \" + recordID2.toString());\n",
    "if(return_code!=0)\n",
    "    System.out.print(g2engine.getLastException());"
   ]
  },
  {
   "cell_type": "code",
   "execution_count": null,
   "metadata": {},
   "outputs": [],
   "source": [
    "String dataSourceCode = \"TEST\";\n",
    "String recordID = \"2\";\n",
    "StringBuffer response = new StringBuffer();\n",
    "g2engine.getEntityByRecordIDV2(dataSourceCode, recordID, flags, response);\n",
    "JsonObject jsonObject = JsonUtil.parseJsonObject(response.toString());\n",
    "long entityID2 = jsonObject.getJsonObject(\"RESOLVED_ENTITY\").getJsonNumber(\"ENTITY_ID\").longValue();"
   ]
  },
  {
   "cell_type": "markdown",
   "metadata": {},
   "source": [
    "#### FindPathByEntityIDV2"
   ]
  },
  {
   "cell_type": "code",
   "execution_count": null,
   "metadata": {
    "scrolled": true
   },
   "outputs": [],
   "source": [
    "long entityID1 = entityID;\n",
    "int maxDegree = 3;\n",
    "\n",
    "StringBuffer response = new StringBuffer();\n",
    "\n",
    "int ret_code = g2engine.findPathByEntityID(entityID2,maxDegree,flags,response);\n",
    "\n",
    "if(ret_code!=0)\n",
    "    System.out.print(g2engine.getLastException());\n",
    "else\n",
    "    RenderJSON(response);"
   ]
  },
  {
   "cell_type": "markdown",
   "metadata": {},
   "source": [
    "#### FindPathByRecordID()"
   ]
  },
  {
   "cell_type": "code",
   "execution_count": null,
   "metadata": {
    "scrolled": true
   },
   "outputs": [],
   "source": [
    "String dataSourceCode1 = new String(\"TEST\");\n",
    "String recordID1 = new String(\"1\");\n",
    "String dataSourceCode2 = new String(\"TEST\");\n",
    "String recordID2 = new String(\"2\");\n",
    "\n",
    "ret_code = g2engine.findPathByRecordID(dataSourceCode1,recordID1,dataSourceCode2,recordID2,maxDegree,response);\n",
    "\n",
    "if(ret_code!=0)\n",
    "    System.out.print(g2engine.getLastException());\n",
    "else\n",
    "    RenderJSON(response);"
   ]
  },
  {
   "cell_type": "markdown",
   "metadata": {},
   "source": [
    "### Finding Paths with Exclusions\n",
    "The `FindPathExcludingByEntityID()` and `FindPathExcludingByRecordID()` functions can be used to find single relationship paths between two entities. Paths are found using known relationships with other entities. In addition, it will find paths that exclude certain entities from being on the path.\n",
    "\n",
    "Entities can be searched for by either Entity ID or by Record ID, depending on which function is chosen. Additionally, entities to be excluded can also be specified by either Entity ID or by Record ID.\n",
    "\n",
    "When excluding entities, the user may choose to either (a) strictly exclude the entities, or (b) prefer to exclude the entities, but still include them if no other path is found. By default, entities will be strictly excluded. A \"preferred exclude\" may be done by specifying the G2_FIND_PATH_PREFER_EXCLUDE control flag.\n",
    "\n",
    "These functions have the following parameters:\n",
    "\n",
    "- **entityID1:** The entity ID for the starting entity of the search path\n",
    "- **entityID2:** The entity ID for the ending entity of the search path\n",
    "- **dataSourceCode1:** The data source for the starting entity of the search path\n",
    "- **recordID1:** The record ID for the starting entity of the search path\n",
    "- **dataSourceCode2:** The data source for the ending entity of the search path\n",
    "- **recordID2:** The record ID for the ending entity of the search path\n",
    "- **maxDegree:** The number of relationship degrees to search\n",
    "- **excludedEntities:** Entities that should be avoided on the path (JSON document)\n",
    "- **flags:** Operational flags"
   ]
  },
  {
   "cell_type": "code",
   "execution_count": null,
   "metadata": {
    "scrolled": true
   },
   "outputs": [],
   "source": [
    "String dataSourceCode = \"TEST\";\n",
    "String recordID = \"3\";\n",
    "String jsonData =  \"{\\\"NAME_TYPE\\\": \\\"PRIMARY\\\", \\\"NAME_FIRST\\\": \\\"SAM\\\", \\\"NAME_LAST\\\": \\\"MILLER\\\", \\\"ADDR_TYPE\\\": \\\"HOME\\\", \\\"ADDR_LINE1\\\": \\\"753 STATE ROUTE 8\\\", \\\"ADDR_CITY\\\": \\\"FRESNO\\\", \\\"ADDR_STATE\\\": \\\"CA\\\", \\\"ADDR_POSTAL_CODE\\\": \\\"55073-1234\\\", \\\"SSN_NUMBER\\\": \\\"111-11-1111\\\"}\";\n",
    "String loadID = null;\n",
    "\n",
    "int return_code= g2engine.addRecord(dataSourceCode, recordID, jsonData, loadID);\n",
    "\n",
    "if(return_code!=0)\n",
    "    System.out.print(g2engine.getLastException());\n",
    "\n",
    "StringBuffer recordID2 = new StringBuffer();\n",
    "int return_code2 = g2engine.addRecordWithReturnedRecordID(dataSourceCode, recordID2, jsonData, loadID);\n",
    "\n",
    "System.out.print(\"New Record ID: \" + recordID2.toString());\n",
    "\n",
    "if(return_code2!=0)\n",
    "    System.out.print(g2engine.getLastException());"
   ]
  },
  {
   "cell_type": "markdown",
   "metadata": {},
   "source": [
    "#### FindPathExcludingByEntityID()"
   ]
  },
  {
   "cell_type": "code",
   "execution_count": null,
   "metadata": {
    "scrolled": true
   },
   "outputs": [],
   "source": [
    "int maxDegree = 4;\n",
    "String excludedEntities = new String(\"{\\\"ENTITIES\\\":[{\\\"ENTITY_ID\\\":\\\"1\\\"}]}\");\n",
    "int flags = G2Engine.G2_EXPORT_DEFAULT_FLAGS;\n",
    "\n",
    "StringBuffer response = new StringBuffer();\n",
    "\n",
    "int ret_code = g2engine.findPathExcludingByEntityID(entityID1,entityID2,maxDegree,excludedEntities,flags,response);\n",
    "\n",
    "if(ret_code!=0)\n",
    "    System.out.print(g2engine.getLastException());\n",
    "else\n",
    "    RenderJSON(response);"
   ]
  },
  {
   "cell_type": "markdown",
   "metadata": {},
   "source": [
    "#### FindPathExcludingByRecordID()"
   ]
  },
  {
   "cell_type": "code",
   "execution_count": null,
   "metadata": {
    "scrolled": true
   },
   "outputs": [],
   "source": [
    "String dataSourceCode1 = new String(\"TEST\");\n",
    "String recordID1 = new String(\"2\");\n",
    "String dataSourceCode2 = new String(\"TEST\");\n",
    "String recordID2 = new String(\"3\");\n",
    "String excludedRecords = new String(\"{\\\"RECORDS\\\":[{\\\"RECORD_ID\\\":\\\"1\\\",\\\"DATA_SOURCE\\\":\\\"TEST\\\"}]}\");\n",
    "\n",
    "return_code = g2engine.findPathExcludingByRecordID(dataSourceCode1,recordID1,dataSourceCode2,recordID2,maxDegree,excludedRecords,flags,response);\n",
    "\n",
    "if(return_code!=0)\n",
    "    System.out.print(g2engine.getLastException());\n",
    "else\n",
    "    RenderJSON(response);"
   ]
  },
  {
   "cell_type": "markdown",
   "metadata": {},
   "source": [
    "### Finding Paths with Required Sources\n",
    "The `FindPathIncludingSourceByEntityID()` and `FindPathIncludingSourceByRecordID()` functions can be used to find single relationship paths between two entities. In addition, one of the enties along the path must include a specified data source.\n",
    "\n",
    "Entities can be searched for by either Entity ID or by Record ID, depending on which function is chosen. The required data source or sources are specified by a json document list.\n",
    "\n",
    "Specific entities may also be excluded, using the same methodology as the `FindPathExcludingByEntityID()` and `FindPathExcludingByRecordID()` functions use.\n",
    "\n",
    "These functions have the following parameters:\n",
    "\n",
    "- **entityID1:** The entity ID for the starting entity of the search path\n",
    "- **entityID2:** The entity ID for the ending entity of the search path\n",
    "- **dataSourceCode1:** The data source for the starting entity of the search path\n",
    "- **recordID1:** The record ID for the starting entity of the search path\n",
    "- **dataSourceCode2:** The data source for the ending entity of the search path\n",
    "- **recordID2:** The record ID for the ending entity of the search path\n",
    "- **maxDegree:** The number of relationship degrees to search\n",
    "- **excludedEntities:** Entities that should be avoided on the path (JSON document)\n",
    "- **requiredDsrcs:** Entities that should be avoided on the path (JSON document)\n",
    "- **flags:** Operational flags"
   ]
  },
  {
   "cell_type": "code",
   "execution_count": null,
   "metadata": {
    "scrolled": true
   },
   "outputs": [],
   "source": [
    "int maxDegree = 4;\n",
    "String excludedEntities = new String(\"{\\\"ENTITIES\\\":[{\\\"ENTITY_ID\\\":\\\"1\\\"}]}\");\n",
    "String requiredDsrcs = new String(\"{\\\"DATA_SOURCES\\\":[\\\"TEST\\\"]}\");\n",
    "int flags = 0;\n",
    "\n",
    "StringBuffer response = new StringBuffer();\n",
    "\n",
    "int ret_code = g2engine.findPathIncludingSourceByEntityID(entityID1,entityID2,maxDegree,excludedEntities,requiredDsrcs,flags,response);\n",
    "\n",
    "if(return_code!=0)\n",
    "    System.out.print(g2engine.getLastException());\n",
    "else\n",
    "    RenderJSON(response);\n",
    "String dataSourceCode1 = new String(\"TEST\");\n",
    "String recordID1 = new String(\"2\");\n",
    "String dataSourceCode2 = new String(\"TEST\");\n",
    "String recordID2 = new String(\"3\");\n",
    "String excludedRecords = new String(\"{\\\"RECORDS\\\":[{\\\"RECORD_ID\\\":\\\"1\\\",\\\"DATA_SOURCE\\\":\\\"TEST\\\"}]}\");\n",
    "\n",
    "return_code = g2engine.findPathIncludingSourceByRecordID(dataSourceCode1,recordID1,dataSourceCode2,recordID2,maxDegree,excludedRecords,requiredDsrcs,flags,response);\n",
    "\n",
    "if(return_code!=0)\n",
    "    System.out.print(g2engine.getLastException());\n",
    "else\n",
    "    RenderJSON(response);"
   ]
  },
  {
   "cell_type": "markdown",
   "metadata": {},
   "source": [
    "### Finding Networks\n",
    "\n",
    "The `findNetworkByEntityID()` and `findNetworkByRecordID()` functions\n",
    "can be used to find all entities surrounding a requested set of entities.\n",
    "This includes the requested entities, paths between them, and relations to\n",
    "other nearby entities.\n",
    "\n",
    "Entities can be searched for by either Entity ID or by Record ID,\n",
    "depending on which function is chosen.\n",
    "\n",
    "These functions have the following parameters:\n",
    "\n",
    "- **entityList:** A list of entities, specified by Entity ID\n",
    "  (JSON document)\n",
    "- **recordList:** A list of entities, specified by Record ID\n",
    "  (JSON document)\n",
    "- **maxDegree:** The maximum number of degrees in paths between search\n",
    "  entities\n",
    "- **buildoutDegree:** The number of degrees of relationships to show around\n",
    "  each search entity\n",
    "- **maxEntities:** The maximum number of entities to return in the\n",
    "  discovered network\n",
    "- **flags:** Control flags for specifying what data about the\n",
    "  entity to retrieve.\n",
    "- **response:** A memory buffer for returning the response\n",
    "  document; if an error occurred, an error response is stored here.\n",
    "  \n",
    "They also have various arguments used to return response documents\n",
    "\n",
    "The functions return a JSON document that identifies the path between the\n",
    "each set of search entities (if the path exists), and the information on the\n",
    "entities in question (search entities, path entities, and build-out entities."
   ]
  },
  {
   "cell_type": "markdown",
   "metadata": {},
   "source": [
    "#### findNetworkByEntityID"
   ]
  },
  {
   "cell_type": "code",
   "execution_count": 1,
   "metadata": {
    "scrolled": true
   },
   "outputs": [
    {
     "ename": "CompilationException",
     "evalue": "",
     "output_type": "error",
     "traceback": [
      "\u001b[1m\u001b[30m|   \u001b[1m\u001b[30mString entityList = \"{\\\"ENTITIES\\\": [{\\\"ENTITY_ID\\\":\"+\u001b[0m\u001b[1m\u001b[30m\u001b[41mentityID\u001b[0m\u001b[1m\u001b[30m+\"}, {\\\"ENTITY_ID\\\":\"+entityID2+\"}]}\";\u001b[0m",
      "\u001b[1m\u001b[31mcannot find symbol\u001b[0m",
      "\u001b[1m\u001b[31m  symbol:   variable entityID\u001b[0m",
      "",
      "\u001b[1m\u001b[30m|   \u001b[1m\u001b[30mString entityList = \"{\\\"ENTITIES\\\": [{\\\"ENTITY_ID\\\":\"+entityID+\"}, {\\\"ENTITY_ID\\\":\"+\u001b[0m\u001b[1m\u001b[30m\u001b[41mentityID2\u001b[0m\u001b[1m\u001b[30m+\"}]}\";\u001b[0m",
      "\u001b[1m\u001b[31mcannot find symbol\u001b[0m",
      "\u001b[1m\u001b[31m  symbol:   variable entityID2\u001b[0m",
      ""
     ]
    }
   ],
   "source": [
    "StringBuffer response = new StringBuffer();\n",
    "int maxDegree = 2;\n",
    "int buildoutDegree = 1;\n",
    "int maxEntities = 12;\n",
    "String entityList = \"{\\\"ENTITIES\\\": [{\\\"ENTITY_ID\\\":\"+entityID+\"}, {\\\"ENTITY_ID\\\":\"+entityID2+\"}]}\";\n",
    "\n",
    "int return_code = g2engine.findNetworkByEntityIDV2(entityList, maxDegree, buildoutDegree, maxEntities, flags, response);\n",
    "if(return_code!=0)\n",
    "    System.out.print(g2engine.getLastException());\n",
    "else\n",
    "    RenderJSON(response);"
   ]
  },
  {
   "cell_type": "markdown",
   "metadata": {},
   "source": [
    "#### findNetworkByRecordIDV2"
   ]
  },
  {
   "cell_type": "code",
   "execution_count": 2,
   "metadata": {
    "scrolled": true
   },
   "outputs": [
    {
     "ename": "CompilationException",
     "evalue": "",
     "output_type": "error",
     "traceback": [
      "\u001b[1m\u001b[30m|   \u001b[1m\u001b[30mString record_list = \"{\\\"RECORDS\\\": [{\\\"RECORD_ID\\\": \\\"\"+\u001b[0m\u001b[1m\u001b[30m\u001b[41mrecordID1\u001b[0m\u001b[1m\u001b[30m+\"\\\", \\\"DATA_SOURCE\\\": \\\"\"+dataSourceCode1+\"\\\" }, {\\\"RECORD_ID\\\": \\\"\"+recordID2+\"\\\", \\\"DATA_SOURCE\\\": \\\"\"+dataSourceCode2+\"\\\" }]}\";\u001b[0m",
      "\u001b[1m\u001b[31mcannot find symbol\u001b[0m",
      "\u001b[1m\u001b[31m  symbol:   variable recordID1\u001b[0m",
      "",
      "\u001b[1m\u001b[30m|   \u001b[1m\u001b[30mString record_list = \"{\\\"RECORDS\\\": [{\\\"RECORD_ID\\\": \\\"\"+recordID1+\"\\\", \\\"DATA_SOURCE\\\": \\\"\"+\u001b[0m\u001b[1m\u001b[30m\u001b[41mdataSourceCode1\u001b[0m\u001b[1m\u001b[30m+\"\\\" }, {\\\"RECORD_ID\\\": \\\"\"+recordID2+\"\\\", \\\"DATA_SOURCE\\\": \\\"\"+dataSourceCode2+\"\\\" }]}\";\u001b[0m",
      "\u001b[1m\u001b[31mcannot find symbol\u001b[0m",
      "\u001b[1m\u001b[31m  symbol:   variable dataSourceCode1\u001b[0m",
      "",
      "\u001b[1m\u001b[30m|   \u001b[1m\u001b[30mString record_list = \"{\\\"RECORDS\\\": [{\\\"RECORD_ID\\\": \\\"\"+recordID1+\"\\\", \\\"DATA_SOURCE\\\": \\\"\"+dataSourceCode1+\"\\\" }, {\\\"RECORD_ID\\\": \\\"\"+\u001b[0m\u001b[1m\u001b[30m\u001b[41mrecordID2\u001b[0m\u001b[1m\u001b[30m+\"\\\", \\\"DATA_SOURCE\\\": \\\"\"+dataSourceCode2+\"\\\" }]}\";\u001b[0m",
      "\u001b[1m\u001b[31mcannot find symbol\u001b[0m",
      "\u001b[1m\u001b[31m  symbol:   variable recordID2\u001b[0m",
      "",
      "\u001b[1m\u001b[30m|   \u001b[1m\u001b[30mString record_list = \"{\\\"RECORDS\\\": [{\\\"RECORD_ID\\\": \\\"\"+recordID1+\"\\\", \\\"DATA_SOURCE\\\": \\\"\"+dataSourceCode1+\"\\\" }, {\\\"RECORD_ID\\\": \\\"\"+recordID2+\"\\\", \\\"DATA_SOURCE\\\": \\\"\"+\u001b[0m\u001b[1m\u001b[30m\u001b[41mdataSourceCode2\u001b[0m\u001b[1m\u001b[30m+\"\\\" }]}\";\u001b[0m",
      "\u001b[1m\u001b[31mcannot find symbol\u001b[0m",
      "\u001b[1m\u001b[31m  symbol:   variable dataSourceCode2\u001b[0m",
      ""
     ]
    }
   ],
   "source": [
    "StringBuffer response = new StringBuffer();\n",
    "int maxDegree = 2;\n",
    "int buildoutDegree = 1;\n",
    "int maxEntities = 12;\n",
    "String record_list = \"{\\\"RECORDS\\\": [{\\\"RECORD_ID\\\": \\\"\"+recordID1+\"\\\", \\\"DATA_SOURCE\\\": \\\"\"+dataSourceCode1+\"\\\" }, {\\\"RECORD_ID\\\": \\\"\"+recordID2+\"\\\", \\\"DATA_SOURCE\\\": \\\"\"+dataSourceCode2+\"\\\" }]}\";\n",
    "\n",
    "int return_code = g2engine.findNetworkByRecordIDV2(record_List, maxDegree, buildoutDegree, maxEntities, flags, response);\n",
    "if(return_code!=0)\n",
    "    System.out.print(g2engine.getLastException());\n",
    "else\n",
    "    RenderJSON(response);"
   ]
  },
  {
   "cell_type": "markdown",
   "metadata": {},
   "source": [
    "## Connection details"
   ]
  },
  {
   "cell_type": "markdown",
   "metadata": {},
   "source": [
    "The `whyEntities()`, `whyRecords()`, `whyEntityByRecordID()`, and `whyEntityByEntityID()` functions can be used\n",
    "to determine why records belong to their resolved entities.\n",
    "These functions will compare the record data within an entity against the\n",
    "rest of the entity data, and show why they are connected.\n",
    "This is calculated based on the features that record data represents.\n",
    "\n",
    "Records can be chosen by either Record ID or by Entity ID,\n",
    "depending on which function is chosen.\n",
    "If a single record ID is used,\n",
    "then comparison results for that single record will be generated, as part of\n",
    "its entity.\n",
    "If an Entity ID is used,\n",
    "then comparison results will be generated for every record within that\n",
    "entity.\n",
    "\n",
    "These functions have the following parameters:\n",
    "\n",
    "- **entityID:** The entity ID for the entity to be analyzed\n",
    "- **datasourceCode:** The data source for the record to be analyzed\n",
    "- **recordID:** The record ID for the record to be analyzed\n",
    "- **flags:** Control flags for outputting entities\n",
    "- **response:** A memory buffer for returning the response\n",
    "  document; if an error occurred, an error response is stored here.\n",
    "  \n",
    "  \n",
    "They also have various arguments used to return response documents.\n",
    "\n",
    "The functions return a JSON document that gives the results of the record\n",
    "analysis.\n",
    "The document contains a section called \"WHY_RESULTS\",\n",
    "which shows how specific records relate to the rest of the entity.\n",
    "It has a \"WHY_KEY\", which is similar to a match key, in defining the relevant\n",
    "connected data.\n",
    "It shows candidate keys for features that initially cause the records\n",
    "to be analyzed for a relationship,\n",
    "plus a series of feature scores that show how similar the feature data was.\n",
    "\n",
    "The response document also contains a separate ENTITIES section,\n",
    "with the full information about the resolved entity.\n",
    "(Note: When working with this entity data,\n",
    "Senzing recommends using the flags `G2_ENTITY_OPTION_INCLUDE_INTERNAL_FEATURES`\n",
    "and `G2_ENTITY_OPTION_INCLUDE_FEATURE_STATS`.\n",
    "This will provide detailed feature data that is not included by default,\n",
    "but is useful for understanding the WHY_RESULTS data.)\n",
    "\n",
    "The functions `whyEntitiesV2()`, `whyRecordsV2()`, `whyEntityByRecordIDV2()`, and `whyEntityByEntityIDV2()` are\n",
    "enhanced versions of `whyEntities()`, `whyRecords()`, `whyEntityByRecordID()`, and `whyEntityByEntityID()`\n",
    "that also allow you to use control flags.\n",
    "The `whyEntities()`, `whyRecords()`, `whyEntityByRecordID()`, and `whyEntityByEntityID()` functions work in the\n",
    "same way, but use the default flag value `G2_WHY_ENTITY_DEFAULT_FLAGS`."
   ]
  },
  {
   "cell_type": "markdown",
   "metadata": {},
   "source": [
    "### whyEntityByEntityID"
   ]
  },
  {
   "cell_type": "code",
   "execution_count": null,
   "metadata": {},
   "outputs": [],
   "source": [
    "/** define input variables */\n",
    "long entityID = 1;\n",
    "\n",
    "/** buffer response variables */\n",
    "StringBuffer response = new StringBuffer();\n",
    "\n",
    "/** find the why-information */\n",
    "int return_code = g2engine.whyEntityByEntityID(entityID1,response);\n",
    "\n",
    "/** print the results */\n",
    "if(return_code!=0)\n",
    "    System.out.print(g2engine.getLastException());\n",
    "else\n",
    "    RenderJSON(response);"
   ]
  },
  {
   "cell_type": "markdown",
   "metadata": {},
   "source": [
    "### whyEntityByEntityIDV2"
   ]
  },
  {
   "cell_type": "code",
   "execution_count": null,
   "metadata": {
    "scrolled": true
   },
   "outputs": [],
   "source": [
    "/** define input variables */\n",
    "long entityID = 1;\n",
    "\n",
    "/** buffer response variables */\n",
    "StringBuffer response = new StringBuffer();\n",
    "\n",
    "/** find the why-information */\n",
    "int return_code = g2engine.whyEntityByEntityIDV2(entityID1,flags,response);\n",
    "\n",
    "/** print the results */\n",
    "if(return_code!=0)\n",
    "    System.out.print(g2engine.getLastException());\n",
    "else\n",
    "    RenderJSON(response);"
   ]
  },
  {
   "cell_type": "markdown",
   "metadata": {},
   "source": [
    "### whyEntityByRecordID"
   ]
  },
  {
   "cell_type": "code",
   "execution_count": null,
   "metadata": {},
   "outputs": [],
   "source": [
    "/** find the why-information */\n",
    "int return_code = g2engine.whyEntityByRecordID(dataSourceCode1,recordID1,response);\n",
    "\n",
    "/** print the results */\n",
    "if(return_code!=0)\n",
    "    System.out.print(g2engine.getLastException());\n",
    "else\n",
    "    RenderJSON(response);"
   ]
  },
  {
   "cell_type": "markdown",
   "metadata": {},
   "source": [
    "### whyEntityByRecordIDV2"
   ]
  },
  {
   "cell_type": "code",
   "execution_count": null,
   "metadata": {
    "scrolled": true
   },
   "outputs": [],
   "source": [
    "/** find the why-information */\n",
    "int return_code = g2engine.whyEntityByRecordIDV2(dataSourceCode,recordID,flags,response);\n",
    "\n",
    "/** print the results */\n",
    "if(return_code!=0)\n",
    "    System.out.print(g2engine.getLastException());\n",
    "else\n",
    "    RenderJSON(response);"
   ]
  },
  {
   "cell_type": "markdown",
   "metadata": {},
   "source": [
    "## Replace"
   ]
  },
  {
   "cell_type": "markdown",
   "metadata": {},
   "source": [
    "### Replace the record\n",
    "Use the `replaceRecord()` function to update or replace a record in the data repository (if record doesn't exist, a new record is added to the data repository. Like the above functions, `replaceRecord()` returns \"0\" upon success, and it can be called as many times as desired and from multiple threads at the same time. The `replaceRecord()` function accepts four parameters as input:\n",
    "\n",
    "- **dataSourceCode:** The name of the data source the record is associated with. This value is configurable to the system\n",
    "- **recordID:** The record ID, used to identify distinct records\n",
    "- **jsonData:** A JSON document with the attribute data for the record\n",
    "- **loadID:** The observation load ID for the record; value can be null and will default to dataSourceCode"
   ]
  },
  {
   "cell_type": "code",
   "execution_count": null,
   "metadata": {},
   "outputs": [],
   "source": [
    "String dataSourceCode = \"TEST\";\n",
    "String recordID = \"1\";\n",
    "String jsonData =  \"{\\\"NAME_TYPE\\\": \\\"PRIMARY\\\", \\\"NAME_FIRST\\\": \\\"JANE\\\", \\\"NAME_LAST\\\": \\\"ADAMS\\\", \\\"ADDR_TYPE\\\": \\\"HOME\\\", \\\"ADDR_LINE1\\\": \\\"653 STATE ROUTE 7\\\", \\\"ADDR_CITY\\\": \\\"FRESNO\\\", \\\"ADDR_STATE\\\": \\\"CA\\\", \\\"ADDR_POSTAL_CODE\\\": \\\"55073-1234\\\"}\";\n",
    "String loadID = null;\n",
    "\n",
    "int return_code= g2engine.replaceRecord(dataSourceCode, recordID, jsonData, loadID);\n",
    "if(return_code!=0)\n",
    "    System.out.print(g2engine.getLastException());\n",
    "else\n",
    "    System.out.print(return_code)"
   ]
  },
  {
   "cell_type": "markdown",
   "metadata": {},
   "source": [
    "Do ```getRecord()``` again to see the changes"
   ]
  },
  {
   "cell_type": "code",
   "execution_count": null,
   "metadata": {
    "scrolled": false
   },
   "outputs": [],
   "source": [
    "String dataSourceCode = \"TEST\";\n",
    "String recordID = \"1\";\n",
    "StringBuffer response = new StringBuffer();\n",
    "\n",
    "g2engine.getRecord(dataSourceCode, recordID, response);\n",
    "\n",
    "if(return_code!=0)\n",
    "    System.out.print(g2engine.getLastException());\n",
    "else\n",
    "    RenderJSON(response);"
   ]
  },
  {
   "cell_type": "markdown",
   "metadata": {},
   "source": [
    "### replaceRecordWithInfo"
   ]
  },
  {
   "cell_type": "code",
   "execution_count": null,
   "metadata": {},
   "outputs": [],
   "source": [
    "String dataSourceCode = \"TEST\";\n",
    "String recordID = \"1\";\n",
    "String jsonData =  \"{\\\"NAME_TYPE\\\": \\\"PRIMARY\\\", \\\"NAME_FIRST\\\": \\\"JANE\\\", \\\"NAME_LAST\\\": \\\"ADAMS\\\", \\\"ADDR_TYPE\\\": \\\"HOME\\\", \\\"ADDR_LINE1\\\": \\\"653 STATE ROUTE 7\\\", \\\"ADDR_CITY\\\": \\\"FRESNO\\\", \\\"ADDR_STATE\\\": \\\"CA\\\", \\\"ADDR_POSTAL_CODE\\\": \\\"55073-1234\\\"}\";\n",
    "String loadID = null;\n",
    "StringBuffer response = new StringBuffer();\n",
    "\n",
    "int return_code= g2engine.replaceRecordWithInfo(dataSourceCode, recordID, jsonData, loadID, flags, response);\n",
    "if(return_code!=0)\n",
    "    System.out.print(g2engine.getLastException());\n",
    "else\n",
    "    RenderJSON(response)"
   ]
  },
  {
   "cell_type": "markdown",
   "metadata": {},
   "source": [
    "## Re-evaluate"
   ]
  },
  {
   "cell_type": "markdown",
   "metadata": {},
   "source": [
    "### reevaluateRecord"
   ]
  },
  {
   "cell_type": "code",
   "execution_count": null,
   "metadata": {},
   "outputs": [],
   "source": [
    "int return_code = g2engine.reevaluateRecord(dataSourceCode1, recordID1, flags);\n",
    "\n",
    "if(return_code!=0)\n",
    "    System.out.print(g2engine.getLastException());\n",
    "else\n",
    "    System.out.print(return_code);"
   ]
  },
  {
   "cell_type": "markdown",
   "metadata": {},
   "source": [
    "### ReevaluateRecordWithInfo"
   ]
  },
  {
   "cell_type": "code",
   "execution_count": null,
   "metadata": {},
   "outputs": [],
   "source": [
    "StringBuffer response = new StringBuffer();\n",
    "\n",
    "int return_code = g2engine.reevaluateRecordWithInfo(dataSourceCode1, recordID1, flags, response);\n",
    "\n",
    "if(return_code!=0)\n",
    "    System.out.print(g2engine.getLastException());\n",
    "else\n",
    "    RenderJSON(response);"
   ]
  },
  {
   "cell_type": "markdown",
   "metadata": {},
   "source": [
    "### ReevaluateEntity"
   ]
  },
  {
   "cell_type": "markdown",
   "metadata": {},
   "source": [
    "Find an entity"
   ]
  },
  {
   "cell_type": "code",
   "execution_count": null,
   "metadata": {},
   "outputs": [],
   "source": [
    "String dataSourceCode = \"TEST\";\n",
    "String recordID = \"2\";\n",
    "StringBuffer response = new StringBuffer();\n",
    "g2engine.getEntityByRecordIDV2(dataSourceCode, recordID, flags, response);\n",
    "JsonObject jsonObject = JsonUtil.parseJsonObject(response.toString());\n",
    "long entityID = jsonObject.getJsonObject(\"RESOLVED_ENTITY\").getJsonNumber(\"ENTITY_ID\").longValue();"
   ]
  },
  {
   "cell_type": "markdown",
   "metadata": {},
   "source": [
    "Re-evaluate the entity."
   ]
  },
  {
   "cell_type": "code",
   "execution_count": null,
   "metadata": {},
   "outputs": [],
   "source": [
    "int return_code = g2engine.reevaluateEntity(entityID, flags);\n",
    "\n",
    "if(return_code!=0)\n",
    "    System.out.print(g2engine.getLastException());\n",
    "else\n",
    "    System.out.print(return_code);"
   ]
  },
  {
   "cell_type": "markdown",
   "metadata": {},
   "source": [
    "### reevaluateEntityWithInfo"
   ]
  },
  {
   "cell_type": "code",
   "execution_count": null,
   "metadata": {},
   "outputs": [],
   "source": [
    "StringBuffer response = new StringBuffer();\n",
    "\n",
    "return_code = g2engine.reevaluateEntityWithInfo(entityID, flags, response);\n",
    "\n",
    "if(return_code!=0)\n",
    "    System.out.print(return_code);\n",
    "else\n",
    "    RenderJSON(response);"
   ]
  },
  {
   "cell_type": "markdown",
   "metadata": {},
   "source": [
    "## Reporting"
   ]
  },
  {
   "cell_type": "markdown",
   "metadata": {},
   "source": [
    "### Export JSON Entity Report\n",
    "\n",
    "There are three steps to exporting resolved entity data from the G2Engine object in JSON format. First, use the `exportJSONEntityReport()` method to generate a long integer, referred to here as an 'exportHandle'. The `exportJSONEntityReport()` method accepts one parameter as input:\n",
    "\n",
    "- **flags**: An integer specifying which entity details should be included in the export. See the \"Entity Export Flags\" section for further details.\n",
    "\n",
    "Second, use the fetchNext() method to read the exportHandle and export a row of JSON output containing the entity data for a single entity. Note that successive calls of fetchNext() will export successive rows of entity data. The fetchNext() method accepts the following parameters as input:\n",
    "\n",
    "- **exportHandle:** A long integer from which resolved entity data may be read and exported\n",
    "- **response:** A memory buffer for returning the response document; if an error occurred, an error response is stored here."
   ]
  },
  {
   "cell_type": "code",
   "execution_count": null,
   "metadata": {},
   "outputs": [],
   "source": [
    "int flags = g2engine.G2_EXPORT_INCLUDE_ALL_ENTITIES;\n",
    "\n",
    "long exportHandle = g2engine.exportJSONEntityReport(flags);\n",
    "\n",
    "String response = g2engine.fetchNext(exportHandle);\n",
    "RenderJSON(response);\n",
    "\n",
    "g2engine.closeExport(exportHandle);"
   ]
  },
  {
   "cell_type": "markdown",
   "metadata": {},
   "source": [
    "### Export CSV Entity Report\n",
    "\n",
    "There are three steps to exporting resolved entity data from the G2Engine object in CSV format. First, use the `exportCSVEntityReportV2()` method to generate a long integer, referred to here as an 'exportHandle'. The `exportCSVEntityReportV2()` method accepts one parameter as input:\n",
    "\n",
    "- **csvColumnList:** A String containing a comma-separated list of column names for the CSV\n",
    "  export.\n",
    "- **flags:** An integer specifying which entity details should be included in the export. See the \"Entity Export Flags\" section in the link below for further details.\n",
    "\n",
    "Second, use the `fetchNext()` method to read the exportHandle and export a row of CSV output containing the entity data for a single entity. Note that the first call of `fetchNext()` may yield a header row, and that successive calls of `fetchNext()` will export successive rows of entity data. The `fetchNext()` method accepts the following parameters as input:\n",
    "\n",
    "- **exportHandle:** A long integer from which resolved entity data may be read and exported\n",
    "- **response:** A memory buffer for returning the response document; if an error occurred, an error response is stored here\n"
   ]
  },
  {
   "cell_type": "code",
   "execution_count": null,
   "metadata": {},
   "outputs": [],
   "source": [
    "int flags = g2engine.G2_EXPORT_INCLUDE_ALL_ENTITIES;\n",
    "String headers = \"RESOLVED_ENTITY_ID,RESOLVED_ENTITY_NAME,RELATED_ENTITY_ID,MATCH_LEVEL,MATCH_KEY,IS_DISCLOSED,IS_AMBIGUOUS,DATA_SOURCE,RECORD_ID,JSON_DATA,LAST_SEEN_DT,NAME_DATA,ATTRIBUTE_DATA,IDENTIFIER_DATA,ADDRESS_DATA,PHONE_DATA,RELATIONSHIP_DATA,ENTITY_DATA,OTHER_DATA\";\n",
    "\n",
    "long exportHandle = g2engine.exportCSVEntityReportV2(headers, flags);\n",
    "\n",
    "String response = g2engine.fetchNext(exportHandle);\n",
    "while (response != null)\n",
    "{\n",
    "    System.out.print(response);\n",
    "    response = g2engine.fetchNext(exportHandle);\n",
    "}\n",
    "\n",
    "g2engine.closeExport(exportHandle);"
   ]
  },
  {
   "cell_type": "markdown",
   "metadata": {},
   "source": [
    "## Redo Processing\n",
    "Redo records are automatically created by Senzing when certain conditions occur where it believes more processing may be needed.  Some examples:\n",
    "* A value becomes generic and previous decisions may need to be revisited\n",
    "* Clean up after some record deletes\n",
    "* Detected related entities were being changed at the same time\n",
    "* A table inconsistency exists, potentially after a non-graceful shutdown\n",
    "First we will need to have a total of 6 data sources so let's add 4 more"
   ]
  },
  {
   "cell_type": "code",
   "execution_count": null,
   "metadata": {},
   "outputs": [],
   "source": [
    "String dataSourceCode = \"TEST\";\n",
    "String recordID = \"4\";\n",
    "String jsonData =  \"{\\\"NAME_TYPE\\\": \\\"PRIMARY\\\", \\\"NAME_FIRST\\\": \\\"JANE\\\", \\\"NAME_LAST\\\": \\\"ADAMS\\\", \\\"SSN_NUMBER\\\": \\\"111-11-1111\\\"}\";\n",
    "String loadID = null;\n",
    "int return_code= g2engine.addRecord(dataSourceCode, recordID, jsonData, loadID);\n",
    "if(return_code!=0)\n",
    "    System.out.print(g2engine.getLastException());\n",
    "System.out.print(return_code);\n",
    "\n",
    "String dataSourceCode = \"TEST\";\n",
    "String recordID = \"5\";\n",
    "String jsonData =  \"{\\\"NAME_TYPE\\\": \\\"PRIMARY\\\", \\\"NAME_FIRST\\\": \\\"LILY\\\", \\\"NAME_LAST\\\": \\\"OWENS\\\", \\\"SSN_NUMBER\\\": \\\"111-11-1111\\\"}\";\n",
    "String loadID = null;\n",
    "int return_code= g2engine.addRecord(dataSourceCode, recordID, jsonData, loadID);\n",
    "if(return_code!=0)\n",
    "    System.out.print(g2engine.getLastException());\n",
    "System.out.print(return_code);\n",
    "\n",
    "String dataSourceCode = \"TEST\";\n",
    "String recordID = \"6\";\n",
    "String jsonData =  \"{\\\"NAME_TYPE\\\": \\\"PRIMARY\\\", \\\"NAME_FIRST\\\": \\\"AUGUST\\\", \\\"NAME_LAST\\\": \\\"Bauler\\\", \\\"SSN_NUMBER\\\": \\\"111-11-1111\\\"}\";\n",
    "String loadID = null;\n",
    "int return_code= g2engine.addRecord(dataSourceCode, recordID, jsonData, loadID);\n",
    "if(return_code!=0)\n",
    "    System.out.print(g2engine.getLastException());\n",
    "System.out.print(return_code);\n",
    "\n",
    "String dataSourceCode = \"TEST\";\n",
    "String recordID = \"7\";\n",
    "String jsonData =  \"{\\\"NAME_TYPE\\\": \\\"PRIMARY\\\", \\\"NAME_FIRST\\\": \\\"JACK\\\", \\\"NAME_LAST\\\": \\\"MILLER\\\", \\\"SSN_NUMBER\\\": \\\"111-11-1111\\\"}\";\n",
    "String loadID = null;\n",
    "int return_code= g2engine.addRecord(dataSourceCode, recordID, jsonData, loadID);\n",
    "if(return_code!=0)\n",
    "    System.out.print(g2engine.getLastException());\n",
    "System.out.print(return_code);\n",
    "\n",
    "String dataSourceCode = \"TEST\";\n",
    "String recordID = \"8\";\n",
    "String jsonData =  \"{\\\"NAME_TYPE\\\": \\\"PRIMARY\\\", \\\"NAME_FIRST\\\": \\\"LOGAN\\\", \\\"NAME_LAST\\\": \\\"WILLIAMS\\\", \\\"SSN_NUMBER\\\": \\\"111-11-1111\\\"}\";\n",
    "String loadID = null;\n",
    "int return_code= g2engine.addRecord(dataSourceCode, recordID, jsonData, loadID);\n",
    "if(return_code!=0)\n",
    "    System.out.print(g2engine.getLastException());\n",
    "System.out.print(return_code);"
   ]
  },
  {
   "cell_type": "markdown",
   "metadata": {},
   "source": [
    "### Counting the number of redos\n",
    "This returns the number of redos within the processed records that are awaiting processing."
   ]
  },
  {
   "cell_type": "code",
   "execution_count": null,
   "metadata": {},
   "outputs": [],
   "source": [
    "long response = g2engine.countRedoRecords();\n",
    "if(response<0)\n",
    "    System.out.print(g2engine.getLastException());"
   ]
  },
  {
   "cell_type": "markdown",
   "metadata": {},
   "source": [
    "### Geting a redo record\n",
    "Gets a redo record so that it can be processed"
   ]
  },
  {
   "cell_type": "code",
   "execution_count": null,
   "metadata": {
    "scrolled": false
   },
   "outputs": [],
   "source": [
    "StringBuffer response = new StringBuffer();\n",
    "g2engine.getRedoRecord(response);\n",
    "System.out.print(response);"
   ]
  },
  {
   "cell_type": "code",
   "execution_count": null,
   "metadata": {},
   "outputs": [],
   "source": [
    "StringBuffer response_string = new StringBuffer();\n",
    "int response = g2engine.getRedoRecord(response_string);\n",
    "if(response==0 && response_string.length()>0)\n",
    "    response = g2engine.process(response_string.toString());\n",
    "if(response!=0)\n",
    "    System.out.print(g2engine.getLastException());\n",
    "System.out.print(response);"
   ]
  },
  {
   "cell_type": "markdown",
   "metadata": {},
   "source": [
    "## Delete"
   ]
  },
  {
   "cell_type": "markdown",
   "metadata": {},
   "source": [
    "### Deleting Records\n",
    "use `deleteRecord()` to remove a record from the data repository (returns \"0\" upon success) ; `deleteRecord()` can be called as many times as desired and from multiple threads at the same time. The `deleteRecord()` function accepts three parameters as input:\n",
    "\n",
    "- **dataSourceCode:** The name of the data source the record is associated with. This value is configurable to the system\n",
    "- **recordID:** The record ID, used to identify distinct records\n",
    "- **loadID:** The observation load ID for the record; value can be null and will default to dataSourceCode"
   ]
  },
  {
   "cell_type": "code",
   "execution_count": null,
   "metadata": {},
   "outputs": [],
   "source": [
    "String dataSourceCode = \"TEST\";\n",
    "String recordID = \"1\";\n",
    "String loadID = null;\n",
    "\n",
    "/** deleteRecord */\n",
    "int return_code= g2engine.deleteRecord(dataSourceCode, recordID, loadID);\n",
    "\n",
    "if(return_code!=0)\n",
    "    System.out.print(g2engine.getLastException());\n",
    "else\n",
    "    System.out.print(return_code);"
   ]
  },
  {
   "cell_type": "markdown",
   "metadata": {},
   "source": [
    "### deleteRecordWithInfo"
   ]
  },
  {
   "cell_type": "code",
   "execution_count": null,
   "metadata": {},
   "outputs": [],
   "source": [
    "String recordID = \"2\";\n",
    "String dataSourceCode = \"TEST\";\n",
    "/** deleteRecordWithInfo */\n",
    "StringBuffer response = new StringBuffer();\n",
    "int flags = 0;\n",
    "int return_code = g2engine.deleteRecordWithInfo(dataSourceCode, recordID, loadID, flags, response);\n",
    "\n",
    "if(return_code!=0)\n",
    "    System.out.print(g2engine.getLastException());\n",
    "else\n",
    "    RenderJSON(response);"
   ]
  },
  {
   "cell_type": "markdown",
   "metadata": {},
   "source": [
    "Attempt to get the record again. It should error and give an output similar to \"Unknown record\""
   ]
  },
  {
   "cell_type": "code",
   "execution_count": null,
   "metadata": {},
   "outputs": [],
   "source": [
    "StringBuffer response = new StringBuffer();\n",
    "int return_code = g2engine.getRecord(dataSourceCode, recordID, response);\n",
    "\n",
    "if(return_code!=0)\n",
    "    System.out.print(g2engine.getLastException());"
   ]
  },
  {
   "cell_type": "markdown",
   "metadata": {},
   "source": [
    "## Cleanup"
   ]
  },
  {
   "cell_type": "markdown",
   "metadata": {},
   "source": [
    "### Purge Repository\n",
    "To purge the G2 repository, use the aptly named `purgeRepository()` method. This will remove every record in your current repository."
   ]
  },
  {
   "cell_type": "code",
   "execution_count": null,
   "metadata": {},
   "outputs": [],
   "source": [
    "int return_code= g2engine.purgeRepository();\n",
    "if(return_code!=0)\n",
    "    System.out.print(g2engine.getLastException());\n",
    "else\n",
    "    System.out.print(return_code)"
   ]
  },
  {
   "cell_type": "markdown",
   "metadata": {},
   "source": [
    "### destroy\n",
    "Once all searching is done in a process call `destroy()` to uninitialize Senzing and clean up resources. You should always do this once at the end of each process."
   ]
  },
  {
   "cell_type": "code",
   "execution_count": null,
   "metadata": {},
   "outputs": [],
   "source": [
    "int return_code = g2engine.destroy();\n",
    "\n",
    "if(return_code!=0)\n",
    "    System.out.print(g2engine.getLastException());\n",
    "else\n",
    "    System.out.print(return_code);"
   ]
  }
 ],
 "metadata": {
  "finalized": {
   "timestamp": 1577474557387,
   "trusted": true
  },
  "kernelspec": {
   "display_name": "Java",
   "language": "java",
   "name": "java"
  },
  "language_info": {
   "codemirror_mode": "java",
   "file_extension": ".jshell",
   "mimetype": "text/x-java-source",
   "name": "Java",
   "pygments_lexer": "java",
   "version": "11.0.11+9-Ubuntu-0ubuntu2.18.04"
  },
  "toc": {
   "base_numbering": 1,
   "nav_menu": {},
   "number_sections": true,
   "sideBar": true,
   "skip_h1_title": true,
   "title_cell": "Table of Contents",
   "title_sidebar": "Contents",
   "toc_cell": false,
   "toc_position": {},
   "toc_section_display": true,
   "toc_window_display": true
  }
 },
 "nbformat": 4,
 "nbformat_minor": 2
}
