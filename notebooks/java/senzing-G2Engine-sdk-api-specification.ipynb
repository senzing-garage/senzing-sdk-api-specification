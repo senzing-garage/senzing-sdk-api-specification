{
 "cells": [
  {
   "cell_type": "markdown",
   "metadata": {},
   "source": [
    "# G2Engine Reference\n",
    "\n",
    "**!! If you wish to run any of Senzing's Java notebooks navigate to \"Help\" -> \"Launch Classic Notebook\" !!**"
   ]
  },
  {
   "cell_type": "markdown",
   "metadata": {},
   "source": [
    "## Prepare Environment"
   ]
  },
  {
   "cell_type": "code",
   "execution_count": 1,
   "metadata": {},
   "outputs": [],
   "source": [
    "import com.senzing.g2.engine.G2Engine;\n",
    "import com.senzing.g2.engine.G2JNI;\n",
    "import com.senzing.g2.engine.G2ConfigMgr;\n",
    "import com.senzing.g2.engine.G2ConfigMgrJNI;\n",
    "import com.senzing.g2.engine.Result;"
   ]
  },
  {
   "cell_type": "markdown",
   "metadata": {},
   "source": [
    "### Helper class for Json Rendering"
   ]
  },
  {
   "cell_type": "code",
   "execution_count": 2,
   "metadata": {},
   "outputs": [],
   "source": [
    "%%loadFromPOM\n",
    "<dependency>\n",
    "    <groupId>org.glassfish</groupId>\n",
    "    <artifactId>javax.json</artifactId>\n",
    "    <version>1.1.4</version>\n",
    "</dependency>"
   ]
  },
  {
   "cell_type": "code",
   "execution_count": 3,
   "metadata": {},
   "outputs": [],
   "source": [
    "import javax.json.*;\n",
    "import static java.util.Collections.*;\n",
    "import static javax.json.stream.JsonGenerator.PRETTY_PRINTING;"
   ]
  },
  {
   "cell_type": "code",
   "execution_count": 4,
   "metadata": {},
   "outputs": [],
   "source": [
    "public class JsonUtil {\n",
    "    private static final JsonWriterFactory PRETTY_FACTORY\n",
    "        = Json.createWriterFactory(singletonMap(PRETTY_PRINTING, true));\n",
    "        \n",
    "    private static final JsonWriterFactory UGLY_FACTORY\n",
    "        = Json.createWriterFactory(emptyMap());\n",
    "    \n",
    "    public static String toJsonText(JsonValue val) {\n",
    "        return toJsonText(val, true);\n",
    "    }\n",
    "\n",
    "    public static String toJsonText(JsonValue val, boolean prettyPrint) {\n",
    "        JsonWriterFactory factory = (prettyPrint) ? PRETTY_FACTORY : UGLY_FACTORY;\n",
    "        StringWriter sw = new StringWriter();\n",
    "        JsonWriter writer = factory.createWriter(sw);\n",
    "        writer.write(val);\n",
    "        sw.flush();\n",
    "        return sw.toString();\n",
    "    }\n",
    "    \n",
    "    public static JsonObject parseJsonObject(String jsonText) {\n",
    "        if (jsonText == null) return null;\n",
    "        StringReader sr = new StringReader(jsonText);\n",
    "        JsonReader jsonReader = Json.createReader(sr);\n",
    "        return jsonReader.readObject();\n",
    "  }\n",
    "\n",
    "    public static JsonArray parseJsonArray(String jsonText) {\n",
    "        if (jsonText == null) return null;\n",
    "        StringReader sr = new StringReader(jsonText);\n",
    "        JsonReader jsonReader = Json.createReader(sr);\n",
    "        return jsonReader.readArray();\n",
    "  }\n",
    "    \n",
    "    \n",
    "}"
   ]
  },
  {
   "cell_type": "code",
   "execution_count": 5,
   "metadata": {},
   "outputs": [],
   "source": [
    "import java.util.UUID;\n",
    "public static void RenderJSON(Object obj){\n",
    "    String str = obj.toString();\n",
    "    JsonObject json = JsonUtil.parseJsonObject(str);\n",
    "    String Config = JsonUtil.toJsonText(json, false);\n",
    "    UUID id = UUID.randomUUID();\n",
    "    String uuid = id.toString();\n",
    "    String div = \"<div id=\\\"\"+ uuid +\"\\\" style=\\\"height:100%; width:100%; background-color: LightCyan\\\"></div>\";\n",
    "    display(div, \"text/html\");\n",
    "    String jav = \"require([\\\"https://rawgit.com/caldwell/renderjson/master/renderjson.js\\\"], function() {document.getElementById(\\'\"+ uuid +\"\\').appendChild(renderjson(\"+json+\"))});\";\n",
    "    display(jav, \"application/javascript\");\n",
    "}"
   ]
  },
  {
   "cell_type": "markdown",
   "metadata": {},
   "source": [
    "### Initialize Senzing configuration\n",
    "\n",
    "Using environment variables and default values, create `senzingConfigJson`.\n",
    "This value is used when instantiating Senzing objects."
   ]
  },
  {
   "cell_type": "code",
   "execution_count": 6,
   "metadata": {
    "scrolled": true
   },
   "outputs": [
    {
     "data": {
      "text/html": [
       "<div id=\"a8875954-48f1-4b0f-b5d9-afbe824ebfc0\" style=\"height:100%; width:100%; background-color: LightCyan\"></div>"
      ],
      "text/plain": [
       "<div id=\"a8875954-48f1-4b0f-b5d9-afbe824ebfc0\" style=\"height:100%; width:100%; background-color: LightCyan\"></div>"
      ]
     },
     "metadata": {},
     "output_type": "display_data"
    },
    {
     "data": {
      "application/javascript": [
       "require([\"https://rawgit.com/caldwell/renderjson/master/renderjson.js\"], function() {document.getElementById('a8875954-48f1-4b0f-b5d9-afbe824ebfc0').appendChild(renderjson({\"PIPELINE\":{\"CONFIGPATH\":\"/etc/opt/senzing\",\"SUPPORTPATH\":\"/opt/senzing/data\",\"RESOURCEPATH\":\"/opt/senzing/g2/resources\"},\"SQL\":{\"CONNECTION\":\"sqlite3://na:na@/var/opt/senzing/sqlite/G2C.db\"}}))});"
      ],
      "text/plain": [
       "require([\"https://rawgit.com/caldwell/renderjson/master/renderjson.js\"], function() {document.getElementById('a8875954-48f1-4b0f-b5d9-afbe824ebfc0').appendChild(renderjson({\"PIPELINE\":{\"CONFIGPATH\":\"/etc/opt/senzing\",\"SUPPORTPATH\":\"/opt/senzing/data\",\"RESOURCEPATH\":\"/opt/senzing/g2/resources\"},\"SQL\":{\"CONNECTION\":\"sqlite3://na:na@/var/opt/senzing/sqlite/G2C.db\"}}))});"
      ]
     },
     "metadata": {},
     "output_type": "display_data"
    }
   ],
   "source": [
    "// Get variables used in constructing Senzing Engine configuration.\n",
    "\n",
    "String configPath = System.getenv(\"SENZING_ETC_DIR\");\n",
    "if (configPath == null) {\n",
    "    configPath = \"/etc/opt/senzing\";\n",
    "}\n",
    "\n",
    "String supportPath = System.getenv(\"SENZING_DATA_VERSION_DIR\");\n",
    "if (supportPath == null) {\n",
    "    supportPath = \"/opt/senzing/data\";\n",
    "}\n",
    "\n",
    "String g2Path = System.getenv(\"SENZING_G2_DIR\");\n",
    "if (g2Path == null) {\n",
    "    g2Path = \"/opt/senzing/g2\";\n",
    "}\n",
    "\n",
    "String resourcePath = g2Path + \"/resources\";\n",
    "\n",
    "String sqlConnection = System.getenv(\"SENZING_SQL_CONNECTION\");\n",
    "if (sqlConnection == null) {\n",
    "    sqlConnection = \"sqlite3://na:na@/var/opt/senzing/sqlite/G2C.db\";\n",
    "}\n",
    "\n",
    "String senzingLicenseBase64 = System.getenv(\"SENZING_LICENSE_BASE64_ENCODED\");\n",
    "\n",
    "// Construct the JSON string used for Senzing Engine configuration.\n",
    "String senzingConfigJson;\n",
    "if(senzingLicenseBase64!=null){\n",
    "    senzingConfigJson = \"{\"\n",
    "   + \"\\\"PIPELINE\\\": {\"\n",
    "   +     \"\\\"CONFIGPATH\\\": \\\"\" + configPath + \"\\\",\"\n",
    "   +     \"\\\"LICENSESTRINGBASE64\\\": \\\"\" + senzingLicenseBase64 + \"\\\",\"\n",
    "   +     \"\\\"SUPPORTPATH\\\": \\\"\" + supportPath + \"\\\",\"\n",
    "   +     \"\\\"RESOURCEPATH\\\": \\\"\" + resourcePath + \"\\\"\"\n",
    "   + \"},\"\n",
    "   + \"\\\"SQL\\\": {\"\n",
    "   +     \"\\\"CONNECTION\\\": \\\"\" + sqlConnection + \"\\\"\"\n",
    "   + \"}}\";\n",
    "}\n",
    "\n",
    "else{\n",
    "    senzingConfigJson = \"{\"\n",
    "   + \"\\\"PIPELINE\\\": {\"\n",
    "   +     \"\\\"CONFIGPATH\\\": \\\"\" + configPath + \"\\\",\"\n",
    "   +     \"\\\"SUPPORTPATH\\\": \\\"\" + supportPath + \"\\\",\"\n",
    "   +     \"\\\"RESOURCEPATH\\\": \\\"\" + resourcePath + \"\\\"\"\n",
    "   + \"},\"\n",
    "   + \"\\\"SQL\\\": {\"\n",
    "   +     \"\\\"CONNECTION\\\": \\\"\" + sqlConnection + \"\\\"\"\n",
    "   + \"}}\";\n",
    "   \n",
    "}\n",
    "RenderJSON(senzingConfigJson);"
   ]
  },
  {
   "cell_type": "markdown",
   "metadata": {},
   "source": [
    "## G2Engine"
   ]
  },
  {
   "cell_type": "markdown",
   "metadata": {},
   "source": [
    "### G2Engine initialization\n",
    "\n",
    "To start using Senzing G2Engine, create and initialize an instance.\n",
    "This should be done once per process.\n",
    "###### Parameters\n",
    "\n",
    "- **moduleName:** (str) A short name given to this instance of the G2Engine\n",
    "  object.\n",
    "- **senzingConfigJson:** (str) A JSON string containing configuration parameters.\n",
    "- **verboseLogging:** (bool) A boolean which enables diagnostic logging.\n",
    "\n",
    "Calling this function will return \"0\" upon success."
   ]
  },
  {
   "cell_type": "code",
   "execution_count": 7,
   "metadata": {},
   "outputs": [
    {
     "name": "stdout",
     "output_type": "stream",
     "text": [
      "0"
     ]
    }
   ],
   "source": [
    "G2Engine g2engine = new G2JNI();\n",
    "\n",
    "String moduleName = \"ExampleG2Engine\";\n",
    "boolean verboseLogging = true;\n",
    "int return_code = g2engine.init(moduleName, senzingConfigJson, verboseLogging);\n",
    "System.out.print(return_code);"
   ]
  },
  {
   "cell_type": "markdown",
   "metadata": {},
   "source": [
    "#### destroy()\n",
    "destroy the engine so that we can initalize differently"
   ]
  },
  {
   "cell_type": "code",
   "execution_count": 8,
   "metadata": {},
   "outputs": [
    {
     "data": {
      "text/plain": [
       "0"
      ]
     },
     "execution_count": 8,
     "metadata": {},
     "output_type": "execute_result"
    }
   ],
   "source": [
    "g2engine.destroy();"
   ]
  },
  {
   "cell_type": "markdown",
   "metadata": {},
   "source": [
    "### initWithConfigID\n",
    "\n",
    "Alternatively `initWithConfigID()` can be used to specify a configuration.\n",
    "\n",
    "###### Parameters\n",
    "\n",
    "- **moduleName:** (str) A short name given to this instance of the G2Engine\n",
    "  object.\n",
    "- **senzingConfigJson:** (str) A JSON string containing configuration parameters.\n",
    "- **verboseLogging:** (bool) A boolean which enables diagnostic logging."
   ]
  },
  {
   "cell_type": "markdown",
   "metadata": {},
   "source": [
    "Create G2Config so that we can use a configID"
   ]
  },
  {
   "cell_type": "code",
   "execution_count": 9,
   "metadata": {},
   "outputs": [
    {
     "name": "stdout",
     "output_type": "stream",
     "text": [
      "0"
     ]
    }
   ],
   "source": [
    "String moduleName = \"ExampleG2Config\";\n",
    "boolean verboseLogging = true;\n",
    "\n",
    "G2ConfigMgr g2configMgr = new G2ConfigMgrJNI();\n",
    "int return_code = g2configMgr.init(moduleName, senzingConfigJson, verboseLogging);\n",
    "Result<Long> config = new Result<Long>();\n",
    "g2configMgr.getDefaultConfigID(config);\n",
    "if(return_code!=0)\n",
    "    System.out.print(g2configMgr.getLastException());\n",
    "else\n",
    "    System.out.print(return_code);"
   ]
  },
  {
   "cell_type": "code",
   "execution_count": 10,
   "metadata": {},
   "outputs": [
    {
     "name": "stdout",
     "output_type": "stream",
     "text": [
      "0"
     ]
    }
   ],
   "source": [
    "String moduleName = \"ExampleG2Engine\";\n",
    "boolean verboseLogging = true;\n",
    "int return_code = g2engine.initWithConfigID(moduleName, senzingConfigJson, config.getValue(), verboseLogging);\n",
    "\n",
    "System.out.print(return_code);"
   ]
  },
  {
   "cell_type": "markdown",
   "metadata": {},
   "source": [
    "### reinit\n",
    "\n",
    "The `reinit()` function may be used to reinitialize the engine with a configuration"
   ]
  },
  {
   "cell_type": "code",
   "execution_count": 11,
   "metadata": {},
   "outputs": [
    {
     "name": "stdout",
     "output_type": "stream",
     "text": [
      "0"
     ]
    }
   ],
   "source": [
    "String moduleName = \"ExampleG2Engine\";\n",
    "boolean verboseLogging = true;\n",
    "int return_code = g2engine.reinit(config.getValue());\n",
    "\n",
    "System.out.print(return_code);"
   ]
  },
  {
   "cell_type": "markdown",
   "metadata": {},
   "source": [
    "### primeEngine\n",
    "\n",
    "The `primeEngine()` method may optionally be called to pre-initialize\n",
    "some of the heavier weight internal resources of the G2 engine."
   ]
  },
  {
   "cell_type": "code",
   "execution_count": 12,
   "metadata": {},
   "outputs": [
    {
     "name": "stdout",
     "output_type": "stream",
     "text": [
      "0"
     ]
    }
   ],
   "source": [
    "int return_code= g2engine.primeEngine();\n",
    "if(return_code!=0)\n",
    "    System.out.print(g2engine.getLastException());\n",
    "System.out.print(return_code)"
   ]
  },
  {
   "cell_type": "markdown",
   "metadata": {},
   "source": [
    "### getActiveConfigID\n",
    "\n",
    "Call `getActiveConfigID()` to return an identifier for the loaded\n",
    "Senzing engine configuration.\n",
    "The call will assign a long integer to a user-designated variable\n",
    "\n",
    "###### Parameters\n",
    "\n",
    "- **configID:** (long) The identifier value for the engine configuration. The result of function call is returned here"
   ]
  },
  {
   "cell_type": "code",
   "execution_count": 13,
   "metadata": {},
   "outputs": [
    {
     "name": "stdout",
     "output_type": "stream",
     "text": [
      "2425495991"
     ]
    }
   ],
   "source": [
    "Result<Long> configID = new Result<Long>();\n",
    "g2engine.getActiveConfigID(configID);\n",
    "\n",
    "System.out.print(configID.getValue());"
   ]
  },
  {
   "cell_type": "markdown",
   "metadata": {},
   "source": [
    "### exportConfig\n",
    "\n",
    "Call `exportConfig()` to retrieve your Senzing engine's configuration.\n",
    "The call will assign a JSON document to a user-designated buffer,\n",
    "containing all relevant configuration information\n",
    "-- the function itself will return \"0\" upon success.\n",
    "The exportConfig function accepts the following parameters as input:\n",
    "\n",
    "###### Parameters\n",
    "\n",
    "- **response:** (StringBuffer) Object to store the output of the method. Can be used to print or store for later.\n",
    "- **configID:** (long) The identifier value for the engine configuration. The result of function call is returned here"
   ]
  },
  {
   "cell_type": "code",
   "execution_count": 14,
   "metadata": {},
   "outputs": [
    {
     "data": {
      "text/html": [
       "<div id=\"378ec009-b89d-4f46-85c0-d26cf2e5fc1d\" style=\"height:100%; width:100%; background-color: LightCyan\"></div>"
      ],
      "text/plain": [
       "<div id=\"378ec009-b89d-4f46-85c0-d26cf2e5fc1d\" style=\"height:100%; width:100%; background-color: LightCyan\"></div>"
      ]
     },
     "metadata": {},
     "output_type": "display_data"
    },
    {
     "data": {
      "application/javascript": [
       "require([\"https://rawgit.com/caldwell/renderjson/master/renderjson.js\"], function() {document.getElementById('378ec009-b89d-4f46-85c0-d26cf2e5fc1d').appendChild(renderjson({\"G2_CONFIG\":{\"CFG_ETYPE\":[{\"ETYPE_ID\":1,\"ETYPE_CODE\":\"TEST\",\"ETYPE_DESC\":\"Test\",\"ECLASS_ID\":1},{\"ETYPE_ID\":3,\"ETYPE_CODE\":\"GENERIC\",\"ETYPE_DESC\":\"Generic entity\",\"ECLASS_ID\":1}],\"CFG_DSRC_INTEREST\":[],\"CFG_ECLASS\":[{\"ECLASS_ID\":1,\"ECLASS_CODE\":\"ACTOR\",\"ECLASS_DESC\":\"Actor\",\"RESOLVE\":\"Yes\"}],\"CFG_RCLASS\":[{\"RCLASS_ID\":1,\"RCLASS_CODE\":\"DERIVED\",\"RCLASS_DESC\":\"Derived\",\"IS_DISCLOSED\":\"No\"},{\"RCLASS_ID\":2,\"RCLASS_CODE\":\"DISCLOSED\",\"RCLASS_DESC\":\"Disclosed\",\"IS_DISCLOSED\":\"Yes\"}],\"CFG_FTYPE\":[{\"FTYPE_ID\":1,\"FTYPE_CODE\":\"NAME\",\"FCLASS_ID\":1,\"FTYPE_FREQ\":\"NAME\",\"FTYPE_EXCL\":\"No\",\"FTYPE_STAB\":\"No\",\"PERSIST_HISTORY\":\"Yes\",\"USED_FOR_CAND\":\"No\",\"DERIVED\":\"No\",\"RTYPE_ID\":0,\"ANONYMIZE\":\"No\",\"VERSION\":2,\"SHOW_IN_MATCH_KEY\":\"Yes\"},{\"FTYPE_ID\":2,\"FTYPE_CODE\":\"DOB\",\"FCLASS_ID\":2,\"FTYPE_FREQ\":\"FM\",\"FTYPE_EXCL\":\"Yes\",\"FTYPE_STAB\":\"Yes\",\"PERSIST_HISTORY\":\"Yes\",\"USED_FOR_CAND\":\"Yes\",\"DERIVED\":\"No\",\"RTYPE_ID\":0,\"ANONYMIZE\":\"No\",\"VERSION\":2,\"SHOW_IN_MATCH_KEY\":\"Yes\"},{\"FTYPE_ID\":3,\"FTYPE_CODE\":\"DOD\",\"FCLASS_ID\":2,\"FTYPE_FREQ\":\"FM\",\"FTYPE_EXCL\":\"Yes\",\"FTYPE_STAB\":\"Yes\",\"PERSIST_HISTORY\":\"Yes\",\"USED_FOR_CAND\":\"Yes\",\"DERIVED\":\"No\",\"RTYPE_ID\":0,\"ANONYMIZE\":\"No\",\"VERSION\":2,\"SHOW_IN_MATCH_KEY\":\"Yes\"},{\"FTYPE_ID\":4,\"FTYPE_CODE\":\"GENDER\",\"FCLASS_ID\":3,\"FTYPE_FREQ\":\"FVM\",\"FTYPE_EXCL\":\"Yes\",\"FTYPE_STAB\":\"No\",\"PERSIST_HISTORY\":\"Yes\",\"USED_FOR_CAND\":\"No\",\"DERIVED\":\"No\",\"RTYPE_ID\":0,\"ANONYMIZE\":\"No\",\"VERSION\":1,\"SHOW_IN_MATCH_KEY\":\"Denial\"},{\"FTYPE_ID\":5,\"FTYPE_CODE\":\"ADDRESS\",\"FCLASS_ID\":4,\"FTYPE_FREQ\":\"FF\",\"FTYPE_EXCL\":\"No\",\"FTYPE_STAB\":\"No\",\"PERSIST_HISTORY\":\"Yes\",\"USED_FOR_CAND\":\"No\",\"DERIVED\":\"No\",\"RTYPE_ID\":0,\"ANONYMIZE\":\"No\",\"VERSION\":4,\"SHOW_IN_MATCH_KEY\":\"Yes\"},{\"FTYPE_ID\":6,\"FTYPE_CODE\":\"PHONE\",\"FCLASS_ID\":5,\"FTYPE_FREQ\":\"FF\",\"FTYPE_EXCL\":\"No\",\"FTYPE_STAB\":\"No\",\"PERSIST_HISTORY\":\"Yes\",\"USED_FOR_CAND\":\"Yes\",\"DERIVED\":\"No\",\"RTYPE_ID\":0,\"ANONYMIZE\":\"No\",\"VERSION\":1,\"SHOW_IN_MATCH_KEY\":\"Yes\"},{\"FTYPE_ID\":7,\"FTYPE_CODE\":\"SSN\",\"FCLASS_ID\":7,\"FTYPE_FREQ\":\"F1\",\"FTYPE_EXCL\":\"Yes\",\"FTYPE_STAB\":\"Yes\",\"PERSIST_HISTORY\":\"Yes\",\"USED_FOR_CAND\":\"Yes\",\"DERIVED\":\"No\",\"RTYPE_ID\":0,\"ANONYMIZE\":\"No\",\"VERSION\":1,\"SHOW_IN_MATCH_KEY\":\"Yes\"},{\"FTYPE_ID\":9,\"FTYPE_CODE\":\"DRLIC\",\"FCLASS_ID\":7,\"FTYPE_FREQ\":\"F1\",\"FTYPE_EXCL\":\"Yes\",\"FTYPE_STAB\":\"No\",\"PERSIST_HISTORY\":\"Yes\",\"USED_FOR_CAND\":\"Yes\",\"DERIVED\":\"No\",\"RTYPE_ID\":0,\"ANONYMIZE\":\"No\",\"VERSION\":1,\"SHOW_IN_MATCH_KEY\":\"Yes\"},{\"FTYPE_ID\":10,\"FTYPE_CODE\":\"PASSPORT\",\"FCLASS_ID\":7,\"FTYPE_FREQ\":\"F1\",\"FTYPE_EXCL\":\"Yes\",\"FTYPE_STAB\":\"No\",\"PERSIST_HISTORY\":\"Yes\",\"USED_FOR_CAND\":\"Yes\",\"DERIVED\":\"No\",\"RTYPE_ID\":0,\"ANONYMIZE\":\"No\",\"VERSION\":2,\"SHOW_IN_MATCH_KEY\":\"Yes\"},{\"FTYPE_ID\":11,\"FTYPE_CODE\":\"TAX_ID\",\"FCLASS_ID\":7,\"FTYPE_FREQ\":\"F1\",\"FTYPE_EXCL\":\"Yes\",\"FTYPE_STAB\":\"Yes\",\"PERSIST_HISTORY\":\"Yes\",\"USED_FOR_CAND\":\"Yes\",\"DERIVED\":\"No\",\"RTYPE_ID\":0,\"ANONYMIZE\":\"No\",\"VERSION\":2,\"SHOW_IN_MATCH_KEY\":\"Yes\"},{\"FTYPE_ID\":12,\"FTYPE_CODE\":\"NATIONAL_ID\",\"FCLASS_ID\":7,\"FTYPE_FREQ\":\"F1\",\"FTYPE_EXCL\":\"Yes\",\"FTYPE_STAB\":\"Yes\",\"PERSIST_HISTORY\":\"Yes\",\"USED_FOR_CAND\":\"Yes\",\"DERIVED\":\"No\",\"RTYPE_ID\":0,\"ANONYMIZE\":\"No\",\"VERSION\":2,\"SHOW_IN_MATCH_KEY\":\"Yes\"},{\"FTYPE_ID\":13,\"FTYPE_CODE\":\"LOGIN_ID\",\"FCLASS_ID\":6,\"FTYPE_FREQ\":\"F1\",\"FTYPE_EXCL\":\"No\",\"FTYPE_STAB\":\"No\",\"PERSIST_HISTORY\":\"Yes\",\"USED_FOR_CAND\":\"Yes\",\"DERIVED\":\"No\",\"RTYPE_ID\":0,\"ANONYMIZE\":\"No\",\"VERSION\":1,\"SHOW_IN_MATCH_KEY\":\"Yes\"},{\"FTYPE_ID\":14,\"FTYPE_CODE\":\"EMAIL\",\"FCLASS_ID\":6,\"FTYPE_FREQ\":\"F1\",\"FTYPE_EXCL\":\"No\",\"FTYPE_STAB\":\"No\",\"PERSIST_HISTORY\":\"Yes\",\"USED_FOR_CAND\":\"Yes\",\"DERIVED\":\"No\",\"RTYPE_ID\":0,\"ANONYMIZE\":\"No\",\"VERSION\":2,\"SHOW_IN_MATCH_KEY\":\"Yes\"},{\"FTYPE_ID\":15,\"FTYPE_CODE\":\"WEBSITE\",\"FCLASS_ID\":6,\"FTYPE_FREQ\":\"FF\",\"FTYPE_EXCL\":\"No\",\"FTYPE_STAB\":\"No\",\"PERSIST_HISTORY\":\"Yes\",\"USED_FOR_CAND\":\"Yes\",\"DERIVED\":\"No\",\"RTYPE_ID\":0,\"ANONYMIZE\":\"No\",\"VERSION\":1,\"SHOW_IN_MATCH_KEY\":\"Yes\"},{\"FTYPE_ID\":16,\"FTYPE_CODE\":\"ACCT_NUM\",\"FCLASS_ID\":7,\"FTYPE_FREQ\":\"F1\",\"FTYPE_EXCL\":\"No\",\"FTYPE_STAB\":\"No\",\"PERSIST_HISTORY\":\"Yes\",\"USED_FOR_CAND\":\"Yes\",\"DERIVED\":\"No\",\"RTYPE_ID\":0,\"ANONYMIZE\":\"No\",\"VERSION\":1,\"SHOW_IN_MATCH_KEY\":\"Yes\"},{\"FTYPE_ID\":18,\"FTYPE_CODE\":\"NAME_KEY\",\"FCLASS_ID\":10,\"FTYPE_FREQ\":\"NAME\",\"FTYPE_EXCL\":\"No\",\"FTYPE_STAB\":\"No\",\"PERSIST_HISTORY\":\"Yes\",\"USED_FOR_CAND\":\"Yes\",\"DERIVED\":\"Yes\",\"RTYPE_ID\":0,\"ANONYMIZE\":\"No\",\"VERSION\":1,\"SHOW_IN_MATCH_KEY\":\"No\"},{\"FTYPE_ID\":19,\"FTYPE_CODE\":\"ADDR_KEY\",\"FCLASS_ID\":10,\"FTYPE_FREQ\":\"FF\",\"FTYPE_EXCL\":\"No\",\"FTYPE_STAB\":\"No\",\"PERSIST_HISTORY\":\"Yes\",\"USED_FOR_CAND\":\"Yes\",\"DERIVED\":\"Yes\",\"RTYPE_ID\":0,\"ANONYMIZE\":\"No\",\"VERSION\":1,\"SHOW_IN_MATCH_KEY\":\"No\"},{\"FTYPE_ID\":20,\"FTYPE_CODE\":\"ID_KEY\",\"FCLASS_ID\":10,\"FTYPE_FREQ\":\"F1\",\"FTYPE_EXCL\":\"No\",\"FTYPE_STAB\":\"No\",\"PERSIST_HISTORY\":\"Yes\",\"USED_FOR_CAND\":\"Yes\",\"DERIVED\":\"Yes\",\"RTYPE_ID\":0,\"ANONYMIZE\":\"No\",\"VERSION\":1,\"SHOW_IN_MATCH_KEY\":\"No\"},{\"FTYPE_ID\":21,\"FTYPE_CODE\":\"PHONE_KEY\",\"FCLASS_ID\":10,\"FTYPE_FREQ\":\"FF\",\"FTYPE_EXCL\":\"No\",\"FTYPE_STAB\":\"No\",\"PERSIST_HISTORY\":\"Yes\",\"USED_FOR_CAND\":\"Yes\",\"DERIVED\":\"Yes\",\"RTYPE_ID\":0,\"ANONYMIZE\":\"No\",\"VERSION\":1,\"SHOW_IN_MATCH_KEY\":\"No\"},{\"FTYPE_ID\":22,\"FTYPE_CODE\":\"SEARCH_KEY\",\"FCLASS_ID\":10,\"FTYPE_FREQ\":\"FF\",\"FTYPE_EXCL\":\"No\",\"FTYPE_STAB\":\"No\",\"PERSIST_HISTORY\":\"Yes\",\"USED_FOR_CAND\":\"Yes\",\"DERIVED\":\"Yes\",\"RTYPE_ID\":0,\"ANONYMIZE\":\"No\",\"VERSION\":1,\"SHOW_IN_MATCH_KEY\":\"No\"},{\"FTYPE_ID\":23,\"FTYPE_CODE\":\"REL_LINK\",\"FCLASS_ID\":12,\"FTYPE_FREQ\":\"NONE\",\"FTYPE_EXCL\":\"No\",\"FTYPE_STAB\":\"No\",\"PERSIST_HISTORY\":\"Yes\",\"USED_FOR_CAND\":\"No\",\"DERIVED\":\"No\",\"RTYPE_ID\":11,\"ANONYMIZE\":\"No\",\"VERSION\":1,\"SHOW_IN_MATCH_KEY\":\"Yes\"},{\"FTYPE_ID\":24,\"FTYPE_CODE\":\"GEO_LOC\",\"FCLASS_ID\":11,\"FTYPE_FREQ\":\"FF\",\"FTYPE_EXCL\":\"Yes\",\"FTYPE_STAB\":\"No\",\"PERSIST_HISTORY\":\"Yes\",\"USED_FOR_CAND\":\"Yes\",\"DERIVED\":\"No\",\"RTYPE_ID\":0,\"ANONYMIZE\":\"No\",\"VERSION\":1,\"SHOW_IN_MATCH_KEY\":\"Confirm\"},{\"FTYPE_ID\":26,\"FTYPE_CODE\":\"STB_KEY\",\"FCLASS_ID\":10,\"FTYPE_FREQ\":\"FF\",\"FTYPE_EXCL\":\"No\",\"FTYPE_STAB\":\"No\",\"PERSIST_HISTORY\":\"Yes\",\"USED_FOR_CAND\":\"Yes\",\"DERIVED\":\"No\",\"RTYPE_ID\":0,\"ANONYMIZE\":\"No\",\"VERSION\":1,\"SHOW_IN_MATCH_KEY\":\"Confirm\"},{\"FTYPE_ID\":27,\"FTYPE_CODE\":\"INTERESTING_ENTITY\",\"FCLASS_ID\":9,\"FTYPE_FREQ\":\"FM\",\"FTYPE_EXCL\":\"No\",\"FTYPE_STAB\":\"No\",\"PERSIST_HISTORY\":\"No\",\"USED_FOR_CAND\":\"Yes\",\"DERIVED\":\"No\",\"RTYPE_ID\":0,\"ANONYMIZE\":\"No\",\"VERSION\":1,\"SHOW_IN_MATCH_KEY\":\"No\"},{\"FTYPE_ID\":28,\"FTYPE_CODE\":\"CONFUSED_ENTITY\",\"FCLASS_ID\":9,\"FTYPE_FREQ\":\"FM\",\"FTYPE_EXCL\":\"No\",\"FTYPE_STAB\":\"No\",\"PERSIST_HISTORY\":\"No\",\"USED_FOR_CAND\":\"No\",\"DERIVED\":\"Yes\",\"RTYPE_ID\":0,\"ANONYMIZE\":\"No\",\"VERSION\":1,\"SHOW_IN_MATCH_KEY\":\"No\"},{\"FTYPE_ID\":36,\"FTYPE_CODE\":\"VEH_VIN\",\"FCLASS_ID\":7,\"FTYPE_FREQ\":\"F1\",\"FTYPE_EXCL\":\"Yes\",\"FTYPE_STAB\":\"Yes\",\"PERSIST_HISTORY\":\"Yes\",\"USED_FOR_CAND\":\"Yes\",\"DERIVED\":\"No\",\"RTYPE_ID\":0,\"ANONYMIZE\":\"No\",\"VERSION\":1,\"SHOW_IN_MATCH_KEY\":\"Yes\"},{\"FTYPE_ID\":37,\"FTYPE_CODE\":\"VEH_LIC_PLATE\",\"FCLASS_ID\":7,\"FTYPE_FREQ\":\"F1\",\"FTYPE_EXCL\":\"Yes\",\"FTYPE_STAB\":\"No\",\"PERSIST_HISTORY\":\"Yes\",\"USED_FOR_CAND\":\"Yes\",\"DERIVED\":\"No\",\"RTYPE_ID\":0,\"ANONYMIZE\":\"No\",\"VERSION\":1,\"SHOW_IN_MATCH_KEY\":\"Yes\"},{\"FTYPE_ID\":52,\"FTYPE_CODE\":\"OTHER_ID\",\"FCLASS_ID\":7,\"FTYPE_FREQ\":\"F1\",\"FTYPE_EXCL\":\"No\",\"FTYPE_STAB\":\"No\",\"PERSIST_HISTORY\":\"Yes\",\"USED_FOR_CAND\":\"Yes\",\"DERIVED\":\"No\",\"RTYPE_ID\":0,\"ANONYMIZE\":\"No\",\"VERSION\":2,\"SHOW_IN_MATCH_KEY\":\"Yes\"},{\"FTYPE_ID\":53,\"FTYPE_CODE\":\"TRUSTED_ID\",\"FCLASS_ID\":7,\"FTYPE_FREQ\":\"A1\",\"FTYPE_EXCL\":\"Yes\",\"FTYPE_STAB\":\"Yes\",\"PERSIST_HISTORY\":\"Yes\",\"USED_FOR_CAND\":\"Yes\",\"DERIVED\":\"No\",\"RTYPE_ID\":0,\"ANONYMIZE\":\"No\",\"VERSION\":1,\"SHOW_IN_MATCH_KEY\":\"Yes\"},{\"FTYPE_ID\":54,\"FTYPE_CODE\":\"CITIZENSHIP\",\"FCLASS_ID\":3,\"FTYPE_FREQ\":\"FVM\",\"FTYPE_EXCL\":\"No\",\"FTYPE_STAB\":\"No\",\"PERSIST_HISTORY\":\"Yes\",\"USED_FOR_CAND\":\"No\",\"DERIVED\":\"No\",\"RTYPE_ID\":0,\"ANONYMIZE\":\"No\",\"VERSION\":2,\"SHOW_IN_MATCH_KEY\":\"Yes\"},{\"FTYPE_ID\":55,\"FTYPE_CODE\":\"NATIONALITY\",\"FCLASS_ID\":3,\"FTYPE_FREQ\":\"FVM\",\"FTYPE_EXCL\":\"No\",\"FTYPE_STAB\":\"No\",\"PERSIST_HISTORY\":\"Yes\",\"USED_FOR_CAND\":\"No\",\"DERIVED\":\"No\",\"RTYPE_ID\":0,\"ANONYMIZE\":\"No\",\"VERSION\":2,\"SHOW_IN_MATCH_KEY\":\"Yes\"},{\"FTYPE_ID\":56,\"FTYPE_CODE\":\"PHYSICAL_ATTRIBUTE\",\"FCLASS_ID\":9,\"FTYPE_FREQ\":\"FVM\",\"FTYPE_EXCL\":\"Yes\",\"FTYPE_STAB\":\"No\",\"PERSIST_HISTORY\":\"Yes\",\"USED_FOR_CAND\":\"Yes\",\"DERIVED\":\"No\",\"RTYPE_ID\":0,\"ANONYMIZE\":\"No\",\"VERSION\":1,\"SHOW_IN_MATCH_KEY\":\"Denial\"},{\"FTYPE_ID\":57,\"FTYPE_CODE\":\"GROUP_ASSOCIATION\",\"FCLASS_ID\":9,\"FTYPE_FREQ\":\"FF\",\"FTYPE_EXCL\":\"No\",\"FTYPE_STAB\":\"No\",\"PERSIST_HISTORY\":\"Yes\",\"USED_FOR_CAND\":\"No\",\"DERIVED\":\"No\",\"RTYPE_ID\":0,\"ANONYMIZE\":\"No\",\"VERSION\":1,\"SHOW_IN_MATCH_KEY\":\"Yes\"},{\"FTYPE_ID\":58,\"FTYPE_CODE\":\"AMBIGUOUS_ENTITY\",\"FCLASS_ID\":9,\"FTYPE_FREQ\":\"FM\",\"FTYPE_EXCL\":\"No\",\"FTYPE_STAB\":\"No\",\"PERSIST_HISTORY\":\"No\",\"USED_FOR_CAND\":\"No\",\"DERIVED\":\"Yes\",\"RTYPE_ID\":0,\"ANONYMIZE\":\"No\",\"VERSION\":1,\"SHOW_IN_MATCH_KEY\":\"No\"},{\"FTYPE_ID\":59,\"FTYPE_CODE\":\"EMPLOYER\",\"FCLASS_ID\":9,\"FTYPE_FREQ\":\"FF\",\"FTYPE_EXCL\":\"No\",\"FTYPE_STAB\":\"No\",\"PERSIST_HISTORY\":\"Yes\",\"USED_FOR_CAND\":\"Yes\",\"DERIVED\":\"No\",\"RTYPE_ID\":0,\"ANONYMIZE\":\"No\",\"VERSION\":1,\"SHOW_IN_MATCH_KEY\":\"Yes\"},{\"FTYPE_ID\":60,\"FTYPE_CODE\":\"LINKEDIN\",\"FCLASS_ID\":6,\"FTYPE_FREQ\":\"F1\",\"FTYPE_EXCL\":\"No\",\"FTYPE_STAB\":\"No\",\"PERSIST_HISTORY\":\"Yes\",\"USED_FOR_CAND\":\"Yes\",\"DERIVED\":\"No\",\"RTYPE_ID\":0,\"ANONYMIZE\":\"No\",\"VERSION\":1,\"SHOW_IN_MATCH_KEY\":\"Yes\"},{\"FTYPE_ID\":61,\"FTYPE_CODE\":\"FACEBOOK\",\"FCLASS_ID\":6,\"FTYPE_FREQ\":\"F1\",\"FTYPE_EXCL\":\"No\",\"FTYPE_STAB\":\"No\",\"PERSIST_HISTORY\":\"Yes\",\"USED_FOR_CAND\":\"Yes\",\"DERIVED\":\"No\",\"RTYPE_ID\":0,\"ANONYMIZE\":\"No\",\"VERSION\":1,\"SHOW_IN_MATCH_KEY\":\"Yes\"},{\"FTYPE_ID\":62,\"FTYPE_CODE\":\"TWITTER\",\"FCLASS_ID\":6,\"FTYPE_FREQ\":\"F1\",\"FTYPE_EXCL\":\"No\",\"FTYPE_STAB\":\"No\",\"PERSIST_HISTORY\":\"Yes\",\"USED_FOR_CAND\":\"Yes\",\"DERIVED\":\"No\",\"RTYPE_ID\":0,\"ANONYMIZE\":\"No\",\"VERSION\":1,\"SHOW_IN_MATCH_KEY\":\"Yes\"},{\"FTYPE_ID\":63,\"FTYPE_CODE\":\"SKYPE\",\"FCLASS_ID\":6,\"FTYPE_FREQ\":\"F1\",\"FTYPE_EXCL\":\"No\",\"FTYPE_STAB\":\"No\",\"PERSIST_HISTORY\":\"Yes\",\"USED_FOR_CAND\":\"Yes\",\"DERIVED\":\"No\",\"RTYPE_ID\":0,\"ANONYMIZE\":\"No\",\"VERSION\":1,\"SHOW_IN_MATCH_KEY\":\"Yes\"},{\"FTYPE_ID\":64,\"FTYPE_CODE\":\"ZOOMROOM\",\"FCLASS_ID\":6,\"FTYPE_FREQ\":\"F1\",\"FTYPE_EXCL\":\"No\",\"FTYPE_STAB\":\"No\",\"PERSIST_HISTORY\":\"Yes\",\"USED_FOR_CAND\":\"Yes\",\"DERIVED\":\"No\",\"RTYPE_ID\":0,\"ANONYMIZE\":\"No\",\"VERSION\":1,\"SHOW_IN_MATCH_KEY\":\"Yes\"},{\"FTYPE_ID\":65,\"FTYPE_CODE\":\"INSTAGRAM\",\"FCLASS_ID\":6,\"FTYPE_FREQ\":\"F1\",\"FTYPE_EXCL\":\"No\",\"FTYPE_STAB\":\"No\",\"PERSIST_HISTORY\":\"Yes\",\"USED_FOR_CAND\":\"Yes\",\"DERIVED\":\"No\",\"RTYPE_ID\":0,\"ANONYMIZE\":\"No\",\"VERSION\":1,\"SHOW_IN_MATCH_KEY\":\"Yes\"},{\"FTYPE_ID\":66,\"FTYPE_CODE\":\"WHATSAPP\",\"FCLASS_ID\":6,\"FTYPE_FREQ\":\"F1\",\"FTYPE_EXCL\":\"No\",\"FTYPE_STAB\":\"No\",\"PERSIST_HISTORY\":\"Yes\",\"USED_FOR_CAND\":\"Yes\",\"DERIVED\":\"No\",\"RTYPE_ID\":0,\"ANONYMIZE\":\"No\",\"VERSION\":1,\"SHOW_IN_MATCH_KEY\":\"Yes\"},{\"FTYPE_ID\":67,\"FTYPE_CODE\":\"SIGNAL\",\"FCLASS_ID\":6,\"FTYPE_FREQ\":\"F1\",\"FTYPE_EXCL\":\"No\",\"FTYPE_STAB\":\"No\",\"PERSIST_HISTORY\":\"Yes\",\"USED_FOR_CAND\":\"Yes\",\"DERIVED\":\"No\",\"RTYPE_ID\":0,\"ANONYMIZE\":\"No\",\"VERSION\":1,\"SHOW_IN_MATCH_KEY\":\"Yes\"},{\"FTYPE_ID\":68,\"FTYPE_CODE\":\"TELEGRAM\",\"FCLASS_ID\":6,\"FTYPE_FREQ\":\"F1\",\"FTYPE_EXCL\":\"No\",\"FTYPE_STAB\":\"No\",\"PERSIST_HISTORY\":\"Yes\",\"USED_FOR_CAND\":\"Yes\",\"DERIVED\":\"No\",\"RTYPE_ID\":0,\"ANONYMIZE\":\"No\",\"VERSION\":1,\"SHOW_IN_MATCH_KEY\":\"Yes\"},{\"FTYPE_ID\":69,\"FTYPE_CODE\":\"TANGO\",\"FCLASS_ID\":6,\"FTYPE_FREQ\":\"F1\",\"FTYPE_EXCL\":\"No\",\"FTYPE_STAB\":\"No\",\"PERSIST_HISTORY\":\"Yes\",\"USED_FOR_CAND\":\"Yes\",\"DERIVED\":\"No\",\"RTYPE_ID\":0,\"ANONYMIZE\":\"No\",\"VERSION\":1,\"SHOW_IN_MATCH_KEY\":\"Yes\"},{\"FTYPE_ID\":70,\"FTYPE_CODE\":\"VIBER\",\"FCLASS_ID\":6,\"FTYPE_FREQ\":\"F1\",\"FTYPE_EXCL\":\"No\",\"FTYPE_STAB\":\"No\",\"PERSIST_HISTORY\":\"Yes\",\"USED_FOR_CAND\":\"Yes\",\"DERIVED\":\"No\",\"RTYPE_ID\":0,\"ANONYMIZE\":\"No\",\"VERSION\":1,\"SHOW_IN_MATCH_KEY\":\"Yes\"},{\"FTYPE_ID\":71,\"FTYPE_CODE\":\"WECHAT\",\"FCLASS_ID\":6,\"FTYPE_FREQ\":\"F1\",\"FTYPE_EXCL\":\"No\",\"FTYPE_STAB\":\"No\",\"PERSIST_HISTORY\":\"Yes\",\"USED_FOR_CAND\":\"Yes\",\"DERIVED\":\"No\",\"RTYPE_ID\":0,\"ANONYMIZE\":\"No\",\"VERSION\":1,\"SHOW_IN_MATCH_KEY\":\"Yes\"},{\"FTYPE_ID\":72,\"FTYPE_CODE\":\"RECORD_TYPE\",\"FCLASS_ID\":3,\"FTYPE_FREQ\":\"FVM\",\"FTYPE_EXCL\":\"Yes\",\"FTYPE_STAB\":\"No\",\"PERSIST_HISTORY\":\"Yes\",\"USED_FOR_CAND\":\"No\",\"DERIVED\":\"No\",\"RTYPE_ID\":0,\"ANONYMIZE\":\"No\",\"VERSION\":1,\"SHOW_IN_MATCH_KEY\":\"Denial\"},{\"FTYPE_ID\":74,\"FTYPE_CODE\":\"PLACE_OF_BIRTH\",\"FCLASS_ID\":3,\"FTYPE_FREQ\":\"FVM\",\"FTYPE_EXCL\":\"No\",\"FTYPE_STAB\":\"No\",\"PERSIST_HISTORY\":\"Yes\",\"USED_FOR_CAND\":\"No\",\"DERIVED\":\"No\",\"RTYPE_ID\":0,\"ANONYMIZE\":\"No\",\"VERSION\":1,\"SHOW_IN_MATCH_KEY\":\"Yes\"},{\"FTYPE_ID\":75,\"FTYPE_CODE\":\"REGISTRATION_DATE\",\"FCLASS_ID\":2,\"FTYPE_FREQ\":\"FM\",\"FTYPE_EXCL\":\"Yes\",\"FTYPE_STAB\":\"Yes\",\"PERSIST_HISTORY\":\"Yes\",\"USED_FOR_CAND\":\"Yes\",\"DERIVED\":\"No\",\"RTYPE_ID\":0,\"ANONYMIZE\":\"No\",\"VERSION\":2,\"SHOW_IN_MATCH_KEY\":\"Yes\"},{\"FTYPE_ID\":76,\"FTYPE_CODE\":\"REGISTRATION_COUNTRY\",\"FCLASS_ID\":3,\"FTYPE_FREQ\":\"FVM\",\"FTYPE_EXCL\":\"No\",\"FTYPE_STAB\":\"No\",\"PERSIST_HISTORY\":\"Yes\",\"USED_FOR_CAND\":\"No\",\"DERIVED\":\"No\",\"RTYPE_ID\":0,\"ANONYMIZE\":\"No\",\"VERSION\":1,\"SHOW_IN_MATCH_KEY\":\"Yes\"},{\"FTYPE_ID\":77,\"FTYPE_CODE\":\"GROUP_ASSN_ID\",\"FCLASS_ID\":9,\"FTYPE_FREQ\":\"FF\",\"FTYPE_EXCL\":\"No\",\"FTYPE_STAB\":\"No\",\"PERSIST_HISTORY\":\"Yes\",\"USED_FOR_CAND\":\"Yes\",\"DERIVED\":\"No\",\"RTYPE_ID\":0,\"ANONYMIZE\":\"No\",\"VERSION\":1,\"SHOW_IN_MATCH_KEY\":\"Yes\"},{\"FTYPE_ID\":78,\"FTYPE_CODE\":\"DUNS_NUMBER\",\"FCLASS_ID\":7,\"FTYPE_FREQ\":\"F1\",\"FTYPE_EXCL\":\"Yes\",\"FTYPE_STAB\":\"No\",\"PERSIST_HISTORY\":\"Yes\",\"USED_FOR_CAND\":\"Yes\",\"DERIVED\":\"No\",\"RTYPE_ID\":0,\"ANONYMIZE\":\"No\",\"VERSION\":2,\"SHOW_IN_MATCH_KEY\":\"Yes\"},{\"FTYPE_ID\":79,\"FTYPE_CODE\":\"NPI_NUMBER\",\"FCLASS_ID\":7,\"FTYPE_FREQ\":\"F1\",\"FTYPE_EXCL\":\"Yes\",\"FTYPE_STAB\":\"No\",\"PERSIST_HISTORY\":\"Yes\",\"USED_FOR_CAND\":\"Yes\",\"DERIVED\":\"No\",\"RTYPE_ID\":0,\"ANONYMIZE\":\"No\",\"VERSION\":2,\"SHOW_IN_MATCH_KEY\":\"Yes\"},{\"FTYPE_ID\":80,\"FTYPE_CODE\":\"LEI_NUMBER\",\"FCLASS_ID\":7,\"FTYPE_FREQ\":\"F1\",\"FTYPE_EXCL\":\"Yes\",\"FTYPE_STAB\":\"No\",\"PERSIST_HISTORY\":\"Yes\",\"USED_FOR_CAND\":\"Yes\",\"DERIVED\":\"No\",\"RTYPE_ID\":0,\"ANONYMIZE\":\"No\",\"VERSION\":2,\"SHOW_IN_MATCH_KEY\":\"Yes\"},{\"FTYPE_ID\":86,\"FTYPE_CODE\":\"COUNTRY_OF_ASSOCIATION\",\"FCLASS_ID\":3,\"FTYPE_FREQ\":\"FVM\",\"FTYPE_EXCL\":\"No\",\"FTYPE_STAB\":\"No\",\"PERSIST_HISTORY\":\"Yes\",\"USED_FOR_CAND\":\"No\",\"DERIVED\":\"No\",\"RTYPE_ID\":0,\"ANONYMIZE\":\"No\",\"VERSION\":1,\"SHOW_IN_MATCH_KEY\":\"Denial\"},{\"FTYPE_ID\":87,\"FTYPE_CODE\":\"MOBILE_AD_ID\",\"FCLASS_ID\":7,\"FTYPE_FREQ\":\"FF\",\"FTYPE_EXCL\":\"No\",\"FTYPE_STAB\":\"No\",\"PERSIST_HISTORY\":\"Yes\",\"USED_FOR_CAND\":\"Yes\",\"DERIVED\":\"No\",\"RTYPE_ID\":0,\"ANONYMIZE\":\"No\",\"VERSION\":2,\"SHOW_IN_MATCH_KEY\":\"Yes\"},{\"FTYPE_ID\":88,\"FTYPE_CODE\":\"EMAIL_KEY\",\"FCLASS_ID\":10,\"FTYPE_FREQ\":\"F1\",\"FTYPE_EXCL\":\"No\",\"FTYPE_STAB\":\"No\",\"PERSIST_HISTORY\":\"Yes\",\"USED_FOR_CAND\":\"Yes\",\"DERIVED\":\"Yes\",\"RTYPE_ID\":0,\"ANONYMIZE\":\"No\",\"VERSION\":1,\"SHOW_IN_MATCH_KEY\":\"No\"},{\"FTYPE_ID\":89,\"FTYPE_CODE\":\"REL_ANCHOR\",\"FCLASS_ID\":9,\"FTYPE_FREQ\":\"NONE\",\"FTYPE_EXCL\":\"No\",\"FTYPE_STAB\":\"No\",\"PERSIST_HISTORY\":\"Yes\",\"USED_FOR_CAND\":\"No\",\"DERIVED\":\"No\",\"RTYPE_ID\":11,\"ANONYMIZE\":\"No\",\"VERSION\":1,\"SHOW_IN_MATCH_KEY\":\"Yes\"},{\"FTYPE_ID\":90,\"FTYPE_CODE\":\"REL_POINTER\",\"FCLASS_ID\":9,\"FTYPE_FREQ\":\"NONE\",\"FTYPE_EXCL\":\"No\",\"FTYPE_STAB\":\"No\",\"PERSIST_HISTORY\":\"Yes\",\"USED_FOR_CAND\":\"No\",\"DERIVED\":\"No\",\"RTYPE_ID\":11,\"ANONYMIZE\":\"No\",\"VERSION\":1,\"SHOW_IN_MATCH_KEY\":\"Yes\"},{\"FTYPE_ID\":91,\"FTYPE_CODE\":\"SUPPRESSED_RELATION_DOMAIN\",\"FCLASS_ID\":9,\"FTYPE_FREQ\":\"FM\",\"FTYPE_EXCL\":\"No\",\"FTYPE_STAB\":\"No\",\"PERSIST_HISTORY\":\"No\",\"USED_FOR_CAND\":\"No\",\"DERIVED\":\"Yes\",\"RTYPE_ID\":0,\"ANONYMIZE\":\"No\",\"VERSION\":1,\"SHOW_IN_MATCH_KEY\":\"No\"}],\"CFG_FCLASS\":[{\"FCLASS_ID\":8,\"FCLASS_CODE\":\"PARTIAL_ID\"},{\"FCLASS_ID\":6,\"FCLASS_CODE\":\"ELECTED_ID\"},{\"FCLASS_ID\":10,\"FCLASS_CODE\":\"INTERNAL_USE\"},{\"FCLASS_ID\":11,\"FCLASS_CODE\":\"SPACE_TIME\"},{\"FCLASS_ID\":4,\"FCLASS_CODE\":\"POSTAL_ADDRESS\"},{\"FCLASS_ID\":7,\"FCLASS_CODE\":\"ISSUED_ID\"},{\"FCLASS_ID\":1,\"FCLASS_CODE\":\"NAME\"},{\"FCLASS_ID\":3,\"FCLASS_CODE\":\"BIO_FEATURE\"},{\"FCLASS_ID\":12,\"FCLASS_CODE\":\"RELATIONSHIP\"},{\"FCLASS_ID\":5,\"FCLASS_CODE\":\"PHONE\"},{\"FCLASS_ID\":9,\"FCLASS_CODE\":\"OTHER\"},{\"FCLASS_ID\":2,\"FCLASS_CODE\":\"BIO_DATE\"}],\"CFG_FBOM\":[{\"FTYPE_ID\":1,\"EXEC_ORDER\":1,\"FELEM_ID\":2,\"DISPLAY_LEVEL\":1,\"DISPLAY_DELIM\":\"\",\"DERIVED\":\"No\"},{\"FTYPE_ID\":1,\"EXEC_ORDER\":2,\"FELEM_ID\":3,\"DISPLAY_LEVEL\":0,\"DISPLAY_DELIM\":\"\",\"DERIVED\":\"No\"},{\"FTYPE_ID\":1,\"EXEC_ORDER\":3,\"FELEM_ID\":4,\"DISPLAY_LEVEL\":0,\"DISPLAY_DELIM\":\"\",\"DERIVED\":\"No\"},{\"FTYPE_ID\":1,\"EXEC_ORDER\":4,\"FELEM_ID\":5,\"DISPLAY_LEVEL\":0,\"DISPLAY_DELIM\":\"\",\"DERIVED\":\"No\"},{\"FTYPE_ID\":1,\"EXEC_ORDER\":5,\"FELEM_ID\":6,\"DISPLAY_LEVEL\":0,\"DISPLAY_DELIM\":\"\",\"DERIVED\":\"No\"},{\"FTYPE_ID\":1,\"EXEC_ORDER\":6,\"FELEM_ID\":7,\"DISPLAY_LEVEL\":0,\"DISPLAY_DELIM\":\"\",\"DERIVED\":\"No\"},{\"FTYPE_ID\":1,\"EXEC_ORDER\":7,\"FELEM_ID\":8,\"DISPLAY_LEVEL\":0,\"DISPLAY_DELIM\":\"\",\"DERIVED\":\"No\"},{\"FTYPE_ID\":1,\"EXEC_ORDER\":8,\"FELEM_ID\":9,\"DISPLAY_LEVEL\":1,\"DISPLAY_DELIM\":\"\",\"DERIVED\":\"No\"},{\"FTYPE_ID\":1,\"EXEC_ORDER\":9,\"FELEM_ID\":10,\"DISPLAY_LEVEL\":0,\"DISPLAY_DELIM\":\"\",\"DERIVED\":\"Yes\"},{\"FTYPE_ID\":1,\"EXEC_ORDER\":10,\"FELEM_ID\":11,\"DISPLAY_LEVEL\":0,\"DISPLAY_DELIM\":\"\",\"DERIVED\":\"Yes\"},{\"FTYPE_ID\":1,\"EXEC_ORDER\":11,\"FELEM_ID\":12,\"DISPLAY_LEVEL\":0,\"DISPLAY_DELIM\":\"\",\"DERIVED\":\"Yes\"},{\"FTYPE_ID\":1,\"EXEC_ORDER\":12,\"FELEM_ID\":77,\"DISPLAY_LEVEL\":0,\"DISPLAY_DELIM\":\"\",\"DERIVED\":\"Yes\"},{\"FTYPE_ID\":1,\"EXEC_ORDER\":13,\"FELEM_ID\":78,\"DISPLAY_LEVEL\":0,\"DISPLAY_DELIM\":\"\",\"DERIVED\":\"Yes\"},{\"FTYPE_ID\":1,\"EXEC_ORDER\":14,\"FELEM_ID\":79,\"DISPLAY_LEVEL\":0,\"DISPLAY_DELIM\":\"\",\"DERIVED\":\"Yes\"},{\"FTYPE_ID\":1,\"EXEC_ORDER\":15,\"FELEM_ID\":81,\"DISPLAY_LEVEL\":0,\"DISPLAY_DELIM\":\"\",\"DERIVED\":\"Yes\"},{\"FTYPE_ID\":1,\"EXEC_ORDER\":16,\"FELEM_ID\":83,\"DISPLAY_LEVEL\":0,\"DISPLAY_DELIM\":\"\",\"DERIVED\":\"Yes\"},{\"FTYPE_ID\":1,\"EXEC_ORDER\":17,\"FELEM_ID\":84,\"DISPLAY_LEVEL\":0,\"DISPLAY_DELIM\":\"\",\"DERIVED\":\"Yes\"},{\"FTYPE_ID\":1,\"EXEC_ORDER\":18,\"FELEM_ID\":86,\"DISPLAY_LEVEL\":0,\"DISPLAY_DELIM\":\"\",\"DERIVED\":\"Yes\"},{\"FTYPE_ID\":1,\"EXEC_ORDER\":19,\"FELEM_ID\":87,\"DISPLAY_LEVEL\":0,\"DISPLAY_DELIM\":\"\",\"DERIVED\":\"Yes\"},{\"FTYPE_ID\":1,\"EXEC_ORDER\":20,\"FELEM_ID\":89,\"DISPLAY_LEVEL\":0,\"DISPLAY_DELIM\":\"\",\"DERIVED\":\"Yes\"},{\"FTYPE_ID\":1,\"EXEC_ORDER\":21,\"FELEM_ID\":91,\"DISPLAY_LEVEL\":0,\"DISPLAY_DELIM\":\"\",\"DERIVED\":\"Yes\"},{\"FTYPE_ID\":1,\"EXEC_ORDER\":22,\"FELEM_ID\":92,\"DISPLAY_LEVEL\":0,\"DISPLAY_DELIM\":\"\",\"DERIVED\":\"Yes\"},{\"FTYPE_ID\":1,\"EXEC_ORDER\":23,\"FELEM_ID\":93,\"DISPLAY_LEVEL\":0,\"DISPLAY_DELIM\":\"\",\"DERIVED\":\"Yes\"},{\"FTYPE_ID\":1,\"EXEC_ORDER\":24,\"FELEM_ID\":94,\"DISPLAY_LEVEL\":0,\"DISPLAY_DELIM\":\"\",\"DERIVED\":\"Yes\"},{\"FTYPE_ID\":1,\"EXEC_ORDER\":25,\"FELEM_ID\":96,\"DISPLAY_LEVEL\":0,\"DISPLAY_DELIM\":\"\",\"DERIVED\":\"Yes\"},{\"FTYPE_ID\":1,\"EXEC_ORDER\":26,\"FELEM_ID\":118,\"DISPLAY_LEVEL\":0,\"DISPLAY_DELIM\":\"\",\"DERIVED\":\"Yes\"},{\"FTYPE_ID\":2,\"EXEC_ORDER\":1,\"FELEM_ID\":43,\"DISPLAY_LEVEL\":1,\"DISPLAY_DELIM\":\"\",\"DERIVED\":\"No\"},{\"FTYPE_ID\":2,\"EXEC_ORDER\":2,\"FELEM_ID\":62,\"DISPLAY_LEVEL\":0,\"DISPLAY_DELIM\":\"\",\"DERIVED\":\"Yes\"},{\"FTYPE_ID\":2,\"EXEC_ORDER\":3,\"FELEM_ID\":63,\"DISPLAY_LEVEL\":0,\"DISPLAY_DELIM\":\"\",\"DERIVED\":\"Yes\"},{\"FTYPE_ID\":2,\"EXEC_ORDER\":4,\"FELEM_ID\":64,\"DISPLAY_LEVEL\":0,\"DISPLAY_DELIM\":\"\",\"DERIVED\":\"Yes\"},{\"FTYPE_ID\":2,\"EXEC_ORDER\":5,\"FELEM_ID\":71,\"DISPLAY_LEVEL\":0,\"DISPLAY_DELIM\":\"\",\"DERIVED\":\"Yes\"},{\"FTYPE_ID\":2,\"EXEC_ORDER\":6,\"FELEM_ID\":112,\"DISPLAY_LEVEL\":0,\"DISPLAY_DELIM\":\"\",\"DERIVED\":\"Yes\"},{\"FTYPE_ID\":2,\"EXEC_ORDER\":7,\"FELEM_ID\":113,\"DISPLAY_LEVEL\":0,\"DISPLAY_DELIM\":\"\",\"DERIVED\":\"Yes\"},{\"FTYPE_ID\":3,\"EXEC_ORDER\":1,\"FELEM_ID\":43,\"DISPLAY_LEVEL\":1,\"DISPLAY_DELIM\":\"\",\"DERIVED\":\"No\"},{\"FTYPE_ID\":3,\"EXEC_ORDER\":2,\"FELEM_ID\":62,\"DISPLAY_LEVEL\":0,\"DISPLAY_DELIM\":\"\",\"DERIVED\":\"Yes\"},{\"FTYPE_ID\":3,\"EXEC_ORDER\":3,\"FELEM_ID\":63,\"DISPLAY_LEVEL\":0,\"DISPLAY_DELIM\":\"\",\"DERIVED\":\"Yes\"},{\"FTYPE_ID\":3,\"EXEC_ORDER\":4,\"FELEM_ID\":64,\"DISPLAY_LEVEL\":0,\"DISPLAY_DELIM\":\"\",\"DERIVED\":\"Yes\"},{\"FTYPE_ID\":3,\"EXEC_ORDER\":5,\"FELEM_ID\":71,\"DISPLAY_LEVEL\":0,\"DISPLAY_DELIM\":\"\",\"DERIVED\":\"Yes\"},{\"FTYPE_ID\":3,\"EXEC_ORDER\":6,\"FELEM_ID\":112,\"DISPLAY_LEVEL\":0,\"DISPLAY_DELIM\":\"\",\"DERIVED\":\"Yes\"},{\"FTYPE_ID\":3,\"EXEC_ORDER\":7,\"FELEM_ID\":113,\"DISPLAY_LEVEL\":0,\"DISPLAY_DELIM\":\"\",\"DERIVED\":\"Yes\"},{\"FTYPE_ID\":4,\"EXEC_ORDER\":1,\"FELEM_ID\":13,\"DISPLAY_LEVEL\":1,\"DISPLAY_DELIM\":\"\",\"DERIVED\":\"No\"},{\"FTYPE_ID\":5,\"EXEC_ORDER\":1,\"FELEM_ID\":100,\"DISPLAY_LEVEL\":1,\"DISPLAY_DELIM\":\"\",\"DERIVED\":\"No\"},{\"FTYPE_ID\":5,\"EXEC_ORDER\":2,\"FELEM_ID\":22,\"DISPLAY_LEVEL\":2,\"DISPLAY_DELIM\":\"\",\"DERIVED\":\"No\"},{\"FTYPE_ID\":5,\"EXEC_ORDER\":3,\"FELEM_ID\":23,\"DISPLAY_LEVEL\":2,\"DISPLAY_DELIM\":\"\",\"DERIVED\":\"No\"},{\"FTYPE_ID\":5,\"EXEC_ORDER\":4,\"FELEM_ID\":24,\"DISPLAY_LEVEL\":2,\"DISPLAY_DELIM\":\"\",\"DERIVED\":\"No\"},{\"FTYPE_ID\":5,\"EXEC_ORDER\":5,\"FELEM_ID\":101,\"DISPLAY_LEVEL\":0,\"DISPLAY_DELIM\":\"\",\"DERIVED\":\"No\"},{\"FTYPE_ID\":5,\"EXEC_ORDER\":6,\"FELEM_ID\":102,\"DISPLAY_LEVEL\":0,\"DISPLAY_DELIM\":\"\",\"DERIVED\":\"No\"},{\"FTYPE_ID\":5,\"EXEC_ORDER\":7,\"FELEM_ID\":103,\"DISPLAY_LEVEL\":0,\"DISPLAY_DELIM\":\"\",\"DERIVED\":\"No\"},{\"FTYPE_ID\":5,\"EXEC_ORDER\":8,\"FELEM_ID\":25,\"DISPLAY_LEVEL\":2,\"DISPLAY_DELIM\":\"\",\"DERIVED\":\"No\"},{\"FTYPE_ID\":5,\"EXEC_ORDER\":9,\"FELEM_ID\":26,\"DISPLAY_LEVEL\":2,\"DISPLAY_DELIM\":\"\",\"DERIVED\":\"No\"},{\"FTYPE_ID\":5,\"EXEC_ORDER\":10,\"FELEM_ID\":27,\"DISPLAY_LEVEL\":2,\"DISPLAY_DELIM\":\"\",\"DERIVED\":\"No\"},{\"FTYPE_ID\":5,\"EXEC_ORDER\":11,\"FELEM_ID\":28,\"DISPLAY_LEVEL\":2,\"DISPLAY_DELIM\":\"\",\"DERIVED\":\"No\"},{\"FTYPE_ID\":5,\"EXEC_ORDER\":12,\"FELEM_ID\":29,\"DISPLAY_LEVEL\":0,\"DISPLAY_DELIM\":\"\",\"DERIVED\":\"Yes\"},{\"FTYPE_ID\":5,\"EXEC_ORDER\":13,\"FELEM_ID\":30,\"DISPLAY_LEVEL\":0,\"DISPLAY_DELIM\":\"\",\"DERIVED\":\"Yes\"},{\"FTYPE_ID\":5,\"EXEC_ORDER\":14,\"FELEM_ID\":31,\"DISPLAY_LEVEL\":0,\"DISPLAY_DELIM\":\"\",\"DERIVED\":\"Yes\"},{\"FTYPE_ID\":5,\"EXEC_ORDER\":15,\"FELEM_ID\":32,\"DISPLAY_LEVEL\":0,\"DISPLAY_DELIM\":\"\",\"DERIVED\":\"Yes\"},{\"FTYPE_ID\":5,\"EXEC_ORDER\":16,\"FELEM_ID\":65,\"DISPLAY_LEVEL\":0,\"DISPLAY_DELIM\":\"\",\"DERIVED\":\"Yes\"},{\"FTYPE_ID\":5,\"EXEC_ORDER\":17,\"FELEM_ID\":66,\"DISPLAY_LEVEL\":0,\"DISPLAY_DELIM\":\"\",\"DERIVED\":\"Yes\"},{\"FTYPE_ID\":5,\"EXEC_ORDER\":18,\"FELEM_ID\":72,\"DISPLAY_LEVEL\":0,\"DISPLAY_DELIM\":\"\",\"DERIVED\":\"Yes\"},{\"FTYPE_ID\":5,\"EXEC_ORDER\":19,\"FELEM_ID\":73,\"DISPLAY_LEVEL\":0,\"DISPLAY_DELIM\":\"\",\"DERIVED\":\"Yes\"},{\"FTYPE_ID\":5,\"EXEC_ORDER\":20,\"FELEM_ID\":74,\"DISPLAY_LEVEL\":0,\"DISPLAY_DELIM\":\"\",\"DERIVED\":\"Yes\"},{\"FTYPE_ID\":5,\"EXEC_ORDER\":21,\"FELEM_ID\":11,\"DISPLAY_LEVEL\":0,\"DISPLAY_DELIM\":\"\",\"DERIVED\":\"No\"},{\"FTYPE_ID\":5,\"EXEC_ORDER\":22,\"FELEM_ID\":108,\"DISPLAY_LEVEL\":0,\"DISPLAY_DELIM\":\"\",\"DERIVED\":\"Yes\"},{\"FTYPE_ID\":5,\"EXEC_ORDER\":23,\"FELEM_ID\":117,\"DISPLAY_LEVEL\":0,\"DISPLAY_DELIM\":\"\",\"DERIVED\":\"No\"},{\"FTYPE_ID\":5,\"EXEC_ORDER\":24,\"FELEM_ID\":124,\"DISPLAY_LEVEL\":0,\"DISPLAY_DELIM\":\"\",\"DERIVED\":\"No\"},{\"FTYPE_ID\":6,\"EXEC_ORDER\":1,\"FELEM_ID\":109,\"DISPLAY_LEVEL\":1,\"DISPLAY_DELIM\":\"\",\"DERIVED\":\"No\"},{\"FTYPE_ID\":6,\"EXEC_ORDER\":2,\"FELEM_ID\":33,\"DISPLAY_LEVEL\":1,\"DISPLAY_DELIM\":\"\",\"DERIVED\":\"No\"},{\"FTYPE_ID\":6,\"EXEC_ORDER\":3,\"FELEM_ID\":34,\"DISPLAY_LEVEL\":1,\"DISPLAY_DELIM\":\"\",\"DERIVED\":\"No\"},{\"FTYPE_ID\":6,\"EXEC_ORDER\":4,\"FELEM_ID\":60,\"DISPLAY_LEVEL\":0,\"DISPLAY_DELIM\":\"\",\"DERIVED\":\"Yes\"},{\"FTYPE_ID\":6,\"EXEC_ORDER\":5,\"FELEM_ID\":61,\"DISPLAY_LEVEL\":0,\"DISPLAY_DELIM\":\"\",\"DERIVED\":\"Yes\"},{\"FTYPE_ID\":7,\"EXEC_ORDER\":1,\"FELEM_ID\":37,\"DISPLAY_LEVEL\":1,\"DISPLAY_DELIM\":\"\",\"DERIVED\":\"No\"},{\"FTYPE_ID\":7,\"EXEC_ORDER\":2,\"FELEM_ID\":69,\"DISPLAY_LEVEL\":0,\"DISPLAY_DELIM\":\"\",\"DERIVED\":\"Yes\"},{\"FTYPE_ID\":7,\"EXEC_ORDER\":3,\"FELEM_ID\":39,\"DISPLAY_LEVEL\":0,\"DISPLAY_DELIM\":\"\",\"DERIVED\":\"Yes\"},{\"FTYPE_ID\":9,\"EXEC_ORDER\":1,\"FELEM_ID\":37,\"DISPLAY_LEVEL\":1,\"DISPLAY_DELIM\":\"\",\"DERIVED\":\"No\"},{\"FTYPE_ID\":9,\"EXEC_ORDER\":2,\"FELEM_ID\":26,\"DISPLAY_LEVEL\":1,\"DISPLAY_DELIM\":\"\",\"DERIVED\":\"No\"},{\"FTYPE_ID\":9,\"EXEC_ORDER\":3,\"FELEM_ID\":97,\"DISPLAY_LEVEL\":0,\"DISPLAY_DELIM\":\"\",\"DERIVED\":\"No\"},{\"FTYPE_ID\":9,\"EXEC_ORDER\":4,\"FELEM_ID\":98,\"DISPLAY_LEVEL\":0,\"DISPLAY_DELIM\":\"\",\"DERIVED\":\"No\"},{\"FTYPE_ID\":9,\"EXEC_ORDER\":5,\"FELEM_ID\":69,\"DISPLAY_LEVEL\":0,\"DISPLAY_DELIM\":\"\",\"DERIVED\":\"Yes\"},{\"FTYPE_ID\":10,\"EXEC_ORDER\":1,\"FELEM_ID\":37,\"DISPLAY_LEVEL\":1,\"DISPLAY_DELIM\":\"\",\"DERIVED\":\"No\"},{\"FTYPE_ID\":10,\"EXEC_ORDER\":2,\"FELEM_ID\":28,\"DISPLAY_LEVEL\":1,\"DISPLAY_DELIM\":\"\",\"DERIVED\":\"No\"},{\"FTYPE_ID\":10,\"EXEC_ORDER\":3,\"FELEM_ID\":97,\"DISPLAY_LEVEL\":0,\"DISPLAY_DELIM\":\"\",\"DERIVED\":\"No\"},{\"FTYPE_ID\":10,\"EXEC_ORDER\":4,\"FELEM_ID\":98,\"DISPLAY_LEVEL\":0,\"DISPLAY_DELIM\":\"\",\"DERIVED\":\"No\"},{\"FTYPE_ID\":10,\"EXEC_ORDER\":5,\"FELEM_ID\":69,\"DISPLAY_LEVEL\":0,\"DISPLAY_DELIM\":\"\",\"DERIVED\":\"Yes\"},{\"FTYPE_ID\":10,\"EXEC_ORDER\":6,\"FELEM_ID\":117,\"DISPLAY_LEVEL\":0,\"DISPLAY_DELIM\":\"\",\"DERIVED\":\"Yes\"},{\"FTYPE_ID\":11,\"EXEC_ORDER\":1,\"FELEM_ID\":37,\"DISPLAY_LEVEL\":1,\"DISPLAY_DELIM\":\"\",\"DERIVED\":\"No\"},{\"FTYPE_ID\":11,\"EXEC_ORDER\":2,\"FELEM_ID\":28,\"DISPLAY_LEVEL\":1,\"DISPLAY_DELIM\":\"\",\"DERIVED\":\"No\"},{\"FTYPE_ID\":11,\"EXEC_ORDER\":3,\"FELEM_ID\":97,\"DISPLAY_LEVEL\":0,\"DISPLAY_DELIM\":\"\",\"DERIVED\":\"No\"},{\"FTYPE_ID\":11,\"EXEC_ORDER\":4,\"FELEM_ID\":98,\"DISPLAY_LEVEL\":0,\"DISPLAY_DELIM\":\"\",\"DERIVED\":\"No\"},{\"FTYPE_ID\":11,\"EXEC_ORDER\":5,\"FELEM_ID\":69,\"DISPLAY_LEVEL\":0,\"DISPLAY_DELIM\":\"\",\"DERIVED\":\"Yes\"},{\"FTYPE_ID\":11,\"EXEC_ORDER\":6,\"FELEM_ID\":117,\"DISPLAY_LEVEL\":0,\"DISPLAY_DELIM\":\"\",\"DERIVED\":\"Yes\"},{\"FTYPE_ID\":12,\"EXEC_ORDER\":1,\"FELEM_ID\":37,\"DISPLAY_LEVEL\":1,\"DISPLAY_DELIM\":\"\",\"DERIVED\":\"No\"},{\"FTYPE_ID\":12,\"EXEC_ORDER\":2,\"FELEM_ID\":38,\"DISPLAY_LEVEL\":1,\"DISPLAY_DELIM\":\"\",\"DERIVED\":\"No\"},{\"FTYPE_ID\":12,\"EXEC_ORDER\":3,\"FELEM_ID\":28,\"DISPLAY_LEVEL\":1,\"DISPLAY_DELIM\":\"\",\"DERIVED\":\"No\"},{\"FTYPE_ID\":12,\"EXEC_ORDER\":4,\"FELEM_ID\":97,\"DISPLAY_LEVEL\":0,\"DISPLAY_DELIM\":\"\",\"DERIVED\":\"No\"},{\"FTYPE_ID\":12,\"EXEC_ORDER\":5,\"FELEM_ID\":98,\"DISPLAY_LEVEL\":0,\"DISPLAY_DELIM\":\"\",\"DERIVED\":\"No\"},{\"FTYPE_ID\":12,\"EXEC_ORDER\":6,\"FELEM_ID\":69,\"DISPLAY_LEVEL\":0,\"DISPLAY_DELIM\":\"\",\"DERIVED\":\"Yes\"},{\"FTYPE_ID\":12,\"EXEC_ORDER\":7,\"FELEM_ID\":117,\"DISPLAY_LEVEL\":0,\"DISPLAY_DELIM\":\"\",\"DERIVED\":\"Yes\"},{\"FTYPE_ID\":13,\"EXEC_ORDER\":1,\"FELEM_ID\":56,\"DISPLAY_LEVEL\":1,\"DISPLAY_DELIM\":\"\",\"DERIVED\":\"No\"},{\"FTYPE_ID\":13,\"EXEC_ORDER\":2,\"FELEM_ID\":57,\"DISPLAY_LEVEL\":1,\"DISPLAY_DELIM\":\"\",\"DERIVED\":\"No\"},{\"FTYPE_ID\":14,\"EXEC_ORDER\":1,\"FELEM_ID\":35,\"DISPLAY_LEVEL\":1,\"DISPLAY_DELIM\":\"\",\"DERIVED\":\"No\"},{\"FTYPE_ID\":14,\"EXEC_ORDER\":2,\"FELEM_ID\":119,\"DISPLAY_LEVEL\":0,\"DISPLAY_DELIM\":\"\",\"DERIVED\":\"Yes\"},{\"FTYPE_ID\":14,\"EXEC_ORDER\":3,\"FELEM_ID\":120,\"DISPLAY_LEVEL\":0,\"DISPLAY_DELIM\":\"\",\"DERIVED\":\"Yes\"},{\"FTYPE_ID\":14,\"EXEC_ORDER\":4,\"FELEM_ID\":2,\"DISPLAY_LEVEL\":0,\"DISPLAY_DELIM\":\"\",\"DERIVED\":\"Yes\"},{\"FTYPE_ID\":14,\"EXEC_ORDER\":5,\"FELEM_ID\":121,\"DISPLAY_LEVEL\":0,\"DISPLAY_DELIM\":\"\",\"DERIVED\":\"Yes\"},{\"FTYPE_ID\":15,\"EXEC_ORDER\":1,\"FELEM_ID\":35,\"DISPLAY_LEVEL\":1,\"DISPLAY_DELIM\":\"\",\"DERIVED\":\"No\"},{\"FTYPE_ID\":16,\"EXEC_ORDER\":1,\"FELEM_ID\":40,\"DISPLAY_LEVEL\":1,\"DISPLAY_DELIM\":\"\",\"DERIVED\":\"No\"},{\"FTYPE_ID\":16,\"EXEC_ORDER\":2,\"FELEM_ID\":58,\"DISPLAY_LEVEL\":1,\"DISPLAY_DELIM\":\"\",\"DERIVED\":\"No\"},{\"FTYPE_ID\":18,\"EXEC_ORDER\":1,\"FELEM_ID\":36,\"DISPLAY_LEVEL\":1,\"DISPLAY_DELIM\":\"\",\"DERIVED\":\"No\"},{\"FTYPE_ID\":19,\"EXEC_ORDER\":1,\"FELEM_ID\":36,\"DISPLAY_LEVEL\":1,\"DISPLAY_DELIM\":\"\",\"DERIVED\":\"No\"},{\"FTYPE_ID\":20,\"EXEC_ORDER\":1,\"FELEM_ID\":36,\"DISPLAY_LEVEL\":1,\"DISPLAY_DELIM\":\"\",\"DERIVED\":\"No\"},{\"FTYPE_ID\":21,\"EXEC_ORDER\":1,\"FELEM_ID\":36,\"DISPLAY_LEVEL\":1,\"DISPLAY_DELIM\":\"\",\"DERIVED\":\"No\"},{\"FTYPE_ID\":22,\"EXEC_ORDER\":1,\"FELEM_ID\":36,\"DISPLAY_LEVEL\":1,\"DISPLAY_DELIM\":\"\",\"DERIVED\":\"No\"},{\"FTYPE_ID\":23,\"EXEC_ORDER\":1,\"FELEM_ID\":55,\"DISPLAY_LEVEL\":1,\"DISPLAY_DELIM\":\"\",\"DERIVED\":\"No\"},{\"FTYPE_ID\":23,\"EXEC_ORDER\":2,\"FELEM_ID\":54,\"DISPLAY_LEVEL\":1,\"DISPLAY_DELIM\":\"\",\"DERIVED\":\"No\"},{\"FTYPE_ID\":24,\"EXEC_ORDER\":1,\"FELEM_ID\":51,\"DISPLAY_LEVEL\":1,\"DISPLAY_DELIM\":\"\",\"DERIVED\":\"No\"},{\"FTYPE_ID\":24,\"EXEC_ORDER\":2,\"FELEM_ID\":52,\"DISPLAY_LEVEL\":1,\"DISPLAY_DELIM\":\"\",\"DERIVED\":\"No\"},{\"FTYPE_ID\":24,\"EXEC_ORDER\":3,\"FELEM_ID\":53,\"DISPLAY_LEVEL\":1,\"DISPLAY_DELIM\":\"\",\"DERIVED\":\"No\"},{\"FTYPE_ID\":24,\"EXEC_ORDER\":4,\"FELEM_ID\":75,\"DISPLAY_LEVEL\":1,\"DISPLAY_DELIM\":\"\",\"DERIVED\":\"No\"},{\"FTYPE_ID\":24,\"EXEC_ORDER\":5,\"FELEM_ID\":76,\"DISPLAY_LEVEL\":1,\"DISPLAY_DELIM\":\"\",\"DERIVED\":\"No\"},{\"FTYPE_ID\":24,\"EXEC_ORDER\":6,\"FELEM_ID\":104,\"DISPLAY_LEVEL\":1,\"DISPLAY_DELIM\":\"\",\"DERIVED\":\"No\"},{\"FTYPE_ID\":24,\"EXEC_ORDER\":7,\"FELEM_ID\":105,\"DISPLAY_LEVEL\":0,\"DISPLAY_DELIM\":\"\",\"DERIVED\":\"Yes\"},{\"FTYPE_ID\":24,\"EXEC_ORDER\":8,\"FELEM_ID\":106,\"DISPLAY_LEVEL\":0,\"DISPLAY_DELIM\":\"\",\"DERIVED\":\"Yes\"},{\"FTYPE_ID\":24,\"EXEC_ORDER\":9,\"FELEM_ID\":107,\"DISPLAY_LEVEL\":0,\"DISPLAY_DELIM\":\"\",\"DERIVED\":\"Yes\"},{\"FTYPE_ID\":26,\"EXEC_ORDER\":1,\"FELEM_ID\":36,\"DISPLAY_LEVEL\":1,\"DISPLAY_DELIM\":\"\",\"DERIVED\":\"No\"},{\"FTYPE_ID\":27,\"EXEC_ORDER\":1,\"FELEM_ID\":46,\"DISPLAY_LEVEL\":1,\"DISPLAY_DELIM\":\"\",\"DERIVED\":\"No\"},{\"FTYPE_ID\":28,\"EXEC_ORDER\":1,\"FELEM_ID\":44,\"DISPLAY_LEVEL\":1,\"DISPLAY_DELIM\":\"\",\"DERIVED\":\"No\"},{\"FTYPE_ID\":36,\"EXEC_ORDER\":1,\"FELEM_ID\":37,\"DISPLAY_LEVEL\":1,\"DISPLAY_DELIM\":\"\",\"DERIVED\":\"No\"},{\"FTYPE_ID\":36,\"EXEC_ORDER\":2,\"FELEM_ID\":69,\"DISPLAY_LEVEL\":0,\"DISPLAY_DELIM\":\"\",\"DERIVED\":\"Yes\"},{\"FTYPE_ID\":37,\"EXEC_ORDER\":1,\"FELEM_ID\":37,\"DISPLAY_LEVEL\":1,\"DISPLAY_DELIM\":\"\",\"DERIVED\":\"No\"},{\"FTYPE_ID\":37,\"EXEC_ORDER\":2,\"FELEM_ID\":26,\"DISPLAY_LEVEL\":1,\"DISPLAY_DELIM\":\"\",\"DERIVED\":\"No\"},{\"FTYPE_ID\":37,\"EXEC_ORDER\":3,\"FELEM_ID\":69,\"DISPLAY_LEVEL\":0,\"DISPLAY_DELIM\":\"\",\"DERIVED\":\"Yes\"},{\"FTYPE_ID\":52,\"EXEC_ORDER\":1,\"FELEM_ID\":37,\"DISPLAY_LEVEL\":1,\"DISPLAY_DELIM\":\"\",\"DERIVED\":\"No\"},{\"FTYPE_ID\":52,\"EXEC_ORDER\":2,\"FELEM_ID\":38,\"DISPLAY_LEVEL\":1,\"DISPLAY_DELIM\":\"\",\"DERIVED\":\"No\"},{\"FTYPE_ID\":52,\"EXEC_ORDER\":3,\"FELEM_ID\":28,\"DISPLAY_LEVEL\":1,\"DISPLAY_DELIM\":\"\",\"DERIVED\":\"No\"},{\"FTYPE_ID\":52,\"EXEC_ORDER\":4,\"FELEM_ID\":97,\"DISPLAY_LEVEL\":0,\"DISPLAY_DELIM\":\"\",\"DERIVED\":\"No\"},{\"FTYPE_ID\":52,\"EXEC_ORDER\":5,\"FELEM_ID\":98,\"DISPLAY_LEVEL\":0,\"DISPLAY_DELIM\":\"\",\"DERIVED\":\"No\"},{\"FTYPE_ID\":52,\"EXEC_ORDER\":6,\"FELEM_ID\":69,\"DISPLAY_LEVEL\":0,\"DISPLAY_DELIM\":\"\",\"DERIVED\":\"Yes\"},{\"FTYPE_ID\":52,\"EXEC_ORDER\":7,\"FELEM_ID\":117,\"DISPLAY_LEVEL\":0,\"DISPLAY_DELIM\":\"\",\"DERIVED\":\"Yes\"},{\"FTYPE_ID\":53,\"EXEC_ORDER\":1,\"FELEM_ID\":37,\"DISPLAY_LEVEL\":1,\"DISPLAY_DELIM\":\"\",\"DERIVED\":\"No\"},{\"FTYPE_ID\":53,\"EXEC_ORDER\":2,\"FELEM_ID\":38,\"DISPLAY_LEVEL\":1,\"DISPLAY_DELIM\":\"\",\"DERIVED\":\"No\"},{\"FTYPE_ID\":54,\"EXEC_ORDER\":1,\"FELEM_ID\":28,\"DISPLAY_LEVEL\":1,\"DISPLAY_DELIM\":\"\",\"DERIVED\":\"No\"},{\"FTYPE_ID\":54,\"EXEC_ORDER\":2,\"FELEM_ID\":117,\"DISPLAY_LEVEL\":0,\"DISPLAY_DELIM\":\"\",\"DERIVED\":\"Yes\"},{\"FTYPE_ID\":55,\"EXEC_ORDER\":1,\"FELEM_ID\":28,\"DISPLAY_LEVEL\":1,\"DISPLAY_DELIM\":\"\",\"DERIVED\":\"No\"},{\"FTYPE_ID\":55,\"EXEC_ORDER\":2,\"FELEM_ID\":117,\"DISPLAY_LEVEL\":0,\"DISPLAY_DELIM\":\"\",\"DERIVED\":\"Yes\"},{\"FTYPE_ID\":56,\"EXEC_ORDER\":1,\"FELEM_ID\":18,\"DISPLAY_LEVEL\":1,\"DISPLAY_DELIM\":\"\",\"DERIVED\":\"No\"},{\"FTYPE_ID\":56,\"EXEC_ORDER\":2,\"FELEM_ID\":99,\"DISPLAY_LEVEL\":1,\"DISPLAY_DELIM\":\"\",\"DERIVED\":\"No\"},{\"FTYPE_ID\":57,\"EXEC_ORDER\":1,\"FELEM_ID\":18,\"DISPLAY_LEVEL\":1,\"DISPLAY_DELIM\":\"\",\"DERIVED\":\"No\"},{\"FTYPE_ID\":57,\"EXEC_ORDER\":2,\"FELEM_ID\":3,\"DISPLAY_LEVEL\":1,\"DISPLAY_DELIM\":\"\",\"DERIVED\":\"No\"},{\"FTYPE_ID\":58,\"EXEC_ORDER\":1,\"FELEM_ID\":115,\"DISPLAY_LEVEL\":1,\"DISPLAY_DELIM\":\"\",\"DERIVED\":\"No\"},{\"FTYPE_ID\":58,\"EXEC_ORDER\":2,\"FELEM_ID\":110,\"DISPLAY_LEVEL\":1,\"DISPLAY_DELIM\":\"\",\"DERIVED\":\"No\"},{\"FTYPE_ID\":58,\"EXEC_ORDER\":3,\"FELEM_ID\":111,\"DISPLAY_LEVEL\":1,\"DISPLAY_DELIM\":\"\",\"DERIVED\":\"No\"},{\"FTYPE_ID\":58,\"EXEC_ORDER\":4,\"FELEM_ID\":114,\"DISPLAY_LEVEL\":1,\"DISPLAY_DELIM\":\"\",\"DERIVED\":\"No\"},{\"FTYPE_ID\":59,\"EXEC_ORDER\":1,\"FELEM_ID\":18,\"DISPLAY_LEVEL\":1,\"DISPLAY_DELIM\":\"\",\"DERIVED\":\"No\"},{\"FTYPE_ID\":59,\"EXEC_ORDER\":2,\"FELEM_ID\":3,\"DISPLAY_LEVEL\":1,\"DISPLAY_DELIM\":\"\",\"DERIVED\":\"No\"},{\"FTYPE_ID\":60,\"EXEC_ORDER\":1,\"FELEM_ID\":56,\"DISPLAY_LEVEL\":1,\"DISPLAY_DELIM\":\"\",\"DERIVED\":\"No\"},{\"FTYPE_ID\":61,\"EXEC_ORDER\":1,\"FELEM_ID\":56,\"DISPLAY_LEVEL\":1,\"DISPLAY_DELIM\":\"\",\"DERIVED\":\"No\"},{\"FTYPE_ID\":62,\"EXEC_ORDER\":1,\"FELEM_ID\":56,\"DISPLAY_LEVEL\":1,\"DISPLAY_DELIM\":\"\",\"DERIVED\":\"No\"},{\"FTYPE_ID\":63,\"EXEC_ORDER\":1,\"FELEM_ID\":56,\"DISPLAY_LEVEL\":1,\"DISPLAY_DELIM\":\"\",\"DERIVED\":\"No\"},{\"FTYPE_ID\":64,\"EXEC_ORDER\":1,\"FELEM_ID\":56,\"DISPLAY_LEVEL\":1,\"DISPLAY_DELIM\":\"\",\"DERIVED\":\"No\"},{\"FTYPE_ID\":65,\"EXEC_ORDER\":1,\"FELEM_ID\":56,\"DISPLAY_LEVEL\":1,\"DISPLAY_DELIM\":\"\",\"DERIVED\":\"No\"},{\"FTYPE_ID\":66,\"EXEC_ORDER\":1,\"FELEM_ID\":56,\"DISPLAY_LEVEL\":1,\"DISPLAY_DELIM\":\"\",\"DERIVED\":\"No\"},{\"FTYPE_ID\":67,\"EXEC_ORDER\":1,\"FELEM_ID\":56,\"DISPLAY_LEVEL\":1,\"DISPLAY_DELIM\":\"\",\"DERIVED\":\"No\"},{\"FTYPE_ID\":68,\"EXEC_ORDER\":1,\"FELEM_ID\":56,\"DISPLAY_LEVEL\":1,\"DISPLAY_DELIM\":\"\",\"DERIVED\":\"No\"},{\"FTYPE_ID\":69,\"EXEC_ORDER\":1,\"FELEM_ID\":56,\"DISPLAY_LEVEL\":1,\"DISPLAY_DELIM\":\"\",\"DERIVED\":\"No\"},{\"FTYPE_ID\":70,\"EXEC_ORDER\":1,\"FELEM_ID\":56,\"DISPLAY_LEVEL\":1,\"DISPLAY_DELIM\":\"\",\"DERIVED\":\"No\"},{\"FTYPE_ID\":71,\"EXEC_ORDER\":1,\"FELEM_ID\":56,\"DISPLAY_LEVEL\":1,\"DISPLAY_DELIM\":\"\",\"DERIVED\":\"No\"},{\"FTYPE_ID\":72,\"EXEC_ORDER\":1,\"FELEM_ID\":18,\"DISPLAY_LEVEL\":1,\"DISPLAY_DELIM\":\"\",\"DERIVED\":\"No\"},{\"FTYPE_ID\":74,\"EXEC_ORDER\":1,\"FELEM_ID\":116,\"DISPLAY_LEVEL\":1,\"DISPLAY_DELIM\":\"\",\"DERIVED\":\"No\"},{\"FTYPE_ID\":75,\"EXEC_ORDER\":1,\"FELEM_ID\":43,\"DISPLAY_LEVEL\":1,\"DISPLAY_DELIM\":\"\",\"DERIVED\":\"No\"},{\"FTYPE_ID\":75,\"EXEC_ORDER\":2,\"FELEM_ID\":62,\"DISPLAY_LEVEL\":0,\"DISPLAY_DELIM\":\"\",\"DERIVED\":\"Yes\"},{\"FTYPE_ID\":75,\"EXEC_ORDER\":3,\"FELEM_ID\":63,\"DISPLAY_LEVEL\":0,\"DISPLAY_DELIM\":\"\",\"DERIVED\":\"Yes\"},{\"FTYPE_ID\":75,\"EXEC_ORDER\":4,\"FELEM_ID\":64,\"DISPLAY_LEVEL\":0,\"DISPLAY_DELIM\":\"\",\"DERIVED\":\"Yes\"},{\"FTYPE_ID\":75,\"EXEC_ORDER\":5,\"FELEM_ID\":71,\"DISPLAY_LEVEL\":0,\"DISPLAY_DELIM\":\"\",\"DERIVED\":\"Yes\"},{\"FTYPE_ID\":75,\"EXEC_ORDER\":6,\"FELEM_ID\":112,\"DISPLAY_LEVEL\":0,\"DISPLAY_DELIM\":\"\",\"DERIVED\":\"Yes\"},{\"FTYPE_ID\":75,\"EXEC_ORDER\":7,\"FELEM_ID\":113,\"DISPLAY_LEVEL\":0,\"DISPLAY_DELIM\":\"\",\"DERIVED\":\"Yes\"},{\"FTYPE_ID\":76,\"EXEC_ORDER\":1,\"FELEM_ID\":28,\"DISPLAY_LEVEL\":1,\"DISPLAY_DELIM\":\"\",\"DERIVED\":\"No\"},{\"FTYPE_ID\":76,\"EXEC_ORDER\":2,\"FELEM_ID\":117,\"DISPLAY_LEVEL\":0,\"DISPLAY_DELIM\":\"\",\"DERIVED\":\"Yes\"},{\"FTYPE_ID\":77,\"EXEC_ORDER\":1,\"FELEM_ID\":38,\"DISPLAY_LEVEL\":1,\"DISPLAY_DELIM\":\"\",\"DERIVED\":\"No\"},{\"FTYPE_ID\":77,\"EXEC_ORDER\":2,\"FELEM_ID\":37,\"DISPLAY_LEVEL\":1,\"DISPLAY_DELIM\":\"\",\"DERIVED\":\"No\"},{\"FTYPE_ID\":78,\"EXEC_ORDER\":1,\"FELEM_ID\":37,\"DISPLAY_LEVEL\":1,\"DISPLAY_DELIM\":\"\",\"DERIVED\":\"No\"},{\"FTYPE_ID\":78,\"EXEC_ORDER\":2,\"FELEM_ID\":26,\"DISPLAY_LEVEL\":1,\"DISPLAY_DELIM\":\"\",\"DERIVED\":\"No\"},{\"FTYPE_ID\":78,\"EXEC_ORDER\":3,\"FELEM_ID\":69,\"DISPLAY_LEVEL\":0,\"DISPLAY_DELIM\":\"\",\"DERIVED\":\"Yes\"},{\"FTYPE_ID\":78,\"EXEC_ORDER\":4,\"FELEM_ID\":39,\"DISPLAY_LEVEL\":0,\"DISPLAY_DELIM\":\"\",\"DERIVED\":\"Yes\"},{\"FTYPE_ID\":79,\"EXEC_ORDER\":1,\"FELEM_ID\":37,\"DISPLAY_LEVEL\":1,\"DISPLAY_DELIM\":\"\",\"DERIVED\":\"No\"},{\"FTYPE_ID\":79,\"EXEC_ORDER\":2,\"FELEM_ID\":26,\"DISPLAY_LEVEL\":1,\"DISPLAY_DELIM\":\"\",\"DERIVED\":\"No\"},{\"FTYPE_ID\":79,\"EXEC_ORDER\":3,\"FELEM_ID\":69,\"DISPLAY_LEVEL\":0,\"DISPLAY_DELIM\":\"\",\"DERIVED\":\"Yes\"},{\"FTYPE_ID\":79,\"EXEC_ORDER\":4,\"FELEM_ID\":39,\"DISPLAY_LEVEL\":0,\"DISPLAY_DELIM\":\"\",\"DERIVED\":\"Yes\"},{\"FTYPE_ID\":80,\"EXEC_ORDER\":1,\"FELEM_ID\":37,\"DISPLAY_LEVEL\":1,\"DISPLAY_DELIM\":\"\",\"DERIVED\":\"No\"},{\"FTYPE_ID\":80,\"EXEC_ORDER\":2,\"FELEM_ID\":26,\"DISPLAY_LEVEL\":1,\"DISPLAY_DELIM\":\"\",\"DERIVED\":\"No\"},{\"FTYPE_ID\":80,\"EXEC_ORDER\":3,\"FELEM_ID\":69,\"DISPLAY_LEVEL\":0,\"DISPLAY_DELIM\":\"\",\"DERIVED\":\"Yes\"},{\"FTYPE_ID\":80,\"EXEC_ORDER\":4,\"FELEM_ID\":39,\"DISPLAY_LEVEL\":0,\"DISPLAY_DELIM\":\"\",\"DERIVED\":\"Yes\"},{\"FTYPE_ID\":86,\"EXEC_ORDER\":1,\"FELEM_ID\":28,\"DISPLAY_LEVEL\":1,\"DISPLAY_DELIM\":\"\",\"DERIVED\":\"No\"},{\"FTYPE_ID\":86,\"EXEC_ORDER\":2,\"FELEM_ID\":117,\"DISPLAY_LEVEL\":0,\"DISPLAY_DELIM\":\"\",\"DERIVED\":\"Yes\"},{\"FTYPE_ID\":87,\"EXEC_ORDER\":1,\"FELEM_ID\":37,\"DISPLAY_LEVEL\":1,\"DISPLAY_DELIM\":\"\",\"DERIVED\":\"No\"},{\"FTYPE_ID\":87,\"EXEC_ORDER\":2,\"FELEM_ID\":26,\"DISPLAY_LEVEL\":1,\"DISPLAY_DELIM\":\"\",\"DERIVED\":\"No\"},{\"FTYPE_ID\":87,\"EXEC_ORDER\":3,\"FELEM_ID\":69,\"DISPLAY_LEVEL\":0,\"DISPLAY_DELIM\":\"\",\"DERIVED\":\"Yes\"},{\"FTYPE_ID\":87,\"EXEC_ORDER\":4,\"FELEM_ID\":39,\"DISPLAY_LEVEL\":0,\"DISPLAY_DELIM\":\"\",\"DERIVED\":\"Yes\"},{\"FTYPE_ID\":88,\"EXEC_ORDER\":1,\"FELEM_ID\":121,\"DISPLAY_LEVEL\":1,\"DISPLAY_DELIM\":\"\",\"DERIVED\":\"No\"},{\"FTYPE_ID\":89,\"EXEC_ORDER\":1,\"FELEM_ID\":122,\"DISPLAY_LEVEL\":1,\"DISPLAY_DELIM\":\"\",\"DERIVED\":\"No\"},{\"FTYPE_ID\":89,\"EXEC_ORDER\":2,\"FELEM_ID\":123,\"DISPLAY_LEVEL\":1,\"DISPLAY_DELIM\":\"\",\"DERIVED\":\"No\"},{\"FTYPE_ID\":90,\"EXEC_ORDER\":1,\"FELEM_ID\":122,\"DISPLAY_LEVEL\":1,\"DISPLAY_DELIM\":\"\",\"DERIVED\":\"No\"},{\"FTYPE_ID\":90,\"EXEC_ORDER\":2,\"FELEM_ID\":123,\"DISPLAY_LEVEL\":1,\"DISPLAY_DELIM\":\"\",\"DERIVED\":\"No\"},{\"FTYPE_ID\":91,\"EXEC_ORDER\":1,\"FELEM_ID\":55,\"DISPLAY_LEVEL\":1,\"DISPLAY_DELIM\":\"\",\"DERIVED\":\"No\"},{\"FTYPE_ID\":91,\"EXEC_ORDER\":2,\"FELEM_ID\":120,\"DISPLAY_LEVEL\":1,\"DISPLAY_DELIM\":\"\",\"DERIVED\":\"No\"},{\"FTYPE_ID\":91,\"EXEC_ORDER\":3,\"FELEM_ID\":125,\"DISPLAY_LEVEL\":1,\"DISPLAY_DELIM\":\"\",\"DERIVED\":\"No\"},{\"FTYPE_ID\":91,\"EXEC_ORDER\":4,\"FELEM_ID\":126,\"DISPLAY_LEVEL\":1,\"DISPLAY_DELIM\":\"\",\"DERIVED\":\"No\"}],\"CFG_EBOM\":[{\"EXEC_ORDER\":1,\"ETYPE_ID\":1,\"FTYPE_ID\":16,\"UTYPE_CODE\":\"\"},{\"EXEC_ORDER\":4,\"ETYPE_ID\":1,\"FTYPE_ID\":1,\"UTYPE_CODE\":\"\"},{\"EXEC_ORDER\":5,\"ETYPE_ID\":1,\"FTYPE_ID\":2,\"UTYPE_CODE\":\"\"},{\"EXEC_ORDER\":6,\"ETYPE_ID\":1,\"FTYPE_ID\":3,\"UTYPE_CODE\":\"\"},{\"EXEC_ORDER\":7,\"ETYPE_ID\":1,\"FTYPE_ID\":4,\"UTYPE_CODE\":\"\"},{\"EXEC_ORDER\":8,\"ETYPE_ID\":1,\"FTYPE_ID\":55,\"UTYPE_CODE\":\"\"},{\"EXEC_ORDER\":9,\"ETYPE_ID\":1,\"FTYPE_ID\":54,\"UTYPE_CODE\":\"\"},{\"EXEC_ORDER\":10,\"ETYPE_ID\":1,\"FTYPE_ID\":7,\"UTYPE_CODE\":\"\"},{\"EXEC_ORDER\":12,\"ETYPE_ID\":1,\"FTYPE_ID\":9,\"UTYPE_CODE\":\"\"},{\"EXEC_ORDER\":13,\"ETYPE_ID\":1,\"FTYPE_ID\":10,\"UTYPE_CODE\":\"\"},{\"EXEC_ORDER\":14,\"ETYPE_ID\":1,\"FTYPE_ID\":12,\"UTYPE_CODE\":\"\"},{\"EXEC_ORDER\":15,\"ETYPE_ID\":1,\"FTYPE_ID\":11,\"UTYPE_CODE\":\"\"},{\"EXEC_ORDER\":16,\"ETYPE_ID\":1,\"FTYPE_ID\":52,\"UTYPE_CODE\":\"\"},{\"EXEC_ORDER\":17,\"ETYPE_ID\":1,\"FTYPE_ID\":5,\"UTYPE_CODE\":\"PRIMARY\"},{\"EXEC_ORDER\":18,\"ETYPE_ID\":1,\"FTYPE_ID\":5,\"UTYPE_CODE\":\"SECONDARY\"},{\"EXEC_ORDER\":19,\"ETYPE_ID\":1,\"FTYPE_ID\":6,\"UTYPE_CODE\":\"PRIMARY\"},{\"EXEC_ORDER\":20,\"ETYPE_ID\":1,\"FTYPE_ID\":6,\"UTYPE_CODE\":\"SECONDARY\"},{\"EXEC_ORDER\":21,\"ETYPE_ID\":1,\"FTYPE_ID\":14,\"UTYPE_CODE\":\"\"},{\"EXEC_ORDER\":22,\"ETYPE_ID\":1,\"FTYPE_ID\":15,\"UTYPE_CODE\":\"\"},{\"EXEC_ORDER\":23,\"ETYPE_ID\":1,\"FTYPE_ID\":23,\"UTYPE_CODE\":\"\"},{\"EXEC_ORDER\":24,\"ETYPE_ID\":1,\"FTYPE_ID\":53,\"UTYPE_CODE\":\"\"},{\"EXEC_ORDER\":1,\"ETYPE_ID\":3,\"FTYPE_ID\":16,\"UTYPE_CODE\":\"\"},{\"EXEC_ORDER\":4,\"ETYPE_ID\":3,\"FTYPE_ID\":1,\"UTYPE_CODE\":\"\"},{\"EXEC_ORDER\":5,\"ETYPE_ID\":3,\"FTYPE_ID\":2,\"UTYPE_CODE\":\"\"},{\"EXEC_ORDER\":6,\"ETYPE_ID\":3,\"FTYPE_ID\":3,\"UTYPE_CODE\":\"\"},{\"EXEC_ORDER\":7,\"ETYPE_ID\":3,\"FTYPE_ID\":4,\"UTYPE_CODE\":\"\"},{\"EXEC_ORDER\":8,\"ETYPE_ID\":3,\"FTYPE_ID\":55,\"UTYPE_CODE\":\"\"},{\"EXEC_ORDER\":9,\"ETYPE_ID\":3,\"FTYPE_ID\":54,\"UTYPE_CODE\":\"\"},{\"EXEC_ORDER\":10,\"ETYPE_ID\":3,\"FTYPE_ID\":7,\"UTYPE_CODE\":\"\"},{\"EXEC_ORDER\":12,\"ETYPE_ID\":3,\"FTYPE_ID\":9,\"UTYPE_CODE\":\"\"},{\"EXEC_ORDER\":13,\"ETYPE_ID\":3,\"FTYPE_ID\":10,\"UTYPE_CODE\":\"\"},{\"EXEC_ORDER\":14,\"ETYPE_ID\":3,\"FTYPE_ID\":12,\"UTYPE_CODE\":\"\"},{\"EXEC_ORDER\":15,\"ETYPE_ID\":3,\"FTYPE_ID\":11,\"UTYPE_CODE\":\"\"},{\"EXEC_ORDER\":16,\"ETYPE_ID\":3,\"FTYPE_ID\":52,\"UTYPE_CODE\":\"\"},{\"EXEC_ORDER\":17,\"ETYPE_ID\":3,\"FTYPE_ID\":5,\"UTYPE_CODE\":\"PRIMARY\"},{\"EXEC_ORDER\":18,\"ETYPE_ID\":3,\"FTYPE_ID\":5,\"UTYPE_CODE\":\"SECONDARY\"},{\"EXEC_ORDER\":19,\"ETYPE_ID\":3,\"FTYPE_ID\":6,\"UTYPE_CODE\":\"PRIMARY\"},{\"EXEC_ORDER\":20,\"ETYPE_ID\":3,\"FTYPE_ID\":6,\"UTYPE_CODE\":\"SECONDARY\"},{\"EXEC_ORDER\":21,\"ETYPE_ID\":3,\"FTYPE_ID\":14,\"UTYPE_CODE\":\"\"},{\"EXEC_ORDER\":22,\"ETYPE_ID\":3,\"FTYPE_ID\":15,\"UTYPE_CODE\":\"\"},{\"EXEC_ORDER\":23,\"ETYPE_ID\":3,\"FTYPE_ID\":23,\"UTYPE_CODE\":\"\"},{\"EXEC_ORDER\":24,\"ETYPE_ID\":3,\"FTYPE_ID\":53,\"UTYPE_CODE\":\"\"}],\"CFG_FELEM\":[{\"FELEM_ID\":2,\"FELEM_CODE\":\"FULL_NAME\",\"DATA_TYPE\":\"STRING\",\"TOKENIZE\":\"No\"},{\"FELEM_ID\":3,\"FELEM_CODE\":\"ORG_NAME\",\"DATA_TYPE\":\"STRING\",\"TOKENIZE\":\"No\"},{\"FELEM_ID\":4,\"FELEM_CODE\":\"SUR_NAME\",\"DATA_TYPE\":\"STRING\",\"TOKENIZE\":\"No\"},{\"FELEM_ID\":5,\"FELEM_CODE\":\"GIVEN_NAME\",\"DATA_TYPE\":\"STRING\",\"TOKENIZE\":\"No\"},{\"FELEM_ID\":6,\"FELEM_CODE\":\"MIDDLE_NAME\",\"DATA_TYPE\":\"STRING\",\"TOKENIZE\":\"No\"},{\"FELEM_ID\":7,\"FELEM_CODE\":\"NAME_PREFIX\",\"DATA_TYPE\":\"STRING\",\"TOKENIZE\":\"No\"},{\"FELEM_ID\":8,\"FELEM_CODE\":\"NAME_SUFFIX\",\"DATA_TYPE\":\"STRING\",\"TOKENIZE\":\"No\"},{\"FELEM_ID\":9,\"FELEM_CODE\":\"NAME_GEN\",\"DATA_TYPE\":\"STRING\",\"TOKENIZE\":\"No\"},{\"FELEM_ID\":10,\"FELEM_CODE\":\"CULTURE\",\"DATA_TYPE\":\"STRING\",\"TOKENIZE\":\"No\"},{\"FELEM_ID\":11,\"FELEM_CODE\":\"SCRIPT\",\"DATA_TYPE\":\"STRING\",\"TOKENIZE\":\"No\"},{\"FELEM_ID\":12,\"FELEM_CODE\":\"CATEGORY\",\"DATA_TYPE\":\"STRING\",\"TOKENIZE\":\"No\"},{\"FELEM_ID\":13,\"FELEM_CODE\":\"GENDER\",\"DATA_TYPE\":\"STRING\",\"TOKENIZE\":\"No\"},{\"FELEM_ID\":14,\"FELEM_CODE\":\"MAKE\",\"DATA_TYPE\":\"STRING\",\"TOKENIZE\":\"No\"},{\"FELEM_ID\":15,\"FELEM_CODE\":\"MODEL\",\"DATA_TYPE\":\"STRING\",\"TOKENIZE\":\"No\"},{\"FELEM_ID\":16,\"FELEM_CODE\":\"COLOR\",\"DATA_TYPE\":\"STRING\",\"TOKENIZE\":\"No\"},{\"FELEM_ID\":17,\"FELEM_CODE\":\"YEAR\",\"DATA_TYPE\":\"STRING\",\"TOKENIZE\":\"No\"},{\"FELEM_ID\":18,\"FELEM_CODE\":\"TYPE\",\"DATA_TYPE\":\"STRING\",\"TOKENIZE\":\"No\"},{\"FELEM_ID\":19,\"FELEM_CODE\":\"OS\",\"DATA_TYPE\":\"STRING\",\"TOKENIZE\":\"No\"},{\"FELEM_ID\":22,\"FELEM_CODE\":\"ADDR1\",\"DATA_TYPE\":\"STRING\",\"TOKENIZE\":\"No\"},{\"FELEM_ID\":23,\"FELEM_CODE\":\"ADDR2\",\"DATA_TYPE\":\"STRING\",\"TOKENIZE\":\"No\"},{\"FELEM_ID\":24,\"FELEM_CODE\":\"ADDR3\",\"DATA_TYPE\":\"STRING\",\"TOKENIZE\":\"No\"},{\"FELEM_ID\":25,\"FELEM_CODE\":\"CITY\",\"DATA_TYPE\":\"STRING\",\"TOKENIZE\":\"No\"},{\"FELEM_ID\":26,\"FELEM_CODE\":\"STATE\",\"DATA_TYPE\":\"STRING\",\"TOKENIZE\":\"No\"},{\"FELEM_ID\":27,\"FELEM_CODE\":\"POSTAL_CODE\",\"DATA_TYPE\":\"STRING\",\"TOKENIZE\":\"No\"},{\"FELEM_ID\":28,\"FELEM_CODE\":\"COUNTRY\",\"DATA_TYPE\":\"STRING\",\"TOKENIZE\":\"No\"},{\"FELEM_ID\":29,\"FELEM_CODE\":\"STR_NUM\",\"DATA_TYPE\":\"STRING\",\"TOKENIZE\":\"No\"},{\"FELEM_ID\":30,\"FELEM_CODE\":\"STR_NAME\",\"DATA_TYPE\":\"STRING\",\"TOKENIZE\":\"No\"},{\"FELEM_ID\":31,\"FELEM_CODE\":\"UNIT_TYPE\",\"DATA_TYPE\":\"STRING\",\"TOKENIZE\":\"No\"},{\"FELEM_ID\":32,\"FELEM_CODE\":\"UNIT_NUM\",\"DATA_TYPE\":\"STRING\",\"TOKENIZE\":\"No\"},{\"FELEM_ID\":33,\"FELEM_CODE\":\"PHONE_NUM\",\"DATA_TYPE\":\"STRING\",\"TOKENIZE\":\"No\"},{\"FELEM_ID\":34,\"FELEM_CODE\":\"PHONE_EXT\",\"DATA_TYPE\":\"STRING\",\"TOKENIZE\":\"No\"},{\"FELEM_ID\":35,\"FELEM_CODE\":\"ADDR\",\"DATA_TYPE\":\"STRING\",\"TOKENIZE\":\"No\"},{\"FELEM_ID\":36,\"FELEM_CODE\":\"EXPRESSION\",\"DATA_TYPE\":\"STRING\",\"TOKENIZE\":\"No\"},{\"FELEM_ID\":37,\"FELEM_CODE\":\"ID_NUM\",\"DATA_TYPE\":\"STRING\",\"TOKENIZE\":\"No\"},{\"FELEM_ID\":38,\"FELEM_CODE\":\"ID_TYPE\",\"DATA_TYPE\":\"STRING\",\"TOKENIZE\":\"No\"},{\"FELEM_ID\":39,\"FELEM_CODE\":\"ID_LAST4\",\"DATA_TYPE\":\"STRING\",\"TOKENIZE\":\"No\"},{\"FELEM_ID\":40,\"FELEM_CODE\":\"ACCT_NUM\",\"DATA_TYPE\":\"STRING\",\"TOKENIZE\":\"No\"},{\"FELEM_ID\":41,\"FELEM_CODE\":\"DSRC_CODE\",\"DATA_TYPE\":\"STRING\",\"TOKENIZE\":\"No\"},{\"FELEM_ID\":42,\"FELEM_CODE\":\"ACCT_TYPE\",\"DATA_TYPE\":\"STRING\",\"TOKENIZE\":\"No\"},{\"FELEM_ID\":43,\"FELEM_CODE\":\"DATE\",\"DATA_TYPE\":\"DATE\",\"TOKENIZE\":\"No\"},{\"FELEM_ID\":44,\"FELEM_CODE\":\"YESNO_FLAG\",\"DATA_TYPE\":\"STRING\",\"TOKENIZE\":\"No\"},{\"FELEM_ID\":45,\"FELEM_CODE\":\"CALL_SIGN\",\"DATA_TYPE\":\"STRING\",\"TOKENIZE\":\"No\"},{\"FELEM_ID\":46,\"FELEM_CODE\":\"CODE\",\"DATA_TYPE\":\"STRING\",\"TOKENIZE\":\"No\"},{\"FELEM_ID\":47,\"FELEM_CODE\":\"PORT\",\"DATA_TYPE\":\"STRING\",\"TOKENIZE\":\"No\"},{\"FELEM_ID\":48,\"FELEM_CODE\":\"LENGTH\",\"DATA_TYPE\":\"STRING\",\"TOKENIZE\":\"No\"},{\"FELEM_ID\":49,\"FELEM_CODE\":\"BEAM\",\"DATA_TYPE\":\"STRING\",\"TOKENIZE\":\"No\"},{\"FELEM_ID\":50,\"FELEM_CODE\":\"TONNAGE\",\"DATA_TYPE\":\"NUMBER\",\"TOKENIZE\":\"No\"},{\"FELEM_ID\":51,\"FELEM_CODE\":\"LATITUDE\",\"DATA_TYPE\":\"NUMBER\",\"TOKENIZE\":\"No\"},{\"FELEM_ID\":52,\"FELEM_CODE\":\"LONGITUDE\",\"DATA_TYPE\":\"NUMBER\",\"TOKENIZE\":\"No\"},{\"FELEM_ID\":53,\"FELEM_CODE\":\"TIME\",\"DATA_TYPE\":\"DATETIME\",\"TOKENIZE\":\"No\"},{\"FELEM_ID\":54,\"FELEM_CODE\":\"REL_KEY\",\"DATA_TYPE\":\"STRING\",\"TOKENIZE\":\"No\"},{\"FELEM_ID\":55,\"FELEM_CODE\":\"REL_TYPE\",\"DATA_TYPE\":\"STRING\",\"TOKENIZE\":\"No\"},{\"FELEM_ID\":56,\"FELEM_CODE\":\"LOGIN_ID\",\"DATA_TYPE\":\"STRING\",\"TOKENIZE\":\"No\"},{\"FELEM_ID\":57,\"FELEM_CODE\":\"LOGIN_DOMAIN\",\"DATA_TYPE\":\"STRING\",\"TOKENIZE\":\"No\"},{\"FELEM_ID\":58,\"FELEM_CODE\":\"ACCT_DOMAIN\",\"DATA_TYPE\":\"STRING\",\"TOKENIZE\":\"No\"},{\"FELEM_ID\":59,\"FELEM_CODE\":\"AMOUNT\",\"DATA_TYPE\":\"NUMBER\",\"TOKENIZE\":\"No\"},{\"FELEM_ID\":60,\"FELEM_CODE\":\"PHONE_LAST_10\",\"DATA_TYPE\":\"STRING\",\"TOKENIZE\":\"No\"},{\"FELEM_ID\":61,\"FELEM_CODE\":\"PHONE_LAST_5\",\"DATA_TYPE\":\"STRING\",\"TOKENIZE\":\"No\"},{\"FELEM_ID\":62,\"FELEM_CODE\":\"DATE_YEAR\",\"DATA_TYPE\":\"STRING\",\"TOKENIZE\":\"No\"},{\"FELEM_ID\":63,\"FELEM_CODE\":\"DATE_MONTH\",\"DATA_TYPE\":\"STRING\",\"TOKENIZE\":\"No\"},{\"FELEM_ID\":64,\"FELEM_CODE\":\"DATE_DAY\",\"DATA_TYPE\":\"STRING\",\"TOKENIZE\":\"No\"},{\"FELEM_ID\":65,\"FELEM_CODE\":\"STR_NAME_METAPHONE\",\"DATA_TYPE\":\"STRING\",\"TOKENIZE\":\"No\"},{\"FELEM_ID\":66,\"FELEM_CODE\":\"CITY_METAPHONE\",\"DATA_TYPE\":\"STRING\",\"TOKENIZE\":\"No\"},{\"FELEM_ID\":69,\"FELEM_CODE\":\"ID_NUM_STD\",\"DATA_TYPE\":\"STRING\",\"TOKENIZE\":\"No\"},{\"FELEM_ID\":71,\"FELEM_CODE\":\"DATE_HASH\",\"DATA_TYPE\":\"STRING\",\"TOKENIZE\":\"No\"},{\"FELEM_ID\":72,\"FELEM_CODE\":\"STR_NAME_STD\",\"DATA_TYPE\":\"STRING\",\"TOKENIZE\":\"No\"},{\"FELEM_ID\":73,\"FELEM_CODE\":\"CITY_STD\",\"DATA_TYPE\":\"STRING\",\"TOKENIZE\":\"No\"},{\"FELEM_ID\":74,\"FELEM_CODE\":\"POSTAL_5\",\"DATA_TYPE\":\"STRING\",\"TOKENIZE\":\"No\"},{\"FELEM_ID\":75,\"FELEM_CODE\":\"GEO_PRECISION\",\"DATA_TYPE\":\"NUMBER\",\"TOKENIZE\":\"No\"},{\"FELEM_ID\":76,\"FELEM_CODE\":\"TIME_PRECISION\",\"DATA_TYPE\":\"NUMBER\",\"TOKENIZE\":\"No\"},{\"FELEM_ID\":77,\"FELEM_CODE\":\"ALL_NM\",\"DATA_TYPE\":\"STRING\",\"TOKENIZE\":\"No\"},{\"FELEM_ID\":78,\"FELEM_CODE\":\"ALL_META\",\"DATA_TYPE\":\"STRING\",\"TOKENIZE\":\"No\"},{\"FELEM_ID\":79,\"FELEM_CODE\":\"NM_PAIR\",\"DATA_TYPE\":\"STRING\",\"TOKENIZE\":\"No\"},{\"FELEM_ID\":81,\"FELEM_CODE\":\"ORIG_GN\",\"DATA_TYPE\":\"STRING\",\"TOKENIZE\":\"No\"},{\"FELEM_ID\":83,\"FELEM_CODE\":\"META_GN\",\"DATA_TYPE\":\"STRING\",\"TOKENIZE\":\"No\"},{\"FELEM_ID\":84,\"FELEM_CODE\":\"ORIG_SN\",\"DATA_TYPE\":\"STRING\",\"TOKENIZE\":\"No\"},{\"FELEM_ID\":86,\"FELEM_CODE\":\"META_SN\",\"DATA_TYPE\":\"STRING\",\"TOKENIZE\":\"No\"},{\"FELEM_ID\":87,\"FELEM_CODE\":\"ORIG_ON\",\"DATA_TYPE\":\"STRING\",\"TOKENIZE\":\"No\"},{\"FELEM_ID\":89,\"FELEM_CODE\":\"META_ON\",\"DATA_TYPE\":\"STRING\",\"TOKENIZE\":\"No\"},{\"FELEM_ID\":91,\"FELEM_CODE\":\"STD_PRE\",\"DATA_TYPE\":\"STRING\",\"TOKENIZE\":\"No\"},{\"FELEM_ID\":92,\"FELEM_CODE\":\"STD_SUF\",\"DATA_TYPE\":\"STRING\",\"TOKENIZE\":\"No\"},{\"FELEM_ID\":93,\"FELEM_CODE\":\"STD_GEN\",\"DATA_TYPE\":\"STRING\",\"TOKENIZE\":\"No\"},{\"FELEM_ID\":94,\"FELEM_CODE\":\"ORIG_FN\",\"DATA_TYPE\":\"STRING\",\"TOKENIZE\":\"No\"},{\"FELEM_ID\":96,\"FELEM_CODE\":\"META_FN\",\"DATA_TYPE\":\"STRING\",\"TOKENIZE\":\"No\"},{\"FELEM_ID\":97,\"FELEM_CODE\":\"ISSUE_DATE\",\"DATA_TYPE\":\"DATE\",\"TOKENIZE\":\"No\"},{\"FELEM_ID\":98,\"FELEM_CODE\":\"EXPIRE_DATE\",\"DATA_TYPE\":\"DATE\",\"TOKENIZE\":\"No\"},{\"FELEM_ID\":99,\"FELEM_CODE\":\"VALUE\",\"DATA_TYPE\":\"STRING\",\"TOKENIZE\":\"No\"},{\"FELEM_ID\":100,\"FELEM_CODE\":\"ADDR_FULL\",\"DATA_TYPE\":\"STRING\",\"TOKENIZE\":\"No\"},{\"FELEM_ID\":101,\"FELEM_CODE\":\"ADDR4\",\"DATA_TYPE\":\"STRING\",\"TOKENIZE\":\"No\"},{\"FELEM_ID\":102,\"FELEM_CODE\":\"ADDR5\",\"DATA_TYPE\":\"STRING\",\"TOKENIZE\":\"No\"},{\"FELEM_ID\":103,\"FELEM_CODE\":\"ADDR6\",\"DATA_TYPE\":\"STRING\",\"TOKENIZE\":\"No\"},{\"FELEM_ID\":104,\"FELEM_CODE\":\"LATLONG\",\"DATA_TYPE\":\"STRING\",\"TOKENIZE\":\"No\"},{\"FELEM_ID\":105,\"FELEM_CODE\":\"STB6\",\"DATA_TYPE\":\"STRING\",\"TOKENIZE\":\"No\"},{\"FELEM_ID\":106,\"FELEM_CODE\":\"STB7\",\"DATA_TYPE\":\"STRING\",\"TOKENIZE\":\"No\"},{\"FELEM_ID\":107,\"FELEM_CODE\":\"STB8\",\"DATA_TYPE\":\"STRING\",\"TOKENIZE\":\"No\"},{\"FELEM_ID\":108,\"FELEM_CODE\":\"LIBPOSTAL_PARSE\",\"DATA_TYPE\":\"JSON\",\"TOKENIZE\":\"No\"},{\"FELEM_ID\":109,\"FELEM_CODE\":\"PHONE_AREA_CODE\",\"DATA_TYPE\":\"STRING\",\"TOKENIZE\":\"No\"},{\"FELEM_ID\":110,\"FELEM_CODE\":\"AMBIGUOUS_FTYPE_ID\",\"DATA_TYPE\":\"NUMBER\",\"TOKENIZE\":\"No\"},{\"FELEM_ID\":111,\"FELEM_CODE\":\"AMBIGUOUS_TIER\",\"DATA_TYPE\":\"NUMBER\",\"TOKENIZE\":\"No\"},{\"FELEM_ID\":112,\"FELEM_CODE\":\"MMYY_HASH\",\"DATA_TYPE\":\"STRING\",\"TOKENIZE\":\"No\"},{\"FELEM_ID\":113,\"FELEM_CODE\":\"MMDD_HASH\",\"DATA_TYPE\":\"STRING\",\"TOKENIZE\":\"No\"},{\"FELEM_ID\":114,\"FELEM_CODE\":\"AMBIGUOUS_SUPRESSED_LIBFEAT\",\"DATA_TYPE\":\"NUMBER\",\"TOKENIZE\":\"No\"},{\"FELEM_ID\":115,\"FELEM_CODE\":\"AMBIGUOUS_TYPE\",\"DATA_TYPE\":\"NUMBER\",\"TOKENIZE\":\"No\"},{\"FELEM_ID\":116,\"FELEM_CODE\":\"PLACE\",\"DATA_TYPE\":\"STRING\",\"TOKENIZE\":\"No\"},{\"FELEM_ID\":117,\"FELEM_CODE\":\"COUNTRY_CODE\",\"DATA_TYPE\":\"STRING\",\"TOKENIZE\":\"No\"},{\"FELEM_ID\":118,\"FELEM_CODE\":\"TOKENIZED_NM\",\"DATA_TYPE\":\"STRING\",\"TOKENIZE\":\"No\"},{\"FELEM_ID\":119,\"FELEM_CODE\":\"USER_NAME\",\"DATA_TYPE\":\"STRING\",\"TOKENIZE\":\"No\"},{\"FELEM_ID\":120,\"FELEM_CODE\":\"DOMAIN_NAME\",\"DATA_TYPE\":\"STRING\",\"TOKENIZE\":\"No\"},{\"FELEM_ID\":121,\"FELEM_CODE\":\"ADDR_STD\",\"DATA_TYPE\":\"STRING\",\"TOKENIZE\":\"No\"},{\"FELEM_ID\":122,\"FELEM_CODE\":\"KEY_TYPE\",\"DATA_TYPE\":\"STRING\",\"TOKENIZE\":\"No\"},{\"FELEM_ID\":123,\"FELEM_CODE\":\"KEY_VALUE\",\"DATA_TYPE\":\"STRING\",\"TOKENIZE\":\"No\"},{\"FELEM_ID\":124,\"FELEM_CODE\":\"PLACEKEY\",\"DATA_TYPE\":\"STRING\",\"TOKENIZE\":\"No\"},{\"FELEM_ID\":125,\"FELEM_CODE\":\"SUPRESSED_RELATIONSHIP_FTYPE_ID\",\"DATA_TYPE\":\"NUMBER\",\"TOKENIZE\":\"No\"},{\"FELEM_ID\":126,\"FELEM_CODE\":\"SUPRESSED_RELATIONSHIP_CONNECTING_FTYPE_ID\",\"DATA_TYPE\":\"NUMBER\",\"TOKENIZE\":\"No\"}],\"CFG_DSRC\":[{\"DSRC_ID\":1,\"DSRC_CODE\":\"TEST\",\"DSRC_DESC\":\"Test\",\"DSRC_RELY\":1,\"RETENTION_LEVEL\":\"Remember\",\"CONVERSATIONAL\":\"No\"},{\"DSRC_ID\":2,\"DSRC_CODE\":\"SEARCH\",\"DSRC_DESC\":\"Search\",\"DSRC_RELY\":1,\"RETENTION_LEVEL\":\"Forget\",\"CONVERSATIONAL\":\"Yes\"}],\"CFG_EFBOM\":[{\"EFCALL_ID\":1,\"FTYPE_ID\":6,\"FELEM_ID\":60,\"EXEC_ORDER\":1,\"FELEM_REQ\":\"Yes\"},{\"EFCALL_ID\":2,\"FTYPE_ID\":9,\"FELEM_ID\":69,\"EXEC_ORDER\":1,\"FELEM_REQ\":\"Yes\"},{\"EFCALL_ID\":3,\"FTYPE_ID\":10,\"FELEM_ID\":69,\"EXEC_ORDER\":1,\"FELEM_REQ\":\"Yes\"},{\"EFCALL_ID\":4,\"FTYPE_ID\":12,\"FELEM_ID\":69,\"EXEC_ORDER\":1,\"FELEM_REQ\":\"Yes\"},{\"EFCALL_ID\":5,\"FTYPE_ID\":13,\"FELEM_ID\":56,\"EXEC_ORDER\":1,\"FELEM_REQ\":\"Yes\"},{\"EFCALL_ID\":7,\"FTYPE_ID\":1,\"FELEM_ID\":3,\"EXEC_ORDER\":1,\"FELEM_REQ\":\"No\"},{\"EFCALL_ID\":7,\"FTYPE_ID\":1,\"FELEM_ID\":4,\"EXEC_ORDER\":2,\"FELEM_REQ\":\"No\"},{\"EFCALL_ID\":7,\"FTYPE_ID\":1,\"FELEM_ID\":5,\"EXEC_ORDER\":3,\"FELEM_REQ\":\"No\"},{\"EFCALL_ID\":7,\"FTYPE_ID\":1,\"FELEM_ID\":6,\"EXEC_ORDER\":4,\"FELEM_REQ\":\"No\"},{\"EFCALL_ID\":7,\"FTYPE_ID\":1,\"FELEM_ID\":2,\"EXEC_ORDER\":5,\"FELEM_REQ\":\"No\"},{\"EFCALL_ID\":7,\"FTYPE_ID\":1,\"FELEM_ID\":10,\"EXEC_ORDER\":6,\"FELEM_REQ\":\"No\"},{\"EFCALL_ID\":7,\"FTYPE_ID\":1,\"FELEM_ID\":11,\"EXEC_ORDER\":7,\"FELEM_REQ\":\"No\"},{\"EFCALL_ID\":7,\"FTYPE_ID\":1,\"FELEM_ID\":12,\"EXEC_ORDER\":8,\"FELEM_REQ\":\"No\"},{\"EFCALL_ID\":7,\"FTYPE_ID\":1,\"FELEM_ID\":77,\"EXEC_ORDER\":9,\"FELEM_REQ\":\"No\"},{\"EFCALL_ID\":7,\"FTYPE_ID\":1,\"FELEM_ID\":78,\"EXEC_ORDER\":10,\"FELEM_REQ\":\"No\"},{\"EFCALL_ID\":7,\"FTYPE_ID\":1,\"FELEM_ID\":79,\"EXEC_ORDER\":11,\"FELEM_REQ\":\"No\"},{\"EFCALL_ID\":7,\"FTYPE_ID\":-1,\"FELEM_ID\":71,\"EXEC_ORDER\":12,\"FELEM_REQ\":\"No\"},{\"EFCALL_ID\":7,\"FTYPE_ID\":5,\"FELEM_ID\":74,\"EXEC_ORDER\":14,\"FELEM_REQ\":\"No\"},{\"EFCALL_ID\":7,\"FTYPE_ID\":7,\"FELEM_ID\":39,\"EXEC_ORDER\":15,\"FELEM_REQ\":\"No\"},{\"EFCALL_ID\":7,\"FTYPE_ID\":6,\"FELEM_ID\":61,\"EXEC_ORDER\":16,\"FELEM_REQ\":\"No\"},{\"EFCALL_ID\":7,\"FTYPE_ID\":77,\"FELEM_ID\":37,\"EXEC_ORDER\":17,\"FELEM_REQ\":\"No\"},{\"EFCALL_ID\":7,\"FTYPE_ID\":86,\"FELEM_ID\":117,\"EXEC_ORDER\":18,\"FELEM_REQ\":\"No\"},{\"EFCALL_ID\":7,\"FTYPE_ID\":57,\"FELEM_ID\":3,\"EXEC_ORDER\":19,\"FELEM_REQ\":\"No\"},{\"EFCALL_ID\":7,\"FTYPE_ID\":-1,\"FELEM_ID\":112,\"EXEC_ORDER\":20,\"FELEM_REQ\":\"No\"},{\"EFCALL_ID\":7,\"FTYPE_ID\":-1,\"FELEM_ID\":113,\"EXEC_ORDER\":21,\"FELEM_REQ\":\"No\"},{\"EFCALL_ID\":7,\"FTYPE_ID\":5,\"FELEM_ID\":73,\"EXEC_ORDER\":22,\"FELEM_REQ\":\"No\"},{\"EFCALL_ID\":8,\"FTYPE_ID\":37,\"FELEM_ID\":69,\"EXEC_ORDER\":1,\"FELEM_REQ\":\"Yes\"},{\"EFCALL_ID\":9,\"FTYPE_ID\":5,\"FELEM_ID\":29,\"EXEC_ORDER\":1,\"FELEM_REQ\":\"No\"},{\"EFCALL_ID\":9,\"FTYPE_ID\":5,\"FELEM_ID\":72,\"EXEC_ORDER\":2,\"FELEM_REQ\":\"No\"},{\"EFCALL_ID\":9,\"FTYPE_ID\":5,\"FELEM_ID\":31,\"EXEC_ORDER\":3,\"FELEM_REQ\":\"No\"},{\"EFCALL_ID\":9,\"FTYPE_ID\":5,\"FELEM_ID\":32,\"EXEC_ORDER\":4,\"FELEM_REQ\":\"No\"},{\"EFCALL_ID\":9,\"FTYPE_ID\":5,\"FELEM_ID\":73,\"EXEC_ORDER\":5,\"FELEM_REQ\":\"No\"},{\"EFCALL_ID\":9,\"FTYPE_ID\":5,\"FELEM_ID\":26,\"EXEC_ORDER\":6,\"FELEM_REQ\":\"No\"},{\"EFCALL_ID\":9,\"FTYPE_ID\":5,\"FELEM_ID\":74,\"EXEC_ORDER\":7,\"FELEM_REQ\":\"No\"},{\"EFCALL_ID\":10,\"FTYPE_ID\":7,\"FELEM_ID\":39,\"EXEC_ORDER\":1,\"FELEM_REQ\":\"Yes\"},{\"EFCALL_ID\":10,\"FTYPE_ID\":-1,\"FELEM_ID\":71,\"EXEC_ORDER\":2,\"FELEM_REQ\":\"Yes\"},{\"EFCALL_ID\":11,\"FTYPE_ID\":11,\"FELEM_ID\":69,\"EXEC_ORDER\":1,\"FELEM_REQ\":\"Yes\"},{\"EFCALL_ID\":12,\"FTYPE_ID\":52,\"FELEM_ID\":69,\"EXEC_ORDER\":1,\"FELEM_REQ\":\"Yes\"},{\"EFCALL_ID\":13,\"FTYPE_ID\":24,\"FELEM_ID\":51,\"EXEC_ORDER\":1,\"FELEM_REQ\":\"Yes\"},{\"EFCALL_ID\":13,\"FTYPE_ID\":24,\"FELEM_ID\":52,\"EXEC_ORDER\":2,\"FELEM_REQ\":\"Yes\"},{\"EFCALL_ID\":13,\"FTYPE_ID\":24,\"FELEM_ID\":53,\"EXEC_ORDER\":3,\"FELEM_REQ\":\"No\"},{\"EFCALL_ID\":13,\"FTYPE_ID\":24,\"FELEM_ID\":75,\"EXEC_ORDER\":4,\"FELEM_REQ\":\"No\"},{\"EFCALL_ID\":13,\"FTYPE_ID\":24,\"FELEM_ID\":76,\"EXEC_ORDER\":5,\"FELEM_REQ\":\"No\"},{\"EFCALL_ID\":13,\"FTYPE_ID\":24,\"FELEM_ID\":104,\"EXEC_ORDER\":6,\"FELEM_REQ\":\"No\"},{\"EFCALL_ID\":13,\"FTYPE_ID\":24,\"FELEM_ID\":105,\"EXEC_ORDER\":7,\"FELEM_REQ\":\"No\"},{\"EFCALL_ID\":13,\"FTYPE_ID\":24,\"FELEM_ID\":106,\"EXEC_ORDER\":8,\"FELEM_REQ\":\"No\"},{\"EFCALL_ID\":13,\"FTYPE_ID\":24,\"FELEM_ID\":107,\"EXEC_ORDER\":9,\"FELEM_REQ\":\"No\"},{\"EFCALL_ID\":14,\"FTYPE_ID\":16,\"FELEM_ID\":40,\"EXEC_ORDER\":1,\"FELEM_REQ\":\"Yes\"},{\"EFCALL_ID\":15,\"FTYPE_ID\":53,\"FELEM_ID\":37,\"EXEC_ORDER\":1,\"FELEM_REQ\":\"Yes\"},{\"EFCALL_ID\":16,\"FTYPE_ID\":7,\"FELEM_ID\":69,\"EXEC_ORDER\":1,\"FELEM_REQ\":\"Yes\"},{\"EFCALL_ID\":29,\"FTYPE_ID\":78,\"FELEM_ID\":69,\"EXEC_ORDER\":1,\"FELEM_REQ\":\"Yes\"},{\"EFCALL_ID\":30,\"FTYPE_ID\":79,\"FELEM_ID\":69,\"EXEC_ORDER\":1,\"FELEM_REQ\":\"Yes\"},{\"EFCALL_ID\":31,\"FTYPE_ID\":80,\"FELEM_ID\":69,\"EXEC_ORDER\":1,\"FELEM_REQ\":\"Yes\"},{\"EFCALL_ID\":32,\"FTYPE_ID\":87,\"FELEM_ID\":69,\"EXEC_ORDER\":1,\"FELEM_REQ\":\"Yes\"},{\"EFCALL_ID\":34,\"FTYPE_ID\":14,\"FELEM_ID\":121,\"EXEC_ORDER\":1,\"FELEM_REQ\":\"Yes\"}],\"CFG_EFUNC\":[{\"EFUNC_ID\":1,\"EFUNC_CODE\":\"EXPRESS_BOM\",\"CONNECT_STR\":\"g2GenericHasher\",\"FUNC_LIB\":\"g2func_lib\",\"FUNC_VER\":\"2\",\"LANGUAGE\":\"\",\"JAVA_CLASS_NAME\":\"\"},{\"EFUNC_ID\":2,\"EFUNC_CODE\":\"NAME_HASHER\",\"CONNECT_STR\":\"g2NameHasher\",\"FUNC_LIB\":\"g2func_lib\",\"FUNC_VER\":\"2\",\"LANGUAGE\":\"\",\"JAVA_CLASS_NAME\":\"\"},{\"EFUNC_ID\":3,\"EFUNC_CODE\":\"ADDR_HASHER\",\"CONNECT_STR\":\"g2AddressHasher\",\"FUNC_LIB\":\"g2func_lib\",\"FUNC_VER\":\"2\",\"LANGUAGE\":\"\",\"JAVA_CLASS_NAME\":\"\"},{\"EFUNC_ID\":4,\"EFUNC_CODE\":\"PHONE_HASHER\",\"CONNECT_STR\":\"g2PhoneHasher\",\"FUNC_LIB\":\"g2func_lib\",\"FUNC_VER\":\"2\",\"LANGUAGE\":\"\",\"JAVA_CLASS_NAME\":\"\"},{\"EFUNC_ID\":5,\"EFUNC_CODE\":\"EXPRESS_ID\",\"CONNECT_STR\":\"g2IDHasher\",\"FUNC_LIB\":\"g2funclib\",\"FUNC_VER\":\"2\",\"LANGUAGE\":\"\",\"JAVA_CLASS_NAME\":\"\"},{\"EFUNC_ID\":6,\"EFUNC_CODE\":\"STB_HASHER\",\"CONNECT_STR\":\"g2STBHasher\",\"FUNC_LIB\":\"g2funclib\",\"FUNC_VER\":\"2\",\"LANGUAGE\":\"\",\"JAVA_CLASS_NAME\":\"\"},{\"EFUNC_ID\":7,\"EFUNC_CODE\":\"FEAT_BUILDER\",\"CONNECT_STR\":\"g2FeatBuilder\",\"FUNC_LIB\":\"g2funclib\",\"FUNC_VER\":\"2\",\"LANGUAGE\":\"\",\"JAVA_CLASS_NAME\":\"\"}],\"CFG_EFCALL\":[{\"FTYPE_ID\":6,\"FELEM_ID\":-1,\"EFCALL_ID\":1,\"EFUNC_ID\":4,\"EXEC_ORDER\":1,\"EFEAT_FTYPE_ID\":-1,\"IS_VIRTUAL\":\"No\"},{\"FTYPE_ID\":9,\"FELEM_ID\":-1,\"EFCALL_ID\":2,\"EFUNC_ID\":5,\"EXEC_ORDER\":1,\"EFEAT_FTYPE_ID\":-1,\"IS_VIRTUAL\":\"No\"},{\"FTYPE_ID\":10,\"FELEM_ID\":-1,\"EFCALL_ID\":3,\"EFUNC_ID\":5,\"EXEC_ORDER\":1,\"EFEAT_FTYPE_ID\":-1,\"IS_VIRTUAL\":\"No\"},{\"FTYPE_ID\":12,\"FELEM_ID\":-1,\"EFCALL_ID\":4,\"EFUNC_ID\":5,\"EXEC_ORDER\":1,\"EFEAT_FTYPE_ID\":-1,\"IS_VIRTUAL\":\"No\"},{\"FTYPE_ID\":13,\"FELEM_ID\":-1,\"EFCALL_ID\":5,\"EFUNC_ID\":1,\"EXEC_ORDER\":1,\"EFEAT_FTYPE_ID\":-1,\"IS_VIRTUAL\":\"No\"},{\"FTYPE_ID\":1,\"FELEM_ID\":-1,\"EFCALL_ID\":7,\"EFUNC_ID\":2,\"EXEC_ORDER\":2,\"EFEAT_FTYPE_ID\":-1,\"IS_VIRTUAL\":\"No\"},{\"FTYPE_ID\":37,\"FELEM_ID\":-1,\"EFCALL_ID\":8,\"EFUNC_ID\":5,\"EXEC_ORDER\":1,\"EFEAT_FTYPE_ID\":-1,\"IS_VIRTUAL\":\"No\"},{\"FTYPE_ID\":5,\"FELEM_ID\":-1,\"EFCALL_ID\":9,\"EFUNC_ID\":3,\"EXEC_ORDER\":1,\"EFEAT_FTYPE_ID\":-1,\"IS_VIRTUAL\":\"No\"},{\"FTYPE_ID\":7,\"FELEM_ID\":-1,\"EFCALL_ID\":10,\"EFUNC_ID\":1,\"EXEC_ORDER\":2,\"EFEAT_FTYPE_ID\":-1,\"IS_VIRTUAL\":\"No\"},{\"FTYPE_ID\":11,\"FELEM_ID\":-1,\"EFCALL_ID\":11,\"EFUNC_ID\":5,\"EXEC_ORDER\":1,\"EFEAT_FTYPE_ID\":-1,\"IS_VIRTUAL\":\"No\"},{\"FTYPE_ID\":52,\"FELEM_ID\":-1,\"EFCALL_ID\":12,\"EFUNC_ID\":5,\"EXEC_ORDER\":1,\"EFEAT_FTYPE_ID\":-1,\"IS_VIRTUAL\":\"No\"},{\"FTYPE_ID\":24,\"FELEM_ID\":-1,\"EFCALL_ID\":13,\"EFUNC_ID\":6,\"EXEC_ORDER\":1,\"EFEAT_FTYPE_ID\":-1,\"IS_VIRTUAL\":\"No\"},{\"FTYPE_ID\":16,\"FELEM_ID\":-1,\"EFCALL_ID\":14,\"EFUNC_ID\":5,\"EXEC_ORDER\":1,\"EFEAT_FTYPE_ID\":-1,\"IS_VIRTUAL\":\"No\"},{\"FTYPE_ID\":53,\"FELEM_ID\":-1,\"EFCALL_ID\":15,\"EFUNC_ID\":5,\"EXEC_ORDER\":1,\"EFEAT_FTYPE_ID\":-1,\"IS_VIRTUAL\":\"No\"},{\"FTYPE_ID\":7,\"FELEM_ID\":-1,\"EFCALL_ID\":16,\"EFUNC_ID\":5,\"EXEC_ORDER\":1,\"EFEAT_FTYPE_ID\":-1,\"IS_VIRTUAL\":\"No\"},{\"FTYPE_ID\":78,\"FELEM_ID\":-1,\"EFCALL_ID\":29,\"EFUNC_ID\":5,\"EXEC_ORDER\":1,\"EFEAT_FTYPE_ID\":-1,\"IS_VIRTUAL\":\"No\"},{\"FTYPE_ID\":79,\"FELEM_ID\":-1,\"EFCALL_ID\":30,\"EFUNC_ID\":5,\"EXEC_ORDER\":1,\"EFEAT_FTYPE_ID\":-1,\"IS_VIRTUAL\":\"No\"},{\"FTYPE_ID\":80,\"FELEM_ID\":-1,\"EFCALL_ID\":31,\"EFUNC_ID\":5,\"EXEC_ORDER\":1,\"EFEAT_FTYPE_ID\":-1,\"IS_VIRTUAL\":\"No\"},{\"FTYPE_ID\":87,\"FELEM_ID\":-1,\"EFCALL_ID\":32,\"EFUNC_ID\":5,\"EXEC_ORDER\":1,\"EFEAT_FTYPE_ID\":-1,\"IS_VIRTUAL\":\"No\"},{\"FTYPE_ID\":14,\"FELEM_ID\":-1,\"EFCALL_ID\":34,\"EFUNC_ID\":7,\"EXEC_ORDER\":1,\"EFEAT_FTYPE_ID\":88,\"IS_VIRTUAL\":\"No\"}],\"CFG_SFCALL\":[{\"SFCALL_ID\":1,\"FTYPE_ID\":1,\"FELEM_ID\":-1,\"SFUNC_ID\":1,\"EXEC_ORDER\":1},{\"SFCALL_ID\":2,\"FTYPE_ID\":2,\"FELEM_ID\":-1,\"SFUNC_ID\":2,\"EXEC_ORDER\":1},{\"SFCALL_ID\":3,\"FTYPE_ID\":5,\"FELEM_ID\":-1,\"SFUNC_ID\":7,\"EXEC_ORDER\":1},{\"SFCALL_ID\":4,\"FTYPE_ID\":6,\"FELEM_ID\":-1,\"SFUNC_ID\":8,\"EXEC_ORDER\":1},{\"SFCALL_ID\":5,\"FTYPE_ID\":7,\"FELEM_ID\":-1,\"SFUNC_ID\":4,\"EXEC_ORDER\":1},{\"SFCALL_ID\":6,\"FTYPE_ID\":9,\"FELEM_ID\":-1,\"SFUNC_ID\":6,\"EXEC_ORDER\":1},{\"SFCALL_ID\":7,\"FTYPE_ID\":10,\"FELEM_ID\":-1,\"SFUNC_ID\":6,\"EXEC_ORDER\":1},{\"SFCALL_ID\":8,\"FTYPE_ID\":12,\"FELEM_ID\":-1,\"SFUNC_ID\":6,\"EXEC_ORDER\":1},{\"SFCALL_ID\":9,\"FTYPE_ID\":24,\"FELEM_ID\":-1,\"SFUNC_ID\":10,\"EXEC_ORDER\":1},{\"SFCALL_ID\":10,\"FTYPE_ID\":37,\"FELEM_ID\":-1,\"SFUNC_ID\":6,\"EXEC_ORDER\":1},{\"SFCALL_ID\":11,\"FTYPE_ID\":11,\"FELEM_ID\":-1,\"SFUNC_ID\":6,\"EXEC_ORDER\":1},{\"SFCALL_ID\":12,\"FTYPE_ID\":52,\"FELEM_ID\":-1,\"SFUNC_ID\":6,\"EXEC_ORDER\":1},{\"SFCALL_ID\":13,\"FTYPE_ID\":3,\"FELEM_ID\":-1,\"SFUNC_ID\":2,\"EXEC_ORDER\":1},{\"SFCALL_ID\":14,\"FTYPE_ID\":75,\"FELEM_ID\":-1,\"SFUNC_ID\":2,\"EXEC_ORDER\":1},{\"SFCALL_ID\":15,\"FTYPE_ID\":78,\"FELEM_ID\":-1,\"SFUNC_ID\":6,\"EXEC_ORDER\":1},{\"SFCALL_ID\":16,\"FTYPE_ID\":79,\"FELEM_ID\":-1,\"SFUNC_ID\":6,\"EXEC_ORDER\":1},{\"SFCALL_ID\":17,\"FTYPE_ID\":80,\"FELEM_ID\":-1,\"SFUNC_ID\":6,\"EXEC_ORDER\":1},{\"SFCALL_ID\":18,\"FTYPE_ID\":87,\"FELEM_ID\":-1,\"SFUNC_ID\":6,\"EXEC_ORDER\":1},{\"SFCALL_ID\":19,\"FTYPE_ID\":-1,\"FELEM_ID\":28,\"SFUNC_ID\":11,\"EXEC_ORDER\":100},{\"SFCALL_ID\":20,\"FTYPE_ID\":1,\"FELEM_ID\":-1,\"SFUNC_ID\":12,\"EXEC_ORDER\":50},{\"SFCALL_ID\":21,\"FTYPE_ID\":14,\"FELEM_ID\":-1,\"SFUNC_ID\":13,\"EXEC_ORDER\":1}],\"CFG_SFUNC\":[{\"SFUNC_ID\":1,\"SFUNC_CODE\":\"PARSE_NAME\",\"FUNC_LIB\":\"g2func_lib\",\"CONNECT_STR\":\"g2ParseName\",\"LANGUAGE\":\"\",\"JAVA_CLASS_NAME\":\"\",\"FUNC_VER\":\"1\"},{\"SFUNC_ID\":2,\"SFUNC_CODE\":\"PARSE_DOB\",\"FUNC_LIB\":\"g2func_lib\",\"CONNECT_STR\":\"g2ParseDOB\",\"LANGUAGE\":\"\",\"JAVA_CLASS_NAME\":\"\",\"FUNC_VER\":\"1\"},{\"SFUNC_ID\":4,\"SFUNC_CODE\":\"FORMAT_SSN\",\"FUNC_LIB\":\"g2func_lib\",\"CONNECT_STR\":\"g2FormatSSN\",\"LANGUAGE\":\"\",\"JAVA_CLASS_NAME\":\"\",\"FUNC_VER\":\"1\"},{\"SFUNC_ID\":6,\"SFUNC_CODE\":\"PARSE_ID\",\"FUNC_LIB\":\"g2func_lib\",\"CONNECT_STR\":\"g2ParseID\",\"LANGUAGE\":\"\",\"JAVA_CLASS_NAME\":\"\",\"FUNC_VER\":\"1\"},{\"SFUNC_ID\":7,\"SFUNC_CODE\":\"PARSE_ADDR\",\"FUNC_LIB\":\"g2func_lib\",\"CONNECT_STR\":\"g2ConfigParseAddr\",\"LANGUAGE\":\"\",\"JAVA_CLASS_NAME\":\"\",\"FUNC_VER\":\"1\"},{\"SFUNC_ID\":8,\"SFUNC_CODE\":\"PARSE_PHONE\",\"FUNC_LIB\":\"g2func_lib\",\"CONNECT_STR\":\"g2ParsePhone\",\"LANGUAGE\":\"\",\"JAVA_CLASS_NAME\":\"\",\"FUNC_VER\":\"1\"},{\"SFUNC_ID\":9,\"SFUNC_CODE\":\"STANDARDIZE_STB\",\"FUNC_LIB\":\"g2func_lib\",\"CONNECT_STR\":\"SpaceTimeBoxStandardizer\",\"LANGUAGE\":\"\",\"JAVA_CLASS_NAME\":\"\",\"FUNC_VER\":\"1\"},{\"SFUNC_ID\":10,\"SFUNC_CODE\":\"STANDARDIZE_GEOLOC\",\"FUNC_LIB\":\"g2func_lib\",\"CONNECT_STR\":\"g2ParseGEOLOC\",\"LANGUAGE\":\"\",\"JAVA_CLASS_NAME\":\"\",\"FUNC_VER\":\"1\"},{\"SFUNC_ID\":11,\"SFUNC_CODE\":\"STANDARDIZE_COUNTRY\",\"FUNC_LIB\":\"g2func_lib\",\"CONNECT_STR\":\"g2StdCountry\",\"LANGUAGE\":\"\",\"JAVA_CLASS_NAME\":\"\",\"FUNC_VER\":\"1\"},{\"SFUNC_ID\":12,\"SFUNC_CODE\":\"TOKENIZE_NAME\",\"FUNC_LIB\":\"g2func_lib\",\"CONNECT_STR\":\"g2StdTokenizeName\",\"LANGUAGE\":\"\",\"JAVA_CLASS_NAME\":\"\",\"FUNC_VER\":\"1\"},{\"SFUNC_ID\":13,\"SFUNC_CODE\":\"PARSE_EMAIL\",\"FUNC_LIB\":\"g2func_lib\",\"CONNECT_STR\":\"g2ParseEmail\",\"LANGUAGE\":\"\",\"JAVA_CLASS_NAME\":\"\",\"FUNC_VER\":\"1\"}],\"SYS_OOM\":[{\"OOM_TYPE\":\"RF\",\"OOM_LEVEL\":\"SYSDEFAULT\",\"LENS_ID\":0,\"FTYPE_ID\":0,\"THRESH1_CNT\":100,\"THRESH1_OOM\":10,\"NEXT_THRESH\":1000}],\"CFG_CFUNC\":[{\"CFUNC_ID\":1,\"CFUNC_CODE\":\"STR_COMP\",\"CONNECT_STR\":\"g2StringComp\",\"FUNC_VER\":\"1\",\"ANON_SUPPORT\":\"Yes\",\"FUNC_LIB\":\"INT_LIB\",\"LANGUAGE\":\"\",\"JAVA_CLASS_NAME\":\"\"},{\"CFUNC_ID\":2,\"CFUNC_CODE\":\"GNR_COMP\",\"CONNECT_STR\":\"g2GNRNameComp\",\"FUNC_VER\":\"1\",\"ANON_SUPPORT\":\"Yes\",\"FUNC_LIB\":\"INT_LIB\",\"LANGUAGE\":\"\",\"JAVA_CLASS_NAME\":\"\"},{\"CFUNC_ID\":3,\"CFUNC_CODE\":\"EXACT_COMP\",\"CONNECT_STR\":\"g2ExactMatchComp\",\"FUNC_VER\":\"1\",\"ANON_SUPPORT\":\"Yes\",\"FUNC_LIB\":\"INT_LIB\",\"LANGUAGE\":\"\",\"JAVA_CLASS_NAME\":\"\"},{\"CFUNC_ID\":4,\"CFUNC_CODE\":\"ADDR_COMP\",\"CONNECT_STR\":\"g2AddressComp\",\"FUNC_VER\":\"1\",\"ANON_SUPPORT\":\"Yes\",\"FUNC_LIB\":\"INT_LIB\",\"LANGUAGE\":\"\",\"JAVA_CLASS_NAME\":\"\"},{\"CFUNC_ID\":5,\"CFUNC_CODE\":\"DOB_COMP\",\"CONNECT_STR\":\"g2DateComp\",\"FUNC_VER\":\"1\",\"ANON_SUPPORT\":\"Yes\",\"FUNC_LIB\":\"INT_LIB\",\"LANGUAGE\":\"\",\"JAVA_CLASS_NAME\":\"\"},{\"CFUNC_ID\":7,\"CFUNC_CODE\":\"PHONE_COMP\",\"CONNECT_STR\":\"g2PhoneComp\",\"FUNC_VER\":\"1\",\"ANON_SUPPORT\":\"Yes\",\"FUNC_LIB\":\"INT_LIB\",\"LANGUAGE\":\"\",\"JAVA_CLASS_NAME\":\"\"},{\"CFUNC_ID\":8,\"CFUNC_CODE\":\"SSN_COMP\",\"CONNECT_STR\":\"g2SSNComp\",\"FUNC_VER\":\"1\",\"ANON_SUPPORT\":\"Yes\",\"FUNC_LIB\":\"INT_LIB\",\"LANGUAGE\":\"\",\"JAVA_CLASS_NAME\":\"\"},{\"CFUNC_ID\":9,\"CFUNC_CODE\":\"ID_COMP\",\"CONNECT_STR\":\"g2DLComp\",\"FUNC_VER\":\"1\",\"ANON_SUPPORT\":\"Yes\",\"FUNC_LIB\":\"INT_LIB\",\"LANGUAGE\":\"\",\"JAVA_CLASS_NAME\":\"\"},{\"CFUNC_ID\":10,\"CFUNC_CODE\":\"GEOLOC_COMP\",\"CONNECT_STR\":\"g2GEOLOCComp\",\"FUNC_VER\":\"1\",\"ANON_SUPPORT\":\"Yes\",\"FUNC_LIB\":\"INT_LIB\",\"LANGUAGE\":\"\",\"JAVA_CLASS_NAME\":\"\"},{\"CFUNC_ID\":11,\"CFUNC_CODE\":\"EXACT_DOMAIN_COMP\",\"CONNECT_STR\":\"g2ExactDomainMatchComp\",\"FUNC_VER\":\"1\",\"ANON_SUPPORT\":\"Yes\",\"FUNC_LIB\":\"INT_LIB\",\"LANGUAGE\":\"\",\"JAVA_CLASS_NAME\":\"\"},{\"CFUNC_ID\":12,\"CFUNC_CODE\":\"GROUP_ASSOCIATION_COMP\",\"CONNECT_STR\":\"g2GroupAssociationComp\",\"FUNC_VER\":\"1\",\"ANON_SUPPORT\":\"Yes\",\"FUNC_LIB\":\"INT_LIB\",\"LANGUAGE\":\"\",\"JAVA_CLASS_NAME\":\"\"},{\"CFUNC_ID\":13,\"CFUNC_CODE\":\"EMAIL_COMP\",\"CONNECT_STR\":\"g2EmailComp\",\"FUNC_VER\":\"1\",\"ANON_SUPPORT\":\"Yes\",\"FUNC_LIB\":\"INT_LIB\",\"LANGUAGE\":\"\",\"JAVA_CLASS_NAME\":\"\"},{\"CFUNC_ID\":14,\"CFUNC_CODE\":\"BT_NAME_COMP\",\"CONNECT_STR\":\"g2CompJavaScoreSet\",\"FUNC_VER\":\"1\",\"ANON_SUPPORT\":\"Yes\",\"FUNC_LIB\":\"INT_LIB\",\"LANGUAGE\":\"JAVA\",\"JAVA_CLASS_NAME\":\"com.senzing.g2.plugins.scoring.RosetteNameScorer\"}],\"CFG_CFCALL\":[{\"FTYPE_ID\":1,\"CFCALL_ID\":1,\"CFUNC_ID\":2,\"EXEC_ORDER\":1},{\"FTYPE_ID\":2,\"CFCALL_ID\":2,\"CFUNC_ID\":5,\"EXEC_ORDER\":1},{\"FTYPE_ID\":3,\"CFCALL_ID\":3,\"CFUNC_ID\":5,\"EXEC_ORDER\":1},{\"FTYPE_ID\":4,\"CFCALL_ID\":4,\"CFUNC_ID\":11,\"EXEC_ORDER\":1},{\"FTYPE_ID\":5,\"CFCALL_ID\":5,\"CFUNC_ID\":4,\"EXEC_ORDER\":1},{\"FTYPE_ID\":6,\"CFCALL_ID\":6,\"CFUNC_ID\":7,\"EXEC_ORDER\":1},{\"FTYPE_ID\":7,\"CFCALL_ID\":7,\"CFUNC_ID\":8,\"EXEC_ORDER\":1},{\"FTYPE_ID\":9,\"CFCALL_ID\":9,\"CFUNC_ID\":9,\"EXEC_ORDER\":1},{\"FTYPE_ID\":10,\"CFCALL_ID\":10,\"CFUNC_ID\":9,\"EXEC_ORDER\":1},{\"FTYPE_ID\":11,\"CFCALL_ID\":34,\"CFUNC_ID\":3,\"EXEC_ORDER\":1},{\"FTYPE_ID\":12,\"CFCALL_ID\":12,\"CFUNC_ID\":9,\"EXEC_ORDER\":1},{\"FTYPE_ID\":13,\"CFCALL_ID\":13,\"CFUNC_ID\":3,\"EXEC_ORDER\":1},{\"FTYPE_ID\":14,\"CFCALL_ID\":14,\"CFUNC_ID\":13,\"EXEC_ORDER\":1},{\"FTYPE_ID\":15,\"CFCALL_ID\":15,\"CFUNC_ID\":3,\"EXEC_ORDER\":1},{\"FTYPE_ID\":16,\"CFCALL_ID\":16,\"CFUNC_ID\":3,\"EXEC_ORDER\":1},{\"FTYPE_ID\":24,\"CFCALL_ID\":40,\"CFUNC_ID\":10,\"EXEC_ORDER\":1},{\"FTYPE_ID\":36,\"CFCALL_ID\":18,\"CFUNC_ID\":3,\"EXEC_ORDER\":1},{\"FTYPE_ID\":37,\"CFCALL_ID\":19,\"CFUNC_ID\":9,\"EXEC_ORDER\":1},{\"FTYPE_ID\":52,\"CFCALL_ID\":35,\"CFUNC_ID\":9,\"EXEC_ORDER\":1},{\"FTYPE_ID\":53,\"CFCALL_ID\":36,\"CFUNC_ID\":3,\"EXEC_ORDER\":1},{\"FTYPE_ID\":54,\"CFCALL_ID\":37,\"CFUNC_ID\":1,\"EXEC_ORDER\":1},{\"FTYPE_ID\":55,\"CFCALL_ID\":38,\"CFUNC_ID\":1,\"EXEC_ORDER\":1},{\"FTYPE_ID\":56,\"CFCALL_ID\":39,\"CFUNC_ID\":3,\"EXEC_ORDER\":1},{\"FTYPE_ID\":57,\"CFCALL_ID\":41,\"CFUNC_ID\":12,\"EXEC_ORDER\":1},{\"FTYPE_ID\":59,\"CFCALL_ID\":42,\"CFUNC_ID\":12,\"EXEC_ORDER\":1},{\"FTYPE_ID\":60,\"CFCALL_ID\":43,\"CFUNC_ID\":3,\"EXEC_ORDER\":1},{\"FTYPE_ID\":61,\"CFCALL_ID\":44,\"CFUNC_ID\":3,\"EXEC_ORDER\":1},{\"FTYPE_ID\":62,\"CFCALL_ID\":45,\"CFUNC_ID\":3,\"EXEC_ORDER\":1},{\"FTYPE_ID\":63,\"CFCALL_ID\":46,\"CFUNC_ID\":3,\"EXEC_ORDER\":1},{\"FTYPE_ID\":64,\"CFCALL_ID\":47,\"CFUNC_ID\":3,\"EXEC_ORDER\":1},{\"FTYPE_ID\":65,\"CFCALL_ID\":48,\"CFUNC_ID\":3,\"EXEC_ORDER\":1},{\"FTYPE_ID\":66,\"CFCALL_ID\":49,\"CFUNC_ID\":3,\"EXEC_ORDER\":1},{\"FTYPE_ID\":67,\"CFCALL_ID\":50,\"CFUNC_ID\":3,\"EXEC_ORDER\":1},{\"FTYPE_ID\":68,\"CFCALL_ID\":51,\"CFUNC_ID\":3,\"EXEC_ORDER\":1},{\"FTYPE_ID\":69,\"CFCALL_ID\":52,\"CFUNC_ID\":3,\"EXEC_ORDER\":1},{\"FTYPE_ID\":70,\"CFCALL_ID\":53,\"CFUNC_ID\":3,\"EXEC_ORDER\":1},{\"FTYPE_ID\":71,\"CFCALL_ID\":54,\"CFUNC_ID\":3,\"EXEC_ORDER\":1},{\"FTYPE_ID\":72,\"CFCALL_ID\":55,\"CFUNC_ID\":3,\"EXEC_ORDER\":1},{\"FTYPE_ID\":74,\"CFCALL_ID\":57,\"CFUNC_ID\":1,\"EXEC_ORDER\":1},{\"FTYPE_ID\":75,\"CFCALL_ID\":58,\"CFUNC_ID\":5,\"EXEC_ORDER\":1},{\"FTYPE_ID\":76,\"CFCALL_ID\":59,\"CFUNC_ID\":1,\"EXEC_ORDER\":1},{\"FTYPE_ID\":77,\"CFCALL_ID\":60,\"CFUNC_ID\":3,\"EXEC_ORDER\":1},{\"FTYPE_ID\":78,\"CFCALL_ID\":61,\"CFUNC_ID\":3,\"EXEC_ORDER\":1},{\"FTYPE_ID\":79,\"CFCALL_ID\":62,\"CFUNC_ID\":3,\"EXEC_ORDER\":1},{\"FTYPE_ID\":80,\"CFCALL_ID\":63,\"CFUNC_ID\":3,\"EXEC_ORDER\":1},{\"FTYPE_ID\":86,\"CFCALL_ID\":64,\"CFUNC_ID\":1,\"EXEC_ORDER\":1},{\"FTYPE_ID\":87,\"CFCALL_ID\":65,\"CFUNC_ID\":3,\"EXEC_ORDER\":1}],\"CFG_GPLAN\":[{\"GPLAN_ID\":1,\"GPLAN_CODE\":\"INGEST\"},{\"GPLAN_ID\":2,\"GPLAN_CODE\":\"SEARCH\"},{\"GPLAN_ID\":3,\"GPLAN_CODE\":\"SEARCH-EXHAUSTIVE\"}],\"CFG_ERRULE\":[{\"ERRULE_ID\":100,\"ERRULE_CODE\":\"SAME_A1\",\"ERRULE_DESC\":\"SAME_A1\",\"QUAL_ERFRAG_CODE\":\"SAME_A1\",\"DISQ_ERFRAG_CODE\":\"\",\"RESOLVE\":\"Yes\",\"REF_SCORE\":10,\"RELATE\":\"No\",\"RTYPE_ID\":1,\"ERRULE_TIER\":10},{\"ERRULE_ID\":108,\"ERRULE_CODE\":\"SF1_SNAME_CFF_CSTAB\",\"ERRULE_DESC\":\"SAME_F1+SAME_NAME+CLOSE_FF+CLOSE_STAB+NODEXCL\",\"QUAL_ERFRAG_CODE\":\"SF1_SNAME_CFF_CSTAB\",\"DISQ_ERFRAG_CODE\":\"DIFF_EXCL\",\"RESOLVE\":\"Yes\",\"REF_SCORE\":10,\"RELATE\":\"No\",\"RTYPE_ID\":1,\"ERRULE_TIER\":18},{\"ERRULE_ID\":110,\"ERRULE_CODE\":\"SF1_PNAME_CFF_CSTAB\",\"ERRULE_DESC\":\"SAME_F1+PART_NAME+CLOSE_FF+CLOSE_STAB\",\"QUAL_ERFRAG_CODE\":\"SF1_PNAME_CFF_CSTAB\",\"DISQ_ERFRAG_CODE\":\"DIFF_EXCL\",\"RESOLVE\":\"Yes\",\"REF_SCORE\":10,\"RELATE\":\"No\",\"RTYPE_ID\":1,\"ERRULE_TIER\":20},{\"ERRULE_ID\":111,\"ERRULE_CODE\":\"SF1_SNAME_CFF_CSTAB_DEXCL\",\"ERRULE_DESC\":\"SAME_F1+SAME_NAME+CLOSE_FF+CLOSE_STAB+DIFF_EXCL\",\"QUAL_ERFRAG_CODE\":\"SF1_SNAME_CFF_CSTAB\",\"DISQ_ERFRAG_CODE\":\"DIFF_GEN_A1ES\",\"RESOLVE\":\"Yes\",\"REF_SCORE\":10,\"RELATE\":\"No\",\"RTYPE_ID\":1,\"ERRULE_TIER\":20},{\"ERRULE_ID\":112,\"ERRULE_CODE\":\"SF1_PNAME_CFF_OLD\",\"ERRULE_DESC\":\"SAME_F1+PART_NAME+CLOSE_FF+OLD\",\"QUAL_ERFRAG_CODE\":\"DISABLE\",\"DISQ_ERFRAG_CODE\":\"\",\"RESOLVE\":\"Yes\",\"REF_SCORE\":9,\"RELATE\":\"No\",\"RTYPE_ID\":1,\"ERRULE_TIER\":20},{\"ERRULE_ID\":120,\"ERRULE_CODE\":\"SF1_PNAME_CSTAB\",\"ERRULE_DESC\":\"SAME_F1+PART_NAME+CLOSE_STAB\",\"QUAL_ERFRAG_CODE\":\"SF1_PNAME_CSTAB\",\"DISQ_ERFRAG_CODE\":\"DIFF_EXCL\",\"RESOLVE\":\"Yes\",\"REF_SCORE\":9,\"RELATE\":\"No\",\"RTYPE_ID\":1,\"ERRULE_TIER\":20},{\"ERRULE_ID\":122,\"ERRULE_CODE\":\"SF1_PNAME_CFF\",\"ERRULE_DESC\":\"SAME_F1+PART_NAME+CLOSE_FF\",\"QUAL_ERFRAG_CODE\":\"SF1_PNAME_CFF\",\"DISQ_ERFRAG_CODE\":\"DIFF_EXCL\",\"RESOLVE\":\"Yes\",\"REF_SCORE\":9,\"RELATE\":\"No\",\"RTYPE_ID\":1,\"ERRULE_TIER\":25},{\"ERRULE_ID\":130,\"ERRULE_CODE\":\"SF1_CNAME\",\"ERRULE_DESC\":\"SAME_F1+CLOSE_NAME\",\"QUAL_ERFRAG_CODE\":\"SF1_CNAME\",\"DISQ_ERFRAG_CODE\":\"DIFF_EXCL\",\"RESOLVE\":\"Yes\",\"REF_SCORE\":8,\"RELATE\":\"No\",\"RTYPE_ID\":1,\"ERRULE_TIER\":30},{\"ERRULE_ID\":131,\"ERRULE_CODE\":\"CF1_PNAME_CFF_CSTAB\",\"ERRULE_DESC\":\"CLOSE_F1+PART_NAME+CLOSE_FF+CLOSE_STAB\",\"QUAL_ERFRAG_CODE\":\"CF1_PNAME_CFF_CSTAB\",\"DISQ_ERFRAG_CODE\":\"DIFF_EXCL\",\"RESOLVE\":\"Yes\",\"REF_SCORE\":8,\"RELATE\":\"No\",\"RTYPE_ID\":1,\"ERRULE_TIER\":40},{\"ERRULE_ID\":132,\"ERRULE_CODE\":\"CF1_CNAME_CSTAB\",\"ERRULE_DESC\":\"CLOSE_F1+CLOSE_NAME+CLOSE_STAB\",\"QUAL_ERFRAG_CODE\":\"CF1_CNAME_CSTAB\",\"DISQ_ERFRAG_CODE\":\"DIFF_EXCL\",\"RESOLVE\":\"Yes\",\"REF_SCORE\":8,\"RELATE\":\"No\",\"RTYPE_ID\":1,\"ERRULE_TIER\":40},{\"ERRULE_ID\":133,\"ERRULE_CODE\":\"CF1_PNAME_MSTAB\",\"ERRULE_DESC\":\"CLOSE_F1+PART_NAME+MULT_STAB\",\"QUAL_ERFRAG_CODE\":\"CF1_PNAME_MSTAB\",\"DISQ_ERFRAG_CODE\":\"DIFF_EXCL\",\"RESOLVE\":\"Yes\",\"REF_SCORE\":8,\"RELATE\":\"No\",\"RTYPE_ID\":1,\"ERRULE_TIER\":40},{\"ERRULE_ID\":140,\"ERRULE_CODE\":\"MSTAB_LNAME_SF1\",\"ERRULE_DESC\":\"MULT_STAB+LIKELY_NAME+SAME_F1\",\"QUAL_ERFRAG_CODE\":\"MSTAB_LNAME_SF1\",\"DISQ_ERFRAG_CODE\":\"DIFF_GEN_A1ES\",\"RESOLVE\":\"Yes\",\"REF_SCORE\":9,\"RELATE\":\"No\",\"RTYPE_ID\":1,\"ERRULE_TIER\":50},{\"ERRULE_ID\":141,\"ERRULE_CODE\":\"MSTAB_CNAME\",\"ERRULE_DESC\":\"MULT_STAB+CLOSE_NAME\",\"QUAL_ERFRAG_CODE\":\"MSTAB_CNAME\",\"DISQ_ERFRAG_CODE\":\"DIFF_EXCL\",\"RESOLVE\":\"Yes\",\"REF_SCORE\":8,\"RELATE\":\"No\",\"RTYPE_ID\":1,\"ERRULE_TIER\":50},{\"ERRULE_ID\":150,\"ERRULE_CODE\":\"MFF_LNAME_SF1\",\"ERRULE_DESC\":\"MULT_FF+LIKELY_NAME+SAME_F1\",\"QUAL_ERFRAG_CODE\":\"MFF_LNAME_SF1\",\"DISQ_ERFRAG_CODE\":\"DIFF_EXCL\",\"RESOLVE\":\"Yes\",\"REF_SCORE\":9,\"RELATE\":\"No\",\"RTYPE_ID\":1,\"ERRULE_TIER\":50},{\"ERRULE_ID\":151,\"ERRULE_CODE\":\"MFF_LNAME_CEXCL\",\"ERRULE_DESC\":\"MULT_FF+LIKELY_NAME+CLOSE_EXCL\",\"QUAL_ERFRAG_CODE\":\"MFF_LNAME_CEXCL\",\"DISQ_ERFRAG_CODE\":\"DIFF_EXCL\",\"RESOLVE\":\"Yes\",\"REF_SCORE\":9,\"RELATE\":\"No\",\"RTYPE_ID\":1,\"ERRULE_TIER\":50},{\"ERRULE_ID\":152,\"ERRULE_CODE\":\"MFF_CNAME\",\"ERRULE_DESC\":\"MULT_FF+CLOSE_NAME\",\"QUAL_ERFRAG_CODE\":\"MFF_CNAME\",\"DISQ_ERFRAG_CODE\":\"DIFF_EXCL\",\"RESOLVE\":\"Yes\",\"REF_SCORE\":8,\"RELATE\":\"No\",\"RTYPE_ID\":1,\"ERRULE_TIER\":50},{\"ERRULE_ID\":160,\"ERRULE_CODE\":\"CNAME_CFF_CEXCL\",\"ERRULE_DESC\":\"CLOSE_NAME+CLOSE_FF+CLOSE_EXCL\",\"QUAL_ERFRAG_CODE\":\"CNAME_CFF_CEXCL\",\"DISQ_ERFRAG_CODE\":\"DIFF_EXCL\",\"RESOLVE\":\"Yes\",\"REF_SCORE\":8,\"RELATE\":\"No\",\"RTYPE_ID\":1,\"ERRULE_TIER\":60},{\"ERRULE_ID\":162,\"ERRULE_CODE\":\"CNAME_CFF\",\"ERRULE_DESC\":\"CLOSE_NAME+CLOSE_FF\",\"QUAL_ERFRAG_CODE\":\"CNAME_CFF\",\"DISQ_ERFRAG_CODE\":\"DIFF_EXCL\",\"RESOLVE\":\"Yes\",\"REF_SCORE\":6,\"RELATE\":\"No\",\"RTYPE_ID\":1,\"ERRULE_TIER\":60},{\"ERRULE_ID\":163,\"ERRULE_CODE\":\"SF1E_SFF_MSTAB\",\"ERRULE_DESC\":\"SAME_F1E+SAME_FF+MULT_STAB\",\"QUAL_ERFRAG_CODE\":\"SF1E_SFF_MSTAB\",\"DISQ_ERFRAG_CODE\":\"DIFF_EXCL\",\"RESOLVE\":\"Yes\",\"REF_SCORE\":6,\"RELATE\":\"No\",\"RTYPE_ID\":1,\"ERRULE_TIER\":60},{\"ERRULE_ID\":164,\"ERRULE_CODE\":\"CNAME_CFF_DEXCL\",\"ERRULE_DESC\":\"CLOSE_NAME+CLOSE_FF+DIFF_EXCL\",\"QUAL_ERFRAG_CODE\":\"CNAME_CFF_DEXCL\",\"DISQ_ERFRAG_CODE\":\"\",\"RESOLVE\":\"No\",\"REF_SCORE\":5,\"RELATE\":\"Yes\",\"RTYPE_ID\":2,\"ERRULE_TIER\":0},{\"ERRULE_ID\":165,\"ERRULE_CODE\":\"CNAME_LFFE\",\"ERRULE_DESC\":\"CLOSE_NAME+LIKELY_FFE\",\"QUAL_ERFRAG_CODE\":\"CNAME_LFFE\",\"DISQ_ERFRAG_CODE\":\"\",\"RESOLVE\":\"No\",\"REF_SCORE\":6,\"RELATE\":\"Yes\",\"RTYPE_ID\":2,\"ERRULE_TIER\":0},{\"ERRULE_ID\":170,\"ERRULE_CODE\":\"SF1_NCONF\",\"ERRULE_DESC\":\"SAME_F1+NO_CONF\",\"QUAL_ERFRAG_CODE\":\"SAME_F1\",\"DISQ_ERFRAG_CODE\":\"NAME_CONFL\",\"RESOLVE\":\"Yes\",\"REF_SCORE\":6,\"RELATE\":\"No\",\"RTYPE_ID\":1,\"ERRULE_TIER\":60},{\"ERRULE_ID\":172,\"ERRULE_CODE\":\"CNAME_SF1E\",\"ERRULE_DESC\":\"CLOSE_NAME+SAME_F1E\",\"QUAL_ERFRAG_CODE\":\"SF1E_CNAME\",\"DISQ_ERFRAG_CODE\":\"\",\"RESOLVE\":\"No\",\"REF_SCORE\":6,\"RELATE\":\"Yes\",\"RTYPE_ID\":2,\"ERRULE_TIER\":0},{\"ERRULE_ID\":174,\"ERRULE_CODE\":\"CNAME_SF1\",\"ERRULE_DESC\":\"CLOSE_NAME+SAME_F1\",\"QUAL_ERFRAG_CODE\":\"SF1_CNAME\",\"DISQ_ERFRAG_CODE\":\"\",\"RESOLVE\":\"No\",\"REF_SCORE\":6,\"RELATE\":\"Yes\",\"RTYPE_ID\":2,\"ERRULE_TIER\":0},{\"ERRULE_ID\":175,\"ERRULE_CODE\":\"SF1E\",\"ERRULE_DESC\":\"SAME_F1E\",\"QUAL_ERFRAG_CODE\":\"SAME_F1E\",\"DISQ_ERFRAG_CODE\":\"\",\"RESOLVE\":\"No\",\"REF_SCORE\":6,\"RELATE\":\"Yes\",\"RTYPE_ID\":2,\"ERRULE_TIER\":0},{\"ERRULE_ID\":176,\"ERRULE_CODE\":\"SF1_OLD\",\"ERRULE_DESC\":\"SAME_F1_OLD\",\"QUAL_ERFRAG_CODE\":\"DISABLE\",\"DISQ_ERFRAG_CODE\":\"\",\"RESOLVE\":\"No\",\"REF_SCORE\":6,\"RELATE\":\"No\",\"RTYPE_ID\":2,\"ERRULE_TIER\":0},{\"ERRULE_ID\":180,\"ERRULE_CODE\":\"SNAME_SSTAB\",\"ERRULE_DESC\":\"SAME_NAME+SAME_STAB\",\"QUAL_ERFRAG_CODE\":\"SNAME_SSTAB\",\"DISQ_ERFRAG_CODE\":\"DIFF_EXCL\",\"RESOLVE\":\"Yes\",\"REF_SCORE\":6,\"RELATE\":\"No\",\"RTYPE_ID\":1,\"ERRULE_TIER\":60},{\"ERRULE_ID\":183,\"ERRULE_CODE\":\"LNAME_CFF_LSTAB\",\"ERRULE_DESC\":\"LIKELY_NAME+CLOSE_FF+LIKELY_STAB\",\"QUAL_ERFRAG_CODE\":\"LNAME_CFF_LSTAB\",\"DISQ_ERFRAG_CODE\":\"\",\"RESOLVE\":\"No\",\"REF_SCORE\":6,\"RELATE\":\"Yes\",\"RTYPE_ID\":2,\"ERRULE_TIER\":0},{\"ERRULE_ID\":185,\"ERRULE_CODE\":\"CNAME_CSTAB\",\"ERRULE_DESC\":\"CLOSE_NAME+CLOSE_STAB\",\"QUAL_ERFRAG_CODE\":\"CNAME_CSTAB\",\"DISQ_ERFRAG_CODE\":\"\",\"RESOLVE\":\"No\",\"REF_SCORE\":6,\"RELATE\":\"Yes\",\"RTYPE_ID\":2,\"ERRULE_TIER\":0},{\"ERRULE_ID\":190,\"ERRULE_CODE\":\"CNAME_CF1\",\"ERRULE_DESC\":\"CLOSE_NAME+CLOSE_F1\",\"QUAL_ERFRAG_CODE\":\"CF1_CNAME\",\"DISQ_ERFRAG_CODE\":\"\",\"RESOLVE\":\"No\",\"REF_SCORE\":4,\"RELATE\":\"Yes\",\"RTYPE_ID\":2,\"ERRULE_TIER\":0},{\"ERRULE_ID\":195,\"ERRULE_CODE\":\"SF1\",\"ERRULE_DESC\":\"SAME_F1\",\"QUAL_ERFRAG_CODE\":\"SAME_F1\",\"DISQ_ERFRAG_CODE\":\"\",\"RESOLVE\":\"No\",\"REF_SCORE\":6,\"RELATE\":\"Yes\",\"RTYPE_ID\":3,\"ERRULE_TIER\":0},{\"ERRULE_ID\":197,\"ERRULE_CODE\":\"CF1\",\"ERRULE_DESC\":\"CLOSE_F1\",\"QUAL_ERFRAG_CODE\":\"CLOSE_F1\",\"DISQ_ERFRAG_CODE\":\"\",\"RESOLVE\":\"No\",\"REF_SCORE\":4,\"RELATE\":\"Yes\",\"RTYPE_ID\":3,\"ERRULE_TIER\":0},{\"ERRULE_ID\":199,\"ERRULE_CODE\":\"CFF_SURNAME\",\"ERRULE_DESC\":\"CLOSE_FF+SURNAME\",\"QUAL_ERFRAG_CODE\":\"CFF_SURNAME\",\"DISQ_ERFRAG_CODE\":\"\",\"RESOLVE\":\"No\",\"REF_SCORE\":4,\"RELATE\":\"Yes\",\"RTYPE_ID\":3,\"ERRULE_TIER\":0},{\"ERRULE_ID\":200,\"ERRULE_CODE\":\"MFF\",\"ERRULE_DESC\":\"MULT_FF\",\"QUAL_ERFRAG_CODE\":\"MULT_FF\",\"DISQ_ERFRAG_CODE\":\"\",\"RESOLVE\":\"No\",\"REF_SCORE\":4,\"RELATE\":\"Yes\",\"RTYPE_ID\":3,\"ERRULE_TIER\":0},{\"ERRULE_ID\":202,\"ERRULE_CODE\":\"SFF\",\"ERRULE_DESC\":\"SAME_FF\",\"QUAL_ERFRAG_CODE\":\"SAME_FF\",\"DISQ_ERFRAG_CODE\":\"\",\"RESOLVE\":\"No\",\"REF_SCORE\":3,\"RELATE\":\"Yes\",\"RTYPE_ID\":3,\"ERRULE_TIER\":0},{\"ERRULE_ID\":204,\"ERRULE_CODE\":\"CFF\",\"ERRULE_DESC\":\"CLOSE_FF\",\"QUAL_ERFRAG_CODE\":\"CLOSE_FF\",\"DISQ_ERFRAG_CODE\":\"\",\"RESOLVE\":\"No\",\"REF_SCORE\":2,\"RELATE\":\"No\",\"RTYPE_ID\":3,\"ERRULE_TIER\":0},{\"ERRULE_ID\":206,\"ERRULE_CODE\":\"CNAME\",\"ERRULE_DESC\":\"CLOSE_NAME\",\"QUAL_ERFRAG_CODE\":\"CLOSE_NAME\",\"DISQ_ERFRAG_CODE\":\"DIFF_EXCL\",\"RESOLVE\":\"No\",\"REF_SCORE\":1,\"RELATE\":\"No\",\"RTYPE_ID\":4,\"ERRULE_TIER\":0}],\"CFG_ERFRAG\":[{\"ERFRAG_ID\":10,\"ERFRAG_CODE\":\"TRUSTED_ID\",\"ERFRAG_DESC\":\"TRUSTED_ID\",\"ERFRAG_SOURCE\":\"./SCORES/TRUSTED_ID[./FULL_SCORE=100]\",\"ERFRAG_DEPENDS\":\"\"},{\"ERFRAG_ID\":11,\"ERFRAG_CODE\":\"SAME_NAME\",\"ERFRAG_DESC\":\"SAME_NAME\",\"ERFRAG_SOURCE\":\"./FRAGMENT[./GNR_SAME_NAME>0 or ./BT_SAME_NAME>0]\",\"ERFRAG_DEPENDS\":\"301,311\"},{\"ERFRAG_ID\":12,\"ERFRAG_CODE\":\"CLOSE_NAME\",\"ERFRAG_DESC\":\"CLOSE_NAME\",\"ERFRAG_SOURCE\":\"./FRAGMENT[./GNR_CLOSE_NAME>0 or ./BT_CLOSE_NAME>0]\",\"ERFRAG_DEPENDS\":\"302,312\"},{\"ERFRAG_ID\":13,\"ERFRAG_CODE\":\"LIKELY_NAME\",\"ERFRAG_DESC\":\"LIKELY_NAME\",\"ERFRAG_SOURCE\":\"./FRAGMENT[./GNR_LIKELY_NAME>0 or ./BT_LIKELY_NAME>0]\",\"ERFRAG_DEPENDS\":\"303,313\"},{\"ERFRAG_ID\":14,\"ERFRAG_CODE\":\"PART_NAME\",\"ERFRAG_DESC\":\"PART_NAME\",\"ERFRAG_SOURCE\":\"./FRAGMENT[./GNR_PART_NAME>0 or ./BT_PART_NAME>0]\",\"ERFRAG_DEPENDS\":\"304,314\"},{\"ERFRAG_ID\":15,\"ERFRAG_CODE\":\"SUR_NAME\",\"ERFRAG_DESC\":\"SUR_NAME\",\"ERFRAG_SOURCE\":\"./FRAGMENT[./GNR_SUR_NAME>0 or ./BT_SUR_NAME>0]\",\"ERFRAG_DEPENDS\":\"305,315\"},{\"ERFRAG_ID\":16,\"ERFRAG_CODE\":\"DIFF_NAME\",\"ERFRAG_DESC\":\"DIFF_NAME\",\"ERFRAG_SOURCE\":\"./SUMMARY/BEHAVIOR/NAME[sum(./UNLIKELY | ./NO_CHANCE) > 0]\",\"ERFRAG_DEPENDS\":\"\"},{\"ERFRAG_ID\":17,\"ERFRAG_CODE\":\"NO_NAME\",\"ERFRAG_DESC\":\"NO_NAME\",\"ERFRAG_SOURCE\":\"./SUMMARY/BEHAVIOR/NAME[sum(./SAME | ./CLOSE | ./LIKELY | ./PLAUSIBLE | ./UNLIKELY | ./NO_CHANCE) = 0]\",\"ERFRAG_DEPENDS\":\"\"},{\"ERFRAG_ID\":18,\"ERFRAG_CODE\":\"ORG_NAME\",\"ERFRAG_DESC\":\"ORG_NAME\",\"ERFRAG_SOURCE\":\"./FRAGMENT[./GNR_ORG_NAME>0 or ./BT_ORG_NAME>0]\",\"ERFRAG_DEPENDS\":\"306,316\"},{\"ERFRAG_ID\":19,\"ERFRAG_CODE\":\"PART_NO_NAME\",\"ERFRAG_DESC\":\"PART_NO_NAME\",\"ERFRAG_SOURCE\":\"./FRAGMENT[./PART_NAME>0 or ./NO_NAME>0]\",\"ERFRAG_DEPENDS\":\"14,17\"},{\"ERFRAG_ID\":20,\"ERFRAG_CODE\":\"MULT_F1\",\"ERFRAG_DESC\":\"MULT_F1\",\"ERFRAG_SOURCE\":\"./SUMMARY/BEHAVIOR/F1[./SAME > 1]\",\"ERFRAG_DEPENDS\":\"\"},{\"ERFRAG_ID\":21,\"ERFRAG_CODE\":\"SAME_F1\",\"ERFRAG_DESC\":\"SAME_F1\",\"ERFRAG_SOURCE\":\"./SUMMARY/BEHAVIOR/F1[./SAME > 0]\",\"ERFRAG_DEPENDS\":\"\"},{\"ERFRAG_ID\":22,\"ERFRAG_CODE\":\"CLOSE_F1\",\"ERFRAG_DESC\":\"CLOSE_F1\",\"ERFRAG_SOURCE\":\"./SUMMARY/BEHAVIOR/F1[sum(./SAME | ./CLOSE) > 0]\",\"ERFRAG_DEPENDS\":\"\"},{\"ERFRAG_ID\":23,\"ERFRAG_CODE\":\"CLOSE_F1E\",\"ERFRAG_DESC\":\"CLOSE_F1E\",\"ERFRAG_SOURCE\":\"./SUMMARY/BEHAVIOR/F1E[sum(./SAME | ./CLOSE) > 0]\",\"ERFRAG_DEPENDS\":\"\"},{\"ERFRAG_ID\":24,\"ERFRAG_CODE\":\"CLOSE_F1ES\",\"ERFRAG_DESC\":\"CLOSE_F1ES\",\"ERFRAG_SOURCE\":\"./SUMMARY/BEHAVIOR/F1ES[sum(./SAME | ./CLOSE) > 0]\",\"ERFRAG_DEPENDS\":\"\"},{\"ERFRAG_ID\":25,\"ERFRAG_CODE\":\"DIFF_F1\",\"ERFRAG_DESC\":\"DIFF_F1\",\"ERFRAG_SOURCE\":\"./SUMMARY/BEHAVIOR/F1[sum(./LIKELY | ./PLAUSIBLE | ./UNLIKELY | ./NO_CHANCE) > 0]\",\"ERFRAG_DEPENDS\":\"\"},{\"ERFRAG_ID\":26,\"ERFRAG_CODE\":\"NO_F1\",\"ERFRAG_DESC\":\"NO_F1\",\"ERFRAG_SOURCE\":\"./SUMMARY/BEHAVIOR/F1[sum(./SAME | ./CLOSE | ./LIKELY | ./PLAUSIBLE | ./UNLIKELY | ./NO_CHANCE) = 0]\",\"ERFRAG_DEPENDS\":\"\"},{\"ERFRAG_ID\":27,\"ERFRAG_CODE\":\"SAME_F1E\",\"ERFRAG_DESC\":\"SAME_F1E\",\"ERFRAG_SOURCE\":\"./SUMMARY/BEHAVIOR/F1E[sum(./SAME) > 0]\",\"ERFRAG_DEPENDS\":\"\"},{\"ERFRAG_ID\":30,\"ERFRAG_CODE\":\"MULT_FF\",\"ERFRAG_DESC\":\"MULT_FF\",\"ERFRAG_SOURCE\":\"./SUMMARY/BEHAVIOR/FF[sum(./SAME | ./CLOSE) > 1]\",\"ERFRAG_DEPENDS\":\"\"},{\"ERFRAG_ID\":31,\"ERFRAG_CODE\":\"SAME_FF\",\"ERFRAG_DESC\":\"SAME_FF\",\"ERFRAG_SOURCE\":\"./SUMMARY/BEHAVIOR/FF[./SAME > 0]\",\"ERFRAG_DEPENDS\":\"\"},{\"ERFRAG_ID\":32,\"ERFRAG_CODE\":\"CLOSE_FF\",\"ERFRAG_DESC\":\"CLOSE_FF\",\"ERFRAG_SOURCE\":\"./SUMMARY/BEHAVIOR/FF[sum(./SAME | ./CLOSE) > 0] | ./SUMMARY/BEHAVIOR/FFE[sum(./SAME | ./CLOSE) > 0]\",\"ERFRAG_DEPENDS\":\"\"},{\"ERFRAG_ID\":33,\"ERFRAG_CODE\":\"SAME_FFE\",\"ERFRAG_DESC\":\"SAME_FFE\",\"ERFRAG_SOURCE\":\"./SUMMARY/BEHAVIOR/FFE[./SAME > 0]\",\"ERFRAG_DEPENDS\":\"\"},{\"ERFRAG_ID\":34,\"ERFRAG_CODE\":\"CLOSE_FFES\",\"ERFRAG_DESC\":\"CLOSE_FFES\",\"ERFRAG_SOURCE\":\"./SUMMARY/BEHAVIOR/FFES[sum(./SAME | ./CLOSE) > 0]\",\"ERFRAG_DEPENDS\":\"\"},{\"ERFRAG_ID\":35,\"ERFRAG_CODE\":\"DIFF_FF\",\"ERFRAG_DESC\":\"DIFF_FF\",\"ERFRAG_SOURCE\":\"./SUMMARY/BEHAVIOR/FF[sum(./LIKELY | ./PLAUSIBLE | ./UNLIKELY | ./NO_CHANCE) > 0]\",\"ERFRAG_DEPENDS\":\"\"},{\"ERFRAG_ID\":36,\"ERFRAG_CODE\":\"NO_FF\",\"ERFRAG_DESC\":\"NO_FF\",\"ERFRAG_SOURCE\":\"./SUMMARY/BEHAVIOR/FF[sum(./SAME | ./CLOSE | ./LIKELY | ./PLAUSIBLE | ./UNLIKELY | ./NO_CHANCE) = 0]\",\"ERFRAG_DEPENDS\":\"\"},{\"ERFRAG_ID\":37,\"ERFRAG_CODE\":\"CLOSE_FFE\",\"ERFRAG_DESC\":\"CLOSE_FFE\",\"ERFRAG_SOURCE\":\"./SUMMARY/BEHAVIOR/FFE[sum(./SAME | ./CLOSE) > 0]\",\"ERFRAG_DEPENDS\":\"\"},{\"ERFRAG_ID\":38,\"ERFRAG_CODE\":\"DIFF_FFE\",\"ERFRAG_DESC\":\"DIFF_FFE\",\"ERFRAG_SOURCE\":\"./SUMMARY/BEHAVIOR/FFE[sum(./UNLIKELY | ./NO_CHANCE) > 0]\",\"ERFRAG_DEPENDS\":\"\"},{\"ERFRAG_ID\":39,\"ERFRAG_CODE\":\"LIKELY_FFE\",\"ERFRAG_DESC\":\"LIKELY_FFE\",\"ERFRAG_SOURCE\":\"./SUMMARY/BEHAVIOR/FFE[sum(./SAME | ./CLOSE | ./LIKELY) > 0]\",\"ERFRAG_DEPENDS\":\"\"},{\"ERFRAG_ID\":40,\"ERFRAG_CODE\":\"SAME_FME\",\"ERFRAG_DESC\":\"SAME_FME\",\"ERFRAG_SOURCE\":\"./SUMMARY/BEHAVIOR/FME[./SAME > 0]\",\"ERFRAG_DEPENDS\":\"\"},{\"ERFRAG_ID\":41,\"ERFRAG_CODE\":\"SAME_FMES\",\"ERFRAG_DESC\":\"SAME_FMES\",\"ERFRAG_SOURCE\":\"./SUMMARY/BEHAVIOR/FMES[./SAME > 0]\",\"ERFRAG_DEPENDS\":\"\"},{\"ERFRAG_ID\":42,\"ERFRAG_CODE\":\"CLOSE_FMES\",\"ERFRAG_DESC\":\"CLOSE_FMES\",\"ERFRAG_SOURCE\":\"./SUMMARY/BEHAVIOR/FMES[sum(./SAME | ./CLOSE) > 0]\",\"ERFRAG_DEPENDS\":\"\"},{\"ERFRAG_ID\":43,\"ERFRAG_CODE\":\"CLOSE_FME\",\"ERFRAG_DESC\":\"CLOSE_FME\",\"ERFRAG_SOURCE\":\"./SUMMARY/BEHAVIOR/FME[sum(./SAME | ./CLOSE) > 0]\",\"ERFRAG_DEPENDS\":\"\"},{\"ERFRAG_ID\":45,\"ERFRAG_CODE\":\"DIFF_FMES\",\"ERFRAG_DESC\":\"DIFF_FMES\",\"ERFRAG_SOURCE\":\"./SUMMARY/BEHAVIOR/FMES[sum(./LIKELY | ./PLAUSIBLE | ./UNLIKELY | ./NO_CHANCE) > 0]\",\"ERFRAG_DEPENDS\":\"\"},{\"ERFRAG_ID\":46,\"ERFRAG_CODE\":\"NO_FMES\",\"ERFRAG_DESC\":\"NO_FMES\",\"ERFRAG_SOURCE\":\"./SUMMARY/BEHAVIOR/FMES[sum(./SAME | ./CLOSE | ./LIKELY | ./PLAUSIBLE | ./UNLIKELY | ./NO_CHANCE) = 0]\",\"ERFRAG_DEPENDS\":\"\"},{\"ERFRAG_ID\":47,\"ERFRAG_CODE\":\"SAME_FVMES\",\"ERFRAG_DESC\":\"SAME_FVMES\",\"ERFRAG_SOURCE\":\"./SUMMARY/BEHAVIOR/FVMES[./SAME > 0]\",\"ERFRAG_DEPENDS\":\"\"},{\"ERFRAG_ID\":48,\"ERFRAG_CODE\":\"CLOSE_FVMES\",\"ERFRAG_DESC\":\"CLOSE_FVMES\",\"ERFRAG_SOURCE\":\"./SUMMARY/BEHAVIOR/FVMES[sum(./SAME | ./CLOSE) > 0]\",\"ERFRAG_DEPENDS\":\"\"},{\"ERFRAG_ID\":49,\"ERFRAG_CODE\":\"DIFF_FVMES\",\"ERFRAG_DESC\":\"DIFF_FVMES\",\"ERFRAG_SOURCE\":\"./SUMMARY/BEHAVIOR/FVMES[sum(./LIKELY | ./PLAUSIBLE | ./UNLIKELY | ./NO_CHANCE) > 0]\",\"ERFRAG_DEPENDS\":\"\"},{\"ERFRAG_ID\":50,\"ERFRAG_CODE\":\"NO_FVMES\",\"ERFRAG_DESC\":\"NO_FVMES\",\"ERFRAG_SOURCE\":\"./SUMMARY/BEHAVIOR/FVMES[sum(./SAME | ./CLOSE | ./LIKELY | ./PLAUSIBLE | ./UNLIKELY | ./NO_CHANCE) = 0]\",\"ERFRAG_DEPENDS\":\"\"},{\"ERFRAG_ID\":51,\"ERFRAG_CODE\":\"SAME_EXCL\",\"ERFRAG_DESC\":\"SAME_EXCL\",\"ERFRAG_SOURCE\":\"./FRAGMENT[sum(./SAME_FFE | ./SAME_F1E | ./SAME_A1E | ./SAME_FME) > 0]\",\"ERFRAG_DEPENDS\":\"27,33,40,205\"},{\"ERFRAG_ID\":52,\"ERFRAG_CODE\":\"CLOSE_EXCL\",\"ERFRAG_DESC\":\"CLOSE_EXCL\",\"ERFRAG_SOURCE\":\"./FRAGMENT[sum(./CLOSE_FFE | ./CLOSE_F1E | ./CLOSE_A1E | ./CLOSE_FME) > 0]\",\"ERFRAG_DEPENDS\":\"23,37,43,202\"},{\"ERFRAG_ID\":55,\"ERFRAG_CODE\":\"DIFF_EXCL\",\"ERFRAG_DESC\":\"DIFF_EXCL\",\"ERFRAG_SOURCE\":\"./SUMMARY/BEHAVIOR/EXCLUSIVE[sum(./UNLIKELY | ./NO_CHANCE) > 0] | ./FRAGMENT[./NAME_GEN_MISMATCH>0]\",\"ERFRAG_DEPENDS\":\"75\"},{\"ERFRAG_ID\":56,\"ERFRAG_CODE\":\"NO_EXCL\",\"ERFRAG_DESC\":\"NO_EXCL\",\"ERFRAG_SOURCE\":\"./SUMMARY/BEHAVIOR/EXCLUSIVE[sum(./SAME | ./CLOSE | ./LIKELY | ./PLAUSIBLE | ./UNLIKELY | ./NO_CHANCE) = 0]\",\"ERFRAG_DEPENDS\":\"\"},{\"ERFRAG_ID\":60,\"ERFRAG_CODE\":\"MULT_STAB\",\"ERFRAG_DESC\":\"MULT_STAB\",\"ERFRAG_SOURCE\":\"./SUMMARY/BEHAVIOR/STABLE[sum(./SAME | ./CLOSE) > 1]\",\"ERFRAG_DEPENDS\":\"\"},{\"ERFRAG_ID\":61,\"ERFRAG_CODE\":\"SAME_STAB\",\"ERFRAG_DESC\":\"SAME_STAB\",\"ERFRAG_SOURCE\":\"./SUMMARY/BEHAVIOR/STABLE[./SAME > 0]\",\"ERFRAG_DEPENDS\":\"\"},{\"ERFRAG_ID\":62,\"ERFRAG_CODE\":\"CLOSE_STAB\",\"ERFRAG_DESC\":\"CLOSE_STAB\",\"ERFRAG_SOURCE\":\"./SUMMARY/BEHAVIOR/STABLE[sum(./SAME | ./CLOSE) > 0]\",\"ERFRAG_DEPENDS\":\"\"},{\"ERFRAG_ID\":63,\"ERFRAG_CODE\":\"DIFF_GEN\",\"ERFRAG_DESC\":\"DIFF_GEN\",\"ERFRAG_SOURCE\":\"./SCORES/NAME[./GENERATION_MATCH = 0]\",\"ERFRAG_DEPENDS\":\"\"},{\"ERFRAG_ID\":64,\"ERFRAG_CODE\":\"SAME_GEN\",\"ERFRAG_DESC\":\"SAME_GEN\",\"ERFRAG_SOURCE\":\"./SCORES/NAME[./GENERATION_MATCH >= 90]\",\"ERFRAG_DEPENDS\":\"\"},{\"ERFRAG_ID\":65,\"ERFRAG_CODE\":\"DIFF_STAB\",\"ERFRAG_DESC\":\"DIFF_STAB\",\"ERFRAG_SOURCE\":\"./SUMMARY/BEHAVIOR/STABLE[sum(./PLAUSIBLE | ./UNLIKELY | ./NO_CHANCE) > 0] | ./FRAGMENT[./NAME_GEN_MISMATCH>0]\",\"ERFRAG_DEPENDS\":\"75\"},{\"ERFRAG_ID\":66,\"ERFRAG_CODE\":\"NO_STAB\",\"ERFRAG_DESC\":\"NO_STAB\",\"ERFRAG_SOURCE\":\"./SUMMARY/BEHAVIOR/STABLE[sum(./SAME | ./CLOSE | ./LIKELY | ./PLAUSIBLE | ./UNLIKELY | ./NO_CHANCE) = 0]\",\"ERFRAG_DEPENDS\":\"\"},{\"ERFRAG_ID\":67,\"ERFRAG_CODE\":\"LIKELY_STAB\",\"ERFRAG_DESC\":\"LIKELY_STAB\",\"ERFRAG_SOURCE\":\"./SUMMARY/BEHAVIOR/STABLE[sum(./SAME | ./CLOSE | ./LIKELY) > 0]\",\"ERFRAG_DEPENDS\":\"\"},{\"ERFRAG_ID\":71,\"ERFRAG_CODE\":\"NO_NAME_CONF\",\"ERFRAG_DESC\":\"NO_NAME_CONF\",\"ERFRAG_SOURCE\":\"./FRAGMENT[./NO_NAME=1 and sum(./DIFF_EXCL)=0]\",\"ERFRAG_DEPENDS\":\"17,55\"},{\"ERFRAG_ID\":72,\"ERFRAG_CODE\":\"NAME_CONFL\",\"ERFRAG_DESC\":\"NAME_CONFL\",\"ERFRAG_SOURCE\":\"./FRAGMENT[./NO_NAME=0 or sum(./DIFF_EXCL)>0]\",\"ERFRAG_DEPENDS\":\"17,55\"},{\"ERFRAG_ID\":75,\"ERFRAG_CODE\":\"NAME_GEN_MISMATCH\",\"ERFRAG_DESC\":\"DIFF_NAME_GEN\",\"ERFRAG_SOURCE\":\"./FRAGMENT[./DIFF_GEN>0 and sum(./SAME_GEN)=0]\",\"ERFRAG_DEPENDS\":\"63,64\"},{\"ERFRAG_ID\":109,\"ERFRAG_CODE\":\"SF1_SNAME_CFF_CSTAB\",\"ERFRAG_DESC\":\"SAME_F1+SAME_NAME+CLOSE_FF+CLOSE_STAB\",\"ERFRAG_SOURCE\":\"./FRAGMENT[./SAME_F1>0 and ./SAME_NAME>0 and ./CLOSE_FF>0 and ./CLOSE_STAB>0]\",\"ERFRAG_DEPENDS\":\"21,11,32,62\"},{\"ERFRAG_ID\":110,\"ERFRAG_CODE\":\"SF1_PNAME_CFF_CSTAB\",\"ERFRAG_DESC\":\"SAME_F1+PART_NO_NAME+CLOSE_FF+CLOSE_STAB\",\"ERFRAG_SOURCE\":\"./FRAGMENT[./SAME_F1>0 and ./PART_NO_NAME>0 and ./CLOSE_FF>0 and ./CLOSE_STAB>0]\",\"ERFRAG_DEPENDS\":\"21,19,32,62\"},{\"ERFRAG_ID\":111,\"ERFRAG_CODE\":\"SF1_PNAME_CFF_DSTAB\",\"ERFRAG_DESC\":\"SAME_F1+PART_NO_NAME+CLOSE_FF+DIFF_STAB\",\"ERFRAG_SOURCE\":\"./FRAGMENT[./SAME_F1>0 and ./PART_NO_NAME>0 and ./CLOSE_FF>0 and ./DIFF_STAB>0]\",\"ERFRAG_DEPENDS\":\"21,19,32,65\"},{\"ERFRAG_ID\":112,\"ERFRAG_CODE\":\"SF1_PNAME_CFF\",\"ERFRAG_DESC\":\"SAME_F1+PART_NO_NAME+CLOSE_FF\",\"ERFRAG_SOURCE\":\"./FRAGMENT[./SAME_F1>0 and ./PART_NO_NAME>0 and ./CLOSE_FF>0]\",\"ERFRAG_DEPENDS\":\"21,19,32\"},{\"ERFRAG_ID\":113,\"ERFRAG_CODE\":\"CF1_PNAME_CFF_CSTAB\",\"ERFRAG_DESC\":\"CLOSE_F1+PART_NO_NAME+CLOSE_FF+CLOSE_STAB\",\"ERFRAG_SOURCE\":\"./FRAGMENT[./CLOSE_F1>0 and ./PART_NO_NAME>0 and ./CLOSE_FF>0 and ./CLOSE_STAB>0]\",\"ERFRAG_DEPENDS\":\"22,19,32,62\"},{\"ERFRAG_ID\":114,\"ERFRAG_CODE\":\"CF1_CNAME_CSTAB\",\"ERFRAG_DESC\":\"CLOSE_F1+CLOSE_NAME+CLOSE_STAB\",\"ERFRAG_SOURCE\":\"./FRAGMENT[./CLOSE_F1>0 and ./CLOSE_NAME>0 and ./CLOSE_STAB>0]\",\"ERFRAG_DEPENDS\":\"22,12,62\"},{\"ERFRAG_ID\":115,\"ERFRAG_CODE\":\"CF1_PNAME_MSTAB\",\"ERFRAG_DESC\":\"CLOSE_F1+PART_NO_NAME+MULT_STAB\",\"ERFRAG_SOURCE\":\"./FRAGMENT[./CLOSE_F1>0 and ./PART_NO_NAME>0 and ./MULT_STAB>0]\",\"ERFRAG_DEPENDS\":\"22,19,60\"},{\"ERFRAG_ID\":117,\"ERFRAG_CODE\":\"SF1_NCONF\",\"ERFRAG_DESC\":\"SAME_F1+NO_NAME_CONF\",\"ERFRAG_SOURCE\":\"./FRAGMENT[./SAME_F1>0 and ./NO_NAME_CONF>0]\",\"ERFRAG_DEPENDS\":\"21,71\"},{\"ERFRAG_ID\":120,\"ERFRAG_CODE\":\"SF1_PNAME_CSTAB\",\"ERFRAG_DESC\":\"SAME_F1+PART_NO_NAME+CLOSE_STAB\",\"ERFRAG_SOURCE\":\"./FRAGMENT[./SAME_F1>0 and ./PART_NO_NAME>0 and ./CLOSE_STAB>0]\",\"ERFRAG_DEPENDS\":\"21,19,62\"},{\"ERFRAG_ID\":133,\"ERFRAG_CODE\":\"SF1_CNAME\",\"ERFRAG_DESC\":\"SAME_F1+CLOSE_NAME\",\"ERFRAG_SOURCE\":\"./FRAGMENT[./SAME_F1>0 and ./CLOSE_NAME>0]\",\"ERFRAG_DEPENDS\":\"21,12\"},{\"ERFRAG_ID\":134,\"ERFRAG_CODE\":\"SF1E_CNAME\",\"ERFRAG_DESC\":\"SAME_F1E+CLOSE_NAME\",\"ERFRAG_SOURCE\":\"./FRAGMENT[./SAME_F1E>0 and ./CLOSE_NAME>0]\",\"ERFRAG_DEPENDS\":\"27,12\"},{\"ERFRAG_ID\":140,\"ERFRAG_CODE\":\"MSTAB_LNAME_SF1\",\"ERFRAG_DESC\":\"MULT_STAB+LIKELY_NAME+SAME_F1\",\"ERFRAG_SOURCE\":\"./FRAGMENT[./MULT_STAB>0 and ./LIKELY_NAME>0 and ./SAME_F1>0]\",\"ERFRAG_DEPENDS\":\"60,13,21\"},{\"ERFRAG_ID\":141,\"ERFRAG_CODE\":\"MSTAB_CNAME\",\"ERFRAG_DESC\":\"MULT_STAB+CLOSE_NAME\",\"ERFRAG_SOURCE\":\"./FRAGMENT[./MULT_STAB>0 and ./CLOSE_NAME>0]\",\"ERFRAG_DEPENDS\":\"60,12\"},{\"ERFRAG_ID\":150,\"ERFRAG_CODE\":\"MFF_LNAME_SF1\",\"ERFRAG_DESC\":\"MULT_FF+LIKELY_NAME+SAME_F1\",\"ERFRAG_SOURCE\":\"./FRAGMENT[./MULT_FF>0 and ./LIKELY_NAME>0 and ./SAME_F1>0]\",\"ERFRAG_DEPENDS\":\"30,13,21\"},{\"ERFRAG_ID\":151,\"ERFRAG_CODE\":\"MFF_LNAME_CEXCL\",\"ERFRAG_DESC\":\"MULT_FF+LIKELY_NAME+CLOSE_EXCL\",\"ERFRAG_SOURCE\":\"./FRAGMENT[./MULT_FF>0 and ./LIKELY_NAME>0 and ./CLOSE_EXCL>0]\",\"ERFRAG_DEPENDS\":\"30,13,52\"},{\"ERFRAG_ID\":152,\"ERFRAG_CODE\":\"MFF_CNAME\",\"ERFRAG_DESC\":\"MULT_FF+CLOSE_NAME\",\"ERFRAG_SOURCE\":\"./FRAGMENT[./MULT_FF>0 and ./CLOSE_NAME>0]\",\"ERFRAG_DEPENDS\":\"30,12\"},{\"ERFRAG_ID\":160,\"ERFRAG_CODE\":\"CNAME_CFF_CEXCL\",\"ERFRAG_DESC\":\"CLOSE_NAME+CLOSE_FF+CLOSE_EXCL\",\"ERFRAG_SOURCE\":\"./FRAGMENT[./CLOSE_NAME>0 and ./CLOSE_FF>0 and ./CLOSE_EXCL>0]\",\"ERFRAG_DEPENDS\":\"12,32,52\"},{\"ERFRAG_ID\":161,\"ERFRAG_CODE\":\"CNAME_CFF_DEXCL\",\"ERFRAG_DESC\":\"CLOSE_NAME+CLOSE_FF+DIFF_EXCL\",\"ERFRAG_SOURCE\":\"./FRAGMENT[./CLOSE_NAME>0 and ./CLOSE_FF>0 and ./DIFF_EXCL>0]\",\"ERFRAG_DEPENDS\":\"12,32,55\"},{\"ERFRAG_ID\":163,\"ERFRAG_CODE\":\"CNAME_CFF\",\"ERFRAG_DESC\":\"CLOSE_NAME+CLOSE_FF\",\"ERFRAG_SOURCE\":\"./FRAGMENT[./CLOSE_NAME>0 and ./CLOSE_FF>0]\",\"ERFRAG_DEPENDS\":\"12,32\"},{\"ERFRAG_ID\":164,\"ERFRAG_CODE\":\"CNAME_LFFE\",\"ERFRAG_DESC\":\"CLOSE_NAME+LIKELY_FFE\",\"ERFRAG_SOURCE\":\"./FRAGMENT[./CLOSE_NAME>0 and ./LIKELY_FFE>0]\",\"ERFRAG_DEPENDS\":\"12,39\"},{\"ERFRAG_ID\":170,\"ERFRAG_CODE\":\"CF1_CSTAB\",\"ERFRAG_DESC\":\"CLOSE_F1+CSTAB\",\"ERFRAG_SOURCE\":\"./FRAGMENT[./CLOSE_F1>0 and ./CLOSE_STAB>0]\",\"ERFRAG_DEPENDS\":\"22,62\"},{\"ERFRAG_ID\":171,\"ERFRAG_CODE\":\"CF1_CNAME\",\"ERFRAG_DESC\":\"CLOSE_F1+CLOSE_NAME\",\"ERFRAG_SOURCE\":\"./FRAGMENT[./CLOSE_F1>0 and ./CLOSE_NAME>0]\",\"ERFRAG_DEPENDS\":\"22,12\"},{\"ERFRAG_ID\":172,\"ERFRAG_CODE\":\"SF1_MFF\",\"ERFRAG_DESC\":\"SAME_F1+MULT_FF\",\"ERFRAG_SOURCE\":\"./FRAGMENT[./SAME_F1>0 and ./MULT_FF>0]\",\"ERFRAG_DEPENDS\":\"21,30\"},{\"ERFRAG_ID\":174,\"ERFRAG_CODE\":\"SF1_CFF\",\"ERFRAG_DESC\":\"SAME_F1+CLOSE_FF\",\"ERFRAG_SOURCE\":\"./FRAGMENT[./SAME_F1>0 and ./CLOSE_FF>0]\",\"ERFRAG_DEPENDS\":\"21,32\"},{\"ERFRAG_ID\":180,\"ERFRAG_CODE\":\"SNAME_SSTAB\",\"ERFRAG_DESC\":\"SAME_NAME+SAME_STAB\",\"ERFRAG_SOURCE\":\"./FRAGMENT[./SAME_NAME>0 and ./SAME_STAB>0]\",\"ERFRAG_DEPENDS\":\"11,61\"},{\"ERFRAG_ID\":181,\"ERFRAG_CODE\":\"CNAME_CSTAB\",\"ERFRAG_DESC\":\"CLOSE_NAME+CLOSE_STAB\",\"ERFRAG_SOURCE\":\"./FRAGMENT[./CLOSE_NAME>0 and ./CLOSE_STAB>0]\",\"ERFRAG_DEPENDS\":\"12,62\"},{\"ERFRAG_ID\":183,\"ERFRAG_CODE\":\"LNAME_CFF_LSTAB\",\"ERFRAG_DESC\":\"LIKELY_NAME+CLOSE_FF+LIKELY_STAB\",\"ERFRAG_SOURCE\":\"./FRAGMENT[./LIKELY_NAME>0 and ./CLOSE_FF>0 and ./LIKELY_STAB>0]\",\"ERFRAG_DEPENDS\":\"13,32,67\"},{\"ERFRAG_ID\":185,\"ERFRAG_CODE\":\"SF1E_SFF_MSTAB\",\"ERFRAG_DESC\":\"SAME_F1E+SAME_FF+MULT_STAB\",\"ERFRAG_SOURCE\":\"./FRAGMENT[./SAME_F1E>0 and ./SAME_FF>0 and ./MULT_STAB>0]\",\"ERFRAG_DEPENDS\":\"27,31,60\"},{\"ERFRAG_ID\":190,\"ERFRAG_CODE\":\"CFF_SURNAME\",\"ERFRAG_DESC\":\"CLOSE_FF+SURNAME\",\"ERFRAG_SOURCE\":\"./FRAGMENT[./CLOSE_FF>0 and ./SUR_NAME>0]\",\"ERFRAG_DEPENDS\":\"32,15\"},{\"ERFRAG_ID\":201,\"ERFRAG_CODE\":\"SAME_A1\",\"ERFRAG_DESC\":\"SAME_A1\",\"ERFRAG_SOURCE\":\"./SUMMARY/BEHAVIOR/A1[./SAME > 0]\",\"ERFRAG_DEPENDS\":\"\"},{\"ERFRAG_ID\":202,\"ERFRAG_CODE\":\"CLOSE_A1E\",\"ERFRAG_DESC\":\"CLOSE_A1E\",\"ERFRAG_SOURCE\":\"./SUMMARY/BEHAVIOR/A1E[sum(./SAME | ./CLOSE) > 0]\",\"ERFRAG_DEPENDS\":\"\"},{\"ERFRAG_ID\":203,\"ERFRAG_CODE\":\"DIFF_A1\",\"ERFRAG_DESC\":\"DIFF_A1\",\"ERFRAG_SOURCE\":\"./SUMMARY/BEHAVIOR/A1[sum(./LIKELY | ./PLAUSIBLE | ./UNLIKELY | ./NO_CHANCE) > 0]\",\"ERFRAG_DEPENDS\":\"\"},{\"ERFRAG_ID\":204,\"ERFRAG_CODE\":\"NO_A1\",\"ERFRAG_DESC\":\"NO_A1\",\"ERFRAG_SOURCE\":\"./SUMMARY/BEHAVIOR/A1[sum(./SAME | ./CLOSE | ./LIKELY | ./PLAUSIBLE | ./UNLIKELY | ./NO_CHANCE) = 0]\",\"ERFRAG_DEPENDS\":\"\"},{\"ERFRAG_ID\":205,\"ERFRAG_CODE\":\"SAME_A1E\",\"ERFRAG_DESC\":\"SAME_A1E\",\"ERFRAG_SOURCE\":\"./SUMMARY/BEHAVIOR/A1E[sum(./SAME) > 0]\",\"ERFRAG_DEPENDS\":\"\"},{\"ERFRAG_ID\":206,\"ERFRAG_CODE\":\"DIFF_A1ES\",\"ERFRAG_DESC\":\"DIFF_A1ES\",\"ERFRAG_SOURCE\":\"./SUMMARY/BEHAVIOR/A1ES[sum(./LIKELY | ./PLAUSIBLE | ./UNLIKELY | ./NO_CHANCE) > 0]\",\"ERFRAG_DEPENDS\":\"\"},{\"ERFRAG_ID\":207,\"ERFRAG_CODE\":\"DIFF_GEN_A1ES\",\"ERFRAG_DESC\":\"DIFF_GEN_A1ES\",\"ERFRAG_SOURCE\":\"./SCORES/NAME[./GENERATION_MATCH = 0] | ./FRAGMENT[./DIFF_A1ES>0] | ./FRAGMENT[./DIFF_RECTYPE>0]\",\"ERFRAG_DEPENDS\":\"206,208\"},{\"ERFRAG_ID\":208,\"ERFRAG_CODE\":\"DIFF_RECTYPE\",\"ERFRAG_DESC\":\"DIFF_RECTYPE\",\"ERFRAG_SOURCE\":\"./SCORES/RECORD_TYPE[./FULL_SCORE<85]\",\"ERFRAG_DEPENDS\":\"\"},{\"ERFRAG_ID\":301,\"ERFRAG_CODE\":\"GNR_SAME_NAME\",\"ERFRAG_DESC\":\"GNR_SAME_NAME\",\"ERFRAG_SOURCE\":\"./SCORES/NAME[(./GNR_FN>=95 and ./GNR_GN>=95 and ./GNR_SN>=95) or (./GNR_FN>=95 and ./GNR_GN<0 and ./GNR_SN<0)]\",\"ERFRAG_DEPENDS\":\"\"},{\"ERFRAG_ID\":302,\"ERFRAG_CODE\":\"GNR_CLOSE_NAME\",\"ERFRAG_DESC\":\"GNR_CLOSE_NAME\",\"ERFRAG_SOURCE\":\"./SCORES/NAME[(./GNR_FN>=88 and ./GNR_GN>=85 and ./GNR_SN>=88) or (./GNR_FN>=88 and ./GNR_GN<0 and ./GNR_SN<0) or ./GNR_ON>=85 or ./GNR_FN>=90]\",\"ERFRAG_DEPENDS\":\"\"},{\"ERFRAG_ID\":303,\"ERFRAG_CODE\":\"GNR_LIKELY_NAME\",\"ERFRAG_DESC\":\"GNR_LIKELY_NAME\",\"ERFRAG_SOURCE\":\"./SCORES/NAME[(./GNR_FN>=82 and ./GNR_GN>=80 and ./GNR_SN>=82) or (./GNR_FN>=82 and ./GNR_GN<0 and ./GNR_SN<0) or ./GNR_ON>=80 or ./GNR_FN>=85]\",\"ERFRAG_DEPENDS\":\"\"},{\"ERFRAG_ID\":304,\"ERFRAG_CODE\":\"GNR_PART_NAME\",\"ERFRAG_DESC\":\"GNR_PART_NAME\",\"ERFRAG_SOURCE\":\"./SCORES/NAME[./GNR_FN>=85 or ./GNR_GN>=92]\",\"ERFRAG_DEPENDS\":\"\"},{\"ERFRAG_ID\":305,\"ERFRAG_CODE\":\"GNR_SUR_NAME\",\"ERFRAG_DESC\":\"GNR_SUR_NAME\",\"ERFRAG_SOURCE\":\"./SCORES/NAME[./GNR_SN>=92]\",\"ERFRAG_DEPENDS\":\"\"},{\"ERFRAG_ID\":306,\"ERFRAG_CODE\":\"GNR_ORG_NAME\",\"ERFRAG_DESC\":\"GNR_ORG_NAME\",\"ERFRAG_SOURCE\":\"./SCORES/NAME[./GNR_ON>=85]\",\"ERFRAG_DEPENDS\":\"\"},{\"ERFRAG_ID\":311,\"ERFRAG_CODE\":\"BT_SAME_NAME\",\"ERFRAG_DESC\":\"BT_SAME_NAME\",\"ERFRAG_SOURCE\":\"./SCORES/NAME[./BT_FN>=89]\",\"ERFRAG_DEPENDS\":\"\"},{\"ERFRAG_ID\":312,\"ERFRAG_CODE\":\"BT_CLOSE_NAME\",\"ERFRAG_DESC\":\"BT_CLOSE_NAME\",\"ERFRAG_SOURCE\":\"./SCORES/NAME[./BT_ON>=85 or ./BT_FN>=79]\",\"ERFRAG_DEPENDS\":\"\"},{\"ERFRAG_ID\":313,\"ERFRAG_CODE\":\"BT_LIKELY_NAME\",\"ERFRAG_DESC\":\"BT_LIKELY_NAME\",\"ERFRAG_SOURCE\":\"./SCORES/NAME[./BT_ON>=80 or ./BT_FN>=72]\",\"ERFRAG_DEPENDS\":\"\"},{\"ERFRAG_ID\":314,\"ERFRAG_CODE\":\"BT_PART_NAME\",\"ERFRAG_DESC\":\"BT_PART_NAME\",\"ERFRAG_SOURCE\":\"./SCORES/NAME[./BT_FN>=75]\",\"ERFRAG_DEPENDS\":\"\"},{\"ERFRAG_ID\":315,\"ERFRAG_CODE\":\"BT_SUR_NAME\",\"ERFRAG_DESC\":\"BT_SUR_NAME\",\"ERFRAG_SOURCE\":\"false()\",\"ERFRAG_DEPENDS\":\"\"},{\"ERFRAG_ID\":316,\"ERFRAG_CODE\":\"BT_ORG_NAME\",\"ERFRAG_DESC\":\"BT_ORG_NAME\",\"ERFRAG_SOURCE\":\"./SCORES/NAME[./BT_ON>=85]\",\"ERFRAG_DEPENDS\":\"\"},{\"ERFRAG_ID\":999,\"ERFRAG_CODE\":\"DISABLE\",\"ERFRAG_DESC\":\"DISABLE\",\"ERFRAG_SOURCE\":\"./FRAGMENT[./NO_NAME=666]\",\"ERFRAG_DEPENDS\":\"17\"}],\"CFG_CFBOM\":[{\"CFCALL_ID\":1,\"FTYPE_ID\":1,\"FELEM_ID\":2,\"EXEC_ORDER\":1},{\"CFCALL_ID\":1,\"FTYPE_ID\":1,\"FELEM_ID\":3,\"EXEC_ORDER\":2},{\"CFCALL_ID\":1,\"FTYPE_ID\":1,\"FELEM_ID\":4,\"EXEC_ORDER\":3},{\"CFCALL_ID\":1,\"FTYPE_ID\":1,\"FELEM_ID\":5,\"EXEC_ORDER\":4},{\"CFCALL_ID\":1,\"FTYPE_ID\":1,\"FELEM_ID\":6,\"EXEC_ORDER\":5},{\"CFCALL_ID\":1,\"FTYPE_ID\":1,\"FELEM_ID\":7,\"EXEC_ORDER\":6},{\"CFCALL_ID\":1,\"FTYPE_ID\":1,\"FELEM_ID\":8,\"EXEC_ORDER\":7},{\"CFCALL_ID\":1,\"FTYPE_ID\":1,\"FELEM_ID\":9,\"EXEC_ORDER\":8},{\"CFCALL_ID\":1,\"FTYPE_ID\":1,\"FELEM_ID\":10,\"EXEC_ORDER\":9},{\"CFCALL_ID\":1,\"FTYPE_ID\":1,\"FELEM_ID\":11,\"EXEC_ORDER\":10},{\"CFCALL_ID\":1,\"FTYPE_ID\":1,\"FELEM_ID\":12,\"EXEC_ORDER\":11},{\"CFCALL_ID\":1,\"FTYPE_ID\":1,\"FELEM_ID\":81,\"EXEC_ORDER\":12},{\"CFCALL_ID\":1,\"FTYPE_ID\":1,\"FELEM_ID\":83,\"EXEC_ORDER\":13},{\"CFCALL_ID\":1,\"FTYPE_ID\":1,\"FELEM_ID\":84,\"EXEC_ORDER\":14},{\"CFCALL_ID\":1,\"FTYPE_ID\":1,\"FELEM_ID\":86,\"EXEC_ORDER\":15},{\"CFCALL_ID\":1,\"FTYPE_ID\":1,\"FELEM_ID\":87,\"EXEC_ORDER\":16},{\"CFCALL_ID\":1,\"FTYPE_ID\":1,\"FELEM_ID\":89,\"EXEC_ORDER\":17},{\"CFCALL_ID\":1,\"FTYPE_ID\":1,\"FELEM_ID\":91,\"EXEC_ORDER\":18},{\"CFCALL_ID\":1,\"FTYPE_ID\":1,\"FELEM_ID\":92,\"EXEC_ORDER\":19},{\"CFCALL_ID\":1,\"FTYPE_ID\":1,\"FELEM_ID\":93,\"EXEC_ORDER\":20},{\"CFCALL_ID\":1,\"FTYPE_ID\":1,\"FELEM_ID\":94,\"EXEC_ORDER\":21},{\"CFCALL_ID\":1,\"FTYPE_ID\":1,\"FELEM_ID\":96,\"EXEC_ORDER\":22},{\"CFCALL_ID\":2,\"FTYPE_ID\":2,\"FELEM_ID\":43,\"EXEC_ORDER\":1},{\"CFCALL_ID\":2,\"FTYPE_ID\":2,\"FELEM_ID\":62,\"EXEC_ORDER\":2},{\"CFCALL_ID\":2,\"FTYPE_ID\":2,\"FELEM_ID\":63,\"EXEC_ORDER\":3},{\"CFCALL_ID\":2,\"FTYPE_ID\":2,\"FELEM_ID\":64,\"EXEC_ORDER\":4},{\"CFCALL_ID\":3,\"FTYPE_ID\":3,\"FELEM_ID\":43,\"EXEC_ORDER\":1},{\"CFCALL_ID\":3,\"FTYPE_ID\":3,\"FELEM_ID\":62,\"EXEC_ORDER\":2},{\"CFCALL_ID\":3,\"FTYPE_ID\":3,\"FELEM_ID\":63,\"EXEC_ORDER\":3},{\"CFCALL_ID\":3,\"FTYPE_ID\":3,\"FELEM_ID\":64,\"EXEC_ORDER\":4},{\"CFCALL_ID\":4,\"FTYPE_ID\":4,\"FELEM_ID\":13,\"EXEC_ORDER\":1},{\"CFCALL_ID\":5,\"FTYPE_ID\":5,\"FELEM_ID\":22,\"EXEC_ORDER\":1},{\"CFCALL_ID\":5,\"FTYPE_ID\":5,\"FELEM_ID\":23,\"EXEC_ORDER\":2},{\"CFCALL_ID\":5,\"FTYPE_ID\":5,\"FELEM_ID\":24,\"EXEC_ORDER\":3},{\"CFCALL_ID\":5,\"FTYPE_ID\":5,\"FELEM_ID\":25,\"EXEC_ORDER\":4},{\"CFCALL_ID\":5,\"FTYPE_ID\":5,\"FELEM_ID\":26,\"EXEC_ORDER\":5},{\"CFCALL_ID\":5,\"FTYPE_ID\":5,\"FELEM_ID\":27,\"EXEC_ORDER\":6},{\"CFCALL_ID\":5,\"FTYPE_ID\":5,\"FELEM_ID\":28,\"EXEC_ORDER\":7},{\"CFCALL_ID\":5,\"FTYPE_ID\":5,\"FELEM_ID\":29,\"EXEC_ORDER\":8},{\"CFCALL_ID\":5,\"FTYPE_ID\":5,\"FELEM_ID\":30,\"EXEC_ORDER\":9},{\"CFCALL_ID\":5,\"FTYPE_ID\":5,\"FELEM_ID\":31,\"EXEC_ORDER\":10},{\"CFCALL_ID\":5,\"FTYPE_ID\":5,\"FELEM_ID\":32,\"EXEC_ORDER\":11},{\"CFCALL_ID\":5,\"FTYPE_ID\":5,\"FELEM_ID\":100,\"EXEC_ORDER\":12},{\"CFCALL_ID\":5,\"FTYPE_ID\":5,\"FELEM_ID\":108,\"EXEC_ORDER\":13},{\"CFCALL_ID\":5,\"FTYPE_ID\":5,\"FELEM_ID\":72,\"EXEC_ORDER\":14},{\"CFCALL_ID\":5,\"FTYPE_ID\":5,\"FELEM_ID\":124,\"EXEC_ORDER\":15},{\"CFCALL_ID\":6,\"FTYPE_ID\":6,\"FELEM_ID\":33,\"EXEC_ORDER\":1},{\"CFCALL_ID\":6,\"FTYPE_ID\":6,\"FELEM_ID\":60,\"EXEC_ORDER\":2},{\"CFCALL_ID\":6,\"FTYPE_ID\":6,\"FELEM_ID\":61,\"EXEC_ORDER\":3},{\"CFCALL_ID\":6,\"FTYPE_ID\":6,\"FELEM_ID\":109,\"EXEC_ORDER\":4},{\"CFCALL_ID\":7,\"FTYPE_ID\":7,\"FELEM_ID\":37,\"EXEC_ORDER\":1},{\"CFCALL_ID\":9,\"FTYPE_ID\":9,\"FELEM_ID\":69,\"EXEC_ORDER\":1},{\"CFCALL_ID\":9,\"FTYPE_ID\":9,\"FELEM_ID\":26,\"EXEC_ORDER\":2},{\"CFCALL_ID\":10,\"FTYPE_ID\":10,\"FELEM_ID\":69,\"EXEC_ORDER\":1},{\"CFCALL_ID\":10,\"FTYPE_ID\":10,\"FELEM_ID\":28,\"EXEC_ORDER\":2},{\"CFCALL_ID\":12,\"FTYPE_ID\":12,\"FELEM_ID\":69,\"EXEC_ORDER\":1},{\"CFCALL_ID\":12,\"FTYPE_ID\":12,\"FELEM_ID\":28,\"EXEC_ORDER\":2},{\"CFCALL_ID\":13,\"FTYPE_ID\":13,\"FELEM_ID\":56,\"EXEC_ORDER\":1},{\"CFCALL_ID\":13,\"FTYPE_ID\":13,\"FELEM_ID\":57,\"EXEC_ORDER\":2},{\"CFCALL_ID\":14,\"FTYPE_ID\":14,\"FELEM_ID\":35,\"EXEC_ORDER\":1},{\"CFCALL_ID\":14,\"FTYPE_ID\":14,\"FELEM_ID\":119,\"EXEC_ORDER\":2},{\"CFCALL_ID\":14,\"FTYPE_ID\":14,\"FELEM_ID\":120,\"EXEC_ORDER\":3},{\"CFCALL_ID\":14,\"FTYPE_ID\":14,\"FELEM_ID\":121,\"EXEC_ORDER\":4},{\"CFCALL_ID\":15,\"FTYPE_ID\":15,\"FELEM_ID\":35,\"EXEC_ORDER\":1},{\"CFCALL_ID\":16,\"FTYPE_ID\":16,\"FELEM_ID\":40,\"EXEC_ORDER\":1},{\"CFCALL_ID\":16,\"FTYPE_ID\":16,\"FELEM_ID\":58,\"EXEC_ORDER\":2},{\"CFCALL_ID\":18,\"FTYPE_ID\":36,\"FELEM_ID\":37,\"EXEC_ORDER\":1},{\"CFCALL_ID\":19,\"FTYPE_ID\":37,\"FELEM_ID\":69,\"EXEC_ORDER\":1},{\"CFCALL_ID\":19,\"FTYPE_ID\":37,\"FELEM_ID\":26,\"EXEC_ORDER\":2},{\"CFCALL_ID\":34,\"FTYPE_ID\":11,\"FELEM_ID\":69,\"EXEC_ORDER\":1},{\"CFCALL_ID\":34,\"FTYPE_ID\":11,\"FELEM_ID\":28,\"EXEC_ORDER\":2},{\"CFCALL_ID\":35,\"FTYPE_ID\":52,\"FELEM_ID\":69,\"EXEC_ORDER\":1},{\"CFCALL_ID\":35,\"FTYPE_ID\":52,\"FELEM_ID\":28,\"EXEC_ORDER\":2},{\"CFCALL_ID\":35,\"FTYPE_ID\":52,\"FELEM_ID\":38,\"EXEC_ORDER\":3},{\"CFCALL_ID\":36,\"FTYPE_ID\":53,\"FELEM_ID\":37,\"EXEC_ORDER\":1},{\"CFCALL_ID\":36,\"FTYPE_ID\":53,\"FELEM_ID\":38,\"EXEC_ORDER\":2},{\"CFCALL_ID\":37,\"FTYPE_ID\":54,\"FELEM_ID\":28,\"EXEC_ORDER\":1},{\"CFCALL_ID\":38,\"FTYPE_ID\":55,\"FELEM_ID\":28,\"EXEC_ORDER\":1},{\"CFCALL_ID\":39,\"FTYPE_ID\":56,\"FELEM_ID\":18,\"EXEC_ORDER\":1},{\"CFCALL_ID\":39,\"FTYPE_ID\":56,\"FELEM_ID\":99,\"EXEC_ORDER\":2},{\"CFCALL_ID\":40,\"FTYPE_ID\":24,\"FELEM_ID\":51,\"EXEC_ORDER\":1},{\"CFCALL_ID\":40,\"FTYPE_ID\":24,\"FELEM_ID\":52,\"EXEC_ORDER\":2},{\"CFCALL_ID\":41,\"FTYPE_ID\":57,\"FELEM_ID\":18,\"EXEC_ORDER\":1},{\"CFCALL_ID\":41,\"FTYPE_ID\":57,\"FELEM_ID\":3,\"EXEC_ORDER\":2},{\"CFCALL_ID\":42,\"FTYPE_ID\":59,\"FELEM_ID\":18,\"EXEC_ORDER\":1},{\"CFCALL_ID\":42,\"FTYPE_ID\":59,\"FELEM_ID\":3,\"EXEC_ORDER\":2},{\"CFCALL_ID\":43,\"FTYPE_ID\":60,\"FELEM_ID\":56,\"EXEC_ORDER\":1},{\"CFCALL_ID\":44,\"FTYPE_ID\":61,\"FELEM_ID\":56,\"EXEC_ORDER\":1},{\"CFCALL_ID\":45,\"FTYPE_ID\":62,\"FELEM_ID\":56,\"EXEC_ORDER\":1},{\"CFCALL_ID\":46,\"FTYPE_ID\":63,\"FELEM_ID\":56,\"EXEC_ORDER\":1},{\"CFCALL_ID\":47,\"FTYPE_ID\":64,\"FELEM_ID\":56,\"EXEC_ORDER\":1},{\"CFCALL_ID\":48,\"FTYPE_ID\":65,\"FELEM_ID\":56,\"EXEC_ORDER\":1},{\"CFCALL_ID\":49,\"FTYPE_ID\":66,\"FELEM_ID\":56,\"EXEC_ORDER\":1},{\"CFCALL_ID\":50,\"FTYPE_ID\":67,\"FELEM_ID\":56,\"EXEC_ORDER\":1},{\"CFCALL_ID\":51,\"FTYPE_ID\":68,\"FELEM_ID\":56,\"EXEC_ORDER\":1},{\"CFCALL_ID\":52,\"FTYPE_ID\":69,\"FELEM_ID\":56,\"EXEC_ORDER\":1},{\"CFCALL_ID\":53,\"FTYPE_ID\":70,\"FELEM_ID\":56,\"EXEC_ORDER\":1},{\"CFCALL_ID\":54,\"FTYPE_ID\":71,\"FELEM_ID\":56,\"EXEC_ORDER\":1},{\"CFCALL_ID\":55,\"FTYPE_ID\":72,\"FELEM_ID\":18,\"EXEC_ORDER\":1},{\"CFCALL_ID\":57,\"FTYPE_ID\":74,\"FELEM_ID\":116,\"EXEC_ORDER\":1},{\"CFCALL_ID\":58,\"FTYPE_ID\":75,\"FELEM_ID\":43,\"EXEC_ORDER\":1},{\"CFCALL_ID\":58,\"FTYPE_ID\":75,\"FELEM_ID\":62,\"EXEC_ORDER\":2},{\"CFCALL_ID\":58,\"FTYPE_ID\":75,\"FELEM_ID\":63,\"EXEC_ORDER\":3},{\"CFCALL_ID\":58,\"FTYPE_ID\":75,\"FELEM_ID\":64,\"EXEC_ORDER\":4},{\"CFCALL_ID\":59,\"FTYPE_ID\":76,\"FELEM_ID\":28,\"EXEC_ORDER\":1},{\"CFCALL_ID\":60,\"FTYPE_ID\":77,\"FELEM_ID\":38,\"EXEC_ORDER\":1},{\"CFCALL_ID\":60,\"FTYPE_ID\":77,\"FELEM_ID\":37,\"EXEC_ORDER\":2},{\"CFCALL_ID\":61,\"FTYPE_ID\":78,\"FELEM_ID\":37,\"EXEC_ORDER\":1},{\"CFCALL_ID\":62,\"FTYPE_ID\":79,\"FELEM_ID\":37,\"EXEC_ORDER\":1},{\"CFCALL_ID\":63,\"FTYPE_ID\":80,\"FELEM_ID\":37,\"EXEC_ORDER\":1},{\"CFCALL_ID\":64,\"FTYPE_ID\":86,\"FELEM_ID\":28,\"EXEC_ORDER\":1},{\"CFCALL_ID\":65,\"FTYPE_ID\":87,\"FELEM_ID\":37,\"EXEC_ORDER\":1}],\"CFG_DFUNC\":[{\"DFUNC_ID\":1,\"DFUNC_CODE\":\"FELEM_STRICT_SUBSET\",\"CONNECT_STR\":\"g2StrictSubsetFelems\",\"FUNC_VER\":\"1\",\"ANON_SUPPORT\":\"Yes\",\"FUNC_LIB\":\"g2func_lib\",\"LANGUAGE\":\"\",\"JAVA_CLASS_NAME\":\"\"},{\"DFUNC_ID\":2,\"DFUNC_CODE\":\"TOKEN_STRICT_SUBSET\",\"CONNECT_STR\":\"g2StrictSubsetTokens\",\"FUNC_VER\":\"1\",\"ANON_SUPPORT\":\"Yes\",\"FUNC_LIB\":\"g2func_lib\",\"LANGUAGE\":\"\",\"JAVA_CLASS_NAME\":\"\"},{\"DFUNC_ID\":3,\"DFUNC_CODE\":\"FELEM_NORM_STRICT_SUBSET\",\"CONNECT_STR\":\"g2StrictSubsetNormalizedFelems\",\"FUNC_VER\":\"1\",\"ANON_SUPPORT\":\"Yes\",\"FUNC_LIB\":\"g2func_lib\",\"LANGUAGE\":\"\",\"JAVA_CLASS_NAME\":\"\"},{\"DFUNC_ID\":4,\"DFUNC_CODE\":\"PARTIAL_DATES\",\"CONNECT_STR\":\"g2PartialDates\",\"FUNC_VER\":\"1\",\"ANON_SUPPORT\":\"Yes\",\"FUNC_LIB\":\"g2func_lib\",\"LANGUAGE\":\"\",\"JAVA_CLASS_NAME\":\"\"},{\"DFUNC_ID\":5,\"DFUNC_CODE\":\"PARTIAL_NAMES\",\"CONNECT_STR\":\"g2PartialNames\",\"FUNC_VER\":\"1\",\"ANON_SUPPORT\":\"Yes\",\"FUNC_LIB\":\"g2func_lib\",\"LANGUAGE\":\"\",\"JAVA_CLASS_NAME\":\"\"},{\"DFUNC_ID\":6,\"DFUNC_CODE\":\"PARTIAL_ADDRESSES\",\"CONNECT_STR\":\"g2PartialAddresses\",\"FUNC_VER\":\"1\",\"ANON_SUPPORT\":\"Yes\",\"FUNC_LIB\":\"g2func_lib\",\"LANGUAGE\":\"\",\"JAVA_CLASS_NAME\":\"\"}],\"CFG_DFCALL\":[{\"FTYPE_ID\":1,\"DFCALL_ID\":1,\"DFUNC_ID\":5,\"EXEC_ORDER\":1},{\"FTYPE_ID\":2,\"DFCALL_ID\":2,\"DFUNC_ID\":4,\"EXEC_ORDER\":1},{\"FTYPE_ID\":3,\"DFCALL_ID\":3,\"DFUNC_ID\":4,\"EXEC_ORDER\":1},{\"FTYPE_ID\":5,\"DFCALL_ID\":5,\"DFUNC_ID\":6,\"EXEC_ORDER\":1},{\"FTYPE_ID\":6,\"DFCALL_ID\":6,\"DFUNC_ID\":1,\"EXEC_ORDER\":1},{\"FTYPE_ID\":9,\"DFCALL_ID\":9,\"DFUNC_ID\":3,\"EXEC_ORDER\":1},{\"FTYPE_ID\":10,\"DFCALL_ID\":10,\"DFUNC_ID\":3,\"EXEC_ORDER\":1},{\"FTYPE_ID\":11,\"DFCALL_ID\":11,\"DFUNC_ID\":3,\"EXEC_ORDER\":1},{\"FTYPE_ID\":12,\"DFCALL_ID\":12,\"DFUNC_ID\":3,\"EXEC_ORDER\":1},{\"FTYPE_ID\":13,\"DFCALL_ID\":13,\"DFUNC_ID\":1,\"EXEC_ORDER\":1},{\"FTYPE_ID\":16,\"DFCALL_ID\":16,\"DFUNC_ID\":1,\"EXEC_ORDER\":1},{\"FTYPE_ID\":24,\"DFCALL_ID\":24,\"DFUNC_ID\":1,\"EXEC_ORDER\":1},{\"FTYPE_ID\":36,\"DFCALL_ID\":36,\"DFUNC_ID\":1,\"EXEC_ORDER\":1},{\"FTYPE_ID\":37,\"DFCALL_ID\":37,\"DFUNC_ID\":1,\"EXEC_ORDER\":1},{\"FTYPE_ID\":52,\"DFCALL_ID\":52,\"DFUNC_ID\":3,\"EXEC_ORDER\":1},{\"FTYPE_ID\":53,\"DFCALL_ID\":53,\"DFUNC_ID\":3,\"EXEC_ORDER\":1},{\"FTYPE_ID\":56,\"DFCALL_ID\":56,\"DFUNC_ID\":1,\"EXEC_ORDER\":1},{\"FTYPE_ID\":57,\"DFCALL_ID\":57,\"DFUNC_ID\":1,\"EXEC_ORDER\":1}],\"CFG_DFBOM\":[{\"DFCALL_ID\":1,\"FTYPE_ID\":1,\"FELEM_ID\":2,\"EXEC_ORDER\":1},{\"DFCALL_ID\":1,\"FTYPE_ID\":1,\"FELEM_ID\":3,\"EXEC_ORDER\":2},{\"DFCALL_ID\":1,\"FTYPE_ID\":1,\"FELEM_ID\":4,\"EXEC_ORDER\":3},{\"DFCALL_ID\":1,\"FTYPE_ID\":1,\"FELEM_ID\":5,\"EXEC_ORDER\":4},{\"DFCALL_ID\":1,\"FTYPE_ID\":1,\"FELEM_ID\":6,\"EXEC_ORDER\":5},{\"DFCALL_ID\":1,\"FTYPE_ID\":1,\"FELEM_ID\":7,\"EXEC_ORDER\":6},{\"DFCALL_ID\":1,\"FTYPE_ID\":1,\"FELEM_ID\":8,\"EXEC_ORDER\":7},{\"DFCALL_ID\":1,\"FTYPE_ID\":1,\"FELEM_ID\":9,\"EXEC_ORDER\":8},{\"DFCALL_ID\":1,\"FTYPE_ID\":1,\"FELEM_ID\":11,\"EXEC_ORDER\":10},{\"DFCALL_ID\":1,\"FTYPE_ID\":1,\"FELEM_ID\":12,\"EXEC_ORDER\":11},{\"DFCALL_ID\":1,\"FTYPE_ID\":1,\"FELEM_ID\":77,\"EXEC_ORDER\":12},{\"DFCALL_ID\":1,\"FTYPE_ID\":1,\"FELEM_ID\":78,\"EXEC_ORDER\":13},{\"DFCALL_ID\":1,\"FTYPE_ID\":1,\"FELEM_ID\":79,\"EXEC_ORDER\":14},{\"DFCALL_ID\":1,\"FTYPE_ID\":1,\"FELEM_ID\":81,\"EXEC_ORDER\":15},{\"DFCALL_ID\":1,\"FTYPE_ID\":1,\"FELEM_ID\":83,\"EXEC_ORDER\":16},{\"DFCALL_ID\":1,\"FTYPE_ID\":1,\"FELEM_ID\":84,\"EXEC_ORDER\":17},{\"DFCALL_ID\":1,\"FTYPE_ID\":1,\"FELEM_ID\":86,\"EXEC_ORDER\":18},{\"DFCALL_ID\":1,\"FTYPE_ID\":1,\"FELEM_ID\":87,\"EXEC_ORDER\":19},{\"DFCALL_ID\":1,\"FTYPE_ID\":1,\"FELEM_ID\":89,\"EXEC_ORDER\":20},{\"DFCALL_ID\":1,\"FTYPE_ID\":1,\"FELEM_ID\":91,\"EXEC_ORDER\":21},{\"DFCALL_ID\":1,\"FTYPE_ID\":1,\"FELEM_ID\":92,\"EXEC_ORDER\":22},{\"DFCALL_ID\":1,\"FTYPE_ID\":1,\"FELEM_ID\":93,\"EXEC_ORDER\":23},{\"DFCALL_ID\":1,\"FTYPE_ID\":1,\"FELEM_ID\":94,\"EXEC_ORDER\":24},{\"DFCALL_ID\":1,\"FTYPE_ID\":1,\"FELEM_ID\":96,\"EXEC_ORDER\":25},{\"DFCALL_ID\":2,\"FTYPE_ID\":2,\"FELEM_ID\":43,\"EXEC_ORDER\":1},{\"DFCALL_ID\":2,\"FTYPE_ID\":2,\"FELEM_ID\":62,\"EXEC_ORDER\":2},{\"DFCALL_ID\":2,\"FTYPE_ID\":2,\"FELEM_ID\":63,\"EXEC_ORDER\":3},{\"DFCALL_ID\":2,\"FTYPE_ID\":2,\"FELEM_ID\":64,\"EXEC_ORDER\":4},{\"DFCALL_ID\":3,\"FTYPE_ID\":3,\"FELEM_ID\":43,\"EXEC_ORDER\":1},{\"DFCALL_ID\":3,\"FTYPE_ID\":3,\"FELEM_ID\":62,\"EXEC_ORDER\":2},{\"DFCALL_ID\":3,\"FTYPE_ID\":3,\"FELEM_ID\":63,\"EXEC_ORDER\":3},{\"DFCALL_ID\":3,\"FTYPE_ID\":3,\"FELEM_ID\":64,\"EXEC_ORDER\":4},{\"DFCALL_ID\":5,\"FTYPE_ID\":5,\"FELEM_ID\":100,\"EXEC_ORDER\":1},{\"DFCALL_ID\":5,\"FTYPE_ID\":5,\"FELEM_ID\":22,\"EXEC_ORDER\":2},{\"DFCALL_ID\":5,\"FTYPE_ID\":5,\"FELEM_ID\":23,\"EXEC_ORDER\":3},{\"DFCALL_ID\":5,\"FTYPE_ID\":5,\"FELEM_ID\":24,\"EXEC_ORDER\":4},{\"DFCALL_ID\":5,\"FTYPE_ID\":5,\"FELEM_ID\":25,\"EXEC_ORDER\":5},{\"DFCALL_ID\":5,\"FTYPE_ID\":5,\"FELEM_ID\":26,\"EXEC_ORDER\":6},{\"DFCALL_ID\":5,\"FTYPE_ID\":5,\"FELEM_ID\":27,\"EXEC_ORDER\":7},{\"DFCALL_ID\":5,\"FTYPE_ID\":5,\"FELEM_ID\":28,\"EXEC_ORDER\":8},{\"DFCALL_ID\":5,\"FTYPE_ID\":5,\"FELEM_ID\":29,\"EXEC_ORDER\":9},{\"DFCALL_ID\":5,\"FTYPE_ID\":5,\"FELEM_ID\":30,\"EXEC_ORDER\":10},{\"DFCALL_ID\":5,\"FTYPE_ID\":5,\"FELEM_ID\":31,\"EXEC_ORDER\":11},{\"DFCALL_ID\":5,\"FTYPE_ID\":5,\"FELEM_ID\":32,\"EXEC_ORDER\":12},{\"DFCALL_ID\":5,\"FTYPE_ID\":5,\"FELEM_ID\":72,\"EXEC_ORDER\":13},{\"DFCALL_ID\":5,\"FTYPE_ID\":5,\"FELEM_ID\":11,\"EXEC_ORDER\":14},{\"DFCALL_ID\":5,\"FTYPE_ID\":5,\"FELEM_ID\":108,\"EXEC_ORDER\":15},{\"DFCALL_ID\":5,\"FTYPE_ID\":5,\"FELEM_ID\":117,\"EXEC_ORDER\":16},{\"DFCALL_ID\":5,\"FTYPE_ID\":5,\"FELEM_ID\":124,\"EXEC_ORDER\":17},{\"DFCALL_ID\":6,\"FTYPE_ID\":6,\"FELEM_ID\":109,\"EXEC_ORDER\":1},{\"DFCALL_ID\":6,\"FTYPE_ID\":6,\"FELEM_ID\":33,\"EXEC_ORDER\":2},{\"DFCALL_ID\":6,\"FTYPE_ID\":6,\"FELEM_ID\":34,\"EXEC_ORDER\":3},{\"DFCALL_ID\":6,\"FTYPE_ID\":6,\"FELEM_ID\":60,\"EXEC_ORDER\":4},{\"DFCALL_ID\":6,\"FTYPE_ID\":6,\"FELEM_ID\":61,\"EXEC_ORDER\":5},{\"DFCALL_ID\":9,\"FTYPE_ID\":9,\"FELEM_ID\":37,\"EXEC_ORDER\":1},{\"DFCALL_ID\":9,\"FTYPE_ID\":9,\"FELEM_ID\":26,\"EXEC_ORDER\":2},{\"DFCALL_ID\":9,\"FTYPE_ID\":9,\"FELEM_ID\":69,\"EXEC_ORDER\":3},{\"DFCALL_ID\":9,\"FTYPE_ID\":9,\"FELEM_ID\":97,\"EXEC_ORDER\":4},{\"DFCALL_ID\":9,\"FTYPE_ID\":9,\"FELEM_ID\":98,\"EXEC_ORDER\":5},{\"DFCALL_ID\":10,\"FTYPE_ID\":10,\"FELEM_ID\":37,\"EXEC_ORDER\":1},{\"DFCALL_ID\":10,\"FTYPE_ID\":10,\"FELEM_ID\":28,\"EXEC_ORDER\":2},{\"DFCALL_ID\":10,\"FTYPE_ID\":10,\"FELEM_ID\":69,\"EXEC_ORDER\":3},{\"DFCALL_ID\":10,\"FTYPE_ID\":10,\"FELEM_ID\":97,\"EXEC_ORDER\":4},{\"DFCALL_ID\":10,\"FTYPE_ID\":10,\"FELEM_ID\":98,\"EXEC_ORDER\":5},{\"DFCALL_ID\":10,\"FTYPE_ID\":10,\"FELEM_ID\":117,\"EXEC_ORDER\":6},{\"DFCALL_ID\":11,\"FTYPE_ID\":11,\"FELEM_ID\":37,\"EXEC_ORDER\":1},{\"DFCALL_ID\":11,\"FTYPE_ID\":11,\"FELEM_ID\":28,\"EXEC_ORDER\":2},{\"DFCALL_ID\":11,\"FTYPE_ID\":11,\"FELEM_ID\":69,\"EXEC_ORDER\":3},{\"DFCALL_ID\":11,\"FTYPE_ID\":11,\"FELEM_ID\":97,\"EXEC_ORDER\":4},{\"DFCALL_ID\":11,\"FTYPE_ID\":11,\"FELEM_ID\":98,\"EXEC_ORDER\":5},{\"DFCALL_ID\":11,\"FTYPE_ID\":11,\"FELEM_ID\":117,\"EXEC_ORDER\":6},{\"DFCALL_ID\":12,\"FTYPE_ID\":12,\"FELEM_ID\":37,\"EXEC_ORDER\":1},{\"DFCALL_ID\":12,\"FTYPE_ID\":12,\"FELEM_ID\":38,\"EXEC_ORDER\":2},{\"DFCALL_ID\":12,\"FTYPE_ID\":12,\"FELEM_ID\":69,\"EXEC_ORDER\":3},{\"DFCALL_ID\":12,\"FTYPE_ID\":12,\"FELEM_ID\":97,\"EXEC_ORDER\":4},{\"DFCALL_ID\":12,\"FTYPE_ID\":12,\"FELEM_ID\":98,\"EXEC_ORDER\":5},{\"DFCALL_ID\":12,\"FTYPE_ID\":12,\"FELEM_ID\":28,\"EXEC_ORDER\":6},{\"DFCALL_ID\":12,\"FTYPE_ID\":12,\"FELEM_ID\":117,\"EXEC_ORDER\":7},{\"DFCALL_ID\":13,\"FTYPE_ID\":13,\"FELEM_ID\":56,\"EXEC_ORDER\":1},{\"DFCALL_ID\":13,\"FTYPE_ID\":13,\"FELEM_ID\":57,\"EXEC_ORDER\":2},{\"DFCALL_ID\":16,\"FTYPE_ID\":16,\"FELEM_ID\":40,\"EXEC_ORDER\":1},{\"DFCALL_ID\":16,\"FTYPE_ID\":16,\"FELEM_ID\":58,\"EXEC_ORDER\":2},{\"DFCALL_ID\":24,\"FTYPE_ID\":24,\"FELEM_ID\":51,\"EXEC_ORDER\":1},{\"DFCALL_ID\":24,\"FTYPE_ID\":24,\"FELEM_ID\":52,\"EXEC_ORDER\":2},{\"DFCALL_ID\":24,\"FTYPE_ID\":24,\"FELEM_ID\":53,\"EXEC_ORDER\":3},{\"DFCALL_ID\":24,\"FTYPE_ID\":24,\"FELEM_ID\":75,\"EXEC_ORDER\":4},{\"DFCALL_ID\":24,\"FTYPE_ID\":24,\"FELEM_ID\":76,\"EXEC_ORDER\":5},{\"DFCALL_ID\":24,\"FTYPE_ID\":24,\"FELEM_ID\":104,\"EXEC_ORDER\":6},{\"DFCALL_ID\":24,\"FTYPE_ID\":24,\"FELEM_ID\":105,\"EXEC_ORDER\":7},{\"DFCALL_ID\":24,\"FTYPE_ID\":24,\"FELEM_ID\":106,\"EXEC_ORDER\":8},{\"DFCALL_ID\":24,\"FTYPE_ID\":24,\"FELEM_ID\":107,\"EXEC_ORDER\":9},{\"DFCALL_ID\":36,\"FTYPE_ID\":36,\"FELEM_ID\":37,\"EXEC_ORDER\":1},{\"DFCALL_ID\":36,\"FTYPE_ID\":36,\"FELEM_ID\":69,\"EXEC_ORDER\":2},{\"DFCALL_ID\":37,\"FTYPE_ID\":37,\"FELEM_ID\":37,\"EXEC_ORDER\":1},{\"DFCALL_ID\":37,\"FTYPE_ID\":37,\"FELEM_ID\":26,\"EXEC_ORDER\":2},{\"DFCALL_ID\":37,\"FTYPE_ID\":37,\"FELEM_ID\":69,\"EXEC_ORDER\":3},{\"DFCALL_ID\":52,\"FTYPE_ID\":52,\"FELEM_ID\":37,\"EXEC_ORDER\":1},{\"DFCALL_ID\":52,\"FTYPE_ID\":52,\"FELEM_ID\":28,\"EXEC_ORDER\":2},{\"DFCALL_ID\":52,\"FTYPE_ID\":52,\"FELEM_ID\":38,\"EXEC_ORDER\":3},{\"DFCALL_ID\":52,\"FTYPE_ID\":52,\"FELEM_ID\":69,\"EXEC_ORDER\":4},{\"DFCALL_ID\":52,\"FTYPE_ID\":52,\"FELEM_ID\":97,\"EXEC_ORDER\":5},{\"DFCALL_ID\":52,\"FTYPE_ID\":52,\"FELEM_ID\":98,\"EXEC_ORDER\":6},{\"DFCALL_ID\":52,\"FTYPE_ID\":52,\"FELEM_ID\":117,\"EXEC_ORDER\":7},{\"DFCALL_ID\":53,\"FTYPE_ID\":53,\"FELEM_ID\":37,\"EXEC_ORDER\":1},{\"DFCALL_ID\":53,\"FTYPE_ID\":53,\"FELEM_ID\":38,\"EXEC_ORDER\":2},{\"DFCALL_ID\":56,\"FTYPE_ID\":56,\"FELEM_ID\":18,\"EXEC_ORDER\":1},{\"DFCALL_ID\":56,\"FTYPE_ID\":56,\"FELEM_ID\":99,\"EXEC_ORDER\":2},{\"DFCALL_ID\":57,\"FTYPE_ID\":57,\"FELEM_ID\":18,\"EXEC_ORDER\":1},{\"DFCALL_ID\":57,\"FTYPE_ID\":57,\"FELEM_ID\":3,\"EXEC_ORDER\":2}],\"CFG_CFRTN\":[{\"CFRTN_ID\":1,\"CFUNC_ID\":1,\"EXEC_ORDER\":1,\"CFUNC_RTNVAL\":\"FULL_SCORE\",\"SAME_SCORE\":100,\"CLOSE_SCORE\":90,\"LIKELY_SCORE\":80,\"PLAUSIBLE_SCORE\":70,\"UN_LIKELY_SCORE\":60},{\"CFRTN_ID\":2,\"CFUNC_ID\":2,\"EXEC_ORDER\":1,\"CFUNC_RTNVAL\":\"GNR_FN\",\"SAME_SCORE\":99,\"CLOSE_SCORE\":88,\"LIKELY_SCORE\":80,\"PLAUSIBLE_SCORE\":70,\"UN_LIKELY_SCORE\":60},{\"CFRTN_ID\":3,\"CFUNC_ID\":2,\"EXEC_ORDER\":2,\"CFUNC_RTNVAL\":\"GNR_SN\",\"SAME_SCORE\":99,\"CLOSE_SCORE\":88,\"LIKELY_SCORE\":80,\"PLAUSIBLE_SCORE\":70,\"UN_LIKELY_SCORE\":60},{\"CFRTN_ID\":4,\"CFUNC_ID\":2,\"EXEC_ORDER\":3,\"CFUNC_RTNVAL\":\"GNR_GN\",\"SAME_SCORE\":99,\"CLOSE_SCORE\":88,\"LIKELY_SCORE\":80,\"PLAUSIBLE_SCORE\":70,\"UN_LIKELY_SCORE\":60},{\"CFRTN_ID\":6,\"CFUNC_ID\":2,\"EXEC_ORDER\":4,\"CFUNC_RTNVAL\":\"GENERATION_MATCH\",\"SAME_SCORE\":100,\"CLOSE_SCORE\":90,\"LIKELY_SCORE\":80,\"PLAUSIBLE_SCORE\":70,\"UN_LIKELY_SCORE\":60},{\"CFRTN_ID\":14,\"CFUNC_ID\":2,\"EXEC_ORDER\":5,\"CFUNC_RTNVAL\":\"GNR_ON\",\"SAME_SCORE\":99,\"CLOSE_SCORE\":90,\"LIKELY_SCORE\":80,\"PLAUSIBLE_SCORE\":70,\"UN_LIKELY_SCORE\":60},{\"CFRTN_ID\":5,\"CFUNC_ID\":3,\"EXEC_ORDER\":1,\"CFUNC_RTNVAL\":\"FULL_SCORE\",\"SAME_SCORE\":100,\"CLOSE_SCORE\":90,\"LIKELY_SCORE\":80,\"PLAUSIBLE_SCORE\":70,\"UN_LIKELY_SCORE\":60},{\"CFRTN_ID\":13,\"CFUNC_ID\":4,\"EXEC_ORDER\":1,\"CFUNC_RTNVAL\":\"FULL_SCORE\",\"SAME_SCORE\":97,\"CLOSE_SCORE\":85,\"LIKELY_SCORE\":70,\"PLAUSIBLE_SCORE\":65,\"UN_LIKELY_SCORE\":50},{\"CFRTN_ID\":9,\"CFUNC_ID\":5,\"EXEC_ORDER\":1,\"CFUNC_RTNVAL\":\"FULL_SCORE\",\"SAME_SCORE\":100,\"CLOSE_SCORE\":92,\"LIKELY_SCORE\":90,\"PLAUSIBLE_SCORE\":85,\"UN_LIKELY_SCORE\":80},{\"CFRTN_ID\":10,\"CFUNC_ID\":7,\"EXEC_ORDER\":1,\"CFUNC_RTNVAL\":\"FULL_SCORE\",\"SAME_SCORE\":100,\"CLOSE_SCORE\":90,\"LIKELY_SCORE\":80,\"PLAUSIBLE_SCORE\":70,\"UN_LIKELY_SCORE\":60},{\"CFRTN_ID\":11,\"CFUNC_ID\":8,\"EXEC_ORDER\":1,\"CFUNC_RTNVAL\":\"FULL_SCORE\",\"SAME_SCORE\":100,\"CLOSE_SCORE\":90,\"LIKELY_SCORE\":80,\"PLAUSIBLE_SCORE\":70,\"UN_LIKELY_SCORE\":60},{\"CFRTN_ID\":12,\"CFUNC_ID\":9,\"EXEC_ORDER\":1,\"CFUNC_RTNVAL\":\"FULL_SCORE\",\"SAME_SCORE\":100,\"CLOSE_SCORE\":90,\"LIKELY_SCORE\":85,\"PLAUSIBLE_SCORE\":80,\"UN_LIKELY_SCORE\":70},{\"CFRTN_ID\":15,\"CFUNC_ID\":10,\"EXEC_ORDER\":1,\"CFUNC_RTNVAL\":\"FULL_SCORE\",\"SAME_SCORE\":100,\"CLOSE_SCORE\":90,\"LIKELY_SCORE\":80,\"PLAUSIBLE_SCORE\":70,\"UN_LIKELY_SCORE\":60},{\"CFRTN_ID\":16,\"CFUNC_ID\":11,\"EXEC_ORDER\":1,\"CFUNC_RTNVAL\":\"FULL_SCORE\",\"SAME_SCORE\":100,\"CLOSE_SCORE\":90,\"LIKELY_SCORE\":80,\"PLAUSIBLE_SCORE\":70,\"UN_LIKELY_SCORE\":60},{\"CFRTN_ID\":17,\"CFUNC_ID\":12,\"EXEC_ORDER\":1,\"CFUNC_RTNVAL\":\"FULL_SCORE\",\"SAME_SCORE\":100,\"CLOSE_SCORE\":90,\"LIKELY_SCORE\":80,\"PLAUSIBLE_SCORE\":70,\"UN_LIKELY_SCORE\":60},{\"CFRTN_ID\":18,\"CFUNC_ID\":13,\"EXEC_ORDER\":1,\"CFUNC_RTNVAL\":\"FULL_SCORE\",\"SAME_SCORE\":100,\"CLOSE_SCORE\":90,\"LIKELY_SCORE\":80,\"PLAUSIBLE_SCORE\":70,\"UN_LIKELY_SCORE\":60},{\"CFRTN_ID\":19,\"CFUNC_ID\":14,\"EXEC_ORDER\":1,\"CFUNC_RTNVAL\":\"BT_FN\",\"SAME_SCORE\":89,\"CLOSE_SCORE\":79,\"LIKELY_SCORE\":72,\"PLAUSIBLE_SCORE\":70,\"UN_LIKELY_SCORE\":60},{\"CFRTN_ID\":22,\"CFUNC_ID\":14,\"EXEC_ORDER\":2,\"CFUNC_RTNVAL\":\"BT_ON\",\"SAME_SCORE\":99,\"CLOSE_SCORE\":90,\"LIKELY_SCORE\":80,\"PLAUSIBLE_SCORE\":70,\"UN_LIKELY_SCORE\":60},{\"CFRTN_ID\":23,\"CFUNC_ID\":14,\"EXEC_ORDER\":3,\"CFUNC_RTNVAL\":\"GENERATION_MATCH\",\"SAME_SCORE\":100,\"CLOSE_SCORE\":90,\"LIKELY_SCORE\":80,\"PLAUSIBLE_SCORE\":70,\"UN_LIKELY_SCORE\":60}],\"CFG_RTYPE\":[{\"RTYPE_ID\":1,\"RTYPE_CODE\":\"RESOLVED\",\"RCLASS_ID\":1,\"REL_STRENGTH\":10,\"BREAK_RES\":\"No\"},{\"RTYPE_ID\":2,\"RTYPE_CODE\":\"POSSIBLY_SAME\",\"RCLASS_ID\":1,\"REL_STRENGTH\":8,\"BREAK_RES\":\"No\"},{\"RTYPE_ID\":3,\"RTYPE_CODE\":\"POSSIBLY_RELATED\",\"RCLASS_ID\":1,\"REL_STRENGTH\":5,\"BREAK_RES\":\"No\"},{\"RTYPE_ID\":4,\"RTYPE_CODE\":\"NAME_ONLY\",\"RCLASS_ID\":1,\"REL_STRENGTH\":2,\"BREAK_RES\":\"No\"},{\"RTYPE_ID\":11,\"RTYPE_CODE\":\"DISCLOSED\",\"RCLASS_ID\":2,\"REL_STRENGTH\":10,\"BREAK_RES\":\"No\"}],\"CFG_GENERIC_THRESHOLD\":[{\"GPLAN_ID\":1,\"BEHAVIOR\":\"NAME\",\"FTYPE_ID\":0,\"CANDIDATE_CAP\":10,\"SCORING_CAP\":-1,\"SEND_TO_REDO\":\"No\"},{\"GPLAN_ID\":1,\"BEHAVIOR\":\"F1\",\"FTYPE_ID\":0,\"CANDIDATE_CAP\":5,\"SCORING_CAP\":5,\"SEND_TO_REDO\":\"Yes\"},{\"GPLAN_ID\":1,\"BEHAVIOR\":\"FF\",\"FTYPE_ID\":0,\"CANDIDATE_CAP\":10,\"SCORING_CAP\":30,\"SEND_TO_REDO\":\"Yes\"},{\"GPLAN_ID\":1,\"BEHAVIOR\":\"FM\",\"FTYPE_ID\":0,\"CANDIDATE_CAP\":5,\"SCORING_CAP\":-1,\"SEND_TO_REDO\":\"No\"},{\"GPLAN_ID\":1,\"BEHAVIOR\":\"FVM\",\"FTYPE_ID\":0,\"CANDIDATE_CAP\":5,\"SCORING_CAP\":-1,\"SEND_TO_REDO\":\"No\"},{\"GPLAN_ID\":1,\"BEHAVIOR\":\"F1E\",\"FTYPE_ID\":0,\"CANDIDATE_CAP\":5,\"SCORING_CAP\":50,\"SEND_TO_REDO\":\"Yes\"},{\"GPLAN_ID\":1,\"BEHAVIOR\":\"F1ES\",\"FTYPE_ID\":0,\"CANDIDATE_CAP\":5,\"SCORING_CAP\":50,\"SEND_TO_REDO\":\"Yes\"},{\"GPLAN_ID\":1,\"BEHAVIOR\":\"FFE\",\"FTYPE_ID\":0,\"CANDIDATE_CAP\":10,\"SCORING_CAP\":500,\"SEND_TO_REDO\":\"Yes\"},{\"GPLAN_ID\":1,\"BEHAVIOR\":\"FFES\",\"FTYPE_ID\":0,\"CANDIDATE_CAP\":10,\"SCORING_CAP\":500,\"SEND_TO_REDO\":\"Yes\"},{\"GPLAN_ID\":1,\"BEHAVIOR\":\"FME\",\"FTYPE_ID\":0,\"CANDIDATE_CAP\":5,\"SCORING_CAP\":-1,\"SEND_TO_REDO\":\"Yes\"},{\"GPLAN_ID\":1,\"BEHAVIOR\":\"FMES\",\"FTYPE_ID\":0,\"CANDIDATE_CAP\":5,\"SCORING_CAP\":-1,\"SEND_TO_REDO\":\"Yes\"},{\"GPLAN_ID\":1,\"BEHAVIOR\":\"FVME\",\"FTYPE_ID\":0,\"CANDIDATE_CAP\":5,\"SCORING_CAP\":-1,\"SEND_TO_REDO\":\"Yes\"},{\"GPLAN_ID\":1,\"BEHAVIOR\":\"FVMES\",\"FTYPE_ID\":0,\"CANDIDATE_CAP\":5,\"SCORING_CAP\":-1,\"SEND_TO_REDO\":\"Yes\"},{\"GPLAN_ID\":2,\"BEHAVIOR\":\"NAME\",\"FTYPE_ID\":0,\"CANDIDATE_CAP\":100,\"SCORING_CAP\":-1,\"SEND_TO_REDO\":\"No\"},{\"GPLAN_ID\":2,\"BEHAVIOR\":\"F1\",\"FTYPE_ID\":0,\"CANDIDATE_CAP\":20,\"SCORING_CAP\":-1,\"SEND_TO_REDO\":\"No\"},{\"GPLAN_ID\":2,\"BEHAVIOR\":\"FF\",\"FTYPE_ID\":0,\"CANDIDATE_CAP\":100,\"SCORING_CAP\":-1,\"SEND_TO_REDO\":\"No\"},{\"GPLAN_ID\":2,\"BEHAVIOR\":\"FM\",\"FTYPE_ID\":0,\"CANDIDATE_CAP\":20,\"SCORING_CAP\":-1,\"SEND_TO_REDO\":\"No\"},{\"GPLAN_ID\":2,\"BEHAVIOR\":\"FVM\",\"FTYPE_ID\":0,\"CANDIDATE_CAP\":20,\"SCORING_CAP\":-1,\"SEND_TO_REDO\":\"No\"},{\"GPLAN_ID\":2,\"BEHAVIOR\":\"F1E\",\"FTYPE_ID\":0,\"CANDIDATE_CAP\":10,\"SCORING_CAP\":-1,\"SEND_TO_REDO\":\"No\"},{\"GPLAN_ID\":2,\"BEHAVIOR\":\"F1ES\",\"FTYPE_ID\":0,\"CANDIDATE_CAP\":10,\"SCORING_CAP\":-1,\"SEND_TO_REDO\":\"No\"},{\"GPLAN_ID\":2,\"BEHAVIOR\":\"FFE\",\"FTYPE_ID\":0,\"CANDIDATE_CAP\":100,\"SCORING_CAP\":-1,\"SEND_TO_REDO\":\"No\"},{\"GPLAN_ID\":2,\"BEHAVIOR\":\"FFES\",\"FTYPE_ID\":0,\"CANDIDATE_CAP\":100,\"SCORING_CAP\":-1,\"SEND_TO_REDO\":\"No\"},{\"GPLAN_ID\":2,\"BEHAVIOR\":\"FME\",\"FTYPE_ID\":0,\"CANDIDATE_CAP\":20,\"SCORING_CAP\":-1,\"SEND_TO_REDO\":\"No\"},{\"GPLAN_ID\":2,\"BEHAVIOR\":\"FMES\",\"FTYPE_ID\":0,\"CANDIDATE_CAP\":20,\"SCORING_CAP\":-1,\"SEND_TO_REDO\":\"No\"},{\"GPLAN_ID\":2,\"BEHAVIOR\":\"FVME\",\"FTYPE_ID\":0,\"CANDIDATE_CAP\":20,\"SCORING_CAP\":-1,\"SEND_TO_REDO\":\"No\"},{\"GPLAN_ID\":2,\"BEHAVIOR\":\"FVMES\",\"FTYPE_ID\":0,\"CANDIDATE_CAP\":20,\"SCORING_CAP\":-1,\"SEND_TO_REDO\":\"No\"}],\"CFG_LENS\":[{\"LENS_ID\":1,\"LENS_CODE\":\"DEFAULT\",\"LENS_DESC\":\"Default lens\"}],\"CFG_FBOVR\":[{\"FTYPE_ID\":5,\"ECLASS_ID\":0,\"UTYPE_CODE\":\"BUSINESS\",\"FTYPE_FREQ\":\"FF\",\"FTYPE_EXCL\":\"Yes\",\"FTYPE_STAB\":\"No\"},{\"FTYPE_ID\":6,\"ECLASS_ID\":0,\"UTYPE_CODE\":\"MOBILE\",\"FTYPE_FREQ\":\"F1\",\"FTYPE_EXCL\":\"No\",\"FTYPE_STAB\":\"No\"}],\"CFG_ATTR\":[{\"ATTR_ID\":1312,\"ATTR_CODE\":\"ACCOUNT_DOMAIN\",\"ATTR_CLASS\":\"IDENTIFIER\",\"FELEM_CODE\":\"ACCT_DOMAIN\",\"FTYPE_CODE\":\"ACCT_NUM\",\"FELEM_REQ\":\"DESIRED\",\"DEFAULT_VALUE\":\"\",\"ADVANCED\":\"No\",\"INTERNAL\":\"No\"},{\"ATTR_ID\":1311,\"ATTR_CODE\":\"ACCOUNT_NUMBER\",\"ATTR_CLASS\":\"IDENTIFIER\",\"FELEM_CODE\":\"ACCT_NUM\",\"FTYPE_CODE\":\"ACCT_NUM\",\"FELEM_REQ\":\"YES\",\"DEFAULT_VALUE\":\"\",\"ADVANCED\":\"No\",\"INTERNAL\":\"No\"},{\"ATTR_ID\":1310,\"ATTR_CODE\":\"ACCOUNT_PREHASHED\",\"ATTR_CLASS\":\"IDENTIFIER\",\"FELEM_CODE\":\"<PREHASHED>\",\"FTYPE_CODE\":\"ACCT_NUM\",\"FELEM_REQ\":\"NO\",\"DEFAULT_VALUE\":\"\",\"ADVANCED\":\"Yes\",\"INTERNAL\":\"Yes\"},{\"ATTR_ID\":1600,\"ATTR_CODE\":\"ADDRESS_PREHASHED\",\"ATTR_CLASS\":\"ADDRESS\",\"FELEM_CODE\":\"<PREHASHED>\",\"FTYPE_CODE\":\"ADDRESS\",\"FELEM_REQ\":\"NO\",\"DEFAULT_VALUE\":\"\",\"ADVANCED\":\"Yes\",\"INTERNAL\":\"Yes\"},{\"ATTR_ID\":1608,\"ATTR_CODE\":\"ADDR_CITY\",\"ATTR_CLASS\":\"ADDRESS\",\"FELEM_CODE\":\"CITY\",\"FTYPE_CODE\":\"ADDRESS\",\"FELEM_REQ\":\"ANY\",\"DEFAULT_VALUE\":\"\",\"ADVANCED\":\"No\",\"INTERNAL\":\"No\"},{\"ATTR_ID\":1617,\"ATTR_CODE\":\"ADDR_CITY_METAPHONE\",\"ATTR_CLASS\":\"ADDRESS\",\"FELEM_CODE\":\"CITY_METAPHONE\",\"FTYPE_CODE\":\"ADDRESS\",\"FELEM_REQ\":\"NO\",\"DEFAULT_VALUE\":\"\",\"ADVANCED\":\"Yes\",\"INTERNAL\":\"Yes\"},{\"ATTR_ID\":1619,\"ATTR_CODE\":\"ADDR_CITY_STD\",\"ATTR_CLASS\":\"ADDRESS\",\"FELEM_CODE\":\"CITY_STD\",\"FTYPE_CODE\":\"ADDRESS\",\"FELEM_REQ\":\"NO\",\"DEFAULT_VALUE\":\"\",\"ADVANCED\":\"Yes\",\"INTERNAL\":\"Yes\"},{\"ATTR_ID\":1611,\"ATTR_CODE\":\"ADDR_COUNTRY\",\"ATTR_CLASS\":\"ADDRESS\",\"FELEM_CODE\":\"COUNTRY\",\"FTYPE_CODE\":\"ADDRESS\",\"FELEM_REQ\":\"ANY\",\"DEFAULT_VALUE\":\"\",\"ADVANCED\":\"No\",\"INTERNAL\":\"No\"},{\"ATTR_ID\":1624,\"ATTR_CODE\":\"ADDR_FROM_DATE\",\"ATTR_CLASS\":\"ADDRESS\",\"FELEM_CODE\":\"USED_FROM_DT\",\"FTYPE_CODE\":\"ADDRESS\",\"FELEM_REQ\":\"NO\",\"DEFAULT_VALUE\":\"\",\"ADVANCED\":\"Yes\",\"INTERNAL\":\"No\"},{\"ATTR_ID\":1601,\"ATTR_CODE\":\"ADDR_FULL\",\"ATTR_CLASS\":\"ADDRESS\",\"FELEM_CODE\":\"ADDR_FULL\",\"FTYPE_CODE\":\"ADDRESS\",\"FELEM_REQ\":\"ANY\",\"DEFAULT_VALUE\":\"\",\"ADVANCED\":\"No\",\"INTERNAL\":\"No\"},{\"ATTR_ID\":1622,\"ATTR_CODE\":\"ADDR_LIBPOSTAL_PARSE\",\"ATTR_CLASS\":\"ADDRESS\",\"FELEM_CODE\":\"LIBPOSTAL_PARSE\",\"FTYPE_CODE\":\"ADDRESS\",\"FELEM_REQ\":\"NO\",\"DEFAULT_VALUE\":\"\",\"ADVANCED\":\"Yes\",\"INTERNAL\":\"Yes\"},{\"ATTR_ID\":1602,\"ATTR_CODE\":\"ADDR_LINE1\",\"ATTR_CLASS\":\"ADDRESS\",\"FELEM_CODE\":\"ADDR1\",\"FTYPE_CODE\":\"ADDRESS\",\"FELEM_REQ\":\"ANY\",\"DEFAULT_VALUE\":\"\",\"ADVANCED\":\"No\",\"INTERNAL\":\"No\"},{\"ATTR_ID\":1603,\"ATTR_CODE\":\"ADDR_LINE2\",\"ATTR_CLASS\":\"ADDRESS\",\"FELEM_CODE\":\"ADDR2\",\"FTYPE_CODE\":\"ADDRESS\",\"FELEM_REQ\":\"NO\",\"DEFAULT_VALUE\":\"\",\"ADVANCED\":\"No\",\"INTERNAL\":\"No\"},{\"ATTR_ID\":1604,\"ATTR_CODE\":\"ADDR_LINE3\",\"ATTR_CLASS\":\"ADDRESS\",\"FELEM_CODE\":\"ADDR3\",\"FTYPE_CODE\":\"ADDRESS\",\"FELEM_REQ\":\"NO\",\"DEFAULT_VALUE\":\"\",\"ADVANCED\":\"No\",\"INTERNAL\":\"No\"},{\"ATTR_ID\":1605,\"ATTR_CODE\":\"ADDR_LINE4\",\"ATTR_CLASS\":\"ADDRESS\",\"FELEM_CODE\":\"ADDR4\",\"FTYPE_CODE\":\"ADDRESS\",\"FELEM_REQ\":\"NO\",\"DEFAULT_VALUE\":\"\",\"ADVANCED\":\"No\",\"INTERNAL\":\"No\"},{\"ATTR_ID\":1606,\"ATTR_CODE\":\"ADDR_LINE5\",\"ATTR_CLASS\":\"ADDRESS\",\"FELEM_CODE\":\"ADDR5\",\"FTYPE_CODE\":\"ADDRESS\",\"FELEM_REQ\":\"NO\",\"DEFAULT_VALUE\":\"\",\"ADVANCED\":\"No\",\"INTERNAL\":\"No\"},{\"ATTR_ID\":1607,\"ATTR_CODE\":\"ADDR_LINE6\",\"ATTR_CLASS\":\"ADDRESS\",\"FELEM_CODE\":\"ADDR6\",\"FTYPE_CODE\":\"ADDRESS\",\"FELEM_REQ\":\"NO\",\"DEFAULT_VALUE\":\"\",\"ADVANCED\":\"No\",\"INTERNAL\":\"No\"},{\"ATTR_ID\":1626,\"ATTR_CODE\":\"ADDR_PLACEKEY\",\"ATTR_CLASS\":\"ADDRESS\",\"FELEM_CODE\":\"PLACEKEY\",\"FTYPE_CODE\":\"ADDRESS\",\"FELEM_REQ\":\"NO\",\"DEFAULT_VALUE\":\"\",\"ADVANCED\":\"Yes\",\"INTERNAL\":\"No\"},{\"ATTR_ID\":1620,\"ATTR_CODE\":\"ADDR_POSTAL_5\",\"ATTR_CLASS\":\"ADDRESS\",\"FELEM_CODE\":\"POSTAL_5\",\"FTYPE_CODE\":\"ADDRESS\",\"FELEM_REQ\":\"NO\",\"DEFAULT_VALUE\":\"\",\"ADVANCED\":\"Yes\",\"INTERNAL\":\"Yes\"},{\"ATTR_ID\":1610,\"ATTR_CODE\":\"ADDR_POSTAL_CODE\",\"ATTR_CLASS\":\"ADDRESS\",\"FELEM_CODE\":\"POSTAL_CODE\",\"FTYPE_CODE\":\"ADDRESS\",\"FELEM_REQ\":\"ANY\",\"DEFAULT_VALUE\":\"\",\"ADVANCED\":\"No\",\"INTERNAL\":\"No\"},{\"ATTR_ID\":1621,\"ATTR_CODE\":\"ADDR_SCRIPT\",\"ATTR_CLASS\":\"ADDRESS\",\"FELEM_CODE\":\"SCRIPT\",\"FTYPE_CODE\":\"ADDRESS\",\"FELEM_REQ\":\"NO\",\"DEFAULT_VALUE\":\"\",\"ADVANCED\":\"Yes\",\"INTERNAL\":\"Yes\"},{\"ATTR_ID\":1609,\"ATTR_CODE\":\"ADDR_STATE\",\"ATTR_CLASS\":\"ADDRESS\",\"FELEM_CODE\":\"STATE\",\"FTYPE_CODE\":\"ADDRESS\",\"FELEM_REQ\":\"NO\",\"DEFAULT_VALUE\":\"\",\"ADVANCED\":\"No\",\"INTERNAL\":\"No\"},{\"ATTR_ID\":1613,\"ATTR_CODE\":\"ADDR_STR_NAME\",\"ATTR_CLASS\":\"ADDRESS\",\"FELEM_CODE\":\"STR_NAME\",\"FTYPE_CODE\":\"ADDRESS\",\"FELEM_REQ\":\"NO\",\"DEFAULT_VALUE\":\"\",\"ADVANCED\":\"Yes\",\"INTERNAL\":\"Yes\"},{\"ATTR_ID\":1616,\"ATTR_CODE\":\"ADDR_STR_NAME_METAPHONE\",\"ATTR_CLASS\":\"ADDRESS\",\"FELEM_CODE\":\"STR_NAME_METAPHONE\",\"FTYPE_CODE\":\"ADDRESS\",\"FELEM_REQ\":\"NO\",\"DEFAULT_VALUE\":\"\",\"ADVANCED\":\"Yes\",\"INTERNAL\":\"Yes\"},{\"ATTR_ID\":1618,\"ATTR_CODE\":\"ADDR_STR_NAME_STD\",\"ATTR_CLASS\":\"ADDRESS\",\"FELEM_CODE\":\"STR_NAME_STD\",\"FTYPE_CODE\":\"ADDRESS\",\"FELEM_REQ\":\"NO\",\"DEFAULT_VALUE\":\"\",\"ADVANCED\":\"Yes\",\"INTERNAL\":\"Yes\"},{\"ATTR_ID\":1612,\"ATTR_CODE\":\"ADDR_STR_NUM\",\"ATTR_CLASS\":\"ADDRESS\",\"FELEM_CODE\":\"STR_NUM\",\"FTYPE_CODE\":\"ADDRESS\",\"FELEM_REQ\":\"NO\",\"DEFAULT_VALUE\":\"\",\"ADVANCED\":\"Yes\",\"INTERNAL\":\"Yes\"},{\"ATTR_ID\":1625,\"ATTR_CODE\":\"ADDR_THRU_DATE\",\"ATTR_CLASS\":\"ADDRESS\",\"FELEM_CODE\":\"USED_THRU_DT\",\"FTYPE_CODE\":\"ADDRESS\",\"FELEM_REQ\":\"NO\",\"DEFAULT_VALUE\":\"\",\"ADVANCED\":\"Yes\",\"INTERNAL\":\"No\"},{\"ATTR_ID\":1623,\"ATTR_CODE\":\"ADDR_TYPE\",\"ATTR_CLASS\":\"ADDRESS\",\"FELEM_CODE\":\"USAGE_TYPE\",\"FTYPE_CODE\":\"ADDRESS\",\"FELEM_REQ\":\"NO\",\"DEFAULT_VALUE\":\"\",\"ADVANCED\":\"Yes\",\"INTERNAL\":\"No\"},{\"ATTR_ID\":1615,\"ATTR_CODE\":\"ADDR_UNIT_NUM\",\"ATTR_CLASS\":\"ADDRESS\",\"FELEM_CODE\":\"UNIT_NUM\",\"FTYPE_CODE\":\"ADDRESS\",\"FELEM_REQ\":\"NO\",\"DEFAULT_VALUE\":\"\",\"ADVANCED\":\"Yes\",\"INTERNAL\":\"Yes\"},{\"ATTR_ID\":1614,\"ATTR_CODE\":\"ADDR_UNIT_TYPE\",\"ATTR_CLASS\":\"ADDRESS\",\"FELEM_CODE\":\"UNIT_TYPE\",\"FTYPE_CODE\":\"ADDRESS\",\"FELEM_REQ\":\"NO\",\"DEFAULT_VALUE\":\"\",\"ADVANCED\":\"Yes\",\"INTERNAL\":\"Yes\"},{\"ATTR_ID\":1241,\"ATTR_CODE\":\"CITIZENSHIP\",\"ATTR_CLASS\":\"ATTRIBUTE\",\"FELEM_CODE\":\"COUNTRY\",\"FTYPE_CODE\":\"CITIZENSHIP\",\"FELEM_REQ\":\"YES\",\"DEFAULT_VALUE\":\"\",\"ADVANCED\":\"No\",\"INTERNAL\":\"No\"},{\"ATTR_ID\":1240,\"ATTR_CODE\":\"CITIZENSHIP_PREHASHED\",\"ATTR_CLASS\":\"ATTRIBUTE\",\"FELEM_CODE\":\"<PREHASHED>\",\"FTYPE_CODE\":\"CITIZENSHIP\",\"FELEM_REQ\":\"NO\",\"DEFAULT_VALUE\":\"\",\"ADVANCED\":\"Yes\",\"INTERNAL\":\"Yes\"},{\"ATTR_ID\":2701,\"ATTR_CODE\":\"COUNTRY_OF_ASSOCIATION\",\"ATTR_CLASS\":\"ATTRIBUTE\",\"FELEM_CODE\":\"COUNTRY\",\"FTYPE_CODE\":\"COUNTRY_OF_ASSOCIATION\",\"FELEM_REQ\":\"YES\",\"DEFAULT_VALUE\":\"\",\"ADVANCED\":\"No\",\"INTERNAL\":\"No\"},{\"ATTR_ID\":1001,\"ATTR_CODE\":\"DATA_SOURCE\",\"ATTR_CLASS\":\"OBSERVATION\",\"FELEM_CODE\":\"\",\"FTYPE_CODE\":\"\",\"FELEM_REQ\":\"YES\",\"DEFAULT_VALUE\":\"\",\"ADVANCED\":\"Yes\",\"INTERNAL\":\"No\"},{\"ATTR_ID\":1221,\"ATTR_CODE\":\"DATE_OF_BIRTH\",\"ATTR_CLASS\":\"ATTRIBUTE\",\"FELEM_CODE\":\"DATE\",\"FTYPE_CODE\":\"DOB\",\"FELEM_REQ\":\"YES\",\"DEFAULT_VALUE\":\"\",\"ADVANCED\":\"No\",\"INTERNAL\":\"No\"},{\"ATTR_ID\":1261,\"ATTR_CODE\":\"DATE_OF_DEATH\",\"ATTR_CLASS\":\"ATTRIBUTE\",\"FELEM_CODE\":\"DATE\",\"FTYPE_CODE\":\"DOD\",\"FELEM_REQ\":\"YES\",\"DEFAULT_VALUE\":\"\",\"ADVANCED\":\"No\",\"INTERNAL\":\"No\"},{\"ATTR_ID\":1224,\"ATTR_CODE\":\"DOB_DAY\",\"ATTR_CLASS\":\"ATTRIBUTE\",\"FELEM_CODE\":\"DATE_DAY\",\"FTYPE_CODE\":\"DOB\",\"FELEM_REQ\":\"NO\",\"DEFAULT_VALUE\":\"\",\"ADVANCED\":\"Yes\",\"INTERNAL\":\"Yes\"},{\"ATTR_ID\":1225,\"ATTR_CODE\":\"DOB_HASH\",\"ATTR_CLASS\":\"ATTRIBUTE\",\"FELEM_CODE\":\"DATE_HASH\",\"FTYPE_CODE\":\"DOB\",\"FELEM_REQ\":\"NO\",\"DEFAULT_VALUE\":\"\",\"ADVANCED\":\"Yes\",\"INTERNAL\":\"Yes\"},{\"ATTR_ID\":1223,\"ATTR_CODE\":\"DOB_MONTH\",\"ATTR_CLASS\":\"ATTRIBUTE\",\"FELEM_CODE\":\"DATE_MONTH\",\"FTYPE_CODE\":\"DOB\",\"FELEM_REQ\":\"NO\",\"DEFAULT_VALUE\":\"\",\"ADVANCED\":\"Yes\",\"INTERNAL\":\"Yes\"},{\"ATTR_ID\":1220,\"ATTR_CODE\":\"DOB_PREHASHED\",\"ATTR_CLASS\":\"ATTRIBUTE\",\"FELEM_CODE\":\"<PREHASHED>\",\"FTYPE_CODE\":\"DOB\",\"FELEM_REQ\":\"NO\",\"DEFAULT_VALUE\":\"\",\"ADVANCED\":\"Yes\",\"INTERNAL\":\"Yes\"},{\"ATTR_ID\":1222,\"ATTR_CODE\":\"DOB_YEAR\",\"ATTR_CLASS\":\"ATTRIBUTE\",\"FELEM_CODE\":\"DATE_YEAR\",\"FTYPE_CODE\":\"DOB\",\"FELEM_REQ\":\"NO\",\"DEFAULT_VALUE\":\"\",\"ADVANCED\":\"Yes\",\"INTERNAL\":\"Yes\"},{\"ATTR_ID\":1264,\"ATTR_CODE\":\"DOD_DAY\",\"ATTR_CLASS\":\"ATTRIBUTE\",\"FELEM_CODE\":\"DATE_DAY\",\"FTYPE_CODE\":\"DOD\",\"FELEM_REQ\":\"NO\",\"DEFAULT_VALUE\":\"\",\"ADVANCED\":\"Yes\",\"INTERNAL\":\"Yes\"},{\"ATTR_ID\":1265,\"ATTR_CODE\":\"DOD_HASH\",\"ATTR_CLASS\":\"ATTRIBUTE\",\"FELEM_CODE\":\"DATE_HASH\",\"FTYPE_CODE\":\"DOD\",\"FELEM_REQ\":\"NO\",\"DEFAULT_VALUE\":\"\",\"ADVANCED\":\"Yes\",\"INTERNAL\":\"Yes\"},{\"ATTR_ID\":1263,\"ATTR_CODE\":\"DOD_MONTH\",\"ATTR_CLASS\":\"ATTRIBUTE\",\"FELEM_CODE\":\"DATE_MONTH\",\"FTYPE_CODE\":\"DOD\",\"FELEM_REQ\":\"NO\",\"DEFAULT_VALUE\":\"\",\"ADVANCED\":\"Yes\",\"INTERNAL\":\"Yes\"},{\"ATTR_ID\":1260,\"ATTR_CODE\":\"DOD_PREHASHED\",\"ATTR_CLASS\":\"ATTRIBUTE\",\"FELEM_CODE\":\"<PREHASHED>\",\"FTYPE_CODE\":\"DOD\",\"FELEM_REQ\":\"NO\",\"DEFAULT_VALUE\":\"\",\"ADVANCED\":\"Yes\",\"INTERNAL\":\"Yes\"},{\"ATTR_ID\":1262,\"ATTR_CODE\":\"DOD_YEAR\",\"ATTR_CLASS\":\"ATTRIBUTE\",\"FELEM_CODE\":\"DATE_YEAR\",\"FTYPE_CODE\":\"DOD\",\"FELEM_REQ\":\"NO\",\"DEFAULT_VALUE\":\"\",\"ADVANCED\":\"Yes\",\"INTERNAL\":\"Yes\"},{\"ATTR_ID\":1334,\"ATTR_CODE\":\"DRIVERS_LICENSE_EXPIRE_DT\",\"ATTR_CLASS\":\"IDENTIFIER\",\"FELEM_CODE\":\"EXPIRE_DATE\",\"FTYPE_CODE\":\"DRLIC\",\"FELEM_REQ\":\"NO\",\"DEFAULT_VALUE\":\"\",\"ADVANCED\":\"Yes\",\"INTERNAL\":\"No\"},{\"ATTR_ID\":1333,\"ATTR_CODE\":\"DRIVERS_LICENSE_ISSUE_DT\",\"ATTR_CLASS\":\"IDENTIFIER\",\"FELEM_CODE\":\"ISSUE_DATE\",\"FTYPE_CODE\":\"DRLIC\",\"FELEM_REQ\":\"NO\",\"DEFAULT_VALUE\":\"\",\"ADVANCED\":\"Yes\",\"INTERNAL\":\"No\"},{\"ATTR_ID\":1331,\"ATTR_CODE\":\"DRIVERS_LICENSE_NUMBER\",\"ATTR_CLASS\":\"IDENTIFIER\",\"FELEM_CODE\":\"ID_NUM\",\"FTYPE_CODE\":\"DRLIC\",\"FELEM_REQ\":\"YES\",\"DEFAULT_VALUE\":\"\",\"ADVANCED\":\"No\",\"INTERNAL\":\"No\"},{\"ATTR_ID\":1332,\"ATTR_CODE\":\"DRIVERS_LICENSE_STATE\",\"ATTR_CLASS\":\"IDENTIFIER\",\"FELEM_CODE\":\"STATE\",\"FTYPE_CODE\":\"DRLIC\",\"FELEM_REQ\":\"DESIRED\",\"DEFAULT_VALUE\":\"\",\"ADVANCED\":\"No\",\"INTERNAL\":\"No\"},{\"ATTR_ID\":1335,\"ATTR_CODE\":\"DRLIC_NUMSTD\",\"ATTR_CLASS\":\"IDENTIFIER\",\"FELEM_CODE\":\"ID_NUM_STD\",\"FTYPE_CODE\":\"DRLIC\",\"FELEM_REQ\":\"NO\",\"DEFAULT_VALUE\":\"\",\"ADVANCED\":\"Yes\",\"INTERNAL\":\"Yes\"},{\"ATTR_ID\":1330,\"ATTR_CODE\":\"DRLIC_PREHASHED\",\"ATTR_CLASS\":\"IDENTIFIER\",\"FELEM_CODE\":\"<PREHASHED>\",\"FTYPE_CODE\":\"DRLIC\",\"FELEM_REQ\":\"NO\",\"DEFAULT_VALUE\":\"\",\"ADVANCED\":\"Yes\",\"INTERNAL\":\"Yes\"},{\"ATTR_ID\":1007,\"ATTR_CODE\":\"DSRC_ACTION\",\"ATTR_CLASS\":\"OBSERVATION\",\"FELEM_CODE\":\"\",\"FTYPE_CODE\":\"\",\"FELEM_REQ\":\"YES\",\"DEFAULT_VALUE\":\"\",\"ADVANCED\":\"Yes\",\"INTERNAL\":\"No\"},{\"ATTR_ID\":2501,\"ATTR_CODE\":\"DUNS_NUMBER\",\"ATTR_CLASS\":\"IDENTIFIER\",\"FELEM_CODE\":\"ID_NUM\",\"FTYPE_CODE\":\"DUNS_NUMBER\",\"FELEM_REQ\":\"YES\",\"DEFAULT_VALUE\":\"\",\"ADVANCED\":\"No\",\"INTERNAL\":\"No\"},{\"ATTR_ID\":1511,\"ATTR_CODE\":\"EMAIL_ADDRESS\",\"ATTR_CLASS\":\"IDENTIFIER\",\"FELEM_CODE\":\"ADDR\",\"FTYPE_CODE\":\"EMAIL\",\"FELEM_REQ\":\"YES\",\"DEFAULT_VALUE\":\"\",\"ADVANCED\":\"No\",\"INTERNAL\":\"No\"},{\"ATTR_ID\":1513,\"ATTR_CODE\":\"EMAIL_FROM_DATE\",\"ATTR_CLASS\":\"IDENTIFIER\",\"FELEM_CODE\":\"USED_FROM_DT\",\"FTYPE_CODE\":\"EMAIL\",\"FELEM_REQ\":\"NO\",\"DEFAULT_VALUE\":\"\",\"ADVANCED\":\"Yes\",\"INTERNAL\":\"No\"},{\"ATTR_ID\":1510,\"ATTR_CODE\":\"EMAIL_PREHASHED\",\"ATTR_CLASS\":\"IDENTIFIER\",\"FELEM_CODE\":\"<PREHASHED>\",\"FTYPE_CODE\":\"EMAIL\",\"FELEM_REQ\":\"NO\",\"DEFAULT_VALUE\":\"\",\"ADVANCED\":\"Yes\",\"INTERNAL\":\"Yes\"},{\"ATTR_ID\":1514,\"ATTR_CODE\":\"EMAIL_THRU_DATE\",\"ATTR_CLASS\":\"IDENTIFIER\",\"FELEM_CODE\":\"USED_THRU_DT\",\"FTYPE_CODE\":\"EMAIL\",\"FELEM_REQ\":\"NO\",\"DEFAULT_VALUE\":\"\",\"ADVANCED\":\"Yes\",\"INTERNAL\":\"No\"},{\"ATTR_ID\":1512,\"ATTR_CODE\":\"EMAIL_TYPE\",\"ATTR_CLASS\":\"IDENTIFIER\",\"FELEM_CODE\":\"USAGE_TYPE\",\"FTYPE_CODE\":\"EMAIL\",\"FELEM_REQ\":\"NO\",\"DEFAULT_VALUE\":\"\",\"ADVANCED\":\"Yes\",\"INTERNAL\":\"No\"},{\"ATTR_ID\":2302,\"ATTR_CODE\":\"EMPLOYER\",\"ATTR_CLASS\":\"ATTRIBUTE\",\"FELEM_CODE\":\"ORG_NAME\",\"FTYPE_CODE\":\"EMPLOYER\",\"FELEM_REQ\":\"YES\",\"DEFAULT_VALUE\":\"\",\"ADVANCED\":\"No\",\"INTERNAL\":\"No\"},{\"ATTR_ID\":2301,\"ATTR_CODE\":\"EMPLOYER_TYPE\",\"ATTR_CLASS\":\"ATTRIBUTE\",\"FELEM_CODE\":\"TYPE\",\"FTYPE_CODE\":\"EMPLOYER\",\"FELEM_REQ\":\"NO\",\"DEFAULT_VALUE\":\"EMPLOYER\",\"ADVANCED\":\"Yes\",\"INTERNAL\":\"Yes\"},{\"ATTR_ID\":1004,\"ATTR_CODE\":\"ENTITY_TYPE\",\"ATTR_CLASS\":\"OBSERVATION\",\"FELEM_CODE\":\"\",\"FTYPE_CODE\":\"\",\"FELEM_REQ\":\"YES\",\"DEFAULT_VALUE\":\"\",\"ADVANCED\":\"Yes\",\"INTERNAL\":\"No\"},{\"ATTR_ID\":2304,\"ATTR_CODE\":\"FACEBOOK\",\"ATTR_CLASS\":\"IDENTIFIER\",\"FELEM_CODE\":\"LOGIN_ID\",\"FTYPE_CODE\":\"FACEBOOK\",\"FELEM_REQ\":\"YES\",\"DEFAULT_VALUE\":\"NONE\",\"ADVANCED\":\"No\",\"INTERNAL\":\"No\"},{\"ATTR_ID\":1210,\"ATTR_CODE\":\"GENDER\",\"ATTR_CLASS\":\"ATTRIBUTE\",\"FELEM_CODE\":\"GENDER\",\"FTYPE_CODE\":\"GENDER\",\"FELEM_REQ\":\"YES\",\"DEFAULT_VALUE\":\"\",\"ADVANCED\":\"No\",\"INTERNAL\":\"No\"},{\"ATTR_ID\":1902,\"ATTR_CODE\":\"GEO_LATITUDE\",\"ATTR_CLASS\":\"ADDRESS\",\"FELEM_CODE\":\"LATITUDE\",\"FTYPE_CODE\":\"GEO_LOC\",\"FELEM_REQ\":\"ANY\",\"DEFAULT_VALUE\":\"\",\"ADVANCED\":\"Yes\",\"INTERNAL\":\"No\"},{\"ATTR_ID\":1901,\"ATTR_CODE\":\"GEO_LATLONG\",\"ATTR_CLASS\":\"ADDRESS\",\"FELEM_CODE\":\"LATLONG\",\"FTYPE_CODE\":\"GEO_LOC\",\"FELEM_REQ\":\"ANY\",\"DEFAULT_VALUE\":\"\",\"ADVANCED\":\"Yes\",\"INTERNAL\":\"No\"},{\"ATTR_ID\":1903,\"ATTR_CODE\":\"GEO_LONGITUDE\",\"ATTR_CLASS\":\"ADDRESS\",\"FELEM_CODE\":\"LONGITUDE\",\"FTYPE_CODE\":\"GEO_LOC\",\"FELEM_REQ\":\"ANY\",\"DEFAULT_VALUE\":\"\",\"ADVANCED\":\"Yes\",\"INTERNAL\":\"No\"},{\"ATTR_ID\":1904,\"ATTR_CODE\":\"GEO_PRECISION\",\"ATTR_CLASS\":\"ADDRESS\",\"FELEM_CODE\":\"GEO_PRECISION\",\"FTYPE_CODE\":\"GEO_LOC\",\"FELEM_REQ\":\"NO\",\"DEFAULT_VALUE\":\"\",\"ADVANCED\":\"Yes\",\"INTERNAL\":\"No\"},{\"ATTR_ID\":2442,\"ATTR_CODE\":\"GROUP_ASSN_ID_NUMBER\",\"ATTR_CLASS\":\"ATTRIBUTE\",\"FELEM_CODE\":\"ID_NUM\",\"FTYPE_CODE\":\"GROUP_ASSN_ID\",\"FELEM_REQ\":\"YES\",\"DEFAULT_VALUE\":\"\",\"ADVANCED\":\"No\",\"INTERNAL\":\"No\"},{\"ATTR_ID\":2441,\"ATTR_CODE\":\"GROUP_ASSN_ID_TYPE\",\"ATTR_CLASS\":\"ATTRIBUTE\",\"FELEM_CODE\":\"ID_TYPE\",\"FTYPE_CODE\":\"GROUP_ASSN_ID\",\"FELEM_REQ\":\"YES\",\"DEFAULT_VALUE\":\"\",\"ADVANCED\":\"No\",\"INTERNAL\":\"No\"},{\"ATTR_ID\":2002,\"ATTR_CODE\":\"GROUP_ASSOCIATION_ORG_NAME\",\"ATTR_CLASS\":\"ATTRIBUTE\",\"FELEM_CODE\":\"ORG_NAME\",\"FTYPE_CODE\":\"GROUP_ASSOCIATION\",\"FELEM_REQ\":\"YES\",\"DEFAULT_VALUE\":\"\",\"ADVANCED\":\"No\",\"INTERNAL\":\"No\"},{\"ATTR_ID\":2000,\"ATTR_CODE\":\"GROUP_ASSOCIATION_PREHASHED\",\"ATTR_CLASS\":\"ATTRIBUTE\",\"FELEM_CODE\":\"<PREHASHED>\",\"FTYPE_CODE\":\"GROUP_ASSOCIATION\",\"FELEM_REQ\":\"NO\",\"DEFAULT_VALUE\":\"\",\"ADVANCED\":\"Yes\",\"INTERNAL\":\"Yes\"},{\"ATTR_ID\":2001,\"ATTR_CODE\":\"GROUP_ASSOCIATION_TYPE\",\"ATTR_CLASS\":\"ATTRIBUTE\",\"FELEM_CODE\":\"TYPE\",\"FTYPE_CODE\":\"GROUP_ASSOCIATION\",\"FELEM_REQ\":\"NO\",\"DEFAULT_VALUE\":\"(ORG)\",\"ADVANCED\":\"No\",\"INTERNAL\":\"No\"},{\"ATTR_ID\":2308,\"ATTR_CODE\":\"INSTAGRAM\",\"ATTR_CLASS\":\"IDENTIFIER\",\"FELEM_CODE\":\"LOGIN_ID\",\"FTYPE_CODE\":\"INSTAGRAM\",\"FELEM_REQ\":\"YES\",\"DEFAULT_VALUE\":\"NONE\",\"ADVANCED\":\"No\",\"INTERNAL\":\"No\"},{\"ATTR_ID\":2521,\"ATTR_CODE\":\"LEI_NUMBER\",\"ATTR_CLASS\":\"IDENTIFIER\",\"FELEM_CODE\":\"ID_NUM\",\"FTYPE_CODE\":\"LEI_NUMBER\",\"FELEM_REQ\":\"YES\",\"DEFAULT_VALUE\":\"\",\"ADVANCED\":\"No\",\"INTERNAL\":\"No\"},{\"ATTR_ID\":2303,\"ATTR_CODE\":\"LINKEDIN\",\"ATTR_CLASS\":\"IDENTIFIER\",\"FELEM_CODE\":\"LOGIN_ID\",\"FTYPE_CODE\":\"LINKEDIN\",\"FELEM_REQ\":\"YES\",\"DEFAULT_VALUE\":\"NONE\",\"ADVANCED\":\"No\",\"INTERNAL\":\"No\"},{\"ATTR_ID\":1006,\"ATTR_CODE\":\"LOAD_ID\",\"ATTR_CLASS\":\"OBSERVATION\",\"FELEM_CODE\":\"\",\"FTYPE_CODE\":\"\",\"FELEM_REQ\":\"YES\",\"DEFAULT_VALUE\":\"\",\"ADVANCED\":\"Yes\",\"INTERNAL\":\"No\"},{\"ATTR_ID\":2710,\"ATTR_CODE\":\"MOBILE_AD_ID\",\"ATTR_CLASS\":\"IDENTIFIER\",\"FELEM_CODE\":\"ID_NUM\",\"FTYPE_CODE\":\"MOBILE_AD_ID\",\"FELEM_REQ\":\"YES\",\"DEFAULT_VALUE\":\"\",\"ADVANCED\":\"No\",\"INTERNAL\":\"No\"},{\"ATTR_ID\":1105,\"ATTR_CODE\":\"NAME_FIRST\",\"ATTR_CLASS\":\"NAME\",\"FELEM_CODE\":\"GIVEN_NAME\",\"FTYPE_CODE\":\"NAME\",\"FELEM_REQ\":\"ANY\",\"DEFAULT_VALUE\":\"\",\"ADVANCED\":\"No\",\"INTERNAL\":\"No\"},{\"ATTR_ID\":1102,\"ATTR_CODE\":\"NAME_FULL\",\"ATTR_CLASS\":\"NAME\",\"FELEM_CODE\":\"FULL_NAME\",\"FTYPE_CODE\":\"NAME\",\"FELEM_REQ\":\"ANY\",\"DEFAULT_VALUE\":\"\",\"ADVANCED\":\"No\",\"INTERNAL\":\"No\"},{\"ATTR_ID\":1109,\"ATTR_CODE\":\"NAME_GEN\",\"ATTR_CLASS\":\"NAME\",\"FELEM_CODE\":\"NAME_GEN\",\"FTYPE_CODE\":\"NAME\",\"FELEM_REQ\":\"NO\",\"DEFAULT_VALUE\":\"\",\"ADVANCED\":\"Yes\",\"INTERNAL\":\"No\"},{\"ATTR_ID\":1104,\"ATTR_CODE\":\"NAME_LAST\",\"ATTR_CLASS\":\"NAME\",\"FELEM_CODE\":\"SUR_NAME\",\"FTYPE_CODE\":\"NAME\",\"FELEM_REQ\":\"ANY\",\"DEFAULT_VALUE\":\"\",\"ADVANCED\":\"No\",\"INTERNAL\":\"No\"},{\"ATTR_ID\":1106,\"ATTR_CODE\":\"NAME_MIDDLE\",\"ATTR_CLASS\":\"NAME\",\"FELEM_CODE\":\"MIDDLE_NAME\",\"FTYPE_CODE\":\"NAME\",\"FELEM_REQ\":\"NO\",\"DEFAULT_VALUE\":\"\",\"ADVANCED\":\"No\",\"INTERNAL\":\"No\"},{\"ATTR_ID\":1103,\"ATTR_CODE\":\"NAME_ORG\",\"ATTR_CLASS\":\"NAME\",\"FELEM_CODE\":\"ORG_NAME\",\"FTYPE_CODE\":\"NAME\",\"FELEM_REQ\":\"ANY\",\"DEFAULT_VALUE\":\"\",\"ADVANCED\":\"No\",\"INTERNAL\":\"No\"},{\"ATTR_ID\":1107,\"ATTR_CODE\":\"NAME_PREFIX\",\"ATTR_CLASS\":\"NAME\",\"FELEM_CODE\":\"NAME_PREFIX\",\"FTYPE_CODE\":\"NAME\",\"FELEM_REQ\":\"NO\",\"DEFAULT_VALUE\":\"\",\"ADVANCED\":\"No\",\"INTERNAL\":\"No\"},{\"ATTR_ID\":1108,\"ATTR_CODE\":\"NAME_SUFFIX\",\"ATTR_CLASS\":\"NAME\",\"FELEM_CODE\":\"NAME_SUFFIX\",\"FTYPE_CODE\":\"NAME\",\"FELEM_REQ\":\"NO\",\"DEFAULT_VALUE\":\"\",\"ADVANCED\":\"No\",\"INTERNAL\":\"No\"},{\"ATTR_ID\":1101,\"ATTR_CODE\":\"NAME_TYPE\",\"ATTR_CLASS\":\"NAME\",\"FELEM_CODE\":\"USAGE_TYPE\",\"FTYPE_CODE\":\"NAME\",\"FELEM_REQ\":\"NO\",\"DEFAULT_VALUE\":\"\",\"ADVANCED\":\"Yes\",\"INTERNAL\":\"No\"},{\"ATTR_ID\":1231,\"ATTR_CODE\":\"NATIONALITY\",\"ATTR_CLASS\":\"ATTRIBUTE\",\"FELEM_CODE\":\"COUNTRY\",\"FTYPE_CODE\":\"NATIONALITY\",\"FELEM_REQ\":\"YES\",\"DEFAULT_VALUE\":\"\",\"ADVANCED\":\"No\",\"INTERNAL\":\"No\"},{\"ATTR_ID\":1230,\"ATTR_CODE\":\"NATIONALITY_PREHASHED\",\"ATTR_CLASS\":\"ATTRIBUTE\",\"FELEM_CODE\":\"<PREHASHED>\",\"FTYPE_CODE\":\"NATIONALITY\",\"FELEM_REQ\":\"NO\",\"DEFAULT_VALUE\":\"\",\"ADVANCED\":\"Yes\",\"INTERNAL\":\"Yes\"},{\"ATTR_ID\":1352,\"ATTR_CODE\":\"NATIONAL_ID_COUNTRY\",\"ATTR_CLASS\":\"IDENTIFIER\",\"FELEM_CODE\":\"COUNTRY\",\"FTYPE_CODE\":\"NATIONAL_ID\",\"FELEM_REQ\":\"DESIRED\",\"DEFAULT_VALUE\":\"\",\"ADVANCED\":\"No\",\"INTERNAL\":\"No\"},{\"ATTR_ID\":1354,\"ATTR_CODE\":\"NATIONAL_ID_EXPIRE_DT\",\"ATTR_CLASS\":\"IDENTIFIER\",\"FELEM_CODE\":\"EXPIRE_DATE\",\"FTYPE_CODE\":\"NATIONAL_ID\",\"FELEM_REQ\":\"NO\",\"DEFAULT_VALUE\":\"\",\"ADVANCED\":\"Yes\",\"INTERNAL\":\"No\"},{\"ATTR_ID\":1353,\"ATTR_CODE\":\"NATIONAL_ID_ISSUE_DT\",\"ATTR_CLASS\":\"IDENTIFIER\",\"FELEM_CODE\":\"ISSUE_DATE\",\"FTYPE_CODE\":\"NATIONAL_ID\",\"FELEM_REQ\":\"NO\",\"DEFAULT_VALUE\":\"\",\"ADVANCED\":\"Yes\",\"INTERNAL\":\"No\"},{\"ATTR_ID\":1351,\"ATTR_CODE\":\"NATIONAL_ID_NUMBER\",\"ATTR_CLASS\":\"IDENTIFIER\",\"FELEM_CODE\":\"ID_NUM\",\"FTYPE_CODE\":\"NATIONAL_ID\",\"FELEM_REQ\":\"YES\",\"DEFAULT_VALUE\":\"\",\"ADVANCED\":\"No\",\"INTERNAL\":\"No\"},{\"ATTR_ID\":1355,\"ATTR_CODE\":\"NATIONAL_ID_NUM_STD\",\"ATTR_CLASS\":\"IDENTIFIER\",\"FELEM_CODE\":\"ID_NUM_STD\",\"FTYPE_CODE\":\"NATIONAL_ID\",\"FELEM_REQ\":\"NO\",\"DEFAULT_VALUE\":\"\",\"ADVANCED\":\"Yes\",\"INTERNAL\":\"Yes\"},{\"ATTR_ID\":1350,\"ATTR_CODE\":\"NATIONAL_ID_PREHASHED\",\"ATTR_CLASS\":\"IDENTIFIER\",\"FELEM_CODE\":\"<PREHASHED>\",\"FTYPE_CODE\":\"NATIONAL_ID\",\"FELEM_REQ\":\"NO\",\"DEFAULT_VALUE\":\"\",\"ADVANCED\":\"Yes\",\"INTERNAL\":\"Yes\"},{\"ATTR_ID\":2511,\"ATTR_CODE\":\"NPI_NUMBER\",\"ATTR_CLASS\":\"IDENTIFIER\",\"FELEM_CODE\":\"ID_NUM\",\"FTYPE_CODE\":\"NPI_NUMBER\",\"FELEM_REQ\":\"YES\",\"DEFAULT_VALUE\":\"\",\"ADVANCED\":\"No\",\"INTERNAL\":\"No\"},{\"ATTR_ID\":1373,\"ATTR_CODE\":\"OTHER_ID_COUNTRY\",\"ATTR_CLASS\":\"IDENTIFIER\",\"FELEM_CODE\":\"COUNTRY\",\"FTYPE_CODE\":\"OTHER_ID\",\"FELEM_REQ\":\"DESIRED\",\"DEFAULT_VALUE\":\"\",\"ADVANCED\":\"No\",\"INTERNAL\":\"No\"},{\"ATTR_ID\":1375,\"ATTR_CODE\":\"OTHER_ID_EXPIRE_DT\",\"ATTR_CLASS\":\"IDENTIFIER\",\"FELEM_CODE\":\"EXPIRE_DATE\",\"FTYPE_CODE\":\"OTHER_ID\",\"FELEM_REQ\":\"NO\",\"DEFAULT_VALUE\":\"\",\"ADVANCED\":\"Yes\",\"INTERNAL\":\"No\"},{\"ATTR_ID\":1374,\"ATTR_CODE\":\"OTHER_ID_ISSUE_DT\",\"ATTR_CLASS\":\"IDENTIFIER\",\"FELEM_CODE\":\"ISSUE_DATE\",\"FTYPE_CODE\":\"OTHER_ID\",\"FELEM_REQ\":\"NO\",\"DEFAULT_VALUE\":\"\",\"ADVANCED\":\"Yes\",\"INTERNAL\":\"No\"},{\"ATTR_ID\":1372,\"ATTR_CODE\":\"OTHER_ID_NUMBER\",\"ATTR_CLASS\":\"IDENTIFIER\",\"FELEM_CODE\":\"ID_NUM\",\"FTYPE_CODE\":\"OTHER_ID\",\"FELEM_REQ\":\"YES\",\"DEFAULT_VALUE\":\"\",\"ADVANCED\":\"No\",\"INTERNAL\":\"No\"},{\"ATTR_ID\":1376,\"ATTR_CODE\":\"OTHER_ID_NUM_STD\",\"ATTR_CLASS\":\"IDENTIFIER\",\"FELEM_CODE\":\"ID_NUM_STD\",\"FTYPE_CODE\":\"OTHER_ID\",\"FELEM_REQ\":\"NO\",\"DEFAULT_VALUE\":\"\",\"ADVANCED\":\"Yes\",\"INTERNAL\":\"Yes\"},{\"ATTR_ID\":1370,\"ATTR_CODE\":\"OTHER_ID_PREHASHED\",\"ATTR_CLASS\":\"IDENTIFIER\",\"FELEM_CODE\":\"<PREHASHED>\",\"FTYPE_CODE\":\"OTHER_ID\",\"FELEM_REQ\":\"NO\",\"DEFAULT_VALUE\":\"\",\"ADVANCED\":\"Yes\",\"INTERNAL\":\"Yes\"},{\"ATTR_ID\":1371,\"ATTR_CODE\":\"OTHER_ID_TYPE\",\"ATTR_CLASS\":\"IDENTIFIER\",\"FELEM_CODE\":\"ID_TYPE\",\"FTYPE_CODE\":\"OTHER_ID\",\"FELEM_REQ\":\"DESIRED\",\"DEFAULT_VALUE\":\"\",\"ADVANCED\":\"No\",\"INTERNAL\":\"No\"},{\"ATTR_ID\":1322,\"ATTR_CODE\":\"PASSPORT_COUNTRY\",\"ATTR_CLASS\":\"IDENTIFIER\",\"FELEM_CODE\":\"COUNTRY\",\"FTYPE_CODE\":\"PASSPORT\",\"FELEM_REQ\":\"DESIRED\",\"DEFAULT_VALUE\":\"\",\"ADVANCED\":\"No\",\"INTERNAL\":\"No\"},{\"ATTR_ID\":1324,\"ATTR_CODE\":\"PASSPORT_EXPIRE_DT\",\"ATTR_CLASS\":\"IDENTIFIER\",\"FELEM_CODE\":\"EXPIRE_DATE\",\"FTYPE_CODE\":\"PASSPORT\",\"FELEM_REQ\":\"NO\",\"DEFAULT_VALUE\":\"\",\"ADVANCED\":\"Yes\",\"INTERNAL\":\"No\"},{\"ATTR_ID\":1323,\"ATTR_CODE\":\"PASSPORT_ISSUE_DT\",\"ATTR_CLASS\":\"IDENTIFIER\",\"FELEM_CODE\":\"ISSUE_DATE\",\"FTYPE_CODE\":\"PASSPORT\",\"FELEM_REQ\":\"NO\",\"DEFAULT_VALUE\":\"\",\"ADVANCED\":\"Yes\",\"INTERNAL\":\"No\"},{\"ATTR_ID\":1321,\"ATTR_CODE\":\"PASSPORT_NUMBER\",\"ATTR_CLASS\":\"IDENTIFIER\",\"FELEM_CODE\":\"ID_NUM\",\"FTYPE_CODE\":\"PASSPORT\",\"FELEM_REQ\":\"YES\",\"DEFAULT_VALUE\":\"\",\"ADVANCED\":\"No\",\"INTERNAL\":\"No\"},{\"ATTR_ID\":1325,\"ATTR_CODE\":\"PASSPORT_NUMSTD\",\"ATTR_CLASS\":\"IDENTIFIER\",\"FELEM_CODE\":\"ID_NUM_STD\",\"FTYPE_CODE\":\"PASSPORT\",\"FELEM_REQ\":\"NO\",\"DEFAULT_VALUE\":\"\",\"ADVANCED\":\"Yes\",\"INTERNAL\":\"Yes\"},{\"ATTR_ID\":1320,\"ATTR_CODE\":\"PASSPORT_PREHASHED\",\"ATTR_CLASS\":\"IDENTIFIER\",\"FELEM_CODE\":\"<PREHASHED>\",\"FTYPE_CODE\":\"PASSPORT\",\"FELEM_REQ\":\"NO\",\"DEFAULT_VALUE\":\"\",\"ADVANCED\":\"Yes\",\"INTERNAL\":\"Yes\"},{\"ATTR_ID\":1701,\"ATTR_CODE\":\"PHONE_AREACODE\",\"ATTR_CLASS\":\"PHONE\",\"FELEM_CODE\":\"PHONE_AREA_CODE\",\"FTYPE_CODE\":\"PHONE\",\"FELEM_REQ\":\"NO\",\"DEFAULT_VALUE\":\"\",\"ADVANCED\":\"No\",\"INTERNAL\":\"No\"},{\"ATTR_ID\":1703,\"ATTR_CODE\":\"PHONE_EXT\",\"ATTR_CLASS\":\"PHONE\",\"FELEM_CODE\":\"PHONE_EXT\",\"FTYPE_CODE\":\"PHONE\",\"FELEM_REQ\":\"NO\",\"DEFAULT_VALUE\":\"\",\"ADVANCED\":\"No\",\"INTERNAL\":\"No\"},{\"ATTR_ID\":1707,\"ATTR_CODE\":\"PHONE_FROM_DATE\",\"ATTR_CLASS\":\"PHONE\",\"FELEM_CODE\":\"USED_FROM_DT\",\"FTYPE_CODE\":\"PHONE\",\"FELEM_REQ\":\"NO\",\"DEFAULT_VALUE\":\"\",\"ADVANCED\":\"Yes\",\"INTERNAL\":\"No\"},{\"ATTR_ID\":1704,\"ATTR_CODE\":\"PHONE_LAST_10\",\"ATTR_CLASS\":\"PHONE\",\"FELEM_CODE\":\"PHONE_LAST_10\",\"FTYPE_CODE\":\"PHONE\",\"FELEM_REQ\":\"NO\",\"DEFAULT_VALUE\":\"\",\"ADVANCED\":\"Yes\",\"INTERNAL\":\"Yes\"},{\"ATTR_ID\":1705,\"ATTR_CODE\":\"PHONE_LAST_5\",\"ATTR_CLASS\":\"PHONE\",\"FELEM_CODE\":\"PHONE_LAST_5\",\"FTYPE_CODE\":\"PHONE\",\"FELEM_REQ\":\"NO\",\"DEFAULT_VALUE\":\"\",\"ADVANCED\":\"Yes\",\"INTERNAL\":\"Yes\"},{\"ATTR_ID\":1702,\"ATTR_CODE\":\"PHONE_NUMBER\",\"ATTR_CLASS\":\"PHONE\",\"FELEM_CODE\":\"PHONE_NUM\",\"FTYPE_CODE\":\"PHONE\",\"FELEM_REQ\":\"YES\",\"DEFAULT_VALUE\":\"\",\"ADVANCED\":\"No\",\"INTERNAL\":\"No\"},{\"ATTR_ID\":1700,\"ATTR_CODE\":\"PHONE_PREHASHED\",\"ATTR_CLASS\":\"PHONE\",\"FELEM_CODE\":\"<PREHASHED>\",\"FTYPE_CODE\":\"PHONE\",\"FELEM_REQ\":\"NO\",\"DEFAULT_VALUE\":\"\",\"ADVANCED\":\"Yes\",\"INTERNAL\":\"Yes\"},{\"ATTR_ID\":1708,\"ATTR_CODE\":\"PHONE_THRU_DATE\",\"ATTR_CLASS\":\"PHONE\",\"FELEM_CODE\":\"USED_THRU_DT\",\"FTYPE_CODE\":\"PHONE\",\"FELEM_REQ\":\"NO\",\"DEFAULT_VALUE\":\"\",\"ADVANCED\":\"Yes\",\"INTERNAL\":\"No\"},{\"ATTR_ID\":1706,\"ATTR_CODE\":\"PHONE_TYPE\",\"ATTR_CLASS\":\"PHONE\",\"FELEM_CODE\":\"USAGE_TYPE\",\"FTYPE_CODE\":\"PHONE\",\"FELEM_REQ\":\"NO\",\"DEFAULT_VALUE\":\"\",\"ADVANCED\":\"Yes\",\"INTERNAL\":\"No\"},{\"ATTR_ID\":1250,\"ATTR_CODE\":\"PHYSICAL_PREHASHED\",\"ATTR_CLASS\":\"ATTRIBUTE\",\"FELEM_CODE\":\"<PREHASHED>\",\"FTYPE_CODE\":\"PHYSICAL_ATTRIBUTE\",\"FELEM_REQ\":\"NO\",\"DEFAULT_VALUE\":\"\",\"ADVANCED\":\"Yes\",\"INTERNAL\":\"Yes\"},{\"ATTR_ID\":1251,\"ATTR_CODE\":\"PHYSICAL_TYPE\",\"ATTR_CLASS\":\"ATTRIBUTE\",\"FELEM_CODE\":\"TYPE\",\"FTYPE_CODE\":\"PHYSICAL_ATTRIBUTE\",\"FELEM_REQ\":\"DESIRED\",\"DEFAULT_VALUE\":\"\",\"ADVANCED\":\"Yes\",\"INTERNAL\":\"No\"},{\"ATTR_ID\":1252,\"ATTR_CODE\":\"PHYSICAL_VALUE\",\"ATTR_CLASS\":\"ATTRIBUTE\",\"FELEM_CODE\":\"VALUE\",\"FTYPE_CODE\":\"PHYSICAL_ATTRIBUTE\",\"FELEM_REQ\":\"YES\",\"DEFAULT_VALUE\":\"\",\"ADVANCED\":\"Yes\",\"INTERNAL\":\"No\"},{\"ATTR_ID\":2421,\"ATTR_CODE\":\"PLACE_OF_BIRTH\",\"ATTR_CLASS\":\"ATTRIBUTE\",\"FELEM_CODE\":\"PLACE\",\"FTYPE_CODE\":\"PLACE_OF_BIRTH\",\"FELEM_REQ\":\"YES\",\"DEFAULT_VALUE\":\"\",\"ADVANCED\":\"No\",\"INTERNAL\":\"No\"},{\"ATTR_ID\":1003,\"ATTR_CODE\":\"RECORD_ID\",\"ATTR_CLASS\":\"OBSERVATION\",\"FELEM_CODE\":\"\",\"FTYPE_CODE\":\"\",\"FELEM_REQ\":\"NO\",\"DEFAULT_VALUE\":\"\",\"ADVANCED\":\"No\",\"INTERNAL\":\"No\"},{\"ATTR_ID\":2401,\"ATTR_CODE\":\"RECORD_TYPE\",\"ATTR_CLASS\":\"ATTRIBUTE\",\"FELEM_CODE\":\"TYPE\",\"FTYPE_CODE\":\"RECORD_TYPE\",\"FELEM_REQ\":\"YES\",\"DEFAULT_VALUE\":\"\",\"ADVANCED\":\"No\",\"INTERNAL\":\"No\"},{\"ATTR_ID\":2432,\"ATTR_CODE\":\"REGISTRATION_COUNTRY\",\"ATTR_CLASS\":\"ATTRIBUTE\",\"FELEM_CODE\":\"COUNTRY\",\"FTYPE_CODE\":\"REGISTRATION_COUNTRY\",\"FELEM_REQ\":\"YES\",\"DEFAULT_VALUE\":\"\",\"ADVANCED\":\"No\",\"INTERNAL\":\"No\"},{\"ATTR_ID\":2431,\"ATTR_CODE\":\"REGISTRATION_DATE\",\"ATTR_CLASS\":\"ATTRIBUTE\",\"FELEM_CODE\":\"DATE\",\"FTYPE_CODE\":\"REGISTRATION_DATE\",\"FELEM_REQ\":\"YES\",\"DEFAULT_VALUE\":\"\",\"ADVANCED\":\"No\",\"INTERNAL\":\"No\"},{\"ATTR_ID\":1804,\"ATTR_CODE\":\"RELATED_FROM_DATE\",\"ATTR_CLASS\":\"RELATIONSHIP\",\"FELEM_CODE\":\"USED_FROM_DT\",\"FTYPE_CODE\":\"REL_LINK\",\"FELEM_REQ\":\"NO\",\"DEFAULT_VALUE\":\"\",\"ADVANCED\":\"Yes\",\"INTERNAL\":\"No\"},{\"ATTR_ID\":1805,\"ATTR_CODE\":\"RELATED_THRU_DATE\",\"ATTR_CLASS\":\"RELATIONSHIP\",\"FELEM_CODE\":\"USED_THRU_DT\",\"FTYPE_CODE\":\"REL_LINK\",\"FELEM_REQ\":\"NO\",\"DEFAULT_VALUE\":\"\",\"ADVANCED\":\"Yes\",\"INTERNAL\":\"No\"},{\"ATTR_ID\":1803,\"ATTR_CODE\":\"RELATIONSHIP_KEY\",\"ATTR_CLASS\":\"RELATIONSHIP\",\"FELEM_CODE\":\"REL_KEY\",\"FTYPE_CODE\":\"REL_LINK\",\"FELEM_REQ\":\"YES\",\"DEFAULT_VALUE\":\"\",\"ADVANCED\":\"Yes\",\"INTERNAL\":\"No\"},{\"ATTR_ID\":1802,\"ATTR_CODE\":\"RELATIONSHIP_ROLE\",\"ATTR_CLASS\":\"RELATIONSHIP\",\"FELEM_CODE\":\"USAGE_TYPE\",\"FTYPE_CODE\":\"REL_LINK\",\"FELEM_REQ\":\"NO\",\"DEFAULT_VALUE\":\"\",\"ADVANCED\":\"Yes\",\"INTERNAL\":\"No\"},{\"ATTR_ID\":1801,\"ATTR_CODE\":\"RELATIONSHIP_TYPE\",\"ATTR_CLASS\":\"RELATIONSHIP\",\"FELEM_CODE\":\"REL_TYPE\",\"FTYPE_CODE\":\"REL_LINK\",\"FELEM_REQ\":\"NO\",\"DEFAULT_VALUE\":\"\",\"ADVANCED\":\"Yes\",\"INTERNAL\":\"No\"},{\"ATTR_ID\":2801,\"ATTR_CODE\":\"REL_ANCHOR_DOMAIN\",\"ATTR_CLASS\":\"RELATIONSHIP\",\"FELEM_CODE\":\"KEY_TYPE\",\"FTYPE_CODE\":\"REL_ANCHOR\",\"FELEM_REQ\":\"NO\",\"DEFAULT_VALUE\":\"\",\"ADVANCED\":\"No\",\"INTERNAL\":\"No\"},{\"ATTR_ID\":2802,\"ATTR_CODE\":\"REL_ANCHOR_KEY\",\"ATTR_CLASS\":\"RELATIONSHIP\",\"FELEM_CODE\":\"KEY_VALUE\",\"FTYPE_CODE\":\"REL_ANCHOR\",\"FELEM_REQ\":\"YES\",\"DEFAULT_VALUE\":\"\",\"ADVANCED\":\"No\",\"INTERNAL\":\"No\"},{\"ATTR_ID\":2811,\"ATTR_CODE\":\"REL_POINTER_DOMAIN\",\"ATTR_CLASS\":\"RELATIONSHIP\",\"FELEM_CODE\":\"KEY_TYPE\",\"FTYPE_CODE\":\"REL_POINTER\",\"FELEM_REQ\":\"NO\",\"DEFAULT_VALUE\":\"\",\"ADVANCED\":\"No\",\"INTERNAL\":\"No\"},{\"ATTR_ID\":2812,\"ATTR_CODE\":\"REL_POINTER_KEY\",\"ATTR_CLASS\":\"RELATIONSHIP\",\"FELEM_CODE\":\"KEY_VALUE\",\"FTYPE_CODE\":\"REL_POINTER\",\"FELEM_REQ\":\"YES\",\"DEFAULT_VALUE\":\"\",\"ADVANCED\":\"No\",\"INTERNAL\":\"No\"},{\"ATTR_ID\":2813,\"ATTR_CODE\":\"REL_POINTER_ROLE\",\"ATTR_CLASS\":\"RELATIONSHIP\",\"FELEM_CODE\":\"USAGE_TYPE\",\"FTYPE_CODE\":\"REL_POINTER\",\"FELEM_REQ\":\"NO\",\"DEFAULT_VALUE\":\"\",\"ADVANCED\":\"No\",\"INTERNAL\":\"No\"},{\"ATTR_ID\":1002,\"ATTR_CODE\":\"ROUTE_CODE\",\"ATTR_CLASS\":\"OBSERVATION\",\"FELEM_CODE\":\"\",\"FTYPE_CODE\":\"\",\"FELEM_REQ\":\"NO\",\"DEFAULT_VALUE\":\"\",\"ADVANCED\":\"Yes\",\"INTERNAL\":\"No\"},{\"ATTR_ID\":2310,\"ATTR_CODE\":\"SIGNAL\",\"ATTR_CLASS\":\"IDENTIFIER\",\"FELEM_CODE\":\"LOGIN_ID\",\"FTYPE_CODE\":\"SIGNAL\",\"FELEM_REQ\":\"YES\",\"DEFAULT_VALUE\":\"NONE\",\"ADVANCED\":\"No\",\"INTERNAL\":\"No\"},{\"ATTR_ID\":2306,\"ATTR_CODE\":\"SKYPE\",\"ATTR_CLASS\":\"IDENTIFIER\",\"FELEM_CODE\":\"LOGIN_ID\",\"FTYPE_CODE\":\"SKYPE\",\"FELEM_REQ\":\"YES\",\"DEFAULT_VALUE\":\"NONE\",\"ADVANCED\":\"No\",\"INTERNAL\":\"No\"},{\"ATTR_ID\":1523,\"ATTR_CODE\":\"SOCIAL_FROM_DATE\",\"ATTR_CLASS\":\"IDENTIFIER\",\"FELEM_CODE\":\"USED_FROM_DT\",\"FTYPE_CODE\":\"LOGIN_ID\",\"FELEM_REQ\":\"NO\",\"DEFAULT_VALUE\":\"\",\"ADVANCED\":\"Yes\",\"INTERNAL\":\"No\"},{\"ATTR_ID\":1522,\"ATTR_CODE\":\"SOCIAL_HANDLE\",\"ATTR_CLASS\":\"IDENTIFIER\",\"FELEM_CODE\":\"LOGIN_ID\",\"FTYPE_CODE\":\"LOGIN_ID\",\"FELEM_REQ\":\"YES\",\"DEFAULT_VALUE\":\"\",\"ADVANCED\":\"No\",\"INTERNAL\":\"No\"},{\"ATTR_ID\":1521,\"ATTR_CODE\":\"SOCIAL_NETWORK\",\"ATTR_CLASS\":\"IDENTIFIER\",\"FELEM_CODE\":\"LOGIN_DOMAIN\",\"FTYPE_CODE\":\"LOGIN_ID\",\"FELEM_REQ\":\"DESIRED\",\"DEFAULT_VALUE\":\"\",\"ADVANCED\":\"No\",\"INTERNAL\":\"No\"},{\"ATTR_ID\":1520,\"ATTR_CODE\":\"SOCIAL_PREHASHED\",\"ATTR_CLASS\":\"IDENTIFIER\",\"FELEM_CODE\":\"<PREHASHED>\",\"FTYPE_CODE\":\"LOGIN_ID\",\"FELEM_REQ\":\"NO\",\"DEFAULT_VALUE\":\"\",\"ADVANCED\":\"Yes\",\"INTERNAL\":\"Yes\"},{\"ATTR_ID\":1524,\"ATTR_CODE\":\"SOCIAL_THRU_DATE\",\"ATTR_CLASS\":\"IDENTIFIER\",\"FELEM_CODE\":\"USED_THRU_DT\",\"FTYPE_CODE\":\"LOGIN_ID\",\"FELEM_REQ\":\"NO\",\"DEFAULT_VALUE\":\"\",\"ADVANCED\":\"Yes\",\"INTERNAL\":\"No\"},{\"ATTR_ID\":1341,\"ATTR_CODE\":\"SSN_NUMBER\",\"ATTR_CLASS\":\"IDENTIFIER\",\"FELEM_CODE\":\"ID_NUM\",\"FTYPE_CODE\":\"SSN\",\"FELEM_REQ\":\"YES\",\"DEFAULT_VALUE\":\"\",\"ADVANCED\":\"No\",\"INTERNAL\":\"No\"},{\"ATTR_ID\":1342,\"ATTR_CODE\":\"SSN_NUMSTD\",\"ATTR_CLASS\":\"IDENTIFIER\",\"FELEM_CODE\":\"ID_NUM_STD\",\"FTYPE_CODE\":\"SSN\",\"FELEM_REQ\":\"NO\",\"DEFAULT_VALUE\":\"\",\"ADVANCED\":\"Yes\",\"INTERNAL\":\"Yes\"},{\"ATTR_ID\":1340,\"ATTR_CODE\":\"SSN_PREHASHED\",\"ATTR_CLASS\":\"IDENTIFIER\",\"FELEM_CODE\":\"<PREHASHED>\",\"FTYPE_CODE\":\"SSN\",\"FELEM_REQ\":\"NO\",\"DEFAULT_VALUE\":\"\",\"ADVANCED\":\"Yes\",\"INTERNAL\":\"Yes\"},{\"ATTR_ID\":2312,\"ATTR_CODE\":\"TANGO\",\"ATTR_CLASS\":\"IDENTIFIER\",\"FELEM_CODE\":\"LOGIN_ID\",\"FTYPE_CODE\":\"TANGO\",\"FELEM_REQ\":\"YES\",\"DEFAULT_VALUE\":\"NONE\",\"ADVANCED\":\"No\",\"INTERNAL\":\"No\"},{\"ATTR_ID\":1362,\"ATTR_CODE\":\"TAX_ID_COUNTRY\",\"ATTR_CLASS\":\"IDENTIFIER\",\"FELEM_CODE\":\"COUNTRY\",\"FTYPE_CODE\":\"TAX_ID\",\"FELEM_REQ\":\"DESIRED\",\"DEFAULT_VALUE\":\"\",\"ADVANCED\":\"No\",\"INTERNAL\":\"No\"},{\"ATTR_ID\":1364,\"ATTR_CODE\":\"TAX_ID_EXPIRE_DT\",\"ATTR_CLASS\":\"IDENTIFIER\",\"FELEM_CODE\":\"EXPIRE_DATE\",\"FTYPE_CODE\":\"TAX_ID\",\"FELEM_REQ\":\"NO\",\"DEFAULT_VALUE\":\"\",\"ADVANCED\":\"Yes\",\"INTERNAL\":\"No\"},{\"ATTR_ID\":1363,\"ATTR_CODE\":\"TAX_ID_ISSUE_DT\",\"ATTR_CLASS\":\"IDENTIFIER\",\"FELEM_CODE\":\"ISSUE_DATE\",\"FTYPE_CODE\":\"TAX_ID\",\"FELEM_REQ\":\"NO\",\"DEFAULT_VALUE\":\"\",\"ADVANCED\":\"Yes\",\"INTERNAL\":\"No\"},{\"ATTR_ID\":1361,\"ATTR_CODE\":\"TAX_ID_NUMBER\",\"ATTR_CLASS\":\"IDENTIFIER\",\"FELEM_CODE\":\"ID_NUM\",\"FTYPE_CODE\":\"TAX_ID\",\"FELEM_REQ\":\"YES\",\"DEFAULT_VALUE\":\"\",\"ADVANCED\":\"No\",\"INTERNAL\":\"No\"},{\"ATTR_ID\":1365,\"ATTR_CODE\":\"TAX_ID_NUM_STD\",\"ATTR_CLASS\":\"IDENTIFIER\",\"FELEM_CODE\":\"ID_NUM_STD\",\"FTYPE_CODE\":\"TAX_ID\",\"FELEM_REQ\":\"NO\",\"DEFAULT_VALUE\":\"\",\"ADVANCED\":\"Yes\",\"INTERNAL\":\"Yes\"},{\"ATTR_ID\":1360,\"ATTR_CODE\":\"TAX_ID_PREHASHED\",\"ATTR_CLASS\":\"IDENTIFIER\",\"FELEM_CODE\":\"<PREHASHED>\",\"FTYPE_CODE\":\"TAX_ID\",\"FELEM_REQ\":\"NO\",\"DEFAULT_VALUE\":\"\",\"ADVANCED\":\"Yes\",\"INTERNAL\":\"Yes\"},{\"ATTR_ID\":2311,\"ATTR_CODE\":\"TELEGRAM\",\"ATTR_CLASS\":\"IDENTIFIER\",\"FELEM_CODE\":\"LOGIN_ID\",\"FTYPE_CODE\":\"TELEGRAM\",\"FELEM_REQ\":\"YES\",\"DEFAULT_VALUE\":\"NONE\",\"ADVANCED\":\"No\",\"INTERNAL\":\"No\"},{\"ATTR_ID\":1382,\"ATTR_CODE\":\"TRUSTED_ID_NUMBER\",\"ATTR_CLASS\":\"IDENTIFIER\",\"FELEM_CODE\":\"ID_NUM\",\"FTYPE_CODE\":\"TRUSTED_ID\",\"FELEM_REQ\":\"YES\",\"DEFAULT_VALUE\":\"\",\"ADVANCED\":\"Yes\",\"INTERNAL\":\"No\"},{\"ATTR_ID\":1380,\"ATTR_CODE\":\"TRUSTED_ID_PREHASHED\",\"ATTR_CLASS\":\"IDENTIFIER\",\"FELEM_CODE\":\"<PREHASHED>\",\"FTYPE_CODE\":\"TRUSTED_ID\",\"FELEM_REQ\":\"NO\",\"DEFAULT_VALUE\":\"\",\"ADVANCED\":\"Yes\",\"INTERNAL\":\"Yes\"},{\"ATTR_ID\":1381,\"ATTR_CODE\":\"TRUSTED_ID_TYPE\",\"ATTR_CLASS\":\"IDENTIFIER\",\"FELEM_CODE\":\"ID_TYPE\",\"FTYPE_CODE\":\"TRUSTED_ID\",\"FELEM_REQ\":\"NO\",\"DEFAULT_VALUE\":\"\",\"ADVANCED\":\"Yes\",\"INTERNAL\":\"No\"},{\"ATTR_ID\":2305,\"ATTR_CODE\":\"TWITTER\",\"ATTR_CLASS\":\"IDENTIFIER\",\"FELEM_CODE\":\"LOGIN_ID\",\"FTYPE_CODE\":\"TWITTER\",\"FELEM_REQ\":\"YES\",\"DEFAULT_VALUE\":\"NONE\",\"ADVANCED\":\"No\",\"INTERNAL\":\"No\"},{\"ATTR_ID\":2101,\"ATTR_CODE\":\"VEHICLE_LICENSE_PLATE_NUMBER\",\"ATTR_CLASS\":\"IDENTIFIER\",\"FELEM_CODE\":\"ID_NUM\",\"FTYPE_CODE\":\"VEH_LIC_PLATE\",\"FELEM_REQ\":\"YES\",\"DEFAULT_VALUE\":\"\",\"ADVANCED\":\"No\",\"INTERNAL\":\"No\"},{\"ATTR_ID\":2102,\"ATTR_CODE\":\"VEHICLE_LICENSE_PLATE_STATE\",\"ATTR_CLASS\":\"IDENTIFIER\",\"FELEM_CODE\":\"STATE\",\"FTYPE_CODE\":\"VEH_LIC_PLATE\",\"FELEM_REQ\":\"DESIRED\",\"DEFAULT_VALUE\":\"\",\"ADVANCED\":\"No\",\"INTERNAL\":\"No\"},{\"ATTR_ID\":2201,\"ATTR_CODE\":\"VEHICLE_VIN_NUMBER\",\"ATTR_CLASS\":\"IDENTIFIER\",\"FELEM_CODE\":\"ID_NUM\",\"FTYPE_CODE\":\"VEH_VIN\",\"FELEM_REQ\":\"YES\",\"DEFAULT_VALUE\":\"\",\"ADVANCED\":\"No\",\"INTERNAL\":\"No\"},{\"ATTR_ID\":2313,\"ATTR_CODE\":\"VIBER\",\"ATTR_CLASS\":\"IDENTIFIER\",\"FELEM_CODE\":\"LOGIN_ID\",\"FTYPE_CODE\":\"VIBER\",\"FELEM_REQ\":\"YES\",\"DEFAULT_VALUE\":\"NONE\",\"ADVANCED\":\"No\",\"INTERNAL\":\"No\"},{\"ATTR_ID\":1501,\"ATTR_CODE\":\"WEBSITE_ADDRESS\",\"ATTR_CLASS\":\"IDENTIFIER\",\"FELEM_CODE\":\"ADDR\",\"FTYPE_CODE\":\"WEBSITE\",\"FELEM_REQ\":\"YES\",\"DEFAULT_VALUE\":\"\",\"ADVANCED\":\"No\",\"INTERNAL\":\"No\"},{\"ATTR_ID\":1500,\"ATTR_CODE\":\"WEBSITE_PREHASHED\",\"ATTR_CLASS\":\"IDENTIFIER\",\"FELEM_CODE\":\"<PREHASHED>\",\"FTYPE_CODE\":\"WEBSITE\",\"FELEM_REQ\":\"NO\",\"DEFAULT_VALUE\":\"\",\"ADVANCED\":\"Yes\",\"INTERNAL\":\"Yes\"},{\"ATTR_ID\":2314,\"ATTR_CODE\":\"WECHAT\",\"ATTR_CLASS\":\"IDENTIFIER\",\"FELEM_CODE\":\"LOGIN_ID\",\"FTYPE_CODE\":\"WECHAT\",\"FELEM_REQ\":\"YES\",\"DEFAULT_VALUE\":\"NONE\",\"ADVANCED\":\"No\",\"INTERNAL\":\"No\"},{\"ATTR_ID\":2309,\"ATTR_CODE\":\"WHATSAPP\",\"ATTR_CLASS\":\"IDENTIFIER\",\"FELEM_CODE\":\"LOGIN_ID\",\"FTYPE_CODE\":\"WHATSAPP\",\"FELEM_REQ\":\"YES\",\"DEFAULT_VALUE\":\"NONE\",\"ADVANCED\":\"No\",\"INTERNAL\":\"No\"},{\"ATTR_ID\":2307,\"ATTR_CODE\":\"ZOOMROOM\",\"ATTR_CLASS\":\"IDENTIFIER\",\"FELEM_CODE\":\"LOGIN_ID\",\"FTYPE_CODE\":\"ZOOMROOM\",\"FELEM_REQ\":\"YES\",\"DEFAULT_VALUE\":\"NONE\",\"ADVANCED\":\"No\",\"INTERNAL\":\"No\"}],\"CONFIG_BASE_VERSION\":{\"PRODUCT_NAME\":\"Senzing API\",\"VERSION\":\"3.3.2\",\"BUILD_VERSION\":\"3.3.2.22299\",\"BUILD_DATE\":\"2022-10-26\",\"BUILD_NUMBER\":\"2022_10_26__19_38\",\"COMPATIBILITY_VERSION\":{\"CONFIG_VERSION\":\"10\"}}}}))});"
      ],
      "text/plain": [
       "require([\"https://rawgit.com/caldwell/renderjson/master/renderjson.js\"], function() {document.getElementById('378ec009-b89d-4f46-85c0-d26cf2e5fc1d').appendChild(renderjson({\"G2_CONFIG\":{\"CFG_ETYPE\":[{\"ETYPE_ID\":1,\"ETYPE_CODE\":\"TEST\",\"ETYPE_DESC\":\"Test\",\"ECLASS_ID\":1},{\"ETYPE_ID\":3,\"ETYPE_CODE\":\"GENERIC\",\"ETYPE_DESC\":\"Generic entity\",\"ECLASS_ID\":1}],\"CFG_DSRC_INTEREST\":[],\"CFG_ECLASS\":[{\"ECLASS_ID\":1,\"ECLASS_CODE\":\"ACTOR\",\"ECLASS_DESC\":\"Actor\",\"RESOLVE\":\"Yes\"}],\"CFG_RCLASS\":[{\"RCLASS_ID\":1,\"RCLASS_CODE\":\"DERIVED\",\"RCLASS_DESC\":\"Derived\",\"IS_DISCLOSED\":\"No\"},{\"RCLASS_ID\":2,\"RCLASS_CODE\":\"DISCLOSED\",\"RCLASS_DESC\":\"Disclosed\",\"IS_DISCLOSED\":\"Yes\"}],\"CFG_FTYPE\":[{\"FTYPE_ID\":1,\"FTYPE_CODE\":\"NAME\",\"FCLASS_ID\":1,\"FTYPE_FREQ\":\"NAME\",\"FTYPE_EXCL\":\"No\",\"FTYPE_STAB\":\"No\",\"PERSIST_HISTORY\":\"Yes\",\"USED_FOR_CAND\":\"No\",\"DERIVED\":\"No\",\"RTYPE_ID\":0,\"ANONYMIZE\":\"No\",\"VERSION\":2,\"SHOW_IN_MATCH_KEY\":\"Yes\"},{\"FTYPE_ID\":2,\"FTYPE_CODE\":\"DOB\",\"FCLASS_ID\":2,\"FTYPE_FREQ\":\"FM\",\"FTYPE_EXCL\":\"Yes\",\"FTYPE_STAB\":\"Yes\",\"PERSIST_HISTORY\":\"Yes\",\"USED_FOR_CAND\":\"Yes\",\"DERIVED\":\"No\",\"RTYPE_ID\":0,\"ANONYMIZE\":\"No\",\"VERSION\":2,\"SHOW_IN_MATCH_KEY\":\"Yes\"},{\"FTYPE_ID\":3,\"FTYPE_CODE\":\"DOD\",\"FCLASS_ID\":2,\"FTYPE_FREQ\":\"FM\",\"FTYPE_EXCL\":\"Yes\",\"FTYPE_STAB\":\"Yes\",\"PERSIST_HISTORY\":\"Yes\",\"USED_FOR_CAND\":\"Yes\",\"DERIVED\":\"No\",\"RTYPE_ID\":0,\"ANONYMIZE\":\"No\",\"VERSION\":2,\"SHOW_IN_MATCH_KEY\":\"Yes\"},{\"FTYPE_ID\":4,\"FTYPE_CODE\":\"GENDER\",\"FCLASS_ID\":3,\"FTYPE_FREQ\":\"FVM\",\"FTYPE_EXCL\":\"Yes\",\"FTYPE_STAB\":\"No\",\"PERSIST_HISTORY\":\"Yes\",\"USED_FOR_CAND\":\"No\",\"DERIVED\":\"No\",\"RTYPE_ID\":0,\"ANONYMIZE\":\"No\",\"VERSION\":1,\"SHOW_IN_MATCH_KEY\":\"Denial\"},{\"FTYPE_ID\":5,\"FTYPE_CODE\":\"ADDRESS\",\"FCLASS_ID\":4,\"FTYPE_FREQ\":\"FF\",\"FTYPE_EXCL\":\"No\",\"FTYPE_STAB\":\"No\",\"PERSIST_HISTORY\":\"Yes\",\"USED_FOR_CAND\":\"No\",\"DERIVED\":\"No\",\"RTYPE_ID\":0,\"ANONYMIZE\":\"No\",\"VERSION\":4,\"SHOW_IN_MATCH_KEY\":\"Yes\"},{\"FTYPE_ID\":6,\"FTYPE_CODE\":\"PHONE\",\"FCLASS_ID\":5,\"FTYPE_FREQ\":\"FF\",\"FTYPE_EXCL\":\"No\",\"FTYPE_STAB\":\"No\",\"PERSIST_HISTORY\":\"Yes\",\"USED_FOR_CAND\":\"Yes\",\"DERIVED\":\"No\",\"RTYPE_ID\":0,\"ANONYMIZE\":\"No\",\"VERSION\":1,\"SHOW_IN_MATCH_KEY\":\"Yes\"},{\"FTYPE_ID\":7,\"FTYPE_CODE\":\"SSN\",\"FCLASS_ID\":7,\"FTYPE_FREQ\":\"F1\",\"FTYPE_EXCL\":\"Yes\",\"FTYPE_STAB\":\"Yes\",\"PERSIST_HISTORY\":\"Yes\",\"USED_FOR_CAND\":\"Yes\",\"DERIVED\":\"No\",\"RTYPE_ID\":0,\"ANONYMIZE\":\"No\",\"VERSION\":1,\"SHOW_IN_MATCH_KEY\":\"Yes\"},{\"FTYPE_ID\":9,\"FTYPE_CODE\":\"DRLIC\",\"FCLASS_ID\":7,\"FTYPE_FREQ\":\"F1\",\"FTYPE_EXCL\":\"Yes\",\"FTYPE_STAB\":\"No\",\"PERSIST_HISTORY\":\"Yes\",\"USED_FOR_CAND\":\"Yes\",\"DERIVED\":\"No\",\"RTYPE_ID\":0,\"ANONYMIZE\":\"No\",\"VERSION\":1,\"SHOW_IN_MATCH_KEY\":\"Yes\"},{\"FTYPE_ID\":10,\"FTYPE_CODE\":\"PASSPORT\",\"FCLASS_ID\":7,\"FTYPE_FREQ\":\"F1\",\"FTYPE_EXCL\":\"Yes\",\"FTYPE_STAB\":\"No\",\"PERSIST_HISTORY\":\"Yes\",\"USED_FOR_CAND\":\"Yes\",\"DERIVED\":\"No\",\"RTYPE_ID\":0,\"ANONYMIZE\":\"No\",\"VERSION\":2,\"SHOW_IN_MATCH_KEY\":\"Yes\"},{\"FTYPE_ID\":11,\"FTYPE_CODE\":\"TAX_ID\",\"FCLASS_ID\":7,\"FTYPE_FREQ\":\"F1\",\"FTYPE_EXCL\":\"Yes\",\"FTYPE_STAB\":\"Yes\",\"PERSIST_HISTORY\":\"Yes\",\"USED_FOR_CAND\":\"Yes\",\"DERIVED\":\"No\",\"RTYPE_ID\":0,\"ANONYMIZE\":\"No\",\"VERSION\":2,\"SHOW_IN_MATCH_KEY\":\"Yes\"},{\"FTYPE_ID\":12,\"FTYPE_CODE\":\"NATIONAL_ID\",\"FCLASS_ID\":7,\"FTYPE_FREQ\":\"F1\",\"FTYPE_EXCL\":\"Yes\",\"FTYPE_STAB\":\"Yes\",\"PERSIST_HISTORY\":\"Yes\",\"USED_FOR_CAND\":\"Yes\",\"DERIVED\":\"No\",\"RTYPE_ID\":0,\"ANONYMIZE\":\"No\",\"VERSION\":2,\"SHOW_IN_MATCH_KEY\":\"Yes\"},{\"FTYPE_ID\":13,\"FTYPE_CODE\":\"LOGIN_ID\",\"FCLASS_ID\":6,\"FTYPE_FREQ\":\"F1\",\"FTYPE_EXCL\":\"No\",\"FTYPE_STAB\":\"No\",\"PERSIST_HISTORY\":\"Yes\",\"USED_FOR_CAND\":\"Yes\",\"DERIVED\":\"No\",\"RTYPE_ID\":0,\"ANONYMIZE\":\"No\",\"VERSION\":1,\"SHOW_IN_MATCH_KEY\":\"Yes\"},{\"FTYPE_ID\":14,\"FTYPE_CODE\":\"EMAIL\",\"FCLASS_ID\":6,\"FTYPE_FREQ\":\"F1\",\"FTYPE_EXCL\":\"No\",\"FTYPE_STAB\":\"No\",\"PERSIST_HISTORY\":\"Yes\",\"USED_FOR_CAND\":\"Yes\",\"DERIVED\":\"No\",\"RTYPE_ID\":0,\"ANONYMIZE\":\"No\",\"VERSION\":2,\"SHOW_IN_MATCH_KEY\":\"Yes\"},{\"FTYPE_ID\":15,\"FTYPE_CODE\":\"WEBSITE\",\"FCLASS_ID\":6,\"FTYPE_FREQ\":\"FF\",\"FTYPE_EXCL\":\"No\",\"FTYPE_STAB\":\"No\",\"PERSIST_HISTORY\":\"Yes\",\"USED_FOR_CAND\":\"Yes\",\"DERIVED\":\"No\",\"RTYPE_ID\":0,\"ANONYMIZE\":\"No\",\"VERSION\":1,\"SHOW_IN_MATCH_KEY\":\"Yes\"},{\"FTYPE_ID\":16,\"FTYPE_CODE\":\"ACCT_NUM\",\"FCLASS_ID\":7,\"FTYPE_FREQ\":\"F1\",\"FTYPE_EXCL\":\"No\",\"FTYPE_STAB\":\"No\",\"PERSIST_HISTORY\":\"Yes\",\"USED_FOR_CAND\":\"Yes\",\"DERIVED\":\"No\",\"RTYPE_ID\":0,\"ANONYMIZE\":\"No\",\"VERSION\":1,\"SHOW_IN_MATCH_KEY\":\"Yes\"},{\"FTYPE_ID\":18,\"FTYPE_CODE\":\"NAME_KEY\",\"FCLASS_ID\":10,\"FTYPE_FREQ\":\"NAME\",\"FTYPE_EXCL\":\"No\",\"FTYPE_STAB\":\"No\",\"PERSIST_HISTORY\":\"Yes\",\"USED_FOR_CAND\":\"Yes\",\"DERIVED\":\"Yes\",\"RTYPE_ID\":0,\"ANONYMIZE\":\"No\",\"VERSION\":1,\"SHOW_IN_MATCH_KEY\":\"No\"},{\"FTYPE_ID\":19,\"FTYPE_CODE\":\"ADDR_KEY\",\"FCLASS_ID\":10,\"FTYPE_FREQ\":\"FF\",\"FTYPE_EXCL\":\"No\",\"FTYPE_STAB\":\"No\",\"PERSIST_HISTORY\":\"Yes\",\"USED_FOR_CAND\":\"Yes\",\"DERIVED\":\"Yes\",\"RTYPE_ID\":0,\"ANONYMIZE\":\"No\",\"VERSION\":1,\"SHOW_IN_MATCH_KEY\":\"No\"},{\"FTYPE_ID\":20,\"FTYPE_CODE\":\"ID_KEY\",\"FCLASS_ID\":10,\"FTYPE_FREQ\":\"F1\",\"FTYPE_EXCL\":\"No\",\"FTYPE_STAB\":\"No\",\"PERSIST_HISTORY\":\"Yes\",\"USED_FOR_CAND\":\"Yes\",\"DERIVED\":\"Yes\",\"RTYPE_ID\":0,\"ANONYMIZE\":\"No\",\"VERSION\":1,\"SHOW_IN_MATCH_KEY\":\"No\"},{\"FTYPE_ID\":21,\"FTYPE_CODE\":\"PHONE_KEY\",\"FCLASS_ID\":10,\"FTYPE_FREQ\":\"FF\",\"FTYPE_EXCL\":\"No\",\"FTYPE_STAB\":\"No\",\"PERSIST_HISTORY\":\"Yes\",\"USED_FOR_CAND\":\"Yes\",\"DERIVED\":\"Yes\",\"RTYPE_ID\":0,\"ANONYMIZE\":\"No\",\"VERSION\":1,\"SHOW_IN_MATCH_KEY\":\"No\"},{\"FTYPE_ID\":22,\"FTYPE_CODE\":\"SEARCH_KEY\",\"FCLASS_ID\":10,\"FTYPE_FREQ\":\"FF\",\"FTYPE_EXCL\":\"No\",\"FTYPE_STAB\":\"No\",\"PERSIST_HISTORY\":\"Yes\",\"USED_FOR_CAND\":\"Yes\",\"DERIVED\":\"Yes\",\"RTYPE_ID\":0,\"ANONYMIZE\":\"No\",\"VERSION\":1,\"SHOW_IN_MATCH_KEY\":\"No\"},{\"FTYPE_ID\":23,\"FTYPE_CODE\":\"REL_LINK\",\"FCLASS_ID\":12,\"FTYPE_FREQ\":\"NONE\",\"FTYPE_EXCL\":\"No\",\"FTYPE_STAB\":\"No\",\"PERSIST_HISTORY\":\"Yes\",\"USED_FOR_CAND\":\"No\",\"DERIVED\":\"No\",\"RTYPE_ID\":11,\"ANONYMIZE\":\"No\",\"VERSION\":1,\"SHOW_IN_MATCH_KEY\":\"Yes\"},{\"FTYPE_ID\":24,\"FTYPE_CODE\":\"GEO_LOC\",\"FCLASS_ID\":11,\"FTYPE_FREQ\":\"FF\",\"FTYPE_EXCL\":\"Yes\",\"FTYPE_STAB\":\"No\",\"PERSIST_HISTORY\":\"Yes\",\"USED_FOR_CAND\":\"Yes\",\"DERIVED\":\"No\",\"RTYPE_ID\":0,\"ANONYMIZE\":\"No\",\"VERSION\":1,\"SHOW_IN_MATCH_KEY\":\"Confirm\"},{\"FTYPE_ID\":26,\"FTYPE_CODE\":\"STB_KEY\",\"FCLASS_ID\":10,\"FTYPE_FREQ\":\"FF\",\"FTYPE_EXCL\":\"No\",\"FTYPE_STAB\":\"No\",\"PERSIST_HISTORY\":\"Yes\",\"USED_FOR_CAND\":\"Yes\",\"DERIVED\":\"No\",\"RTYPE_ID\":0,\"ANONYMIZE\":\"No\",\"VERSION\":1,\"SHOW_IN_MATCH_KEY\":\"Confirm\"},{\"FTYPE_ID\":27,\"FTYPE_CODE\":\"INTERESTING_ENTITY\",\"FCLASS_ID\":9,\"FTYPE_FREQ\":\"FM\",\"FTYPE_EXCL\":\"No\",\"FTYPE_STAB\":\"No\",\"PERSIST_HISTORY\":\"No\",\"USED_FOR_CAND\":\"Yes\",\"DERIVED\":\"No\",\"RTYPE_ID\":0,\"ANONYMIZE\":\"No\",\"VERSION\":1,\"SHOW_IN_MATCH_KEY\":\"No\"},{\"FTYPE_ID\":28,\"FTYPE_CODE\":\"CONFUSED_ENTITY\",\"FCLASS_ID\":9,\"FTYPE_FREQ\":\"FM\",\"FTYPE_EXCL\":\"No\",\"FTYPE_STAB\":\"No\",\"PERSIST_HISTORY\":\"No\",\"USED_FOR_CAND\":\"No\",\"DERIVED\":\"Yes\",\"RTYPE_ID\":0,\"ANONYMIZE\":\"No\",\"VERSION\":1,\"SHOW_IN_MATCH_KEY\":\"No\"},{\"FTYPE_ID\":36,\"FTYPE_CODE\":\"VEH_VIN\",\"FCLASS_ID\":7,\"FTYPE_FREQ\":\"F1\",\"FTYPE_EXCL\":\"Yes\",\"FTYPE_STAB\":\"Yes\",\"PERSIST_HISTORY\":\"Yes\",\"USED_FOR_CAND\":\"Yes\",\"DERIVED\":\"No\",\"RTYPE_ID\":0,\"ANONYMIZE\":\"No\",\"VERSION\":1,\"SHOW_IN_MATCH_KEY\":\"Yes\"},{\"FTYPE_ID\":37,\"FTYPE_CODE\":\"VEH_LIC_PLATE\",\"FCLASS_ID\":7,\"FTYPE_FREQ\":\"F1\",\"FTYPE_EXCL\":\"Yes\",\"FTYPE_STAB\":\"No\",\"PERSIST_HISTORY\":\"Yes\",\"USED_FOR_CAND\":\"Yes\",\"DERIVED\":\"No\",\"RTYPE_ID\":0,\"ANONYMIZE\":\"No\",\"VERSION\":1,\"SHOW_IN_MATCH_KEY\":\"Yes\"},{\"FTYPE_ID\":52,\"FTYPE_CODE\":\"OTHER_ID\",\"FCLASS_ID\":7,\"FTYPE_FREQ\":\"F1\",\"FTYPE_EXCL\":\"No\",\"FTYPE_STAB\":\"No\",\"PERSIST_HISTORY\":\"Yes\",\"USED_FOR_CAND\":\"Yes\",\"DERIVED\":\"No\",\"RTYPE_ID\":0,\"ANONYMIZE\":\"No\",\"VERSION\":2,\"SHOW_IN_MATCH_KEY\":\"Yes\"},{\"FTYPE_ID\":53,\"FTYPE_CODE\":\"TRUSTED_ID\",\"FCLASS_ID\":7,\"FTYPE_FREQ\":\"A1\",\"FTYPE_EXCL\":\"Yes\",\"FTYPE_STAB\":\"Yes\",\"PERSIST_HISTORY\":\"Yes\",\"USED_FOR_CAND\":\"Yes\",\"DERIVED\":\"No\",\"RTYPE_ID\":0,\"ANONYMIZE\":\"No\",\"VERSION\":1,\"SHOW_IN_MATCH_KEY\":\"Yes\"},{\"FTYPE_ID\":54,\"FTYPE_CODE\":\"CITIZENSHIP\",\"FCLASS_ID\":3,\"FTYPE_FREQ\":\"FVM\",\"FTYPE_EXCL\":\"No\",\"FTYPE_STAB\":\"No\",\"PERSIST_HISTORY\":\"Yes\",\"USED_FOR_CAND\":\"No\",\"DERIVED\":\"No\",\"RTYPE_ID\":0,\"ANONYMIZE\":\"No\",\"VERSION\":2,\"SHOW_IN_MATCH_KEY\":\"Yes\"},{\"FTYPE_ID\":55,\"FTYPE_CODE\":\"NATIONALITY\",\"FCLASS_ID\":3,\"FTYPE_FREQ\":\"FVM\",\"FTYPE_EXCL\":\"No\",\"FTYPE_STAB\":\"No\",\"PERSIST_HISTORY\":\"Yes\",\"USED_FOR_CAND\":\"No\",\"DERIVED\":\"No\",\"RTYPE_ID\":0,\"ANONYMIZE\":\"No\",\"VERSION\":2,\"SHOW_IN_MATCH_KEY\":\"Yes\"},{\"FTYPE_ID\":56,\"FTYPE_CODE\":\"PHYSICAL_ATTRIBUTE\",\"FCLASS_ID\":9,\"FTYPE_FREQ\":\"FVM\",\"FTYPE_EXCL\":\"Yes\",\"FTYPE_STAB\":\"No\",\"PERSIST_HISTORY\":\"Yes\",\"USED_FOR_CAND\":\"Yes\",\"DERIVED\":\"No\",\"RTYPE_ID\":0,\"ANONYMIZE\":\"No\",\"VERSION\":1,\"SHOW_IN_MATCH_KEY\":\"Denial\"},{\"FTYPE_ID\":57,\"FTYPE_CODE\":\"GROUP_ASSOCIATION\",\"FCLASS_ID\":9,\"FTYPE_FREQ\":\"FF\",\"FTYPE_EXCL\":\"No\",\"FTYPE_STAB\":\"No\",\"PERSIST_HISTORY\":\"Yes\",\"USED_FOR_CAND\":\"No\",\"DERIVED\":\"No\",\"RTYPE_ID\":0,\"ANONYMIZE\":\"No\",\"VERSION\":1,\"SHOW_IN_MATCH_KEY\":\"Yes\"},{\"FTYPE_ID\":58,\"FTYPE_CODE\":\"AMBIGUOUS_ENTITY\",\"FCLASS_ID\":9,\"FTYPE_FREQ\":\"FM\",\"FTYPE_EXCL\":\"No\",\"FTYPE_STAB\":\"No\",\"PERSIST_HISTORY\":\"No\",\"USED_FOR_CAND\":\"No\",\"DERIVED\":\"Yes\",\"RTYPE_ID\":0,\"ANONYMIZE\":\"No\",\"VERSION\":1,\"SHOW_IN_MATCH_KEY\":\"No\"},{\"FTYPE_ID\":59,\"FTYPE_CODE\":\"EMPLOYER\",\"FCLASS_ID\":9,\"FTYPE_FREQ\":\"FF\",\"FTYPE_EXCL\":\"No\",\"FTYPE_STAB\":\"No\",\"PERSIST_HISTORY\":\"Yes\",\"USED_FOR_CAND\":\"Yes\",\"DERIVED\":\"No\",\"RTYPE_ID\":0,\"ANONYMIZE\":\"No\",\"VERSION\":1,\"SHOW_IN_MATCH_KEY\":\"Yes\"},{\"FTYPE_ID\":60,\"FTYPE_CODE\":\"LINKEDIN\",\"FCLASS_ID\":6,\"FTYPE_FREQ\":\"F1\",\"FTYPE_EXCL\":\"No\",\"FTYPE_STAB\":\"No\",\"PERSIST_HISTORY\":\"Yes\",\"USED_FOR_CAND\":\"Yes\",\"DERIVED\":\"No\",\"RTYPE_ID\":0,\"ANONYMIZE\":\"No\",\"VERSION\":1,\"SHOW_IN_MATCH_KEY\":\"Yes\"},{\"FTYPE_ID\":61,\"FTYPE_CODE\":\"FACEBOOK\",\"FCLASS_ID\":6,\"FTYPE_FREQ\":\"F1\",\"FTYPE_EXCL\":\"No\",\"FTYPE_STAB\":\"No\",\"PERSIST_HISTORY\":\"Yes\",\"USED_FOR_CAND\":\"Yes\",\"DERIVED\":\"No\",\"RTYPE_ID\":0,\"ANONYMIZE\":\"No\",\"VERSION\":1,\"SHOW_IN_MATCH_KEY\":\"Yes\"},{\"FTYPE_ID\":62,\"FTYPE_CODE\":\"TWITTER\",\"FCLASS_ID\":6,\"FTYPE_FREQ\":\"F1\",\"FTYPE_EXCL\":\"No\",\"FTYPE_STAB\":\"No\",\"PERSIST_HISTORY\":\"Yes\",\"USED_FOR_CAND\":\"Yes\",\"DERIVED\":\"No\",\"RTYPE_ID\":0,\"ANONYMIZE\":\"No\",\"VERSION\":1,\"SHOW_IN_MATCH_KEY\":\"Yes\"},{\"FTYPE_ID\":63,\"FTYPE_CODE\":\"SKYPE\",\"FCLASS_ID\":6,\"FTYPE_FREQ\":\"F1\",\"FTYPE_EXCL\":\"No\",\"FTYPE_STAB\":\"No\",\"PERSIST_HISTORY\":\"Yes\",\"USED_FOR_CAND\":\"Yes\",\"DERIVED\":\"No\",\"RTYPE_ID\":0,\"ANONYMIZE\":\"No\",\"VERSION\":1,\"SHOW_IN_MATCH_KEY\":\"Yes\"},{\"FTYPE_ID\":64,\"FTYPE_CODE\":\"ZOOMROOM\",\"FCLASS_ID\":6,\"FTYPE_FREQ\":\"F1\",\"FTYPE_EXCL\":\"No\",\"FTYPE_STAB\":\"No\",\"PERSIST_HISTORY\":\"Yes\",\"USED_FOR_CAND\":\"Yes\",\"DERIVED\":\"No\",\"RTYPE_ID\":0,\"ANONYMIZE\":\"No\",\"VERSION\":1,\"SHOW_IN_MATCH_KEY\":\"Yes\"},{\"FTYPE_ID\":65,\"FTYPE_CODE\":\"INSTAGRAM\",\"FCLASS_ID\":6,\"FTYPE_FREQ\":\"F1\",\"FTYPE_EXCL\":\"No\",\"FTYPE_STAB\":\"No\",\"PERSIST_HISTORY\":\"Yes\",\"USED_FOR_CAND\":\"Yes\",\"DERIVED\":\"No\",\"RTYPE_ID\":0,\"ANONYMIZE\":\"No\",\"VERSION\":1,\"SHOW_IN_MATCH_KEY\":\"Yes\"},{\"FTYPE_ID\":66,\"FTYPE_CODE\":\"WHATSAPP\",\"FCLASS_ID\":6,\"FTYPE_FREQ\":\"F1\",\"FTYPE_EXCL\":\"No\",\"FTYPE_STAB\":\"No\",\"PERSIST_HISTORY\":\"Yes\",\"USED_FOR_CAND\":\"Yes\",\"DERIVED\":\"No\",\"RTYPE_ID\":0,\"ANONYMIZE\":\"No\",\"VERSION\":1,\"SHOW_IN_MATCH_KEY\":\"Yes\"},{\"FTYPE_ID\":67,\"FTYPE_CODE\":\"SIGNAL\",\"FCLASS_ID\":6,\"FTYPE_FREQ\":\"F1\",\"FTYPE_EXCL\":\"No\",\"FTYPE_STAB\":\"No\",\"PERSIST_HISTORY\":\"Yes\",\"USED_FOR_CAND\":\"Yes\",\"DERIVED\":\"No\",\"RTYPE_ID\":0,\"ANONYMIZE\":\"No\",\"VERSION\":1,\"SHOW_IN_MATCH_KEY\":\"Yes\"},{\"FTYPE_ID\":68,\"FTYPE_CODE\":\"TELEGRAM\",\"FCLASS_ID\":6,\"FTYPE_FREQ\":\"F1\",\"FTYPE_EXCL\":\"No\",\"FTYPE_STAB\":\"No\",\"PERSIST_HISTORY\":\"Yes\",\"USED_FOR_CAND\":\"Yes\",\"DERIVED\":\"No\",\"RTYPE_ID\":0,\"ANONYMIZE\":\"No\",\"VERSION\":1,\"SHOW_IN_MATCH_KEY\":\"Yes\"},{\"FTYPE_ID\":69,\"FTYPE_CODE\":\"TANGO\",\"FCLASS_ID\":6,\"FTYPE_FREQ\":\"F1\",\"FTYPE_EXCL\":\"No\",\"FTYPE_STAB\":\"No\",\"PERSIST_HISTORY\":\"Yes\",\"USED_FOR_CAND\":\"Yes\",\"DERIVED\":\"No\",\"RTYPE_ID\":0,\"ANONYMIZE\":\"No\",\"VERSION\":1,\"SHOW_IN_MATCH_KEY\":\"Yes\"},{\"FTYPE_ID\":70,\"FTYPE_CODE\":\"VIBER\",\"FCLASS_ID\":6,\"FTYPE_FREQ\":\"F1\",\"FTYPE_EXCL\":\"No\",\"FTYPE_STAB\":\"No\",\"PERSIST_HISTORY\":\"Yes\",\"USED_FOR_CAND\":\"Yes\",\"DERIVED\":\"No\",\"RTYPE_ID\":0,\"ANONYMIZE\":\"No\",\"VERSION\":1,\"SHOW_IN_MATCH_KEY\":\"Yes\"},{\"FTYPE_ID\":71,\"FTYPE_CODE\":\"WECHAT\",\"FCLASS_ID\":6,\"FTYPE_FREQ\":\"F1\",\"FTYPE_EXCL\":\"No\",\"FTYPE_STAB\":\"No\",\"PERSIST_HISTORY\":\"Yes\",\"USED_FOR_CAND\":\"Yes\",\"DERIVED\":\"No\",\"RTYPE_ID\":0,\"ANONYMIZE\":\"No\",\"VERSION\":1,\"SHOW_IN_MATCH_KEY\":\"Yes\"},{\"FTYPE_ID\":72,\"FTYPE_CODE\":\"RECORD_TYPE\",\"FCLASS_ID\":3,\"FTYPE_FREQ\":\"FVM\",\"FTYPE_EXCL\":\"Yes\",\"FTYPE_STAB\":\"No\",\"PERSIST_HISTORY\":\"Yes\",\"USED_FOR_CAND\":\"No\",\"DERIVED\":\"No\",\"RTYPE_ID\":0,\"ANONYMIZE\":\"No\",\"VERSION\":1,\"SHOW_IN_MATCH_KEY\":\"Denial\"},{\"FTYPE_ID\":74,\"FTYPE_CODE\":\"PLACE_OF_BIRTH\",\"FCLASS_ID\":3,\"FTYPE_FREQ\":\"FVM\",\"FTYPE_EXCL\":\"No\",\"FTYPE_STAB\":\"No\",\"PERSIST_HISTORY\":\"Yes\",\"USED_FOR_CAND\":\"No\",\"DERIVED\":\"No\",\"RTYPE_ID\":0,\"ANONYMIZE\":\"No\",\"VERSION\":1,\"SHOW_IN_MATCH_KEY\":\"Yes\"},{\"FTYPE_ID\":75,\"FTYPE_CODE\":\"REGISTRATION_DATE\",\"FCLASS_ID\":2,\"FTYPE_FREQ\":\"FM\",\"FTYPE_EXCL\":\"Yes\",\"FTYPE_STAB\":\"Yes\",\"PERSIST_HISTORY\":\"Yes\",\"USED_FOR_CAND\":\"Yes\",\"DERIVED\":\"No\",\"RTYPE_ID\":0,\"ANONYMIZE\":\"No\",\"VERSION\":2,\"SHOW_IN_MATCH_KEY\":\"Yes\"},{\"FTYPE_ID\":76,\"FTYPE_CODE\":\"REGISTRATION_COUNTRY\",\"FCLASS_ID\":3,\"FTYPE_FREQ\":\"FVM\",\"FTYPE_EXCL\":\"No\",\"FTYPE_STAB\":\"No\",\"PERSIST_HISTORY\":\"Yes\",\"USED_FOR_CAND\":\"No\",\"DERIVED\":\"No\",\"RTYPE_ID\":0,\"ANONYMIZE\":\"No\",\"VERSION\":1,\"SHOW_IN_MATCH_KEY\":\"Yes\"},{\"FTYPE_ID\":77,\"FTYPE_CODE\":\"GROUP_ASSN_ID\",\"FCLASS_ID\":9,\"FTYPE_FREQ\":\"FF\",\"FTYPE_EXCL\":\"No\",\"FTYPE_STAB\":\"No\",\"PERSIST_HISTORY\":\"Yes\",\"USED_FOR_CAND\":\"Yes\",\"DERIVED\":\"No\",\"RTYPE_ID\":0,\"ANONYMIZE\":\"No\",\"VERSION\":1,\"SHOW_IN_MATCH_KEY\":\"Yes\"},{\"FTYPE_ID\":78,\"FTYPE_CODE\":\"DUNS_NUMBER\",\"FCLASS_ID\":7,\"FTYPE_FREQ\":\"F1\",\"FTYPE_EXCL\":\"Yes\",\"FTYPE_STAB\":\"No\",\"PERSIST_HISTORY\":\"Yes\",\"USED_FOR_CAND\":\"Yes\",\"DERIVED\":\"No\",\"RTYPE_ID\":0,\"ANONYMIZE\":\"No\",\"VERSION\":2,\"SHOW_IN_MATCH_KEY\":\"Yes\"},{\"FTYPE_ID\":79,\"FTYPE_CODE\":\"NPI_NUMBER\",\"FCLASS_ID\":7,\"FTYPE_FREQ\":\"F1\",\"FTYPE_EXCL\":\"Yes\",\"FTYPE_STAB\":\"No\",\"PERSIST_HISTORY\":\"Yes\",\"USED_FOR_CAND\":\"Yes\",\"DERIVED\":\"No\",\"RTYPE_ID\":0,\"ANONYMIZE\":\"No\",\"VERSION\":2,\"SHOW_IN_MATCH_KEY\":\"Yes\"},{\"FTYPE_ID\":80,\"FTYPE_CODE\":\"LEI_NUMBER\",\"FCLASS_ID\":7,\"FTYPE_FREQ\":\"F1\",\"FTYPE_EXCL\":\"Yes\",\"FTYPE_STAB\":\"No\",\"PERSIST_HISTORY\":\"Yes\",\"USED_FOR_CAND\":\"Yes\",\"DERIVED\":\"No\",\"RTYPE_ID\":0,\"ANONYMIZE\":\"No\",\"VERSION\":2,\"SHOW_IN_MATCH_KEY\":\"Yes\"},{\"FTYPE_ID\":86,\"FTYPE_CODE\":\"COUNTRY_OF_ASSOCIATION\",\"FCLASS_ID\":3,\"FTYPE_FREQ\":\"FVM\",\"FTYPE_EXCL\":\"No\",\"FTYPE_STAB\":\"No\",\"PERSIST_HISTORY\":\"Yes\",\"USED_FOR_CAND\":\"No\",\"DERIVED\":\"No\",\"RTYPE_ID\":0,\"ANONYMIZE\":\"No\",\"VERSION\":1,\"SHOW_IN_MATCH_KEY\":\"Denial\"},{\"FTYPE_ID\":87,\"FTYPE_CODE\":\"MOBILE_AD_ID\",\"FCLASS_ID\":7,\"FTYPE_FREQ\":\"FF\",\"FTYPE_EXCL\":\"No\",\"FTYPE_STAB\":\"No\",\"PERSIST_HISTORY\":\"Yes\",\"USED_FOR_CAND\":\"Yes\",\"DERIVED\":\"No\",\"RTYPE_ID\":0,\"ANONYMIZE\":\"No\",\"VERSION\":2,\"SHOW_IN_MATCH_KEY\":\"Yes\"},{\"FTYPE_ID\":88,\"FTYPE_CODE\":\"EMAIL_KEY\",\"FCLASS_ID\":10,\"FTYPE_FREQ\":\"F1\",\"FTYPE_EXCL\":\"No\",\"FTYPE_STAB\":\"No\",\"PERSIST_HISTORY\":\"Yes\",\"USED_FOR_CAND\":\"Yes\",\"DERIVED\":\"Yes\",\"RTYPE_ID\":0,\"ANONYMIZE\":\"No\",\"VERSION\":1,\"SHOW_IN_MATCH_KEY\":\"No\"},{\"FTYPE_ID\":89,\"FTYPE_CODE\":\"REL_ANCHOR\",\"FCLASS_ID\":9,\"FTYPE_FREQ\":\"NONE\",\"FTYPE_EXCL\":\"No\",\"FTYPE_STAB\":\"No\",\"PERSIST_HISTORY\":\"Yes\",\"USED_FOR_CAND\":\"No\",\"DERIVED\":\"No\",\"RTYPE_ID\":11,\"ANONYMIZE\":\"No\",\"VERSION\":1,\"SHOW_IN_MATCH_KEY\":\"Yes\"},{\"FTYPE_ID\":90,\"FTYPE_CODE\":\"REL_POINTER\",\"FCLASS_ID\":9,\"FTYPE_FREQ\":\"NONE\",\"FTYPE_EXCL\":\"No\",\"FTYPE_STAB\":\"No\",\"PERSIST_HISTORY\":\"Yes\",\"USED_FOR_CAND\":\"No\",\"DERIVED\":\"No\",\"RTYPE_ID\":11,\"ANONYMIZE\":\"No\",\"VERSION\":1,\"SHOW_IN_MATCH_KEY\":\"Yes\"},{\"FTYPE_ID\":91,\"FTYPE_CODE\":\"SUPPRESSED_RELATION_DOMAIN\",\"FCLASS_ID\":9,\"FTYPE_FREQ\":\"FM\",\"FTYPE_EXCL\":\"No\",\"FTYPE_STAB\":\"No\",\"PERSIST_HISTORY\":\"No\",\"USED_FOR_CAND\":\"No\",\"DERIVED\":\"Yes\",\"RTYPE_ID\":0,\"ANONYMIZE\":\"No\",\"VERSION\":1,\"SHOW_IN_MATCH_KEY\":\"No\"}],\"CFG_FCLASS\":[{\"FCLASS_ID\":8,\"FCLASS_CODE\":\"PARTIAL_ID\"},{\"FCLASS_ID\":6,\"FCLASS_CODE\":\"ELECTED_ID\"},{\"FCLASS_ID\":10,\"FCLASS_CODE\":\"INTERNAL_USE\"},{\"FCLASS_ID\":11,\"FCLASS_CODE\":\"SPACE_TIME\"},{\"FCLASS_ID\":4,\"FCLASS_CODE\":\"POSTAL_ADDRESS\"},{\"FCLASS_ID\":7,\"FCLASS_CODE\":\"ISSUED_ID\"},{\"FCLASS_ID\":1,\"FCLASS_CODE\":\"NAME\"},{\"FCLASS_ID\":3,\"FCLASS_CODE\":\"BIO_FEATURE\"},{\"FCLASS_ID\":12,\"FCLASS_CODE\":\"RELATIONSHIP\"},{\"FCLASS_ID\":5,\"FCLASS_CODE\":\"PHONE\"},{\"FCLASS_ID\":9,\"FCLASS_CODE\":\"OTHER\"},{\"FCLASS_ID\":2,\"FCLASS_CODE\":\"BIO_DATE\"}],\"CFG_FBOM\":[{\"FTYPE_ID\":1,\"EXEC_ORDER\":1,\"FELEM_ID\":2,\"DISPLAY_LEVEL\":1,\"DISPLAY_DELIM\":\"\",\"DERIVED\":\"No\"},{\"FTYPE_ID\":1,\"EXEC_ORDER\":2,\"FELEM_ID\":3,\"DISPLAY_LEVEL\":0,\"DISPLAY_DELIM\":\"\",\"DERIVED\":\"No\"},{\"FTYPE_ID\":1,\"EXEC_ORDER\":3,\"FELEM_ID\":4,\"DISPLAY_LEVEL\":0,\"DISPLAY_DELIM\":\"\",\"DERIVED\":\"No\"},{\"FTYPE_ID\":1,\"EXEC_ORDER\":4,\"FELEM_ID\":5,\"DISPLAY_LEVEL\":0,\"DISPLAY_DELIM\":\"\",\"DERIVED\":\"No\"},{\"FTYPE_ID\":1,\"EXEC_ORDER\":5,\"FELEM_ID\":6,\"DISPLAY_LEVEL\":0,\"DISPLAY_DELIM\":\"\",\"DERIVED\":\"No\"},{\"FTYPE_ID\":1,\"EXEC_ORDER\":6,\"FELEM_ID\":7,\"DISPLAY_LEVEL\":0,\"DISPLAY_DELIM\":\"\",\"DERIVED\":\"No\"},{\"FTYPE_ID\":1,\"EXEC_ORDER\":7,\"FELEM_ID\":8,\"DISPLAY_LEVEL\":0,\"DISPLAY_DELIM\":\"\",\"DERIVED\":\"No\"},{\"FTYPE_ID\":1,\"EXEC_ORDER\":8,\"FELEM_ID\":9,\"DISPLAY_LEVEL\":1,\"DISPLAY_DELIM\":\"\",\"DERIVED\":\"No\"},{\"FTYPE_ID\":1,\"EXEC_ORDER\":9,\"FELEM_ID\":10,\"DISPLAY_LEVEL\":0,\"DISPLAY_DELIM\":\"\",\"DERIVED\":\"Yes\"},{\"FTYPE_ID\":1,\"EXEC_ORDER\":10,\"FELEM_ID\":11,\"DISPLAY_LEVEL\":0,\"DISPLAY_DELIM\":\"\",\"DERIVED\":\"Yes\"},{\"FTYPE_ID\":1,\"EXEC_ORDER\":11,\"FELEM_ID\":12,\"DISPLAY_LEVEL\":0,\"DISPLAY_DELIM\":\"\",\"DERIVED\":\"Yes\"},{\"FTYPE_ID\":1,\"EXEC_ORDER\":12,\"FELEM_ID\":77,\"DISPLAY_LEVEL\":0,\"DISPLAY_DELIM\":\"\",\"DERIVED\":\"Yes\"},{\"FTYPE_ID\":1,\"EXEC_ORDER\":13,\"FELEM_ID\":78,\"DISPLAY_LEVEL\":0,\"DISPLAY_DELIM\":\"\",\"DERIVED\":\"Yes\"},{\"FTYPE_ID\":1,\"EXEC_ORDER\":14,\"FELEM_ID\":79,\"DISPLAY_LEVEL\":0,\"DISPLAY_DELIM\":\"\",\"DERIVED\":\"Yes\"},{\"FTYPE_ID\":1,\"EXEC_ORDER\":15,\"FELEM_ID\":81,\"DISPLAY_LEVEL\":0,\"DISPLAY_DELIM\":\"\",\"DERIVED\":\"Yes\"},{\"FTYPE_ID\":1,\"EXEC_ORDER\":16,\"FELEM_ID\":83,\"DISPLAY_LEVEL\":0,\"DISPLAY_DELIM\":\"\",\"DERIVED\":\"Yes\"},{\"FTYPE_ID\":1,\"EXEC_ORDER\":17,\"FELEM_ID\":84,\"DISPLAY_LEVEL\":0,\"DISPLAY_DELIM\":\"\",\"DERIVED\":\"Yes\"},{\"FTYPE_ID\":1,\"EXEC_ORDER\":18,\"FELEM_ID\":86,\"DISPLAY_LEVEL\":0,\"DISPLAY_DELIM\":\"\",\"DERIVED\":\"Yes\"},{\"FTYPE_ID\":1,\"EXEC_ORDER\":19,\"FELEM_ID\":87,\"DISPLAY_LEVEL\":0,\"DISPLAY_DELIM\":\"\",\"DERIVED\":\"Yes\"},{\"FTYPE_ID\":1,\"EXEC_ORDER\":20,\"FELEM_ID\":89,\"DISPLAY_LEVEL\":0,\"DISPLAY_DELIM\":\"\",\"DERIVED\":\"Yes\"},{\"FTYPE_ID\":1,\"EXEC_ORDER\":21,\"FELEM_ID\":91,\"DISPLAY_LEVEL\":0,\"DISPLAY_DELIM\":\"\",\"DERIVED\":\"Yes\"},{\"FTYPE_ID\":1,\"EXEC_ORDER\":22,\"FELEM_ID\":92,\"DISPLAY_LEVEL\":0,\"DISPLAY_DELIM\":\"\",\"DERIVED\":\"Yes\"},{\"FTYPE_ID\":1,\"EXEC_ORDER\":23,\"FELEM_ID\":93,\"DISPLAY_LEVEL\":0,\"DISPLAY_DELIM\":\"\",\"DERIVED\":\"Yes\"},{\"FTYPE_ID\":1,\"EXEC_ORDER\":24,\"FELEM_ID\":94,\"DISPLAY_LEVEL\":0,\"DISPLAY_DELIM\":\"\",\"DERIVED\":\"Yes\"},{\"FTYPE_ID\":1,\"EXEC_ORDER\":25,\"FELEM_ID\":96,\"DISPLAY_LEVEL\":0,\"DISPLAY_DELIM\":\"\",\"DERIVED\":\"Yes\"},{\"FTYPE_ID\":1,\"EXEC_ORDER\":26,\"FELEM_ID\":118,\"DISPLAY_LEVEL\":0,\"DISPLAY_DELIM\":\"\",\"DERIVED\":\"Yes\"},{\"FTYPE_ID\":2,\"EXEC_ORDER\":1,\"FELEM_ID\":43,\"DISPLAY_LEVEL\":1,\"DISPLAY_DELIM\":\"\",\"DERIVED\":\"No\"},{\"FTYPE_ID\":2,\"EXEC_ORDER\":2,\"FELEM_ID\":62,\"DISPLAY_LEVEL\":0,\"DISPLAY_DELIM\":\"\",\"DERIVED\":\"Yes\"},{\"FTYPE_ID\":2,\"EXEC_ORDER\":3,\"FELEM_ID\":63,\"DISPLAY_LEVEL\":0,\"DISPLAY_DELIM\":\"\",\"DERIVED\":\"Yes\"},{\"FTYPE_ID\":2,\"EXEC_ORDER\":4,\"FELEM_ID\":64,\"DISPLAY_LEVEL\":0,\"DISPLAY_DELIM\":\"\",\"DERIVED\":\"Yes\"},{\"FTYPE_ID\":2,\"EXEC_ORDER\":5,\"FELEM_ID\":71,\"DISPLAY_LEVEL\":0,\"DISPLAY_DELIM\":\"\",\"DERIVED\":\"Yes\"},{\"FTYPE_ID\":2,\"EXEC_ORDER\":6,\"FELEM_ID\":112,\"DISPLAY_LEVEL\":0,\"DISPLAY_DELIM\":\"\",\"DERIVED\":\"Yes\"},{\"FTYPE_ID\":2,\"EXEC_ORDER\":7,\"FELEM_ID\":113,\"DISPLAY_LEVEL\":0,\"DISPLAY_DELIM\":\"\",\"DERIVED\":\"Yes\"},{\"FTYPE_ID\":3,\"EXEC_ORDER\":1,\"FELEM_ID\":43,\"DISPLAY_LEVEL\":1,\"DISPLAY_DELIM\":\"\",\"DERIVED\":\"No\"},{\"FTYPE_ID\":3,\"EXEC_ORDER\":2,\"FELEM_ID\":62,\"DISPLAY_LEVEL\":0,\"DISPLAY_DELIM\":\"\",\"DERIVED\":\"Yes\"},{\"FTYPE_ID\":3,\"EXEC_ORDER\":3,\"FELEM_ID\":63,\"DISPLAY_LEVEL\":0,\"DISPLAY_DELIM\":\"\",\"DERIVED\":\"Yes\"},{\"FTYPE_ID\":3,\"EXEC_ORDER\":4,\"FELEM_ID\":64,\"DISPLAY_LEVEL\":0,\"DISPLAY_DELIM\":\"\",\"DERIVED\":\"Yes\"},{\"FTYPE_ID\":3,\"EXEC_ORDER\":5,\"FELEM_ID\":71,\"DISPLAY_LEVEL\":0,\"DISPLAY_DELIM\":\"\",\"DERIVED\":\"Yes\"},{\"FTYPE_ID\":3,\"EXEC_ORDER\":6,\"FELEM_ID\":112,\"DISPLAY_LEVEL\":0,\"DISPLAY_DELIM\":\"\",\"DERIVED\":\"Yes\"},{\"FTYPE_ID\":3,\"EXEC_ORDER\":7,\"FELEM_ID\":113,\"DISPLAY_LEVEL\":0,\"DISPLAY_DELIM\":\"\",\"DERIVED\":\"Yes\"},{\"FTYPE_ID\":4,\"EXEC_ORDER\":1,\"FELEM_ID\":13,\"DISPLAY_LEVEL\":1,\"DISPLAY_DELIM\":\"\",\"DERIVED\":\"No\"},{\"FTYPE_ID\":5,\"EXEC_ORDER\":1,\"FELEM_ID\":100,\"DISPLAY_LEVEL\":1,\"DISPLAY_DELIM\":\"\",\"DERIVED\":\"No\"},{\"FTYPE_ID\":5,\"EXEC_ORDER\":2,\"FELEM_ID\":22,\"DISPLAY_LEVEL\":2,\"DISPLAY_DELIM\":\"\",\"DERIVED\":\"No\"},{\"FTYPE_ID\":5,\"EXEC_ORDER\":3,\"FELEM_ID\":23,\"DISPLAY_LEVEL\":2,\"DISPLAY_DELIM\":\"\",\"DERIVED\":\"No\"},{\"FTYPE_ID\":5,\"EXEC_ORDER\":4,\"FELEM_ID\":24,\"DISPLAY_LEVEL\":2,\"DISPLAY_DELIM\":\"\",\"DERIVED\":\"No\"},{\"FTYPE_ID\":5,\"EXEC_ORDER\":5,\"FELEM_ID\":101,\"DISPLAY_LEVEL\":0,\"DISPLAY_DELIM\":\"\",\"DERIVED\":\"No\"},{\"FTYPE_ID\":5,\"EXEC_ORDER\":6,\"FELEM_ID\":102,\"DISPLAY_LEVEL\":0,\"DISPLAY_DELIM\":\"\",\"DERIVED\":\"No\"},{\"FTYPE_ID\":5,\"EXEC_ORDER\":7,\"FELEM_ID\":103,\"DISPLAY_LEVEL\":0,\"DISPLAY_DELIM\":\"\",\"DERIVED\":\"No\"},{\"FTYPE_ID\":5,\"EXEC_ORDER\":8,\"FELEM_ID\":25,\"DISPLAY_LEVEL\":2,\"DISPLAY_DELIM\":\"\",\"DERIVED\":\"No\"},{\"FTYPE_ID\":5,\"EXEC_ORDER\":9,\"FELEM_ID\":26,\"DISPLAY_LEVEL\":2,\"DISPLAY_DELIM\":\"\",\"DERIVED\":\"No\"},{\"FTYPE_ID\":5,\"EXEC_ORDER\":10,\"FELEM_ID\":27,\"DISPLAY_LEVEL\":2,\"DISPLAY_DELIM\":\"\",\"DERIVED\":\"No\"},{\"FTYPE_ID\":5,\"EXEC_ORDER\":11,\"FELEM_ID\":28,\"DISPLAY_LEVEL\":2,\"DISPLAY_DELIM\":\"\",\"DERIVED\":\"No\"},{\"FTYPE_ID\":5,\"EXEC_ORDER\":12,\"FELEM_ID\":29,\"DISPLAY_LEVEL\":0,\"DISPLAY_DELIM\":\"\",\"DERIVED\":\"Yes\"},{\"FTYPE_ID\":5,\"EXEC_ORDER\":13,\"FELEM_ID\":30,\"DISPLAY_LEVEL\":0,\"DISPLAY_DELIM\":\"\",\"DERIVED\":\"Yes\"},{\"FTYPE_ID\":5,\"EXEC_ORDER\":14,\"FELEM_ID\":31,\"DISPLAY_LEVEL\":0,\"DISPLAY_DELIM\":\"\",\"DERIVED\":\"Yes\"},{\"FTYPE_ID\":5,\"EXEC_ORDER\":15,\"FELEM_ID\":32,\"DISPLAY_LEVEL\":0,\"DISPLAY_DELIM\":\"\",\"DERIVED\":\"Yes\"},{\"FTYPE_ID\":5,\"EXEC_ORDER\":16,\"FELEM_ID\":65,\"DISPLAY_LEVEL\":0,\"DISPLAY_DELIM\":\"\",\"DERIVED\":\"Yes\"},{\"FTYPE_ID\":5,\"EXEC_ORDER\":17,\"FELEM_ID\":66,\"DISPLAY_LEVEL\":0,\"DISPLAY_DELIM\":\"\",\"DERIVED\":\"Yes\"},{\"FTYPE_ID\":5,\"EXEC_ORDER\":18,\"FELEM_ID\":72,\"DISPLAY_LEVEL\":0,\"DISPLAY_DELIM\":\"\",\"DERIVED\":\"Yes\"},{\"FTYPE_ID\":5,\"EXEC_ORDER\":19,\"FELEM_ID\":73,\"DISPLAY_LEVEL\":0,\"DISPLAY_DELIM\":\"\",\"DERIVED\":\"Yes\"},{\"FTYPE_ID\":5,\"EXEC_ORDER\":20,\"FELEM_ID\":74,\"DISPLAY_LEVEL\":0,\"DISPLAY_DELIM\":\"\",\"DERIVED\":\"Yes\"},{\"FTYPE_ID\":5,\"EXEC_ORDER\":21,\"FELEM_ID\":11,\"DISPLAY_LEVEL\":0,\"DISPLAY_DELIM\":\"\",\"DERIVED\":\"No\"},{\"FTYPE_ID\":5,\"EXEC_ORDER\":22,\"FELEM_ID\":108,\"DISPLAY_LEVEL\":0,\"DISPLAY_DELIM\":\"\",\"DERIVED\":\"Yes\"},{\"FTYPE_ID\":5,\"EXEC_ORDER\":23,\"FELEM_ID\":117,\"DISPLAY_LEVEL\":0,\"DISPLAY_DELIM\":\"\",\"DERIVED\":\"No\"},{\"FTYPE_ID\":5,\"EXEC_ORDER\":24,\"FELEM_ID\":124,\"DISPLAY_LEVEL\":0,\"DISPLAY_DELIM\":\"\",\"DERIVED\":\"No\"},{\"FTYPE_ID\":6,\"EXEC_ORDER\":1,\"FELEM_ID\":109,\"DISPLAY_LEVEL\":1,\"DISPLAY_DELIM\":\"\",\"DERIVED\":\"No\"},{\"FTYPE_ID\":6,\"EXEC_ORDER\":2,\"FELEM_ID\":33,\"DISPLAY_LEVEL\":1,\"DISPLAY_DELIM\":\"\",\"DERIVED\":\"No\"},{\"FTYPE_ID\":6,\"EXEC_ORDER\":3,\"FELEM_ID\":34,\"DISPLAY_LEVEL\":1,\"DISPLAY_DELIM\":\"\",\"DERIVED\":\"No\"},{\"FTYPE_ID\":6,\"EXEC_ORDER\":4,\"FELEM_ID\":60,\"DISPLAY_LEVEL\":0,\"DISPLAY_DELIM\":\"\",\"DERIVED\":\"Yes\"},{\"FTYPE_ID\":6,\"EXEC_ORDER\":5,\"FELEM_ID\":61,\"DISPLAY_LEVEL\":0,\"DISPLAY_DELIM\":\"\",\"DERIVED\":\"Yes\"},{\"FTYPE_ID\":7,\"EXEC_ORDER\":1,\"FELEM_ID\":37,\"DISPLAY_LEVEL\":1,\"DISPLAY_DELIM\":\"\",\"DERIVED\":\"No\"},{\"FTYPE_ID\":7,\"EXEC_ORDER\":2,\"FELEM_ID\":69,\"DISPLAY_LEVEL\":0,\"DISPLAY_DELIM\":\"\",\"DERIVED\":\"Yes\"},{\"FTYPE_ID\":7,\"EXEC_ORDER\":3,\"FELEM_ID\":39,\"DISPLAY_LEVEL\":0,\"DISPLAY_DELIM\":\"\",\"DERIVED\":\"Yes\"},{\"FTYPE_ID\":9,\"EXEC_ORDER\":1,\"FELEM_ID\":37,\"DISPLAY_LEVEL\":1,\"DISPLAY_DELIM\":\"\",\"DERIVED\":\"No\"},{\"FTYPE_ID\":9,\"EXEC_ORDER\":2,\"FELEM_ID\":26,\"DISPLAY_LEVEL\":1,\"DISPLAY_DELIM\":\"\",\"DERIVED\":\"No\"},{\"FTYPE_ID\":9,\"EXEC_ORDER\":3,\"FELEM_ID\":97,\"DISPLAY_LEVEL\":0,\"DISPLAY_DELIM\":\"\",\"DERIVED\":\"No\"},{\"FTYPE_ID\":9,\"EXEC_ORDER\":4,\"FELEM_ID\":98,\"DISPLAY_LEVEL\":0,\"DISPLAY_DELIM\":\"\",\"DERIVED\":\"No\"},{\"FTYPE_ID\":9,\"EXEC_ORDER\":5,\"FELEM_ID\":69,\"DISPLAY_LEVEL\":0,\"DISPLAY_DELIM\":\"\",\"DERIVED\":\"Yes\"},{\"FTYPE_ID\":10,\"EXEC_ORDER\":1,\"FELEM_ID\":37,\"DISPLAY_LEVEL\":1,\"DISPLAY_DELIM\":\"\",\"DERIVED\":\"No\"},{\"FTYPE_ID\":10,\"EXEC_ORDER\":2,\"FELEM_ID\":28,\"DISPLAY_LEVEL\":1,\"DISPLAY_DELIM\":\"\",\"DERIVED\":\"No\"},{\"FTYPE_ID\":10,\"EXEC_ORDER\":3,\"FELEM_ID\":97,\"DISPLAY_LEVEL\":0,\"DISPLAY_DELIM\":\"\",\"DERIVED\":\"No\"},{\"FTYPE_ID\":10,\"EXEC_ORDER\":4,\"FELEM_ID\":98,\"DISPLAY_LEVEL\":0,\"DISPLAY_DELIM\":\"\",\"DERIVED\":\"No\"},{\"FTYPE_ID\":10,\"EXEC_ORDER\":5,\"FELEM_ID\":69,\"DISPLAY_LEVEL\":0,\"DISPLAY_DELIM\":\"\",\"DERIVED\":\"Yes\"},{\"FTYPE_ID\":10,\"EXEC_ORDER\":6,\"FELEM_ID\":117,\"DISPLAY_LEVEL\":0,\"DISPLAY_DELIM\":\"\",\"DERIVED\":\"Yes\"},{\"FTYPE_ID\":11,\"EXEC_ORDER\":1,\"FELEM_ID\":37,\"DISPLAY_LEVEL\":1,\"DISPLAY_DELIM\":\"\",\"DERIVED\":\"No\"},{\"FTYPE_ID\":11,\"EXEC_ORDER\":2,\"FELEM_ID\":28,\"DISPLAY_LEVEL\":1,\"DISPLAY_DELIM\":\"\",\"DERIVED\":\"No\"},{\"FTYPE_ID\":11,\"EXEC_ORDER\":3,\"FELEM_ID\":97,\"DISPLAY_LEVEL\":0,\"DISPLAY_DELIM\":\"\",\"DERIVED\":\"No\"},{\"FTYPE_ID\":11,\"EXEC_ORDER\":4,\"FELEM_ID\":98,\"DISPLAY_LEVEL\":0,\"DISPLAY_DELIM\":\"\",\"DERIVED\":\"No\"},{\"FTYPE_ID\":11,\"EXEC_ORDER\":5,\"FELEM_ID\":69,\"DISPLAY_LEVEL\":0,\"DISPLAY_DELIM\":\"\",\"DERIVED\":\"Yes\"},{\"FTYPE_ID\":11,\"EXEC_ORDER\":6,\"FELEM_ID\":117,\"DISPLAY_LEVEL\":0,\"DISPLAY_DELIM\":\"\",\"DERIVED\":\"Yes\"},{\"FTYPE_ID\":12,\"EXEC_ORDER\":1,\"FELEM_ID\":37,\"DISPLAY_LEVEL\":1,\"DISPLAY_DELIM\":\"\",\"DERIVED\":\"No\"},{\"FTYPE_ID\":12,\"EXEC_ORDER\":2,\"FELEM_ID\":38,\"DISPLAY_LEVEL\":1,\"DISPLAY_DELIM\":\"\",\"DERIVED\":\"No\"},{\"FTYPE_ID\":12,\"EXEC_ORDER\":3,\"FELEM_ID\":28,\"DISPLAY_LEVEL\":1,\"DISPLAY_DELIM\":\"\",\"DERIVED\":\"No\"},{\"FTYPE_ID\":12,\"EXEC_ORDER\":4,\"FELEM_ID\":97,\"DISPLAY_LEVEL\":0,\"DISPLAY_DELIM\":\"\",\"DERIVED\":\"No\"},{\"FTYPE_ID\":12,\"EXEC_ORDER\":5,\"FELEM_ID\":98,\"DISPLAY_LEVEL\":0,\"DISPLAY_DELIM\":\"\",\"DERIVED\":\"No\"},{\"FTYPE_ID\":12,\"EXEC_ORDER\":6,\"FELEM_ID\":69,\"DISPLAY_LEVEL\":0,\"DISPLAY_DELIM\":\"\",\"DERIVED\":\"Yes\"},{\"FTYPE_ID\":12,\"EXEC_ORDER\":7,\"FELEM_ID\":117,\"DISPLAY_LEVEL\":0,\"DISPLAY_DELIM\":\"\",\"DERIVED\":\"Yes\"},{\"FTYPE_ID\":13,\"EXEC_ORDER\":1,\"FELEM_ID\":56,\"DISPLAY_LEVEL\":1,\"DISPLAY_DELIM\":\"\",\"DERIVED\":\"No\"},{\"FTYPE_ID\":13,\"EXEC_ORDER\":2,\"FELEM_ID\":57,\"DISPLAY_LEVEL\":1,\"DISPLAY_DELIM\":\"\",\"DERIVED\":\"No\"},{\"FTYPE_ID\":14,\"EXEC_ORDER\":1,\"FELEM_ID\":35,\"DISPLAY_LEVEL\":1,\"DISPLAY_DELIM\":\"\",\"DERIVED\":\"No\"},{\"FTYPE_ID\":14,\"EXEC_ORDER\":2,\"FELEM_ID\":119,\"DISPLAY_LEVEL\":0,\"DISPLAY_DELIM\":\"\",\"DERIVED\":\"Yes\"},{\"FTYPE_ID\":14,\"EXEC_ORDER\":3,\"FELEM_ID\":120,\"DISPLAY_LEVEL\":0,\"DISPLAY_DELIM\":\"\",\"DERIVED\":\"Yes\"},{\"FTYPE_ID\":14,\"EXEC_ORDER\":4,\"FELEM_ID\":2,\"DISPLAY_LEVEL\":0,\"DISPLAY_DELIM\":\"\",\"DERIVED\":\"Yes\"},{\"FTYPE_ID\":14,\"EXEC_ORDER\":5,\"FELEM_ID\":121,\"DISPLAY_LEVEL\":0,\"DISPLAY_DELIM\":\"\",\"DERIVED\":\"Yes\"},{\"FTYPE_ID\":15,\"EXEC_ORDER\":1,\"FELEM_ID\":35,\"DISPLAY_LEVEL\":1,\"DISPLAY_DELIM\":\"\",\"DERIVED\":\"No\"},{\"FTYPE_ID\":16,\"EXEC_ORDER\":1,\"FELEM_ID\":40,\"DISPLAY_LEVEL\":1,\"DISPLAY_DELIM\":\"\",\"DERIVED\":\"No\"},{\"FTYPE_ID\":16,\"EXEC_ORDER\":2,\"FELEM_ID\":58,\"DISPLAY_LEVEL\":1,\"DISPLAY_DELIM\":\"\",\"DERIVED\":\"No\"},{\"FTYPE_ID\":18,\"EXEC_ORDER\":1,\"FELEM_ID\":36,\"DISPLAY_LEVEL\":1,\"DISPLAY_DELIM\":\"\",\"DERIVED\":\"No\"},{\"FTYPE_ID\":19,\"EXEC_ORDER\":1,\"FELEM_ID\":36,\"DISPLAY_LEVEL\":1,\"DISPLAY_DELIM\":\"\",\"DERIVED\":\"No\"},{\"FTYPE_ID\":20,\"EXEC_ORDER\":1,\"FELEM_ID\":36,\"DISPLAY_LEVEL\":1,\"DISPLAY_DELIM\":\"\",\"DERIVED\":\"No\"},{\"FTYPE_ID\":21,\"EXEC_ORDER\":1,\"FELEM_ID\":36,\"DISPLAY_LEVEL\":1,\"DISPLAY_DELIM\":\"\",\"DERIVED\":\"No\"},{\"FTYPE_ID\":22,\"EXEC_ORDER\":1,\"FELEM_ID\":36,\"DISPLAY_LEVEL\":1,\"DISPLAY_DELIM\":\"\",\"DERIVED\":\"No\"},{\"FTYPE_ID\":23,\"EXEC_ORDER\":1,\"FELEM_ID\":55,\"DISPLAY_LEVEL\":1,\"DISPLAY_DELIM\":\"\",\"DERIVED\":\"No\"},{\"FTYPE_ID\":23,\"EXEC_ORDER\":2,\"FELEM_ID\":54,\"DISPLAY_LEVEL\":1,\"DISPLAY_DELIM\":\"\",\"DERIVED\":\"No\"},{\"FTYPE_ID\":24,\"EXEC_ORDER\":1,\"FELEM_ID\":51,\"DISPLAY_LEVEL\":1,\"DISPLAY_DELIM\":\"\",\"DERIVED\":\"No\"},{\"FTYPE_ID\":24,\"EXEC_ORDER\":2,\"FELEM_ID\":52,\"DISPLAY_LEVEL\":1,\"DISPLAY_DELIM\":\"\",\"DERIVED\":\"No\"},{\"FTYPE_ID\":24,\"EXEC_ORDER\":3,\"FELEM_ID\":53,\"DISPLAY_LEVEL\":1,\"DISPLAY_DELIM\":\"\",\"DERIVED\":\"No\"},{\"FTYPE_ID\":24,\"EXEC_ORDER\":4,\"FELEM_ID\":75,\"DISPLAY_LEVEL\":1,\"DISPLAY_DELIM\":\"\",\"DERIVED\":\"No\"},{\"FTYPE_ID\":24,\"EXEC_ORDER\":5,\"FELEM_ID\":76,\"DISPLAY_LEVEL\":1,\"DISPLAY_DELIM\":\"\",\"DERIVED\":\"No\"},{\"FTYPE_ID\":24,\"EXEC_ORDER\":6,\"FELEM_ID\":104,\"DISPLAY_LEVEL\":1,\"DISPLAY_DELIM\":\"\",\"DERIVED\":\"No\"},{\"FTYPE_ID\":24,\"EXEC_ORDER\":7,\"FELEM_ID\":105,\"DISPLAY_LEVEL\":0,\"DISPLAY_DELIM\":\"\",\"DERIVED\":\"Yes\"},{\"FTYPE_ID\":24,\"EXEC_ORDER\":8,\"FELEM_ID\":106,\"DISPLAY_LEVEL\":0,\"DISPLAY_DELIM\":\"\",\"DERIVED\":\"Yes\"},{\"FTYPE_ID\":24,\"EXEC_ORDER\":9,\"FELEM_ID\":107,\"DISPLAY_LEVEL\":0,\"DISPLAY_DELIM\":\"\",\"DERIVED\":\"Yes\"},{\"FTYPE_ID\":26,\"EXEC_ORDER\":1,\"FELEM_ID\":36,\"DISPLAY_LEVEL\":1,\"DISPLAY_DELIM\":\"\",\"DERIVED\":\"No\"},{\"FTYPE_ID\":27,\"EXEC_ORDER\":1,\"FELEM_ID\":46,\"DISPLAY_LEVEL\":1,\"DISPLAY_DELIM\":\"\",\"DERIVED\":\"No\"},{\"FTYPE_ID\":28,\"EXEC_ORDER\":1,\"FELEM_ID\":44,\"DISPLAY_LEVEL\":1,\"DISPLAY_DELIM\":\"\",\"DERIVED\":\"No\"},{\"FTYPE_ID\":36,\"EXEC_ORDER\":1,\"FELEM_ID\":37,\"DISPLAY_LEVEL\":1,\"DISPLAY_DELIM\":\"\",\"DERIVED\":\"No\"},{\"FTYPE_ID\":36,\"EXEC_ORDER\":2,\"FELEM_ID\":69,\"DISPLAY_LEVEL\":0,\"DISPLAY_DELIM\":\"\",\"DERIVED\":\"Yes\"},{\"FTYPE_ID\":37,\"EXEC_ORDER\":1,\"FELEM_ID\":37,\"DISPLAY_LEVEL\":1,\"DISPLAY_DELIM\":\"\",\"DERIVED\":\"No\"},{\"FTYPE_ID\":37,\"EXEC_ORDER\":2,\"FELEM_ID\":26,\"DISPLAY_LEVEL\":1,\"DISPLAY_DELIM\":\"\",\"DERIVED\":\"No\"},{\"FTYPE_ID\":37,\"EXEC_ORDER\":3,\"FELEM_ID\":69,\"DISPLAY_LEVEL\":0,\"DISPLAY_DELIM\":\"\",\"DERIVED\":\"Yes\"},{\"FTYPE_ID\":52,\"EXEC_ORDER\":1,\"FELEM_ID\":37,\"DISPLAY_LEVEL\":1,\"DISPLAY_DELIM\":\"\",\"DERIVED\":\"No\"},{\"FTYPE_ID\":52,\"EXEC_ORDER\":2,\"FELEM_ID\":38,\"DISPLAY_LEVEL\":1,\"DISPLAY_DELIM\":\"\",\"DERIVED\":\"No\"},{\"FTYPE_ID\":52,\"EXEC_ORDER\":3,\"FELEM_ID\":28,\"DISPLAY_LEVEL\":1,\"DISPLAY_DELIM\":\"\",\"DERIVED\":\"No\"},{\"FTYPE_ID\":52,\"EXEC_ORDER\":4,\"FELEM_ID\":97,\"DISPLAY_LEVEL\":0,\"DISPLAY_DELIM\":\"\",\"DERIVED\":\"No\"},{\"FTYPE_ID\":52,\"EXEC_ORDER\":5,\"FELEM_ID\":98,\"DISPLAY_LEVEL\":0,\"DISPLAY_DELIM\":\"\",\"DERIVED\":\"No\"},{\"FTYPE_ID\":52,\"EXEC_ORDER\":6,\"FELEM_ID\":69,\"DISPLAY_LEVEL\":0,\"DISPLAY_DELIM\":\"\",\"DERIVED\":\"Yes\"},{\"FTYPE_ID\":52,\"EXEC_ORDER\":7,\"FELEM_ID\":117,\"DISPLAY_LEVEL\":0,\"DISPLAY_DELIM\":\"\",\"DERIVED\":\"Yes\"},{\"FTYPE_ID\":53,\"EXEC_ORDER\":1,\"FELEM_ID\":37,\"DISPLAY_LEVEL\":1,\"DISPLAY_DELIM\":\"\",\"DERIVED\":\"No\"},{\"FTYPE_ID\":53,\"EXEC_ORDER\":2,\"FELEM_ID\":38,\"DISPLAY_LEVEL\":1,\"DISPLAY_DELIM\":\"\",\"DERIVED\":\"No\"},{\"FTYPE_ID\":54,\"EXEC_ORDER\":1,\"FELEM_ID\":28,\"DISPLAY_LEVEL\":1,\"DISPLAY_DELIM\":\"\",\"DERIVED\":\"No\"},{\"FTYPE_ID\":54,\"EXEC_ORDER\":2,\"FELEM_ID\":117,\"DISPLAY_LEVEL\":0,\"DISPLAY_DELIM\":\"\",\"DERIVED\":\"Yes\"},{\"FTYPE_ID\":55,\"EXEC_ORDER\":1,\"FELEM_ID\":28,\"DISPLAY_LEVEL\":1,\"DISPLAY_DELIM\":\"\",\"DERIVED\":\"No\"},{\"FTYPE_ID\":55,\"EXEC_ORDER\":2,\"FELEM_ID\":117,\"DISPLAY_LEVEL\":0,\"DISPLAY_DELIM\":\"\",\"DERIVED\":\"Yes\"},{\"FTYPE_ID\":56,\"EXEC_ORDER\":1,\"FELEM_ID\":18,\"DISPLAY_LEVEL\":1,\"DISPLAY_DELIM\":\"\",\"DERIVED\":\"No\"},{\"FTYPE_ID\":56,\"EXEC_ORDER\":2,\"FELEM_ID\":99,\"DISPLAY_LEVEL\":1,\"DISPLAY_DELIM\":\"\",\"DERIVED\":\"No\"},{\"FTYPE_ID\":57,\"EXEC_ORDER\":1,\"FELEM_ID\":18,\"DISPLAY_LEVEL\":1,\"DISPLAY_DELIM\":\"\",\"DERIVED\":\"No\"},{\"FTYPE_ID\":57,\"EXEC_ORDER\":2,\"FELEM_ID\":3,\"DISPLAY_LEVEL\":1,\"DISPLAY_DELIM\":\"\",\"DERIVED\":\"No\"},{\"FTYPE_ID\":58,\"EXEC_ORDER\":1,\"FELEM_ID\":115,\"DISPLAY_LEVEL\":1,\"DISPLAY_DELIM\":\"\",\"DERIVED\":\"No\"},{\"FTYPE_ID\":58,\"EXEC_ORDER\":2,\"FELEM_ID\":110,\"DISPLAY_LEVEL\":1,\"DISPLAY_DELIM\":\"\",\"DERIVED\":\"No\"},{\"FTYPE_ID\":58,\"EXEC_ORDER\":3,\"FELEM_ID\":111,\"DISPLAY_LEVEL\":1,\"DISPLAY_DELIM\":\"\",\"DERIVED\":\"No\"},{\"FTYPE_ID\":58,\"EXEC_ORDER\":4,\"FELEM_ID\":114,\"DISPLAY_LEVEL\":1,\"DISPLAY_DELIM\":\"\",\"DERIVED\":\"No\"},{\"FTYPE_ID\":59,\"EXEC_ORDER\":1,\"FELEM_ID\":18,\"DISPLAY_LEVEL\":1,\"DISPLAY_DELIM\":\"\",\"DERIVED\":\"No\"},{\"FTYPE_ID\":59,\"EXEC_ORDER\":2,\"FELEM_ID\":3,\"DISPLAY_LEVEL\":1,\"DISPLAY_DELIM\":\"\",\"DERIVED\":\"No\"},{\"FTYPE_ID\":60,\"EXEC_ORDER\":1,\"FELEM_ID\":56,\"DISPLAY_LEVEL\":1,\"DISPLAY_DELIM\":\"\",\"DERIVED\":\"No\"},{\"FTYPE_ID\":61,\"EXEC_ORDER\":1,\"FELEM_ID\":56,\"DISPLAY_LEVEL\":1,\"DISPLAY_DELIM\":\"\",\"DERIVED\":\"No\"},{\"FTYPE_ID\":62,\"EXEC_ORDER\":1,\"FELEM_ID\":56,\"DISPLAY_LEVEL\":1,\"DISPLAY_DELIM\":\"\",\"DERIVED\":\"No\"},{\"FTYPE_ID\":63,\"EXEC_ORDER\":1,\"FELEM_ID\":56,\"DISPLAY_LEVEL\":1,\"DISPLAY_DELIM\":\"\",\"DERIVED\":\"No\"},{\"FTYPE_ID\":64,\"EXEC_ORDER\":1,\"FELEM_ID\":56,\"DISPLAY_LEVEL\":1,\"DISPLAY_DELIM\":\"\",\"DERIVED\":\"No\"},{\"FTYPE_ID\":65,\"EXEC_ORDER\":1,\"FELEM_ID\":56,\"DISPLAY_LEVEL\":1,\"DISPLAY_DELIM\":\"\",\"DERIVED\":\"No\"},{\"FTYPE_ID\":66,\"EXEC_ORDER\":1,\"FELEM_ID\":56,\"DISPLAY_LEVEL\":1,\"DISPLAY_DELIM\":\"\",\"DERIVED\":\"No\"},{\"FTYPE_ID\":67,\"EXEC_ORDER\":1,\"FELEM_ID\":56,\"DISPLAY_LEVEL\":1,\"DISPLAY_DELIM\":\"\",\"DERIVED\":\"No\"},{\"FTYPE_ID\":68,\"EXEC_ORDER\":1,\"FELEM_ID\":56,\"DISPLAY_LEVEL\":1,\"DISPLAY_DELIM\":\"\",\"DERIVED\":\"No\"},{\"FTYPE_ID\":69,\"EXEC_ORDER\":1,\"FELEM_ID\":56,\"DISPLAY_LEVEL\":1,\"DISPLAY_DELIM\":\"\",\"DERIVED\":\"No\"},{\"FTYPE_ID\":70,\"EXEC_ORDER\":1,\"FELEM_ID\":56,\"DISPLAY_LEVEL\":1,\"DISPLAY_DELIM\":\"\",\"DERIVED\":\"No\"},{\"FTYPE_ID\":71,\"EXEC_ORDER\":1,\"FELEM_ID\":56,\"DISPLAY_LEVEL\":1,\"DISPLAY_DELIM\":\"\",\"DERIVED\":\"No\"},{\"FTYPE_ID\":72,\"EXEC_ORDER\":1,\"FELEM_ID\":18,\"DISPLAY_LEVEL\":1,\"DISPLAY_DELIM\":\"\",\"DERIVED\":\"No\"},{\"FTYPE_ID\":74,\"EXEC_ORDER\":1,\"FELEM_ID\":116,\"DISPLAY_LEVEL\":1,\"DISPLAY_DELIM\":\"\",\"DERIVED\":\"No\"},{\"FTYPE_ID\":75,\"EXEC_ORDER\":1,\"FELEM_ID\":43,\"DISPLAY_LEVEL\":1,\"DISPLAY_DELIM\":\"\",\"DERIVED\":\"No\"},{\"FTYPE_ID\":75,\"EXEC_ORDER\":2,\"FELEM_ID\":62,\"DISPLAY_LEVEL\":0,\"DISPLAY_DELIM\":\"\",\"DERIVED\":\"Yes\"},{\"FTYPE_ID\":75,\"EXEC_ORDER\":3,\"FELEM_ID\":63,\"DISPLAY_LEVEL\":0,\"DISPLAY_DELIM\":\"\",\"DERIVED\":\"Yes\"},{\"FTYPE_ID\":75,\"EXEC_ORDER\":4,\"FELEM_ID\":64,\"DISPLAY_LEVEL\":0,\"DISPLAY_DELIM\":\"\",\"DERIVED\":\"Yes\"},{\"FTYPE_ID\":75,\"EXEC_ORDER\":5,\"FELEM_ID\":71,\"DISPLAY_LEVEL\":0,\"DISPLAY_DELIM\":\"\",\"DERIVED\":\"Yes\"},{\"FTYPE_ID\":75,\"EXEC_ORDER\":6,\"FELEM_ID\":112,\"DISPLAY_LEVEL\":0,\"DISPLAY_DELIM\":\"\",\"DERIVED\":\"Yes\"},{\"FTYPE_ID\":75,\"EXEC_ORDER\":7,\"FELEM_ID\":113,\"DISPLAY_LEVEL\":0,\"DISPLAY_DELIM\":\"\",\"DERIVED\":\"Yes\"},{\"FTYPE_ID\":76,\"EXEC_ORDER\":1,\"FELEM_ID\":28,\"DISPLAY_LEVEL\":1,\"DISPLAY_DELIM\":\"\",\"DERIVED\":\"No\"},{\"FTYPE_ID\":76,\"EXEC_ORDER\":2,\"FELEM_ID\":117,\"DISPLAY_LEVEL\":0,\"DISPLAY_DELIM\":\"\",\"DERIVED\":\"Yes\"},{\"FTYPE_ID\":77,\"EXEC_ORDER\":1,\"FELEM_ID\":38,\"DISPLAY_LEVEL\":1,\"DISPLAY_DELIM\":\"\",\"DERIVED\":\"No\"},{\"FTYPE_ID\":77,\"EXEC_ORDER\":2,\"FELEM_ID\":37,\"DISPLAY_LEVEL\":1,\"DISPLAY_DELIM\":\"\",\"DERIVED\":\"No\"},{\"FTYPE_ID\":78,\"EXEC_ORDER\":1,\"FELEM_ID\":37,\"DISPLAY_LEVEL\":1,\"DISPLAY_DELIM\":\"\",\"DERIVED\":\"No\"},{\"FTYPE_ID\":78,\"EXEC_ORDER\":2,\"FELEM_ID\":26,\"DISPLAY_LEVEL\":1,\"DISPLAY_DELIM\":\"\",\"DERIVED\":\"No\"},{\"FTYPE_ID\":78,\"EXEC_ORDER\":3,\"FELEM_ID\":69,\"DISPLAY_LEVEL\":0,\"DISPLAY_DELIM\":\"\",\"DERIVED\":\"Yes\"},{\"FTYPE_ID\":78,\"EXEC_ORDER\":4,\"FELEM_ID\":39,\"DISPLAY_LEVEL\":0,\"DISPLAY_DELIM\":\"\",\"DERIVED\":\"Yes\"},{\"FTYPE_ID\":79,\"EXEC_ORDER\":1,\"FELEM_ID\":37,\"DISPLAY_LEVEL\":1,\"DISPLAY_DELIM\":\"\",\"DERIVED\":\"No\"},{\"FTYPE_ID\":79,\"EXEC_ORDER\":2,\"FELEM_ID\":26,\"DISPLAY_LEVEL\":1,\"DISPLAY_DELIM\":\"\",\"DERIVED\":\"No\"},{\"FTYPE_ID\":79,\"EXEC_ORDER\":3,\"FELEM_ID\":69,\"DISPLAY_LEVEL\":0,\"DISPLAY_DELIM\":\"\",\"DERIVED\":\"Yes\"},{\"FTYPE_ID\":79,\"EXEC_ORDER\":4,\"FELEM_ID\":39,\"DISPLAY_LEVEL\":0,\"DISPLAY_DELIM\":\"\",\"DERIVED\":\"Yes\"},{\"FTYPE_ID\":80,\"EXEC_ORDER\":1,\"FELEM_ID\":37,\"DISPLAY_LEVEL\":1,\"DISPLAY_DELIM\":\"\",\"DERIVED\":\"No\"},{\"FTYPE_ID\":80,\"EXEC_ORDER\":2,\"FELEM_ID\":26,\"DISPLAY_LEVEL\":1,\"DISPLAY_DELIM\":\"\",\"DERIVED\":\"No\"},{\"FTYPE_ID\":80,\"EXEC_ORDER\":3,\"FELEM_ID\":69,\"DISPLAY_LEVEL\":0,\"DISPLAY_DELIM\":\"\",\"DERIVED\":\"Yes\"},{\"FTYPE_ID\":80,\"EXEC_ORDER\":4,\"FELEM_ID\":39,\"DISPLAY_LEVEL\":0,\"DISPLAY_DELIM\":\"\",\"DERIVED\":\"Yes\"},{\"FTYPE_ID\":86,\"EXEC_ORDER\":1,\"FELEM_ID\":28,\"DISPLAY_LEVEL\":1,\"DISPLAY_DELIM\":\"\",\"DERIVED\":\"No\"},{\"FTYPE_ID\":86,\"EXEC_ORDER\":2,\"FELEM_ID\":117,\"DISPLAY_LEVEL\":0,\"DISPLAY_DELIM\":\"\",\"DERIVED\":\"Yes\"},{\"FTYPE_ID\":87,\"EXEC_ORDER\":1,\"FELEM_ID\":37,\"DISPLAY_LEVEL\":1,\"DISPLAY_DELIM\":\"\",\"DERIVED\":\"No\"},{\"FTYPE_ID\":87,\"EXEC_ORDER\":2,\"FELEM_ID\":26,\"DISPLAY_LEVEL\":1,\"DISPLAY_DELIM\":\"\",\"DERIVED\":\"No\"},{\"FTYPE_ID\":87,\"EXEC_ORDER\":3,\"FELEM_ID\":69,\"DISPLAY_LEVEL\":0,\"DISPLAY_DELIM\":\"\",\"DERIVED\":\"Yes\"},{\"FTYPE_ID\":87,\"EXEC_ORDER\":4,\"FELEM_ID\":39,\"DISPLAY_LEVEL\":0,\"DISPLAY_DELIM\":\"\",\"DERIVED\":\"Yes\"},{\"FTYPE_ID\":88,\"EXEC_ORDER\":1,\"FELEM_ID\":121,\"DISPLAY_LEVEL\":1,\"DISPLAY_DELIM\":\"\",\"DERIVED\":\"No\"},{\"FTYPE_ID\":89,\"EXEC_ORDER\":1,\"FELEM_ID\":122,\"DISPLAY_LEVEL\":1,\"DISPLAY_DELIM\":\"\",\"DERIVED\":\"No\"},{\"FTYPE_ID\":89,\"EXEC_ORDER\":2,\"FELEM_ID\":123,\"DISPLAY_LEVEL\":1,\"DISPLAY_DELIM\":\"\",\"DERIVED\":\"No\"},{\"FTYPE_ID\":90,\"EXEC_ORDER\":1,\"FELEM_ID\":122,\"DISPLAY_LEVEL\":1,\"DISPLAY_DELIM\":\"\",\"DERIVED\":\"No\"},{\"FTYPE_ID\":90,\"EXEC_ORDER\":2,\"FELEM_ID\":123,\"DISPLAY_LEVEL\":1,\"DISPLAY_DELIM\":\"\",\"DERIVED\":\"No\"},{\"FTYPE_ID\":91,\"EXEC_ORDER\":1,\"FELEM_ID\":55,\"DISPLAY_LEVEL\":1,\"DISPLAY_DELIM\":\"\",\"DERIVED\":\"No\"},{\"FTYPE_ID\":91,\"EXEC_ORDER\":2,\"FELEM_ID\":120,\"DISPLAY_LEVEL\":1,\"DISPLAY_DELIM\":\"\",\"DERIVED\":\"No\"},{\"FTYPE_ID\":91,\"EXEC_ORDER\":3,\"FELEM_ID\":125,\"DISPLAY_LEVEL\":1,\"DISPLAY_DELIM\":\"\",\"DERIVED\":\"No\"},{\"FTYPE_ID\":91,\"EXEC_ORDER\":4,\"FELEM_ID\":126,\"DISPLAY_LEVEL\":1,\"DISPLAY_DELIM\":\"\",\"DERIVED\":\"No\"}],\"CFG_EBOM\":[{\"EXEC_ORDER\":1,\"ETYPE_ID\":1,\"FTYPE_ID\":16,\"UTYPE_CODE\":\"\"},{\"EXEC_ORDER\":4,\"ETYPE_ID\":1,\"FTYPE_ID\":1,\"UTYPE_CODE\":\"\"},{\"EXEC_ORDER\":5,\"ETYPE_ID\":1,\"FTYPE_ID\":2,\"UTYPE_CODE\":\"\"},{\"EXEC_ORDER\":6,\"ETYPE_ID\":1,\"FTYPE_ID\":3,\"UTYPE_CODE\":\"\"},{\"EXEC_ORDER\":7,\"ETYPE_ID\":1,\"FTYPE_ID\":4,\"UTYPE_CODE\":\"\"},{\"EXEC_ORDER\":8,\"ETYPE_ID\":1,\"FTYPE_ID\":55,\"UTYPE_CODE\":\"\"},{\"EXEC_ORDER\":9,\"ETYPE_ID\":1,\"FTYPE_ID\":54,\"UTYPE_CODE\":\"\"},{\"EXEC_ORDER\":10,\"ETYPE_ID\":1,\"FTYPE_ID\":7,\"UTYPE_CODE\":\"\"},{\"EXEC_ORDER\":12,\"ETYPE_ID\":1,\"FTYPE_ID\":9,\"UTYPE_CODE\":\"\"},{\"EXEC_ORDER\":13,\"ETYPE_ID\":1,\"FTYPE_ID\":10,\"UTYPE_CODE\":\"\"},{\"EXEC_ORDER\":14,\"ETYPE_ID\":1,\"FTYPE_ID\":12,\"UTYPE_CODE\":\"\"},{\"EXEC_ORDER\":15,\"ETYPE_ID\":1,\"FTYPE_ID\":11,\"UTYPE_CODE\":\"\"},{\"EXEC_ORDER\":16,\"ETYPE_ID\":1,\"FTYPE_ID\":52,\"UTYPE_CODE\":\"\"},{\"EXEC_ORDER\":17,\"ETYPE_ID\":1,\"FTYPE_ID\":5,\"UTYPE_CODE\":\"PRIMARY\"},{\"EXEC_ORDER\":18,\"ETYPE_ID\":1,\"FTYPE_ID\":5,\"UTYPE_CODE\":\"SECONDARY\"},{\"EXEC_ORDER\":19,\"ETYPE_ID\":1,\"FTYPE_ID\":6,\"UTYPE_CODE\":\"PRIMARY\"},{\"EXEC_ORDER\":20,\"ETYPE_ID\":1,\"FTYPE_ID\":6,\"UTYPE_CODE\":\"SECONDARY\"},{\"EXEC_ORDER\":21,\"ETYPE_ID\":1,\"FTYPE_ID\":14,\"UTYPE_CODE\":\"\"},{\"EXEC_ORDER\":22,\"ETYPE_ID\":1,\"FTYPE_ID\":15,\"UTYPE_CODE\":\"\"},{\"EXEC_ORDER\":23,\"ETYPE_ID\":1,\"FTYPE_ID\":23,\"UTYPE_CODE\":\"\"},{\"EXEC_ORDER\":24,\"ETYPE_ID\":1,\"FTYPE_ID\":53,\"UTYPE_CODE\":\"\"},{\"EXEC_ORDER\":1,\"ETYPE_ID\":3,\"FTYPE_ID\":16,\"UTYPE_CODE\":\"\"},{\"EXEC_ORDER\":4,\"ETYPE_ID\":3,\"FTYPE_ID\":1,\"UTYPE_CODE\":\"\"},{\"EXEC_ORDER\":5,\"ETYPE_ID\":3,\"FTYPE_ID\":2,\"UTYPE_CODE\":\"\"},{\"EXEC_ORDER\":6,\"ETYPE_ID\":3,\"FTYPE_ID\":3,\"UTYPE_CODE\":\"\"},{\"EXEC_ORDER\":7,\"ETYPE_ID\":3,\"FTYPE_ID\":4,\"UTYPE_CODE\":\"\"},{\"EXEC_ORDER\":8,\"ETYPE_ID\":3,\"FTYPE_ID\":55,\"UTYPE_CODE\":\"\"},{\"EXEC_ORDER\":9,\"ETYPE_ID\":3,\"FTYPE_ID\":54,\"UTYPE_CODE\":\"\"},{\"EXEC_ORDER\":10,\"ETYPE_ID\":3,\"FTYPE_ID\":7,\"UTYPE_CODE\":\"\"},{\"EXEC_ORDER\":12,\"ETYPE_ID\":3,\"FTYPE_ID\":9,\"UTYPE_CODE\":\"\"},{\"EXEC_ORDER\":13,\"ETYPE_ID\":3,\"FTYPE_ID\":10,\"UTYPE_CODE\":\"\"},{\"EXEC_ORDER\":14,\"ETYPE_ID\":3,\"FTYPE_ID\":12,\"UTYPE_CODE\":\"\"},{\"EXEC_ORDER\":15,\"ETYPE_ID\":3,\"FTYPE_ID\":11,\"UTYPE_CODE\":\"\"},{\"EXEC_ORDER\":16,\"ETYPE_ID\":3,\"FTYPE_ID\":52,\"UTYPE_CODE\":\"\"},{\"EXEC_ORDER\":17,\"ETYPE_ID\":3,\"FTYPE_ID\":5,\"UTYPE_CODE\":\"PRIMARY\"},{\"EXEC_ORDER\":18,\"ETYPE_ID\":3,\"FTYPE_ID\":5,\"UTYPE_CODE\":\"SECONDARY\"},{\"EXEC_ORDER\":19,\"ETYPE_ID\":3,\"FTYPE_ID\":6,\"UTYPE_CODE\":\"PRIMARY\"},{\"EXEC_ORDER\":20,\"ETYPE_ID\":3,\"FTYPE_ID\":6,\"UTYPE_CODE\":\"SECONDARY\"},{\"EXEC_ORDER\":21,\"ETYPE_ID\":3,\"FTYPE_ID\":14,\"UTYPE_CODE\":\"\"},{\"EXEC_ORDER\":22,\"ETYPE_ID\":3,\"FTYPE_ID\":15,\"UTYPE_CODE\":\"\"},{\"EXEC_ORDER\":23,\"ETYPE_ID\":3,\"FTYPE_ID\":23,\"UTYPE_CODE\":\"\"},{\"EXEC_ORDER\":24,\"ETYPE_ID\":3,\"FTYPE_ID\":53,\"UTYPE_CODE\":\"\"}],\"CFG_FELEM\":[{\"FELEM_ID\":2,\"FELEM_CODE\":\"FULL_NAME\",\"DATA_TYPE\":\"STRING\",\"TOKENIZE\":\"No\"},{\"FELEM_ID\":3,\"FELEM_CODE\":\"ORG_NAME\",\"DATA_TYPE\":\"STRING\",\"TOKENIZE\":\"No\"},{\"FELEM_ID\":4,\"FELEM_CODE\":\"SUR_NAME\",\"DATA_TYPE\":\"STRING\",\"TOKENIZE\":\"No\"},{\"FELEM_ID\":5,\"FELEM_CODE\":\"GIVEN_NAME\",\"DATA_TYPE\":\"STRING\",\"TOKENIZE\":\"No\"},{\"FELEM_ID\":6,\"FELEM_CODE\":\"MIDDLE_NAME\",\"DATA_TYPE\":\"STRING\",\"TOKENIZE\":\"No\"},{\"FELEM_ID\":7,\"FELEM_CODE\":\"NAME_PREFIX\",\"DATA_TYPE\":\"STRING\",\"TOKENIZE\":\"No\"},{\"FELEM_ID\":8,\"FELEM_CODE\":\"NAME_SUFFIX\",\"DATA_TYPE\":\"STRING\",\"TOKENIZE\":\"No\"},{\"FELEM_ID\":9,\"FELEM_CODE\":\"NAME_GEN\",\"DATA_TYPE\":\"STRING\",\"TOKENIZE\":\"No\"},{\"FELEM_ID\":10,\"FELEM_CODE\":\"CULTURE\",\"DATA_TYPE\":\"STRING\",\"TOKENIZE\":\"No\"},{\"FELEM_ID\":11,\"FELEM_CODE\":\"SCRIPT\",\"DATA_TYPE\":\"STRING\",\"TOKENIZE\":\"No\"},{\"FELEM_ID\":12,\"FELEM_CODE\":\"CATEGORY\",\"DATA_TYPE\":\"STRING\",\"TOKENIZE\":\"No\"},{\"FELEM_ID\":13,\"FELEM_CODE\":\"GENDER\",\"DATA_TYPE\":\"STRING\",\"TOKENIZE\":\"No\"},{\"FELEM_ID\":14,\"FELEM_CODE\":\"MAKE\",\"DATA_TYPE\":\"STRING\",\"TOKENIZE\":\"No\"},{\"FELEM_ID\":15,\"FELEM_CODE\":\"MODEL\",\"DATA_TYPE\":\"STRING\",\"TOKENIZE\":\"No\"},{\"FELEM_ID\":16,\"FELEM_CODE\":\"COLOR\",\"DATA_TYPE\":\"STRING\",\"TOKENIZE\":\"No\"},{\"FELEM_ID\":17,\"FELEM_CODE\":\"YEAR\",\"DATA_TYPE\":\"STRING\",\"TOKENIZE\":\"No\"},{\"FELEM_ID\":18,\"FELEM_CODE\":\"TYPE\",\"DATA_TYPE\":\"STRING\",\"TOKENIZE\":\"No\"},{\"FELEM_ID\":19,\"FELEM_CODE\":\"OS\",\"DATA_TYPE\":\"STRING\",\"TOKENIZE\":\"No\"},{\"FELEM_ID\":22,\"FELEM_CODE\":\"ADDR1\",\"DATA_TYPE\":\"STRING\",\"TOKENIZE\":\"No\"},{\"FELEM_ID\":23,\"FELEM_CODE\":\"ADDR2\",\"DATA_TYPE\":\"STRING\",\"TOKENIZE\":\"No\"},{\"FELEM_ID\":24,\"FELEM_CODE\":\"ADDR3\",\"DATA_TYPE\":\"STRING\",\"TOKENIZE\":\"No\"},{\"FELEM_ID\":25,\"FELEM_CODE\":\"CITY\",\"DATA_TYPE\":\"STRING\",\"TOKENIZE\":\"No\"},{\"FELEM_ID\":26,\"FELEM_CODE\":\"STATE\",\"DATA_TYPE\":\"STRING\",\"TOKENIZE\":\"No\"},{\"FELEM_ID\":27,\"FELEM_CODE\":\"POSTAL_CODE\",\"DATA_TYPE\":\"STRING\",\"TOKENIZE\":\"No\"},{\"FELEM_ID\":28,\"FELEM_CODE\":\"COUNTRY\",\"DATA_TYPE\":\"STRING\",\"TOKENIZE\":\"No\"},{\"FELEM_ID\":29,\"FELEM_CODE\":\"STR_NUM\",\"DATA_TYPE\":\"STRING\",\"TOKENIZE\":\"No\"},{\"FELEM_ID\":30,\"FELEM_CODE\":\"STR_NAME\",\"DATA_TYPE\":\"STRING\",\"TOKENIZE\":\"No\"},{\"FELEM_ID\":31,\"FELEM_CODE\":\"UNIT_TYPE\",\"DATA_TYPE\":\"STRING\",\"TOKENIZE\":\"No\"},{\"FELEM_ID\":32,\"FELEM_CODE\":\"UNIT_NUM\",\"DATA_TYPE\":\"STRING\",\"TOKENIZE\":\"No\"},{\"FELEM_ID\":33,\"FELEM_CODE\":\"PHONE_NUM\",\"DATA_TYPE\":\"STRING\",\"TOKENIZE\":\"No\"},{\"FELEM_ID\":34,\"FELEM_CODE\":\"PHONE_EXT\",\"DATA_TYPE\":\"STRING\",\"TOKENIZE\":\"No\"},{\"FELEM_ID\":35,\"FELEM_CODE\":\"ADDR\",\"DATA_TYPE\":\"STRING\",\"TOKENIZE\":\"No\"},{\"FELEM_ID\":36,\"FELEM_CODE\":\"EXPRESSION\",\"DATA_TYPE\":\"STRING\",\"TOKENIZE\":\"No\"},{\"FELEM_ID\":37,\"FELEM_CODE\":\"ID_NUM\",\"DATA_TYPE\":\"STRING\",\"TOKENIZE\":\"No\"},{\"FELEM_ID\":38,\"FELEM_CODE\":\"ID_TYPE\",\"DATA_TYPE\":\"STRING\",\"TOKENIZE\":\"No\"},{\"FELEM_ID\":39,\"FELEM_CODE\":\"ID_LAST4\",\"DATA_TYPE\":\"STRING\",\"TOKENIZE\":\"No\"},{\"FELEM_ID\":40,\"FELEM_CODE\":\"ACCT_NUM\",\"DATA_TYPE\":\"STRING\",\"TOKENIZE\":\"No\"},{\"FELEM_ID\":41,\"FELEM_CODE\":\"DSRC_CODE\",\"DATA_TYPE\":\"STRING\",\"TOKENIZE\":\"No\"},{\"FELEM_ID\":42,\"FELEM_CODE\":\"ACCT_TYPE\",\"DATA_TYPE\":\"STRING\",\"TOKENIZE\":\"No\"},{\"FELEM_ID\":43,\"FELEM_CODE\":\"DATE\",\"DATA_TYPE\":\"DATE\",\"TOKENIZE\":\"No\"},{\"FELEM_ID\":44,\"FELEM_CODE\":\"YESNO_FLAG\",\"DATA_TYPE\":\"STRING\",\"TOKENIZE\":\"No\"},{\"FELEM_ID\":45,\"FELEM_CODE\":\"CALL_SIGN\",\"DATA_TYPE\":\"STRING\",\"TOKENIZE\":\"No\"},{\"FELEM_ID\":46,\"FELEM_CODE\":\"CODE\",\"DATA_TYPE\":\"STRING\",\"TOKENIZE\":\"No\"},{\"FELEM_ID\":47,\"FELEM_CODE\":\"PORT\",\"DATA_TYPE\":\"STRING\",\"TOKENIZE\":\"No\"},{\"FELEM_ID\":48,\"FELEM_CODE\":\"LENGTH\",\"DATA_TYPE\":\"STRING\",\"TOKENIZE\":\"No\"},{\"FELEM_ID\":49,\"FELEM_CODE\":\"BEAM\",\"DATA_TYPE\":\"STRING\",\"TOKENIZE\":\"No\"},{\"FELEM_ID\":50,\"FELEM_CODE\":\"TONNAGE\",\"DATA_TYPE\":\"NUMBER\",\"TOKENIZE\":\"No\"},{\"FELEM_ID\":51,\"FELEM_CODE\":\"LATITUDE\",\"DATA_TYPE\":\"NUMBER\",\"TOKENIZE\":\"No\"},{\"FELEM_ID\":52,\"FELEM_CODE\":\"LONGITUDE\",\"DATA_TYPE\":\"NUMBER\",\"TOKENIZE\":\"No\"},{\"FELEM_ID\":53,\"FELEM_CODE\":\"TIME\",\"DATA_TYPE\":\"DATETIME\",\"TOKENIZE\":\"No\"},{\"FELEM_ID\":54,\"FELEM_CODE\":\"REL_KEY\",\"DATA_TYPE\":\"STRING\",\"TOKENIZE\":\"No\"},{\"FELEM_ID\":55,\"FELEM_CODE\":\"REL_TYPE\",\"DATA_TYPE\":\"STRING\",\"TOKENIZE\":\"No\"},{\"FELEM_ID\":56,\"FELEM_CODE\":\"LOGIN_ID\",\"DATA_TYPE\":\"STRING\",\"TOKENIZE\":\"No\"},{\"FELEM_ID\":57,\"FELEM_CODE\":\"LOGIN_DOMAIN\",\"DATA_TYPE\":\"STRING\",\"TOKENIZE\":\"No\"},{\"FELEM_ID\":58,\"FELEM_CODE\":\"ACCT_DOMAIN\",\"DATA_TYPE\":\"STRING\",\"TOKENIZE\":\"No\"},{\"FELEM_ID\":59,\"FELEM_CODE\":\"AMOUNT\",\"DATA_TYPE\":\"NUMBER\",\"TOKENIZE\":\"No\"},{\"FELEM_ID\":60,\"FELEM_CODE\":\"PHONE_LAST_10\",\"DATA_TYPE\":\"STRING\",\"TOKENIZE\":\"No\"},{\"FELEM_ID\":61,\"FELEM_CODE\":\"PHONE_LAST_5\",\"DATA_TYPE\":\"STRING\",\"TOKENIZE\":\"No\"},{\"FELEM_ID\":62,\"FELEM_CODE\":\"DATE_YEAR\",\"DATA_TYPE\":\"STRING\",\"TOKENIZE\":\"No\"},{\"FELEM_ID\":63,\"FELEM_CODE\":\"DATE_MONTH\",\"DATA_TYPE\":\"STRING\",\"TOKENIZE\":\"No\"},{\"FELEM_ID\":64,\"FELEM_CODE\":\"DATE_DAY\",\"DATA_TYPE\":\"STRING\",\"TOKENIZE\":\"No\"},{\"FELEM_ID\":65,\"FELEM_CODE\":\"STR_NAME_METAPHONE\",\"DATA_TYPE\":\"STRING\",\"TOKENIZE\":\"No\"},{\"FELEM_ID\":66,\"FELEM_CODE\":\"CITY_METAPHONE\",\"DATA_TYPE\":\"STRING\",\"TOKENIZE\":\"No\"},{\"FELEM_ID\":69,\"FELEM_CODE\":\"ID_NUM_STD\",\"DATA_TYPE\":\"STRING\",\"TOKENIZE\":\"No\"},{\"FELEM_ID\":71,\"FELEM_CODE\":\"DATE_HASH\",\"DATA_TYPE\":\"STRING\",\"TOKENIZE\":\"No\"},{\"FELEM_ID\":72,\"FELEM_CODE\":\"STR_NAME_STD\",\"DATA_TYPE\":\"STRING\",\"TOKENIZE\":\"No\"},{\"FELEM_ID\":73,\"FELEM_CODE\":\"CITY_STD\",\"DATA_TYPE\":\"STRING\",\"TOKENIZE\":\"No\"},{\"FELEM_ID\":74,\"FELEM_CODE\":\"POSTAL_5\",\"DATA_TYPE\":\"STRING\",\"TOKENIZE\":\"No\"},{\"FELEM_ID\":75,\"FELEM_CODE\":\"GEO_PRECISION\",\"DATA_TYPE\":\"NUMBER\",\"TOKENIZE\":\"No\"},{\"FELEM_ID\":76,\"FELEM_CODE\":\"TIME_PRECISION\",\"DATA_TYPE\":\"NUMBER\",\"TOKENIZE\":\"No\"},{\"FELEM_ID\":77,\"FELEM_CODE\":\"ALL_NM\",\"DATA_TYPE\":\"STRING\",\"TOKENIZE\":\"No\"},{\"FELEM_ID\":78,\"FELEM_CODE\":\"ALL_META\",\"DATA_TYPE\":\"STRING\",\"TOKENIZE\":\"No\"},{\"FELEM_ID\":79,\"FELEM_CODE\":\"NM_PAIR\",\"DATA_TYPE\":\"STRING\",\"TOKENIZE\":\"No\"},{\"FELEM_ID\":81,\"FELEM_CODE\":\"ORIG_GN\",\"DATA_TYPE\":\"STRING\",\"TOKENIZE\":\"No\"},{\"FELEM_ID\":83,\"FELEM_CODE\":\"META_GN\",\"DATA_TYPE\":\"STRING\",\"TOKENIZE\":\"No\"},{\"FELEM_ID\":84,\"FELEM_CODE\":\"ORIG_SN\",\"DATA_TYPE\":\"STRING\",\"TOKENIZE\":\"No\"},{\"FELEM_ID\":86,\"FELEM_CODE\":\"META_SN\",\"DATA_TYPE\":\"STRING\",\"TOKENIZE\":\"No\"},{\"FELEM_ID\":87,\"FELEM_CODE\":\"ORIG_ON\",\"DATA_TYPE\":\"STRING\",\"TOKENIZE\":\"No\"},{\"FELEM_ID\":89,\"FELEM_CODE\":\"META_ON\",\"DATA_TYPE\":\"STRING\",\"TOKENIZE\":\"No\"},{\"FELEM_ID\":91,\"FELEM_CODE\":\"STD_PRE\",\"DATA_TYPE\":\"STRING\",\"TOKENIZE\":\"No\"},{\"FELEM_ID\":92,\"FELEM_CODE\":\"STD_SUF\",\"DATA_TYPE\":\"STRING\",\"TOKENIZE\":\"No\"},{\"FELEM_ID\":93,\"FELEM_CODE\":\"STD_GEN\",\"DATA_TYPE\":\"STRING\",\"TOKENIZE\":\"No\"},{\"FELEM_ID\":94,\"FELEM_CODE\":\"ORIG_FN\",\"DATA_TYPE\":\"STRING\",\"TOKENIZE\":\"No\"},{\"FELEM_ID\":96,\"FELEM_CODE\":\"META_FN\",\"DATA_TYPE\":\"STRING\",\"TOKENIZE\":\"No\"},{\"FELEM_ID\":97,\"FELEM_CODE\":\"ISSUE_DATE\",\"DATA_TYPE\":\"DATE\",\"TOKENIZE\":\"No\"},{\"FELEM_ID\":98,\"FELEM_CODE\":\"EXPIRE_DATE\",\"DATA_TYPE\":\"DATE\",\"TOKENIZE\":\"No\"},{\"FELEM_ID\":99,\"FELEM_CODE\":\"VALUE\",\"DATA_TYPE\":\"STRING\",\"TOKENIZE\":\"No\"},{\"FELEM_ID\":100,\"FELEM_CODE\":\"ADDR_FULL\",\"DATA_TYPE\":\"STRING\",\"TOKENIZE\":\"No\"},{\"FELEM_ID\":101,\"FELEM_CODE\":\"ADDR4\",\"DATA_TYPE\":\"STRING\",\"TOKENIZE\":\"No\"},{\"FELEM_ID\":102,\"FELEM_CODE\":\"ADDR5\",\"DATA_TYPE\":\"STRING\",\"TOKENIZE\":\"No\"},{\"FELEM_ID\":103,\"FELEM_CODE\":\"ADDR6\",\"DATA_TYPE\":\"STRING\",\"TOKENIZE\":\"No\"},{\"FELEM_ID\":104,\"FELEM_CODE\":\"LATLONG\",\"DATA_TYPE\":\"STRING\",\"TOKENIZE\":\"No\"},{\"FELEM_ID\":105,\"FELEM_CODE\":\"STB6\",\"DATA_TYPE\":\"STRING\",\"TOKENIZE\":\"No\"},{\"FELEM_ID\":106,\"FELEM_CODE\":\"STB7\",\"DATA_TYPE\":\"STRING\",\"TOKENIZE\":\"No\"},{\"FELEM_ID\":107,\"FELEM_CODE\":\"STB8\",\"DATA_TYPE\":\"STRING\",\"TOKENIZE\":\"No\"},{\"FELEM_ID\":108,\"FELEM_CODE\":\"LIBPOSTAL_PARSE\",\"DATA_TYPE\":\"JSON\",\"TOKENIZE\":\"No\"},{\"FELEM_ID\":109,\"FELEM_CODE\":\"PHONE_AREA_CODE\",\"DATA_TYPE\":\"STRING\",\"TOKENIZE\":\"No\"},{\"FELEM_ID\":110,\"FELEM_CODE\":\"AMBIGUOUS_FTYPE_ID\",\"DATA_TYPE\":\"NUMBER\",\"TOKENIZE\":\"No\"},{\"FELEM_ID\":111,\"FELEM_CODE\":\"AMBIGUOUS_TIER\",\"DATA_TYPE\":\"NUMBER\",\"TOKENIZE\":\"No\"},{\"FELEM_ID\":112,\"FELEM_CODE\":\"MMYY_HASH\",\"DATA_TYPE\":\"STRING\",\"TOKENIZE\":\"No\"},{\"FELEM_ID\":113,\"FELEM_CODE\":\"MMDD_HASH\",\"DATA_TYPE\":\"STRING\",\"TOKENIZE\":\"No\"},{\"FELEM_ID\":114,\"FELEM_CODE\":\"AMBIGUOUS_SUPRESSED_LIBFEAT\",\"DATA_TYPE\":\"NUMBER\",\"TOKENIZE\":\"No\"},{\"FELEM_ID\":115,\"FELEM_CODE\":\"AMBIGUOUS_TYPE\",\"DATA_TYPE\":\"NUMBER\",\"TOKENIZE\":\"No\"},{\"FELEM_ID\":116,\"FELEM_CODE\":\"PLACE\",\"DATA_TYPE\":\"STRING\",\"TOKENIZE\":\"No\"},{\"FELEM_ID\":117,\"FELEM_CODE\":\"COUNTRY_CODE\",\"DATA_TYPE\":\"STRING\",\"TOKENIZE\":\"No\"},{\"FELEM_ID\":118,\"FELEM_CODE\":\"TOKENIZED_NM\",\"DATA_TYPE\":\"STRING\",\"TOKENIZE\":\"No\"},{\"FELEM_ID\":119,\"FELEM_CODE\":\"USER_NAME\",\"DATA_TYPE\":\"STRING\",\"TOKENIZE\":\"No\"},{\"FELEM_ID\":120,\"FELEM_CODE\":\"DOMAIN_NAME\",\"DATA_TYPE\":\"STRING\",\"TOKENIZE\":\"No\"},{\"FELEM_ID\":121,\"FELEM_CODE\":\"ADDR_STD\",\"DATA_TYPE\":\"STRING\",\"TOKENIZE\":\"No\"},{\"FELEM_ID\":122,\"FELEM_CODE\":\"KEY_TYPE\",\"DATA_TYPE\":\"STRING\",\"TOKENIZE\":\"No\"},{\"FELEM_ID\":123,\"FELEM_CODE\":\"KEY_VALUE\",\"DATA_TYPE\":\"STRING\",\"TOKENIZE\":\"No\"},{\"FELEM_ID\":124,\"FELEM_CODE\":\"PLACEKEY\",\"DATA_TYPE\":\"STRING\",\"TOKENIZE\":\"No\"},{\"FELEM_ID\":125,\"FELEM_CODE\":\"SUPRESSED_RELATIONSHIP_FTYPE_ID\",\"DATA_TYPE\":\"NUMBER\",\"TOKENIZE\":\"No\"},{\"FELEM_ID\":126,\"FELEM_CODE\":\"SUPRESSED_RELATIONSHIP_CONNECTING_FTYPE_ID\",\"DATA_TYPE\":\"NUMBER\",\"TOKENIZE\":\"No\"}],\"CFG_DSRC\":[{\"DSRC_ID\":1,\"DSRC_CODE\":\"TEST\",\"DSRC_DESC\":\"Test\",\"DSRC_RELY\":1,\"RETENTION_LEVEL\":\"Remember\",\"CONVERSATIONAL\":\"No\"},{\"DSRC_ID\":2,\"DSRC_CODE\":\"SEARCH\",\"DSRC_DESC\":\"Search\",\"DSRC_RELY\":1,\"RETENTION_LEVEL\":\"Forget\",\"CONVERSATIONAL\":\"Yes\"}],\"CFG_EFBOM\":[{\"EFCALL_ID\":1,\"FTYPE_ID\":6,\"FELEM_ID\":60,\"EXEC_ORDER\":1,\"FELEM_REQ\":\"Yes\"},{\"EFCALL_ID\":2,\"FTYPE_ID\":9,\"FELEM_ID\":69,\"EXEC_ORDER\":1,\"FELEM_REQ\":\"Yes\"},{\"EFCALL_ID\":3,\"FTYPE_ID\":10,\"FELEM_ID\":69,\"EXEC_ORDER\":1,\"FELEM_REQ\":\"Yes\"},{\"EFCALL_ID\":4,\"FTYPE_ID\":12,\"FELEM_ID\":69,\"EXEC_ORDER\":1,\"FELEM_REQ\":\"Yes\"},{\"EFCALL_ID\":5,\"FTYPE_ID\":13,\"FELEM_ID\":56,\"EXEC_ORDER\":1,\"FELEM_REQ\":\"Yes\"},{\"EFCALL_ID\":7,\"FTYPE_ID\":1,\"FELEM_ID\":3,\"EXEC_ORDER\":1,\"FELEM_REQ\":\"No\"},{\"EFCALL_ID\":7,\"FTYPE_ID\":1,\"FELEM_ID\":4,\"EXEC_ORDER\":2,\"FELEM_REQ\":\"No\"},{\"EFCALL_ID\":7,\"FTYPE_ID\":1,\"FELEM_ID\":5,\"EXEC_ORDER\":3,\"FELEM_REQ\":\"No\"},{\"EFCALL_ID\":7,\"FTYPE_ID\":1,\"FELEM_ID\":6,\"EXEC_ORDER\":4,\"FELEM_REQ\":\"No\"},{\"EFCALL_ID\":7,\"FTYPE_ID\":1,\"FELEM_ID\":2,\"EXEC_ORDER\":5,\"FELEM_REQ\":\"No\"},{\"EFCALL_ID\":7,\"FTYPE_ID\":1,\"FELEM_ID\":10,\"EXEC_ORDER\":6,\"FELEM_REQ\":\"No\"},{\"EFCALL_ID\":7,\"FTYPE_ID\":1,\"FELEM_ID\":11,\"EXEC_ORDER\":7,\"FELEM_REQ\":\"No\"},{\"EFCALL_ID\":7,\"FTYPE_ID\":1,\"FELEM_ID\":12,\"EXEC_ORDER\":8,\"FELEM_REQ\":\"No\"},{\"EFCALL_ID\":7,\"FTYPE_ID\":1,\"FELEM_ID\":77,\"EXEC_ORDER\":9,\"FELEM_REQ\":\"No\"},{\"EFCALL_ID\":7,\"FTYPE_ID\":1,\"FELEM_ID\":78,\"EXEC_ORDER\":10,\"FELEM_REQ\":\"No\"},{\"EFCALL_ID\":7,\"FTYPE_ID\":1,\"FELEM_ID\":79,\"EXEC_ORDER\":11,\"FELEM_REQ\":\"No\"},{\"EFCALL_ID\":7,\"FTYPE_ID\":-1,\"FELEM_ID\":71,\"EXEC_ORDER\":12,\"FELEM_REQ\":\"No\"},{\"EFCALL_ID\":7,\"FTYPE_ID\":5,\"FELEM_ID\":74,\"EXEC_ORDER\":14,\"FELEM_REQ\":\"No\"},{\"EFCALL_ID\":7,\"FTYPE_ID\":7,\"FELEM_ID\":39,\"EXEC_ORDER\":15,\"FELEM_REQ\":\"No\"},{\"EFCALL_ID\":7,\"FTYPE_ID\":6,\"FELEM_ID\":61,\"EXEC_ORDER\":16,\"FELEM_REQ\":\"No\"},{\"EFCALL_ID\":7,\"FTYPE_ID\":77,\"FELEM_ID\":37,\"EXEC_ORDER\":17,\"FELEM_REQ\":\"No\"},{\"EFCALL_ID\":7,\"FTYPE_ID\":86,\"FELEM_ID\":117,\"EXEC_ORDER\":18,\"FELEM_REQ\":\"No\"},{\"EFCALL_ID\":7,\"FTYPE_ID\":57,\"FELEM_ID\":3,\"EXEC_ORDER\":19,\"FELEM_REQ\":\"No\"},{\"EFCALL_ID\":7,\"FTYPE_ID\":-1,\"FELEM_ID\":112,\"EXEC_ORDER\":20,\"FELEM_REQ\":\"No\"},{\"EFCALL_ID\":7,\"FTYPE_ID\":-1,\"FELEM_ID\":113,\"EXEC_ORDER\":21,\"FELEM_REQ\":\"No\"},{\"EFCALL_ID\":7,\"FTYPE_ID\":5,\"FELEM_ID\":73,\"EXEC_ORDER\":22,\"FELEM_REQ\":\"No\"},{\"EFCALL_ID\":8,\"FTYPE_ID\":37,\"FELEM_ID\":69,\"EXEC_ORDER\":1,\"FELEM_REQ\":\"Yes\"},{\"EFCALL_ID\":9,\"FTYPE_ID\":5,\"FELEM_ID\":29,\"EXEC_ORDER\":1,\"FELEM_REQ\":\"No\"},{\"EFCALL_ID\":9,\"FTYPE_ID\":5,\"FELEM_ID\":72,\"EXEC_ORDER\":2,\"FELEM_REQ\":\"No\"},{\"EFCALL_ID\":9,\"FTYPE_ID\":5,\"FELEM_ID\":31,\"EXEC_ORDER\":3,\"FELEM_REQ\":\"No\"},{\"EFCALL_ID\":9,\"FTYPE_ID\":5,\"FELEM_ID\":32,\"EXEC_ORDER\":4,\"FELEM_REQ\":\"No\"},{\"EFCALL_ID\":9,\"FTYPE_ID\":5,\"FELEM_ID\":73,\"EXEC_ORDER\":5,\"FELEM_REQ\":\"No\"},{\"EFCALL_ID\":9,\"FTYPE_ID\":5,\"FELEM_ID\":26,\"EXEC_ORDER\":6,\"FELEM_REQ\":\"No\"},{\"EFCALL_ID\":9,\"FTYPE_ID\":5,\"FELEM_ID\":74,\"EXEC_ORDER\":7,\"FELEM_REQ\":\"No\"},{\"EFCALL_ID\":10,\"FTYPE_ID\":7,\"FELEM_ID\":39,\"EXEC_ORDER\":1,\"FELEM_REQ\":\"Yes\"},{\"EFCALL_ID\":10,\"FTYPE_ID\":-1,\"FELEM_ID\":71,\"EXEC_ORDER\":2,\"FELEM_REQ\":\"Yes\"},{\"EFCALL_ID\":11,\"FTYPE_ID\":11,\"FELEM_ID\":69,\"EXEC_ORDER\":1,\"FELEM_REQ\":\"Yes\"},{\"EFCALL_ID\":12,\"FTYPE_ID\":52,\"FELEM_ID\":69,\"EXEC_ORDER\":1,\"FELEM_REQ\":\"Yes\"},{\"EFCALL_ID\":13,\"FTYPE_ID\":24,\"FELEM_ID\":51,\"EXEC_ORDER\":1,\"FELEM_REQ\":\"Yes\"},{\"EFCALL_ID\":13,\"FTYPE_ID\":24,\"FELEM_ID\":52,\"EXEC_ORDER\":2,\"FELEM_REQ\":\"Yes\"},{\"EFCALL_ID\":13,\"FTYPE_ID\":24,\"FELEM_ID\":53,\"EXEC_ORDER\":3,\"FELEM_REQ\":\"No\"},{\"EFCALL_ID\":13,\"FTYPE_ID\":24,\"FELEM_ID\":75,\"EXEC_ORDER\":4,\"FELEM_REQ\":\"No\"},{\"EFCALL_ID\":13,\"FTYPE_ID\":24,\"FELEM_ID\":76,\"EXEC_ORDER\":5,\"FELEM_REQ\":\"No\"},{\"EFCALL_ID\":13,\"FTYPE_ID\":24,\"FELEM_ID\":104,\"EXEC_ORDER\":6,\"FELEM_REQ\":\"No\"},{\"EFCALL_ID\":13,\"FTYPE_ID\":24,\"FELEM_ID\":105,\"EXEC_ORDER\":7,\"FELEM_REQ\":\"No\"},{\"EFCALL_ID\":13,\"FTYPE_ID\":24,\"FELEM_ID\":106,\"EXEC_ORDER\":8,\"FELEM_REQ\":\"No\"},{\"EFCALL_ID\":13,\"FTYPE_ID\":24,\"FELEM_ID\":107,\"EXEC_ORDER\":9,\"FELEM_REQ\":\"No\"},{\"EFCALL_ID\":14,\"FTYPE_ID\":16,\"FELEM_ID\":40,\"EXEC_ORDER\":1,\"FELEM_REQ\":\"Yes\"},{\"EFCALL_ID\":15,\"FTYPE_ID\":53,\"FELEM_ID\":37,\"EXEC_ORDER\":1,\"FELEM_REQ\":\"Yes\"},{\"EFCALL_ID\":16,\"FTYPE_ID\":7,\"FELEM_ID\":69,\"EXEC_ORDER\":1,\"FELEM_REQ\":\"Yes\"},{\"EFCALL_ID\":29,\"FTYPE_ID\":78,\"FELEM_ID\":69,\"EXEC_ORDER\":1,\"FELEM_REQ\":\"Yes\"},{\"EFCALL_ID\":30,\"FTYPE_ID\":79,\"FELEM_ID\":69,\"EXEC_ORDER\":1,\"FELEM_REQ\":\"Yes\"},{\"EFCALL_ID\":31,\"FTYPE_ID\":80,\"FELEM_ID\":69,\"EXEC_ORDER\":1,\"FELEM_REQ\":\"Yes\"},{\"EFCALL_ID\":32,\"FTYPE_ID\":87,\"FELEM_ID\":69,\"EXEC_ORDER\":1,\"FELEM_REQ\":\"Yes\"},{\"EFCALL_ID\":34,\"FTYPE_ID\":14,\"FELEM_ID\":121,\"EXEC_ORDER\":1,\"FELEM_REQ\":\"Yes\"}],\"CFG_EFUNC\":[{\"EFUNC_ID\":1,\"EFUNC_CODE\":\"EXPRESS_BOM\",\"CONNECT_STR\":\"g2GenericHasher\",\"FUNC_LIB\":\"g2func_lib\",\"FUNC_VER\":\"2\",\"LANGUAGE\":\"\",\"JAVA_CLASS_NAME\":\"\"},{\"EFUNC_ID\":2,\"EFUNC_CODE\":\"NAME_HASHER\",\"CONNECT_STR\":\"g2NameHasher\",\"FUNC_LIB\":\"g2func_lib\",\"FUNC_VER\":\"2\",\"LANGUAGE\":\"\",\"JAVA_CLASS_NAME\":\"\"},{\"EFUNC_ID\":3,\"EFUNC_CODE\":\"ADDR_HASHER\",\"CONNECT_STR\":\"g2AddressHasher\",\"FUNC_LIB\":\"g2func_lib\",\"FUNC_VER\":\"2\",\"LANGUAGE\":\"\",\"JAVA_CLASS_NAME\":\"\"},{\"EFUNC_ID\":4,\"EFUNC_CODE\":\"PHONE_HASHER\",\"CONNECT_STR\":\"g2PhoneHasher\",\"FUNC_LIB\":\"g2func_lib\",\"FUNC_VER\":\"2\",\"LANGUAGE\":\"\",\"JAVA_CLASS_NAME\":\"\"},{\"EFUNC_ID\":5,\"EFUNC_CODE\":\"EXPRESS_ID\",\"CONNECT_STR\":\"g2IDHasher\",\"FUNC_LIB\":\"g2funclib\",\"FUNC_VER\":\"2\",\"LANGUAGE\":\"\",\"JAVA_CLASS_NAME\":\"\"},{\"EFUNC_ID\":6,\"EFUNC_CODE\":\"STB_HASHER\",\"CONNECT_STR\":\"g2STBHasher\",\"FUNC_LIB\":\"g2funclib\",\"FUNC_VER\":\"2\",\"LANGUAGE\":\"\",\"JAVA_CLASS_NAME\":\"\"},{\"EFUNC_ID\":7,\"EFUNC_CODE\":\"FEAT_BUILDER\",\"CONNECT_STR\":\"g2FeatBuilder\",\"FUNC_LIB\":\"g2funclib\",\"FUNC_VER\":\"2\",\"LANGUAGE\":\"\",\"JAVA_CLASS_NAME\":\"\"}],\"CFG_EFCALL\":[{\"FTYPE_ID\":6,\"FELEM_ID\":-1,\"EFCALL_ID\":1,\"EFUNC_ID\":4,\"EXEC_ORDER\":1,\"EFEAT_FTYPE_ID\":-1,\"IS_VIRTUAL\":\"No\"},{\"FTYPE_ID\":9,\"FELEM_ID\":-1,\"EFCALL_ID\":2,\"EFUNC_ID\":5,\"EXEC_ORDER\":1,\"EFEAT_FTYPE_ID\":-1,\"IS_VIRTUAL\":\"No\"},{\"FTYPE_ID\":10,\"FELEM_ID\":-1,\"EFCALL_ID\":3,\"EFUNC_ID\":5,\"EXEC_ORDER\":1,\"EFEAT_FTYPE_ID\":-1,\"IS_VIRTUAL\":\"No\"},{\"FTYPE_ID\":12,\"FELEM_ID\":-1,\"EFCALL_ID\":4,\"EFUNC_ID\":5,\"EXEC_ORDER\":1,\"EFEAT_FTYPE_ID\":-1,\"IS_VIRTUAL\":\"No\"},{\"FTYPE_ID\":13,\"FELEM_ID\":-1,\"EFCALL_ID\":5,\"EFUNC_ID\":1,\"EXEC_ORDER\":1,\"EFEAT_FTYPE_ID\":-1,\"IS_VIRTUAL\":\"No\"},{\"FTYPE_ID\":1,\"FELEM_ID\":-1,\"EFCALL_ID\":7,\"EFUNC_ID\":2,\"EXEC_ORDER\":2,\"EFEAT_FTYPE_ID\":-1,\"IS_VIRTUAL\":\"No\"},{\"FTYPE_ID\":37,\"FELEM_ID\":-1,\"EFCALL_ID\":8,\"EFUNC_ID\":5,\"EXEC_ORDER\":1,\"EFEAT_FTYPE_ID\":-1,\"IS_VIRTUAL\":\"No\"},{\"FTYPE_ID\":5,\"FELEM_ID\":-1,\"EFCALL_ID\":9,\"EFUNC_ID\":3,\"EXEC_ORDER\":1,\"EFEAT_FTYPE_ID\":-1,\"IS_VIRTUAL\":\"No\"},{\"FTYPE_ID\":7,\"FELEM_ID\":-1,\"EFCALL_ID\":10,\"EFUNC_ID\":1,\"EXEC_ORDER\":2,\"EFEAT_FTYPE_ID\":-1,\"IS_VIRTUAL\":\"No\"},{\"FTYPE_ID\":11,\"FELEM_ID\":-1,\"EFCALL_ID\":11,\"EFUNC_ID\":5,\"EXEC_ORDER\":1,\"EFEAT_FTYPE_ID\":-1,\"IS_VIRTUAL\":\"No\"},{\"FTYPE_ID\":52,\"FELEM_ID\":-1,\"EFCALL_ID\":12,\"EFUNC_ID\":5,\"EXEC_ORDER\":1,\"EFEAT_FTYPE_ID\":-1,\"IS_VIRTUAL\":\"No\"},{\"FTYPE_ID\":24,\"FELEM_ID\":-1,\"EFCALL_ID\":13,\"EFUNC_ID\":6,\"EXEC_ORDER\":1,\"EFEAT_FTYPE_ID\":-1,\"IS_VIRTUAL\":\"No\"},{\"FTYPE_ID\":16,\"FELEM_ID\":-1,\"EFCALL_ID\":14,\"EFUNC_ID\":5,\"EXEC_ORDER\":1,\"EFEAT_FTYPE_ID\":-1,\"IS_VIRTUAL\":\"No\"},{\"FTYPE_ID\":53,\"FELEM_ID\":-1,\"EFCALL_ID\":15,\"EFUNC_ID\":5,\"EXEC_ORDER\":1,\"EFEAT_FTYPE_ID\":-1,\"IS_VIRTUAL\":\"No\"},{\"FTYPE_ID\":7,\"FELEM_ID\":-1,\"EFCALL_ID\":16,\"EFUNC_ID\":5,\"EXEC_ORDER\":1,\"EFEAT_FTYPE_ID\":-1,\"IS_VIRTUAL\":\"No\"},{\"FTYPE_ID\":78,\"FELEM_ID\":-1,\"EFCALL_ID\":29,\"EFUNC_ID\":5,\"EXEC_ORDER\":1,\"EFEAT_FTYPE_ID\":-1,\"IS_VIRTUAL\":\"No\"},{\"FTYPE_ID\":79,\"FELEM_ID\":-1,\"EFCALL_ID\":30,\"EFUNC_ID\":5,\"EXEC_ORDER\":1,\"EFEAT_FTYPE_ID\":-1,\"IS_VIRTUAL\":\"No\"},{\"FTYPE_ID\":80,\"FELEM_ID\":-1,\"EFCALL_ID\":31,\"EFUNC_ID\":5,\"EXEC_ORDER\":1,\"EFEAT_FTYPE_ID\":-1,\"IS_VIRTUAL\":\"No\"},{\"FTYPE_ID\":87,\"FELEM_ID\":-1,\"EFCALL_ID\":32,\"EFUNC_ID\":5,\"EXEC_ORDER\":1,\"EFEAT_FTYPE_ID\":-1,\"IS_VIRTUAL\":\"No\"},{\"FTYPE_ID\":14,\"FELEM_ID\":-1,\"EFCALL_ID\":34,\"EFUNC_ID\":7,\"EXEC_ORDER\":1,\"EFEAT_FTYPE_ID\":88,\"IS_VIRTUAL\":\"No\"}],\"CFG_SFCALL\":[{\"SFCALL_ID\":1,\"FTYPE_ID\":1,\"FELEM_ID\":-1,\"SFUNC_ID\":1,\"EXEC_ORDER\":1},{\"SFCALL_ID\":2,\"FTYPE_ID\":2,\"FELEM_ID\":-1,\"SFUNC_ID\":2,\"EXEC_ORDER\":1},{\"SFCALL_ID\":3,\"FTYPE_ID\":5,\"FELEM_ID\":-1,\"SFUNC_ID\":7,\"EXEC_ORDER\":1},{\"SFCALL_ID\":4,\"FTYPE_ID\":6,\"FELEM_ID\":-1,\"SFUNC_ID\":8,\"EXEC_ORDER\":1},{\"SFCALL_ID\":5,\"FTYPE_ID\":7,\"FELEM_ID\":-1,\"SFUNC_ID\":4,\"EXEC_ORDER\":1},{\"SFCALL_ID\":6,\"FTYPE_ID\":9,\"FELEM_ID\":-1,\"SFUNC_ID\":6,\"EXEC_ORDER\":1},{\"SFCALL_ID\":7,\"FTYPE_ID\":10,\"FELEM_ID\":-1,\"SFUNC_ID\":6,\"EXEC_ORDER\":1},{\"SFCALL_ID\":8,\"FTYPE_ID\":12,\"FELEM_ID\":-1,\"SFUNC_ID\":6,\"EXEC_ORDER\":1},{\"SFCALL_ID\":9,\"FTYPE_ID\":24,\"FELEM_ID\":-1,\"SFUNC_ID\":10,\"EXEC_ORDER\":1},{\"SFCALL_ID\":10,\"FTYPE_ID\":37,\"FELEM_ID\":-1,\"SFUNC_ID\":6,\"EXEC_ORDER\":1},{\"SFCALL_ID\":11,\"FTYPE_ID\":11,\"FELEM_ID\":-1,\"SFUNC_ID\":6,\"EXEC_ORDER\":1},{\"SFCALL_ID\":12,\"FTYPE_ID\":52,\"FELEM_ID\":-1,\"SFUNC_ID\":6,\"EXEC_ORDER\":1},{\"SFCALL_ID\":13,\"FTYPE_ID\":3,\"FELEM_ID\":-1,\"SFUNC_ID\":2,\"EXEC_ORDER\":1},{\"SFCALL_ID\":14,\"FTYPE_ID\":75,\"FELEM_ID\":-1,\"SFUNC_ID\":2,\"EXEC_ORDER\":1},{\"SFCALL_ID\":15,\"FTYPE_ID\":78,\"FELEM_ID\":-1,\"SFUNC_ID\":6,\"EXEC_ORDER\":1},{\"SFCALL_ID\":16,\"FTYPE_ID\":79,\"FELEM_ID\":-1,\"SFUNC_ID\":6,\"EXEC_ORDER\":1},{\"SFCALL_ID\":17,\"FTYPE_ID\":80,\"FELEM_ID\":-1,\"SFUNC_ID\":6,\"EXEC_ORDER\":1},{\"SFCALL_ID\":18,\"FTYPE_ID\":87,\"FELEM_ID\":-1,\"SFUNC_ID\":6,\"EXEC_ORDER\":1},{\"SFCALL_ID\":19,\"FTYPE_ID\":-1,\"FELEM_ID\":28,\"SFUNC_ID\":11,\"EXEC_ORDER\":100},{\"SFCALL_ID\":20,\"FTYPE_ID\":1,\"FELEM_ID\":-1,\"SFUNC_ID\":12,\"EXEC_ORDER\":50},{\"SFCALL_ID\":21,\"FTYPE_ID\":14,\"FELEM_ID\":-1,\"SFUNC_ID\":13,\"EXEC_ORDER\":1}],\"CFG_SFUNC\":[{\"SFUNC_ID\":1,\"SFUNC_CODE\":\"PARSE_NAME\",\"FUNC_LIB\":\"g2func_lib\",\"CONNECT_STR\":\"g2ParseName\",\"LANGUAGE\":\"\",\"JAVA_CLASS_NAME\":\"\",\"FUNC_VER\":\"1\"},{\"SFUNC_ID\":2,\"SFUNC_CODE\":\"PARSE_DOB\",\"FUNC_LIB\":\"g2func_lib\",\"CONNECT_STR\":\"g2ParseDOB\",\"LANGUAGE\":\"\",\"JAVA_CLASS_NAME\":\"\",\"FUNC_VER\":\"1\"},{\"SFUNC_ID\":4,\"SFUNC_CODE\":\"FORMAT_SSN\",\"FUNC_LIB\":\"g2func_lib\",\"CONNECT_STR\":\"g2FormatSSN\",\"LANGUAGE\":\"\",\"JAVA_CLASS_NAME\":\"\",\"FUNC_VER\":\"1\"},{\"SFUNC_ID\":6,\"SFUNC_CODE\":\"PARSE_ID\",\"FUNC_LIB\":\"g2func_lib\",\"CONNECT_STR\":\"g2ParseID\",\"LANGUAGE\":\"\",\"JAVA_CLASS_NAME\":\"\",\"FUNC_VER\":\"1\"},{\"SFUNC_ID\":7,\"SFUNC_CODE\":\"PARSE_ADDR\",\"FUNC_LIB\":\"g2func_lib\",\"CONNECT_STR\":\"g2ConfigParseAddr\",\"LANGUAGE\":\"\",\"JAVA_CLASS_NAME\":\"\",\"FUNC_VER\":\"1\"},{\"SFUNC_ID\":8,\"SFUNC_CODE\":\"PARSE_PHONE\",\"FUNC_LIB\":\"g2func_lib\",\"CONNECT_STR\":\"g2ParsePhone\",\"LANGUAGE\":\"\",\"JAVA_CLASS_NAME\":\"\",\"FUNC_VER\":\"1\"},{\"SFUNC_ID\":9,\"SFUNC_CODE\":\"STANDARDIZE_STB\",\"FUNC_LIB\":\"g2func_lib\",\"CONNECT_STR\":\"SpaceTimeBoxStandardizer\",\"LANGUAGE\":\"\",\"JAVA_CLASS_NAME\":\"\",\"FUNC_VER\":\"1\"},{\"SFUNC_ID\":10,\"SFUNC_CODE\":\"STANDARDIZE_GEOLOC\",\"FUNC_LIB\":\"g2func_lib\",\"CONNECT_STR\":\"g2ParseGEOLOC\",\"LANGUAGE\":\"\",\"JAVA_CLASS_NAME\":\"\",\"FUNC_VER\":\"1\"},{\"SFUNC_ID\":11,\"SFUNC_CODE\":\"STANDARDIZE_COUNTRY\",\"FUNC_LIB\":\"g2func_lib\",\"CONNECT_STR\":\"g2StdCountry\",\"LANGUAGE\":\"\",\"JAVA_CLASS_NAME\":\"\",\"FUNC_VER\":\"1\"},{\"SFUNC_ID\":12,\"SFUNC_CODE\":\"TOKENIZE_NAME\",\"FUNC_LIB\":\"g2func_lib\",\"CONNECT_STR\":\"g2StdTokenizeName\",\"LANGUAGE\":\"\",\"JAVA_CLASS_NAME\":\"\",\"FUNC_VER\":\"1\"},{\"SFUNC_ID\":13,\"SFUNC_CODE\":\"PARSE_EMAIL\",\"FUNC_LIB\":\"g2func_lib\",\"CONNECT_STR\":\"g2ParseEmail\",\"LANGUAGE\":\"\",\"JAVA_CLASS_NAME\":\"\",\"FUNC_VER\":\"1\"}],\"SYS_OOM\":[{\"OOM_TYPE\":\"RF\",\"OOM_LEVEL\":\"SYSDEFAULT\",\"LENS_ID\":0,\"FTYPE_ID\":0,\"THRESH1_CNT\":100,\"THRESH1_OOM\":10,\"NEXT_THRESH\":1000}],\"CFG_CFUNC\":[{\"CFUNC_ID\":1,\"CFUNC_CODE\":\"STR_COMP\",\"CONNECT_STR\":\"g2StringComp\",\"FUNC_VER\":\"1\",\"ANON_SUPPORT\":\"Yes\",\"FUNC_LIB\":\"INT_LIB\",\"LANGUAGE\":\"\",\"JAVA_CLASS_NAME\":\"\"},{\"CFUNC_ID\":2,\"CFUNC_CODE\":\"GNR_COMP\",\"CONNECT_STR\":\"g2GNRNameComp\",\"FUNC_VER\":\"1\",\"ANON_SUPPORT\":\"Yes\",\"FUNC_LIB\":\"INT_LIB\",\"LANGUAGE\":\"\",\"JAVA_CLASS_NAME\":\"\"},{\"CFUNC_ID\":3,\"CFUNC_CODE\":\"EXACT_COMP\",\"CONNECT_STR\":\"g2ExactMatchComp\",\"FUNC_VER\":\"1\",\"ANON_SUPPORT\":\"Yes\",\"FUNC_LIB\":\"INT_LIB\",\"LANGUAGE\":\"\",\"JAVA_CLASS_NAME\":\"\"},{\"CFUNC_ID\":4,\"CFUNC_CODE\":\"ADDR_COMP\",\"CONNECT_STR\":\"g2AddressComp\",\"FUNC_VER\":\"1\",\"ANON_SUPPORT\":\"Yes\",\"FUNC_LIB\":\"INT_LIB\",\"LANGUAGE\":\"\",\"JAVA_CLASS_NAME\":\"\"},{\"CFUNC_ID\":5,\"CFUNC_CODE\":\"DOB_COMP\",\"CONNECT_STR\":\"g2DateComp\",\"FUNC_VER\":\"1\",\"ANON_SUPPORT\":\"Yes\",\"FUNC_LIB\":\"INT_LIB\",\"LANGUAGE\":\"\",\"JAVA_CLASS_NAME\":\"\"},{\"CFUNC_ID\":7,\"CFUNC_CODE\":\"PHONE_COMP\",\"CONNECT_STR\":\"g2PhoneComp\",\"FUNC_VER\":\"1\",\"ANON_SUPPORT\":\"Yes\",\"FUNC_LIB\":\"INT_LIB\",\"LANGUAGE\":\"\",\"JAVA_CLASS_NAME\":\"\"},{\"CFUNC_ID\":8,\"CFUNC_CODE\":\"SSN_COMP\",\"CONNECT_STR\":\"g2SSNComp\",\"FUNC_VER\":\"1\",\"ANON_SUPPORT\":\"Yes\",\"FUNC_LIB\":\"INT_LIB\",\"LANGUAGE\":\"\",\"JAVA_CLASS_NAME\":\"\"},{\"CFUNC_ID\":9,\"CFUNC_CODE\":\"ID_COMP\",\"CONNECT_STR\":\"g2DLComp\",\"FUNC_VER\":\"1\",\"ANON_SUPPORT\":\"Yes\",\"FUNC_LIB\":\"INT_LIB\",\"LANGUAGE\":\"\",\"JAVA_CLASS_NAME\":\"\"},{\"CFUNC_ID\":10,\"CFUNC_CODE\":\"GEOLOC_COMP\",\"CONNECT_STR\":\"g2GEOLOCComp\",\"FUNC_VER\":\"1\",\"ANON_SUPPORT\":\"Yes\",\"FUNC_LIB\":\"INT_LIB\",\"LANGUAGE\":\"\",\"JAVA_CLASS_NAME\":\"\"},{\"CFUNC_ID\":11,\"CFUNC_CODE\":\"EXACT_DOMAIN_COMP\",\"CONNECT_STR\":\"g2ExactDomainMatchComp\",\"FUNC_VER\":\"1\",\"ANON_SUPPORT\":\"Yes\",\"FUNC_LIB\":\"INT_LIB\",\"LANGUAGE\":\"\",\"JAVA_CLASS_NAME\":\"\"},{\"CFUNC_ID\":12,\"CFUNC_CODE\":\"GROUP_ASSOCIATION_COMP\",\"CONNECT_STR\":\"g2GroupAssociationComp\",\"FUNC_VER\":\"1\",\"ANON_SUPPORT\":\"Yes\",\"FUNC_LIB\":\"INT_LIB\",\"LANGUAGE\":\"\",\"JAVA_CLASS_NAME\":\"\"},{\"CFUNC_ID\":13,\"CFUNC_CODE\":\"EMAIL_COMP\",\"CONNECT_STR\":\"g2EmailComp\",\"FUNC_VER\":\"1\",\"ANON_SUPPORT\":\"Yes\",\"FUNC_LIB\":\"INT_LIB\",\"LANGUAGE\":\"\",\"JAVA_CLASS_NAME\":\"\"},{\"CFUNC_ID\":14,\"CFUNC_CODE\":\"BT_NAME_COMP\",\"CONNECT_STR\":\"g2CompJavaScoreSet\",\"FUNC_VER\":\"1\",\"ANON_SUPPORT\":\"Yes\",\"FUNC_LIB\":\"INT_LIB\",\"LANGUAGE\":\"JAVA\",\"JAVA_CLASS_NAME\":\"com.senzing.g2.plugins.scoring.RosetteNameScorer\"}],\"CFG_CFCALL\":[{\"FTYPE_ID\":1,\"CFCALL_ID\":1,\"CFUNC_ID\":2,\"EXEC_ORDER\":1},{\"FTYPE_ID\":2,\"CFCALL_ID\":2,\"CFUNC_ID\":5,\"EXEC_ORDER\":1},{\"FTYPE_ID\":3,\"CFCALL_ID\":3,\"CFUNC_ID\":5,\"EXEC_ORDER\":1},{\"FTYPE_ID\":4,\"CFCALL_ID\":4,\"CFUNC_ID\":11,\"EXEC_ORDER\":1},{\"FTYPE_ID\":5,\"CFCALL_ID\":5,\"CFUNC_ID\":4,\"EXEC_ORDER\":1},{\"FTYPE_ID\":6,\"CFCALL_ID\":6,\"CFUNC_ID\":7,\"EXEC_ORDER\":1},{\"FTYPE_ID\":7,\"CFCALL_ID\":7,\"CFUNC_ID\":8,\"EXEC_ORDER\":1},{\"FTYPE_ID\":9,\"CFCALL_ID\":9,\"CFUNC_ID\":9,\"EXEC_ORDER\":1},{\"FTYPE_ID\":10,\"CFCALL_ID\":10,\"CFUNC_ID\":9,\"EXEC_ORDER\":1},{\"FTYPE_ID\":11,\"CFCALL_ID\":34,\"CFUNC_ID\":3,\"EXEC_ORDER\":1},{\"FTYPE_ID\":12,\"CFCALL_ID\":12,\"CFUNC_ID\":9,\"EXEC_ORDER\":1},{\"FTYPE_ID\":13,\"CFCALL_ID\":13,\"CFUNC_ID\":3,\"EXEC_ORDER\":1},{\"FTYPE_ID\":14,\"CFCALL_ID\":14,\"CFUNC_ID\":13,\"EXEC_ORDER\":1},{\"FTYPE_ID\":15,\"CFCALL_ID\":15,\"CFUNC_ID\":3,\"EXEC_ORDER\":1},{\"FTYPE_ID\":16,\"CFCALL_ID\":16,\"CFUNC_ID\":3,\"EXEC_ORDER\":1},{\"FTYPE_ID\":24,\"CFCALL_ID\":40,\"CFUNC_ID\":10,\"EXEC_ORDER\":1},{\"FTYPE_ID\":36,\"CFCALL_ID\":18,\"CFUNC_ID\":3,\"EXEC_ORDER\":1},{\"FTYPE_ID\":37,\"CFCALL_ID\":19,\"CFUNC_ID\":9,\"EXEC_ORDER\":1},{\"FTYPE_ID\":52,\"CFCALL_ID\":35,\"CFUNC_ID\":9,\"EXEC_ORDER\":1},{\"FTYPE_ID\":53,\"CFCALL_ID\":36,\"CFUNC_ID\":3,\"EXEC_ORDER\":1},{\"FTYPE_ID\":54,\"CFCALL_ID\":37,\"CFUNC_ID\":1,\"EXEC_ORDER\":1},{\"FTYPE_ID\":55,\"CFCALL_ID\":38,\"CFUNC_ID\":1,\"EXEC_ORDER\":1},{\"FTYPE_ID\":56,\"CFCALL_ID\":39,\"CFUNC_ID\":3,\"EXEC_ORDER\":1},{\"FTYPE_ID\":57,\"CFCALL_ID\":41,\"CFUNC_ID\":12,\"EXEC_ORDER\":1},{\"FTYPE_ID\":59,\"CFCALL_ID\":42,\"CFUNC_ID\":12,\"EXEC_ORDER\":1},{\"FTYPE_ID\":60,\"CFCALL_ID\":43,\"CFUNC_ID\":3,\"EXEC_ORDER\":1},{\"FTYPE_ID\":61,\"CFCALL_ID\":44,\"CFUNC_ID\":3,\"EXEC_ORDER\":1},{\"FTYPE_ID\":62,\"CFCALL_ID\":45,\"CFUNC_ID\":3,\"EXEC_ORDER\":1},{\"FTYPE_ID\":63,\"CFCALL_ID\":46,\"CFUNC_ID\":3,\"EXEC_ORDER\":1},{\"FTYPE_ID\":64,\"CFCALL_ID\":47,\"CFUNC_ID\":3,\"EXEC_ORDER\":1},{\"FTYPE_ID\":65,\"CFCALL_ID\":48,\"CFUNC_ID\":3,\"EXEC_ORDER\":1},{\"FTYPE_ID\":66,\"CFCALL_ID\":49,\"CFUNC_ID\":3,\"EXEC_ORDER\":1},{\"FTYPE_ID\":67,\"CFCALL_ID\":50,\"CFUNC_ID\":3,\"EXEC_ORDER\":1},{\"FTYPE_ID\":68,\"CFCALL_ID\":51,\"CFUNC_ID\":3,\"EXEC_ORDER\":1},{\"FTYPE_ID\":69,\"CFCALL_ID\":52,\"CFUNC_ID\":3,\"EXEC_ORDER\":1},{\"FTYPE_ID\":70,\"CFCALL_ID\":53,\"CFUNC_ID\":3,\"EXEC_ORDER\":1},{\"FTYPE_ID\":71,\"CFCALL_ID\":54,\"CFUNC_ID\":3,\"EXEC_ORDER\":1},{\"FTYPE_ID\":72,\"CFCALL_ID\":55,\"CFUNC_ID\":3,\"EXEC_ORDER\":1},{\"FTYPE_ID\":74,\"CFCALL_ID\":57,\"CFUNC_ID\":1,\"EXEC_ORDER\":1},{\"FTYPE_ID\":75,\"CFCALL_ID\":58,\"CFUNC_ID\":5,\"EXEC_ORDER\":1},{\"FTYPE_ID\":76,\"CFCALL_ID\":59,\"CFUNC_ID\":1,\"EXEC_ORDER\":1},{\"FTYPE_ID\":77,\"CFCALL_ID\":60,\"CFUNC_ID\":3,\"EXEC_ORDER\":1},{\"FTYPE_ID\":78,\"CFCALL_ID\":61,\"CFUNC_ID\":3,\"EXEC_ORDER\":1},{\"FTYPE_ID\":79,\"CFCALL_ID\":62,\"CFUNC_ID\":3,\"EXEC_ORDER\":1},{\"FTYPE_ID\":80,\"CFCALL_ID\":63,\"CFUNC_ID\":3,\"EXEC_ORDER\":1},{\"FTYPE_ID\":86,\"CFCALL_ID\":64,\"CFUNC_ID\":1,\"EXEC_ORDER\":1},{\"FTYPE_ID\":87,\"CFCALL_ID\":65,\"CFUNC_ID\":3,\"EXEC_ORDER\":1}],\"CFG_GPLAN\":[{\"GPLAN_ID\":1,\"GPLAN_CODE\":\"INGEST\"},{\"GPLAN_ID\":2,\"GPLAN_CODE\":\"SEARCH\"},{\"GPLAN_ID\":3,\"GPLAN_CODE\":\"SEARCH-EXHAUSTIVE\"}],\"CFG_ERRULE\":[{\"ERRULE_ID\":100,\"ERRULE_CODE\":\"SAME_A1\",\"ERRULE_DESC\":\"SAME_A1\",\"QUAL_ERFRAG_CODE\":\"SAME_A1\",\"DISQ_ERFRAG_CODE\":\"\",\"RESOLVE\":\"Yes\",\"REF_SCORE\":10,\"RELATE\":\"No\",\"RTYPE_ID\":1,\"ERRULE_TIER\":10},{\"ERRULE_ID\":108,\"ERRULE_CODE\":\"SF1_SNAME_CFF_CSTAB\",\"ERRULE_DESC\":\"SAME_F1+SAME_NAME+CLOSE_FF+CLOSE_STAB+NODEXCL\",\"QUAL_ERFRAG_CODE\":\"SF1_SNAME_CFF_CSTAB\",\"DISQ_ERFRAG_CODE\":\"DIFF_EXCL\",\"RESOLVE\":\"Yes\",\"REF_SCORE\":10,\"RELATE\":\"No\",\"RTYPE_ID\":1,\"ERRULE_TIER\":18},{\"ERRULE_ID\":110,\"ERRULE_CODE\":\"SF1_PNAME_CFF_CSTAB\",\"ERRULE_DESC\":\"SAME_F1+PART_NAME+CLOSE_FF+CLOSE_STAB\",\"QUAL_ERFRAG_CODE\":\"SF1_PNAME_CFF_CSTAB\",\"DISQ_ERFRAG_CODE\":\"DIFF_EXCL\",\"RESOLVE\":\"Yes\",\"REF_SCORE\":10,\"RELATE\":\"No\",\"RTYPE_ID\":1,\"ERRULE_TIER\":20},{\"ERRULE_ID\":111,\"ERRULE_CODE\":\"SF1_SNAME_CFF_CSTAB_DEXCL\",\"ERRULE_DESC\":\"SAME_F1+SAME_NAME+CLOSE_FF+CLOSE_STAB+DIFF_EXCL\",\"QUAL_ERFRAG_CODE\":\"SF1_SNAME_CFF_CSTAB\",\"DISQ_ERFRAG_CODE\":\"DIFF_GEN_A1ES\",\"RESOLVE\":\"Yes\",\"REF_SCORE\":10,\"RELATE\":\"No\",\"RTYPE_ID\":1,\"ERRULE_TIER\":20},{\"ERRULE_ID\":112,\"ERRULE_CODE\":\"SF1_PNAME_CFF_OLD\",\"ERRULE_DESC\":\"SAME_F1+PART_NAME+CLOSE_FF+OLD\",\"QUAL_ERFRAG_CODE\":\"DISABLE\",\"DISQ_ERFRAG_CODE\":\"\",\"RESOLVE\":\"Yes\",\"REF_SCORE\":9,\"RELATE\":\"No\",\"RTYPE_ID\":1,\"ERRULE_TIER\":20},{\"ERRULE_ID\":120,\"ERRULE_CODE\":\"SF1_PNAME_CSTAB\",\"ERRULE_DESC\":\"SAME_F1+PART_NAME+CLOSE_STAB\",\"QUAL_ERFRAG_CODE\":\"SF1_PNAME_CSTAB\",\"DISQ_ERFRAG_CODE\":\"DIFF_EXCL\",\"RESOLVE\":\"Yes\",\"REF_SCORE\":9,\"RELATE\":\"No\",\"RTYPE_ID\":1,\"ERRULE_TIER\":20},{\"ERRULE_ID\":122,\"ERRULE_CODE\":\"SF1_PNAME_CFF\",\"ERRULE_DESC\":\"SAME_F1+PART_NAME+CLOSE_FF\",\"QUAL_ERFRAG_CODE\":\"SF1_PNAME_CFF\",\"DISQ_ERFRAG_CODE\":\"DIFF_EXCL\",\"RESOLVE\":\"Yes\",\"REF_SCORE\":9,\"RELATE\":\"No\",\"RTYPE_ID\":1,\"ERRULE_TIER\":25},{\"ERRULE_ID\":130,\"ERRULE_CODE\":\"SF1_CNAME\",\"ERRULE_DESC\":\"SAME_F1+CLOSE_NAME\",\"QUAL_ERFRAG_CODE\":\"SF1_CNAME\",\"DISQ_ERFRAG_CODE\":\"DIFF_EXCL\",\"RESOLVE\":\"Yes\",\"REF_SCORE\":8,\"RELATE\":\"No\",\"RTYPE_ID\":1,\"ERRULE_TIER\":30},{\"ERRULE_ID\":131,\"ERRULE_CODE\":\"CF1_PNAME_CFF_CSTAB\",\"ERRULE_DESC\":\"CLOSE_F1+PART_NAME+CLOSE_FF+CLOSE_STAB\",\"QUAL_ERFRAG_CODE\":\"CF1_PNAME_CFF_CSTAB\",\"DISQ_ERFRAG_CODE\":\"DIFF_EXCL\",\"RESOLVE\":\"Yes\",\"REF_SCORE\":8,\"RELATE\":\"No\",\"RTYPE_ID\":1,\"ERRULE_TIER\":40},{\"ERRULE_ID\":132,\"ERRULE_CODE\":\"CF1_CNAME_CSTAB\",\"ERRULE_DESC\":\"CLOSE_F1+CLOSE_NAME+CLOSE_STAB\",\"QUAL_ERFRAG_CODE\":\"CF1_CNAME_CSTAB\",\"DISQ_ERFRAG_CODE\":\"DIFF_EXCL\",\"RESOLVE\":\"Yes\",\"REF_SCORE\":8,\"RELATE\":\"No\",\"RTYPE_ID\":1,\"ERRULE_TIER\":40},{\"ERRULE_ID\":133,\"ERRULE_CODE\":\"CF1_PNAME_MSTAB\",\"ERRULE_DESC\":\"CLOSE_F1+PART_NAME+MULT_STAB\",\"QUAL_ERFRAG_CODE\":\"CF1_PNAME_MSTAB\",\"DISQ_ERFRAG_CODE\":\"DIFF_EXCL\",\"RESOLVE\":\"Yes\",\"REF_SCORE\":8,\"RELATE\":\"No\",\"RTYPE_ID\":1,\"ERRULE_TIER\":40},{\"ERRULE_ID\":140,\"ERRULE_CODE\":\"MSTAB_LNAME_SF1\",\"ERRULE_DESC\":\"MULT_STAB+LIKELY_NAME+SAME_F1\",\"QUAL_ERFRAG_CODE\":\"MSTAB_LNAME_SF1\",\"DISQ_ERFRAG_CODE\":\"DIFF_GEN_A1ES\",\"RESOLVE\":\"Yes\",\"REF_SCORE\":9,\"RELATE\":\"No\",\"RTYPE_ID\":1,\"ERRULE_TIER\":50},{\"ERRULE_ID\":141,\"ERRULE_CODE\":\"MSTAB_CNAME\",\"ERRULE_DESC\":\"MULT_STAB+CLOSE_NAME\",\"QUAL_ERFRAG_CODE\":\"MSTAB_CNAME\",\"DISQ_ERFRAG_CODE\":\"DIFF_EXCL\",\"RESOLVE\":\"Yes\",\"REF_SCORE\":8,\"RELATE\":\"No\",\"RTYPE_ID\":1,\"ERRULE_TIER\":50},{\"ERRULE_ID\":150,\"ERRULE_CODE\":\"MFF_LNAME_SF1\",\"ERRULE_DESC\":\"MULT_FF+LIKELY_NAME+SAME_F1\",\"QUAL_ERFRAG_CODE\":\"MFF_LNAME_SF1\",\"DISQ_ERFRAG_CODE\":\"DIFF_EXCL\",\"RESOLVE\":\"Yes\",\"REF_SCORE\":9,\"RELATE\":\"No\",\"RTYPE_ID\":1,\"ERRULE_TIER\":50},{\"ERRULE_ID\":151,\"ERRULE_CODE\":\"MFF_LNAME_CEXCL\",\"ERRULE_DESC\":\"MULT_FF+LIKELY_NAME+CLOSE_EXCL\",\"QUAL_ERFRAG_CODE\":\"MFF_LNAME_CEXCL\",\"DISQ_ERFRAG_CODE\":\"DIFF_EXCL\",\"RESOLVE\":\"Yes\",\"REF_SCORE\":9,\"RELATE\":\"No\",\"RTYPE_ID\":1,\"ERRULE_TIER\":50},{\"ERRULE_ID\":152,\"ERRULE_CODE\":\"MFF_CNAME\",\"ERRULE_DESC\":\"MULT_FF+CLOSE_NAME\",\"QUAL_ERFRAG_CODE\":\"MFF_CNAME\",\"DISQ_ERFRAG_CODE\":\"DIFF_EXCL\",\"RESOLVE\":\"Yes\",\"REF_SCORE\":8,\"RELATE\":\"No\",\"RTYPE_ID\":1,\"ERRULE_TIER\":50},{\"ERRULE_ID\":160,\"ERRULE_CODE\":\"CNAME_CFF_CEXCL\",\"ERRULE_DESC\":\"CLOSE_NAME+CLOSE_FF+CLOSE_EXCL\",\"QUAL_ERFRAG_CODE\":\"CNAME_CFF_CEXCL\",\"DISQ_ERFRAG_CODE\":\"DIFF_EXCL\",\"RESOLVE\":\"Yes\",\"REF_SCORE\":8,\"RELATE\":\"No\",\"RTYPE_ID\":1,\"ERRULE_TIER\":60},{\"ERRULE_ID\":162,\"ERRULE_CODE\":\"CNAME_CFF\",\"ERRULE_DESC\":\"CLOSE_NAME+CLOSE_FF\",\"QUAL_ERFRAG_CODE\":\"CNAME_CFF\",\"DISQ_ERFRAG_CODE\":\"DIFF_EXCL\",\"RESOLVE\":\"Yes\",\"REF_SCORE\":6,\"RELATE\":\"No\",\"RTYPE_ID\":1,\"ERRULE_TIER\":60},{\"ERRULE_ID\":163,\"ERRULE_CODE\":\"SF1E_SFF_MSTAB\",\"ERRULE_DESC\":\"SAME_F1E+SAME_FF+MULT_STAB\",\"QUAL_ERFRAG_CODE\":\"SF1E_SFF_MSTAB\",\"DISQ_ERFRAG_CODE\":\"DIFF_EXCL\",\"RESOLVE\":\"Yes\",\"REF_SCORE\":6,\"RELATE\":\"No\",\"RTYPE_ID\":1,\"ERRULE_TIER\":60},{\"ERRULE_ID\":164,\"ERRULE_CODE\":\"CNAME_CFF_DEXCL\",\"ERRULE_DESC\":\"CLOSE_NAME+CLOSE_FF+DIFF_EXCL\",\"QUAL_ERFRAG_CODE\":\"CNAME_CFF_DEXCL\",\"DISQ_ERFRAG_CODE\":\"\",\"RESOLVE\":\"No\",\"REF_SCORE\":5,\"RELATE\":\"Yes\",\"RTYPE_ID\":2,\"ERRULE_TIER\":0},{\"ERRULE_ID\":165,\"ERRULE_CODE\":\"CNAME_LFFE\",\"ERRULE_DESC\":\"CLOSE_NAME+LIKELY_FFE\",\"QUAL_ERFRAG_CODE\":\"CNAME_LFFE\",\"DISQ_ERFRAG_CODE\":\"\",\"RESOLVE\":\"No\",\"REF_SCORE\":6,\"RELATE\":\"Yes\",\"RTYPE_ID\":2,\"ERRULE_TIER\":0},{\"ERRULE_ID\":170,\"ERRULE_CODE\":\"SF1_NCONF\",\"ERRULE_DESC\":\"SAME_F1+NO_CONF\",\"QUAL_ERFRAG_CODE\":\"SAME_F1\",\"DISQ_ERFRAG_CODE\":\"NAME_CONFL\",\"RESOLVE\":\"Yes\",\"REF_SCORE\":6,\"RELATE\":\"No\",\"RTYPE_ID\":1,\"ERRULE_TIER\":60},{\"ERRULE_ID\":172,\"ERRULE_CODE\":\"CNAME_SF1E\",\"ERRULE_DESC\":\"CLOSE_NAME+SAME_F1E\",\"QUAL_ERFRAG_CODE\":\"SF1E_CNAME\",\"DISQ_ERFRAG_CODE\":\"\",\"RESOLVE\":\"No\",\"REF_SCORE\":6,\"RELATE\":\"Yes\",\"RTYPE_ID\":2,\"ERRULE_TIER\":0},{\"ERRULE_ID\":174,\"ERRULE_CODE\":\"CNAME_SF1\",\"ERRULE_DESC\":\"CLOSE_NAME+SAME_F1\",\"QUAL_ERFRAG_CODE\":\"SF1_CNAME\",\"DISQ_ERFRAG_CODE\":\"\",\"RESOLVE\":\"No\",\"REF_SCORE\":6,\"RELATE\":\"Yes\",\"RTYPE_ID\":2,\"ERRULE_TIER\":0},{\"ERRULE_ID\":175,\"ERRULE_CODE\":\"SF1E\",\"ERRULE_DESC\":\"SAME_F1E\",\"QUAL_ERFRAG_CODE\":\"SAME_F1E\",\"DISQ_ERFRAG_CODE\":\"\",\"RESOLVE\":\"No\",\"REF_SCORE\":6,\"RELATE\":\"Yes\",\"RTYPE_ID\":2,\"ERRULE_TIER\":0},{\"ERRULE_ID\":176,\"ERRULE_CODE\":\"SF1_OLD\",\"ERRULE_DESC\":\"SAME_F1_OLD\",\"QUAL_ERFRAG_CODE\":\"DISABLE\",\"DISQ_ERFRAG_CODE\":\"\",\"RESOLVE\":\"No\",\"REF_SCORE\":6,\"RELATE\":\"No\",\"RTYPE_ID\":2,\"ERRULE_TIER\":0},{\"ERRULE_ID\":180,\"ERRULE_CODE\":\"SNAME_SSTAB\",\"ERRULE_DESC\":\"SAME_NAME+SAME_STAB\",\"QUAL_ERFRAG_CODE\":\"SNAME_SSTAB\",\"DISQ_ERFRAG_CODE\":\"DIFF_EXCL\",\"RESOLVE\":\"Yes\",\"REF_SCORE\":6,\"RELATE\":\"No\",\"RTYPE_ID\":1,\"ERRULE_TIER\":60},{\"ERRULE_ID\":183,\"ERRULE_CODE\":\"LNAME_CFF_LSTAB\",\"ERRULE_DESC\":\"LIKELY_NAME+CLOSE_FF+LIKELY_STAB\",\"QUAL_ERFRAG_CODE\":\"LNAME_CFF_LSTAB\",\"DISQ_ERFRAG_CODE\":\"\",\"RESOLVE\":\"No\",\"REF_SCORE\":6,\"RELATE\":\"Yes\",\"RTYPE_ID\":2,\"ERRULE_TIER\":0},{\"ERRULE_ID\":185,\"ERRULE_CODE\":\"CNAME_CSTAB\",\"ERRULE_DESC\":\"CLOSE_NAME+CLOSE_STAB\",\"QUAL_ERFRAG_CODE\":\"CNAME_CSTAB\",\"DISQ_ERFRAG_CODE\":\"\",\"RESOLVE\":\"No\",\"REF_SCORE\":6,\"RELATE\":\"Yes\",\"RTYPE_ID\":2,\"ERRULE_TIER\":0},{\"ERRULE_ID\":190,\"ERRULE_CODE\":\"CNAME_CF1\",\"ERRULE_DESC\":\"CLOSE_NAME+CLOSE_F1\",\"QUAL_ERFRAG_CODE\":\"CF1_CNAME\",\"DISQ_ERFRAG_CODE\":\"\",\"RESOLVE\":\"No\",\"REF_SCORE\":4,\"RELATE\":\"Yes\",\"RTYPE_ID\":2,\"ERRULE_TIER\":0},{\"ERRULE_ID\":195,\"ERRULE_CODE\":\"SF1\",\"ERRULE_DESC\":\"SAME_F1\",\"QUAL_ERFRAG_CODE\":\"SAME_F1\",\"DISQ_ERFRAG_CODE\":\"\",\"RESOLVE\":\"No\",\"REF_SCORE\":6,\"RELATE\":\"Yes\",\"RTYPE_ID\":3,\"ERRULE_TIER\":0},{\"ERRULE_ID\":197,\"ERRULE_CODE\":\"CF1\",\"ERRULE_DESC\":\"CLOSE_F1\",\"QUAL_ERFRAG_CODE\":\"CLOSE_F1\",\"DISQ_ERFRAG_CODE\":\"\",\"RESOLVE\":\"No\",\"REF_SCORE\":4,\"RELATE\":\"Yes\",\"RTYPE_ID\":3,\"ERRULE_TIER\":0},{\"ERRULE_ID\":199,\"ERRULE_CODE\":\"CFF_SURNAME\",\"ERRULE_DESC\":\"CLOSE_FF+SURNAME\",\"QUAL_ERFRAG_CODE\":\"CFF_SURNAME\",\"DISQ_ERFRAG_CODE\":\"\",\"RESOLVE\":\"No\",\"REF_SCORE\":4,\"RELATE\":\"Yes\",\"RTYPE_ID\":3,\"ERRULE_TIER\":0},{\"ERRULE_ID\":200,\"ERRULE_CODE\":\"MFF\",\"ERRULE_DESC\":\"MULT_FF\",\"QUAL_ERFRAG_CODE\":\"MULT_FF\",\"DISQ_ERFRAG_CODE\":\"\",\"RESOLVE\":\"No\",\"REF_SCORE\":4,\"RELATE\":\"Yes\",\"RTYPE_ID\":3,\"ERRULE_TIER\":0},{\"ERRULE_ID\":202,\"ERRULE_CODE\":\"SFF\",\"ERRULE_DESC\":\"SAME_FF\",\"QUAL_ERFRAG_CODE\":\"SAME_FF\",\"DISQ_ERFRAG_CODE\":\"\",\"RESOLVE\":\"No\",\"REF_SCORE\":3,\"RELATE\":\"Yes\",\"RTYPE_ID\":3,\"ERRULE_TIER\":0},{\"ERRULE_ID\":204,\"ERRULE_CODE\":\"CFF\",\"ERRULE_DESC\":\"CLOSE_FF\",\"QUAL_ERFRAG_CODE\":\"CLOSE_FF\",\"DISQ_ERFRAG_CODE\":\"\",\"RESOLVE\":\"No\",\"REF_SCORE\":2,\"RELATE\":\"No\",\"RTYPE_ID\":3,\"ERRULE_TIER\":0},{\"ERRULE_ID\":206,\"ERRULE_CODE\":\"CNAME\",\"ERRULE_DESC\":\"CLOSE_NAME\",\"QUAL_ERFRAG_CODE\":\"CLOSE_NAME\",\"DISQ_ERFRAG_CODE\":\"DIFF_EXCL\",\"RESOLVE\":\"No\",\"REF_SCORE\":1,\"RELATE\":\"No\",\"RTYPE_ID\":4,\"ERRULE_TIER\":0}],\"CFG_ERFRAG\":[{\"ERFRAG_ID\":10,\"ERFRAG_CODE\":\"TRUSTED_ID\",\"ERFRAG_DESC\":\"TRUSTED_ID\",\"ERFRAG_SOURCE\":\"./SCORES/TRUSTED_ID[./FULL_SCORE=100]\",\"ERFRAG_DEPENDS\":\"\"},{\"ERFRAG_ID\":11,\"ERFRAG_CODE\":\"SAME_NAME\",\"ERFRAG_DESC\":\"SAME_NAME\",\"ERFRAG_SOURCE\":\"./FRAGMENT[./GNR_SAME_NAME>0 or ./BT_SAME_NAME>0]\",\"ERFRAG_DEPENDS\":\"301,311\"},{\"ERFRAG_ID\":12,\"ERFRAG_CODE\":\"CLOSE_NAME\",\"ERFRAG_DESC\":\"CLOSE_NAME\",\"ERFRAG_SOURCE\":\"./FRAGMENT[./GNR_CLOSE_NAME>0 or ./BT_CLOSE_NAME>0]\",\"ERFRAG_DEPENDS\":\"302,312\"},{\"ERFRAG_ID\":13,\"ERFRAG_CODE\":\"LIKELY_NAME\",\"ERFRAG_DESC\":\"LIKELY_NAME\",\"ERFRAG_SOURCE\":\"./FRAGMENT[./GNR_LIKELY_NAME>0 or ./BT_LIKELY_NAME>0]\",\"ERFRAG_DEPENDS\":\"303,313\"},{\"ERFRAG_ID\":14,\"ERFRAG_CODE\":\"PART_NAME\",\"ERFRAG_DESC\":\"PART_NAME\",\"ERFRAG_SOURCE\":\"./FRAGMENT[./GNR_PART_NAME>0 or ./BT_PART_NAME>0]\",\"ERFRAG_DEPENDS\":\"304,314\"},{\"ERFRAG_ID\":15,\"ERFRAG_CODE\":\"SUR_NAME\",\"ERFRAG_DESC\":\"SUR_NAME\",\"ERFRAG_SOURCE\":\"./FRAGMENT[./GNR_SUR_NAME>0 or ./BT_SUR_NAME>0]\",\"ERFRAG_DEPENDS\":\"305,315\"},{\"ERFRAG_ID\":16,\"ERFRAG_CODE\":\"DIFF_NAME\",\"ERFRAG_DESC\":\"DIFF_NAME\",\"ERFRAG_SOURCE\":\"./SUMMARY/BEHAVIOR/NAME[sum(./UNLIKELY | ./NO_CHANCE) > 0]\",\"ERFRAG_DEPENDS\":\"\"},{\"ERFRAG_ID\":17,\"ERFRAG_CODE\":\"NO_NAME\",\"ERFRAG_DESC\":\"NO_NAME\",\"ERFRAG_SOURCE\":\"./SUMMARY/BEHAVIOR/NAME[sum(./SAME | ./CLOSE | ./LIKELY | ./PLAUSIBLE | ./UNLIKELY | ./NO_CHANCE) = 0]\",\"ERFRAG_DEPENDS\":\"\"},{\"ERFRAG_ID\":18,\"ERFRAG_CODE\":\"ORG_NAME\",\"ERFRAG_DESC\":\"ORG_NAME\",\"ERFRAG_SOURCE\":\"./FRAGMENT[./GNR_ORG_NAME>0 or ./BT_ORG_NAME>0]\",\"ERFRAG_DEPENDS\":\"306,316\"},{\"ERFRAG_ID\":19,\"ERFRAG_CODE\":\"PART_NO_NAME\",\"ERFRAG_DESC\":\"PART_NO_NAME\",\"ERFRAG_SOURCE\":\"./FRAGMENT[./PART_NAME>0 or ./NO_NAME>0]\",\"ERFRAG_DEPENDS\":\"14,17\"},{\"ERFRAG_ID\":20,\"ERFRAG_CODE\":\"MULT_F1\",\"ERFRAG_DESC\":\"MULT_F1\",\"ERFRAG_SOURCE\":\"./SUMMARY/BEHAVIOR/F1[./SAME > 1]\",\"ERFRAG_DEPENDS\":\"\"},{\"ERFRAG_ID\":21,\"ERFRAG_CODE\":\"SAME_F1\",\"ERFRAG_DESC\":\"SAME_F1\",\"ERFRAG_SOURCE\":\"./SUMMARY/BEHAVIOR/F1[./SAME > 0]\",\"ERFRAG_DEPENDS\":\"\"},{\"ERFRAG_ID\":22,\"ERFRAG_CODE\":\"CLOSE_F1\",\"ERFRAG_DESC\":\"CLOSE_F1\",\"ERFRAG_SOURCE\":\"./SUMMARY/BEHAVIOR/F1[sum(./SAME | ./CLOSE) > 0]\",\"ERFRAG_DEPENDS\":\"\"},{\"ERFRAG_ID\":23,\"ERFRAG_CODE\":\"CLOSE_F1E\",\"ERFRAG_DESC\":\"CLOSE_F1E\",\"ERFRAG_SOURCE\":\"./SUMMARY/BEHAVIOR/F1E[sum(./SAME | ./CLOSE) > 0]\",\"ERFRAG_DEPENDS\":\"\"},{\"ERFRAG_ID\":24,\"ERFRAG_CODE\":\"CLOSE_F1ES\",\"ERFRAG_DESC\":\"CLOSE_F1ES\",\"ERFRAG_SOURCE\":\"./SUMMARY/BEHAVIOR/F1ES[sum(./SAME | ./CLOSE) > 0]\",\"ERFRAG_DEPENDS\":\"\"},{\"ERFRAG_ID\":25,\"ERFRAG_CODE\":\"DIFF_F1\",\"ERFRAG_DESC\":\"DIFF_F1\",\"ERFRAG_SOURCE\":\"./SUMMARY/BEHAVIOR/F1[sum(./LIKELY | ./PLAUSIBLE | ./UNLIKELY | ./NO_CHANCE) > 0]\",\"ERFRAG_DEPENDS\":\"\"},{\"ERFRAG_ID\":26,\"ERFRAG_CODE\":\"NO_F1\",\"ERFRAG_DESC\":\"NO_F1\",\"ERFRAG_SOURCE\":\"./SUMMARY/BEHAVIOR/F1[sum(./SAME | ./CLOSE | ./LIKELY | ./PLAUSIBLE | ./UNLIKELY | ./NO_CHANCE) = 0]\",\"ERFRAG_DEPENDS\":\"\"},{\"ERFRAG_ID\":27,\"ERFRAG_CODE\":\"SAME_F1E\",\"ERFRAG_DESC\":\"SAME_F1E\",\"ERFRAG_SOURCE\":\"./SUMMARY/BEHAVIOR/F1E[sum(./SAME) > 0]\",\"ERFRAG_DEPENDS\":\"\"},{\"ERFRAG_ID\":30,\"ERFRAG_CODE\":\"MULT_FF\",\"ERFRAG_DESC\":\"MULT_FF\",\"ERFRAG_SOURCE\":\"./SUMMARY/BEHAVIOR/FF[sum(./SAME | ./CLOSE) > 1]\",\"ERFRAG_DEPENDS\":\"\"},{\"ERFRAG_ID\":31,\"ERFRAG_CODE\":\"SAME_FF\",\"ERFRAG_DESC\":\"SAME_FF\",\"ERFRAG_SOURCE\":\"./SUMMARY/BEHAVIOR/FF[./SAME > 0]\",\"ERFRAG_DEPENDS\":\"\"},{\"ERFRAG_ID\":32,\"ERFRAG_CODE\":\"CLOSE_FF\",\"ERFRAG_DESC\":\"CLOSE_FF\",\"ERFRAG_SOURCE\":\"./SUMMARY/BEHAVIOR/FF[sum(./SAME | ./CLOSE) > 0] | ./SUMMARY/BEHAVIOR/FFE[sum(./SAME | ./CLOSE) > 0]\",\"ERFRAG_DEPENDS\":\"\"},{\"ERFRAG_ID\":33,\"ERFRAG_CODE\":\"SAME_FFE\",\"ERFRAG_DESC\":\"SAME_FFE\",\"ERFRAG_SOURCE\":\"./SUMMARY/BEHAVIOR/FFE[./SAME > 0]\",\"ERFRAG_DEPENDS\":\"\"},{\"ERFRAG_ID\":34,\"ERFRAG_CODE\":\"CLOSE_FFES\",\"ERFRAG_DESC\":\"CLOSE_FFES\",\"ERFRAG_SOURCE\":\"./SUMMARY/BEHAVIOR/FFES[sum(./SAME | ./CLOSE) > 0]\",\"ERFRAG_DEPENDS\":\"\"},{\"ERFRAG_ID\":35,\"ERFRAG_CODE\":\"DIFF_FF\",\"ERFRAG_DESC\":\"DIFF_FF\",\"ERFRAG_SOURCE\":\"./SUMMARY/BEHAVIOR/FF[sum(./LIKELY | ./PLAUSIBLE | ./UNLIKELY | ./NO_CHANCE) > 0]\",\"ERFRAG_DEPENDS\":\"\"},{\"ERFRAG_ID\":36,\"ERFRAG_CODE\":\"NO_FF\",\"ERFRAG_DESC\":\"NO_FF\",\"ERFRAG_SOURCE\":\"./SUMMARY/BEHAVIOR/FF[sum(./SAME | ./CLOSE | ./LIKELY | ./PLAUSIBLE | ./UNLIKELY | ./NO_CHANCE) = 0]\",\"ERFRAG_DEPENDS\":\"\"},{\"ERFRAG_ID\":37,\"ERFRAG_CODE\":\"CLOSE_FFE\",\"ERFRAG_DESC\":\"CLOSE_FFE\",\"ERFRAG_SOURCE\":\"./SUMMARY/BEHAVIOR/FFE[sum(./SAME | ./CLOSE) > 0]\",\"ERFRAG_DEPENDS\":\"\"},{\"ERFRAG_ID\":38,\"ERFRAG_CODE\":\"DIFF_FFE\",\"ERFRAG_DESC\":\"DIFF_FFE\",\"ERFRAG_SOURCE\":\"./SUMMARY/BEHAVIOR/FFE[sum(./UNLIKELY | ./NO_CHANCE) > 0]\",\"ERFRAG_DEPENDS\":\"\"},{\"ERFRAG_ID\":39,\"ERFRAG_CODE\":\"LIKELY_FFE\",\"ERFRAG_DESC\":\"LIKELY_FFE\",\"ERFRAG_SOURCE\":\"./SUMMARY/BEHAVIOR/FFE[sum(./SAME | ./CLOSE | ./LIKELY) > 0]\",\"ERFRAG_DEPENDS\":\"\"},{\"ERFRAG_ID\":40,\"ERFRAG_CODE\":\"SAME_FME\",\"ERFRAG_DESC\":\"SAME_FME\",\"ERFRAG_SOURCE\":\"./SUMMARY/BEHAVIOR/FME[./SAME > 0]\",\"ERFRAG_DEPENDS\":\"\"},{\"ERFRAG_ID\":41,\"ERFRAG_CODE\":\"SAME_FMES\",\"ERFRAG_DESC\":\"SAME_FMES\",\"ERFRAG_SOURCE\":\"./SUMMARY/BEHAVIOR/FMES[./SAME > 0]\",\"ERFRAG_DEPENDS\":\"\"},{\"ERFRAG_ID\":42,\"ERFRAG_CODE\":\"CLOSE_FMES\",\"ERFRAG_DESC\":\"CLOSE_FMES\",\"ERFRAG_SOURCE\":\"./SUMMARY/BEHAVIOR/FMES[sum(./SAME | ./CLOSE) > 0]\",\"ERFRAG_DEPENDS\":\"\"},{\"ERFRAG_ID\":43,\"ERFRAG_CODE\":\"CLOSE_FME\",\"ERFRAG_DESC\":\"CLOSE_FME\",\"ERFRAG_SOURCE\":\"./SUMMARY/BEHAVIOR/FME[sum(./SAME | ./CLOSE) > 0]\",\"ERFRAG_DEPENDS\":\"\"},{\"ERFRAG_ID\":45,\"ERFRAG_CODE\":\"DIFF_FMES\",\"ERFRAG_DESC\":\"DIFF_FMES\",\"ERFRAG_SOURCE\":\"./SUMMARY/BEHAVIOR/FMES[sum(./LIKELY | ./PLAUSIBLE | ./UNLIKELY | ./NO_CHANCE) > 0]\",\"ERFRAG_DEPENDS\":\"\"},{\"ERFRAG_ID\":46,\"ERFRAG_CODE\":\"NO_FMES\",\"ERFRAG_DESC\":\"NO_FMES\",\"ERFRAG_SOURCE\":\"./SUMMARY/BEHAVIOR/FMES[sum(./SAME | ./CLOSE | ./LIKELY | ./PLAUSIBLE | ./UNLIKELY | ./NO_CHANCE) = 0]\",\"ERFRAG_DEPENDS\":\"\"},{\"ERFRAG_ID\":47,\"ERFRAG_CODE\":\"SAME_FVMES\",\"ERFRAG_DESC\":\"SAME_FVMES\",\"ERFRAG_SOURCE\":\"./SUMMARY/BEHAVIOR/FVMES[./SAME > 0]\",\"ERFRAG_DEPENDS\":\"\"},{\"ERFRAG_ID\":48,\"ERFRAG_CODE\":\"CLOSE_FVMES\",\"ERFRAG_DESC\":\"CLOSE_FVMES\",\"ERFRAG_SOURCE\":\"./SUMMARY/BEHAVIOR/FVMES[sum(./SAME | ./CLOSE) > 0]\",\"ERFRAG_DEPENDS\":\"\"},{\"ERFRAG_ID\":49,\"ERFRAG_CODE\":\"DIFF_FVMES\",\"ERFRAG_DESC\":\"DIFF_FVMES\",\"ERFRAG_SOURCE\":\"./SUMMARY/BEHAVIOR/FVMES[sum(./LIKELY | ./PLAUSIBLE | ./UNLIKELY | ./NO_CHANCE) > 0]\",\"ERFRAG_DEPENDS\":\"\"},{\"ERFRAG_ID\":50,\"ERFRAG_CODE\":\"NO_FVMES\",\"ERFRAG_DESC\":\"NO_FVMES\",\"ERFRAG_SOURCE\":\"./SUMMARY/BEHAVIOR/FVMES[sum(./SAME | ./CLOSE | ./LIKELY | ./PLAUSIBLE | ./UNLIKELY | ./NO_CHANCE) = 0]\",\"ERFRAG_DEPENDS\":\"\"},{\"ERFRAG_ID\":51,\"ERFRAG_CODE\":\"SAME_EXCL\",\"ERFRAG_DESC\":\"SAME_EXCL\",\"ERFRAG_SOURCE\":\"./FRAGMENT[sum(./SAME_FFE | ./SAME_F1E | ./SAME_A1E | ./SAME_FME) > 0]\",\"ERFRAG_DEPENDS\":\"27,33,40,205\"},{\"ERFRAG_ID\":52,\"ERFRAG_CODE\":\"CLOSE_EXCL\",\"ERFRAG_DESC\":\"CLOSE_EXCL\",\"ERFRAG_SOURCE\":\"./FRAGMENT[sum(./CLOSE_FFE | ./CLOSE_F1E | ./CLOSE_A1E | ./CLOSE_FME) > 0]\",\"ERFRAG_DEPENDS\":\"23,37,43,202\"},{\"ERFRAG_ID\":55,\"ERFRAG_CODE\":\"DIFF_EXCL\",\"ERFRAG_DESC\":\"DIFF_EXCL\",\"ERFRAG_SOURCE\":\"./SUMMARY/BEHAVIOR/EXCLUSIVE[sum(./UNLIKELY | ./NO_CHANCE) > 0] | ./FRAGMENT[./NAME_GEN_MISMATCH>0]\",\"ERFRAG_DEPENDS\":\"75\"},{\"ERFRAG_ID\":56,\"ERFRAG_CODE\":\"NO_EXCL\",\"ERFRAG_DESC\":\"NO_EXCL\",\"ERFRAG_SOURCE\":\"./SUMMARY/BEHAVIOR/EXCLUSIVE[sum(./SAME | ./CLOSE | ./LIKELY | ./PLAUSIBLE | ./UNLIKELY | ./NO_CHANCE) = 0]\",\"ERFRAG_DEPENDS\":\"\"},{\"ERFRAG_ID\":60,\"ERFRAG_CODE\":\"MULT_STAB\",\"ERFRAG_DESC\":\"MULT_STAB\",\"ERFRAG_SOURCE\":\"./SUMMARY/BEHAVIOR/STABLE[sum(./SAME | ./CLOSE) > 1]\",\"ERFRAG_DEPENDS\":\"\"},{\"ERFRAG_ID\":61,\"ERFRAG_CODE\":\"SAME_STAB\",\"ERFRAG_DESC\":\"SAME_STAB\",\"ERFRAG_SOURCE\":\"./SUMMARY/BEHAVIOR/STABLE[./SAME > 0]\",\"ERFRAG_DEPENDS\":\"\"},{\"ERFRAG_ID\":62,\"ERFRAG_CODE\":\"CLOSE_STAB\",\"ERFRAG_DESC\":\"CLOSE_STAB\",\"ERFRAG_SOURCE\":\"./SUMMARY/BEHAVIOR/STABLE[sum(./SAME | ./CLOSE) > 0]\",\"ERFRAG_DEPENDS\":\"\"},{\"ERFRAG_ID\":63,\"ERFRAG_CODE\":\"DIFF_GEN\",\"ERFRAG_DESC\":\"DIFF_GEN\",\"ERFRAG_SOURCE\":\"./SCORES/NAME[./GENERATION_MATCH = 0]\",\"ERFRAG_DEPENDS\":\"\"},{\"ERFRAG_ID\":64,\"ERFRAG_CODE\":\"SAME_GEN\",\"ERFRAG_DESC\":\"SAME_GEN\",\"ERFRAG_SOURCE\":\"./SCORES/NAME[./GENERATION_MATCH >= 90]\",\"ERFRAG_DEPENDS\":\"\"},{\"ERFRAG_ID\":65,\"ERFRAG_CODE\":\"DIFF_STAB\",\"ERFRAG_DESC\":\"DIFF_STAB\",\"ERFRAG_SOURCE\":\"./SUMMARY/BEHAVIOR/STABLE[sum(./PLAUSIBLE | ./UNLIKELY | ./NO_CHANCE) > 0] | ./FRAGMENT[./NAME_GEN_MISMATCH>0]\",\"ERFRAG_DEPENDS\":\"75\"},{\"ERFRAG_ID\":66,\"ERFRAG_CODE\":\"NO_STAB\",\"ERFRAG_DESC\":\"NO_STAB\",\"ERFRAG_SOURCE\":\"./SUMMARY/BEHAVIOR/STABLE[sum(./SAME | ./CLOSE | ./LIKELY | ./PLAUSIBLE | ./UNLIKELY | ./NO_CHANCE) = 0]\",\"ERFRAG_DEPENDS\":\"\"},{\"ERFRAG_ID\":67,\"ERFRAG_CODE\":\"LIKELY_STAB\",\"ERFRAG_DESC\":\"LIKELY_STAB\",\"ERFRAG_SOURCE\":\"./SUMMARY/BEHAVIOR/STABLE[sum(./SAME | ./CLOSE | ./LIKELY) > 0]\",\"ERFRAG_DEPENDS\":\"\"},{\"ERFRAG_ID\":71,\"ERFRAG_CODE\":\"NO_NAME_CONF\",\"ERFRAG_DESC\":\"NO_NAME_CONF\",\"ERFRAG_SOURCE\":\"./FRAGMENT[./NO_NAME=1 and sum(./DIFF_EXCL)=0]\",\"ERFRAG_DEPENDS\":\"17,55\"},{\"ERFRAG_ID\":72,\"ERFRAG_CODE\":\"NAME_CONFL\",\"ERFRAG_DESC\":\"NAME_CONFL\",\"ERFRAG_SOURCE\":\"./FRAGMENT[./NO_NAME=0 or sum(./DIFF_EXCL)>0]\",\"ERFRAG_DEPENDS\":\"17,55\"},{\"ERFRAG_ID\":75,\"ERFRAG_CODE\":\"NAME_GEN_MISMATCH\",\"ERFRAG_DESC\":\"DIFF_NAME_GEN\",\"ERFRAG_SOURCE\":\"./FRAGMENT[./DIFF_GEN>0 and sum(./SAME_GEN)=0]\",\"ERFRAG_DEPENDS\":\"63,64\"},{\"ERFRAG_ID\":109,\"ERFRAG_CODE\":\"SF1_SNAME_CFF_CSTAB\",\"ERFRAG_DESC\":\"SAME_F1+SAME_NAME+CLOSE_FF+CLOSE_STAB\",\"ERFRAG_SOURCE\":\"./FRAGMENT[./SAME_F1>0 and ./SAME_NAME>0 and ./CLOSE_FF>0 and ./CLOSE_STAB>0]\",\"ERFRAG_DEPENDS\":\"21,11,32,62\"},{\"ERFRAG_ID\":110,\"ERFRAG_CODE\":\"SF1_PNAME_CFF_CSTAB\",\"ERFRAG_DESC\":\"SAME_F1+PART_NO_NAME+CLOSE_FF+CLOSE_STAB\",\"ERFRAG_SOURCE\":\"./FRAGMENT[./SAME_F1>0 and ./PART_NO_NAME>0 and ./CLOSE_FF>0 and ./CLOSE_STAB>0]\",\"ERFRAG_DEPENDS\":\"21,19,32,62\"},{\"ERFRAG_ID\":111,\"ERFRAG_CODE\":\"SF1_PNAME_CFF_DSTAB\",\"ERFRAG_DESC\":\"SAME_F1+PART_NO_NAME+CLOSE_FF+DIFF_STAB\",\"ERFRAG_SOURCE\":\"./FRAGMENT[./SAME_F1>0 and ./PART_NO_NAME>0 and ./CLOSE_FF>0 and ./DIFF_STAB>0]\",\"ERFRAG_DEPENDS\":\"21,19,32,65\"},{\"ERFRAG_ID\":112,\"ERFRAG_CODE\":\"SF1_PNAME_CFF\",\"ERFRAG_DESC\":\"SAME_F1+PART_NO_NAME+CLOSE_FF\",\"ERFRAG_SOURCE\":\"./FRAGMENT[./SAME_F1>0 and ./PART_NO_NAME>0 and ./CLOSE_FF>0]\",\"ERFRAG_DEPENDS\":\"21,19,32\"},{\"ERFRAG_ID\":113,\"ERFRAG_CODE\":\"CF1_PNAME_CFF_CSTAB\",\"ERFRAG_DESC\":\"CLOSE_F1+PART_NO_NAME+CLOSE_FF+CLOSE_STAB\",\"ERFRAG_SOURCE\":\"./FRAGMENT[./CLOSE_F1>0 and ./PART_NO_NAME>0 and ./CLOSE_FF>0 and ./CLOSE_STAB>0]\",\"ERFRAG_DEPENDS\":\"22,19,32,62\"},{\"ERFRAG_ID\":114,\"ERFRAG_CODE\":\"CF1_CNAME_CSTAB\",\"ERFRAG_DESC\":\"CLOSE_F1+CLOSE_NAME+CLOSE_STAB\",\"ERFRAG_SOURCE\":\"./FRAGMENT[./CLOSE_F1>0 and ./CLOSE_NAME>0 and ./CLOSE_STAB>0]\",\"ERFRAG_DEPENDS\":\"22,12,62\"},{\"ERFRAG_ID\":115,\"ERFRAG_CODE\":\"CF1_PNAME_MSTAB\",\"ERFRAG_DESC\":\"CLOSE_F1+PART_NO_NAME+MULT_STAB\",\"ERFRAG_SOURCE\":\"./FRAGMENT[./CLOSE_F1>0 and ./PART_NO_NAME>0 and ./MULT_STAB>0]\",\"ERFRAG_DEPENDS\":\"22,19,60\"},{\"ERFRAG_ID\":117,\"ERFRAG_CODE\":\"SF1_NCONF\",\"ERFRAG_DESC\":\"SAME_F1+NO_NAME_CONF\",\"ERFRAG_SOURCE\":\"./FRAGMENT[./SAME_F1>0 and ./NO_NAME_CONF>0]\",\"ERFRAG_DEPENDS\":\"21,71\"},{\"ERFRAG_ID\":120,\"ERFRAG_CODE\":\"SF1_PNAME_CSTAB\",\"ERFRAG_DESC\":\"SAME_F1+PART_NO_NAME+CLOSE_STAB\",\"ERFRAG_SOURCE\":\"./FRAGMENT[./SAME_F1>0 and ./PART_NO_NAME>0 and ./CLOSE_STAB>0]\",\"ERFRAG_DEPENDS\":\"21,19,62\"},{\"ERFRAG_ID\":133,\"ERFRAG_CODE\":\"SF1_CNAME\",\"ERFRAG_DESC\":\"SAME_F1+CLOSE_NAME\",\"ERFRAG_SOURCE\":\"./FRAGMENT[./SAME_F1>0 and ./CLOSE_NAME>0]\",\"ERFRAG_DEPENDS\":\"21,12\"},{\"ERFRAG_ID\":134,\"ERFRAG_CODE\":\"SF1E_CNAME\",\"ERFRAG_DESC\":\"SAME_F1E+CLOSE_NAME\",\"ERFRAG_SOURCE\":\"./FRAGMENT[./SAME_F1E>0 and ./CLOSE_NAME>0]\",\"ERFRAG_DEPENDS\":\"27,12\"},{\"ERFRAG_ID\":140,\"ERFRAG_CODE\":\"MSTAB_LNAME_SF1\",\"ERFRAG_DESC\":\"MULT_STAB+LIKELY_NAME+SAME_F1\",\"ERFRAG_SOURCE\":\"./FRAGMENT[./MULT_STAB>0 and ./LIKELY_NAME>0 and ./SAME_F1>0]\",\"ERFRAG_DEPENDS\":\"60,13,21\"},{\"ERFRAG_ID\":141,\"ERFRAG_CODE\":\"MSTAB_CNAME\",\"ERFRAG_DESC\":\"MULT_STAB+CLOSE_NAME\",\"ERFRAG_SOURCE\":\"./FRAGMENT[./MULT_STAB>0 and ./CLOSE_NAME>0]\",\"ERFRAG_DEPENDS\":\"60,12\"},{\"ERFRAG_ID\":150,\"ERFRAG_CODE\":\"MFF_LNAME_SF1\",\"ERFRAG_DESC\":\"MULT_FF+LIKELY_NAME+SAME_F1\",\"ERFRAG_SOURCE\":\"./FRAGMENT[./MULT_FF>0 and ./LIKELY_NAME>0 and ./SAME_F1>0]\",\"ERFRAG_DEPENDS\":\"30,13,21\"},{\"ERFRAG_ID\":151,\"ERFRAG_CODE\":\"MFF_LNAME_CEXCL\",\"ERFRAG_DESC\":\"MULT_FF+LIKELY_NAME+CLOSE_EXCL\",\"ERFRAG_SOURCE\":\"./FRAGMENT[./MULT_FF>0 and ./LIKELY_NAME>0 and ./CLOSE_EXCL>0]\",\"ERFRAG_DEPENDS\":\"30,13,52\"},{\"ERFRAG_ID\":152,\"ERFRAG_CODE\":\"MFF_CNAME\",\"ERFRAG_DESC\":\"MULT_FF+CLOSE_NAME\",\"ERFRAG_SOURCE\":\"./FRAGMENT[./MULT_FF>0 and ./CLOSE_NAME>0]\",\"ERFRAG_DEPENDS\":\"30,12\"},{\"ERFRAG_ID\":160,\"ERFRAG_CODE\":\"CNAME_CFF_CEXCL\",\"ERFRAG_DESC\":\"CLOSE_NAME+CLOSE_FF+CLOSE_EXCL\",\"ERFRAG_SOURCE\":\"./FRAGMENT[./CLOSE_NAME>0 and ./CLOSE_FF>0 and ./CLOSE_EXCL>0]\",\"ERFRAG_DEPENDS\":\"12,32,52\"},{\"ERFRAG_ID\":161,\"ERFRAG_CODE\":\"CNAME_CFF_DEXCL\",\"ERFRAG_DESC\":\"CLOSE_NAME+CLOSE_FF+DIFF_EXCL\",\"ERFRAG_SOURCE\":\"./FRAGMENT[./CLOSE_NAME>0 and ./CLOSE_FF>0 and ./DIFF_EXCL>0]\",\"ERFRAG_DEPENDS\":\"12,32,55\"},{\"ERFRAG_ID\":163,\"ERFRAG_CODE\":\"CNAME_CFF\",\"ERFRAG_DESC\":\"CLOSE_NAME+CLOSE_FF\",\"ERFRAG_SOURCE\":\"./FRAGMENT[./CLOSE_NAME>0 and ./CLOSE_FF>0]\",\"ERFRAG_DEPENDS\":\"12,32\"},{\"ERFRAG_ID\":164,\"ERFRAG_CODE\":\"CNAME_LFFE\",\"ERFRAG_DESC\":\"CLOSE_NAME+LIKELY_FFE\",\"ERFRAG_SOURCE\":\"./FRAGMENT[./CLOSE_NAME>0 and ./LIKELY_FFE>0]\",\"ERFRAG_DEPENDS\":\"12,39\"},{\"ERFRAG_ID\":170,\"ERFRAG_CODE\":\"CF1_CSTAB\",\"ERFRAG_DESC\":\"CLOSE_F1+CSTAB\",\"ERFRAG_SOURCE\":\"./FRAGMENT[./CLOSE_F1>0 and ./CLOSE_STAB>0]\",\"ERFRAG_DEPENDS\":\"22,62\"},{\"ERFRAG_ID\":171,\"ERFRAG_CODE\":\"CF1_CNAME\",\"ERFRAG_DESC\":\"CLOSE_F1+CLOSE_NAME\",\"ERFRAG_SOURCE\":\"./FRAGMENT[./CLOSE_F1>0 and ./CLOSE_NAME>0]\",\"ERFRAG_DEPENDS\":\"22,12\"},{\"ERFRAG_ID\":172,\"ERFRAG_CODE\":\"SF1_MFF\",\"ERFRAG_DESC\":\"SAME_F1+MULT_FF\",\"ERFRAG_SOURCE\":\"./FRAGMENT[./SAME_F1>0 and ./MULT_FF>0]\",\"ERFRAG_DEPENDS\":\"21,30\"},{\"ERFRAG_ID\":174,\"ERFRAG_CODE\":\"SF1_CFF\",\"ERFRAG_DESC\":\"SAME_F1+CLOSE_FF\",\"ERFRAG_SOURCE\":\"./FRAGMENT[./SAME_F1>0 and ./CLOSE_FF>0]\",\"ERFRAG_DEPENDS\":\"21,32\"},{\"ERFRAG_ID\":180,\"ERFRAG_CODE\":\"SNAME_SSTAB\",\"ERFRAG_DESC\":\"SAME_NAME+SAME_STAB\",\"ERFRAG_SOURCE\":\"./FRAGMENT[./SAME_NAME>0 and ./SAME_STAB>0]\",\"ERFRAG_DEPENDS\":\"11,61\"},{\"ERFRAG_ID\":181,\"ERFRAG_CODE\":\"CNAME_CSTAB\",\"ERFRAG_DESC\":\"CLOSE_NAME+CLOSE_STAB\",\"ERFRAG_SOURCE\":\"./FRAGMENT[./CLOSE_NAME>0 and ./CLOSE_STAB>0]\",\"ERFRAG_DEPENDS\":\"12,62\"},{\"ERFRAG_ID\":183,\"ERFRAG_CODE\":\"LNAME_CFF_LSTAB\",\"ERFRAG_DESC\":\"LIKELY_NAME+CLOSE_FF+LIKELY_STAB\",\"ERFRAG_SOURCE\":\"./FRAGMENT[./LIKELY_NAME>0 and ./CLOSE_FF>0 and ./LIKELY_STAB>0]\",\"ERFRAG_DEPENDS\":\"13,32,67\"},{\"ERFRAG_ID\":185,\"ERFRAG_CODE\":\"SF1E_SFF_MSTAB\",\"ERFRAG_DESC\":\"SAME_F1E+SAME_FF+MULT_STAB\",\"ERFRAG_SOURCE\":\"./FRAGMENT[./SAME_F1E>0 and ./SAME_FF>0 and ./MULT_STAB>0]\",\"ERFRAG_DEPENDS\":\"27,31,60\"},{\"ERFRAG_ID\":190,\"ERFRAG_CODE\":\"CFF_SURNAME\",\"ERFRAG_DESC\":\"CLOSE_FF+SURNAME\",\"ERFRAG_SOURCE\":\"./FRAGMENT[./CLOSE_FF>0 and ./SUR_NAME>0]\",\"ERFRAG_DEPENDS\":\"32,15\"},{\"ERFRAG_ID\":201,\"ERFRAG_CODE\":\"SAME_A1\",\"ERFRAG_DESC\":\"SAME_A1\",\"ERFRAG_SOURCE\":\"./SUMMARY/BEHAVIOR/A1[./SAME > 0]\",\"ERFRAG_DEPENDS\":\"\"},{\"ERFRAG_ID\":202,\"ERFRAG_CODE\":\"CLOSE_A1E\",\"ERFRAG_DESC\":\"CLOSE_A1E\",\"ERFRAG_SOURCE\":\"./SUMMARY/BEHAVIOR/A1E[sum(./SAME | ./CLOSE) > 0]\",\"ERFRAG_DEPENDS\":\"\"},{\"ERFRAG_ID\":203,\"ERFRAG_CODE\":\"DIFF_A1\",\"ERFRAG_DESC\":\"DIFF_A1\",\"ERFRAG_SOURCE\":\"./SUMMARY/BEHAVIOR/A1[sum(./LIKELY | ./PLAUSIBLE | ./UNLIKELY | ./NO_CHANCE) > 0]\",\"ERFRAG_DEPENDS\":\"\"},{\"ERFRAG_ID\":204,\"ERFRAG_CODE\":\"NO_A1\",\"ERFRAG_DESC\":\"NO_A1\",\"ERFRAG_SOURCE\":\"./SUMMARY/BEHAVIOR/A1[sum(./SAME | ./CLOSE | ./LIKELY | ./PLAUSIBLE | ./UNLIKELY | ./NO_CHANCE) = 0]\",\"ERFRAG_DEPENDS\":\"\"},{\"ERFRAG_ID\":205,\"ERFRAG_CODE\":\"SAME_A1E\",\"ERFRAG_DESC\":\"SAME_A1E\",\"ERFRAG_SOURCE\":\"./SUMMARY/BEHAVIOR/A1E[sum(./SAME) > 0]\",\"ERFRAG_DEPENDS\":\"\"},{\"ERFRAG_ID\":206,\"ERFRAG_CODE\":\"DIFF_A1ES\",\"ERFRAG_DESC\":\"DIFF_A1ES\",\"ERFRAG_SOURCE\":\"./SUMMARY/BEHAVIOR/A1ES[sum(./LIKELY | ./PLAUSIBLE | ./UNLIKELY | ./NO_CHANCE) > 0]\",\"ERFRAG_DEPENDS\":\"\"},{\"ERFRAG_ID\":207,\"ERFRAG_CODE\":\"DIFF_GEN_A1ES\",\"ERFRAG_DESC\":\"DIFF_GEN_A1ES\",\"ERFRAG_SOURCE\":\"./SCORES/NAME[./GENERATION_MATCH = 0] | ./FRAGMENT[./DIFF_A1ES>0] | ./FRAGMENT[./DIFF_RECTYPE>0]\",\"ERFRAG_DEPENDS\":\"206,208\"},{\"ERFRAG_ID\":208,\"ERFRAG_CODE\":\"DIFF_RECTYPE\",\"ERFRAG_DESC\":\"DIFF_RECTYPE\",\"ERFRAG_SOURCE\":\"./SCORES/RECORD_TYPE[./FULL_SCORE<85]\",\"ERFRAG_DEPENDS\":\"\"},{\"ERFRAG_ID\":301,\"ERFRAG_CODE\":\"GNR_SAME_NAME\",\"ERFRAG_DESC\":\"GNR_SAME_NAME\",\"ERFRAG_SOURCE\":\"./SCORES/NAME[(./GNR_FN>=95 and ./GNR_GN>=95 and ./GNR_SN>=95) or (./GNR_FN>=95 and ./GNR_GN<0 and ./GNR_SN<0)]\",\"ERFRAG_DEPENDS\":\"\"},{\"ERFRAG_ID\":302,\"ERFRAG_CODE\":\"GNR_CLOSE_NAME\",\"ERFRAG_DESC\":\"GNR_CLOSE_NAME\",\"ERFRAG_SOURCE\":\"./SCORES/NAME[(./GNR_FN>=88 and ./GNR_GN>=85 and ./GNR_SN>=88) or (./GNR_FN>=88 and ./GNR_GN<0 and ./GNR_SN<0) or ./GNR_ON>=85 or ./GNR_FN>=90]\",\"ERFRAG_DEPENDS\":\"\"},{\"ERFRAG_ID\":303,\"ERFRAG_CODE\":\"GNR_LIKELY_NAME\",\"ERFRAG_DESC\":\"GNR_LIKELY_NAME\",\"ERFRAG_SOURCE\":\"./SCORES/NAME[(./GNR_FN>=82 and ./GNR_GN>=80 and ./GNR_SN>=82) or (./GNR_FN>=82 and ./GNR_GN<0 and ./GNR_SN<0) or ./GNR_ON>=80 or ./GNR_FN>=85]\",\"ERFRAG_DEPENDS\":\"\"},{\"ERFRAG_ID\":304,\"ERFRAG_CODE\":\"GNR_PART_NAME\",\"ERFRAG_DESC\":\"GNR_PART_NAME\",\"ERFRAG_SOURCE\":\"./SCORES/NAME[./GNR_FN>=85 or ./GNR_GN>=92]\",\"ERFRAG_DEPENDS\":\"\"},{\"ERFRAG_ID\":305,\"ERFRAG_CODE\":\"GNR_SUR_NAME\",\"ERFRAG_DESC\":\"GNR_SUR_NAME\",\"ERFRAG_SOURCE\":\"./SCORES/NAME[./GNR_SN>=92]\",\"ERFRAG_DEPENDS\":\"\"},{\"ERFRAG_ID\":306,\"ERFRAG_CODE\":\"GNR_ORG_NAME\",\"ERFRAG_DESC\":\"GNR_ORG_NAME\",\"ERFRAG_SOURCE\":\"./SCORES/NAME[./GNR_ON>=85]\",\"ERFRAG_DEPENDS\":\"\"},{\"ERFRAG_ID\":311,\"ERFRAG_CODE\":\"BT_SAME_NAME\",\"ERFRAG_DESC\":\"BT_SAME_NAME\",\"ERFRAG_SOURCE\":\"./SCORES/NAME[./BT_FN>=89]\",\"ERFRAG_DEPENDS\":\"\"},{\"ERFRAG_ID\":312,\"ERFRAG_CODE\":\"BT_CLOSE_NAME\",\"ERFRAG_DESC\":\"BT_CLOSE_NAME\",\"ERFRAG_SOURCE\":\"./SCORES/NAME[./BT_ON>=85 or ./BT_FN>=79]\",\"ERFRAG_DEPENDS\":\"\"},{\"ERFRAG_ID\":313,\"ERFRAG_CODE\":\"BT_LIKELY_NAME\",\"ERFRAG_DESC\":\"BT_LIKELY_NAME\",\"ERFRAG_SOURCE\":\"./SCORES/NAME[./BT_ON>=80 or ./BT_FN>=72]\",\"ERFRAG_DEPENDS\":\"\"},{\"ERFRAG_ID\":314,\"ERFRAG_CODE\":\"BT_PART_NAME\",\"ERFRAG_DESC\":\"BT_PART_NAME\",\"ERFRAG_SOURCE\":\"./SCORES/NAME[./BT_FN>=75]\",\"ERFRAG_DEPENDS\":\"\"},{\"ERFRAG_ID\":315,\"ERFRAG_CODE\":\"BT_SUR_NAME\",\"ERFRAG_DESC\":\"BT_SUR_NAME\",\"ERFRAG_SOURCE\":\"false()\",\"ERFRAG_DEPENDS\":\"\"},{\"ERFRAG_ID\":316,\"ERFRAG_CODE\":\"BT_ORG_NAME\",\"ERFRAG_DESC\":\"BT_ORG_NAME\",\"ERFRAG_SOURCE\":\"./SCORES/NAME[./BT_ON>=85]\",\"ERFRAG_DEPENDS\":\"\"},{\"ERFRAG_ID\":999,\"ERFRAG_CODE\":\"DISABLE\",\"ERFRAG_DESC\":\"DISABLE\",\"ERFRAG_SOURCE\":\"./FRAGMENT[./NO_NAME=666]\",\"ERFRAG_DEPENDS\":\"17\"}],\"CFG_CFBOM\":[{\"CFCALL_ID\":1,\"FTYPE_ID\":1,\"FELEM_ID\":2,\"EXEC_ORDER\":1},{\"CFCALL_ID\":1,\"FTYPE_ID\":1,\"FELEM_ID\":3,\"EXEC_ORDER\":2},{\"CFCALL_ID\":1,\"FTYPE_ID\":1,\"FELEM_ID\":4,\"EXEC_ORDER\":3},{\"CFCALL_ID\":1,\"FTYPE_ID\":1,\"FELEM_ID\":5,\"EXEC_ORDER\":4},{\"CFCALL_ID\":1,\"FTYPE_ID\":1,\"FELEM_ID\":6,\"EXEC_ORDER\":5},{\"CFCALL_ID\":1,\"FTYPE_ID\":1,\"FELEM_ID\":7,\"EXEC_ORDER\":6},{\"CFCALL_ID\":1,\"FTYPE_ID\":1,\"FELEM_ID\":8,\"EXEC_ORDER\":7},{\"CFCALL_ID\":1,\"FTYPE_ID\":1,\"FELEM_ID\":9,\"EXEC_ORDER\":8},{\"CFCALL_ID\":1,\"FTYPE_ID\":1,\"FELEM_ID\":10,\"EXEC_ORDER\":9},{\"CFCALL_ID\":1,\"FTYPE_ID\":1,\"FELEM_ID\":11,\"EXEC_ORDER\":10},{\"CFCALL_ID\":1,\"FTYPE_ID\":1,\"FELEM_ID\":12,\"EXEC_ORDER\":11},{\"CFCALL_ID\":1,\"FTYPE_ID\":1,\"FELEM_ID\":81,\"EXEC_ORDER\":12},{\"CFCALL_ID\":1,\"FTYPE_ID\":1,\"FELEM_ID\":83,\"EXEC_ORDER\":13},{\"CFCALL_ID\":1,\"FTYPE_ID\":1,\"FELEM_ID\":84,\"EXEC_ORDER\":14},{\"CFCALL_ID\":1,\"FTYPE_ID\":1,\"FELEM_ID\":86,\"EXEC_ORDER\":15},{\"CFCALL_ID\":1,\"FTYPE_ID\":1,\"FELEM_ID\":87,\"EXEC_ORDER\":16},{\"CFCALL_ID\":1,\"FTYPE_ID\":1,\"FELEM_ID\":89,\"EXEC_ORDER\":17},{\"CFCALL_ID\":1,\"FTYPE_ID\":1,\"FELEM_ID\":91,\"EXEC_ORDER\":18},{\"CFCALL_ID\":1,\"FTYPE_ID\":1,\"FELEM_ID\":92,\"EXEC_ORDER\":19},{\"CFCALL_ID\":1,\"FTYPE_ID\":1,\"FELEM_ID\":93,\"EXEC_ORDER\":20},{\"CFCALL_ID\":1,\"FTYPE_ID\":1,\"FELEM_ID\":94,\"EXEC_ORDER\":21},{\"CFCALL_ID\":1,\"FTYPE_ID\":1,\"FELEM_ID\":96,\"EXEC_ORDER\":22},{\"CFCALL_ID\":2,\"FTYPE_ID\":2,\"FELEM_ID\":43,\"EXEC_ORDER\":1},{\"CFCALL_ID\":2,\"FTYPE_ID\":2,\"FELEM_ID\":62,\"EXEC_ORDER\":2},{\"CFCALL_ID\":2,\"FTYPE_ID\":2,\"FELEM_ID\":63,\"EXEC_ORDER\":3},{\"CFCALL_ID\":2,\"FTYPE_ID\":2,\"FELEM_ID\":64,\"EXEC_ORDER\":4},{\"CFCALL_ID\":3,\"FTYPE_ID\":3,\"FELEM_ID\":43,\"EXEC_ORDER\":1},{\"CFCALL_ID\":3,\"FTYPE_ID\":3,\"FELEM_ID\":62,\"EXEC_ORDER\":2},{\"CFCALL_ID\":3,\"FTYPE_ID\":3,\"FELEM_ID\":63,\"EXEC_ORDER\":3},{\"CFCALL_ID\":3,\"FTYPE_ID\":3,\"FELEM_ID\":64,\"EXEC_ORDER\":4},{\"CFCALL_ID\":4,\"FTYPE_ID\":4,\"FELEM_ID\":13,\"EXEC_ORDER\":1},{\"CFCALL_ID\":5,\"FTYPE_ID\":5,\"FELEM_ID\":22,\"EXEC_ORDER\":1},{\"CFCALL_ID\":5,\"FTYPE_ID\":5,\"FELEM_ID\":23,\"EXEC_ORDER\":2},{\"CFCALL_ID\":5,\"FTYPE_ID\":5,\"FELEM_ID\":24,\"EXEC_ORDER\":3},{\"CFCALL_ID\":5,\"FTYPE_ID\":5,\"FELEM_ID\":25,\"EXEC_ORDER\":4},{\"CFCALL_ID\":5,\"FTYPE_ID\":5,\"FELEM_ID\":26,\"EXEC_ORDER\":5},{\"CFCALL_ID\":5,\"FTYPE_ID\":5,\"FELEM_ID\":27,\"EXEC_ORDER\":6},{\"CFCALL_ID\":5,\"FTYPE_ID\":5,\"FELEM_ID\":28,\"EXEC_ORDER\":7},{\"CFCALL_ID\":5,\"FTYPE_ID\":5,\"FELEM_ID\":29,\"EXEC_ORDER\":8},{\"CFCALL_ID\":5,\"FTYPE_ID\":5,\"FELEM_ID\":30,\"EXEC_ORDER\":9},{\"CFCALL_ID\":5,\"FTYPE_ID\":5,\"FELEM_ID\":31,\"EXEC_ORDER\":10},{\"CFCALL_ID\":5,\"FTYPE_ID\":5,\"FELEM_ID\":32,\"EXEC_ORDER\":11},{\"CFCALL_ID\":5,\"FTYPE_ID\":5,\"FELEM_ID\":100,\"EXEC_ORDER\":12},{\"CFCALL_ID\":5,\"FTYPE_ID\":5,\"FELEM_ID\":108,\"EXEC_ORDER\":13},{\"CFCALL_ID\":5,\"FTYPE_ID\":5,\"FELEM_ID\":72,\"EXEC_ORDER\":14},{\"CFCALL_ID\":5,\"FTYPE_ID\":5,\"FELEM_ID\":124,\"EXEC_ORDER\":15},{\"CFCALL_ID\":6,\"FTYPE_ID\":6,\"FELEM_ID\":33,\"EXEC_ORDER\":1},{\"CFCALL_ID\":6,\"FTYPE_ID\":6,\"FELEM_ID\":60,\"EXEC_ORDER\":2},{\"CFCALL_ID\":6,\"FTYPE_ID\":6,\"FELEM_ID\":61,\"EXEC_ORDER\":3},{\"CFCALL_ID\":6,\"FTYPE_ID\":6,\"FELEM_ID\":109,\"EXEC_ORDER\":4},{\"CFCALL_ID\":7,\"FTYPE_ID\":7,\"FELEM_ID\":37,\"EXEC_ORDER\":1},{\"CFCALL_ID\":9,\"FTYPE_ID\":9,\"FELEM_ID\":69,\"EXEC_ORDER\":1},{\"CFCALL_ID\":9,\"FTYPE_ID\":9,\"FELEM_ID\":26,\"EXEC_ORDER\":2},{\"CFCALL_ID\":10,\"FTYPE_ID\":10,\"FELEM_ID\":69,\"EXEC_ORDER\":1},{\"CFCALL_ID\":10,\"FTYPE_ID\":10,\"FELEM_ID\":28,\"EXEC_ORDER\":2},{\"CFCALL_ID\":12,\"FTYPE_ID\":12,\"FELEM_ID\":69,\"EXEC_ORDER\":1},{\"CFCALL_ID\":12,\"FTYPE_ID\":12,\"FELEM_ID\":28,\"EXEC_ORDER\":2},{\"CFCALL_ID\":13,\"FTYPE_ID\":13,\"FELEM_ID\":56,\"EXEC_ORDER\":1},{\"CFCALL_ID\":13,\"FTYPE_ID\":13,\"FELEM_ID\":57,\"EXEC_ORDER\":2},{\"CFCALL_ID\":14,\"FTYPE_ID\":14,\"FELEM_ID\":35,\"EXEC_ORDER\":1},{\"CFCALL_ID\":14,\"FTYPE_ID\":14,\"FELEM_ID\":119,\"EXEC_ORDER\":2},{\"CFCALL_ID\":14,\"FTYPE_ID\":14,\"FELEM_ID\":120,\"EXEC_ORDER\":3},{\"CFCALL_ID\":14,\"FTYPE_ID\":14,\"FELEM_ID\":121,\"EXEC_ORDER\":4},{\"CFCALL_ID\":15,\"FTYPE_ID\":15,\"FELEM_ID\":35,\"EXEC_ORDER\":1},{\"CFCALL_ID\":16,\"FTYPE_ID\":16,\"FELEM_ID\":40,\"EXEC_ORDER\":1},{\"CFCALL_ID\":16,\"FTYPE_ID\":16,\"FELEM_ID\":58,\"EXEC_ORDER\":2},{\"CFCALL_ID\":18,\"FTYPE_ID\":36,\"FELEM_ID\":37,\"EXEC_ORDER\":1},{\"CFCALL_ID\":19,\"FTYPE_ID\":37,\"FELEM_ID\":69,\"EXEC_ORDER\":1},{\"CFCALL_ID\":19,\"FTYPE_ID\":37,\"FELEM_ID\":26,\"EXEC_ORDER\":2},{\"CFCALL_ID\":34,\"FTYPE_ID\":11,\"FELEM_ID\":69,\"EXEC_ORDER\":1},{\"CFCALL_ID\":34,\"FTYPE_ID\":11,\"FELEM_ID\":28,\"EXEC_ORDER\":2},{\"CFCALL_ID\":35,\"FTYPE_ID\":52,\"FELEM_ID\":69,\"EXEC_ORDER\":1},{\"CFCALL_ID\":35,\"FTYPE_ID\":52,\"FELEM_ID\":28,\"EXEC_ORDER\":2},{\"CFCALL_ID\":35,\"FTYPE_ID\":52,\"FELEM_ID\":38,\"EXEC_ORDER\":3},{\"CFCALL_ID\":36,\"FTYPE_ID\":53,\"FELEM_ID\":37,\"EXEC_ORDER\":1},{\"CFCALL_ID\":36,\"FTYPE_ID\":53,\"FELEM_ID\":38,\"EXEC_ORDER\":2},{\"CFCALL_ID\":37,\"FTYPE_ID\":54,\"FELEM_ID\":28,\"EXEC_ORDER\":1},{\"CFCALL_ID\":38,\"FTYPE_ID\":55,\"FELEM_ID\":28,\"EXEC_ORDER\":1},{\"CFCALL_ID\":39,\"FTYPE_ID\":56,\"FELEM_ID\":18,\"EXEC_ORDER\":1},{\"CFCALL_ID\":39,\"FTYPE_ID\":56,\"FELEM_ID\":99,\"EXEC_ORDER\":2},{\"CFCALL_ID\":40,\"FTYPE_ID\":24,\"FELEM_ID\":51,\"EXEC_ORDER\":1},{\"CFCALL_ID\":40,\"FTYPE_ID\":24,\"FELEM_ID\":52,\"EXEC_ORDER\":2},{\"CFCALL_ID\":41,\"FTYPE_ID\":57,\"FELEM_ID\":18,\"EXEC_ORDER\":1},{\"CFCALL_ID\":41,\"FTYPE_ID\":57,\"FELEM_ID\":3,\"EXEC_ORDER\":2},{\"CFCALL_ID\":42,\"FTYPE_ID\":59,\"FELEM_ID\":18,\"EXEC_ORDER\":1},{\"CFCALL_ID\":42,\"FTYPE_ID\":59,\"FELEM_ID\":3,\"EXEC_ORDER\":2},{\"CFCALL_ID\":43,\"FTYPE_ID\":60,\"FELEM_ID\":56,\"EXEC_ORDER\":1},{\"CFCALL_ID\":44,\"FTYPE_ID\":61,\"FELEM_ID\":56,\"EXEC_ORDER\":1},{\"CFCALL_ID\":45,\"FTYPE_ID\":62,\"FELEM_ID\":56,\"EXEC_ORDER\":1},{\"CFCALL_ID\":46,\"FTYPE_ID\":63,\"FELEM_ID\":56,\"EXEC_ORDER\":1},{\"CFCALL_ID\":47,\"FTYPE_ID\":64,\"FELEM_ID\":56,\"EXEC_ORDER\":1},{\"CFCALL_ID\":48,\"FTYPE_ID\":65,\"FELEM_ID\":56,\"EXEC_ORDER\":1},{\"CFCALL_ID\":49,\"FTYPE_ID\":66,\"FELEM_ID\":56,\"EXEC_ORDER\":1},{\"CFCALL_ID\":50,\"FTYPE_ID\":67,\"FELEM_ID\":56,\"EXEC_ORDER\":1},{\"CFCALL_ID\":51,\"FTYPE_ID\":68,\"FELEM_ID\":56,\"EXEC_ORDER\":1},{\"CFCALL_ID\":52,\"FTYPE_ID\":69,\"FELEM_ID\":56,\"EXEC_ORDER\":1},{\"CFCALL_ID\":53,\"FTYPE_ID\":70,\"FELEM_ID\":56,\"EXEC_ORDER\":1},{\"CFCALL_ID\":54,\"FTYPE_ID\":71,\"FELEM_ID\":56,\"EXEC_ORDER\":1},{\"CFCALL_ID\":55,\"FTYPE_ID\":72,\"FELEM_ID\":18,\"EXEC_ORDER\":1},{\"CFCALL_ID\":57,\"FTYPE_ID\":74,\"FELEM_ID\":116,\"EXEC_ORDER\":1},{\"CFCALL_ID\":58,\"FTYPE_ID\":75,\"FELEM_ID\":43,\"EXEC_ORDER\":1},{\"CFCALL_ID\":58,\"FTYPE_ID\":75,\"FELEM_ID\":62,\"EXEC_ORDER\":2},{\"CFCALL_ID\":58,\"FTYPE_ID\":75,\"FELEM_ID\":63,\"EXEC_ORDER\":3},{\"CFCALL_ID\":58,\"FTYPE_ID\":75,\"FELEM_ID\":64,\"EXEC_ORDER\":4},{\"CFCALL_ID\":59,\"FTYPE_ID\":76,\"FELEM_ID\":28,\"EXEC_ORDER\":1},{\"CFCALL_ID\":60,\"FTYPE_ID\":77,\"FELEM_ID\":38,\"EXEC_ORDER\":1},{\"CFCALL_ID\":60,\"FTYPE_ID\":77,\"FELEM_ID\":37,\"EXEC_ORDER\":2},{\"CFCALL_ID\":61,\"FTYPE_ID\":78,\"FELEM_ID\":37,\"EXEC_ORDER\":1},{\"CFCALL_ID\":62,\"FTYPE_ID\":79,\"FELEM_ID\":37,\"EXEC_ORDER\":1},{\"CFCALL_ID\":63,\"FTYPE_ID\":80,\"FELEM_ID\":37,\"EXEC_ORDER\":1},{\"CFCALL_ID\":64,\"FTYPE_ID\":86,\"FELEM_ID\":28,\"EXEC_ORDER\":1},{\"CFCALL_ID\":65,\"FTYPE_ID\":87,\"FELEM_ID\":37,\"EXEC_ORDER\":1}],\"CFG_DFUNC\":[{\"DFUNC_ID\":1,\"DFUNC_CODE\":\"FELEM_STRICT_SUBSET\",\"CONNECT_STR\":\"g2StrictSubsetFelems\",\"FUNC_VER\":\"1\",\"ANON_SUPPORT\":\"Yes\",\"FUNC_LIB\":\"g2func_lib\",\"LANGUAGE\":\"\",\"JAVA_CLASS_NAME\":\"\"},{\"DFUNC_ID\":2,\"DFUNC_CODE\":\"TOKEN_STRICT_SUBSET\",\"CONNECT_STR\":\"g2StrictSubsetTokens\",\"FUNC_VER\":\"1\",\"ANON_SUPPORT\":\"Yes\",\"FUNC_LIB\":\"g2func_lib\",\"LANGUAGE\":\"\",\"JAVA_CLASS_NAME\":\"\"},{\"DFUNC_ID\":3,\"DFUNC_CODE\":\"FELEM_NORM_STRICT_SUBSET\",\"CONNECT_STR\":\"g2StrictSubsetNormalizedFelems\",\"FUNC_VER\":\"1\",\"ANON_SUPPORT\":\"Yes\",\"FUNC_LIB\":\"g2func_lib\",\"LANGUAGE\":\"\",\"JAVA_CLASS_NAME\":\"\"},{\"DFUNC_ID\":4,\"DFUNC_CODE\":\"PARTIAL_DATES\",\"CONNECT_STR\":\"g2PartialDates\",\"FUNC_VER\":\"1\",\"ANON_SUPPORT\":\"Yes\",\"FUNC_LIB\":\"g2func_lib\",\"LANGUAGE\":\"\",\"JAVA_CLASS_NAME\":\"\"},{\"DFUNC_ID\":5,\"DFUNC_CODE\":\"PARTIAL_NAMES\",\"CONNECT_STR\":\"g2PartialNames\",\"FUNC_VER\":\"1\",\"ANON_SUPPORT\":\"Yes\",\"FUNC_LIB\":\"g2func_lib\",\"LANGUAGE\":\"\",\"JAVA_CLASS_NAME\":\"\"},{\"DFUNC_ID\":6,\"DFUNC_CODE\":\"PARTIAL_ADDRESSES\",\"CONNECT_STR\":\"g2PartialAddresses\",\"FUNC_VER\":\"1\",\"ANON_SUPPORT\":\"Yes\",\"FUNC_LIB\":\"g2func_lib\",\"LANGUAGE\":\"\",\"JAVA_CLASS_NAME\":\"\"}],\"CFG_DFCALL\":[{\"FTYPE_ID\":1,\"DFCALL_ID\":1,\"DFUNC_ID\":5,\"EXEC_ORDER\":1},{\"FTYPE_ID\":2,\"DFCALL_ID\":2,\"DFUNC_ID\":4,\"EXEC_ORDER\":1},{\"FTYPE_ID\":3,\"DFCALL_ID\":3,\"DFUNC_ID\":4,\"EXEC_ORDER\":1},{\"FTYPE_ID\":5,\"DFCALL_ID\":5,\"DFUNC_ID\":6,\"EXEC_ORDER\":1},{\"FTYPE_ID\":6,\"DFCALL_ID\":6,\"DFUNC_ID\":1,\"EXEC_ORDER\":1},{\"FTYPE_ID\":9,\"DFCALL_ID\":9,\"DFUNC_ID\":3,\"EXEC_ORDER\":1},{\"FTYPE_ID\":10,\"DFCALL_ID\":10,\"DFUNC_ID\":3,\"EXEC_ORDER\":1},{\"FTYPE_ID\":11,\"DFCALL_ID\":11,\"DFUNC_ID\":3,\"EXEC_ORDER\":1},{\"FTYPE_ID\":12,\"DFCALL_ID\":12,\"DFUNC_ID\":3,\"EXEC_ORDER\":1},{\"FTYPE_ID\":13,\"DFCALL_ID\":13,\"DFUNC_ID\":1,\"EXEC_ORDER\":1},{\"FTYPE_ID\":16,\"DFCALL_ID\":16,\"DFUNC_ID\":1,\"EXEC_ORDER\":1},{\"FTYPE_ID\":24,\"DFCALL_ID\":24,\"DFUNC_ID\":1,\"EXEC_ORDER\":1},{\"FTYPE_ID\":36,\"DFCALL_ID\":36,\"DFUNC_ID\":1,\"EXEC_ORDER\":1},{\"FTYPE_ID\":37,\"DFCALL_ID\":37,\"DFUNC_ID\":1,\"EXEC_ORDER\":1},{\"FTYPE_ID\":52,\"DFCALL_ID\":52,\"DFUNC_ID\":3,\"EXEC_ORDER\":1},{\"FTYPE_ID\":53,\"DFCALL_ID\":53,\"DFUNC_ID\":3,\"EXEC_ORDER\":1},{\"FTYPE_ID\":56,\"DFCALL_ID\":56,\"DFUNC_ID\":1,\"EXEC_ORDER\":1},{\"FTYPE_ID\":57,\"DFCALL_ID\":57,\"DFUNC_ID\":1,\"EXEC_ORDER\":1}],\"CFG_DFBOM\":[{\"DFCALL_ID\":1,\"FTYPE_ID\":1,\"FELEM_ID\":2,\"EXEC_ORDER\":1},{\"DFCALL_ID\":1,\"FTYPE_ID\":1,\"FELEM_ID\":3,\"EXEC_ORDER\":2},{\"DFCALL_ID\":1,\"FTYPE_ID\":1,\"FELEM_ID\":4,\"EXEC_ORDER\":3},{\"DFCALL_ID\":1,\"FTYPE_ID\":1,\"FELEM_ID\":5,\"EXEC_ORDER\":4},{\"DFCALL_ID\":1,\"FTYPE_ID\":1,\"FELEM_ID\":6,\"EXEC_ORDER\":5},{\"DFCALL_ID\":1,\"FTYPE_ID\":1,\"FELEM_ID\":7,\"EXEC_ORDER\":6},{\"DFCALL_ID\":1,\"FTYPE_ID\":1,\"FELEM_ID\":8,\"EXEC_ORDER\":7},{\"DFCALL_ID\":1,\"FTYPE_ID\":1,\"FELEM_ID\":9,\"EXEC_ORDER\":8},{\"DFCALL_ID\":1,\"FTYPE_ID\":1,\"FELEM_ID\":11,\"EXEC_ORDER\":10},{\"DFCALL_ID\":1,\"FTYPE_ID\":1,\"FELEM_ID\":12,\"EXEC_ORDER\":11},{\"DFCALL_ID\":1,\"FTYPE_ID\":1,\"FELEM_ID\":77,\"EXEC_ORDER\":12},{\"DFCALL_ID\":1,\"FTYPE_ID\":1,\"FELEM_ID\":78,\"EXEC_ORDER\":13},{\"DFCALL_ID\":1,\"FTYPE_ID\":1,\"FELEM_ID\":79,\"EXEC_ORDER\":14},{\"DFCALL_ID\":1,\"FTYPE_ID\":1,\"FELEM_ID\":81,\"EXEC_ORDER\":15},{\"DFCALL_ID\":1,\"FTYPE_ID\":1,\"FELEM_ID\":83,\"EXEC_ORDER\":16},{\"DFCALL_ID\":1,\"FTYPE_ID\":1,\"FELEM_ID\":84,\"EXEC_ORDER\":17},{\"DFCALL_ID\":1,\"FTYPE_ID\":1,\"FELEM_ID\":86,\"EXEC_ORDER\":18},{\"DFCALL_ID\":1,\"FTYPE_ID\":1,\"FELEM_ID\":87,\"EXEC_ORDER\":19},{\"DFCALL_ID\":1,\"FTYPE_ID\":1,\"FELEM_ID\":89,\"EXEC_ORDER\":20},{\"DFCALL_ID\":1,\"FTYPE_ID\":1,\"FELEM_ID\":91,\"EXEC_ORDER\":21},{\"DFCALL_ID\":1,\"FTYPE_ID\":1,\"FELEM_ID\":92,\"EXEC_ORDER\":22},{\"DFCALL_ID\":1,\"FTYPE_ID\":1,\"FELEM_ID\":93,\"EXEC_ORDER\":23},{\"DFCALL_ID\":1,\"FTYPE_ID\":1,\"FELEM_ID\":94,\"EXEC_ORDER\":24},{\"DFCALL_ID\":1,\"FTYPE_ID\":1,\"FELEM_ID\":96,\"EXEC_ORDER\":25},{\"DFCALL_ID\":2,\"FTYPE_ID\":2,\"FELEM_ID\":43,\"EXEC_ORDER\":1},{\"DFCALL_ID\":2,\"FTYPE_ID\":2,\"FELEM_ID\":62,\"EXEC_ORDER\":2},{\"DFCALL_ID\":2,\"FTYPE_ID\":2,\"FELEM_ID\":63,\"EXEC_ORDER\":3},{\"DFCALL_ID\":2,\"FTYPE_ID\":2,\"FELEM_ID\":64,\"EXEC_ORDER\":4},{\"DFCALL_ID\":3,\"FTYPE_ID\":3,\"FELEM_ID\":43,\"EXEC_ORDER\":1},{\"DFCALL_ID\":3,\"FTYPE_ID\":3,\"FELEM_ID\":62,\"EXEC_ORDER\":2},{\"DFCALL_ID\":3,\"FTYPE_ID\":3,\"FELEM_ID\":63,\"EXEC_ORDER\":3},{\"DFCALL_ID\":3,\"FTYPE_ID\":3,\"FELEM_ID\":64,\"EXEC_ORDER\":4},{\"DFCALL_ID\":5,\"FTYPE_ID\":5,\"FELEM_ID\":100,\"EXEC_ORDER\":1},{\"DFCALL_ID\":5,\"FTYPE_ID\":5,\"FELEM_ID\":22,\"EXEC_ORDER\":2},{\"DFCALL_ID\":5,\"FTYPE_ID\":5,\"FELEM_ID\":23,\"EXEC_ORDER\":3},{\"DFCALL_ID\":5,\"FTYPE_ID\":5,\"FELEM_ID\":24,\"EXEC_ORDER\":4},{\"DFCALL_ID\":5,\"FTYPE_ID\":5,\"FELEM_ID\":25,\"EXEC_ORDER\":5},{\"DFCALL_ID\":5,\"FTYPE_ID\":5,\"FELEM_ID\":26,\"EXEC_ORDER\":6},{\"DFCALL_ID\":5,\"FTYPE_ID\":5,\"FELEM_ID\":27,\"EXEC_ORDER\":7},{\"DFCALL_ID\":5,\"FTYPE_ID\":5,\"FELEM_ID\":28,\"EXEC_ORDER\":8},{\"DFCALL_ID\":5,\"FTYPE_ID\":5,\"FELEM_ID\":29,\"EXEC_ORDER\":9},{\"DFCALL_ID\":5,\"FTYPE_ID\":5,\"FELEM_ID\":30,\"EXEC_ORDER\":10},{\"DFCALL_ID\":5,\"FTYPE_ID\":5,\"FELEM_ID\":31,\"EXEC_ORDER\":11},{\"DFCALL_ID\":5,\"FTYPE_ID\":5,\"FELEM_ID\":32,\"EXEC_ORDER\":12},{\"DFCALL_ID\":5,\"FTYPE_ID\":5,\"FELEM_ID\":72,\"EXEC_ORDER\":13},{\"DFCALL_ID\":5,\"FTYPE_ID\":5,\"FELEM_ID\":11,\"EXEC_ORDER\":14},{\"DFCALL_ID\":5,\"FTYPE_ID\":5,\"FELEM_ID\":108,\"EXEC_ORDER\":15},{\"DFCALL_ID\":5,\"FTYPE_ID\":5,\"FELEM_ID\":117,\"EXEC_ORDER\":16},{\"DFCALL_ID\":5,\"FTYPE_ID\":5,\"FELEM_ID\":124,\"EXEC_ORDER\":17},{\"DFCALL_ID\":6,\"FTYPE_ID\":6,\"FELEM_ID\":109,\"EXEC_ORDER\":1},{\"DFCALL_ID\":6,\"FTYPE_ID\":6,\"FELEM_ID\":33,\"EXEC_ORDER\":2},{\"DFCALL_ID\":6,\"FTYPE_ID\":6,\"FELEM_ID\":34,\"EXEC_ORDER\":3},{\"DFCALL_ID\":6,\"FTYPE_ID\":6,\"FELEM_ID\":60,\"EXEC_ORDER\":4},{\"DFCALL_ID\":6,\"FTYPE_ID\":6,\"FELEM_ID\":61,\"EXEC_ORDER\":5},{\"DFCALL_ID\":9,\"FTYPE_ID\":9,\"FELEM_ID\":37,\"EXEC_ORDER\":1},{\"DFCALL_ID\":9,\"FTYPE_ID\":9,\"FELEM_ID\":26,\"EXEC_ORDER\":2},{\"DFCALL_ID\":9,\"FTYPE_ID\":9,\"FELEM_ID\":69,\"EXEC_ORDER\":3},{\"DFCALL_ID\":9,\"FTYPE_ID\":9,\"FELEM_ID\":97,\"EXEC_ORDER\":4},{\"DFCALL_ID\":9,\"FTYPE_ID\":9,\"FELEM_ID\":98,\"EXEC_ORDER\":5},{\"DFCALL_ID\":10,\"FTYPE_ID\":10,\"FELEM_ID\":37,\"EXEC_ORDER\":1},{\"DFCALL_ID\":10,\"FTYPE_ID\":10,\"FELEM_ID\":28,\"EXEC_ORDER\":2},{\"DFCALL_ID\":10,\"FTYPE_ID\":10,\"FELEM_ID\":69,\"EXEC_ORDER\":3},{\"DFCALL_ID\":10,\"FTYPE_ID\":10,\"FELEM_ID\":97,\"EXEC_ORDER\":4},{\"DFCALL_ID\":10,\"FTYPE_ID\":10,\"FELEM_ID\":98,\"EXEC_ORDER\":5},{\"DFCALL_ID\":10,\"FTYPE_ID\":10,\"FELEM_ID\":117,\"EXEC_ORDER\":6},{\"DFCALL_ID\":11,\"FTYPE_ID\":11,\"FELEM_ID\":37,\"EXEC_ORDER\":1},{\"DFCALL_ID\":11,\"FTYPE_ID\":11,\"FELEM_ID\":28,\"EXEC_ORDER\":2},{\"DFCALL_ID\":11,\"FTYPE_ID\":11,\"FELEM_ID\":69,\"EXEC_ORDER\":3},{\"DFCALL_ID\":11,\"FTYPE_ID\":11,\"FELEM_ID\":97,\"EXEC_ORDER\":4},{\"DFCALL_ID\":11,\"FTYPE_ID\":11,\"FELEM_ID\":98,\"EXEC_ORDER\":5},{\"DFCALL_ID\":11,\"FTYPE_ID\":11,\"FELEM_ID\":117,\"EXEC_ORDER\":6},{\"DFCALL_ID\":12,\"FTYPE_ID\":12,\"FELEM_ID\":37,\"EXEC_ORDER\":1},{\"DFCALL_ID\":12,\"FTYPE_ID\":12,\"FELEM_ID\":38,\"EXEC_ORDER\":2},{\"DFCALL_ID\":12,\"FTYPE_ID\":12,\"FELEM_ID\":69,\"EXEC_ORDER\":3},{\"DFCALL_ID\":12,\"FTYPE_ID\":12,\"FELEM_ID\":97,\"EXEC_ORDER\":4},{\"DFCALL_ID\":12,\"FTYPE_ID\":12,\"FELEM_ID\":98,\"EXEC_ORDER\":5},{\"DFCALL_ID\":12,\"FTYPE_ID\":12,\"FELEM_ID\":28,\"EXEC_ORDER\":6},{\"DFCALL_ID\":12,\"FTYPE_ID\":12,\"FELEM_ID\":117,\"EXEC_ORDER\":7},{\"DFCALL_ID\":13,\"FTYPE_ID\":13,\"FELEM_ID\":56,\"EXEC_ORDER\":1},{\"DFCALL_ID\":13,\"FTYPE_ID\":13,\"FELEM_ID\":57,\"EXEC_ORDER\":2},{\"DFCALL_ID\":16,\"FTYPE_ID\":16,\"FELEM_ID\":40,\"EXEC_ORDER\":1},{\"DFCALL_ID\":16,\"FTYPE_ID\":16,\"FELEM_ID\":58,\"EXEC_ORDER\":2},{\"DFCALL_ID\":24,\"FTYPE_ID\":24,\"FELEM_ID\":51,\"EXEC_ORDER\":1},{\"DFCALL_ID\":24,\"FTYPE_ID\":24,\"FELEM_ID\":52,\"EXEC_ORDER\":2},{\"DFCALL_ID\":24,\"FTYPE_ID\":24,\"FELEM_ID\":53,\"EXEC_ORDER\":3},{\"DFCALL_ID\":24,\"FTYPE_ID\":24,\"FELEM_ID\":75,\"EXEC_ORDER\":4},{\"DFCALL_ID\":24,\"FTYPE_ID\":24,\"FELEM_ID\":76,\"EXEC_ORDER\":5},{\"DFCALL_ID\":24,\"FTYPE_ID\":24,\"FELEM_ID\":104,\"EXEC_ORDER\":6},{\"DFCALL_ID\":24,\"FTYPE_ID\":24,\"FELEM_ID\":105,\"EXEC_ORDER\":7},{\"DFCALL_ID\":24,\"FTYPE_ID\":24,\"FELEM_ID\":106,\"EXEC_ORDER\":8},{\"DFCALL_ID\":24,\"FTYPE_ID\":24,\"FELEM_ID\":107,\"EXEC_ORDER\":9},{\"DFCALL_ID\":36,\"FTYPE_ID\":36,\"FELEM_ID\":37,\"EXEC_ORDER\":1},{\"DFCALL_ID\":36,\"FTYPE_ID\":36,\"FELEM_ID\":69,\"EXEC_ORDER\":2},{\"DFCALL_ID\":37,\"FTYPE_ID\":37,\"FELEM_ID\":37,\"EXEC_ORDER\":1},{\"DFCALL_ID\":37,\"FTYPE_ID\":37,\"FELEM_ID\":26,\"EXEC_ORDER\":2},{\"DFCALL_ID\":37,\"FTYPE_ID\":37,\"FELEM_ID\":69,\"EXEC_ORDER\":3},{\"DFCALL_ID\":52,\"FTYPE_ID\":52,\"FELEM_ID\":37,\"EXEC_ORDER\":1},{\"DFCALL_ID\":52,\"FTYPE_ID\":52,\"FELEM_ID\":28,\"EXEC_ORDER\":2},{\"DFCALL_ID\":52,\"FTYPE_ID\":52,\"FELEM_ID\":38,\"EXEC_ORDER\":3},{\"DFCALL_ID\":52,\"FTYPE_ID\":52,\"FELEM_ID\":69,\"EXEC_ORDER\":4},{\"DFCALL_ID\":52,\"FTYPE_ID\":52,\"FELEM_ID\":97,\"EXEC_ORDER\":5},{\"DFCALL_ID\":52,\"FTYPE_ID\":52,\"FELEM_ID\":98,\"EXEC_ORDER\":6},{\"DFCALL_ID\":52,\"FTYPE_ID\":52,\"FELEM_ID\":117,\"EXEC_ORDER\":7},{\"DFCALL_ID\":53,\"FTYPE_ID\":53,\"FELEM_ID\":37,\"EXEC_ORDER\":1},{\"DFCALL_ID\":53,\"FTYPE_ID\":53,\"FELEM_ID\":38,\"EXEC_ORDER\":2},{\"DFCALL_ID\":56,\"FTYPE_ID\":56,\"FELEM_ID\":18,\"EXEC_ORDER\":1},{\"DFCALL_ID\":56,\"FTYPE_ID\":56,\"FELEM_ID\":99,\"EXEC_ORDER\":2},{\"DFCALL_ID\":57,\"FTYPE_ID\":57,\"FELEM_ID\":18,\"EXEC_ORDER\":1},{\"DFCALL_ID\":57,\"FTYPE_ID\":57,\"FELEM_ID\":3,\"EXEC_ORDER\":2}],\"CFG_CFRTN\":[{\"CFRTN_ID\":1,\"CFUNC_ID\":1,\"EXEC_ORDER\":1,\"CFUNC_RTNVAL\":\"FULL_SCORE\",\"SAME_SCORE\":100,\"CLOSE_SCORE\":90,\"LIKELY_SCORE\":80,\"PLAUSIBLE_SCORE\":70,\"UN_LIKELY_SCORE\":60},{\"CFRTN_ID\":2,\"CFUNC_ID\":2,\"EXEC_ORDER\":1,\"CFUNC_RTNVAL\":\"GNR_FN\",\"SAME_SCORE\":99,\"CLOSE_SCORE\":88,\"LIKELY_SCORE\":80,\"PLAUSIBLE_SCORE\":70,\"UN_LIKELY_SCORE\":60},{\"CFRTN_ID\":3,\"CFUNC_ID\":2,\"EXEC_ORDER\":2,\"CFUNC_RTNVAL\":\"GNR_SN\",\"SAME_SCORE\":99,\"CLOSE_SCORE\":88,\"LIKELY_SCORE\":80,\"PLAUSIBLE_SCORE\":70,\"UN_LIKELY_SCORE\":60},{\"CFRTN_ID\":4,\"CFUNC_ID\":2,\"EXEC_ORDER\":3,\"CFUNC_RTNVAL\":\"GNR_GN\",\"SAME_SCORE\":99,\"CLOSE_SCORE\":88,\"LIKELY_SCORE\":80,\"PLAUSIBLE_SCORE\":70,\"UN_LIKELY_SCORE\":60},{\"CFRTN_ID\":6,\"CFUNC_ID\":2,\"EXEC_ORDER\":4,\"CFUNC_RTNVAL\":\"GENERATION_MATCH\",\"SAME_SCORE\":100,\"CLOSE_SCORE\":90,\"LIKELY_SCORE\":80,\"PLAUSIBLE_SCORE\":70,\"UN_LIKELY_SCORE\":60},{\"CFRTN_ID\":14,\"CFUNC_ID\":2,\"EXEC_ORDER\":5,\"CFUNC_RTNVAL\":\"GNR_ON\",\"SAME_SCORE\":99,\"CLOSE_SCORE\":90,\"LIKELY_SCORE\":80,\"PLAUSIBLE_SCORE\":70,\"UN_LIKELY_SCORE\":60},{\"CFRTN_ID\":5,\"CFUNC_ID\":3,\"EXEC_ORDER\":1,\"CFUNC_RTNVAL\":\"FULL_SCORE\",\"SAME_SCORE\":100,\"CLOSE_SCORE\":90,\"LIKELY_SCORE\":80,\"PLAUSIBLE_SCORE\":70,\"UN_LIKELY_SCORE\":60},{\"CFRTN_ID\":13,\"CFUNC_ID\":4,\"EXEC_ORDER\":1,\"CFUNC_RTNVAL\":\"FULL_SCORE\",\"SAME_SCORE\":97,\"CLOSE_SCORE\":85,\"LIKELY_SCORE\":70,\"PLAUSIBLE_SCORE\":65,\"UN_LIKELY_SCORE\":50},{\"CFRTN_ID\":9,\"CFUNC_ID\":5,\"EXEC_ORDER\":1,\"CFUNC_RTNVAL\":\"FULL_SCORE\",\"SAME_SCORE\":100,\"CLOSE_SCORE\":92,\"LIKELY_SCORE\":90,\"PLAUSIBLE_SCORE\":85,\"UN_LIKELY_SCORE\":80},{\"CFRTN_ID\":10,\"CFUNC_ID\":7,\"EXEC_ORDER\":1,\"CFUNC_RTNVAL\":\"FULL_SCORE\",\"SAME_SCORE\":100,\"CLOSE_SCORE\":90,\"LIKELY_SCORE\":80,\"PLAUSIBLE_SCORE\":70,\"UN_LIKELY_SCORE\":60},{\"CFRTN_ID\":11,\"CFUNC_ID\":8,\"EXEC_ORDER\":1,\"CFUNC_RTNVAL\":\"FULL_SCORE\",\"SAME_SCORE\":100,\"CLOSE_SCORE\":90,\"LIKELY_SCORE\":80,\"PLAUSIBLE_SCORE\":70,\"UN_LIKELY_SCORE\":60},{\"CFRTN_ID\":12,\"CFUNC_ID\":9,\"EXEC_ORDER\":1,\"CFUNC_RTNVAL\":\"FULL_SCORE\",\"SAME_SCORE\":100,\"CLOSE_SCORE\":90,\"LIKELY_SCORE\":85,\"PLAUSIBLE_SCORE\":80,\"UN_LIKELY_SCORE\":70},{\"CFRTN_ID\":15,\"CFUNC_ID\":10,\"EXEC_ORDER\":1,\"CFUNC_RTNVAL\":\"FULL_SCORE\",\"SAME_SCORE\":100,\"CLOSE_SCORE\":90,\"LIKELY_SCORE\":80,\"PLAUSIBLE_SCORE\":70,\"UN_LIKELY_SCORE\":60},{\"CFRTN_ID\":16,\"CFUNC_ID\":11,\"EXEC_ORDER\":1,\"CFUNC_RTNVAL\":\"FULL_SCORE\",\"SAME_SCORE\":100,\"CLOSE_SCORE\":90,\"LIKELY_SCORE\":80,\"PLAUSIBLE_SCORE\":70,\"UN_LIKELY_SCORE\":60},{\"CFRTN_ID\":17,\"CFUNC_ID\":12,\"EXEC_ORDER\":1,\"CFUNC_RTNVAL\":\"FULL_SCORE\",\"SAME_SCORE\":100,\"CLOSE_SCORE\":90,\"LIKELY_SCORE\":80,\"PLAUSIBLE_SCORE\":70,\"UN_LIKELY_SCORE\":60},{\"CFRTN_ID\":18,\"CFUNC_ID\":13,\"EXEC_ORDER\":1,\"CFUNC_RTNVAL\":\"FULL_SCORE\",\"SAME_SCORE\":100,\"CLOSE_SCORE\":90,\"LIKELY_SCORE\":80,\"PLAUSIBLE_SCORE\":70,\"UN_LIKELY_SCORE\":60},{\"CFRTN_ID\":19,\"CFUNC_ID\":14,\"EXEC_ORDER\":1,\"CFUNC_RTNVAL\":\"BT_FN\",\"SAME_SCORE\":89,\"CLOSE_SCORE\":79,\"LIKELY_SCORE\":72,\"PLAUSIBLE_SCORE\":70,\"UN_LIKELY_SCORE\":60},{\"CFRTN_ID\":22,\"CFUNC_ID\":14,\"EXEC_ORDER\":2,\"CFUNC_RTNVAL\":\"BT_ON\",\"SAME_SCORE\":99,\"CLOSE_SCORE\":90,\"LIKELY_SCORE\":80,\"PLAUSIBLE_SCORE\":70,\"UN_LIKELY_SCORE\":60},{\"CFRTN_ID\":23,\"CFUNC_ID\":14,\"EXEC_ORDER\":3,\"CFUNC_RTNVAL\":\"GENERATION_MATCH\",\"SAME_SCORE\":100,\"CLOSE_SCORE\":90,\"LIKELY_SCORE\":80,\"PLAUSIBLE_SCORE\":70,\"UN_LIKELY_SCORE\":60}],\"CFG_RTYPE\":[{\"RTYPE_ID\":1,\"RTYPE_CODE\":\"RESOLVED\",\"RCLASS_ID\":1,\"REL_STRENGTH\":10,\"BREAK_RES\":\"No\"},{\"RTYPE_ID\":2,\"RTYPE_CODE\":\"POSSIBLY_SAME\",\"RCLASS_ID\":1,\"REL_STRENGTH\":8,\"BREAK_RES\":\"No\"},{\"RTYPE_ID\":3,\"RTYPE_CODE\":\"POSSIBLY_RELATED\",\"RCLASS_ID\":1,\"REL_STRENGTH\":5,\"BREAK_RES\":\"No\"},{\"RTYPE_ID\":4,\"RTYPE_CODE\":\"NAME_ONLY\",\"RCLASS_ID\":1,\"REL_STRENGTH\":2,\"BREAK_RES\":\"No\"},{\"RTYPE_ID\":11,\"RTYPE_CODE\":\"DISCLOSED\",\"RCLASS_ID\":2,\"REL_STRENGTH\":10,\"BREAK_RES\":\"No\"}],\"CFG_GENERIC_THRESHOLD\":[{\"GPLAN_ID\":1,\"BEHAVIOR\":\"NAME\",\"FTYPE_ID\":0,\"CANDIDATE_CAP\":10,\"SCORING_CAP\":-1,\"SEND_TO_REDO\":\"No\"},{\"GPLAN_ID\":1,\"BEHAVIOR\":\"F1\",\"FTYPE_ID\":0,\"CANDIDATE_CAP\":5,\"SCORING_CAP\":5,\"SEND_TO_REDO\":\"Yes\"},{\"GPLAN_ID\":1,\"BEHAVIOR\":\"FF\",\"FTYPE_ID\":0,\"CANDIDATE_CAP\":10,\"SCORING_CAP\":30,\"SEND_TO_REDO\":\"Yes\"},{\"GPLAN_ID\":1,\"BEHAVIOR\":\"FM\",\"FTYPE_ID\":0,\"CANDIDATE_CAP\":5,\"SCORING_CAP\":-1,\"SEND_TO_REDO\":\"No\"},{\"GPLAN_ID\":1,\"BEHAVIOR\":\"FVM\",\"FTYPE_ID\":0,\"CANDIDATE_CAP\":5,\"SCORING_CAP\":-1,\"SEND_TO_REDO\":\"No\"},{\"GPLAN_ID\":1,\"BEHAVIOR\":\"F1E\",\"FTYPE_ID\":0,\"CANDIDATE_CAP\":5,\"SCORING_CAP\":50,\"SEND_TO_REDO\":\"Yes\"},{\"GPLAN_ID\":1,\"BEHAVIOR\":\"F1ES\",\"FTYPE_ID\":0,\"CANDIDATE_CAP\":5,\"SCORING_CAP\":50,\"SEND_TO_REDO\":\"Yes\"},{\"GPLAN_ID\":1,\"BEHAVIOR\":\"FFE\",\"FTYPE_ID\":0,\"CANDIDATE_CAP\":10,\"SCORING_CAP\":500,\"SEND_TO_REDO\":\"Yes\"},{\"GPLAN_ID\":1,\"BEHAVIOR\":\"FFES\",\"FTYPE_ID\":0,\"CANDIDATE_CAP\":10,\"SCORING_CAP\":500,\"SEND_TO_REDO\":\"Yes\"},{\"GPLAN_ID\":1,\"BEHAVIOR\":\"FME\",\"FTYPE_ID\":0,\"CANDIDATE_CAP\":5,\"SCORING_CAP\":-1,\"SEND_TO_REDO\":\"Yes\"},{\"GPLAN_ID\":1,\"BEHAVIOR\":\"FMES\",\"FTYPE_ID\":0,\"CANDIDATE_CAP\":5,\"SCORING_CAP\":-1,\"SEND_TO_REDO\":\"Yes\"},{\"GPLAN_ID\":1,\"BEHAVIOR\":\"FVME\",\"FTYPE_ID\":0,\"CANDIDATE_CAP\":5,\"SCORING_CAP\":-1,\"SEND_TO_REDO\":\"Yes\"},{\"GPLAN_ID\":1,\"BEHAVIOR\":\"FVMES\",\"FTYPE_ID\":0,\"CANDIDATE_CAP\":5,\"SCORING_CAP\":-1,\"SEND_TO_REDO\":\"Yes\"},{\"GPLAN_ID\":2,\"BEHAVIOR\":\"NAME\",\"FTYPE_ID\":0,\"CANDIDATE_CAP\":100,\"SCORING_CAP\":-1,\"SEND_TO_REDO\":\"No\"},{\"GPLAN_ID\":2,\"BEHAVIOR\":\"F1\",\"FTYPE_ID\":0,\"CANDIDATE_CAP\":20,\"SCORING_CAP\":-1,\"SEND_TO_REDO\":\"No\"},{\"GPLAN_ID\":2,\"BEHAVIOR\":\"FF\",\"FTYPE_ID\":0,\"CANDIDATE_CAP\":100,\"SCORING_CAP\":-1,\"SEND_TO_REDO\":\"No\"},{\"GPLAN_ID\":2,\"BEHAVIOR\":\"FM\",\"FTYPE_ID\":0,\"CANDIDATE_CAP\":20,\"SCORING_CAP\":-1,\"SEND_TO_REDO\":\"No\"},{\"GPLAN_ID\":2,\"BEHAVIOR\":\"FVM\",\"FTYPE_ID\":0,\"CANDIDATE_CAP\":20,\"SCORING_CAP\":-1,\"SEND_TO_REDO\":\"No\"},{\"GPLAN_ID\":2,\"BEHAVIOR\":\"F1E\",\"FTYPE_ID\":0,\"CANDIDATE_CAP\":10,\"SCORING_CAP\":-1,\"SEND_TO_REDO\":\"No\"},{\"GPLAN_ID\":2,\"BEHAVIOR\":\"F1ES\",\"FTYPE_ID\":0,\"CANDIDATE_CAP\":10,\"SCORING_CAP\":-1,\"SEND_TO_REDO\":\"No\"},{\"GPLAN_ID\":2,\"BEHAVIOR\":\"FFE\",\"FTYPE_ID\":0,\"CANDIDATE_CAP\":100,\"SCORING_CAP\":-1,\"SEND_TO_REDO\":\"No\"},{\"GPLAN_ID\":2,\"BEHAVIOR\":\"FFES\",\"FTYPE_ID\":0,\"CANDIDATE_CAP\":100,\"SCORING_CAP\":-1,\"SEND_TO_REDO\":\"No\"},{\"GPLAN_ID\":2,\"BEHAVIOR\":\"FME\",\"FTYPE_ID\":0,\"CANDIDATE_CAP\":20,\"SCORING_CAP\":-1,\"SEND_TO_REDO\":\"No\"},{\"GPLAN_ID\":2,\"BEHAVIOR\":\"FMES\",\"FTYPE_ID\":0,\"CANDIDATE_CAP\":20,\"SCORING_CAP\":-1,\"SEND_TO_REDO\":\"No\"},{\"GPLAN_ID\":2,\"BEHAVIOR\":\"FVME\",\"FTYPE_ID\":0,\"CANDIDATE_CAP\":20,\"SCORING_CAP\":-1,\"SEND_TO_REDO\":\"No\"},{\"GPLAN_ID\":2,\"BEHAVIOR\":\"FVMES\",\"FTYPE_ID\":0,\"CANDIDATE_CAP\":20,\"SCORING_CAP\":-1,\"SEND_TO_REDO\":\"No\"}],\"CFG_LENS\":[{\"LENS_ID\":1,\"LENS_CODE\":\"DEFAULT\",\"LENS_DESC\":\"Default lens\"}],\"CFG_FBOVR\":[{\"FTYPE_ID\":5,\"ECLASS_ID\":0,\"UTYPE_CODE\":\"BUSINESS\",\"FTYPE_FREQ\":\"FF\",\"FTYPE_EXCL\":\"Yes\",\"FTYPE_STAB\":\"No\"},{\"FTYPE_ID\":6,\"ECLASS_ID\":0,\"UTYPE_CODE\":\"MOBILE\",\"FTYPE_FREQ\":\"F1\",\"FTYPE_EXCL\":\"No\",\"FTYPE_STAB\":\"No\"}],\"CFG_ATTR\":[{\"ATTR_ID\":1312,\"ATTR_CODE\":\"ACCOUNT_DOMAIN\",\"ATTR_CLASS\":\"IDENTIFIER\",\"FELEM_CODE\":\"ACCT_DOMAIN\",\"FTYPE_CODE\":\"ACCT_NUM\",\"FELEM_REQ\":\"DESIRED\",\"DEFAULT_VALUE\":\"\",\"ADVANCED\":\"No\",\"INTERNAL\":\"No\"},{\"ATTR_ID\":1311,\"ATTR_CODE\":\"ACCOUNT_NUMBER\",\"ATTR_CLASS\":\"IDENTIFIER\",\"FELEM_CODE\":\"ACCT_NUM\",\"FTYPE_CODE\":\"ACCT_NUM\",\"FELEM_REQ\":\"YES\",\"DEFAULT_VALUE\":\"\",\"ADVANCED\":\"No\",\"INTERNAL\":\"No\"},{\"ATTR_ID\":1310,\"ATTR_CODE\":\"ACCOUNT_PREHASHED\",\"ATTR_CLASS\":\"IDENTIFIER\",\"FELEM_CODE\":\"<PREHASHED>\",\"FTYPE_CODE\":\"ACCT_NUM\",\"FELEM_REQ\":\"NO\",\"DEFAULT_VALUE\":\"\",\"ADVANCED\":\"Yes\",\"INTERNAL\":\"Yes\"},{\"ATTR_ID\":1600,\"ATTR_CODE\":\"ADDRESS_PREHASHED\",\"ATTR_CLASS\":\"ADDRESS\",\"FELEM_CODE\":\"<PREHASHED>\",\"FTYPE_CODE\":\"ADDRESS\",\"FELEM_REQ\":\"NO\",\"DEFAULT_VALUE\":\"\",\"ADVANCED\":\"Yes\",\"INTERNAL\":\"Yes\"},{\"ATTR_ID\":1608,\"ATTR_CODE\":\"ADDR_CITY\",\"ATTR_CLASS\":\"ADDRESS\",\"FELEM_CODE\":\"CITY\",\"FTYPE_CODE\":\"ADDRESS\",\"FELEM_REQ\":\"ANY\",\"DEFAULT_VALUE\":\"\",\"ADVANCED\":\"No\",\"INTERNAL\":\"No\"},{\"ATTR_ID\":1617,\"ATTR_CODE\":\"ADDR_CITY_METAPHONE\",\"ATTR_CLASS\":\"ADDRESS\",\"FELEM_CODE\":\"CITY_METAPHONE\",\"FTYPE_CODE\":\"ADDRESS\",\"FELEM_REQ\":\"NO\",\"DEFAULT_VALUE\":\"\",\"ADVANCED\":\"Yes\",\"INTERNAL\":\"Yes\"},{\"ATTR_ID\":1619,\"ATTR_CODE\":\"ADDR_CITY_STD\",\"ATTR_CLASS\":\"ADDRESS\",\"FELEM_CODE\":\"CITY_STD\",\"FTYPE_CODE\":\"ADDRESS\",\"FELEM_REQ\":\"NO\",\"DEFAULT_VALUE\":\"\",\"ADVANCED\":\"Yes\",\"INTERNAL\":\"Yes\"},{\"ATTR_ID\":1611,\"ATTR_CODE\":\"ADDR_COUNTRY\",\"ATTR_CLASS\":\"ADDRESS\",\"FELEM_CODE\":\"COUNTRY\",\"FTYPE_CODE\":\"ADDRESS\",\"FELEM_REQ\":\"ANY\",\"DEFAULT_VALUE\":\"\",\"ADVANCED\":\"No\",\"INTERNAL\":\"No\"},{\"ATTR_ID\":1624,\"ATTR_CODE\":\"ADDR_FROM_DATE\",\"ATTR_CLASS\":\"ADDRESS\",\"FELEM_CODE\":\"USED_FROM_DT\",\"FTYPE_CODE\":\"ADDRESS\",\"FELEM_REQ\":\"NO\",\"DEFAULT_VALUE\":\"\",\"ADVANCED\":\"Yes\",\"INTERNAL\":\"No\"},{\"ATTR_ID\":1601,\"ATTR_CODE\":\"ADDR_FULL\",\"ATTR_CLASS\":\"ADDRESS\",\"FELEM_CODE\":\"ADDR_FULL\",\"FTYPE_CODE\":\"ADDRESS\",\"FELEM_REQ\":\"ANY\",\"DEFAULT_VALUE\":\"\",\"ADVANCED\":\"No\",\"INTERNAL\":\"No\"},{\"ATTR_ID\":1622,\"ATTR_CODE\":\"ADDR_LIBPOSTAL_PARSE\",\"ATTR_CLASS\":\"ADDRESS\",\"FELEM_CODE\":\"LIBPOSTAL_PARSE\",\"FTYPE_CODE\":\"ADDRESS\",\"FELEM_REQ\":\"NO\",\"DEFAULT_VALUE\":\"\",\"ADVANCED\":\"Yes\",\"INTERNAL\":\"Yes\"},{\"ATTR_ID\":1602,\"ATTR_CODE\":\"ADDR_LINE1\",\"ATTR_CLASS\":\"ADDRESS\",\"FELEM_CODE\":\"ADDR1\",\"FTYPE_CODE\":\"ADDRESS\",\"FELEM_REQ\":\"ANY\",\"DEFAULT_VALUE\":\"\",\"ADVANCED\":\"No\",\"INTERNAL\":\"No\"},{\"ATTR_ID\":1603,\"ATTR_CODE\":\"ADDR_LINE2\",\"ATTR_CLASS\":\"ADDRESS\",\"FELEM_CODE\":\"ADDR2\",\"FTYPE_CODE\":\"ADDRESS\",\"FELEM_REQ\":\"NO\",\"DEFAULT_VALUE\":\"\",\"ADVANCED\":\"No\",\"INTERNAL\":\"No\"},{\"ATTR_ID\":1604,\"ATTR_CODE\":\"ADDR_LINE3\",\"ATTR_CLASS\":\"ADDRESS\",\"FELEM_CODE\":\"ADDR3\",\"FTYPE_CODE\":\"ADDRESS\",\"FELEM_REQ\":\"NO\",\"DEFAULT_VALUE\":\"\",\"ADVANCED\":\"No\",\"INTERNAL\":\"No\"},{\"ATTR_ID\":1605,\"ATTR_CODE\":\"ADDR_LINE4\",\"ATTR_CLASS\":\"ADDRESS\",\"FELEM_CODE\":\"ADDR4\",\"FTYPE_CODE\":\"ADDRESS\",\"FELEM_REQ\":\"NO\",\"DEFAULT_VALUE\":\"\",\"ADVANCED\":\"No\",\"INTERNAL\":\"No\"},{\"ATTR_ID\":1606,\"ATTR_CODE\":\"ADDR_LINE5\",\"ATTR_CLASS\":\"ADDRESS\",\"FELEM_CODE\":\"ADDR5\",\"FTYPE_CODE\":\"ADDRESS\",\"FELEM_REQ\":\"NO\",\"DEFAULT_VALUE\":\"\",\"ADVANCED\":\"No\",\"INTERNAL\":\"No\"},{\"ATTR_ID\":1607,\"ATTR_CODE\":\"ADDR_LINE6\",\"ATTR_CLASS\":\"ADDRESS\",\"FELEM_CODE\":\"ADDR6\",\"FTYPE_CODE\":\"ADDRESS\",\"FELEM_REQ\":\"NO\",\"DEFAULT_VALUE\":\"\",\"ADVANCED\":\"No\",\"INTERNAL\":\"No\"},{\"ATTR_ID\":1626,\"ATTR_CODE\":\"ADDR_PLACEKEY\",\"ATTR_CLASS\":\"ADDRESS\",\"FELEM_CODE\":\"PLACEKEY\",\"FTYPE_CODE\":\"ADDRESS\",\"FELEM_REQ\":\"NO\",\"DEFAULT_VALUE\":\"\",\"ADVANCED\":\"Yes\",\"INTERNAL\":\"No\"},{\"ATTR_ID\":1620,\"ATTR_CODE\":\"ADDR_POSTAL_5\",\"ATTR_CLASS\":\"ADDRESS\",\"FELEM_CODE\":\"POSTAL_5\",\"FTYPE_CODE\":\"ADDRESS\",\"FELEM_REQ\":\"NO\",\"DEFAULT_VALUE\":\"\",\"ADVANCED\":\"Yes\",\"INTERNAL\":\"Yes\"},{\"ATTR_ID\":1610,\"ATTR_CODE\":\"ADDR_POSTAL_CODE\",\"ATTR_CLASS\":\"ADDRESS\",\"FELEM_CODE\":\"POSTAL_CODE\",\"FTYPE_CODE\":\"ADDRESS\",\"FELEM_REQ\":\"ANY\",\"DEFAULT_VALUE\":\"\",\"ADVANCED\":\"No\",\"INTERNAL\":\"No\"},{\"ATTR_ID\":1621,\"ATTR_CODE\":\"ADDR_SCRIPT\",\"ATTR_CLASS\":\"ADDRESS\",\"FELEM_CODE\":\"SCRIPT\",\"FTYPE_CODE\":\"ADDRESS\",\"FELEM_REQ\":\"NO\",\"DEFAULT_VALUE\":\"\",\"ADVANCED\":\"Yes\",\"INTERNAL\":\"Yes\"},{\"ATTR_ID\":1609,\"ATTR_CODE\":\"ADDR_STATE\",\"ATTR_CLASS\":\"ADDRESS\",\"FELEM_CODE\":\"STATE\",\"FTYPE_CODE\":\"ADDRESS\",\"FELEM_REQ\":\"NO\",\"DEFAULT_VALUE\":\"\",\"ADVANCED\":\"No\",\"INTERNAL\":\"No\"},{\"ATTR_ID\":1613,\"ATTR_CODE\":\"ADDR_STR_NAME\",\"ATTR_CLASS\":\"ADDRESS\",\"FELEM_CODE\":\"STR_NAME\",\"FTYPE_CODE\":\"ADDRESS\",\"FELEM_REQ\":\"NO\",\"DEFAULT_VALUE\":\"\",\"ADVANCED\":\"Yes\",\"INTERNAL\":\"Yes\"},{\"ATTR_ID\":1616,\"ATTR_CODE\":\"ADDR_STR_NAME_METAPHONE\",\"ATTR_CLASS\":\"ADDRESS\",\"FELEM_CODE\":\"STR_NAME_METAPHONE\",\"FTYPE_CODE\":\"ADDRESS\",\"FELEM_REQ\":\"NO\",\"DEFAULT_VALUE\":\"\",\"ADVANCED\":\"Yes\",\"INTERNAL\":\"Yes\"},{\"ATTR_ID\":1618,\"ATTR_CODE\":\"ADDR_STR_NAME_STD\",\"ATTR_CLASS\":\"ADDRESS\",\"FELEM_CODE\":\"STR_NAME_STD\",\"FTYPE_CODE\":\"ADDRESS\",\"FELEM_REQ\":\"NO\",\"DEFAULT_VALUE\":\"\",\"ADVANCED\":\"Yes\",\"INTERNAL\":\"Yes\"},{\"ATTR_ID\":1612,\"ATTR_CODE\":\"ADDR_STR_NUM\",\"ATTR_CLASS\":\"ADDRESS\",\"FELEM_CODE\":\"STR_NUM\",\"FTYPE_CODE\":\"ADDRESS\",\"FELEM_REQ\":\"NO\",\"DEFAULT_VALUE\":\"\",\"ADVANCED\":\"Yes\",\"INTERNAL\":\"Yes\"},{\"ATTR_ID\":1625,\"ATTR_CODE\":\"ADDR_THRU_DATE\",\"ATTR_CLASS\":\"ADDRESS\",\"FELEM_CODE\":\"USED_THRU_DT\",\"FTYPE_CODE\":\"ADDRESS\",\"FELEM_REQ\":\"NO\",\"DEFAULT_VALUE\":\"\",\"ADVANCED\":\"Yes\",\"INTERNAL\":\"No\"},{\"ATTR_ID\":1623,\"ATTR_CODE\":\"ADDR_TYPE\",\"ATTR_CLASS\":\"ADDRESS\",\"FELEM_CODE\":\"USAGE_TYPE\",\"FTYPE_CODE\":\"ADDRESS\",\"FELEM_REQ\":\"NO\",\"DEFAULT_VALUE\":\"\",\"ADVANCED\":\"Yes\",\"INTERNAL\":\"No\"},{\"ATTR_ID\":1615,\"ATTR_CODE\":\"ADDR_UNIT_NUM\",\"ATTR_CLASS\":\"ADDRESS\",\"FELEM_CODE\":\"UNIT_NUM\",\"FTYPE_CODE\":\"ADDRESS\",\"FELEM_REQ\":\"NO\",\"DEFAULT_VALUE\":\"\",\"ADVANCED\":\"Yes\",\"INTERNAL\":\"Yes\"},{\"ATTR_ID\":1614,\"ATTR_CODE\":\"ADDR_UNIT_TYPE\",\"ATTR_CLASS\":\"ADDRESS\",\"FELEM_CODE\":\"UNIT_TYPE\",\"FTYPE_CODE\":\"ADDRESS\",\"FELEM_REQ\":\"NO\",\"DEFAULT_VALUE\":\"\",\"ADVANCED\":\"Yes\",\"INTERNAL\":\"Yes\"},{\"ATTR_ID\":1241,\"ATTR_CODE\":\"CITIZENSHIP\",\"ATTR_CLASS\":\"ATTRIBUTE\",\"FELEM_CODE\":\"COUNTRY\",\"FTYPE_CODE\":\"CITIZENSHIP\",\"FELEM_REQ\":\"YES\",\"DEFAULT_VALUE\":\"\",\"ADVANCED\":\"No\",\"INTERNAL\":\"No\"},{\"ATTR_ID\":1240,\"ATTR_CODE\":\"CITIZENSHIP_PREHASHED\",\"ATTR_CLASS\":\"ATTRIBUTE\",\"FELEM_CODE\":\"<PREHASHED>\",\"FTYPE_CODE\":\"CITIZENSHIP\",\"FELEM_REQ\":\"NO\",\"DEFAULT_VALUE\":\"\",\"ADVANCED\":\"Yes\",\"INTERNAL\":\"Yes\"},{\"ATTR_ID\":2701,\"ATTR_CODE\":\"COUNTRY_OF_ASSOCIATION\",\"ATTR_CLASS\":\"ATTRIBUTE\",\"FELEM_CODE\":\"COUNTRY\",\"FTYPE_CODE\":\"COUNTRY_OF_ASSOCIATION\",\"FELEM_REQ\":\"YES\",\"DEFAULT_VALUE\":\"\",\"ADVANCED\":\"No\",\"INTERNAL\":\"No\"},{\"ATTR_ID\":1001,\"ATTR_CODE\":\"DATA_SOURCE\",\"ATTR_CLASS\":\"OBSERVATION\",\"FELEM_CODE\":\"\",\"FTYPE_CODE\":\"\",\"FELEM_REQ\":\"YES\",\"DEFAULT_VALUE\":\"\",\"ADVANCED\":\"Yes\",\"INTERNAL\":\"No\"},{\"ATTR_ID\":1221,\"ATTR_CODE\":\"DATE_OF_BIRTH\",\"ATTR_CLASS\":\"ATTRIBUTE\",\"FELEM_CODE\":\"DATE\",\"FTYPE_CODE\":\"DOB\",\"FELEM_REQ\":\"YES\",\"DEFAULT_VALUE\":\"\",\"ADVANCED\":\"No\",\"INTERNAL\":\"No\"},{\"ATTR_ID\":1261,\"ATTR_CODE\":\"DATE_OF_DEATH\",\"ATTR_CLASS\":\"ATTRIBUTE\",\"FELEM_CODE\":\"DATE\",\"FTYPE_CODE\":\"DOD\",\"FELEM_REQ\":\"YES\",\"DEFAULT_VALUE\":\"\",\"ADVANCED\":\"No\",\"INTERNAL\":\"No\"},{\"ATTR_ID\":1224,\"ATTR_CODE\":\"DOB_DAY\",\"ATTR_CLASS\":\"ATTRIBUTE\",\"FELEM_CODE\":\"DATE_DAY\",\"FTYPE_CODE\":\"DOB\",\"FELEM_REQ\":\"NO\",\"DEFAULT_VALUE\":\"\",\"ADVANCED\":\"Yes\",\"INTERNAL\":\"Yes\"},{\"ATTR_ID\":1225,\"ATTR_CODE\":\"DOB_HASH\",\"ATTR_CLASS\":\"ATTRIBUTE\",\"FELEM_CODE\":\"DATE_HASH\",\"FTYPE_CODE\":\"DOB\",\"FELEM_REQ\":\"NO\",\"DEFAULT_VALUE\":\"\",\"ADVANCED\":\"Yes\",\"INTERNAL\":\"Yes\"},{\"ATTR_ID\":1223,\"ATTR_CODE\":\"DOB_MONTH\",\"ATTR_CLASS\":\"ATTRIBUTE\",\"FELEM_CODE\":\"DATE_MONTH\",\"FTYPE_CODE\":\"DOB\",\"FELEM_REQ\":\"NO\",\"DEFAULT_VALUE\":\"\",\"ADVANCED\":\"Yes\",\"INTERNAL\":\"Yes\"},{\"ATTR_ID\":1220,\"ATTR_CODE\":\"DOB_PREHASHED\",\"ATTR_CLASS\":\"ATTRIBUTE\",\"FELEM_CODE\":\"<PREHASHED>\",\"FTYPE_CODE\":\"DOB\",\"FELEM_REQ\":\"NO\",\"DEFAULT_VALUE\":\"\",\"ADVANCED\":\"Yes\",\"INTERNAL\":\"Yes\"},{\"ATTR_ID\":1222,\"ATTR_CODE\":\"DOB_YEAR\",\"ATTR_CLASS\":\"ATTRIBUTE\",\"FELEM_CODE\":\"DATE_YEAR\",\"FTYPE_CODE\":\"DOB\",\"FELEM_REQ\":\"NO\",\"DEFAULT_VALUE\":\"\",\"ADVANCED\":\"Yes\",\"INTERNAL\":\"Yes\"},{\"ATTR_ID\":1264,\"ATTR_CODE\":\"DOD_DAY\",\"ATTR_CLASS\":\"ATTRIBUTE\",\"FELEM_CODE\":\"DATE_DAY\",\"FTYPE_CODE\":\"DOD\",\"FELEM_REQ\":\"NO\",\"DEFAULT_VALUE\":\"\",\"ADVANCED\":\"Yes\",\"INTERNAL\":\"Yes\"},{\"ATTR_ID\":1265,\"ATTR_CODE\":\"DOD_HASH\",\"ATTR_CLASS\":\"ATTRIBUTE\",\"FELEM_CODE\":\"DATE_HASH\",\"FTYPE_CODE\":\"DOD\",\"FELEM_REQ\":\"NO\",\"DEFAULT_VALUE\":\"\",\"ADVANCED\":\"Yes\",\"INTERNAL\":\"Yes\"},{\"ATTR_ID\":1263,\"ATTR_CODE\":\"DOD_MONTH\",\"ATTR_CLASS\":\"ATTRIBUTE\",\"FELEM_CODE\":\"DATE_MONTH\",\"FTYPE_CODE\":\"DOD\",\"FELEM_REQ\":\"NO\",\"DEFAULT_VALUE\":\"\",\"ADVANCED\":\"Yes\",\"INTERNAL\":\"Yes\"},{\"ATTR_ID\":1260,\"ATTR_CODE\":\"DOD_PREHASHED\",\"ATTR_CLASS\":\"ATTRIBUTE\",\"FELEM_CODE\":\"<PREHASHED>\",\"FTYPE_CODE\":\"DOD\",\"FELEM_REQ\":\"NO\",\"DEFAULT_VALUE\":\"\",\"ADVANCED\":\"Yes\",\"INTERNAL\":\"Yes\"},{\"ATTR_ID\":1262,\"ATTR_CODE\":\"DOD_YEAR\",\"ATTR_CLASS\":\"ATTRIBUTE\",\"FELEM_CODE\":\"DATE_YEAR\",\"FTYPE_CODE\":\"DOD\",\"FELEM_REQ\":\"NO\",\"DEFAULT_VALUE\":\"\",\"ADVANCED\":\"Yes\",\"INTERNAL\":\"Yes\"},{\"ATTR_ID\":1334,\"ATTR_CODE\":\"DRIVERS_LICENSE_EXPIRE_DT\",\"ATTR_CLASS\":\"IDENTIFIER\",\"FELEM_CODE\":\"EXPIRE_DATE\",\"FTYPE_CODE\":\"DRLIC\",\"FELEM_REQ\":\"NO\",\"DEFAULT_VALUE\":\"\",\"ADVANCED\":\"Yes\",\"INTERNAL\":\"No\"},{\"ATTR_ID\":1333,\"ATTR_CODE\":\"DRIVERS_LICENSE_ISSUE_DT\",\"ATTR_CLASS\":\"IDENTIFIER\",\"FELEM_CODE\":\"ISSUE_DATE\",\"FTYPE_CODE\":\"DRLIC\",\"FELEM_REQ\":\"NO\",\"DEFAULT_VALUE\":\"\",\"ADVANCED\":\"Yes\",\"INTERNAL\":\"No\"},{\"ATTR_ID\":1331,\"ATTR_CODE\":\"DRIVERS_LICENSE_NUMBER\",\"ATTR_CLASS\":\"IDENTIFIER\",\"FELEM_CODE\":\"ID_NUM\",\"FTYPE_CODE\":\"DRLIC\",\"FELEM_REQ\":\"YES\",\"DEFAULT_VALUE\":\"\",\"ADVANCED\":\"No\",\"INTERNAL\":\"No\"},{\"ATTR_ID\":1332,\"ATTR_CODE\":\"DRIVERS_LICENSE_STATE\",\"ATTR_CLASS\":\"IDENTIFIER\",\"FELEM_CODE\":\"STATE\",\"FTYPE_CODE\":\"DRLIC\",\"FELEM_REQ\":\"DESIRED\",\"DEFAULT_VALUE\":\"\",\"ADVANCED\":\"No\",\"INTERNAL\":\"No\"},{\"ATTR_ID\":1335,\"ATTR_CODE\":\"DRLIC_NUMSTD\",\"ATTR_CLASS\":\"IDENTIFIER\",\"FELEM_CODE\":\"ID_NUM_STD\",\"FTYPE_CODE\":\"DRLIC\",\"FELEM_REQ\":\"NO\",\"DEFAULT_VALUE\":\"\",\"ADVANCED\":\"Yes\",\"INTERNAL\":\"Yes\"},{\"ATTR_ID\":1330,\"ATTR_CODE\":\"DRLIC_PREHASHED\",\"ATTR_CLASS\":\"IDENTIFIER\",\"FELEM_CODE\":\"<PREHASHED>\",\"FTYPE_CODE\":\"DRLIC\",\"FELEM_REQ\":\"NO\",\"DEFAULT_VALUE\":\"\",\"ADVANCED\":\"Yes\",\"INTERNAL\":\"Yes\"},{\"ATTR_ID\":1007,\"ATTR_CODE\":\"DSRC_ACTION\",\"ATTR_CLASS\":\"OBSERVATION\",\"FELEM_CODE\":\"\",\"FTYPE_CODE\":\"\",\"FELEM_REQ\":\"YES\",\"DEFAULT_VALUE\":\"\",\"ADVANCED\":\"Yes\",\"INTERNAL\":\"No\"},{\"ATTR_ID\":2501,\"ATTR_CODE\":\"DUNS_NUMBER\",\"ATTR_CLASS\":\"IDENTIFIER\",\"FELEM_CODE\":\"ID_NUM\",\"FTYPE_CODE\":\"DUNS_NUMBER\",\"FELEM_REQ\":\"YES\",\"DEFAULT_VALUE\":\"\",\"ADVANCED\":\"No\",\"INTERNAL\":\"No\"},{\"ATTR_ID\":1511,\"ATTR_CODE\":\"EMAIL_ADDRESS\",\"ATTR_CLASS\":\"IDENTIFIER\",\"FELEM_CODE\":\"ADDR\",\"FTYPE_CODE\":\"EMAIL\",\"FELEM_REQ\":\"YES\",\"DEFAULT_VALUE\":\"\",\"ADVANCED\":\"No\",\"INTERNAL\":\"No\"},{\"ATTR_ID\":1513,\"ATTR_CODE\":\"EMAIL_FROM_DATE\",\"ATTR_CLASS\":\"IDENTIFIER\",\"FELEM_CODE\":\"USED_FROM_DT\",\"FTYPE_CODE\":\"EMAIL\",\"FELEM_REQ\":\"NO\",\"DEFAULT_VALUE\":\"\",\"ADVANCED\":\"Yes\",\"INTERNAL\":\"No\"},{\"ATTR_ID\":1510,\"ATTR_CODE\":\"EMAIL_PREHASHED\",\"ATTR_CLASS\":\"IDENTIFIER\",\"FELEM_CODE\":\"<PREHASHED>\",\"FTYPE_CODE\":\"EMAIL\",\"FELEM_REQ\":\"NO\",\"DEFAULT_VALUE\":\"\",\"ADVANCED\":\"Yes\",\"INTERNAL\":\"Yes\"},{\"ATTR_ID\":1514,\"ATTR_CODE\":\"EMAIL_THRU_DATE\",\"ATTR_CLASS\":\"IDENTIFIER\",\"FELEM_CODE\":\"USED_THRU_DT\",\"FTYPE_CODE\":\"EMAIL\",\"FELEM_REQ\":\"NO\",\"DEFAULT_VALUE\":\"\",\"ADVANCED\":\"Yes\",\"INTERNAL\":\"No\"},{\"ATTR_ID\":1512,\"ATTR_CODE\":\"EMAIL_TYPE\",\"ATTR_CLASS\":\"IDENTIFIER\",\"FELEM_CODE\":\"USAGE_TYPE\",\"FTYPE_CODE\":\"EMAIL\",\"FELEM_REQ\":\"NO\",\"DEFAULT_VALUE\":\"\",\"ADVANCED\":\"Yes\",\"INTERNAL\":\"No\"},{\"ATTR_ID\":2302,\"ATTR_CODE\":\"EMPLOYER\",\"ATTR_CLASS\":\"ATTRIBUTE\",\"FELEM_CODE\":\"ORG_NAME\",\"FTYPE_CODE\":\"EMPLOYER\",\"FELEM_REQ\":\"YES\",\"DEFAULT_VALUE\":\"\",\"ADVANCED\":\"No\",\"INTERNAL\":\"No\"},{\"ATTR_ID\":2301,\"ATTR_CODE\":\"EMPLOYER_TYPE\",\"ATTR_CLASS\":\"ATTRIBUTE\",\"FELEM_CODE\":\"TYPE\",\"FTYPE_CODE\":\"EMPLOYER\",\"FELEM_REQ\":\"NO\",\"DEFAULT_VALUE\":\"EMPLOYER\",\"ADVANCED\":\"Yes\",\"INTERNAL\":\"Yes\"},{\"ATTR_ID\":1004,\"ATTR_CODE\":\"ENTITY_TYPE\",\"ATTR_CLASS\":\"OBSERVATION\",\"FELEM_CODE\":\"\",\"FTYPE_CODE\":\"\",\"FELEM_REQ\":\"YES\",\"DEFAULT_VALUE\":\"\",\"ADVANCED\":\"Yes\",\"INTERNAL\":\"No\"},{\"ATTR_ID\":2304,\"ATTR_CODE\":\"FACEBOOK\",\"ATTR_CLASS\":\"IDENTIFIER\",\"FELEM_CODE\":\"LOGIN_ID\",\"FTYPE_CODE\":\"FACEBOOK\",\"FELEM_REQ\":\"YES\",\"DEFAULT_VALUE\":\"NONE\",\"ADVANCED\":\"No\",\"INTERNAL\":\"No\"},{\"ATTR_ID\":1210,\"ATTR_CODE\":\"GENDER\",\"ATTR_CLASS\":\"ATTRIBUTE\",\"FELEM_CODE\":\"GENDER\",\"FTYPE_CODE\":\"GENDER\",\"FELEM_REQ\":\"YES\",\"DEFAULT_VALUE\":\"\",\"ADVANCED\":\"No\",\"INTERNAL\":\"No\"},{\"ATTR_ID\":1902,\"ATTR_CODE\":\"GEO_LATITUDE\",\"ATTR_CLASS\":\"ADDRESS\",\"FELEM_CODE\":\"LATITUDE\",\"FTYPE_CODE\":\"GEO_LOC\",\"FELEM_REQ\":\"ANY\",\"DEFAULT_VALUE\":\"\",\"ADVANCED\":\"Yes\",\"INTERNAL\":\"No\"},{\"ATTR_ID\":1901,\"ATTR_CODE\":\"GEO_LATLONG\",\"ATTR_CLASS\":\"ADDRESS\",\"FELEM_CODE\":\"LATLONG\",\"FTYPE_CODE\":\"GEO_LOC\",\"FELEM_REQ\":\"ANY\",\"DEFAULT_VALUE\":\"\",\"ADVANCED\":\"Yes\",\"INTERNAL\":\"No\"},{\"ATTR_ID\":1903,\"ATTR_CODE\":\"GEO_LONGITUDE\",\"ATTR_CLASS\":\"ADDRESS\",\"FELEM_CODE\":\"LONGITUDE\",\"FTYPE_CODE\":\"GEO_LOC\",\"FELEM_REQ\":\"ANY\",\"DEFAULT_VALUE\":\"\",\"ADVANCED\":\"Yes\",\"INTERNAL\":\"No\"},{\"ATTR_ID\":1904,\"ATTR_CODE\":\"GEO_PRECISION\",\"ATTR_CLASS\":\"ADDRESS\",\"FELEM_CODE\":\"GEO_PRECISION\",\"FTYPE_CODE\":\"GEO_LOC\",\"FELEM_REQ\":\"NO\",\"DEFAULT_VALUE\":\"\",\"ADVANCED\":\"Yes\",\"INTERNAL\":\"No\"},{\"ATTR_ID\":2442,\"ATTR_CODE\":\"GROUP_ASSN_ID_NUMBER\",\"ATTR_CLASS\":\"ATTRIBUTE\",\"FELEM_CODE\":\"ID_NUM\",\"FTYPE_CODE\":\"GROUP_ASSN_ID\",\"FELEM_REQ\":\"YES\",\"DEFAULT_VALUE\":\"\",\"ADVANCED\":\"No\",\"INTERNAL\":\"No\"},{\"ATTR_ID\":2441,\"ATTR_CODE\":\"GROUP_ASSN_ID_TYPE\",\"ATTR_CLASS\":\"ATTRIBUTE\",\"FELEM_CODE\":\"ID_TYPE\",\"FTYPE_CODE\":\"GROUP_ASSN_ID\",\"FELEM_REQ\":\"YES\",\"DEFAULT_VALUE\":\"\",\"ADVANCED\":\"No\",\"INTERNAL\":\"No\"},{\"ATTR_ID\":2002,\"ATTR_CODE\":\"GROUP_ASSOCIATION_ORG_NAME\",\"ATTR_CLASS\":\"ATTRIBUTE\",\"FELEM_CODE\":\"ORG_NAME\",\"FTYPE_CODE\":\"GROUP_ASSOCIATION\",\"FELEM_REQ\":\"YES\",\"DEFAULT_VALUE\":\"\",\"ADVANCED\":\"No\",\"INTERNAL\":\"No\"},{\"ATTR_ID\":2000,\"ATTR_CODE\":\"GROUP_ASSOCIATION_PREHASHED\",\"ATTR_CLASS\":\"ATTRIBUTE\",\"FELEM_CODE\":\"<PREHASHED>\",\"FTYPE_CODE\":\"GROUP_ASSOCIATION\",\"FELEM_REQ\":\"NO\",\"DEFAULT_VALUE\":\"\",\"ADVANCED\":\"Yes\",\"INTERNAL\":\"Yes\"},{\"ATTR_ID\":2001,\"ATTR_CODE\":\"GROUP_ASSOCIATION_TYPE\",\"ATTR_CLASS\":\"ATTRIBUTE\",\"FELEM_CODE\":\"TYPE\",\"FTYPE_CODE\":\"GROUP_ASSOCIATION\",\"FELEM_REQ\":\"NO\",\"DEFAULT_VALUE\":\"(ORG)\",\"ADVANCED\":\"No\",\"INTERNAL\":\"No\"},{\"ATTR_ID\":2308,\"ATTR_CODE\":\"INSTAGRAM\",\"ATTR_CLASS\":\"IDENTIFIER\",\"FELEM_CODE\":\"LOGIN_ID\",\"FTYPE_CODE\":\"INSTAGRAM\",\"FELEM_REQ\":\"YES\",\"DEFAULT_VALUE\":\"NONE\",\"ADVANCED\":\"No\",\"INTERNAL\":\"No\"},{\"ATTR_ID\":2521,\"ATTR_CODE\":\"LEI_NUMBER\",\"ATTR_CLASS\":\"IDENTIFIER\",\"FELEM_CODE\":\"ID_NUM\",\"FTYPE_CODE\":\"LEI_NUMBER\",\"FELEM_REQ\":\"YES\",\"DEFAULT_VALUE\":\"\",\"ADVANCED\":\"No\",\"INTERNAL\":\"No\"},{\"ATTR_ID\":2303,\"ATTR_CODE\":\"LINKEDIN\",\"ATTR_CLASS\":\"IDENTIFIER\",\"FELEM_CODE\":\"LOGIN_ID\",\"FTYPE_CODE\":\"LINKEDIN\",\"FELEM_REQ\":\"YES\",\"DEFAULT_VALUE\":\"NONE\",\"ADVANCED\":\"No\",\"INTERNAL\":\"No\"},{\"ATTR_ID\":1006,\"ATTR_CODE\":\"LOAD_ID\",\"ATTR_CLASS\":\"OBSERVATION\",\"FELEM_CODE\":\"\",\"FTYPE_CODE\":\"\",\"FELEM_REQ\":\"YES\",\"DEFAULT_VALUE\":\"\",\"ADVANCED\":\"Yes\",\"INTERNAL\":\"No\"},{\"ATTR_ID\":2710,\"ATTR_CODE\":\"MOBILE_AD_ID\",\"ATTR_CLASS\":\"IDENTIFIER\",\"FELEM_CODE\":\"ID_NUM\",\"FTYPE_CODE\":\"MOBILE_AD_ID\",\"FELEM_REQ\":\"YES\",\"DEFAULT_VALUE\":\"\",\"ADVANCED\":\"No\",\"INTERNAL\":\"No\"},{\"ATTR_ID\":1105,\"ATTR_CODE\":\"NAME_FIRST\",\"ATTR_CLASS\":\"NAME\",\"FELEM_CODE\":\"GIVEN_NAME\",\"FTYPE_CODE\":\"NAME\",\"FELEM_REQ\":\"ANY\",\"DEFAULT_VALUE\":\"\",\"ADVANCED\":\"No\",\"INTERNAL\":\"No\"},{\"ATTR_ID\":1102,\"ATTR_CODE\":\"NAME_FULL\",\"ATTR_CLASS\":\"NAME\",\"FELEM_CODE\":\"FULL_NAME\",\"FTYPE_CODE\":\"NAME\",\"FELEM_REQ\":\"ANY\",\"DEFAULT_VALUE\":\"\",\"ADVANCED\":\"No\",\"INTERNAL\":\"No\"},{\"ATTR_ID\":1109,\"ATTR_CODE\":\"NAME_GEN\",\"ATTR_CLASS\":\"NAME\",\"FELEM_CODE\":\"NAME_GEN\",\"FTYPE_CODE\":\"NAME\",\"FELEM_REQ\":\"NO\",\"DEFAULT_VALUE\":\"\",\"ADVANCED\":\"Yes\",\"INTERNAL\":\"No\"},{\"ATTR_ID\":1104,\"ATTR_CODE\":\"NAME_LAST\",\"ATTR_CLASS\":\"NAME\",\"FELEM_CODE\":\"SUR_NAME\",\"FTYPE_CODE\":\"NAME\",\"FELEM_REQ\":\"ANY\",\"DEFAULT_VALUE\":\"\",\"ADVANCED\":\"No\",\"INTERNAL\":\"No\"},{\"ATTR_ID\":1106,\"ATTR_CODE\":\"NAME_MIDDLE\",\"ATTR_CLASS\":\"NAME\",\"FELEM_CODE\":\"MIDDLE_NAME\",\"FTYPE_CODE\":\"NAME\",\"FELEM_REQ\":\"NO\",\"DEFAULT_VALUE\":\"\",\"ADVANCED\":\"No\",\"INTERNAL\":\"No\"},{\"ATTR_ID\":1103,\"ATTR_CODE\":\"NAME_ORG\",\"ATTR_CLASS\":\"NAME\",\"FELEM_CODE\":\"ORG_NAME\",\"FTYPE_CODE\":\"NAME\",\"FELEM_REQ\":\"ANY\",\"DEFAULT_VALUE\":\"\",\"ADVANCED\":\"No\",\"INTERNAL\":\"No\"},{\"ATTR_ID\":1107,\"ATTR_CODE\":\"NAME_PREFIX\",\"ATTR_CLASS\":\"NAME\",\"FELEM_CODE\":\"NAME_PREFIX\",\"FTYPE_CODE\":\"NAME\",\"FELEM_REQ\":\"NO\",\"DEFAULT_VALUE\":\"\",\"ADVANCED\":\"No\",\"INTERNAL\":\"No\"},{\"ATTR_ID\":1108,\"ATTR_CODE\":\"NAME_SUFFIX\",\"ATTR_CLASS\":\"NAME\",\"FELEM_CODE\":\"NAME_SUFFIX\",\"FTYPE_CODE\":\"NAME\",\"FELEM_REQ\":\"NO\",\"DEFAULT_VALUE\":\"\",\"ADVANCED\":\"No\",\"INTERNAL\":\"No\"},{\"ATTR_ID\":1101,\"ATTR_CODE\":\"NAME_TYPE\",\"ATTR_CLASS\":\"NAME\",\"FELEM_CODE\":\"USAGE_TYPE\",\"FTYPE_CODE\":\"NAME\",\"FELEM_REQ\":\"NO\",\"DEFAULT_VALUE\":\"\",\"ADVANCED\":\"Yes\",\"INTERNAL\":\"No\"},{\"ATTR_ID\":1231,\"ATTR_CODE\":\"NATIONALITY\",\"ATTR_CLASS\":\"ATTRIBUTE\",\"FELEM_CODE\":\"COUNTRY\",\"FTYPE_CODE\":\"NATIONALITY\",\"FELEM_REQ\":\"YES\",\"DEFAULT_VALUE\":\"\",\"ADVANCED\":\"No\",\"INTERNAL\":\"No\"},{\"ATTR_ID\":1230,\"ATTR_CODE\":\"NATIONALITY_PREHASHED\",\"ATTR_CLASS\":\"ATTRIBUTE\",\"FELEM_CODE\":\"<PREHASHED>\",\"FTYPE_CODE\":\"NATIONALITY\",\"FELEM_REQ\":\"NO\",\"DEFAULT_VALUE\":\"\",\"ADVANCED\":\"Yes\",\"INTERNAL\":\"Yes\"},{\"ATTR_ID\":1352,\"ATTR_CODE\":\"NATIONAL_ID_COUNTRY\",\"ATTR_CLASS\":\"IDENTIFIER\",\"FELEM_CODE\":\"COUNTRY\",\"FTYPE_CODE\":\"NATIONAL_ID\",\"FELEM_REQ\":\"DESIRED\",\"DEFAULT_VALUE\":\"\",\"ADVANCED\":\"No\",\"INTERNAL\":\"No\"},{\"ATTR_ID\":1354,\"ATTR_CODE\":\"NATIONAL_ID_EXPIRE_DT\",\"ATTR_CLASS\":\"IDENTIFIER\",\"FELEM_CODE\":\"EXPIRE_DATE\",\"FTYPE_CODE\":\"NATIONAL_ID\",\"FELEM_REQ\":\"NO\",\"DEFAULT_VALUE\":\"\",\"ADVANCED\":\"Yes\",\"INTERNAL\":\"No\"},{\"ATTR_ID\":1353,\"ATTR_CODE\":\"NATIONAL_ID_ISSUE_DT\",\"ATTR_CLASS\":\"IDENTIFIER\",\"FELEM_CODE\":\"ISSUE_DATE\",\"FTYPE_CODE\":\"NATIONAL_ID\",\"FELEM_REQ\":\"NO\",\"DEFAULT_VALUE\":\"\",\"ADVANCED\":\"Yes\",\"INTERNAL\":\"No\"},{\"ATTR_ID\":1351,\"ATTR_CODE\":\"NATIONAL_ID_NUMBER\",\"ATTR_CLASS\":\"IDENTIFIER\",\"FELEM_CODE\":\"ID_NUM\",\"FTYPE_CODE\":\"NATIONAL_ID\",\"FELEM_REQ\":\"YES\",\"DEFAULT_VALUE\":\"\",\"ADVANCED\":\"No\",\"INTERNAL\":\"No\"},{\"ATTR_ID\":1355,\"ATTR_CODE\":\"NATIONAL_ID_NUM_STD\",\"ATTR_CLASS\":\"IDENTIFIER\",\"FELEM_CODE\":\"ID_NUM_STD\",\"FTYPE_CODE\":\"NATIONAL_ID\",\"FELEM_REQ\":\"NO\",\"DEFAULT_VALUE\":\"\",\"ADVANCED\":\"Yes\",\"INTERNAL\":\"Yes\"},{\"ATTR_ID\":1350,\"ATTR_CODE\":\"NATIONAL_ID_PREHASHED\",\"ATTR_CLASS\":\"IDENTIFIER\",\"FELEM_CODE\":\"<PREHASHED>\",\"FTYPE_CODE\":\"NATIONAL_ID\",\"FELEM_REQ\":\"NO\",\"DEFAULT_VALUE\":\"\",\"ADVANCED\":\"Yes\",\"INTERNAL\":\"Yes\"},{\"ATTR_ID\":2511,\"ATTR_CODE\":\"NPI_NUMBER\",\"ATTR_CLASS\":\"IDENTIFIER\",\"FELEM_CODE\":\"ID_NUM\",\"FTYPE_CODE\":\"NPI_NUMBER\",\"FELEM_REQ\":\"YES\",\"DEFAULT_VALUE\":\"\",\"ADVANCED\":\"No\",\"INTERNAL\":\"No\"},{\"ATTR_ID\":1373,\"ATTR_CODE\":\"OTHER_ID_COUNTRY\",\"ATTR_CLASS\":\"IDENTIFIER\",\"FELEM_CODE\":\"COUNTRY\",\"FTYPE_CODE\":\"OTHER_ID\",\"FELEM_REQ\":\"DESIRED\",\"DEFAULT_VALUE\":\"\",\"ADVANCED\":\"No\",\"INTERNAL\":\"No\"},{\"ATTR_ID\":1375,\"ATTR_CODE\":\"OTHER_ID_EXPIRE_DT\",\"ATTR_CLASS\":\"IDENTIFIER\",\"FELEM_CODE\":\"EXPIRE_DATE\",\"FTYPE_CODE\":\"OTHER_ID\",\"FELEM_REQ\":\"NO\",\"DEFAULT_VALUE\":\"\",\"ADVANCED\":\"Yes\",\"INTERNAL\":\"No\"},{\"ATTR_ID\":1374,\"ATTR_CODE\":\"OTHER_ID_ISSUE_DT\",\"ATTR_CLASS\":\"IDENTIFIER\",\"FELEM_CODE\":\"ISSUE_DATE\",\"FTYPE_CODE\":\"OTHER_ID\",\"FELEM_REQ\":\"NO\",\"DEFAULT_VALUE\":\"\",\"ADVANCED\":\"Yes\",\"INTERNAL\":\"No\"},{\"ATTR_ID\":1372,\"ATTR_CODE\":\"OTHER_ID_NUMBER\",\"ATTR_CLASS\":\"IDENTIFIER\",\"FELEM_CODE\":\"ID_NUM\",\"FTYPE_CODE\":\"OTHER_ID\",\"FELEM_REQ\":\"YES\",\"DEFAULT_VALUE\":\"\",\"ADVANCED\":\"No\",\"INTERNAL\":\"No\"},{\"ATTR_ID\":1376,\"ATTR_CODE\":\"OTHER_ID_NUM_STD\",\"ATTR_CLASS\":\"IDENTIFIER\",\"FELEM_CODE\":\"ID_NUM_STD\",\"FTYPE_CODE\":\"OTHER_ID\",\"FELEM_REQ\":\"NO\",\"DEFAULT_VALUE\":\"\",\"ADVANCED\":\"Yes\",\"INTERNAL\":\"Yes\"},{\"ATTR_ID\":1370,\"ATTR_CODE\":\"OTHER_ID_PREHASHED\",\"ATTR_CLASS\":\"IDENTIFIER\",\"FELEM_CODE\":\"<PREHASHED>\",\"FTYPE_CODE\":\"OTHER_ID\",\"FELEM_REQ\":\"NO\",\"DEFAULT_VALUE\":\"\",\"ADVANCED\":\"Yes\",\"INTERNAL\":\"Yes\"},{\"ATTR_ID\":1371,\"ATTR_CODE\":\"OTHER_ID_TYPE\",\"ATTR_CLASS\":\"IDENTIFIER\",\"FELEM_CODE\":\"ID_TYPE\",\"FTYPE_CODE\":\"OTHER_ID\",\"FELEM_REQ\":\"DESIRED\",\"DEFAULT_VALUE\":\"\",\"ADVANCED\":\"No\",\"INTERNAL\":\"No\"},{\"ATTR_ID\":1322,\"ATTR_CODE\":\"PASSPORT_COUNTRY\",\"ATTR_CLASS\":\"IDENTIFIER\",\"FELEM_CODE\":\"COUNTRY\",\"FTYPE_CODE\":\"PASSPORT\",\"FELEM_REQ\":\"DESIRED\",\"DEFAULT_VALUE\":\"\",\"ADVANCED\":\"No\",\"INTERNAL\":\"No\"},{\"ATTR_ID\":1324,\"ATTR_CODE\":\"PASSPORT_EXPIRE_DT\",\"ATTR_CLASS\":\"IDENTIFIER\",\"FELEM_CODE\":\"EXPIRE_DATE\",\"FTYPE_CODE\":\"PASSPORT\",\"FELEM_REQ\":\"NO\",\"DEFAULT_VALUE\":\"\",\"ADVANCED\":\"Yes\",\"INTERNAL\":\"No\"},{\"ATTR_ID\":1323,\"ATTR_CODE\":\"PASSPORT_ISSUE_DT\",\"ATTR_CLASS\":\"IDENTIFIER\",\"FELEM_CODE\":\"ISSUE_DATE\",\"FTYPE_CODE\":\"PASSPORT\",\"FELEM_REQ\":\"NO\",\"DEFAULT_VALUE\":\"\",\"ADVANCED\":\"Yes\",\"INTERNAL\":\"No\"},{\"ATTR_ID\":1321,\"ATTR_CODE\":\"PASSPORT_NUMBER\",\"ATTR_CLASS\":\"IDENTIFIER\",\"FELEM_CODE\":\"ID_NUM\",\"FTYPE_CODE\":\"PASSPORT\",\"FELEM_REQ\":\"YES\",\"DEFAULT_VALUE\":\"\",\"ADVANCED\":\"No\",\"INTERNAL\":\"No\"},{\"ATTR_ID\":1325,\"ATTR_CODE\":\"PASSPORT_NUMSTD\",\"ATTR_CLASS\":\"IDENTIFIER\",\"FELEM_CODE\":\"ID_NUM_STD\",\"FTYPE_CODE\":\"PASSPORT\",\"FELEM_REQ\":\"NO\",\"DEFAULT_VALUE\":\"\",\"ADVANCED\":\"Yes\",\"INTERNAL\":\"Yes\"},{\"ATTR_ID\":1320,\"ATTR_CODE\":\"PASSPORT_PREHASHED\",\"ATTR_CLASS\":\"IDENTIFIER\",\"FELEM_CODE\":\"<PREHASHED>\",\"FTYPE_CODE\":\"PASSPORT\",\"FELEM_REQ\":\"NO\",\"DEFAULT_VALUE\":\"\",\"ADVANCED\":\"Yes\",\"INTERNAL\":\"Yes\"},{\"ATTR_ID\":1701,\"ATTR_CODE\":\"PHONE_AREACODE\",\"ATTR_CLASS\":\"PHONE\",\"FELEM_CODE\":\"PHONE_AREA_CODE\",\"FTYPE_CODE\":\"PHONE\",\"FELEM_REQ\":\"NO\",\"DEFAULT_VALUE\":\"\",\"ADVANCED\":\"No\",\"INTERNAL\":\"No\"},{\"ATTR_ID\":1703,\"ATTR_CODE\":\"PHONE_EXT\",\"ATTR_CLASS\":\"PHONE\",\"FELEM_CODE\":\"PHONE_EXT\",\"FTYPE_CODE\":\"PHONE\",\"FELEM_REQ\":\"NO\",\"DEFAULT_VALUE\":\"\",\"ADVANCED\":\"No\",\"INTERNAL\":\"No\"},{\"ATTR_ID\":1707,\"ATTR_CODE\":\"PHONE_FROM_DATE\",\"ATTR_CLASS\":\"PHONE\",\"FELEM_CODE\":\"USED_FROM_DT\",\"FTYPE_CODE\":\"PHONE\",\"FELEM_REQ\":\"NO\",\"DEFAULT_VALUE\":\"\",\"ADVANCED\":\"Yes\",\"INTERNAL\":\"No\"},{\"ATTR_ID\":1704,\"ATTR_CODE\":\"PHONE_LAST_10\",\"ATTR_CLASS\":\"PHONE\",\"FELEM_CODE\":\"PHONE_LAST_10\",\"FTYPE_CODE\":\"PHONE\",\"FELEM_REQ\":\"NO\",\"DEFAULT_VALUE\":\"\",\"ADVANCED\":\"Yes\",\"INTERNAL\":\"Yes\"},{\"ATTR_ID\":1705,\"ATTR_CODE\":\"PHONE_LAST_5\",\"ATTR_CLASS\":\"PHONE\",\"FELEM_CODE\":\"PHONE_LAST_5\",\"FTYPE_CODE\":\"PHONE\",\"FELEM_REQ\":\"NO\",\"DEFAULT_VALUE\":\"\",\"ADVANCED\":\"Yes\",\"INTERNAL\":\"Yes\"},{\"ATTR_ID\":1702,\"ATTR_CODE\":\"PHONE_NUMBER\",\"ATTR_CLASS\":\"PHONE\",\"FELEM_CODE\":\"PHONE_NUM\",\"FTYPE_CODE\":\"PHONE\",\"FELEM_REQ\":\"YES\",\"DEFAULT_VALUE\":\"\",\"ADVANCED\":\"No\",\"INTERNAL\":\"No\"},{\"ATTR_ID\":1700,\"ATTR_CODE\":\"PHONE_PREHASHED\",\"ATTR_CLASS\":\"PHONE\",\"FELEM_CODE\":\"<PREHASHED>\",\"FTYPE_CODE\":\"PHONE\",\"FELEM_REQ\":\"NO\",\"DEFAULT_VALUE\":\"\",\"ADVANCED\":\"Yes\",\"INTERNAL\":\"Yes\"},{\"ATTR_ID\":1708,\"ATTR_CODE\":\"PHONE_THRU_DATE\",\"ATTR_CLASS\":\"PHONE\",\"FELEM_CODE\":\"USED_THRU_DT\",\"FTYPE_CODE\":\"PHONE\",\"FELEM_REQ\":\"NO\",\"DEFAULT_VALUE\":\"\",\"ADVANCED\":\"Yes\",\"INTERNAL\":\"No\"},{\"ATTR_ID\":1706,\"ATTR_CODE\":\"PHONE_TYPE\",\"ATTR_CLASS\":\"PHONE\",\"FELEM_CODE\":\"USAGE_TYPE\",\"FTYPE_CODE\":\"PHONE\",\"FELEM_REQ\":\"NO\",\"DEFAULT_VALUE\":\"\",\"ADVANCED\":\"Yes\",\"INTERNAL\":\"No\"},{\"ATTR_ID\":1250,\"ATTR_CODE\":\"PHYSICAL_PREHASHED\",\"ATTR_CLASS\":\"ATTRIBUTE\",\"FELEM_CODE\":\"<PREHASHED>\",\"FTYPE_CODE\":\"PHYSICAL_ATTRIBUTE\",\"FELEM_REQ\":\"NO\",\"DEFAULT_VALUE\":\"\",\"ADVANCED\":\"Yes\",\"INTERNAL\":\"Yes\"},{\"ATTR_ID\":1251,\"ATTR_CODE\":\"PHYSICAL_TYPE\",\"ATTR_CLASS\":\"ATTRIBUTE\",\"FELEM_CODE\":\"TYPE\",\"FTYPE_CODE\":\"PHYSICAL_ATTRIBUTE\",\"FELEM_REQ\":\"DESIRED\",\"DEFAULT_VALUE\":\"\",\"ADVANCED\":\"Yes\",\"INTERNAL\":\"No\"},{\"ATTR_ID\":1252,\"ATTR_CODE\":\"PHYSICAL_VALUE\",\"ATTR_CLASS\":\"ATTRIBUTE\",\"FELEM_CODE\":\"VALUE\",\"FTYPE_CODE\":\"PHYSICAL_ATTRIBUTE\",\"FELEM_REQ\":\"YES\",\"DEFAULT_VALUE\":\"\",\"ADVANCED\":\"Yes\",\"INTERNAL\":\"No\"},{\"ATTR_ID\":2421,\"ATTR_CODE\":\"PLACE_OF_BIRTH\",\"ATTR_CLASS\":\"ATTRIBUTE\",\"FELEM_CODE\":\"PLACE\",\"FTYPE_CODE\":\"PLACE_OF_BIRTH\",\"FELEM_REQ\":\"YES\",\"DEFAULT_VALUE\":\"\",\"ADVANCED\":\"No\",\"INTERNAL\":\"No\"},{\"ATTR_ID\":1003,\"ATTR_CODE\":\"RECORD_ID\",\"ATTR_CLASS\":\"OBSERVATION\",\"FELEM_CODE\":\"\",\"FTYPE_CODE\":\"\",\"FELEM_REQ\":\"NO\",\"DEFAULT_VALUE\":\"\",\"ADVANCED\":\"No\",\"INTERNAL\":\"No\"},{\"ATTR_ID\":2401,\"ATTR_CODE\":\"RECORD_TYPE\",\"ATTR_CLASS\":\"ATTRIBUTE\",\"FELEM_CODE\":\"TYPE\",\"FTYPE_CODE\":\"RECORD_TYPE\",\"FELEM_REQ\":\"YES\",\"DEFAULT_VALUE\":\"\",\"ADVANCED\":\"No\",\"INTERNAL\":\"No\"},{\"ATTR_ID\":2432,\"ATTR_CODE\":\"REGISTRATION_COUNTRY\",\"ATTR_CLASS\":\"ATTRIBUTE\",\"FELEM_CODE\":\"COUNTRY\",\"FTYPE_CODE\":\"REGISTRATION_COUNTRY\",\"FELEM_REQ\":\"YES\",\"DEFAULT_VALUE\":\"\",\"ADVANCED\":\"No\",\"INTERNAL\":\"No\"},{\"ATTR_ID\":2431,\"ATTR_CODE\":\"REGISTRATION_DATE\",\"ATTR_CLASS\":\"ATTRIBUTE\",\"FELEM_CODE\":\"DATE\",\"FTYPE_CODE\":\"REGISTRATION_DATE\",\"FELEM_REQ\":\"YES\",\"DEFAULT_VALUE\":\"\",\"ADVANCED\":\"No\",\"INTERNAL\":\"No\"},{\"ATTR_ID\":1804,\"ATTR_CODE\":\"RELATED_FROM_DATE\",\"ATTR_CLASS\":\"RELATIONSHIP\",\"FELEM_CODE\":\"USED_FROM_DT\",\"FTYPE_CODE\":\"REL_LINK\",\"FELEM_REQ\":\"NO\",\"DEFAULT_VALUE\":\"\",\"ADVANCED\":\"Yes\",\"INTERNAL\":\"No\"},{\"ATTR_ID\":1805,\"ATTR_CODE\":\"RELATED_THRU_DATE\",\"ATTR_CLASS\":\"RELATIONSHIP\",\"FELEM_CODE\":\"USED_THRU_DT\",\"FTYPE_CODE\":\"REL_LINK\",\"FELEM_REQ\":\"NO\",\"DEFAULT_VALUE\":\"\",\"ADVANCED\":\"Yes\",\"INTERNAL\":\"No\"},{\"ATTR_ID\":1803,\"ATTR_CODE\":\"RELATIONSHIP_KEY\",\"ATTR_CLASS\":\"RELATIONSHIP\",\"FELEM_CODE\":\"REL_KEY\",\"FTYPE_CODE\":\"REL_LINK\",\"FELEM_REQ\":\"YES\",\"DEFAULT_VALUE\":\"\",\"ADVANCED\":\"Yes\",\"INTERNAL\":\"No\"},{\"ATTR_ID\":1802,\"ATTR_CODE\":\"RELATIONSHIP_ROLE\",\"ATTR_CLASS\":\"RELATIONSHIP\",\"FELEM_CODE\":\"USAGE_TYPE\",\"FTYPE_CODE\":\"REL_LINK\",\"FELEM_REQ\":\"NO\",\"DEFAULT_VALUE\":\"\",\"ADVANCED\":\"Yes\",\"INTERNAL\":\"No\"},{\"ATTR_ID\":1801,\"ATTR_CODE\":\"RELATIONSHIP_TYPE\",\"ATTR_CLASS\":\"RELATIONSHIP\",\"FELEM_CODE\":\"REL_TYPE\",\"FTYPE_CODE\":\"REL_LINK\",\"FELEM_REQ\":\"NO\",\"DEFAULT_VALUE\":\"\",\"ADVANCED\":\"Yes\",\"INTERNAL\":\"No\"},{\"ATTR_ID\":2801,\"ATTR_CODE\":\"REL_ANCHOR_DOMAIN\",\"ATTR_CLASS\":\"RELATIONSHIP\",\"FELEM_CODE\":\"KEY_TYPE\",\"FTYPE_CODE\":\"REL_ANCHOR\",\"FELEM_REQ\":\"NO\",\"DEFAULT_VALUE\":\"\",\"ADVANCED\":\"No\",\"INTERNAL\":\"No\"},{\"ATTR_ID\":2802,\"ATTR_CODE\":\"REL_ANCHOR_KEY\",\"ATTR_CLASS\":\"RELATIONSHIP\",\"FELEM_CODE\":\"KEY_VALUE\",\"FTYPE_CODE\":\"REL_ANCHOR\",\"FELEM_REQ\":\"YES\",\"DEFAULT_VALUE\":\"\",\"ADVANCED\":\"No\",\"INTERNAL\":\"No\"},{\"ATTR_ID\":2811,\"ATTR_CODE\":\"REL_POINTER_DOMAIN\",\"ATTR_CLASS\":\"RELATIONSHIP\",\"FELEM_CODE\":\"KEY_TYPE\",\"FTYPE_CODE\":\"REL_POINTER\",\"FELEM_REQ\":\"NO\",\"DEFAULT_VALUE\":\"\",\"ADVANCED\":\"No\",\"INTERNAL\":\"No\"},{\"ATTR_ID\":2812,\"ATTR_CODE\":\"REL_POINTER_KEY\",\"ATTR_CLASS\":\"RELATIONSHIP\",\"FELEM_CODE\":\"KEY_VALUE\",\"FTYPE_CODE\":\"REL_POINTER\",\"FELEM_REQ\":\"YES\",\"DEFAULT_VALUE\":\"\",\"ADVANCED\":\"No\",\"INTERNAL\":\"No\"},{\"ATTR_ID\":2813,\"ATTR_CODE\":\"REL_POINTER_ROLE\",\"ATTR_CLASS\":\"RELATIONSHIP\",\"FELEM_CODE\":\"USAGE_TYPE\",\"FTYPE_CODE\":\"REL_POINTER\",\"FELEM_REQ\":\"NO\",\"DEFAULT_VALUE\":\"\",\"ADVANCED\":\"No\",\"INTERNAL\":\"No\"},{\"ATTR_ID\":1002,\"ATTR_CODE\":\"ROUTE_CODE\",\"ATTR_CLASS\":\"OBSERVATION\",\"FELEM_CODE\":\"\",\"FTYPE_CODE\":\"\",\"FELEM_REQ\":\"NO\",\"DEFAULT_VALUE\":\"\",\"ADVANCED\":\"Yes\",\"INTERNAL\":\"No\"},{\"ATTR_ID\":2310,\"ATTR_CODE\":\"SIGNAL\",\"ATTR_CLASS\":\"IDENTIFIER\",\"FELEM_CODE\":\"LOGIN_ID\",\"FTYPE_CODE\":\"SIGNAL\",\"FELEM_REQ\":\"YES\",\"DEFAULT_VALUE\":\"NONE\",\"ADVANCED\":\"No\",\"INTERNAL\":\"No\"},{\"ATTR_ID\":2306,\"ATTR_CODE\":\"SKYPE\",\"ATTR_CLASS\":\"IDENTIFIER\",\"FELEM_CODE\":\"LOGIN_ID\",\"FTYPE_CODE\":\"SKYPE\",\"FELEM_REQ\":\"YES\",\"DEFAULT_VALUE\":\"NONE\",\"ADVANCED\":\"No\",\"INTERNAL\":\"No\"},{\"ATTR_ID\":1523,\"ATTR_CODE\":\"SOCIAL_FROM_DATE\",\"ATTR_CLASS\":\"IDENTIFIER\",\"FELEM_CODE\":\"USED_FROM_DT\",\"FTYPE_CODE\":\"LOGIN_ID\",\"FELEM_REQ\":\"NO\",\"DEFAULT_VALUE\":\"\",\"ADVANCED\":\"Yes\",\"INTERNAL\":\"No\"},{\"ATTR_ID\":1522,\"ATTR_CODE\":\"SOCIAL_HANDLE\",\"ATTR_CLASS\":\"IDENTIFIER\",\"FELEM_CODE\":\"LOGIN_ID\",\"FTYPE_CODE\":\"LOGIN_ID\",\"FELEM_REQ\":\"YES\",\"DEFAULT_VALUE\":\"\",\"ADVANCED\":\"No\",\"INTERNAL\":\"No\"},{\"ATTR_ID\":1521,\"ATTR_CODE\":\"SOCIAL_NETWORK\",\"ATTR_CLASS\":\"IDENTIFIER\",\"FELEM_CODE\":\"LOGIN_DOMAIN\",\"FTYPE_CODE\":\"LOGIN_ID\",\"FELEM_REQ\":\"DESIRED\",\"DEFAULT_VALUE\":\"\",\"ADVANCED\":\"No\",\"INTERNAL\":\"No\"},{\"ATTR_ID\":1520,\"ATTR_CODE\":\"SOCIAL_PREHASHED\",\"ATTR_CLASS\":\"IDENTIFIER\",\"FELEM_CODE\":\"<PREHASHED>\",\"FTYPE_CODE\":\"LOGIN_ID\",\"FELEM_REQ\":\"NO\",\"DEFAULT_VALUE\":\"\",\"ADVANCED\":\"Yes\",\"INTERNAL\":\"Yes\"},{\"ATTR_ID\":1524,\"ATTR_CODE\":\"SOCIAL_THRU_DATE\",\"ATTR_CLASS\":\"IDENTIFIER\",\"FELEM_CODE\":\"USED_THRU_DT\",\"FTYPE_CODE\":\"LOGIN_ID\",\"FELEM_REQ\":\"NO\",\"DEFAULT_VALUE\":\"\",\"ADVANCED\":\"Yes\",\"INTERNAL\":\"No\"},{\"ATTR_ID\":1341,\"ATTR_CODE\":\"SSN_NUMBER\",\"ATTR_CLASS\":\"IDENTIFIER\",\"FELEM_CODE\":\"ID_NUM\",\"FTYPE_CODE\":\"SSN\",\"FELEM_REQ\":\"YES\",\"DEFAULT_VALUE\":\"\",\"ADVANCED\":\"No\",\"INTERNAL\":\"No\"},{\"ATTR_ID\":1342,\"ATTR_CODE\":\"SSN_NUMSTD\",\"ATTR_CLASS\":\"IDENTIFIER\",\"FELEM_CODE\":\"ID_NUM_STD\",\"FTYPE_CODE\":\"SSN\",\"FELEM_REQ\":\"NO\",\"DEFAULT_VALUE\":\"\",\"ADVANCED\":\"Yes\",\"INTERNAL\":\"Yes\"},{\"ATTR_ID\":1340,\"ATTR_CODE\":\"SSN_PREHASHED\",\"ATTR_CLASS\":\"IDENTIFIER\",\"FELEM_CODE\":\"<PREHASHED>\",\"FTYPE_CODE\":\"SSN\",\"FELEM_REQ\":\"NO\",\"DEFAULT_VALUE\":\"\",\"ADVANCED\":\"Yes\",\"INTERNAL\":\"Yes\"},{\"ATTR_ID\":2312,\"ATTR_CODE\":\"TANGO\",\"ATTR_CLASS\":\"IDENTIFIER\",\"FELEM_CODE\":\"LOGIN_ID\",\"FTYPE_CODE\":\"TANGO\",\"FELEM_REQ\":\"YES\",\"DEFAULT_VALUE\":\"NONE\",\"ADVANCED\":\"No\",\"INTERNAL\":\"No\"},{\"ATTR_ID\":1362,\"ATTR_CODE\":\"TAX_ID_COUNTRY\",\"ATTR_CLASS\":\"IDENTIFIER\",\"FELEM_CODE\":\"COUNTRY\",\"FTYPE_CODE\":\"TAX_ID\",\"FELEM_REQ\":\"DESIRED\",\"DEFAULT_VALUE\":\"\",\"ADVANCED\":\"No\",\"INTERNAL\":\"No\"},{\"ATTR_ID\":1364,\"ATTR_CODE\":\"TAX_ID_EXPIRE_DT\",\"ATTR_CLASS\":\"IDENTIFIER\",\"FELEM_CODE\":\"EXPIRE_DATE\",\"FTYPE_CODE\":\"TAX_ID\",\"FELEM_REQ\":\"NO\",\"DEFAULT_VALUE\":\"\",\"ADVANCED\":\"Yes\",\"INTERNAL\":\"No\"},{\"ATTR_ID\":1363,\"ATTR_CODE\":\"TAX_ID_ISSUE_DT\",\"ATTR_CLASS\":\"IDENTIFIER\",\"FELEM_CODE\":\"ISSUE_DATE\",\"FTYPE_CODE\":\"TAX_ID\",\"FELEM_REQ\":\"NO\",\"DEFAULT_VALUE\":\"\",\"ADVANCED\":\"Yes\",\"INTERNAL\":\"No\"},{\"ATTR_ID\":1361,\"ATTR_CODE\":\"TAX_ID_NUMBER\",\"ATTR_CLASS\":\"IDENTIFIER\",\"FELEM_CODE\":\"ID_NUM\",\"FTYPE_CODE\":\"TAX_ID\",\"FELEM_REQ\":\"YES\",\"DEFAULT_VALUE\":\"\",\"ADVANCED\":\"No\",\"INTERNAL\":\"No\"},{\"ATTR_ID\":1365,\"ATTR_CODE\":\"TAX_ID_NUM_STD\",\"ATTR_CLASS\":\"IDENTIFIER\",\"FELEM_CODE\":\"ID_NUM_STD\",\"FTYPE_CODE\":\"TAX_ID\",\"FELEM_REQ\":\"NO\",\"DEFAULT_VALUE\":\"\",\"ADVANCED\":\"Yes\",\"INTERNAL\":\"Yes\"},{\"ATTR_ID\":1360,\"ATTR_CODE\":\"TAX_ID_PREHASHED\",\"ATTR_CLASS\":\"IDENTIFIER\",\"FELEM_CODE\":\"<PREHASHED>\",\"FTYPE_CODE\":\"TAX_ID\",\"FELEM_REQ\":\"NO\",\"DEFAULT_VALUE\":\"\",\"ADVANCED\":\"Yes\",\"INTERNAL\":\"Yes\"},{\"ATTR_ID\":2311,\"ATTR_CODE\":\"TELEGRAM\",\"ATTR_CLASS\":\"IDENTIFIER\",\"FELEM_CODE\":\"LOGIN_ID\",\"FTYPE_CODE\":\"TELEGRAM\",\"FELEM_REQ\":\"YES\",\"DEFAULT_VALUE\":\"NONE\",\"ADVANCED\":\"No\",\"INTERNAL\":\"No\"},{\"ATTR_ID\":1382,\"ATTR_CODE\":\"TRUSTED_ID_NUMBER\",\"ATTR_CLASS\":\"IDENTIFIER\",\"FELEM_CODE\":\"ID_NUM\",\"FTYPE_CODE\":\"TRUSTED_ID\",\"FELEM_REQ\":\"YES\",\"DEFAULT_VALUE\":\"\",\"ADVANCED\":\"Yes\",\"INTERNAL\":\"No\"},{\"ATTR_ID\":1380,\"ATTR_CODE\":\"TRUSTED_ID_PREHASHED\",\"ATTR_CLASS\":\"IDENTIFIER\",\"FELEM_CODE\":\"<PREHASHED>\",\"FTYPE_CODE\":\"TRUSTED_ID\",\"FELEM_REQ\":\"NO\",\"DEFAULT_VALUE\":\"\",\"ADVANCED\":\"Yes\",\"INTERNAL\":\"Yes\"},{\"ATTR_ID\":1381,\"ATTR_CODE\":\"TRUSTED_ID_TYPE\",\"ATTR_CLASS\":\"IDENTIFIER\",\"FELEM_CODE\":\"ID_TYPE\",\"FTYPE_CODE\":\"TRUSTED_ID\",\"FELEM_REQ\":\"NO\",\"DEFAULT_VALUE\":\"\",\"ADVANCED\":\"Yes\",\"INTERNAL\":\"No\"},{\"ATTR_ID\":2305,\"ATTR_CODE\":\"TWITTER\",\"ATTR_CLASS\":\"IDENTIFIER\",\"FELEM_CODE\":\"LOGIN_ID\",\"FTYPE_CODE\":\"TWITTER\",\"FELEM_REQ\":\"YES\",\"DEFAULT_VALUE\":\"NONE\",\"ADVANCED\":\"No\",\"INTERNAL\":\"No\"},{\"ATTR_ID\":2101,\"ATTR_CODE\":\"VEHICLE_LICENSE_PLATE_NUMBER\",\"ATTR_CLASS\":\"IDENTIFIER\",\"FELEM_CODE\":\"ID_NUM\",\"FTYPE_CODE\":\"VEH_LIC_PLATE\",\"FELEM_REQ\":\"YES\",\"DEFAULT_VALUE\":\"\",\"ADVANCED\":\"No\",\"INTERNAL\":\"No\"},{\"ATTR_ID\":2102,\"ATTR_CODE\":\"VEHICLE_LICENSE_PLATE_STATE\",\"ATTR_CLASS\":\"IDENTIFIER\",\"FELEM_CODE\":\"STATE\",\"FTYPE_CODE\":\"VEH_LIC_PLATE\",\"FELEM_REQ\":\"DESIRED\",\"DEFAULT_VALUE\":\"\",\"ADVANCED\":\"No\",\"INTERNAL\":\"No\"},{\"ATTR_ID\":2201,\"ATTR_CODE\":\"VEHICLE_VIN_NUMBER\",\"ATTR_CLASS\":\"IDENTIFIER\",\"FELEM_CODE\":\"ID_NUM\",\"FTYPE_CODE\":\"VEH_VIN\",\"FELEM_REQ\":\"YES\",\"DEFAULT_VALUE\":\"\",\"ADVANCED\":\"No\",\"INTERNAL\":\"No\"},{\"ATTR_ID\":2313,\"ATTR_CODE\":\"VIBER\",\"ATTR_CLASS\":\"IDENTIFIER\",\"FELEM_CODE\":\"LOGIN_ID\",\"FTYPE_CODE\":\"VIBER\",\"FELEM_REQ\":\"YES\",\"DEFAULT_VALUE\":\"NONE\",\"ADVANCED\":\"No\",\"INTERNAL\":\"No\"},{\"ATTR_ID\":1501,\"ATTR_CODE\":\"WEBSITE_ADDRESS\",\"ATTR_CLASS\":\"IDENTIFIER\",\"FELEM_CODE\":\"ADDR\",\"FTYPE_CODE\":\"WEBSITE\",\"FELEM_REQ\":\"YES\",\"DEFAULT_VALUE\":\"\",\"ADVANCED\":\"No\",\"INTERNAL\":\"No\"},{\"ATTR_ID\":1500,\"ATTR_CODE\":\"WEBSITE_PREHASHED\",\"ATTR_CLASS\":\"IDENTIFIER\",\"FELEM_CODE\":\"<PREHASHED>\",\"FTYPE_CODE\":\"WEBSITE\",\"FELEM_REQ\":\"NO\",\"DEFAULT_VALUE\":\"\",\"ADVANCED\":\"Yes\",\"INTERNAL\":\"Yes\"},{\"ATTR_ID\":2314,\"ATTR_CODE\":\"WECHAT\",\"ATTR_CLASS\":\"IDENTIFIER\",\"FELEM_CODE\":\"LOGIN_ID\",\"FTYPE_CODE\":\"WECHAT\",\"FELEM_REQ\":\"YES\",\"DEFAULT_VALUE\":\"NONE\",\"ADVANCED\":\"No\",\"INTERNAL\":\"No\"},{\"ATTR_ID\":2309,\"ATTR_CODE\":\"WHATSAPP\",\"ATTR_CLASS\":\"IDENTIFIER\",\"FELEM_CODE\":\"LOGIN_ID\",\"FTYPE_CODE\":\"WHATSAPP\",\"FELEM_REQ\":\"YES\",\"DEFAULT_VALUE\":\"NONE\",\"ADVANCED\":\"No\",\"INTERNAL\":\"No\"},{\"ATTR_ID\":2307,\"ATTR_CODE\":\"ZOOMROOM\",\"ATTR_CLASS\":\"IDENTIFIER\",\"FELEM_CODE\":\"LOGIN_ID\",\"FTYPE_CODE\":\"ZOOMROOM\",\"FELEM_REQ\":\"YES\",\"DEFAULT_VALUE\":\"NONE\",\"ADVANCED\":\"No\",\"INTERNAL\":\"No\"}],\"CONFIG_BASE_VERSION\":{\"PRODUCT_NAME\":\"Senzing API\",\"VERSION\":\"3.3.2\",\"BUILD_VERSION\":\"3.3.2.22299\",\"BUILD_DATE\":\"2022-10-26\",\"BUILD_NUMBER\":\"2022_10_26__19_38\",\"COMPATIBILITY_VERSION\":{\"CONFIG_VERSION\":\"10\"}}}}))});"
      ]
     },
     "metadata": {},
     "output_type": "display_data"
    }
   ],
   "source": [
    "StringBuffer response = new StringBuffer();\n",
    "\n",
    "g2engine.exportConfig(response, configID);\n",
    "RenderJSON(response)"
   ]
  },
  {
   "cell_type": "markdown",
   "metadata": {},
   "source": [
    "### stats\n",
    "\n",
    "Call `stats()` to retrieve workload statistics for the current process.\n",
    "These statistics will automatically reset after retrieval.\n",
    "\n",
    "- **respone:** (String) Object to store the output of the method. can be used to print or store for later"
   ]
  },
  {
   "cell_type": "code",
   "execution_count": 15,
   "metadata": {
    "scrolled": true
   },
   "outputs": [
    {
     "data": {
      "text/html": [
       "<div id=\"c8fabe2d-c562-4a9d-a35e-032679b6b47e\" style=\"height:100%; width:100%; background-color: LightCyan\"></div>"
      ],
      "text/plain": [
       "<div id=\"c8fabe2d-c562-4a9d-a35e-032679b6b47e\" style=\"height:100%; width:100%; background-color: LightCyan\"></div>"
      ]
     },
     "metadata": {},
     "output_type": "display_data"
    },
    {
     "data": {
      "application/javascript": [
       "require([\"https://rawgit.com/caldwell/renderjson/master/renderjson.js\"], function() {document.getElementById('c8fabe2d-c562-4a9d-a35e-032679b6b47e').appendChild(renderjson({\"workload\":{\"loadedRecords\":-1,\"addedRecords\":0,\"deletedRecords\":0,\"reevaluations\":0,\"repairedEntities\":0,\"duration\":0,\"retries\":0,\"candidates\":0,\"actualAmbiguousTest\":0,\"cachedAmbiguousTest\":0,\"libFeatCacheHit\":0,\"libFeatCacheMiss\":0,\"unresolveTest\":0,\"abortedUnresolve\":0,\"gnrScorersUsed\":1,\"unresolveTriggers\":{\"normalResolve\":0,\"update\":0,\"relLink\":0,\"extensiveResolve\":0,\"ambiguousNoResolve\":0,\"ambiguousMultiResolve\":0},\"reresolveTriggers\":{\"abortRetry\":0,\"unresolveMovement\":0,\"multipleResolvableCandidates\":0,\"resolveNewFeatures\":0,\"newFeatureFTypes\":[]},\"reresolveSkipped\":0,\"filteredObsFeat\":0,\"expressedFeatureCalls\":[],\"expressedFeaturesCreated\":[],\"scoredPairs\":[],\"cacheHit\":[],\"cacheMiss\":[],\"redoTriggers\":[],\"latchContention\":[],\"highContentionFeat\":[],\"highContentionResEnt\":[],\"genericDetect\":[],\"candidateBuilders\":[],\"suppressedCandidateBuilders\":[],\"suppressedScoredFeatureType\":[],\"reducedScoredFeatureType\":[],\"suppressedDisclosedRelationshipDomainCount\":0,\"CorruptEntityTestDiagnosis\":{},\"threadState\":{\"active\":0,\"idle\":1,\"sqlExecuting\":0,\"loader\":0,\"resolver\":0,\"scoring\":0,\"dataLatchContention\":0,\"obsEntContention\":0,\"resEntContention\":0},\"systemResources\":{\"initResources\":[{\"physicalCores\":2},{\"logicalCores\":2},{\"totalMemory\":\"7.2GB\"},{\"availableMemory\":\"2.8GB\"}],\"currResources\":[{\"availableMemory\":\"1.2GB\"},{\"activeThreads\":0},{\"workerThreads\":1},{\"systemLoad\":[]}]}}}))});"
      ],
      "text/plain": [
       "require([\"https://rawgit.com/caldwell/renderjson/master/renderjson.js\"], function() {document.getElementById('c8fabe2d-c562-4a9d-a35e-032679b6b47e').appendChild(renderjson({\"workload\":{\"loadedRecords\":-1,\"addedRecords\":0,\"deletedRecords\":0,\"reevaluations\":0,\"repairedEntities\":0,\"duration\":0,\"retries\":0,\"candidates\":0,\"actualAmbiguousTest\":0,\"cachedAmbiguousTest\":0,\"libFeatCacheHit\":0,\"libFeatCacheMiss\":0,\"unresolveTest\":0,\"abortedUnresolve\":0,\"gnrScorersUsed\":1,\"unresolveTriggers\":{\"normalResolve\":0,\"update\":0,\"relLink\":0,\"extensiveResolve\":0,\"ambiguousNoResolve\":0,\"ambiguousMultiResolve\":0},\"reresolveTriggers\":{\"abortRetry\":0,\"unresolveMovement\":0,\"multipleResolvableCandidates\":0,\"resolveNewFeatures\":0,\"newFeatureFTypes\":[]},\"reresolveSkipped\":0,\"filteredObsFeat\":0,\"expressedFeatureCalls\":[],\"expressedFeaturesCreated\":[],\"scoredPairs\":[],\"cacheHit\":[],\"cacheMiss\":[],\"redoTriggers\":[],\"latchContention\":[],\"highContentionFeat\":[],\"highContentionResEnt\":[],\"genericDetect\":[],\"candidateBuilders\":[],\"suppressedCandidateBuilders\":[],\"suppressedScoredFeatureType\":[],\"reducedScoredFeatureType\":[],\"suppressedDisclosedRelationshipDomainCount\":0,\"CorruptEntityTestDiagnosis\":{},\"threadState\":{\"active\":0,\"idle\":1,\"sqlExecuting\":0,\"loader\":0,\"resolver\":0,\"scoring\":0,\"dataLatchContention\":0,\"obsEntContention\":0,\"resEntContention\":0},\"systemResources\":{\"initResources\":[{\"physicalCores\":2},{\"logicalCores\":2},{\"totalMemory\":\"7.2GB\"},{\"availableMemory\":\"2.8GB\"}],\"currResources\":[{\"availableMemory\":\"1.2GB\"},{\"activeThreads\":0},{\"workerThreads\":1},{\"systemLoad\":[]}]}}}))});"
      ]
     },
     "metadata": {},
     "output_type": "display_data"
    }
   ],
   "source": [
    "String response = g2engine.stats();\n",
    "RenderJSON(response);"
   ]
  },
  {
   "cell_type": "markdown",
   "metadata": {},
   "source": [
    "### getRepositoryLastModifiedTime\n",
    "\n",
    "Call `getRepositoryLastModifiedTime()` to obtain the last modified time of\n",
    "the Senzing repository,measured in the number of seconds between the last\n",
    "modified time and January 1, 1970 12:00am GMT (epoch time).\n",
    "The call will assign a long integer to a user-designated buffer\n",
    "\n",
    "###### Parameters\n",
    "\n",
    "- **lastModifiedTime:** (long) The last modified time. The result of function\n",
    "  call is returned here\n"
   ]
  },
  {
   "cell_type": "code",
   "execution_count": 16,
   "metadata": {},
   "outputs": [
    {
     "name": "stdout",
     "output_type": "stream",
     "text": [
      "1667492085863"
     ]
    }
   ],
   "source": [
    "Result<Long> lastModifiedTime = new Result<Long>();\n",
    "\n",
    "g2engine.getRepositoryLastModifiedTime(lastModifiedTime);\n",
    "\n",
    "System.out.print(lastModifiedTime.getValue());"
   ]
  },
  {
   "cell_type": "markdown",
   "metadata": {},
   "source": [
    "## Insert"
   ]
  },
  {
   "cell_type": "markdown",
   "metadata": {},
   "source": [
    "### Insert parameters\n",
    "\n",
    "The following variables are used as parameters to the Senzing API."
   ]
  },
  {
   "cell_type": "code",
   "execution_count": 17,
   "metadata": {},
   "outputs": [],
   "source": [
    "String dataSourceCode1 = \"TEST\";\n",
    "String recordID1 = \"1\";\n",
    "String dataSourceCode2 = \"TEST\";\n",
    "String recordID2 = \"2\";\n",
    "String dataSourceCode3 = \"TEST\";\n",
    "String recordID3 = \"3\";\n",
    "String dataSourceCode4 = \"TEST\";\n",
    "String recordID4 = \"4\";\n",
    "String dataSourceCode5 = \"TEST\";\n",
    "String recordID5 = \"5\";\n",
    "String dataSourceCode6 = \"TEST\";\n",
    "String recordID6 = \"6\";\n",
    "String dataSourceCode7 = \"TEST\";\n",
    "String recordID7 = \"7\";\n",
    "String dataSourceCode8 = \"TEST\";\n",
    "String recordID8 = \"8\";\n",
    "\n",
    "String loadID = null;\n",
    "long flags=0;"
   ]
  },
  {
   "cell_type": "markdown",
   "metadata": {},
   "source": [
    "### addRecord\n",
    "\n",
    "Once the Senzing engine is initialized, use `addRecord()` to load a record\n",
    "into the Senzing repository\n",
    "-- `addRecord()` can be called as many times as desired and from multiple\n",
    "threads at the same time.\n",
    "The `addRecord()` function returns \"0\" upon success, and accepts four\n",
    "parameters as input:\n",
    "\n",
    "###### Parameters\n",
    "\n",
    "- **dataSourceCode:** (str) The name of the data source the record\n",
    "  is associated with.\n",
    "  This value is configurable to the system\n",
    "- **recordID:** (str) The record ID, used to identify distinct records\n",
    "- **jsonData:** (str) A JSON document with the attribute data for the record\n",
    "- **loadID:** (str) The observation load ID for the record;\n",
    "  value can be null and will default to data_source"
   ]
  },
  {
   "cell_type": "code",
   "execution_count": 18,
   "metadata": {},
   "outputs": [],
   "source": [
    "String jsonData =  \"{\\\"NAME_TYPE\\\": \\\"PRIMARY\\\", \\\"NAME_FIRST\\\": \\\"JANE\\\", \\\"NAME_LAST\\\": \\\"SMITH\\\", \\\"ADDR_TYPE\\\": \\\"HOME\\\", \\\"ADDR_LINE1\\\": \\\"653 STATE ROUTE 7\\\", \\\"ADDR_CITY\\\": \\\"FRESNO\\\", \\\"ADDR_STATE\\\": \\\"CA\\\", \\\"ADDR_POSTAL_CODE\\\": \\\"55073-1234\\\", \\\"SSN_NUMBER\\\": \\\"111-11-1111\\\"}\";\n",
    "StringBuffer response = new StringBuffer();\n",
    "String dataSourceCode = dataSourceCode1;\n",
    "String recordID = recordID1;\n",
    "\n",
    "int return_code= g2engine.addRecord(\n",
    "                    dataSourceCode, \n",
    "                    recordID, \n",
    "                    jsonData, \n",
    "                    loadID);\n",
    "\n",
    "if(return_code!=0)\n",
    "    System.out.print(g2engine.getLastException());"
   ]
  },
  {
   "cell_type": "markdown",
   "metadata": {},
   "source": [
    "### addRecordWithReturnedRecordID\n",
    "\n",
    "Alternatively `addRecordWithReturnedRecordID()` can be used to return the record ID\n",
    "\n",
    "###### Parameters\n",
    "\n",
    "- **dataSourceCode:** (str) The name of the data source the record\n",
    "  is associated with.\n",
    "  This value is configurable to the system\n",
    "- **response:** (StringBuffer) Object to store the output of the method. Can be used to print or store for later.- **record_id:** (str) The record ID, used to identify distinct records\n",
    "- **jsonData:** (str) A JSON document with the attribute data for the record\n",
    "- **loadID:** (str) the observation load ID for the record;\n",
    "  value can be null."
   ]
  },
  {
   "cell_type": "code",
   "execution_count": 19,
   "metadata": {},
   "outputs": [
    {
     "name": "stdout",
     "output_type": "stream",
     "text": [
      "New Record ID: 06C29624478FF1C3285E294E5657796E3A67244A"
     ]
    }
   ],
   "source": [
    "StringBuffer responseBuffer = new StringBuffer();\n",
    "\n",
    "int return_code = g2engine.addRecordWithReturnedRecordID(\n",
    "                            dataSourceCode, \n",
    "                            responseBuffer, \n",
    "                            jsonData, \n",
    "                            loadID);\n",
    "\n",
    "if(return_code!=0)\n",
    "    System.out.print(g2engine.getLastException());\n",
    "else\n",
    "    System.out.print(\"New Record ID: \" + responseBuffer.toString());"
   ]
  },
  {
   "cell_type": "markdown",
   "metadata": {},
   "source": [
    "### addRecordWithInfo\n",
    "\n",
    "Use if you would like to know what resolved entities were modified when\n",
    "adding the new record.\n",
    "It behaves identically to addRecord(),\n",
    "but returns a json document containing the IDs of the affected entities.\n",
    "\n",
    "###### Parameters\n",
    "\n",
    "- **dataSourceCode:** (str) The name of the data source the record is associated\n",
    "  with.  This value is configurable to the system.\n",
    "- **recordID:** (str) The record ID, used to identify distinct records\n",
    "- **jsonData:** (str) A JSON document with the attribute data for the record\n",
    "- **loadID:** (str) the observation load ID for the record;\n",
    "  value can be null.\n",
    "- **response:** (StringBuffer) Object to store the output of the method. Can be used to print or store for later."
   ]
  },
  {
   "cell_type": "code",
   "execution_count": 21,
   "metadata": {},
   "outputs": [
    {
     "data": {
      "text/html": [
       "<div id=\"980fc791-6f4a-47d8-b67b-bd4a0623912e\" style=\"height:100%; width:100%; background-color: LightCyan\"></div>"
      ],
      "text/plain": [
       "<div id=\"980fc791-6f4a-47d8-b67b-bd4a0623912e\" style=\"height:100%; width:100%; background-color: LightCyan\"></div>"
      ]
     },
     "metadata": {},
     "output_type": "display_data"
    },
    {
     "data": {
      "application/javascript": [
       "require([\"https://rawgit.com/caldwell/renderjson/master/renderjson.js\"], function() {document.getElementById('980fc791-6f4a-47d8-b67b-bd4a0623912e').appendChild(renderjson({\"DATA_SOURCE\":\"TEST\",\"RECORD_ID\":\"1\",\"AFFECTED_ENTITIES\":[],\"INTERESTING_ENTITIES\":{\"ENTITIES\":[]}}))});"
      ],
      "text/plain": [
       "require([\"https://rawgit.com/caldwell/renderjson/master/renderjson.js\"], function() {document.getElementById('980fc791-6f4a-47d8-b67b-bd4a0623912e').appendChild(renderjson({\"DATA_SOURCE\":\"TEST\",\"RECORD_ID\":\"1\",\"AFFECTED_ENTITIES\":[],\"INTERESTING_ENTITIES\":{\"ENTITIES\":[]}}))});"
      ]
     },
     "metadata": {},
     "output_type": "display_data"
    }
   ],
   "source": [
    "StringBuffer response = new StringBuffer();\n",
    "int return_code = g2engine.addRecordWithInfo(\n",
    "                    dataSourceCode, \n",
    "                    recordID, \n",
    "                    jsonData, \n",
    "                    loadID,\n",
    "                    flags,\n",
    "                    response);\n",
    "\n",
    "if(return_code!=0)\n",
    "    System.out.print(g2engine.getLastException());\n",
    "else\n",
    "    RenderJSON(response);"
   ]
  },
  {
   "cell_type": "markdown",
   "metadata": {},
   "source": [
    "### addRecordWithInfoWithReturnedRecordID\n",
    "\n",
    "\n",
    "###### Parameters\n",
    "\n",
    "- **dataSourceCode:** (str) The name of the data source the record is associated\n",
    "  with.  This value is configurable to the system.\n",
    "- **jsonData:** (str) A JSON document with the attribute data for the record\n",
    "- **loadID:** (str) the observation load ID for the record;\n",
    "  value can be null.\n",
    "- **recordResponse:** (StringBuffer) The record ID of the added record.\n",
    "- **response:** (StringBuffer) Object to store the output of the method. Can be used to print or store for later."
   ]
  },
  {
   "cell_type": "code",
   "execution_count": 22,
   "metadata": {},
   "outputs": [
    {
     "name": "stdout",
     "output_type": "stream",
     "text": [
      "06C29624478FF1C3285E294E5657796E3A67244A"
     ]
    },
    {
     "data": {
      "text/html": [
       "<div id=\"04d2eb57-8bc5-490f-9083-da19e98c6cf3\" style=\"height:100%; width:100%; background-color: LightCyan\"></div>"
      ],
      "text/plain": [
       "<div id=\"04d2eb57-8bc5-490f-9083-da19e98c6cf3\" style=\"height:100%; width:100%; background-color: LightCyan\"></div>"
      ]
     },
     "metadata": {},
     "output_type": "display_data"
    },
    {
     "data": {
      "application/javascript": [
       "require([\"https://rawgit.com/caldwell/renderjson/master/renderjson.js\"], function() {document.getElementById('04d2eb57-8bc5-490f-9083-da19e98c6cf3').appendChild(renderjson({\"DATA_SOURCE\":\"TEST\",\"RECORD_ID\":\"06C29624478FF1C3285E294E5657796E3A67244A\",\"AFFECTED_ENTITIES\":[],\"INTERESTING_ENTITIES\":{\"ENTITIES\":[]}}))});"
      ],
      "text/plain": [
       "require([\"https://rawgit.com/caldwell/renderjson/master/renderjson.js\"], function() {document.getElementById('04d2eb57-8bc5-490f-9083-da19e98c6cf3').appendChild(renderjson({\"DATA_SOURCE\":\"TEST\",\"RECORD_ID\":\"06C29624478FF1C3285E294E5657796E3A67244A\",\"AFFECTED_ENTITIES\":[],\"INTERESTING_ENTITIES\":{\"ENTITIES\":[]}}))});"
      ]
     },
     "metadata": {},
     "output_type": "display_data"
    }
   ],
   "source": [
    "StringBuffer response = new StringBuffer();\n",
    "StringBuffer recordResponse = new StringBuffer();\n",
    "\n",
    "int return_code = g2engine.addRecordWithInfoWithReturnedRecordID(\n",
    "                    dataSourceCode, \n",
    "                    jsonData,\n",
    "                    loadID,\n",
    "                    flags,\n",
    "                    recordResponse,\n",
    "                    response);\n",
    "\n",
    "if(return_code!=0)\n",
    "    System.out.print(g2engine.getLastException());\n",
    "else\n",
    "    System.out.print(recordResponse);\n",
    "    RenderJSON(response)"
   ]
  },
  {
   "cell_type": "markdown",
   "metadata": {},
   "source": [
    "## Replace"
   ]
  },
  {
   "cell_type": "markdown",
   "metadata": {},
   "source": [
    "### replaceRecord\n",
    "\n",
    "Use the `replaceRecord()` function to update or replace a record in the data\n",
    "repository.\n",
    "If record doesn't exist, a new record is added to the data repository.\n",
    "Like the above functions, `replaceRecord()` returns \"0\" upon success,\n",
    "and it can be called as many times as desired and from multiple threads at\n",
    "the same time.\n",
    "\n",
    "###### Parameters\n",
    "\n",
    "- **dataSourceCode:** (str) The name of the data source the record is associated\n",
    "  with.  This value is configurable to the system\n",
    "- **recordID:** (str) The record ID, used to identify distinct records\n",
    "- **jsonData:** (str) A JSON document with the attribute data for the record\n",
    "- **loadID:** (str) the observation load ID for the record;\n",
    "  value can be null."
   ]
  },
  {
   "cell_type": "code",
   "execution_count": 23,
   "metadata": {},
   "outputs": [
    {
     "name": "stdout",
     "output_type": "stream",
     "text": [
      "0"
     ]
    }
   ],
   "source": [
    "String jsonData =  \"{\\\"NAME_TYPE\\\": \\\"PRIMARY\\\", \\\"NAME_FIRST\\\": \\\"JANE\\\", \\\"NAME_LAST\\\": \\\"ADAMS\\\", \\\"ADDR_TYPE\\\": \\\"HOME\\\", \\\"ADDR_LINE1\\\": \\\"653 STATE ROUTE 7\\\", \\\"ADDR_CITY\\\": \\\"FRESNO\\\", \\\"ADDR_STATE\\\": \\\"CA\\\", \\\"ADDR_POSTAL_CODE\\\": \\\"55073-1234\\\"}\";\n",
    "\n",
    "int return_code= g2engine.replaceRecord(\n",
    "                    dataSourceCode, \n",
    "                    recordID, \n",
    "                    jsonData, \n",
    "                    loadID);\n",
    "\n",
    "if(return_code!=0)\n",
    "    System.out.print(g2engine.getLastException());\n",
    "else\n",
    "    System.out.print(return_code)"
   ]
  },
  {
   "cell_type": "markdown",
   "metadata": {},
   "source": [
    "### replaceRecordWithInfo\n",
    "\n",
    "`replaceRecordWithInfo()` is available if you would like to know what\n",
    "resolved entities were modified when replacing a record.\n",
    "It behaves identically to `replaceRecord()`,\n",
    "but also returns a json document containing the IDs of the affected entities.\n",
    "\n",
    "###### Parameters\n",
    "\n",
    "- **dataSourceCode:** (str) The name of the data source the record is associated\n",
    "  with.  This value is configurable to the system.\n",
    "- **recordID:** (str) The record ID, used to identify distinct records\n",
    "- **jsonData:** (str) A JSON document with the attribute data for the record\n",
    "- **loadID:** (str) the observation load ID for the record;\n",
    "  value can be null.\n",
    "- **response:** (StringBuffer) Object to store the output of the method. Can be used to print or store for later."
   ]
  },
  {
   "cell_type": "code",
   "execution_count": 24,
   "metadata": {},
   "outputs": [
    {
     "data": {
      "text/html": [
       "<div id=\"40dbec8f-548a-4353-8689-a260a6a9a330\" style=\"height:100%; width:100%; background-color: LightCyan\"></div>"
      ],
      "text/plain": [
       "<div id=\"40dbec8f-548a-4353-8689-a260a6a9a330\" style=\"height:100%; width:100%; background-color: LightCyan\"></div>"
      ]
     },
     "metadata": {},
     "output_type": "display_data"
    },
    {
     "data": {
      "application/javascript": [
       "require([\"https://rawgit.com/caldwell/renderjson/master/renderjson.js\"], function() {document.getElementById('40dbec8f-548a-4353-8689-a260a6a9a330').appendChild(renderjson({\"DATA_SOURCE\":\"TEST\",\"RECORD_ID\":\"1\",\"AFFECTED_ENTITIES\":[],\"INTERESTING_ENTITIES\":{\"ENTITIES\":[]}}))});"
      ],
      "text/plain": [
       "require([\"https://rawgit.com/caldwell/renderjson/master/renderjson.js\"], function() {document.getElementById('40dbec8f-548a-4353-8689-a260a6a9a330').appendChild(renderjson({\"DATA_SOURCE\":\"TEST\",\"RECORD_ID\":\"1\",\"AFFECTED_ENTITIES\":[],\"INTERESTING_ENTITIES\":{\"ENTITIES\":[]}}))});"
      ]
     },
     "metadata": {},
     "output_type": "display_data"
    }
   ],
   "source": [
    "String jsonData =  \"{\\\"NAME_TYPE\\\": \\\"PRIMARY\\\", \\\"NAME_FIRST\\\": \\\"JANE\\\", \\\"NAME_LAST\\\": \\\"ADAMS\\\", \\\"ADDR_TYPE\\\": \\\"HOME\\\", \\\"ADDR_LINE1\\\": \\\"653 STATE ROUTE 7\\\", \\\"ADDR_CITY\\\": \\\"FRESNO\\\", \\\"ADDR_STATE\\\": \\\"CA\\\", \\\"ADDR_POSTAL_CODE\\\": \\\"55073-1234\\\"}\";\n",
    "\n",
    "StringBuffer response = new StringBuffer();\n",
    "\n",
    "int return_code= g2engine.replaceRecordWithInfo(\n",
    "                            dataSourceCode, \n",
    "                            recordID, \n",
    "                            jsonData, \n",
    "                            loadID, \n",
    "                            flags,\n",
    "                            response);\n",
    "if(return_code!=0)\n",
    "    System.out.print(g2engine.getLastException());\n",
    "else\n",
    "    RenderJSON(response)"
   ]
  },
  {
   "cell_type": "markdown",
   "metadata": {},
   "source": [
    "## Re-evaluate"
   ]
  },
  {
   "cell_type": "markdown",
   "metadata": {},
   "source": [
    "### reevaluateRecord\n",
    "\n",
    "###### Parameters\n",
    "\n",
    "- **dataSourceCode:** (str) The name of the data source the record is associated\n",
    "  with.  This value is configurable to the system.\n",
    "- **recordID:** (str) The record ID, used to identify distinct records"
   ]
  },
  {
   "cell_type": "code",
   "execution_count": 25,
   "metadata": {},
   "outputs": [
    {
     "name": "stdout",
     "output_type": "stream",
     "text": [
      "0"
     ]
    }
   ],
   "source": [
    "String dataSourceCode = dataSourceCode1;\n",
    "String recordID = recordID1;\n",
    "\n",
    "int return_code = g2engine.reevaluateRecord(\n",
    "                            dataSourceCode,\n",
    "                            recordID,\n",
    "                            flags);\n",
    "\n",
    "if(return_code!=0)\n",
    "    System.out.print(g2engine.getLastException());\n",
    "else\n",
    "    System.out.print(return_code);"
   ]
  },
  {
   "cell_type": "markdown",
   "metadata": {},
   "source": [
    "### reevaluateRecordWithInfo\n",
    "\n",
    "###### Parameters\n",
    "\n",
    "- **dataSourceCode:** (str) The name of the data source the record is associated\n",
    "  with.  This value is configurable to the system.\n",
    "- **recordID:** (str) The record ID, used to identify distinct records\n",
    "- **response:** (StringBuffer) Object to store the output of the method. Can be used to print or store for later."
   ]
  },
  {
   "cell_type": "code",
   "execution_count": 26,
   "metadata": {},
   "outputs": [
    {
     "data": {
      "text/html": [
       "<div id=\"6dd70146-3f02-431c-9554-3ffd805c1ef3\" style=\"height:100%; width:100%; background-color: LightCyan\"></div>"
      ],
      "text/plain": [
       "<div id=\"6dd70146-3f02-431c-9554-3ffd805c1ef3\" style=\"height:100%; width:100%; background-color: LightCyan\"></div>"
      ]
     },
     "metadata": {},
     "output_type": "display_data"
    },
    {
     "data": {
      "application/javascript": [
       "require([\"https://rawgit.com/caldwell/renderjson/master/renderjson.js\"], function() {document.getElementById('6dd70146-3f02-431c-9554-3ffd805c1ef3').appendChild(renderjson({\"DATA_SOURCE\":\"TEST\",\"RECORD_ID\":\"1\",\"AFFECTED_ENTITIES\":[{\"ENTITY_ID\":2}],\"INTERESTING_ENTITIES\":{\"ENTITIES\":[]}}))});"
      ],
      "text/plain": [
       "require([\"https://rawgit.com/caldwell/renderjson/master/renderjson.js\"], function() {document.getElementById('6dd70146-3f02-431c-9554-3ffd805c1ef3').appendChild(renderjson({\"DATA_SOURCE\":\"TEST\",\"RECORD_ID\":\"1\",\"AFFECTED_ENTITIES\":[{\"ENTITY_ID\":2}],\"INTERESTING_ENTITIES\":{\"ENTITIES\":[]}}))});"
      ]
     },
     "metadata": {},
     "output_type": "display_data"
    }
   ],
   "source": [
    "StringBuffer response = new StringBuffer();\n",
    "\n",
    "int return_code = g2engine.reevaluateRecordWithInfo(\n",
    "                            dataSourceCode, \n",
    "                            recordID,\n",
    "                            flags,\n",
    "                            response);\n",
    "\n",
    "if(return_code!=0)\n",
    "    System.out.print(g2engine.getLastException());\n",
    "else\n",
    "    RenderJSON(response);"
   ]
  },
  {
   "cell_type": "markdown",
   "metadata": {},
   "source": [
    "### reevaluateEntity\n",
    "\n",
    "- **entityID:** (int) The entity ID for the entity to be analyzed"
   ]
  },
  {
   "cell_type": "markdown",
   "metadata": {},
   "source": [
    "Find an entity"
   ]
  },
  {
   "cell_type": "code",
   "execution_count": 27,
   "metadata": {},
   "outputs": [],
   "source": [
    "String dataSourceCode = dataSourceCode1;\n",
    "String recordID = recordID1;\n",
    "StringBuffer response = new StringBuffer();\n",
    "\n",
    "int return_code = g2engine.getEntityByRecordID(dataSourceCode, recordID, response);\n",
    "                            \n",
    "JsonObject jsonObject = JsonUtil.parseJsonObject(response.toString());\n",
    "long entityID = jsonObject.getJsonObject(\"RESOLVED_ENTITY\").getJsonNumber(\"ENTITY_ID\").longValue();"
   ]
  },
  {
   "cell_type": "markdown",
   "metadata": {},
   "source": [
    "Re-evaluate the entity.\n",
    "\n",
    "###### Parameters\n",
    "\n",
    "- **entityID:** (int) The entity ID for the entity to be analyzed"
   ]
  },
  {
   "cell_type": "code",
   "execution_count": 28,
   "metadata": {},
   "outputs": [
    {
     "name": "stdout",
     "output_type": "stream",
     "text": [
      "0"
     ]
    }
   ],
   "source": [
    "int return_code = g2engine.reevaluateEntity(entityID, flags);\n",
    "\n",
    "if(return_code!=0)\n",
    "    System.out.print(g2engine.getLastException());\n",
    "else\n",
    "    System.out.print(return_code);"
   ]
  },
  {
   "cell_type": "markdown",
   "metadata": {},
   "source": [
    "### reevaluateEntityWithInfo\n",
    "\n",
    "###### Parameters\n",
    "\n",
    "- **entityID:** (int) The entity ID for the entity to be analyzed\n",
    "- **response:** (StringBuffer) Object to store the output of the method. Can be used to print or store for later."
   ]
  },
  {
   "cell_type": "code",
   "execution_count": 29,
   "metadata": {},
   "outputs": [
    {
     "data": {
      "text/html": [
       "<div id=\"e2244f79-5b82-452b-bc9f-50e532ddf573\" style=\"height:100%; width:100%; background-color: LightCyan\"></div>"
      ],
      "text/plain": [
       "<div id=\"e2244f79-5b82-452b-bc9f-50e532ddf573\" style=\"height:100%; width:100%; background-color: LightCyan\"></div>"
      ]
     },
     "metadata": {},
     "output_type": "display_data"
    },
    {
     "data": {
      "application/javascript": [
       "require([\"https://rawgit.com/caldwell/renderjson/master/renderjson.js\"], function() {document.getElementById('e2244f79-5b82-452b-bc9f-50e532ddf573').appendChild(renderjson({\"DATA_SOURCE\":\"TEST\",\"RECORD_ID\":\"1\",\"AFFECTED_ENTITIES\":[{\"ENTITY_ID\":2}],\"INTERESTING_ENTITIES\":{\"ENTITIES\":[]}}))});"
      ],
      "text/plain": [
       "require([\"https://rawgit.com/caldwell/renderjson/master/renderjson.js\"], function() {document.getElementById('e2244f79-5b82-452b-bc9f-50e532ddf573').appendChild(renderjson({\"DATA_SOURCE\":\"TEST\",\"RECORD_ID\":\"1\",\"AFFECTED_ENTITIES\":[{\"ENTITY_ID\":2}],\"INTERESTING_ENTITIES\":{\"ENTITIES\":[]}}))});"
      ]
     },
     "metadata": {},
     "output_type": "display_data"
    }
   ],
   "source": [
    "StringBuffer response = new StringBuffer();\n",
    "\n",
    "return_code = g2engine.reevaluateEntityWithInfo(entityID, flags, response);\n",
    "\n",
    "if(return_code!=0)\n",
    "    System.out.print(return_code);\n",
    "else\n",
    "    RenderJSON(response);"
   ]
  },
  {
   "cell_type": "markdown",
   "metadata": {},
   "source": [
    "## Redo Processing\n",
    "\n",
    "Redo records are automatically created by Senzing when certain conditions\n",
    "occur where it believes more processing may be needed.\n",
    "Some examples:\n",
    "\n",
    "- A value becomes generic and previous decisions may need to be revisited\n",
    "- Clean up after some record deletes\n",
    "- Detected related entities were being changed at the same time\n",
    "- A table inconsistency exists, potentially after a non-graceful shutdown\n",
    "\n",
    "First we will need to have a total of 6 data sources so let's add 5 more."
   ]
  },
  {
   "cell_type": "markdown",
   "metadata": {},
   "source": [
    "Create Record and Entity for redo"
   ]
  },
  {
   "cell_type": "code",
   "execution_count": 30,
   "metadata": {},
   "outputs": [],
   "source": [
    "String jsonData =  \"{\\\"NAME_TYPE\\\": \\\"PRIMARY\\\", \\\"NAME_FIRST\\\": \\\"Lily\\\", \\\"NAME_LAST\\\": \\\"Owens\\\", \\\"SSN_NUMBER\\\": \\\"111-11-1111\\\"}\";\n",
    "\n",
    "String dataSourceCode = dataSourceCode4;\n",
    "String recordID = recordID4;\n",
    "int return_code= g2engine.addRecord(\n",
    "                    dataSourceCode, \n",
    "                    recordID, \n",
    "                    jsonData, \n",
    "                    loadID);\n",
    "\n",
    "if(return_code!=0)\n",
    "    System.out.print(g2engine.getLastException());"
   ]
  },
  {
   "cell_type": "code",
   "execution_count": 31,
   "metadata": {},
   "outputs": [
    {
     "name": "stdout",
     "output_type": "stream",
     "text": [
      "Entity ID: 3\n"
     ]
    },
    {
     "data": {
      "text/html": [
       "<div id=\"0b01d034-cf2e-4d7a-a5ab-1d7155b4ee30\" style=\"height:100%; width:100%; background-color: LightCyan\"></div>"
      ],
      "text/plain": [
       "<div id=\"0b01d034-cf2e-4d7a-a5ab-1d7155b4ee30\" style=\"height:100%; width:100%; background-color: LightCyan\"></div>"
      ]
     },
     "metadata": {},
     "output_type": "display_data"
    },
    {
     "data": {
      "application/javascript": [
       "require([\"https://rawgit.com/caldwell/renderjson/master/renderjson.js\"], function() {document.getElementById('0b01d034-cf2e-4d7a-a5ab-1d7155b4ee30').appendChild(renderjson({\"RESOLVED_ENTITY\":{\"ENTITY_ID\":3,\"ENTITY_NAME\":\"Lily Owens\",\"FEATURES\":{\"NAME\":[{\"FEAT_DESC\":\"Lily Owens\",\"LIB_FEAT_ID\":15,\"USAGE_TYPE\":\"PRIMARY\",\"FEAT_DESC_VALUES\":[{\"FEAT_DESC\":\"Lily Owens\",\"LIB_FEAT_ID\":15}]}],\"SSN\":[{\"FEAT_DESC\":\"111-11-1111\",\"LIB_FEAT_ID\":3,\"FEAT_DESC_VALUES\":[{\"FEAT_DESC\":\"111-11-1111\",\"LIB_FEAT_ID\":3}]}]},\"RECORD_SUMMARY\":[{\"DATA_SOURCE\":\"TEST\",\"RECORD_COUNT\":1,\"FIRST_SEEN_DT\":\"2022-11-05 16:17:54.941\",\"LAST_SEEN_DT\":\"2022-11-05 16:17:54.941\"}],\"LAST_SEEN_DT\":\"2022-11-05 16:17:54.941\",\"RECORDS\":[{\"DATA_SOURCE\":\"TEST\",\"RECORD_ID\":\"4\",\"ENTITY_TYPE\":\"GENERIC\",\"INTERNAL_ID\":3,\"ENTITY_KEY\":\"C1F081BB9C9EDA71A73873FAF39774DF802A3B9F\",\"ENTITY_DESC\":\"Lily Owens\",\"MATCH_KEY\":\"\",\"MATCH_LEVEL\":0,\"MATCH_LEVEL_CODE\":\"\",\"ERRULE_CODE\":\"\",\"LAST_SEEN_DT\":\"2022-11-05 16:17:54.941\"}]},\"RELATED_ENTITIES\":[]}))});"
      ],
      "text/plain": [
       "require([\"https://rawgit.com/caldwell/renderjson/master/renderjson.js\"], function() {document.getElementById('0b01d034-cf2e-4d7a-a5ab-1d7155b4ee30').appendChild(renderjson({\"RESOLVED_ENTITY\":{\"ENTITY_ID\":3,\"ENTITY_NAME\":\"Lily Owens\",\"FEATURES\":{\"NAME\":[{\"FEAT_DESC\":\"Lily Owens\",\"LIB_FEAT_ID\":15,\"USAGE_TYPE\":\"PRIMARY\",\"FEAT_DESC_VALUES\":[{\"FEAT_DESC\":\"Lily Owens\",\"LIB_FEAT_ID\":15}]}],\"SSN\":[{\"FEAT_DESC\":\"111-11-1111\",\"LIB_FEAT_ID\":3,\"FEAT_DESC_VALUES\":[{\"FEAT_DESC\":\"111-11-1111\",\"LIB_FEAT_ID\":3}]}]},\"RECORD_SUMMARY\":[{\"DATA_SOURCE\":\"TEST\",\"RECORD_COUNT\":1,\"FIRST_SEEN_DT\":\"2022-11-05 16:17:54.941\",\"LAST_SEEN_DT\":\"2022-11-05 16:17:54.941\"}],\"LAST_SEEN_DT\":\"2022-11-05 16:17:54.941\",\"RECORDS\":[{\"DATA_SOURCE\":\"TEST\",\"RECORD_ID\":\"4\",\"ENTITY_TYPE\":\"GENERIC\",\"INTERNAL_ID\":3,\"ENTITY_KEY\":\"C1F081BB9C9EDA71A73873FAF39774DF802A3B9F\",\"ENTITY_DESC\":\"Lily Owens\",\"MATCH_KEY\":\"\",\"MATCH_LEVEL\":0,\"MATCH_LEVEL_CODE\":\"\",\"ERRULE_CODE\":\"\",\"LAST_SEEN_DT\":\"2022-11-05 16:17:54.941\"}]},\"RELATED_ENTITIES\":[]}))});"
      ]
     },
     "metadata": {},
     "output_type": "display_data"
    }
   ],
   "source": [
    "StringBuffer response = new StringBuffer();\n",
    "\n",
    "int return_code = g2engine.getEntityByRecordID(dataSourceCode, recordID, response);\n",
    "                            \n",
    "JsonObject jsonObject = JsonUtil.parseJsonObject(response.toString());\n",
    "long entityID6 = jsonObject.getJsonObject(\"RESOLVED_ENTITY\").getJsonNumber(\"ENTITY_ID\").longValue();\n",
    "System.out.println(\"Entity ID: \" + entityID6);\n",
    "\n",
    "if(return_code!=0)\n",
    "    System.out.print(g2engine.getLastException());\n",
    "else\n",
    "    RenderJSON(response);"
   ]
  },
  {
   "cell_type": "markdown",
   "metadata": {},
   "source": [
    "Create another Record and Entity"
   ]
  },
  {
   "cell_type": "code",
   "execution_count": 32,
   "metadata": {},
   "outputs": [],
   "source": [
    "String jsonData =  \"{\\\"NAME_TYPE\\\": \\\"PRIMARY\\\", \\\"NAME_FIRST\\\": \\\"August\\\", \\\"NAME_LAST\\\": \\\"Bauler\\\", \\\"NAME_MIDDLE\\\": \\\"E\\\", \\\"SSN_NUMBER\\\": \\\"111-11-1111\\\"}\";\n",
    "\n",
    "String dataSourceCode = dataSourceCode5;\n",
    "String recordID = recordID5;\n",
    "int return_code= g2engine.addRecord(\n",
    "                    dataSourceCode, \n",
    "                    recordID, \n",
    "                    jsonData, \n",
    "                    loadID);\n",
    "\n",
    "if(return_code!=0)\n",
    "    System.out.print(g2engine.getLastException());"
   ]
  },
  {
   "cell_type": "code",
   "execution_count": 33,
   "metadata": {},
   "outputs": [
    {
     "name": "stdout",
     "output_type": "stream",
     "text": [
      "4\n"
     ]
    },
    {
     "data": {
      "text/html": [
       "<div id=\"f65df011-2f44-4544-a976-0c344b19978b\" style=\"height:100%; width:100%; background-color: LightCyan\"></div>"
      ],
      "text/plain": [
       "<div id=\"f65df011-2f44-4544-a976-0c344b19978b\" style=\"height:100%; width:100%; background-color: LightCyan\"></div>"
      ]
     },
     "metadata": {},
     "output_type": "display_data"
    },
    {
     "data": {
      "application/javascript": [
       "require([\"https://rawgit.com/caldwell/renderjson/master/renderjson.js\"], function() {document.getElementById('f65df011-2f44-4544-a976-0c344b19978b').appendChild(renderjson({\"RESOLVED_ENTITY\":{\"ENTITY_ID\":4,\"ENTITY_NAME\":\"August E Bauler\",\"FEATURES\":{\"NAME\":[{\"FEAT_DESC\":\"August E Bauler\",\"LIB_FEAT_ID\":18,\"USAGE_TYPE\":\"PRIMARY\",\"FEAT_DESC_VALUES\":[{\"FEAT_DESC\":\"August E Bauler\",\"LIB_FEAT_ID\":18}]}],\"SSN\":[{\"FEAT_DESC\":\"111-11-1111\",\"LIB_FEAT_ID\":3,\"FEAT_DESC_VALUES\":[{\"FEAT_DESC\":\"111-11-1111\",\"LIB_FEAT_ID\":3}]}]},\"RECORD_SUMMARY\":[{\"DATA_SOURCE\":\"TEST\",\"RECORD_COUNT\":1,\"FIRST_SEEN_DT\":\"2022-11-05 16:17:57.036\",\"LAST_SEEN_DT\":\"2022-11-05 16:17:57.036\"}],\"LAST_SEEN_DT\":\"2022-11-05 16:17:57.036\",\"RECORDS\":[{\"DATA_SOURCE\":\"TEST\",\"RECORD_ID\":\"5\",\"ENTITY_TYPE\":\"GENERIC\",\"INTERNAL_ID\":4,\"ENTITY_KEY\":\"C9CD56EAFDE58BFE828693F3AE3A0B6BE234599E\",\"ENTITY_DESC\":\"August E Bauler\",\"MATCH_KEY\":\"\",\"MATCH_LEVEL\":0,\"MATCH_LEVEL_CODE\":\"\",\"ERRULE_CODE\":\"\",\"LAST_SEEN_DT\":\"2022-11-05 16:17:57.036\"}]},\"RELATED_ENTITIES\":[]}))});"
      ],
      "text/plain": [
       "require([\"https://rawgit.com/caldwell/renderjson/master/renderjson.js\"], function() {document.getElementById('f65df011-2f44-4544-a976-0c344b19978b').appendChild(renderjson({\"RESOLVED_ENTITY\":{\"ENTITY_ID\":4,\"ENTITY_NAME\":\"August E Bauler\",\"FEATURES\":{\"NAME\":[{\"FEAT_DESC\":\"August E Bauler\",\"LIB_FEAT_ID\":18,\"USAGE_TYPE\":\"PRIMARY\",\"FEAT_DESC_VALUES\":[{\"FEAT_DESC\":\"August E Bauler\",\"LIB_FEAT_ID\":18}]}],\"SSN\":[{\"FEAT_DESC\":\"111-11-1111\",\"LIB_FEAT_ID\":3,\"FEAT_DESC_VALUES\":[{\"FEAT_DESC\":\"111-11-1111\",\"LIB_FEAT_ID\":3}]}]},\"RECORD_SUMMARY\":[{\"DATA_SOURCE\":\"TEST\",\"RECORD_COUNT\":1,\"FIRST_SEEN_DT\":\"2022-11-05 16:17:57.036\",\"LAST_SEEN_DT\":\"2022-11-05 16:17:57.036\"}],\"LAST_SEEN_DT\":\"2022-11-05 16:17:57.036\",\"RECORDS\":[{\"DATA_SOURCE\":\"TEST\",\"RECORD_ID\":\"5\",\"ENTITY_TYPE\":\"GENERIC\",\"INTERNAL_ID\":4,\"ENTITY_KEY\":\"C9CD56EAFDE58BFE828693F3AE3A0B6BE234599E\",\"ENTITY_DESC\":\"August E Bauler\",\"MATCH_KEY\":\"\",\"MATCH_LEVEL\":0,\"MATCH_LEVEL_CODE\":\"\",\"ERRULE_CODE\":\"\",\"LAST_SEEN_DT\":\"2022-11-05 16:17:57.036\"}]},\"RELATED_ENTITIES\":[]}))});"
      ]
     },
     "metadata": {},
     "output_type": "display_data"
    }
   ],
   "source": [
    "StringBuffer response = new StringBuffer();\n",
    "\n",
    "int return_code = g2engine.getEntityByRecordID(dataSourceCode, recordID, response);\n",
    "                            \n",
    "JsonObject jsonObject = JsonUtil.parseJsonObject(response.toString());\n",
    "long entityID7 = jsonObject.getJsonObject(\"RESOLVED_ENTITY\").getJsonNumber(\"ENTITY_ID\").longValue();\n",
    "System.out.println(entityID7);\n",
    "\n",
    "if(return_code!=0)\n",
    "    System.out.print(g2engine.getLastException());\n",
    "else\n",
    "    RenderJSON(response);"
   ]
  },
  {
   "cell_type": "markdown",
   "metadata": {},
   "source": [
    "Create another Record and Entity"
   ]
  },
  {
   "cell_type": "code",
   "execution_count": 34,
   "metadata": {},
   "outputs": [],
   "source": [
    "String jsonData =  \"{\\\"NAME_TYPE\\\": \\\"PRIMARY\\\", \\\"NAME_FIRST\\\": \\\"Brian\\\", \\\"NAME_LAST\\\": \\\"Barcy\\\", \\\"NAME_MIDDLE\\\": \\\"H\\\", \\\"SSN_NUMBER\\\": \\\"111-11-1111\\\"}\";\n",
    "\n",
    "String dataSourceCode = dataSourceCode6;\n",
    "String recordID = recordID6;\n",
    "int return_code= g2engine.addRecord(\n",
    "                    dataSourceCode, \n",
    "                    recordID, \n",
    "                    jsonData, \n",
    "                    loadID);\n",
    "\n",
    "if(return_code!=0)\n",
    "    System.out.print(g2engine.getLastException());"
   ]
  },
  {
   "cell_type": "code",
   "execution_count": 35,
   "metadata": {},
   "outputs": [
    {
     "name": "stdout",
     "output_type": "stream",
     "text": [
      "5\n"
     ]
    },
    {
     "data": {
      "text/html": [
       "<div id=\"c6171af1-e3de-4b1a-8500-50a8ecc95752\" style=\"height:100%; width:100%; background-color: LightCyan\"></div>"
      ],
      "text/plain": [
       "<div id=\"c6171af1-e3de-4b1a-8500-50a8ecc95752\" style=\"height:100%; width:100%; background-color: LightCyan\"></div>"
      ]
     },
     "metadata": {},
     "output_type": "display_data"
    },
    {
     "data": {
      "application/javascript": [
       "require([\"https://rawgit.com/caldwell/renderjson/master/renderjson.js\"], function() {document.getElementById('c6171af1-e3de-4b1a-8500-50a8ecc95752').appendChild(renderjson({\"RESOLVED_ENTITY\":{\"ENTITY_ID\":5,\"ENTITY_NAME\":\"Brian H Barcy\",\"FEATURES\":{\"NAME\":[{\"FEAT_DESC\":\"Brian H Barcy\",\"LIB_FEAT_ID\":23,\"USAGE_TYPE\":\"PRIMARY\",\"FEAT_DESC_VALUES\":[{\"FEAT_DESC\":\"Brian H Barcy\",\"LIB_FEAT_ID\":23}]}],\"SSN\":[{\"FEAT_DESC\":\"111-11-1111\",\"LIB_FEAT_ID\":3,\"FEAT_DESC_VALUES\":[{\"FEAT_DESC\":\"111-11-1111\",\"LIB_FEAT_ID\":3}]}]},\"RECORD_SUMMARY\":[{\"DATA_SOURCE\":\"TEST\",\"RECORD_COUNT\":1,\"FIRST_SEEN_DT\":\"2022-11-05 16:17:58.506\",\"LAST_SEEN_DT\":\"2022-11-05 16:17:58.506\"}],\"LAST_SEEN_DT\":\"2022-11-05 16:17:58.506\",\"RECORDS\":[{\"DATA_SOURCE\":\"TEST\",\"RECORD_ID\":\"6\",\"ENTITY_TYPE\":\"GENERIC\",\"INTERNAL_ID\":5,\"ENTITY_KEY\":\"483377E67EF630768293483D48E2073804096612\",\"ENTITY_DESC\":\"Brian H Barcy\",\"MATCH_KEY\":\"\",\"MATCH_LEVEL\":0,\"MATCH_LEVEL_CODE\":\"\",\"ERRULE_CODE\":\"\",\"LAST_SEEN_DT\":\"2022-11-05 16:17:58.506\"}]},\"RELATED_ENTITIES\":[]}))});"
      ],
      "text/plain": [
       "require([\"https://rawgit.com/caldwell/renderjson/master/renderjson.js\"], function() {document.getElementById('c6171af1-e3de-4b1a-8500-50a8ecc95752').appendChild(renderjson({\"RESOLVED_ENTITY\":{\"ENTITY_ID\":5,\"ENTITY_NAME\":\"Brian H Barcy\",\"FEATURES\":{\"NAME\":[{\"FEAT_DESC\":\"Brian H Barcy\",\"LIB_FEAT_ID\":23,\"USAGE_TYPE\":\"PRIMARY\",\"FEAT_DESC_VALUES\":[{\"FEAT_DESC\":\"Brian H Barcy\",\"LIB_FEAT_ID\":23}]}],\"SSN\":[{\"FEAT_DESC\":\"111-11-1111\",\"LIB_FEAT_ID\":3,\"FEAT_DESC_VALUES\":[{\"FEAT_DESC\":\"111-11-1111\",\"LIB_FEAT_ID\":3}]}]},\"RECORD_SUMMARY\":[{\"DATA_SOURCE\":\"TEST\",\"RECORD_COUNT\":1,\"FIRST_SEEN_DT\":\"2022-11-05 16:17:58.506\",\"LAST_SEEN_DT\":\"2022-11-05 16:17:58.506\"}],\"LAST_SEEN_DT\":\"2022-11-05 16:17:58.506\",\"RECORDS\":[{\"DATA_SOURCE\":\"TEST\",\"RECORD_ID\":\"6\",\"ENTITY_TYPE\":\"GENERIC\",\"INTERNAL_ID\":5,\"ENTITY_KEY\":\"483377E67EF630768293483D48E2073804096612\",\"ENTITY_DESC\":\"Brian H Barcy\",\"MATCH_KEY\":\"\",\"MATCH_LEVEL\":0,\"MATCH_LEVEL_CODE\":\"\",\"ERRULE_CODE\":\"\",\"LAST_SEEN_DT\":\"2022-11-05 16:17:58.506\"}]},\"RELATED_ENTITIES\":[]}))});"
      ]
     },
     "metadata": {},
     "output_type": "display_data"
    }
   ],
   "source": [
    "StringBuffer response = new StringBuffer();\n",
    "\n",
    "int return_code = g2engine.getEntityByRecordID(dataSourceCode, recordID, response);\n",
    "                            \n",
    "JsonObject jsonObject = JsonUtil.parseJsonObject(response.toString());\n",
    "long entityID8 = jsonObject.getJsonObject(\"RESOLVED_ENTITY\").getJsonNumber(\"ENTITY_ID\").longValue();\n",
    "System.out.println(entityID8);\n",
    "\n",
    "if(return_code!=0)\n",
    "    System.out.print(g2engine.getLastException());\n",
    "else\n",
    "    RenderJSON(response);"
   ]
  },
  {
   "cell_type": "markdown",
   "metadata": {},
   "source": [
    "Create another Record and Entity"
   ]
  },
  {
   "cell_type": "code",
   "execution_count": 36,
   "metadata": {},
   "outputs": [],
   "source": [
    "String jsonData =  \"{\\\"NAME_TYPE\\\": \\\"PRIMARY\\\", \\\"NAME_FIRST\\\": \\\"Jack\\\", \\\"NAME_LAST\\\": \\\"Miller\\\", \\\"NAME_MIDDLE\\\": \\\"H\\\", \\\"SSN_NUMBER\\\": \\\"111-11-1111\\\"}\";\n",
    "\n",
    "String dataSourceCode = dataSourceCode7;\n",
    "String recordID = recordID7;\n",
    "int return_code= g2engine.addRecord(\n",
    "                    dataSourceCode, \n",
    "                    recordID, \n",
    "                    jsonData, \n",
    "                    loadID);\n",
    "\n",
    "if(return_code!=0)\n",
    "    System.out.print(g2engine.getLastException());"
   ]
  },
  {
   "cell_type": "code",
   "execution_count": 37,
   "metadata": {},
   "outputs": [
    {
     "name": "stdout",
     "output_type": "stream",
     "text": [
      "6\n"
     ]
    },
    {
     "data": {
      "text/html": [
       "<div id=\"a8b551a5-eaf2-4c23-8e45-f62535047184\" style=\"height:100%; width:100%; background-color: LightCyan\"></div>"
      ],
      "text/plain": [
       "<div id=\"a8b551a5-eaf2-4c23-8e45-f62535047184\" style=\"height:100%; width:100%; background-color: LightCyan\"></div>"
      ]
     },
     "metadata": {},
     "output_type": "display_data"
    },
    {
     "data": {
      "application/javascript": [
       "require([\"https://rawgit.com/caldwell/renderjson/master/renderjson.js\"], function() {document.getElementById('a8b551a5-eaf2-4c23-8e45-f62535047184').appendChild(renderjson({\"RESOLVED_ENTITY\":{\"ENTITY_ID\":6,\"ENTITY_NAME\":\"Jack H Miller\",\"FEATURES\":{\"NAME\":[{\"FEAT_DESC\":\"Jack H Miller\",\"LIB_FEAT_ID\":28,\"USAGE_TYPE\":\"PRIMARY\",\"FEAT_DESC_VALUES\":[{\"FEAT_DESC\":\"Jack H Miller\",\"LIB_FEAT_ID\":28}]}],\"SSN\":[{\"FEAT_DESC\":\"111-11-1111\",\"LIB_FEAT_ID\":3,\"FEAT_DESC_VALUES\":[{\"FEAT_DESC\":\"111-11-1111\",\"LIB_FEAT_ID\":3}]}]},\"RECORD_SUMMARY\":[{\"DATA_SOURCE\":\"TEST\",\"RECORD_COUNT\":1,\"FIRST_SEEN_DT\":\"2022-11-05 16:18:00.063\",\"LAST_SEEN_DT\":\"2022-11-05 16:18:00.063\"}],\"LAST_SEEN_DT\":\"2022-11-05 16:18:00.063\",\"RECORDS\":[{\"DATA_SOURCE\":\"TEST\",\"RECORD_ID\":\"7\",\"ENTITY_TYPE\":\"GENERIC\",\"INTERNAL_ID\":6,\"ENTITY_KEY\":\"F5F3629B1E3A8AFCA29A54E4F6E636CBF3DEE4BC\",\"ENTITY_DESC\":\"Jack H Miller\",\"MATCH_KEY\":\"\",\"MATCH_LEVEL\":0,\"MATCH_LEVEL_CODE\":\"\",\"ERRULE_CODE\":\"\",\"LAST_SEEN_DT\":\"2022-11-05 16:18:00.063\"}]},\"RELATED_ENTITIES\":[]}))});"
      ],
      "text/plain": [
       "require([\"https://rawgit.com/caldwell/renderjson/master/renderjson.js\"], function() {document.getElementById('a8b551a5-eaf2-4c23-8e45-f62535047184').appendChild(renderjson({\"RESOLVED_ENTITY\":{\"ENTITY_ID\":6,\"ENTITY_NAME\":\"Jack H Miller\",\"FEATURES\":{\"NAME\":[{\"FEAT_DESC\":\"Jack H Miller\",\"LIB_FEAT_ID\":28,\"USAGE_TYPE\":\"PRIMARY\",\"FEAT_DESC_VALUES\":[{\"FEAT_DESC\":\"Jack H Miller\",\"LIB_FEAT_ID\":28}]}],\"SSN\":[{\"FEAT_DESC\":\"111-11-1111\",\"LIB_FEAT_ID\":3,\"FEAT_DESC_VALUES\":[{\"FEAT_DESC\":\"111-11-1111\",\"LIB_FEAT_ID\":3}]}]},\"RECORD_SUMMARY\":[{\"DATA_SOURCE\":\"TEST\",\"RECORD_COUNT\":1,\"FIRST_SEEN_DT\":\"2022-11-05 16:18:00.063\",\"LAST_SEEN_DT\":\"2022-11-05 16:18:00.063\"}],\"LAST_SEEN_DT\":\"2022-11-05 16:18:00.063\",\"RECORDS\":[{\"DATA_SOURCE\":\"TEST\",\"RECORD_ID\":\"7\",\"ENTITY_TYPE\":\"GENERIC\",\"INTERNAL_ID\":6,\"ENTITY_KEY\":\"F5F3629B1E3A8AFCA29A54E4F6E636CBF3DEE4BC\",\"ENTITY_DESC\":\"Jack H Miller\",\"MATCH_KEY\":\"\",\"MATCH_LEVEL\":0,\"MATCH_LEVEL_CODE\":\"\",\"ERRULE_CODE\":\"\",\"LAST_SEEN_DT\":\"2022-11-05 16:18:00.063\"}]},\"RELATED_ENTITIES\":[]}))});"
      ]
     },
     "metadata": {},
     "output_type": "display_data"
    }
   ],
   "source": [
    "StringBuffer response = new StringBuffer();\n",
    "\n",
    "int return_code = g2engine.getEntityByRecordID(dataSourceCode, recordID, response);\n",
    "                            \n",
    "JsonObject jsonObject = JsonUtil.parseJsonObject(response.toString());\n",
    "long entityID9 = jsonObject.getJsonObject(\"RESOLVED_ENTITY\").getJsonNumber(\"ENTITY_ID\").longValue();\n",
    "System.out.println(entityID9);\n",
    "\n",
    "if(return_code!=0)\n",
    "    System.out.print(g2engine.getLastException());\n",
    "else\n",
    "    RenderJSON(response);"
   ]
  },
  {
   "cell_type": "markdown",
   "metadata": {},
   "source": [
    "Create another Record and Entity"
   ]
  },
  {
   "cell_type": "code",
   "execution_count": 38,
   "metadata": {},
   "outputs": [],
   "source": [
    "String jsonData =  \"{\\\"NAME_TYPE\\\": \\\"PRIMARY\\\", \\\"NAME_FIRST\\\": \\\"Madelyn\\\", \\\"NAME_LAST\\\": \\\"Caryn\\\", \\\"SSN_NUMBER\\\": \\\"111-11-1111\\\"}\";\n",
    "\n",
    "String dataSourceCode = dataSourceCode8;\n",
    "String recordID = recordID8;\n",
    "int return_code= g2engine.addRecord(\n",
    "                    dataSourceCode, \n",
    "                    recordID, \n",
    "                    jsonData, \n",
    "                    loadID);\n",
    "\n",
    "if(return_code!=0)\n",
    "    System.out.print(g2engine.getLastException());"
   ]
  },
  {
   "cell_type": "code",
   "execution_count": 39,
   "metadata": {
    "scrolled": true
   },
   "outputs": [
    {
     "name": "stdout",
     "output_type": "stream",
     "text": [
      "7\n"
     ]
    },
    {
     "data": {
      "text/html": [
       "<div id=\"91d96c62-da4d-4ddd-a3e6-a2a07228b283\" style=\"height:100%; width:100%; background-color: LightCyan\"></div>"
      ],
      "text/plain": [
       "<div id=\"91d96c62-da4d-4ddd-a3e6-a2a07228b283\" style=\"height:100%; width:100%; background-color: LightCyan\"></div>"
      ]
     },
     "metadata": {},
     "output_type": "display_data"
    },
    {
     "data": {
      "application/javascript": [
       "require([\"https://rawgit.com/caldwell/renderjson/master/renderjson.js\"], function() {document.getElementById('91d96c62-da4d-4ddd-a3e6-a2a07228b283').appendChild(renderjson({\"RESOLVED_ENTITY\":{\"ENTITY_ID\":7,\"ENTITY_NAME\":\"Madelyn Caryn\",\"FEATURES\":{\"NAME\":[{\"FEAT_DESC\":\"Madelyn Caryn\",\"LIB_FEAT_ID\":33,\"USAGE_TYPE\":\"PRIMARY\",\"FEAT_DESC_VALUES\":[{\"FEAT_DESC\":\"Madelyn Caryn\",\"LIB_FEAT_ID\":33}]}],\"SSN\":[{\"FEAT_DESC\":\"111-11-1111\",\"LIB_FEAT_ID\":3,\"FEAT_DESC_VALUES\":[{\"FEAT_DESC\":\"111-11-1111\",\"LIB_FEAT_ID\":3}]}]},\"RECORD_SUMMARY\":[{\"DATA_SOURCE\":\"TEST\",\"RECORD_COUNT\":1,\"FIRST_SEEN_DT\":\"2022-11-05 16:18:01.451\",\"LAST_SEEN_DT\":\"2022-11-05 16:18:01.451\"}],\"LAST_SEEN_DT\":\"2022-11-05 16:18:01.451\",\"RECORDS\":[{\"DATA_SOURCE\":\"TEST\",\"RECORD_ID\":\"8\",\"ENTITY_TYPE\":\"GENERIC\",\"INTERNAL_ID\":7,\"ENTITY_KEY\":\"ED809E0DCED3B9F3A411B5FABF62E2D866DBE02F\",\"ENTITY_DESC\":\"Madelyn Caryn\",\"MATCH_KEY\":\"\",\"MATCH_LEVEL\":0,\"MATCH_LEVEL_CODE\":\"\",\"ERRULE_CODE\":\"\",\"LAST_SEEN_DT\":\"2022-11-05 16:18:01.451\"}]},\"RELATED_ENTITIES\":[]}))});"
      ],
      "text/plain": [
       "require([\"https://rawgit.com/caldwell/renderjson/master/renderjson.js\"], function() {document.getElementById('91d96c62-da4d-4ddd-a3e6-a2a07228b283').appendChild(renderjson({\"RESOLVED_ENTITY\":{\"ENTITY_ID\":7,\"ENTITY_NAME\":\"Madelyn Caryn\",\"FEATURES\":{\"NAME\":[{\"FEAT_DESC\":\"Madelyn Caryn\",\"LIB_FEAT_ID\":33,\"USAGE_TYPE\":\"PRIMARY\",\"FEAT_DESC_VALUES\":[{\"FEAT_DESC\":\"Madelyn Caryn\",\"LIB_FEAT_ID\":33}]}],\"SSN\":[{\"FEAT_DESC\":\"111-11-1111\",\"LIB_FEAT_ID\":3,\"FEAT_DESC_VALUES\":[{\"FEAT_DESC\":\"111-11-1111\",\"LIB_FEAT_ID\":3}]}]},\"RECORD_SUMMARY\":[{\"DATA_SOURCE\":\"TEST\",\"RECORD_COUNT\":1,\"FIRST_SEEN_DT\":\"2022-11-05 16:18:01.451\",\"LAST_SEEN_DT\":\"2022-11-05 16:18:01.451\"}],\"LAST_SEEN_DT\":\"2022-11-05 16:18:01.451\",\"RECORDS\":[{\"DATA_SOURCE\":\"TEST\",\"RECORD_ID\":\"8\",\"ENTITY_TYPE\":\"GENERIC\",\"INTERNAL_ID\":7,\"ENTITY_KEY\":\"ED809E0DCED3B9F3A411B5FABF62E2D866DBE02F\",\"ENTITY_DESC\":\"Madelyn Caryn\",\"MATCH_KEY\":\"\",\"MATCH_LEVEL\":0,\"MATCH_LEVEL_CODE\":\"\",\"ERRULE_CODE\":\"\",\"LAST_SEEN_DT\":\"2022-11-05 16:18:01.451\"}]},\"RELATED_ENTITIES\":[]}))});"
      ]
     },
     "metadata": {},
     "output_type": "display_data"
    }
   ],
   "source": [
    "StringBuffer response = new StringBuffer();\n",
    "\n",
    "int return_code = g2engine.getEntityByRecordID(dataSourceCode, recordID, response);\n",
    "                            \n",
    "JsonObject jsonObject = JsonUtil.parseJsonObject(response.toString());\n",
    "long entityID10 = jsonObject.getJsonObject(\"RESOLVED_ENTITY\").getJsonNumber(\"ENTITY_ID\").longValue();\n",
    "System.out.println(entityID10);\n",
    "\n",
    "if(return_code!=0)\n",
    "    System.out.print(g2engine.getLastException());\n",
    "else\n",
    "    RenderJSON(response);"
   ]
  },
  {
   "cell_type": "markdown",
   "metadata": {},
   "source": [
    "### countRedoRecords\n",
    "\n",
    "Once the Senzing engine is initialized, use `countRedoRecords()`\n",
    "to return the remaining internally queued maintenance records in the\n",
    "Senzing repository.\n",
    "`countRedoRecords()` takes no arguments and returns <0 for errors."
   ]
  },
  {
   "cell_type": "code",
   "execution_count": 40,
   "metadata": {},
   "outputs": [
    {
     "name": "stdout",
     "output_type": "stream",
     "text": [
      "5"
     ]
    }
   ],
   "source": [
    "long return_code = g2engine.countRedoRecords();\n",
    "System.out.print(return_code);"
   ]
  },
  {
   "cell_type": "markdown",
   "metadata": {},
   "source": [
    "### getRedoRecord\n",
    "\n",
    "Once the Senzing engine is initialized, \n",
    "use `getRedoRecord()` to retrieve the next internally queued maintenance\n",
    "record into the Senzing repository\n",
    "-- `getRedoRecord()` can be called as many times as desired and from multiple\n",
    "threads at the same time but all threads are required to be in the same\n",
    "process.\n",
    "`getRedoRecord()` should not be called from multiple processes.\n",
    "Unlike `processRedoRecord()`, `getRedoRecord()` does not actually process the\n",
    "record.\n",
    "To process the record, you would use the G2Engine `process()` function.\n",
    "The `getRedoRecord()` function returns \"0\" upon success and an empty response\n",
    "if there is nothing to do.\n",
    "\n",
    "###### Parameters\n",
    "\n",
    "- **response:** (StringBuffer) Object to store the output of the method. Can be used to print or store for later."
   ]
  },
  {
   "cell_type": "code",
   "execution_count": 41,
   "metadata": {},
   "outputs": [
    {
     "data": {
      "text/html": [
       "<div id=\"4e195dfe-5eea-4142-9178-7eaaff6e25e8\" style=\"height:100%; width:100%; background-color: LightCyan\"></div>"
      ],
      "text/plain": [
       "<div id=\"4e195dfe-5eea-4142-9178-7eaaff6e25e8\" style=\"height:100%; width:100%; background-color: LightCyan\"></div>"
      ]
     },
     "metadata": {},
     "output_type": "display_data"
    },
    {
     "data": {
      "application/javascript": [
       "require([\"https://rawgit.com/caldwell/renderjson/master/renderjson.js\"], function() {document.getElementById('4e195dfe-5eea-4142-9178-7eaaff6e25e8').appendChild(renderjson({\"REASON\":\"LIB_FEAT_ID[10] of FTYPE_ID[20] went generic for CANDIDATES ECLASS_ID[1] in LENS_ID[1]\",\"DATA_SOURCE\":\"TEST\",\"RECORD_ID\":\"4\",\"ENTITY_TYPE\":\"GENERIC\",\"DSRC_ACTION\":\"X\"}))});"
      ],
      "text/plain": [
       "require([\"https://rawgit.com/caldwell/renderjson/master/renderjson.js\"], function() {document.getElementById('4e195dfe-5eea-4142-9178-7eaaff6e25e8').appendChild(renderjson({\"REASON\":\"LIB_FEAT_ID[10] of FTYPE_ID[20] went generic for CANDIDATES ECLASS_ID[1] in LENS_ID[1]\",\"DATA_SOURCE\":\"TEST\",\"RECORD_ID\":\"4\",\"ENTITY_TYPE\":\"GENERIC\",\"DSRC_ACTION\":\"X\"}))});"
      ]
     },
     "metadata": {},
     "output_type": "display_data"
    }
   ],
   "source": [
    "StringBuffer response = new StringBuffer();\n",
    "\n",
    "int return_code = g2engine.getRedoRecord(response);\n",
    "\n",
    "if(return_code!=0)\n",
    "    System.out.print(g2engine.getLastException());\n",
    "else\n",
    "    RenderJSON(response)"
   ]
  },
  {
   "cell_type": "markdown",
   "metadata": {},
   "source": [
    "### processWithInfo\n",
    "\n",
    "###### Parameters\n",
    "\n",
    "- **response:** (StringBuffer) the input record to add\n",
    "- **processResponse:** (StringBuffer) Object to store the output of the method. Can be used to print or store for later."
   ]
  },
  {
   "cell_type": "code",
   "execution_count": 42,
   "metadata": {},
   "outputs": [
    {
     "data": {
      "text/html": [
       "<div id=\"14d3519f-e746-4324-a5e8-577bf4012ab5\" style=\"height:100%; width:100%; background-color: LightCyan\"></div>"
      ],
      "text/plain": [
       "<div id=\"14d3519f-e746-4324-a5e8-577bf4012ab5\" style=\"height:100%; width:100%; background-color: LightCyan\"></div>"
      ]
     },
     "metadata": {},
     "output_type": "display_data"
    },
    {
     "data": {
      "application/javascript": [
       "require([\"https://rawgit.com/caldwell/renderjson/master/renderjson.js\"], function() {document.getElementById('14d3519f-e746-4324-a5e8-577bf4012ab5').appendChild(renderjson({\"REASON\":\"LIB_FEAT_ID[10] of FTYPE_ID[20] went generic for CANDIDATES ECLASS_ID[1] in LENS_ID[1]\",\"DATA_SOURCE\":\"TEST\",\"RECORD_ID\":\"4\",\"ENTITY_TYPE\":\"GENERIC\",\"DSRC_ACTION\":\"X\"}))});"
      ],
      "text/plain": [
       "require([\"https://rawgit.com/caldwell/renderjson/master/renderjson.js\"], function() {document.getElementById('14d3519f-e746-4324-a5e8-577bf4012ab5').appendChild(renderjson({\"REASON\":\"LIB_FEAT_ID[10] of FTYPE_ID[20] went generic for CANDIDATES ECLASS_ID[1] in LENS_ID[1]\",\"DATA_SOURCE\":\"TEST\",\"RECORD_ID\":\"4\",\"ENTITY_TYPE\":\"GENERIC\",\"DSRC_ACTION\":\"X\"}))});"
      ]
     },
     "metadata": {},
     "output_type": "display_data"
    }
   ],
   "source": [
    "StringBuffer processResponse = new StringBuffer();\n",
    "\n",
    "int return_code = g2engine.processWithInfo(\n",
    "                            response.toString(),\n",
    "                            flags,\n",
    "                            processResponse);\n",
    "                            \n",
    "if(return_code!=0)\n",
    "    System.out.print(g2engine.getLastException());\n",
    "else\n",
    "    RenderJSON(response)"
   ]
  },
  {
   "cell_type": "markdown",
   "metadata": {},
   "source": [
    "### process\n",
    "\n",
    "###### Parameters\n",
    "\n",
    "- **response:** (bytearray) the input record to process"
   ]
  },
  {
   "cell_type": "code",
   "execution_count": 43,
   "metadata": {},
   "outputs": [
    {
     "data": {
      "text/html": [
       "<div id=\"603d24a0-5902-4db3-b604-9238b18aae4b\" style=\"height:100%; width:100%; background-color: LightCyan\"></div>"
      ],
      "text/plain": [
       "<div id=\"603d24a0-5902-4db3-b604-9238b18aae4b\" style=\"height:100%; width:100%; background-color: LightCyan\"></div>"
      ]
     },
     "metadata": {},
     "output_type": "display_data"
    },
    {
     "data": {
      "application/javascript": [
       "require([\"https://rawgit.com/caldwell/renderjson/master/renderjson.js\"], function() {document.getElementById('603d24a0-5902-4db3-b604-9238b18aae4b').appendChild(renderjson({\"REASON\":\"LIB_FEAT_ID[10] of FTYPE_ID[20] went generic for CANDIDATES ECLASS_ID[1] in LENS_ID[1]\",\"DATA_SOURCE\":\"TEST\",\"RECORD_ID\":\"4\",\"ENTITY_TYPE\":\"GENERIC\",\"DSRC_ACTION\":\"X\"}))});"
      ],
      "text/plain": [
       "require([\"https://rawgit.com/caldwell/renderjson/master/renderjson.js\"], function() {document.getElementById('603d24a0-5902-4db3-b604-9238b18aae4b').appendChild(renderjson({\"REASON\":\"LIB_FEAT_ID[10] of FTYPE_ID[20] went generic for CANDIDATES ECLASS_ID[1] in LENS_ID[1]\",\"DATA_SOURCE\":\"TEST\",\"RECORD_ID\":\"4\",\"ENTITY_TYPE\":\"GENERIC\",\"DSRC_ACTION\":\"X\"}))});"
      ]
     },
     "metadata": {},
     "output_type": "display_data"
    }
   ],
   "source": [
    "int return_code = g2engine.process(response.toString());\n",
    "                            \n",
    "if(return_code!=0)\n",
    "    System.out.print(g2engine.getLastException());\n",
    "else\n",
    "    RenderJSON(response)"
   ]
  },
  {
   "cell_type": "markdown",
   "metadata": {},
   "source": [
    "### processRedoRecord\n",
    "\n",
    "This processes the next redo record and returns it\n",
    "(If `processRedoRecord()` \"response\" returns 0\n",
    "and \"response_bytearray\" is blank then there are no more redo records to\n",
    "process and if you do `countRedoRecords()` again it will return 0)\n",
    "Has potential to create more redo records in certian situations.\n",
    "\n",
    "###### Parameters\n",
    "\n",
    "- **response:** (StringBuffer) Object to store the output of the method. Can be used to print or store for later."
   ]
  },
  {
   "cell_type": "code",
   "execution_count": 44,
   "metadata": {},
   "outputs": [
    {
     "data": {
      "text/html": [
       "<div id=\"d8e3f79b-9998-40bf-b120-84e0e89aeeba\" style=\"height:100%; width:100%; background-color: LightCyan\"></div>"
      ],
      "text/plain": [
       "<div id=\"d8e3f79b-9998-40bf-b120-84e0e89aeeba\" style=\"height:100%; width:100%; background-color: LightCyan\"></div>"
      ]
     },
     "metadata": {},
     "output_type": "display_data"
    },
    {
     "data": {
      "application/javascript": [
       "require([\"https://rawgit.com/caldwell/renderjson/master/renderjson.js\"], function() {document.getElementById('d8e3f79b-9998-40bf-b120-84e0e89aeeba').appendChild(renderjson({\"REASON\":\"LIB_FEAT_ID[10] of FTYPE_ID[20] went generic for CANDIDATES ECLASS_ID[1] in LENS_ID[1]\",\"DATA_SOURCE\":\"TEST\",\"RECORD_ID\":\"06C29624478FF1C3285E294E5657796E3A67244A\",\"ENTITY_TYPE\":\"GENERIC\",\"DSRC_ACTION\":\"X\"}))});"
      ],
      "text/plain": [
       "require([\"https://rawgit.com/caldwell/renderjson/master/renderjson.js\"], function() {document.getElementById('d8e3f79b-9998-40bf-b120-84e0e89aeeba').appendChild(renderjson({\"REASON\":\"LIB_FEAT_ID[10] of FTYPE_ID[20] went generic for CANDIDATES ECLASS_ID[1] in LENS_ID[1]\",\"DATA_SOURCE\":\"TEST\",\"RECORD_ID\":\"06C29624478FF1C3285E294E5657796E3A67244A\",\"ENTITY_TYPE\":\"GENERIC\",\"DSRC_ACTION\":\"X\"}))});"
      ]
     },
     "metadata": {},
     "output_type": "display_data"
    }
   ],
   "source": [
    "StringBuffer response = new StringBuffer();\n",
    "\n",
    "int return_code = g2engine.processRedoRecord(response);\n",
    "\n",
    "if(return_code!=0)\n",
    "    System.out.print(g2engine.getLastException());\n",
    "else\n",
    "    RenderJSON(response)"
   ]
  },
  {
   "cell_type": "markdown",
   "metadata": {},
   "source": [
    "### processRedoRecordWithInfo\n",
    "\n",
    "`processRedoRecordWithInfo()` is available if you would like to know what\n",
    "resolved entities were modified when processing a redo record.\n",
    "It behaves identically to `processRedoRecord()`,\n",
    "but also returns a json document containing the IDs of the affected entities.\n",
    "It accepts the following parameters:\n",
    "\n",
    "###### Parameters\n",
    "\n",
    "- **info:** (StringBuffer) Returns the \"withInfo\" section \n",
    "- **response:** (StringBuffer) Object to store the output of the method. Can be used to print or store for later."
   ]
  },
  {
   "cell_type": "code",
   "execution_count": 45,
   "metadata": {
    "scrolled": true
   },
   "outputs": [
    {
     "data": {
      "text/html": [
       "<div id=\"47e12280-fddc-43c1-b8b8-a0ea15b4892e\" style=\"height:100%; width:100%; background-color: LightCyan\"></div>"
      ],
      "text/plain": [
       "<div id=\"47e12280-fddc-43c1-b8b8-a0ea15b4892e\" style=\"height:100%; width:100%; background-color: LightCyan\"></div>"
      ]
     },
     "metadata": {},
     "output_type": "display_data"
    },
    {
     "data": {
      "application/javascript": [
       "require([\"https://rawgit.com/caldwell/renderjson/master/renderjson.js\"], function() {document.getElementById('47e12280-fddc-43c1-b8b8-a0ea15b4892e').appendChild(renderjson({\"DATA_SOURCE\":\"TEST\",\"RECORD_ID\":\"5\",\"AFFECTED_ENTITIES\":[{\"ENTITY_ID\":4}],\"INTERESTING_ENTITIES\":{\"ENTITIES\":[]}}))});"
      ],
      "text/plain": [
       "require([\"https://rawgit.com/caldwell/renderjson/master/renderjson.js\"], function() {document.getElementById('47e12280-fddc-43c1-b8b8-a0ea15b4892e').appendChild(renderjson({\"DATA_SOURCE\":\"TEST\",\"RECORD_ID\":\"5\",\"AFFECTED_ENTITIES\":[{\"ENTITY_ID\":4}],\"INTERESTING_ENTITIES\":{\"ENTITIES\":[]}}))});"
      ]
     },
     "metadata": {},
     "output_type": "display_data"
    },
    {
     "data": {
      "text/html": [
       "<div id=\"130ad8ca-27b5-438b-8efd-f4927f2c87bd\" style=\"height:100%; width:100%; background-color: LightCyan\"></div>"
      ],
      "text/plain": [
       "<div id=\"130ad8ca-27b5-438b-8efd-f4927f2c87bd\" style=\"height:100%; width:100%; background-color: LightCyan\"></div>"
      ]
     },
     "metadata": {},
     "output_type": "display_data"
    },
    {
     "data": {
      "application/javascript": [
       "require([\"https://rawgit.com/caldwell/renderjson/master/renderjson.js\"], function() {document.getElementById('130ad8ca-27b5-438b-8efd-f4927f2c87bd').appendChild(renderjson({\"REASON\":\"LIB_FEAT_ID[10] of FTYPE_ID[20] went generic for CANDIDATES ECLASS_ID[1] in LENS_ID[1]\",\"DATA_SOURCE\":\"TEST\",\"RECORD_ID\":\"5\",\"ENTITY_TYPE\":\"GENERIC\",\"DSRC_ACTION\":\"X\"}))});"
      ],
      "text/plain": [
       "require([\"https://rawgit.com/caldwell/renderjson/master/renderjson.js\"], function() {document.getElementById('130ad8ca-27b5-438b-8efd-f4927f2c87bd').appendChild(renderjson({\"REASON\":\"LIB_FEAT_ID[10] of FTYPE_ID[20] went generic for CANDIDATES ECLASS_ID[1] in LENS_ID[1]\",\"DATA_SOURCE\":\"TEST\",\"RECORD_ID\":\"5\",\"ENTITY_TYPE\":\"GENERIC\",\"DSRC_ACTION\":\"X\"}))});"
      ]
     },
     "metadata": {},
     "output_type": "display_data"
    }
   ],
   "source": [
    "StringBuffer response = new StringBuffer();\n",
    "StringBuffer info = new StringBuffer();\n",
    "\n",
    "int return_code = g2engine.processRedoRecordWithInfo(\n",
    "    flags,\n",
    "    info,\n",
    "    response);\n",
    "\n",
    "if(return_code!=0)\n",
    "    System.out.print(g2engine.getLastException());\n",
    "else\n",
    "    RenderJSON(response);\n",
    "    RenderJSON(info)"
   ]
  },
  {
   "cell_type": "markdown",
   "metadata": {},
   "source": [
    "## Delete"
   ]
  },
  {
   "cell_type": "markdown",
   "metadata": {},
   "source": [
    "### deleteRecord\n",
    "\n",
    "Use `deleteRecord()` to remove a record from the data repository\n",
    "(returns \"0\" upon success);\n",
    "`deleteRecord()` can be called as many times as desired and from multiple\n",
    "threads at the same time.\n",
    "\n",
    "###### Parameters\n",
    "\n",
    "- **dataSourceCode:** (str) The name of the data source the record is associated\n",
    "  with.  This value is configurable to the system.\n",
    "- **recordID:** (str) The record ID, used to identify distinct records\n",
    "- **loadID:** (str) the observation load ID for the record;\n",
    "  value can be null."
   ]
  },
  {
   "cell_type": "code",
   "execution_count": 46,
   "metadata": {},
   "outputs": [
    {
     "name": "stdout",
     "output_type": "stream",
     "text": [
      "0"
     ]
    }
   ],
   "source": [
    "String dataSourceCode = dataSourceCode1;\n",
    "String recordID = recordID1;\n",
    "\n",
    "int return_code= g2engine.deleteRecord(dataSourceCode, recordID, loadID);\n",
    "\n",
    "if(return_code!=0)\n",
    "    System.out.print(g2engine.getLastException());\n",
    "else\n",
    "    System.out.print(return_code);"
   ]
  },
  {
   "cell_type": "markdown",
   "metadata": {},
   "source": [
    "### deleteRecordWithInfo\n",
    "\n",
    "`deleteRecordWithInfo()` behaves the same as `deleteRecord()`\n",
    "but also returns a json document containing the IDs of the affected entities.\n",
    "\n",
    "###### Parameters\n",
    "\n",
    "- **dataSourceCode:** (str) The name of the data source the record is associated\n",
    "  with. This value is configurable to the system.\n",
    "- **recordID:** (str) The record ID, used to identify distinct records.\n",
    "- **response:** (StringBuffer) Object to store the output of the method. Can be used to print or store for later.\n",
    "- **loadID:** (str) the observation load ID for the record;\n",
    "  value can be null.\n"
   ]
  },
  {
   "cell_type": "code",
   "execution_count": 47,
   "metadata": {},
   "outputs": [
    {
     "data": {
      "text/html": [
       "<div id=\"f3644377-b01f-40f0-aed8-2cfb662c2e45\" style=\"height:100%; width:100%; background-color: LightCyan\"></div>"
      ],
      "text/plain": [
       "<div id=\"f3644377-b01f-40f0-aed8-2cfb662c2e45\" style=\"height:100%; width:100%; background-color: LightCyan\"></div>"
      ]
     },
     "metadata": {},
     "output_type": "display_data"
    },
    {
     "data": {
      "application/javascript": [
       "require([\"https://rawgit.com/caldwell/renderjson/master/renderjson.js\"], function() {document.getElementById('f3644377-b01f-40f0-aed8-2cfb662c2e45').appendChild(renderjson({\"DATA_SOURCE\":\"TEST\",\"RECORD_ID\":\"2\",\"AFFECTED_ENTITIES\":[],\"INTERESTING_ENTITIES\":{\"ENTITIES\":[]}}))});"
      ],
      "text/plain": [
       "require([\"https://rawgit.com/caldwell/renderjson/master/renderjson.js\"], function() {document.getElementById('f3644377-b01f-40f0-aed8-2cfb662c2e45').appendChild(renderjson({\"DATA_SOURCE\":\"TEST\",\"RECORD_ID\":\"2\",\"AFFECTED_ENTITIES\":[],\"INTERESTING_ENTITIES\":{\"ENTITIES\":[]}}))});"
      ]
     },
     "metadata": {},
     "output_type": "display_data"
    }
   ],
   "source": [
    "String dataSourceCode = dataSourceCode2;\n",
    "String recordID = recordID2;\n",
    "StringBuffer response = new StringBuffer();\n",
    "\n",
    "int return_code = g2engine.deleteRecordWithInfo(\n",
    "                            dataSourceCode, \n",
    "                            recordID, \n",
    "                            loadID, \n",
    "                            flags,\n",
    "                            response);\n",
    "\n",
    "if(return_code!=0)\n",
    "    System.out.print(g2engine.getLastException());\n",
    "else\n",
    "    RenderJSON(response);"
   ]
  },
  {
   "cell_type": "markdown",
   "metadata": {},
   "source": [
    "Attempt to get the record again. It should error and give an output similar to \"Unknown record\""
   ]
  },
  {
   "cell_type": "code",
   "execution_count": 48,
   "metadata": {},
   "outputs": [
    {
     "name": "stdout",
     "output_type": "stream",
     "text": [
      "0033E|Unknown record: dsrc[TEST], record[2]"
     ]
    }
   ],
   "source": [
    "StringBuffer response = new StringBuffer();\n",
    "int return_code = g2engine.getRecord(dataSourceCode, recordID, response);\n",
    "\n",
    "if(return_code!=0)\n",
    "    System.out.print(g2engine.getLastException());"
   ]
  },
  {
   "cell_type": "markdown",
   "metadata": {},
   "source": [
    "Add record back for later API calls"
   ]
  },
  {
   "cell_type": "code",
   "execution_count": 49,
   "metadata": {},
   "outputs": [],
   "source": [
    "String dataSourceCode = dataSourceCode1;\n",
    "String recordID = recordID1;\n",
    "\n",
    "int return_code = g2engine.addRecord(dataSourceCode, recordID, jsonData, loadID);\n",
    "\n",
    "if(return_code!=0)\n",
    "    System.out.print(g2engine.getLastException());\n",
    "\n",
    "String dataSourceCode = dataSourceCode2;\n",
    "String recordID = recordID2;\n",
    "\n",
    "int return_code = g2engine.addRecord(dataSourceCode, recordID, jsonData, loadID);\n",
    "\n",
    "if(return_code!=0)\n",
    "    System.out.print(g2engine.getLastException());"
   ]
  },
  {
   "cell_type": "markdown",
   "metadata": {},
   "source": [
    "## Search"
   ]
  },
  {
   "cell_type": "markdown",
   "metadata": {},
   "source": [
    "### Record search"
   ]
  },
  {
   "cell_type": "markdown",
   "metadata": {},
   "source": [
    "#### getRecord\n",
    "\n",
    "Use `getRecord()` to retrieve a single record from the data repository;\n",
    "the record is assigned in JSON form to a user-designated buffer.\n",
    "Once the Senzing engine is initialized,\n",
    "`getRecord()` can be called as many times as desired and from multiple\n",
    "threads at the same time.\n",
    "\n",
    "###### Parameters\n",
    "\n",
    "- **dataSourceCode:** (str) The name of the data source the record is associated\n",
    "  with.  This value is configurable to the system.\n",
    "- **recordID:** (str) The record ID, used to identify the record for retrieval\n",
    "- **g2EngineFlags:** (long) control flags (applicable flags listed here [getRecord flags](senzing-G2Engine-flags.ipynb#getRecord))\n",
    "- **response:** (StringBuffer) Object to store the output of the method. Can be used to print or store for later."
   ]
  },
  {
   "cell_type": "code",
   "execution_count": 50,
   "metadata": {},
   "outputs": [
    {
     "data": {
      "text/html": [
       "<div id=\"e6158bc5-7f48-4167-adc3-3ff53a690690\" style=\"height:100%; width:100%; background-color: LightCyan\"></div>"
      ],
      "text/plain": [
       "<div id=\"e6158bc5-7f48-4167-adc3-3ff53a690690\" style=\"height:100%; width:100%; background-color: LightCyan\"></div>"
      ]
     },
     "metadata": {},
     "output_type": "display_data"
    },
    {
     "data": {
      "application/javascript": [
       "require([\"https://rawgit.com/caldwell/renderjson/master/renderjson.js\"], function() {document.getElementById('e6158bc5-7f48-4167-adc3-3ff53a690690').appendChild(renderjson({\"DATA_SOURCE\":\"TEST\",\"RECORD_ID\":\"1\",\"JSON_DATA\":{\"NAME_TYPE\":\"PRIMARY\",\"NAME_FIRST\":\"Madelyn\",\"NAME_LAST\":\"Caryn\",\"SSN_NUMBER\":\"111-11-1111\",\"DATA_SOURCE\":\"TEST\",\"ENTITY_TYPE\":\"GENERIC\",\"DSRC_ACTION\":\"A\",\"RECORD_ID\":\"1\"}}))});"
      ],
      "text/plain": [
       "require([\"https://rawgit.com/caldwell/renderjson/master/renderjson.js\"], function() {document.getElementById('e6158bc5-7f48-4167-adc3-3ff53a690690').appendChild(renderjson({\"DATA_SOURCE\":\"TEST\",\"RECORD_ID\":\"1\",\"JSON_DATA\":{\"NAME_TYPE\":\"PRIMARY\",\"NAME_FIRST\":\"Madelyn\",\"NAME_LAST\":\"Caryn\",\"SSN_NUMBER\":\"111-11-1111\",\"DATA_SOURCE\":\"TEST\",\"ENTITY_TYPE\":\"GENERIC\",\"DSRC_ACTION\":\"A\",\"RECORD_ID\":\"1\"}}))});"
      ]
     },
     "metadata": {},
     "output_type": "display_data"
    }
   ],
   "source": [
    "String dataSourceCode = \"TEST\";\n",
    "String recordID = \"1\";\n",
    "StringBuffer response = new StringBuffer();\n",
    "int return_code= g2engine.getRecord(\n",
    "                    dataSourceCode, \n",
    "                    recordID, \n",
    "                    response);\n",
    "\n",
    "if(return_code!=0)\n",
    "    System.out.print(g2engine.getLastException());\n",
    "else\n",
    "    RenderJSON(response)"
   ]
  },
  {
   "cell_type": "markdown",
   "metadata": {},
   "source": [
    "### Entity search"
   ]
  },
  {
   "cell_type": "markdown",
   "metadata": {},
   "source": [
    "#### getEntityByRecordID\n",
    "\n",
    "Entity searching is a key component for interactive use of Entity Resolution\n",
    "intelligence.\n",
    "The core Senzing engine provides real-time search capabilities that are\n",
    "easily accessed via the Senzing API.\n",
    "Senzing offers methods for entity searching, all of which can be called\n",
    "as many times as desired and from multiple threads at the same time\n",
    "(and all of which return \"0\" upon success).\n",
    "\n",
    "Use `getEntityByRecordID()` to retrieve entity data based on the ID of a\n",
    "resolved identity.\n",
    "\n",
    "###### Parameters\n",
    "\n",
    "- **dataSourceCode:** (str) The name of the data source the record is associated\n",
    "  with.  This value is configurable to the system.\n",
    "- **recordID:** (str) The record ID, used to identify the record for retrieval\n",
    "- **g2EngineFlags:** (long) control flags (applicable flags listed here [getEntityByRecordID flags](senzing-G2Engine-flags.ipynb#getEntityByRecordID))\n",
    "- **response:** (StringBuffer) Object to store the output of the method. Can be used to print or store for later."
   ]
  },
  {
   "cell_type": "code",
   "execution_count": 51,
   "metadata": {},
   "outputs": [
    {
     "data": {
      "text/html": [
       "<div id=\"17e553aa-450f-43ac-9ae2-746bb372705a\" style=\"height:100%; width:100%; background-color: LightCyan\"></div>"
      ],
      "text/plain": [
       "<div id=\"17e553aa-450f-43ac-9ae2-746bb372705a\" style=\"height:100%; width:100%; background-color: LightCyan\"></div>"
      ]
     },
     "metadata": {},
     "output_type": "display_data"
    },
    {
     "data": {
      "application/javascript": [
       "require([\"https://rawgit.com/caldwell/renderjson/master/renderjson.js\"], function() {document.getElementById('17e553aa-450f-43ac-9ae2-746bb372705a').appendChild(renderjson({\"RESOLVED_ENTITY\":{\"ENTITY_ID\":7,\"ENTITY_NAME\":\"Madelyn Caryn\",\"FEATURES\":{\"NAME\":[{\"FEAT_DESC\":\"Madelyn Caryn\",\"LIB_FEAT_ID\":33,\"USAGE_TYPE\":\"PRIMARY\",\"FEAT_DESC_VALUES\":[{\"FEAT_DESC\":\"Madelyn Caryn\",\"LIB_FEAT_ID\":33}]}],\"SSN\":[{\"FEAT_DESC\":\"111-11-1111\",\"LIB_FEAT_ID\":3,\"FEAT_DESC_VALUES\":[{\"FEAT_DESC\":\"111-11-1111\",\"LIB_FEAT_ID\":3}]}]},\"RECORD_SUMMARY\":[{\"DATA_SOURCE\":\"TEST\",\"RECORD_COUNT\":3,\"FIRST_SEEN_DT\":\"2022-11-05 16:18:01.451\",\"LAST_SEEN_DT\":\"2022-11-05 16:18:13.899\"}],\"LAST_SEEN_DT\":\"2022-11-05 16:18:13.899\",\"RECORDS\":[{\"DATA_SOURCE\":\"TEST\",\"RECORD_ID\":\"1\",\"ENTITY_TYPE\":\"GENERIC\",\"INTERNAL_ID\":7,\"ENTITY_KEY\":\"ED809E0DCED3B9F3A411B5FABF62E2D866DBE02F\",\"ENTITY_DESC\":\"Madelyn Caryn\",\"MATCH_KEY\":\"\",\"MATCH_LEVEL\":0,\"MATCH_LEVEL_CODE\":\"\",\"ERRULE_CODE\":\"\",\"LAST_SEEN_DT\":\"2022-11-05 16:18:13.745\"},{\"DATA_SOURCE\":\"TEST\",\"RECORD_ID\":\"2\",\"ENTITY_TYPE\":\"GENERIC\",\"INTERNAL_ID\":7,\"ENTITY_KEY\":\"ED809E0DCED3B9F3A411B5FABF62E2D866DBE02F\",\"ENTITY_DESC\":\"Madelyn Caryn\",\"MATCH_KEY\":\"+EXACTLY_SAME\",\"MATCH_LEVEL\":0,\"MATCH_LEVEL_CODE\":\"\",\"ERRULE_CODE\":\"\",\"LAST_SEEN_DT\":\"2022-11-05 16:18:13.899\"},{\"DATA_SOURCE\":\"TEST\",\"RECORD_ID\":\"8\",\"ENTITY_TYPE\":\"GENERIC\",\"INTERNAL_ID\":7,\"ENTITY_KEY\":\"ED809E0DCED3B9F3A411B5FABF62E2D866DBE02F\",\"ENTITY_DESC\":\"Madelyn Caryn\",\"MATCH_KEY\":\"+EXACTLY_SAME\",\"MATCH_LEVEL\":0,\"MATCH_LEVEL_CODE\":\"\",\"ERRULE_CODE\":\"\",\"LAST_SEEN_DT\":\"2022-11-05 16:18:01.451\"}]},\"RELATED_ENTITIES\":[]}))});"
      ],
      "text/plain": [
       "require([\"https://rawgit.com/caldwell/renderjson/master/renderjson.js\"], function() {document.getElementById('17e553aa-450f-43ac-9ae2-746bb372705a').appendChild(renderjson({\"RESOLVED_ENTITY\":{\"ENTITY_ID\":7,\"ENTITY_NAME\":\"Madelyn Caryn\",\"FEATURES\":{\"NAME\":[{\"FEAT_DESC\":\"Madelyn Caryn\",\"LIB_FEAT_ID\":33,\"USAGE_TYPE\":\"PRIMARY\",\"FEAT_DESC_VALUES\":[{\"FEAT_DESC\":\"Madelyn Caryn\",\"LIB_FEAT_ID\":33}]}],\"SSN\":[{\"FEAT_DESC\":\"111-11-1111\",\"LIB_FEAT_ID\":3,\"FEAT_DESC_VALUES\":[{\"FEAT_DESC\":\"111-11-1111\",\"LIB_FEAT_ID\":3}]}]},\"RECORD_SUMMARY\":[{\"DATA_SOURCE\":\"TEST\",\"RECORD_COUNT\":3,\"FIRST_SEEN_DT\":\"2022-11-05 16:18:01.451\",\"LAST_SEEN_DT\":\"2022-11-05 16:18:13.899\"}],\"LAST_SEEN_DT\":\"2022-11-05 16:18:13.899\",\"RECORDS\":[{\"DATA_SOURCE\":\"TEST\",\"RECORD_ID\":\"1\",\"ENTITY_TYPE\":\"GENERIC\",\"INTERNAL_ID\":7,\"ENTITY_KEY\":\"ED809E0DCED3B9F3A411B5FABF62E2D866DBE02F\",\"ENTITY_DESC\":\"Madelyn Caryn\",\"MATCH_KEY\":\"\",\"MATCH_LEVEL\":0,\"MATCH_LEVEL_CODE\":\"\",\"ERRULE_CODE\":\"\",\"LAST_SEEN_DT\":\"2022-11-05 16:18:13.745\"},{\"DATA_SOURCE\":\"TEST\",\"RECORD_ID\":\"2\",\"ENTITY_TYPE\":\"GENERIC\",\"INTERNAL_ID\":7,\"ENTITY_KEY\":\"ED809E0DCED3B9F3A411B5FABF62E2D866DBE02F\",\"ENTITY_DESC\":\"Madelyn Caryn\",\"MATCH_KEY\":\"+EXACTLY_SAME\",\"MATCH_LEVEL\":0,\"MATCH_LEVEL_CODE\":\"\",\"ERRULE_CODE\":\"\",\"LAST_SEEN_DT\":\"2022-11-05 16:18:13.899\"},{\"DATA_SOURCE\":\"TEST\",\"RECORD_ID\":\"8\",\"ENTITY_TYPE\":\"GENERIC\",\"INTERNAL_ID\":7,\"ENTITY_KEY\":\"ED809E0DCED3B9F3A411B5FABF62E2D866DBE02F\",\"ENTITY_DESC\":\"Madelyn Caryn\",\"MATCH_KEY\":\"+EXACTLY_SAME\",\"MATCH_LEVEL\":0,\"MATCH_LEVEL_CODE\":\"\",\"ERRULE_CODE\":\"\",\"LAST_SEEN_DT\":\"2022-11-05 16:18:01.451\"}]},\"RELATED_ENTITIES\":[]}))});"
      ]
     },
     "metadata": {},
     "output_type": "display_data"
    }
   ],
   "source": [
    "String dataSourceCode = \"TEST\";\n",
    "String recordID = \"1\";\n",
    "\n",
    "StringBuffer response = new StringBuffer();\n",
    "\n",
    "int return_code = g2engine.getEntityByRecordID(\n",
    "                            dataSourceCode, \n",
    "                            recordID, \n",
    "                            response);\n",
    "\n",
    "JsonObject jsonObject = JsonUtil.parseJsonObject(response.toString());\n",
    "long entityID1 = jsonObject.getJsonObject(\"RESOLVED_ENTITY\").getJsonNumber(\"ENTITY_ID\").longValue();\n",
    "\n",
    "if(return_code!=0)\n",
    "    RenderJSON(g2engine.getLastException());\n",
    "else\n",
    "    RenderJSON(response);"
   ]
  },
  {
   "cell_type": "markdown",
   "metadata": {},
   "source": [
    "#### getEntityByEntityID\n",
    "\n",
    "Use `getEntityByEntityID()` to retrieve entity data based on the ID of a\n",
    "resolved identity.\n",
    "\n",
    "###### Parameters\n",
    "\n",
    "- **entityID:** (long) The numeric ID of a resolved entity\n",
    "- **g2EngineFlags:** (long) control flags (applicable flags listed here [getEntityByEntityID flags](senzing-G2Engine-flags.ipynb#getEntityByEntityID))\n",
    "- **response:** (StringBuffer) Object to store the output of the method. Can be used to print or store for later"
   ]
  },
  {
   "cell_type": "code",
   "execution_count": 52,
   "metadata": {},
   "outputs": [
    {
     "data": {
      "text/html": [
       "<div id=\"0dbefa66-59cf-4c9f-95f5-3cd151d6096e\" style=\"height:100%; width:100%; background-color: LightCyan\"></div>"
      ],
      "text/plain": [
       "<div id=\"0dbefa66-59cf-4c9f-95f5-3cd151d6096e\" style=\"height:100%; width:100%; background-color: LightCyan\"></div>"
      ]
     },
     "metadata": {},
     "output_type": "display_data"
    },
    {
     "data": {
      "application/javascript": [
       "require([\"https://rawgit.com/caldwell/renderjson/master/renderjson.js\"], function() {document.getElementById('0dbefa66-59cf-4c9f-95f5-3cd151d6096e').appendChild(renderjson({\"RESOLVED_ENTITY\":{\"ENTITY_ID\":7,\"ENTITY_NAME\":\"Madelyn Caryn\",\"FEATURES\":{\"NAME\":[{\"FEAT_DESC\":\"Madelyn Caryn\",\"LIB_FEAT_ID\":33,\"USAGE_TYPE\":\"PRIMARY\",\"FEAT_DESC_VALUES\":[{\"FEAT_DESC\":\"Madelyn Caryn\",\"LIB_FEAT_ID\":33}]}],\"SSN\":[{\"FEAT_DESC\":\"111-11-1111\",\"LIB_FEAT_ID\":3,\"FEAT_DESC_VALUES\":[{\"FEAT_DESC\":\"111-11-1111\",\"LIB_FEAT_ID\":3}]}]},\"RECORD_SUMMARY\":[{\"DATA_SOURCE\":\"TEST\",\"RECORD_COUNT\":3,\"FIRST_SEEN_DT\":\"2022-11-05 16:18:01.451\",\"LAST_SEEN_DT\":\"2022-11-05 16:18:13.899\"}],\"LAST_SEEN_DT\":\"2022-11-05 16:18:13.899\",\"RECORDS\":[{\"DATA_SOURCE\":\"TEST\",\"RECORD_ID\":\"1\",\"ENTITY_TYPE\":\"GENERIC\",\"INTERNAL_ID\":7,\"ENTITY_KEY\":\"ED809E0DCED3B9F3A411B5FABF62E2D866DBE02F\",\"ENTITY_DESC\":\"Madelyn Caryn\",\"MATCH_KEY\":\"\",\"MATCH_LEVEL\":0,\"MATCH_LEVEL_CODE\":\"\",\"ERRULE_CODE\":\"\",\"LAST_SEEN_DT\":\"2022-11-05 16:18:13.745\"},{\"DATA_SOURCE\":\"TEST\",\"RECORD_ID\":\"2\",\"ENTITY_TYPE\":\"GENERIC\",\"INTERNAL_ID\":7,\"ENTITY_KEY\":\"ED809E0DCED3B9F3A411B5FABF62E2D866DBE02F\",\"ENTITY_DESC\":\"Madelyn Caryn\",\"MATCH_KEY\":\"+EXACTLY_SAME\",\"MATCH_LEVEL\":0,\"MATCH_LEVEL_CODE\":\"\",\"ERRULE_CODE\":\"\",\"LAST_SEEN_DT\":\"2022-11-05 16:18:13.899\"},{\"DATA_SOURCE\":\"TEST\",\"RECORD_ID\":\"8\",\"ENTITY_TYPE\":\"GENERIC\",\"INTERNAL_ID\":7,\"ENTITY_KEY\":\"ED809E0DCED3B9F3A411B5FABF62E2D866DBE02F\",\"ENTITY_DESC\":\"Madelyn Caryn\",\"MATCH_KEY\":\"+EXACTLY_SAME\",\"MATCH_LEVEL\":0,\"MATCH_LEVEL_CODE\":\"\",\"ERRULE_CODE\":\"\",\"LAST_SEEN_DT\":\"2022-11-05 16:18:01.451\"}]},\"RELATED_ENTITIES\":[]}))});"
      ],
      "text/plain": [
       "require([\"https://rawgit.com/caldwell/renderjson/master/renderjson.js\"], function() {document.getElementById('0dbefa66-59cf-4c9f-95f5-3cd151d6096e').appendChild(renderjson({\"RESOLVED_ENTITY\":{\"ENTITY_ID\":7,\"ENTITY_NAME\":\"Madelyn Caryn\",\"FEATURES\":{\"NAME\":[{\"FEAT_DESC\":\"Madelyn Caryn\",\"LIB_FEAT_ID\":33,\"USAGE_TYPE\":\"PRIMARY\",\"FEAT_DESC_VALUES\":[{\"FEAT_DESC\":\"Madelyn Caryn\",\"LIB_FEAT_ID\":33}]}],\"SSN\":[{\"FEAT_DESC\":\"111-11-1111\",\"LIB_FEAT_ID\":3,\"FEAT_DESC_VALUES\":[{\"FEAT_DESC\":\"111-11-1111\",\"LIB_FEAT_ID\":3}]}]},\"RECORD_SUMMARY\":[{\"DATA_SOURCE\":\"TEST\",\"RECORD_COUNT\":3,\"FIRST_SEEN_DT\":\"2022-11-05 16:18:01.451\",\"LAST_SEEN_DT\":\"2022-11-05 16:18:13.899\"}],\"LAST_SEEN_DT\":\"2022-11-05 16:18:13.899\",\"RECORDS\":[{\"DATA_SOURCE\":\"TEST\",\"RECORD_ID\":\"1\",\"ENTITY_TYPE\":\"GENERIC\",\"INTERNAL_ID\":7,\"ENTITY_KEY\":\"ED809E0DCED3B9F3A411B5FABF62E2D866DBE02F\",\"ENTITY_DESC\":\"Madelyn Caryn\",\"MATCH_KEY\":\"\",\"MATCH_LEVEL\":0,\"MATCH_LEVEL_CODE\":\"\",\"ERRULE_CODE\":\"\",\"LAST_SEEN_DT\":\"2022-11-05 16:18:13.745\"},{\"DATA_SOURCE\":\"TEST\",\"RECORD_ID\":\"2\",\"ENTITY_TYPE\":\"GENERIC\",\"INTERNAL_ID\":7,\"ENTITY_KEY\":\"ED809E0DCED3B9F3A411B5FABF62E2D866DBE02F\",\"ENTITY_DESC\":\"Madelyn Caryn\",\"MATCH_KEY\":\"+EXACTLY_SAME\",\"MATCH_LEVEL\":0,\"MATCH_LEVEL_CODE\":\"\",\"ERRULE_CODE\":\"\",\"LAST_SEEN_DT\":\"2022-11-05 16:18:13.899\"},{\"DATA_SOURCE\":\"TEST\",\"RECORD_ID\":\"8\",\"ENTITY_TYPE\":\"GENERIC\",\"INTERNAL_ID\":7,\"ENTITY_KEY\":\"ED809E0DCED3B9F3A411B5FABF62E2D866DBE02F\",\"ENTITY_DESC\":\"Madelyn Caryn\",\"MATCH_KEY\":\"+EXACTLY_SAME\",\"MATCH_LEVEL\":0,\"MATCH_LEVEL_CODE\":\"\",\"ERRULE_CODE\":\"\",\"LAST_SEEN_DT\":\"2022-11-05 16:18:01.451\"}]},\"RELATED_ENTITIES\":[]}))});"
      ]
     },
     "metadata": {},
     "output_type": "display_data"
    }
   ],
   "source": [
    "long entityID = entityID1;\n",
    "StringBuffer response = new StringBuffer();\n",
    "\n",
    "int return_code = g2engine.getEntityByEntityID(entityID, response);\n",
    "\n",
    "if(return_code!=0)\n",
    "    RenderJSON(g2engine.getLastException());\n",
    "else\n",
    "    RenderJSON(response);"
   ]
  },
  {
   "cell_type": "markdown",
   "metadata": {},
   "source": [
    "#### searchByAttributes\n",
    "\n",
    "This function is similar but preferable to the searchByAttributes() function.\n",
    "\n",
    "Use `searchByAttributes()` to retrieve entity data based on\n",
    "a user-specified set of entity attributes.\n",
    "\n",
    "###### Parameters\n",
    "\n",
    "- **jsonData:** (str) A JSON document with the attribute data to search for.\n",
    "- **g2EngineFlags:** (long) control flags (applicable flags listed here [searchByAttributes flags](senzing-G2Engine-flags.ipynb#searchByAttributes))\n",
    "- **response:** (StringBuffer) Object to store the output of the method. Can be used to print or store for later"
   ]
  },
  {
   "cell_type": "code",
   "execution_count": 53,
   "metadata": {
    "scrolled": true
   },
   "outputs": [
    {
     "data": {
      "text/html": [
       "<div id=\"6629d613-2cef-4efd-830f-38820da8be3a\" style=\"height:100%; width:100%; background-color: LightCyan\"></div>"
      ],
      "text/plain": [
       "<div id=\"6629d613-2cef-4efd-830f-38820da8be3a\" style=\"height:100%; width:100%; background-color: LightCyan\"></div>"
      ]
     },
     "metadata": {},
     "output_type": "display_data"
    },
    {
     "data": {
      "application/javascript": [
       "require([\"https://rawgit.com/caldwell/renderjson/master/renderjson.js\"], function() {document.getElementById('6629d613-2cef-4efd-830f-38820da8be3a').appendChild(renderjson({\"RESOLVED_ENTITIES\":[{\"MATCH_INFO\":{\"MATCH_LEVEL\":4,\"MATCH_LEVEL_CODE\":\"NAME_ONLY\",\"MATCH_KEY\":\"+NAME+SSN\",\"ERRULE_CODE\":\"CNAME\",\"FEATURE_SCORES\":{\"NAME\":[{\"INBOUND_FEAT\":\"Madelyn Caryn\",\"CANDIDATE_FEAT\":\"Madelyn Caryn\",\"GNR_FN\":100,\"GNR_SN\":100,\"GNR_GN\":100,\"GENERATION_MATCH\":-1,\"GNR_ON\":-1}],\"SSN\":[{\"INBOUND_FEAT\":\"111-11-1111\",\"CANDIDATE_FEAT\":\"111-11-1111\",\"FULL_SCORE\":100}]}},\"ENTITY\":{\"RESOLVED_ENTITY\":{\"ENTITY_ID\":7,\"ENTITY_NAME\":\"Madelyn Caryn\",\"FEATURES\":{\"NAME\":[{\"FEAT_DESC\":\"Madelyn Caryn\",\"LIB_FEAT_ID\":33,\"USAGE_TYPE\":\"PRIMARY\",\"FEAT_DESC_VALUES\":[{\"FEAT_DESC\":\"Madelyn Caryn\",\"LIB_FEAT_ID\":33}]}],\"SSN\":[{\"FEAT_DESC\":\"111-11-1111\",\"LIB_FEAT_ID\":3,\"FEAT_DESC_VALUES\":[{\"FEAT_DESC\":\"111-11-1111\",\"LIB_FEAT_ID\":3}]}]},\"RECORD_SUMMARY\":[{\"DATA_SOURCE\":\"TEST\",\"RECORD_COUNT\":3,\"FIRST_SEEN_DT\":\"2022-11-05 16:18:01.451\",\"LAST_SEEN_DT\":\"2022-11-05 16:18:13.899\"}],\"LAST_SEEN_DT\":\"2022-11-05 16:18:13.899\"}}}]}))});"
      ],
      "text/plain": [
       "require([\"https://rawgit.com/caldwell/renderjson/master/renderjson.js\"], function() {document.getElementById('6629d613-2cef-4efd-830f-38820da8be3a').appendChild(renderjson({\"RESOLVED_ENTITIES\":[{\"MATCH_INFO\":{\"MATCH_LEVEL\":4,\"MATCH_LEVEL_CODE\":\"NAME_ONLY\",\"MATCH_KEY\":\"+NAME+SSN\",\"ERRULE_CODE\":\"CNAME\",\"FEATURE_SCORES\":{\"NAME\":[{\"INBOUND_FEAT\":\"Madelyn Caryn\",\"CANDIDATE_FEAT\":\"Madelyn Caryn\",\"GNR_FN\":100,\"GNR_SN\":100,\"GNR_GN\":100,\"GENERATION_MATCH\":-1,\"GNR_ON\":-1}],\"SSN\":[{\"INBOUND_FEAT\":\"111-11-1111\",\"CANDIDATE_FEAT\":\"111-11-1111\",\"FULL_SCORE\":100}]}},\"ENTITY\":{\"RESOLVED_ENTITY\":{\"ENTITY_ID\":7,\"ENTITY_NAME\":\"Madelyn Caryn\",\"FEATURES\":{\"NAME\":[{\"FEAT_DESC\":\"Madelyn Caryn\",\"LIB_FEAT_ID\":33,\"USAGE_TYPE\":\"PRIMARY\",\"FEAT_DESC_VALUES\":[{\"FEAT_DESC\":\"Madelyn Caryn\",\"LIB_FEAT_ID\":33}]}],\"SSN\":[{\"FEAT_DESC\":\"111-11-1111\",\"LIB_FEAT_ID\":3,\"FEAT_DESC_VALUES\":[{\"FEAT_DESC\":\"111-11-1111\",\"LIB_FEAT_ID\":3}]}]},\"RECORD_SUMMARY\":[{\"DATA_SOURCE\":\"TEST\",\"RECORD_COUNT\":3,\"FIRST_SEEN_DT\":\"2022-11-05 16:18:01.451\",\"LAST_SEEN_DT\":\"2022-11-05 16:18:13.899\"}],\"LAST_SEEN_DT\":\"2022-11-05 16:18:13.899\"}}}]}))});"
      ]
     },
     "metadata": {},
     "output_type": "display_data"
    }
   ],
   "source": [
    "StringBuffer response = new StringBuffer();\n",
    "\n",
    "int return_code = g2engine.searchByAttributes(jsonData, response);\n",
    "\n",
    "if(return_code!=0)\n",
    "    System.out.print(g2engine.getLastException());\n",
    "else\n",
    "    RenderJSON(response);"
   ]
  },
  {
   "cell_type": "markdown",
   "metadata": {},
   "source": [
    "#### getVirtualEntityByRecordID\n",
    "\n",
    "###### Parameters\n",
    "\n",
    "- **records:** (str) A JSON document with the datasource codes and recordID's of the records to check against\n",
    "- **g2EngineFlags:** (long) control flags (applicable flags listed here [getVirtualEntityByRecordID flags](senzing-G2Engine-flags.ipynb#getVirtualEntityByRecordID))\n",
    "- **response:** (StringBuffer) Object to store the output of the method. Can be used to print or store for later"
   ]
  },
  {
   "cell_type": "code",
   "execution_count": 54,
   "metadata": {},
   "outputs": [
    {
     "data": {
      "text/html": [
       "<div id=\"5f731e04-b731-411b-973e-bdf366d02df6\" style=\"height:100%; width:100%; background-color: LightCyan\"></div>"
      ],
      "text/plain": [
       "<div id=\"5f731e04-b731-411b-973e-bdf366d02df6\" style=\"height:100%; width:100%; background-color: LightCyan\"></div>"
      ]
     },
     "metadata": {},
     "output_type": "display_data"
    },
    {
     "data": {
      "application/javascript": [
       "require([\"https://rawgit.com/caldwell/renderjson/master/renderjson.js\"], function() {document.getElementById('5f731e04-b731-411b-973e-bdf366d02df6').appendChild(renderjson({\"RESOLVED_ENTITY\":{\"ENTITY_ID\":7,\"ENTITY_NAME\":\"Madelyn Caryn\",\"FEATURES\":{\"ID_KEY\":[{\"FEAT_DESC\":\"SSN=111-11-1111\",\"LIB_FEAT_ID\":10,\"FEAT_DESC_VALUES\":[{\"FEAT_DESC\":\"SSN=111-11-1111\",\"LIB_FEAT_ID\":10,\"USED_FOR_CAND\":\"Y\",\"USED_FOR_SCORING\":\"N\",\"ENTITY_COUNT\":6,\"CANDIDATE_CAP_REACHED\":\"Y\",\"SCORING_CAP_REACHED\":\"N\",\"SUPPRESSED\":\"N\"}]}],\"NAME\":[{\"FEAT_DESC\":\"Madelyn Caryn\",\"LIB_FEAT_ID\":33,\"USAGE_TYPE\":\"PRIMARY\",\"FEAT_DESC_VALUES\":[{\"FEAT_DESC\":\"Madelyn Caryn\",\"LIB_FEAT_ID\":33,\"USED_FOR_CAND\":\"N\",\"USED_FOR_SCORING\":\"Y\",\"ENTITY_COUNT\":1,\"CANDIDATE_CAP_REACHED\":\"N\",\"SCORING_CAP_REACHED\":\"N\",\"SUPPRESSED\":\"N\"}]}],\"NAME_KEY\":[{\"FEAT_DESC\":\"KRN|MTLN\",\"LIB_FEAT_ID\":34,\"FEAT_DESC_VALUES\":[{\"FEAT_DESC\":\"KRN|MTLN\",\"LIB_FEAT_ID\":34,\"USED_FOR_CAND\":\"Y\",\"USED_FOR_SCORING\":\"N\",\"ENTITY_COUNT\":1,\"CANDIDATE_CAP_REACHED\":\"N\",\"SCORING_CAP_REACHED\":\"N\",\"SUPPRESSED\":\"N\"}]},{\"FEAT_DESC\":\"KRN|MTLN|SSN=1111\",\"LIB_FEAT_ID\":35,\"FEAT_DESC_VALUES\":[{\"FEAT_DESC\":\"KRN|MTLN|SSN=1111\",\"LIB_FEAT_ID\":35,\"USED_FOR_CAND\":\"Y\",\"USED_FOR_SCORING\":\"N\",\"ENTITY_COUNT\":1,\"CANDIDATE_CAP_REACHED\":\"N\",\"SCORING_CAP_REACHED\":\"N\",\"SUPPRESSED\":\"N\"}]}],\"SSN\":[{\"FEAT_DESC\":\"111-11-1111\",\"LIB_FEAT_ID\":3,\"FEAT_DESC_VALUES\":[{\"FEAT_DESC\":\"111-11-1111\",\"LIB_FEAT_ID\":3,\"USED_FOR_CAND\":\"Y\",\"USED_FOR_SCORING\":\"Y\",\"ENTITY_COUNT\":6,\"CANDIDATE_CAP_REACHED\":\"Y\",\"SCORING_CAP_REACHED\":\"N\",\"SUPPRESSED\":\"N\"}]}]},\"RECORD_SUMMARY\":[{\"DATA_SOURCE\":\"TEST\",\"RECORD_COUNT\":2,\"FIRST_SEEN_DT\":\"2022-11-05 16:18:13.745\",\"LAST_SEEN_DT\":\"2022-11-05 16:18:13.899\"}],\"LAST_SEEN_DT\":\"2022-11-05 16:18:13.899\",\"RECORDS\":[{\"DATA_SOURCE\":\"TEST\",\"RECORD_ID\":\"1\",\"ENTITY_TYPE\":\"GENERIC\",\"INTERNAL_ID\":7,\"ENTITY_KEY\":\"ED809E0DCED3B9F3A411B5FABF62E2D866DBE02F\",\"ENTITY_DESC\":\"Madelyn Caryn\",\"LAST_SEEN_DT\":\"2022-11-05 16:18:13.745\",\"FEATURES\":[{\"LIB_FEAT_ID\":3},{\"LIB_FEAT_ID\":10},{\"LIB_FEAT_ID\":33,\"USAGE_TYPE\":\"PRIMARY\"},{\"LIB_FEAT_ID\":34},{\"LIB_FEAT_ID\":35}]},{\"DATA_SOURCE\":\"TEST\",\"RECORD_ID\":\"2\",\"ENTITY_TYPE\":\"GENERIC\",\"INTERNAL_ID\":7,\"ENTITY_KEY\":\"ED809E0DCED3B9F3A411B5FABF62E2D866DBE02F\",\"ENTITY_DESC\":\"Madelyn Caryn\",\"LAST_SEEN_DT\":\"2022-11-05 16:18:13.899\",\"FEATURES\":[{\"LIB_FEAT_ID\":3},{\"LIB_FEAT_ID\":10},{\"LIB_FEAT_ID\":33,\"USAGE_TYPE\":\"PRIMARY\"},{\"LIB_FEAT_ID\":34},{\"LIB_FEAT_ID\":35}]}]}}))});"
      ],
      "text/plain": [
       "require([\"https://rawgit.com/caldwell/renderjson/master/renderjson.js\"], function() {document.getElementById('5f731e04-b731-411b-973e-bdf366d02df6').appendChild(renderjson({\"RESOLVED_ENTITY\":{\"ENTITY_ID\":7,\"ENTITY_NAME\":\"Madelyn Caryn\",\"FEATURES\":{\"ID_KEY\":[{\"FEAT_DESC\":\"SSN=111-11-1111\",\"LIB_FEAT_ID\":10,\"FEAT_DESC_VALUES\":[{\"FEAT_DESC\":\"SSN=111-11-1111\",\"LIB_FEAT_ID\":10,\"USED_FOR_CAND\":\"Y\",\"USED_FOR_SCORING\":\"N\",\"ENTITY_COUNT\":6,\"CANDIDATE_CAP_REACHED\":\"Y\",\"SCORING_CAP_REACHED\":\"N\",\"SUPPRESSED\":\"N\"}]}],\"NAME\":[{\"FEAT_DESC\":\"Madelyn Caryn\",\"LIB_FEAT_ID\":33,\"USAGE_TYPE\":\"PRIMARY\",\"FEAT_DESC_VALUES\":[{\"FEAT_DESC\":\"Madelyn Caryn\",\"LIB_FEAT_ID\":33,\"USED_FOR_CAND\":\"N\",\"USED_FOR_SCORING\":\"Y\",\"ENTITY_COUNT\":1,\"CANDIDATE_CAP_REACHED\":\"N\",\"SCORING_CAP_REACHED\":\"N\",\"SUPPRESSED\":\"N\"}]}],\"NAME_KEY\":[{\"FEAT_DESC\":\"KRN|MTLN\",\"LIB_FEAT_ID\":34,\"FEAT_DESC_VALUES\":[{\"FEAT_DESC\":\"KRN|MTLN\",\"LIB_FEAT_ID\":34,\"USED_FOR_CAND\":\"Y\",\"USED_FOR_SCORING\":\"N\",\"ENTITY_COUNT\":1,\"CANDIDATE_CAP_REACHED\":\"N\",\"SCORING_CAP_REACHED\":\"N\",\"SUPPRESSED\":\"N\"}]},{\"FEAT_DESC\":\"KRN|MTLN|SSN=1111\",\"LIB_FEAT_ID\":35,\"FEAT_DESC_VALUES\":[{\"FEAT_DESC\":\"KRN|MTLN|SSN=1111\",\"LIB_FEAT_ID\":35,\"USED_FOR_CAND\":\"Y\",\"USED_FOR_SCORING\":\"N\",\"ENTITY_COUNT\":1,\"CANDIDATE_CAP_REACHED\":\"N\",\"SCORING_CAP_REACHED\":\"N\",\"SUPPRESSED\":\"N\"}]}],\"SSN\":[{\"FEAT_DESC\":\"111-11-1111\",\"LIB_FEAT_ID\":3,\"FEAT_DESC_VALUES\":[{\"FEAT_DESC\":\"111-11-1111\",\"LIB_FEAT_ID\":3,\"USED_FOR_CAND\":\"Y\",\"USED_FOR_SCORING\":\"Y\",\"ENTITY_COUNT\":6,\"CANDIDATE_CAP_REACHED\":\"Y\",\"SCORING_CAP_REACHED\":\"N\",\"SUPPRESSED\":\"N\"}]}]},\"RECORD_SUMMARY\":[{\"DATA_SOURCE\":\"TEST\",\"RECORD_COUNT\":2,\"FIRST_SEEN_DT\":\"2022-11-05 16:18:13.745\",\"LAST_SEEN_DT\":\"2022-11-05 16:18:13.899\"}],\"LAST_SEEN_DT\":\"2022-11-05 16:18:13.899\",\"RECORDS\":[{\"DATA_SOURCE\":\"TEST\",\"RECORD_ID\":\"1\",\"ENTITY_TYPE\":\"GENERIC\",\"INTERNAL_ID\":7,\"ENTITY_KEY\":\"ED809E0DCED3B9F3A411B5FABF62E2D866DBE02F\",\"ENTITY_DESC\":\"Madelyn Caryn\",\"LAST_SEEN_DT\":\"2022-11-05 16:18:13.745\",\"FEATURES\":[{\"LIB_FEAT_ID\":3},{\"LIB_FEAT_ID\":10},{\"LIB_FEAT_ID\":33,\"USAGE_TYPE\":\"PRIMARY\"},{\"LIB_FEAT_ID\":34},{\"LIB_FEAT_ID\":35}]},{\"DATA_SOURCE\":\"TEST\",\"RECORD_ID\":\"2\",\"ENTITY_TYPE\":\"GENERIC\",\"INTERNAL_ID\":7,\"ENTITY_KEY\":\"ED809E0DCED3B9F3A411B5FABF62E2D866DBE02F\",\"ENTITY_DESC\":\"Madelyn Caryn\",\"LAST_SEEN_DT\":\"2022-11-05 16:18:13.899\",\"FEATURES\":[{\"LIB_FEAT_ID\":3},{\"LIB_FEAT_ID\":10},{\"LIB_FEAT_ID\":33,\"USAGE_TYPE\":\"PRIMARY\"},{\"LIB_FEAT_ID\":34},{\"LIB_FEAT_ID\":35}]}]}}))});"
      ]
     },
     "metadata": {},
     "output_type": "display_data"
    }
   ],
   "source": [
    "StringBuffer response = new StringBuffer();\n",
    "String records =  \"{\\\"RECORDS\\\": [{\\\"DATA_SOURCE\\\": \\\"\"+dataSourceCode1+\"\\\", \\\"RECORD_ID\\\": \\\"\"+recordID1+\"\\\"}, {\\\"DATA_SOURCE\\\": \\\"\"+dataSourceCode2+\"\\\", \\\"RECORD_ID\\\": \\\"\"+recordID2+\"\\\"}]}\";\n",
    "\n",
    "int return_code = g2engine.getVirtualEntityByRecordID(\n",
    "                            records,\n",
    "                            response);\n",
    "\n",
    "if(return_code!=0)\n",
    "    System.out.print(g2engine.getLastException());\n",
    "else\n",
    "    RenderJSON(response);"
   ]
  },
  {
   "cell_type": "markdown",
   "metadata": {},
   "source": [
    "### Finding Paths\n",
    "\n",
    "First you will need to create some records so that you have some that you can\n",
    "compare.\n",
    "Can you see what is the same between this record and the previous one?"
   ]
  },
  {
   "cell_type": "markdown",
   "metadata": {},
   "source": [
    "#### Create records for paths"
   ]
  },
  {
   "cell_type": "code",
   "execution_count": 55,
   "metadata": {},
   "outputs": [],
   "source": [
    "String jsonData =  \"{\\\"NAME_TYPE\\\": \\\"PRIMARY\\\", \\\"NAME_FIRST\\\": \\\"Max\\\", \\\"NAME_LAST\\\": \\\"Miller\\\", \\\"NAME_MIDDLE\\\": \\\"W\\\",\\\"SSN_NUMBER\\\": \\\"111-11-1111\\\"}\";\n",
    "\n",
    "String dataSourceCode = dataSourceCode2;\n",
    "String recordID = recordID2;\n",
    "int return_code = g2engine.replaceRecord(dataSourceCode, recordID, jsonData, loadID);\n",
    "\n",
    "if(return_code!=0)\n",
    "    System.out.print(g2engine.getLastException());"
   ]
  },
  {
   "cell_type": "markdown",
   "metadata": {},
   "source": [
    "Replace values for Record #3"
   ]
  },
  {
   "cell_type": "code",
   "execution_count": 56,
   "metadata": {},
   "outputs": [],
   "source": [
    "String jsonData =  \"{\\\"NAME_TYPE\\\": \\\"PRIMARY\\\", \\\"NAME_FIRST\\\": \\\"Mildred\\\", \\\"NAME_LAST\\\": \\\"Miller\\\", \\\"SSN_NUMBER\\\": \\\"111-11-1111\\\"}\";\n",
    "\n",
    "String dataSourceCode = dataSourceCode3;\n",
    "String recordID = recordID3;\n",
    "int return_code = g2engine.replaceRecord(dataSourceCode, recordID, jsonData, loadID);\n",
    "\n",
    "if(return_code!=0)\n",
    "    System.out.print(g2engine.getLastException());"
   ]
  },
  {
   "cell_type": "markdown",
   "metadata": {},
   "source": [
    "Locate \"entity identifier\" for Record #1"
   ]
  },
  {
   "cell_type": "code",
   "execution_count": 57,
   "metadata": {},
   "outputs": [
    {
     "data": {
      "text/html": [
       "<div id=\"f0ce0167-0396-4fbc-83e0-bc336e58afeb\" style=\"height:100%; width:100%; background-color: LightCyan\"></div>"
      ],
      "text/plain": [
       "<div id=\"f0ce0167-0396-4fbc-83e0-bc336e58afeb\" style=\"height:100%; width:100%; background-color: LightCyan\"></div>"
      ]
     },
     "metadata": {},
     "output_type": "display_data"
    },
    {
     "data": {
      "application/javascript": [
       "require([\"https://rawgit.com/caldwell/renderjson/master/renderjson.js\"], function() {document.getElementById('f0ce0167-0396-4fbc-83e0-bc336e58afeb').appendChild(renderjson({\"RESOLVED_ENTITY\":{\"ENTITY_ID\":7,\"ENTITY_NAME\":\"Madelyn Caryn\",\"FEATURES\":{\"NAME\":[{\"FEAT_DESC\":\"Madelyn Caryn\",\"LIB_FEAT_ID\":33,\"USAGE_TYPE\":\"PRIMARY\",\"FEAT_DESC_VALUES\":[{\"FEAT_DESC\":\"Madelyn Caryn\",\"LIB_FEAT_ID\":33}]}],\"SSN\":[{\"FEAT_DESC\":\"111-11-1111\",\"LIB_FEAT_ID\":3,\"FEAT_DESC_VALUES\":[{\"FEAT_DESC\":\"111-11-1111\",\"LIB_FEAT_ID\":3}]}]},\"RECORD_SUMMARY\":[{\"DATA_SOURCE\":\"TEST\",\"RECORD_COUNT\":2,\"FIRST_SEEN_DT\":\"2022-11-05 16:18:01.451\",\"LAST_SEEN_DT\":\"2022-11-05 16:18:13.745\"}],\"LAST_SEEN_DT\":\"2022-11-05 16:18:13.745\",\"RECORDS\":[{\"DATA_SOURCE\":\"TEST\",\"RECORD_ID\":\"1\",\"ENTITY_TYPE\":\"GENERIC\",\"INTERNAL_ID\":7,\"ENTITY_KEY\":\"ED809E0DCED3B9F3A411B5FABF62E2D866DBE02F\",\"ENTITY_DESC\":\"Madelyn Caryn\",\"MATCH_KEY\":\"\",\"MATCH_LEVEL\":0,\"MATCH_LEVEL_CODE\":\"\",\"ERRULE_CODE\":\"\",\"LAST_SEEN_DT\":\"2022-11-05 16:18:13.745\"},{\"DATA_SOURCE\":\"TEST\",\"RECORD_ID\":\"8\",\"ENTITY_TYPE\":\"GENERIC\",\"INTERNAL_ID\":7,\"ENTITY_KEY\":\"ED809E0DCED3B9F3A411B5FABF62E2D866DBE02F\",\"ENTITY_DESC\":\"Madelyn Caryn\",\"MATCH_KEY\":\"+EXACTLY_SAME\",\"MATCH_LEVEL\":0,\"MATCH_LEVEL_CODE\":\"\",\"ERRULE_CODE\":\"\",\"LAST_SEEN_DT\":\"2022-11-05 16:18:01.451\"}]},\"RELATED_ENTITIES\":[]}))});"
      ],
      "text/plain": [
       "require([\"https://rawgit.com/caldwell/renderjson/master/renderjson.js\"], function() {document.getElementById('f0ce0167-0396-4fbc-83e0-bc336e58afeb').appendChild(renderjson({\"RESOLVED_ENTITY\":{\"ENTITY_ID\":7,\"ENTITY_NAME\":\"Madelyn Caryn\",\"FEATURES\":{\"NAME\":[{\"FEAT_DESC\":\"Madelyn Caryn\",\"LIB_FEAT_ID\":33,\"USAGE_TYPE\":\"PRIMARY\",\"FEAT_DESC_VALUES\":[{\"FEAT_DESC\":\"Madelyn Caryn\",\"LIB_FEAT_ID\":33}]}],\"SSN\":[{\"FEAT_DESC\":\"111-11-1111\",\"LIB_FEAT_ID\":3,\"FEAT_DESC_VALUES\":[{\"FEAT_DESC\":\"111-11-1111\",\"LIB_FEAT_ID\":3}]}]},\"RECORD_SUMMARY\":[{\"DATA_SOURCE\":\"TEST\",\"RECORD_COUNT\":2,\"FIRST_SEEN_DT\":\"2022-11-05 16:18:01.451\",\"LAST_SEEN_DT\":\"2022-11-05 16:18:13.745\"}],\"LAST_SEEN_DT\":\"2022-11-05 16:18:13.745\",\"RECORDS\":[{\"DATA_SOURCE\":\"TEST\",\"RECORD_ID\":\"1\",\"ENTITY_TYPE\":\"GENERIC\",\"INTERNAL_ID\":7,\"ENTITY_KEY\":\"ED809E0DCED3B9F3A411B5FABF62E2D866DBE02F\",\"ENTITY_DESC\":\"Madelyn Caryn\",\"MATCH_KEY\":\"\",\"MATCH_LEVEL\":0,\"MATCH_LEVEL_CODE\":\"\",\"ERRULE_CODE\":\"\",\"LAST_SEEN_DT\":\"2022-11-05 16:18:13.745\"},{\"DATA_SOURCE\":\"TEST\",\"RECORD_ID\":\"8\",\"ENTITY_TYPE\":\"GENERIC\",\"INTERNAL_ID\":7,\"ENTITY_KEY\":\"ED809E0DCED3B9F3A411B5FABF62E2D866DBE02F\",\"ENTITY_DESC\":\"Madelyn Caryn\",\"MATCH_KEY\":\"+EXACTLY_SAME\",\"MATCH_LEVEL\":0,\"MATCH_LEVEL_CODE\":\"\",\"ERRULE_CODE\":\"\",\"LAST_SEEN_DT\":\"2022-11-05 16:18:01.451\"}]},\"RELATED_ENTITIES\":[]}))});"
      ]
     },
     "metadata": {},
     "output_type": "display_data"
    }
   ],
   "source": [
    "String dataSourceCode = dataSourceCode1;\n",
    "String recordID = recordID1;\n",
    "StringBuffer response = new StringBuffer();\n",
    "\n",
    "int return_code = g2engine.getEntityByRecordID(\n",
    "                            dataSourceCode,\n",
    "                            recordID,\n",
    "                            response);\n",
    "                            \n",
    "JsonObject jsonObject = JsonUtil.parseJsonObject(response.toString());\n",
    "long entityID2 = jsonObject.getJsonObject(\"RESOLVED_ENTITY\").getJsonNumber(\"ENTITY_ID\").longValue();\n",
    "\n",
    "if(return_code!=0)\n",
    "    System.out.print(g2engine.getLastException());\n",
    "else\n",
    "    RenderJSON(response);"
   ]
  },
  {
   "cell_type": "markdown",
   "metadata": {},
   "source": [
    "Locate \"entity identifier\" for Record #3"
   ]
  },
  {
   "cell_type": "code",
   "execution_count": 58,
   "metadata": {},
   "outputs": [
    {
     "data": {
      "text/html": [
       "<div id=\"e171094d-ca1b-4e3a-aadb-1356765a314e\" style=\"height:100%; width:100%; background-color: LightCyan\"></div>"
      ],
      "text/plain": [
       "<div id=\"e171094d-ca1b-4e3a-aadb-1356765a314e\" style=\"height:100%; width:100%; background-color: LightCyan\"></div>"
      ]
     },
     "metadata": {},
     "output_type": "display_data"
    },
    {
     "data": {
      "application/javascript": [
       "require([\"https://rawgit.com/caldwell/renderjson/master/renderjson.js\"], function() {document.getElementById('e171094d-ca1b-4e3a-aadb-1356765a314e').appendChild(renderjson({\"RESOLVED_ENTITY\":{\"ENTITY_ID\":9,\"ENTITY_NAME\":\"Mildred Miller\",\"FEATURES\":{\"NAME\":[{\"FEAT_DESC\":\"Mildred Miller\",\"LIB_FEAT_ID\":41,\"USAGE_TYPE\":\"PRIMARY\",\"FEAT_DESC_VALUES\":[{\"FEAT_DESC\":\"Mildred Miller\",\"LIB_FEAT_ID\":41}]}],\"SSN\":[{\"FEAT_DESC\":\"111-11-1111\",\"LIB_FEAT_ID\":3,\"FEAT_DESC_VALUES\":[{\"FEAT_DESC\":\"111-11-1111\",\"LIB_FEAT_ID\":3}]}]},\"RECORD_SUMMARY\":[{\"DATA_SOURCE\":\"TEST\",\"RECORD_COUNT\":1,\"FIRST_SEEN_DT\":\"2022-11-05 16:18:22.340\",\"LAST_SEEN_DT\":\"2022-11-05 16:18:22.340\"}],\"LAST_SEEN_DT\":\"2022-11-05 16:18:22.340\",\"RECORDS\":[{\"DATA_SOURCE\":\"TEST\",\"RECORD_ID\":\"3\",\"ENTITY_TYPE\":\"GENERIC\",\"INTERNAL_ID\":9,\"ENTITY_KEY\":\"B4C5F2D4B888C71C115DE44C8E6389FC57B6B2C5\",\"ENTITY_DESC\":\"Mildred Miller\",\"MATCH_KEY\":\"\",\"MATCH_LEVEL\":0,\"MATCH_LEVEL_CODE\":\"\",\"ERRULE_CODE\":\"\",\"LAST_SEEN_DT\":\"2022-11-05 16:18:22.340\"}]},\"RELATED_ENTITIES\":[]}))});"
      ],
      "text/plain": [
       "require([\"https://rawgit.com/caldwell/renderjson/master/renderjson.js\"], function() {document.getElementById('e171094d-ca1b-4e3a-aadb-1356765a314e').appendChild(renderjson({\"RESOLVED_ENTITY\":{\"ENTITY_ID\":9,\"ENTITY_NAME\":\"Mildred Miller\",\"FEATURES\":{\"NAME\":[{\"FEAT_DESC\":\"Mildred Miller\",\"LIB_FEAT_ID\":41,\"USAGE_TYPE\":\"PRIMARY\",\"FEAT_DESC_VALUES\":[{\"FEAT_DESC\":\"Mildred Miller\",\"LIB_FEAT_ID\":41}]}],\"SSN\":[{\"FEAT_DESC\":\"111-11-1111\",\"LIB_FEAT_ID\":3,\"FEAT_DESC_VALUES\":[{\"FEAT_DESC\":\"111-11-1111\",\"LIB_FEAT_ID\":3}]}]},\"RECORD_SUMMARY\":[{\"DATA_SOURCE\":\"TEST\",\"RECORD_COUNT\":1,\"FIRST_SEEN_DT\":\"2022-11-05 16:18:22.340\",\"LAST_SEEN_DT\":\"2022-11-05 16:18:22.340\"}],\"LAST_SEEN_DT\":\"2022-11-05 16:18:22.340\",\"RECORDS\":[{\"DATA_SOURCE\":\"TEST\",\"RECORD_ID\":\"3\",\"ENTITY_TYPE\":\"GENERIC\",\"INTERNAL_ID\":9,\"ENTITY_KEY\":\"B4C5F2D4B888C71C115DE44C8E6389FC57B6B2C5\",\"ENTITY_DESC\":\"Mildred Miller\",\"MATCH_KEY\":\"\",\"MATCH_LEVEL\":0,\"MATCH_LEVEL_CODE\":\"\",\"ERRULE_CODE\":\"\",\"LAST_SEEN_DT\":\"2022-11-05 16:18:22.340\"}]},\"RELATED_ENTITIES\":[]}))});"
      ]
     },
     "metadata": {},
     "output_type": "display_data"
    }
   ],
   "source": [
    "String dataSourceCode = dataSourceCode3;\n",
    "String recordID = recordID3;\n",
    "StringBuffer response = new StringBuffer();\n",
    "\n",
    "int return_code = g2engine.getEntityByRecordID(\n",
    "                            dataSourceCode,\n",
    "                            recordID,\n",
    "                            response);\n",
    "                            \n",
    "JsonObject jsonObject = JsonUtil.parseJsonObject(response.toString());\n",
    "long entityID3 = jsonObject.getJsonObject(\"RESOLVED_ENTITY\").getJsonNumber(\"ENTITY_ID\").longValue();\n",
    "\n",
    "if(return_code!=0)\n",
    "    System.out.print(g2engine.getLastException());\n",
    "else\n",
    "    RenderJSON(response);"
   ]
  },
  {
   "cell_type": "markdown",
   "metadata": {},
   "source": [
    "#### findPathByEntityID\n",
    "\n",
    "The `findPathByEntityID()` function can be used to find single relationship paths between two entities. Paths are found using known relationships with other entities.\n",
    "\n",
    "###### Parameters\n",
    "\n",
    "- **entityIDStart:** (int) The entity ID for the starting entity of the search path\n",
    "- **entityIDEnd:** (int) The entity ID for the ending entity of the search path\n",
    "- **maxDegree:** (int) The number of relationship degrees to search\n",
    "- **response:** (StringBuffer) Object to store the output of the method. Can be used to print or store for later\n",
    "- **g2EngineFlags:** (long) control flags (applicable flags listed here [findPathByEntityID flags](senzing-G2Engine-flags.ipynb#findPathByEntityID))\n",
    "\n",
    "The functions return a JSON document that identifies the path between the\n",
    "entities,\n",
    "and the information on the entities in question.\n",
    "The document contains a section called \"ENTITY_PATHS\" which gives\n",
    "the path from one entity to the other."
   ]
  },
  {
   "cell_type": "code",
   "execution_count": 59,
   "metadata": {
    "scrolled": true
   },
   "outputs": [
    {
     "data": {
      "text/html": [
       "<div id=\"0e8865fa-690b-4f9d-960f-e800fc64a561\" style=\"height:100%; width:100%; background-color: LightCyan\"></div>"
      ],
      "text/plain": [
       "<div id=\"0e8865fa-690b-4f9d-960f-e800fc64a561\" style=\"height:100%; width:100%; background-color: LightCyan\"></div>"
      ]
     },
     "metadata": {},
     "output_type": "display_data"
    },
    {
     "data": {
      "application/javascript": [
       "require([\"https://rawgit.com/caldwell/renderjson/master/renderjson.js\"], function() {document.getElementById('0e8865fa-690b-4f9d-960f-e800fc64a561').appendChild(renderjson({\"ENTITY_PATHS\":[{\"START_ENTITY_ID\":7,\"END_ENTITY_ID\":9,\"ENTITIES\":[]}],\"ENTITIES\":[{\"RESOLVED_ENTITY\":{\"ENTITY_ID\":7,\"ENTITY_NAME\":\"Madelyn Caryn\",\"RECORD_SUMMARY\":[{\"DATA_SOURCE\":\"TEST\",\"RECORD_COUNT\":2,\"FIRST_SEEN_DT\":\"2022-11-05 16:18:01.451\",\"LAST_SEEN_DT\":\"2022-11-05 16:18:13.745\"}],\"LAST_SEEN_DT\":\"2022-11-05 16:18:13.745\"},\"RELATED_ENTITIES\":[]},{\"RESOLVED_ENTITY\":{\"ENTITY_ID\":9,\"ENTITY_NAME\":\"Mildred Miller\",\"RECORD_SUMMARY\":[{\"DATA_SOURCE\":\"TEST\",\"RECORD_COUNT\":1,\"FIRST_SEEN_DT\":\"2022-11-05 16:18:22.340\",\"LAST_SEEN_DT\":\"2022-11-05 16:18:22.340\"}],\"LAST_SEEN_DT\":\"2022-11-05 16:18:22.340\"},\"RELATED_ENTITIES\":[]}]}))});"
      ],
      "text/plain": [
       "require([\"https://rawgit.com/caldwell/renderjson/master/renderjson.js\"], function() {document.getElementById('0e8865fa-690b-4f9d-960f-e800fc64a561').appendChild(renderjson({\"ENTITY_PATHS\":[{\"START_ENTITY_ID\":7,\"END_ENTITY_ID\":9,\"ENTITIES\":[]}],\"ENTITIES\":[{\"RESOLVED_ENTITY\":{\"ENTITY_ID\":7,\"ENTITY_NAME\":\"Madelyn Caryn\",\"RECORD_SUMMARY\":[{\"DATA_SOURCE\":\"TEST\",\"RECORD_COUNT\":2,\"FIRST_SEEN_DT\":\"2022-11-05 16:18:01.451\",\"LAST_SEEN_DT\":\"2022-11-05 16:18:13.745\"}],\"LAST_SEEN_DT\":\"2022-11-05 16:18:13.745\"},\"RELATED_ENTITIES\":[]},{\"RESOLVED_ENTITY\":{\"ENTITY_ID\":9,\"ENTITY_NAME\":\"Mildred Miller\",\"RECORD_SUMMARY\":[{\"DATA_SOURCE\":\"TEST\",\"RECORD_COUNT\":1,\"FIRST_SEEN_DT\":\"2022-11-05 16:18:22.340\",\"LAST_SEEN_DT\":\"2022-11-05 16:18:22.340\"}],\"LAST_SEEN_DT\":\"2022-11-05 16:18:22.340\"},\"RELATED_ENTITIES\":[]}]}))});"
      ]
     },
     "metadata": {},
     "output_type": "display_data"
    }
   ],
   "source": [
    "long entityIDStart = entityID2;\n",
    "long entityIDEnd = entityID3;\n",
    "\n",
    "int maxDegree = 3;\n",
    "\n",
    "StringBuffer response = new StringBuffer();\n",
    "\n",
    "int ret_code = g2engine.findPathByEntityID(\n",
    "                            entityIDStart,\n",
    "                            entityIDEnd,\n",
    "                            maxDegree, \n",
    "                            response);\n",
    "\n",
    "if(ret_code!=0)\n",
    "    System.out.print(g2engine.getLastException());\n",
    "else\n",
    "    RenderJSON(response);"
   ]
  },
  {
   "cell_type": "markdown",
   "metadata": {},
   "source": [
    "#### findPathByRecordID\n",
    "\n",
    "The `findPathByRecordID()` function\n",
    "can be used to find single relationship paths between two entities.\n",
    "Paths are found using known relationships with other entities.\n",
    "\n",
    "###### Parameters\n",
    "\n",
    "- **dataSourceCodeStart:** (str) The data source for the starting entity of the\n",
    "  search path\n",
    "- **dataSourceCodeEnd:** (str) The data source for the ending entity of the search\n",
    "  path\n",
    "- **recordIDStart:** (int) The record ID for the starting entity of the search path\n",
    "- **recordIDEnd:** (int) The record ID for the ending entity of the search path\n",
    "- **maxDegree:** (int) The number of relationship degrees to search\n",
    "- **g2EngineFlags:** (long) control flags (applicable flags listed here [findPathByRecordID flags](senzing-G2Engine-flags.ipynb#findPathByRecordID))\n",
    "- **response:** (StringBuffer) Object to store the output of the method. Can be used to print or store for later.\n",
    "\n",
    "The functions return a JSON document that identifies the path between the\n",
    "entities,\n",
    "and the information on the entities in question.\n",
    "The document contains a section called \"ENTITY_PATHS\" which gives\n",
    "the path from one entity to the other."
   ]
  },
  {
   "cell_type": "code",
   "execution_count": 60,
   "metadata": {
    "scrolled": true
   },
   "outputs": [
    {
     "data": {
      "text/html": [
       "<div id=\"11788347-3d87-4bee-acb9-9682fb5ded05\" style=\"height:100%; width:100%; background-color: LightCyan\"></div>"
      ],
      "text/plain": [
       "<div id=\"11788347-3d87-4bee-acb9-9682fb5ded05\" style=\"height:100%; width:100%; background-color: LightCyan\"></div>"
      ]
     },
     "metadata": {},
     "output_type": "display_data"
    },
    {
     "data": {
      "application/javascript": [
       "require([\"https://rawgit.com/caldwell/renderjson/master/renderjson.js\"], function() {document.getElementById('11788347-3d87-4bee-acb9-9682fb5ded05').appendChild(renderjson({\"ENTITY_PATHS\":[{\"START_ENTITY_ID\":8,\"END_ENTITY_ID\":9,\"ENTITIES\":[]}],\"ENTITIES\":[{\"RESOLVED_ENTITY\":{\"ENTITY_ID\":8,\"ENTITY_NAME\":\"Max W Miller\",\"RECORD_SUMMARY\":[{\"DATA_SOURCE\":\"TEST\",\"RECORD_COUNT\":1,\"FIRST_SEEN_DT\":\"2022-11-05 16:18:13.899\",\"LAST_SEEN_DT\":\"2022-11-05 16:18:21.309\"}],\"LAST_SEEN_DT\":\"2022-11-05 16:18:21.309\"},\"RELATED_ENTITIES\":[]},{\"RESOLVED_ENTITY\":{\"ENTITY_ID\":9,\"ENTITY_NAME\":\"Mildred Miller\",\"RECORD_SUMMARY\":[{\"DATA_SOURCE\":\"TEST\",\"RECORD_COUNT\":1,\"FIRST_SEEN_DT\":\"2022-11-05 16:18:22.340\",\"LAST_SEEN_DT\":\"2022-11-05 16:18:22.340\"}],\"LAST_SEEN_DT\":\"2022-11-05 16:18:22.340\"},\"RELATED_ENTITIES\":[]}]}))});"
      ],
      "text/plain": [
       "require([\"https://rawgit.com/caldwell/renderjson/master/renderjson.js\"], function() {document.getElementById('11788347-3d87-4bee-acb9-9682fb5ded05').appendChild(renderjson({\"ENTITY_PATHS\":[{\"START_ENTITY_ID\":8,\"END_ENTITY_ID\":9,\"ENTITIES\":[]}],\"ENTITIES\":[{\"RESOLVED_ENTITY\":{\"ENTITY_ID\":8,\"ENTITY_NAME\":\"Max W Miller\",\"RECORD_SUMMARY\":[{\"DATA_SOURCE\":\"TEST\",\"RECORD_COUNT\":1,\"FIRST_SEEN_DT\":\"2022-11-05 16:18:13.899\",\"LAST_SEEN_DT\":\"2022-11-05 16:18:21.309\"}],\"LAST_SEEN_DT\":\"2022-11-05 16:18:21.309\"},\"RELATED_ENTITIES\":[]},{\"RESOLVED_ENTITY\":{\"ENTITY_ID\":9,\"ENTITY_NAME\":\"Mildred Miller\",\"RECORD_SUMMARY\":[{\"DATA_SOURCE\":\"TEST\",\"RECORD_COUNT\":1,\"FIRST_SEEN_DT\":\"2022-11-05 16:18:22.340\",\"LAST_SEEN_DT\":\"2022-11-05 16:18:22.340\"}],\"LAST_SEEN_DT\":\"2022-11-05 16:18:22.340\"},\"RELATED_ENTITIES\":[]}]}))});"
      ]
     },
     "metadata": {},
     "output_type": "display_data"
    }
   ],
   "source": [
    "String dataSourceCodeStart = dataSourceCode2;\n",
    "String dataSourceCodeEnd = dataSourceCode3;\n",
    "String recordIDStart = recordID2;\n",
    "String recordIDEnd = recordID3;\n",
    "int maxDegree = 3;\n",
    "\n",
    "ret_code = g2engine.findPathByRecordID(\n",
    "                        dataSourceCodeStart,\n",
    "                        recordIDStart,\n",
    "                        dataSourceCodeEnd,\n",
    "                        recordIDEnd,\n",
    "                        maxDegree,\n",
    "                        response);\n",
    "\n",
    "if(ret_code!=0)\n",
    "    System.out.print(g2engine.getLastException());\n",
    "else\n",
    "    RenderJSON(response);"
   ]
  },
  {
   "cell_type": "markdown",
   "metadata": {},
   "source": [
    "#### findPathExcludingByEntityID\n",
    "\n",
    "The `findPathExcludingByEntityID()` function can be used to find single relationship paths between two\n",
    "entities.\n",
    "Paths are found using known relationships with other entities.\n",
    "In addition, it will find paths that exclude certain entities from being on\n",
    "the path.\n",
    "\n",
    "\n",
    "When excluding entities, the user may choose to either (a) strictly exclude\n",
    "the entities,\n",
    "or (b) prefer to exclude the entities, but still include them if no other\n",
    "path is found.\n",
    "By default, entities will be strictly excluded.\n",
    "A \"preferred exclude\" may be done by specifying the\n",
    "`G2_FIND_PATH_PREFER_EXCLUDE` control flag.\n",
    "\n",
    "###### Parameters\n",
    "\n",
    "- **entityIDStart:** (int) The entity ID for the starting entity of the search path\n",
    "- **entityIDEnd:** (int) The entity ID for the ending entity of the search path\n",
    "- **maxDegree:** (int) The number of relationship degrees to search\n",
    "- **excludedEntities:** (str) Entities that should be avoided on the path\n",
    "  (JSON document)\n",
    "- **response:** (StringBuffer) Object to store the output of the method. Can be used to print or store for later\n",
    "- **g2EngineFlags:** (long) control flags (applicable flags listed here [findPathExcludingByEntityID flags](senzing-G2Engine-flags.ipynb#findPathExcludingByEntityID))"
   ]
  },
  {
   "cell_type": "code",
   "execution_count": 61,
   "metadata": {
    "scrolled": true
   },
   "outputs": [
    {
     "data": {
      "text/html": [
       "<div id=\"400b837b-dccc-447d-b1e1-d654e7d84b07\" style=\"height:100%; width:100%; background-color: LightCyan\"></div>"
      ],
      "text/plain": [
       "<div id=\"400b837b-dccc-447d-b1e1-d654e7d84b07\" style=\"height:100%; width:100%; background-color: LightCyan\"></div>"
      ]
     },
     "metadata": {},
     "output_type": "display_data"
    },
    {
     "data": {
      "application/javascript": [
       "require([\"https://rawgit.com/caldwell/renderjson/master/renderjson.js\"], function() {document.getElementById('400b837b-dccc-447d-b1e1-d654e7d84b07').appendChild(renderjson({\"ENTITY_PATHS\":[{\"START_ENTITY_ID\":7,\"END_ENTITY_ID\":9,\"ENTITIES\":[]}],\"ENTITIES\":[{\"RESOLVED_ENTITY\":{\"ENTITY_ID\":7,\"ENTITY_NAME\":\"Madelyn Caryn\",\"RECORD_SUMMARY\":[{\"DATA_SOURCE\":\"TEST\",\"RECORD_COUNT\":2,\"FIRST_SEEN_DT\":\"2022-11-05 16:18:01.451\",\"LAST_SEEN_DT\":\"2022-11-05 16:18:13.745\"}],\"LAST_SEEN_DT\":\"2022-11-05 16:18:13.745\"},\"RELATED_ENTITIES\":[]},{\"RESOLVED_ENTITY\":{\"ENTITY_ID\":9,\"ENTITY_NAME\":\"Mildred Miller\",\"RECORD_SUMMARY\":[{\"DATA_SOURCE\":\"TEST\",\"RECORD_COUNT\":1,\"FIRST_SEEN_DT\":\"2022-11-05 16:18:22.340\",\"LAST_SEEN_DT\":\"2022-11-05 16:18:22.340\"}],\"LAST_SEEN_DT\":\"2022-11-05 16:18:22.340\"},\"RELATED_ENTITIES\":[]}]}))});"
      ],
      "text/plain": [
       "require([\"https://rawgit.com/caldwell/renderjson/master/renderjson.js\"], function() {document.getElementById('400b837b-dccc-447d-b1e1-d654e7d84b07').appendChild(renderjson({\"ENTITY_PATHS\":[{\"START_ENTITY_ID\":7,\"END_ENTITY_ID\":9,\"ENTITIES\":[]}],\"ENTITIES\":[{\"RESOLVED_ENTITY\":{\"ENTITY_ID\":7,\"ENTITY_NAME\":\"Madelyn Caryn\",\"RECORD_SUMMARY\":[{\"DATA_SOURCE\":\"TEST\",\"RECORD_COUNT\":2,\"FIRST_SEEN_DT\":\"2022-11-05 16:18:01.451\",\"LAST_SEEN_DT\":\"2022-11-05 16:18:13.745\"}],\"LAST_SEEN_DT\":\"2022-11-05 16:18:13.745\"},\"RELATED_ENTITIES\":[]},{\"RESOLVED_ENTITY\":{\"ENTITY_ID\":9,\"ENTITY_NAME\":\"Mildred Miller\",\"RECORD_SUMMARY\":[{\"DATA_SOURCE\":\"TEST\",\"RECORD_COUNT\":1,\"FIRST_SEEN_DT\":\"2022-11-05 16:18:22.340\",\"LAST_SEEN_DT\":\"2022-11-05 16:18:22.340\"}],\"LAST_SEEN_DT\":\"2022-11-05 16:18:22.340\"},\"RELATED_ENTITIES\":[]}]}))});"
      ]
     },
     "metadata": {},
     "output_type": "display_data"
    }
   ],
   "source": [
    "int maxDegree = 4;\n",
    "String excludedEntities = new String(\"{\\\"ENTITIES\\\":[{\\\"ENTITY_ID\\\":\\\"1\\\"}]}\");\n",
    "\n",
    "StringBuffer response = new StringBuffer();\n",
    "\n",
    "long entityIDStart = entityID2;\n",
    "long entityIDEnd = entityID3;\n",
    "\n",
    "int return_code = g2engine.findPathExcludingByEntityID(\n",
    "                            entityIDStart,\n",
    "                            entityIDEnd,\n",
    "                            maxDegree,\n",
    "                            excludedEntities,\n",
    "                            response);\n",
    "\n",
    "if(ret_code!=0)\n",
    "    System.out.print(g2engine.getLastException());\n",
    "else\n",
    "    RenderJSON(response);"
   ]
  },
  {
   "cell_type": "markdown",
   "metadata": {},
   "source": [
    "#### findPathExcludingByRecordID\n",
    "\n",
    "The `findPathExcludingByRecordID()`\n",
    "function can be used to find single relationship paths between two\n",
    "entities.\n",
    "Paths are found using known relationships with other entities.\n",
    "In addition, it will find paths that exclude certain entities from being on\n",
    "the path.\n",
    "\n",
    "When excluding entities, the user may choose to either (a) strictly exclude\n",
    "the entities,\n",
    "or (b) prefer to exclude the entities, but still include them if no other\n",
    "path is found.\n",
    "By default, entities will be strictly excluded.\n",
    "A \"preferred exclude\" may be done by specifying the\n",
    "`G2_FIND_PATH_PREFER_EXCLUDE` control flag.\n",
    "\n",
    "###### Parameters\n",
    "\n",
    "- **dataSourceCodeStart:** (str) The data source for the starting entity of the\n",
    "  search path\n",
    "- **dataSourceCodeEnd:** (str) The data source for the ending entity of the search\n",
    "  path\n",
    "- **recordIDStart:** (str) The record ID for the starting entity of the search path\n",
    "- **recordIDEnd:** (str) The record ID for the ending entity of the search path\n",
    "- **maxDegree:** (int) The number of relationship degrees to search\n",
    "- **excludedEntities:** (str) Entities that should be avoided on the path\n",
    "  (JSON document)\n",
    "- **response:** (StringBuffer) Object to store the output of the method. Can be used to print or store for later.\n",
    "- **g2EngineFlags:** (long) control flags (applicable flags listed here [findPathExcludingByRecordID flags](senzing-G2Engine-flags.ipynb#findPathExcludingByRecordID))\n"
   ]
  },
  {
   "cell_type": "code",
   "execution_count": 62,
   "metadata": {
    "scrolled": true
   },
   "outputs": [
    {
     "data": {
      "text/html": [
       "<div id=\"0dc63ae2-8a65-43e4-8b18-e6ac69eccdc9\" style=\"height:100%; width:100%; background-color: LightCyan\"></div>"
      ],
      "text/plain": [
       "<div id=\"0dc63ae2-8a65-43e4-8b18-e6ac69eccdc9\" style=\"height:100%; width:100%; background-color: LightCyan\"></div>"
      ]
     },
     "metadata": {},
     "output_type": "display_data"
    },
    {
     "data": {
      "application/javascript": [
       "require([\"https://rawgit.com/caldwell/renderjson/master/renderjson.js\"], function() {document.getElementById('0dc63ae2-8a65-43e4-8b18-e6ac69eccdc9').appendChild(renderjson({\"ENTITY_PATHS\":[{\"START_ENTITY_ID\":8,\"END_ENTITY_ID\":9,\"ENTITIES\":[]}],\"ENTITIES\":[{\"RESOLVED_ENTITY\":{\"ENTITY_ID\":8,\"ENTITY_NAME\":\"Max W Miller\",\"RECORD_SUMMARY\":[{\"DATA_SOURCE\":\"TEST\",\"RECORD_COUNT\":1,\"FIRST_SEEN_DT\":\"2022-11-05 16:18:13.899\",\"LAST_SEEN_DT\":\"2022-11-05 16:18:21.309\"}],\"LAST_SEEN_DT\":\"2022-11-05 16:18:21.309\"},\"RELATED_ENTITIES\":[]},{\"RESOLVED_ENTITY\":{\"ENTITY_ID\":9,\"ENTITY_NAME\":\"Mildred Miller\",\"RECORD_SUMMARY\":[{\"DATA_SOURCE\":\"TEST\",\"RECORD_COUNT\":1,\"FIRST_SEEN_DT\":\"2022-11-05 16:18:22.340\",\"LAST_SEEN_DT\":\"2022-11-05 16:18:22.340\"}],\"LAST_SEEN_DT\":\"2022-11-05 16:18:22.340\"},\"RELATED_ENTITIES\":[]}]}))});"
      ],
      "text/plain": [
       "require([\"https://rawgit.com/caldwell/renderjson/master/renderjson.js\"], function() {document.getElementById('0dc63ae2-8a65-43e4-8b18-e6ac69eccdc9').appendChild(renderjson({\"ENTITY_PATHS\":[{\"START_ENTITY_ID\":8,\"END_ENTITY_ID\":9,\"ENTITIES\":[]}],\"ENTITIES\":[{\"RESOLVED_ENTITY\":{\"ENTITY_ID\":8,\"ENTITY_NAME\":\"Max W Miller\",\"RECORD_SUMMARY\":[{\"DATA_SOURCE\":\"TEST\",\"RECORD_COUNT\":1,\"FIRST_SEEN_DT\":\"2022-11-05 16:18:13.899\",\"LAST_SEEN_DT\":\"2022-11-05 16:18:21.309\"}],\"LAST_SEEN_DT\":\"2022-11-05 16:18:21.309\"},\"RELATED_ENTITIES\":[]},{\"RESOLVED_ENTITY\":{\"ENTITY_ID\":9,\"ENTITY_NAME\":\"Mildred Miller\",\"RECORD_SUMMARY\":[{\"DATA_SOURCE\":\"TEST\",\"RECORD_COUNT\":1,\"FIRST_SEEN_DT\":\"2022-11-05 16:18:22.340\",\"LAST_SEEN_DT\":\"2022-11-05 16:18:22.340\"}],\"LAST_SEEN_DT\":\"2022-11-05 16:18:22.340\"},\"RELATED_ENTITIES\":[]}]}))});"
      ]
     },
     "metadata": {},
     "output_type": "display_data"
    }
   ],
   "source": [
    "String dataSourceCodeStart = dataSourceCode2;\n",
    "String dataSourceCodeEnd = dataSourceCode3;\n",
    "String recordIDStart = recordID2;\n",
    "String recordIDEnd = recordID3;\n",
    "StringBuffer response = new StringBuffer();\n",
    "\n",
    "String excludedRecords = new String(\"{\\\"RECORDS\\\":[{\\\"RECORD_ID\\\":\\\"1\\\",\\\"DATA_SOURCE\\\":\\\"TEST\\\"}]}\");\n",
    "\n",
    "return_code = g2engine.findPathExcludingByRecordID(\n",
    "                        dataSourceCodeStart,\n",
    "                        recordIDStart,\n",
    "                        dataSourceCodeEnd,\n",
    "                        recordIDEnd,\n",
    "                        maxDegree,\n",
    "                        excludedRecords,\n",
    "                        response);\n",
    "\n",
    "if(return_code!=0)\n",
    "    System.out.print(g2engine.getLastException());\n",
    "else\n",
    "    RenderJSON(response);"
   ]
  },
  {
   "cell_type": "markdown",
   "metadata": {},
   "source": [
    "### Finding Paths with Required Sources"
   ]
  },
  {
   "cell_type": "markdown",
   "metadata": {},
   "source": [
    "#### findPathIncludingSourceByEntityID\n",
    "\n",
    "The `findPathIncludingSourceByEntityID()` function\n",
    "can be used to find single relationship paths between two entities.\n",
    "In addition, one of the enties along the path must include a specified data\n",
    "source.\n",
    "\n",
    "Specific entities may also be excluded, using the same methodology as the\n",
    "`findPathExcludingByEntityID()` and `findPathExcludingByRecordID()`\n",
    "functions use.\n",
    "\n",
    "###### Parameters\n",
    "\n",
    "- **entityIDStart:** (int) The entity ID for the starting entity of the search path\n",
    "- **entityIDEnd:** (int) The entity ID for the ending entity of the search path\n",
    "- **maxDegree:** (int) The number of relationship degrees to search\n",
    "- **excludedEntities:** (str) Entities that should be avoided on the path\n",
    "  (JSON document)\n",
    "- **requiredDsrcs:** (str) Entities that should be avoided on the path\n",
    "  (JSON document)\n",
    "- **response:** (StringBuffer) Object to store the output of the method. Can be used to print or store for later\n",
    "- **g2EngineFlags:** (long) control flags (applicable flags listed here [findPathIncludingSourceByEntityID flags](senzing-G2Engine-flags.ipynb#findPathIncludingSourceByEntityID))\n"
   ]
  },
  {
   "cell_type": "code",
   "execution_count": 63,
   "metadata": {},
   "outputs": [
    {
     "data": {
      "text/html": [
       "<div id=\"19060c56-d7ab-49d7-acf0-6bc88bbefea6\" style=\"height:100%; width:100%; background-color: LightCyan\"></div>"
      ],
      "text/plain": [
       "<div id=\"19060c56-d7ab-49d7-acf0-6bc88bbefea6\" style=\"height:100%; width:100%; background-color: LightCyan\"></div>"
      ]
     },
     "metadata": {},
     "output_type": "display_data"
    },
    {
     "data": {
      "application/javascript": [
       "require([\"https://rawgit.com/caldwell/renderjson/master/renderjson.js\"], function() {document.getElementById('19060c56-d7ab-49d7-acf0-6bc88bbefea6').appendChild(renderjson({\"ENTITY_PATHS\":[{\"START_ENTITY_ID\":7,\"END_ENTITY_ID\":9,\"ENTITIES\":[]}],\"ENTITIES\":[{\"RESOLVED_ENTITY\":{\"ENTITY_ID\":7,\"ENTITY_NAME\":\"Madelyn Caryn\",\"RECORD_SUMMARY\":[{\"DATA_SOURCE\":\"TEST\",\"RECORD_COUNT\":2,\"FIRST_SEEN_DT\":\"2022-11-05 16:18:01.451\",\"LAST_SEEN_DT\":\"2022-11-05 16:18:13.745\"}],\"LAST_SEEN_DT\":\"2022-11-05 16:18:13.745\"},\"RELATED_ENTITIES\":[]},{\"RESOLVED_ENTITY\":{\"ENTITY_ID\":9,\"ENTITY_NAME\":\"Mildred Miller\",\"RECORD_SUMMARY\":[{\"DATA_SOURCE\":\"TEST\",\"RECORD_COUNT\":1,\"FIRST_SEEN_DT\":\"2022-11-05 16:18:22.340\",\"LAST_SEEN_DT\":\"2022-11-05 16:18:22.340\"}],\"LAST_SEEN_DT\":\"2022-11-05 16:18:22.340\"},\"RELATED_ENTITIES\":[]}]}))});"
      ],
      "text/plain": [
       "require([\"https://rawgit.com/caldwell/renderjson/master/renderjson.js\"], function() {document.getElementById('19060c56-d7ab-49d7-acf0-6bc88bbefea6').appendChild(renderjson({\"ENTITY_PATHS\":[{\"START_ENTITY_ID\":7,\"END_ENTITY_ID\":9,\"ENTITIES\":[]}],\"ENTITIES\":[{\"RESOLVED_ENTITY\":{\"ENTITY_ID\":7,\"ENTITY_NAME\":\"Madelyn Caryn\",\"RECORD_SUMMARY\":[{\"DATA_SOURCE\":\"TEST\",\"RECORD_COUNT\":2,\"FIRST_SEEN_DT\":\"2022-11-05 16:18:01.451\",\"LAST_SEEN_DT\":\"2022-11-05 16:18:13.745\"}],\"LAST_SEEN_DT\":\"2022-11-05 16:18:13.745\"},\"RELATED_ENTITIES\":[]},{\"RESOLVED_ENTITY\":{\"ENTITY_ID\":9,\"ENTITY_NAME\":\"Mildred Miller\",\"RECORD_SUMMARY\":[{\"DATA_SOURCE\":\"TEST\",\"RECORD_COUNT\":1,\"FIRST_SEEN_DT\":\"2022-11-05 16:18:22.340\",\"LAST_SEEN_DT\":\"2022-11-05 16:18:22.340\"}],\"LAST_SEEN_DT\":\"2022-11-05 16:18:22.340\"},\"RELATED_ENTITIES\":[]}]}))});"
      ]
     },
     "metadata": {},
     "output_type": "display_data"
    }
   ],
   "source": [
    "int maxDegree = 4;\n",
    "String excludedEntities = new String(\"{\\\"ENTITIES\\\":[{\\\"ENTITY_ID\\\":\\\"1\\\"}]}\");\n",
    "String requiredDsrcs = new String(\"{\\\"DATA_SOURCES\\\":[\\\"TEST\\\"]}\");\n",
    "\n",
    "StringBuffer response = new StringBuffer();\n",
    "\n",
    "int ret_code = g2engine.findPathIncludingSourceByEntityID(\n",
    "                            entityIDStart,\n",
    "                            entityIDEnd,\n",
    "                            maxDegree,\n",
    "                            excludedEntities,\n",
    "                            requiredDsrcs,\n",
    "                            response);\n",
    "\n",
    "if(return_code!=0)\n",
    "    System.out.print(g2engine.getLastException());\n",
    "else\n",
    "    RenderJSON(response);"
   ]
  },
  {
   "cell_type": "markdown",
   "metadata": {},
   "source": [
    "#### findPathIncludingSourceByRecordID\n",
    "\n",
    "\n",
    "The \n",
    "`findPathIncludingSourceByRecordID()` function\n",
    "can be used to find single relationship paths between two entities.\n",
    "In addition, one of the enties along the path must include a specified data\n",
    "source.\n",
    "\n",
    "Specific entities may also be excluded, using the same methodology as the\n",
    "`findPathExcludingByEntityID()` and `findPathExcludingByRecordID()`\n",
    "functions use.\n",
    "\n",
    "###### Parameters\n",
    "\n",
    "- **dataSourceCodeStart:** (str) The data source for the starting entity of the\n",
    "  search path\n",
    "- **dataSourceCodeEnd:** (str) The data source for the ending entity of the search\n",
    "  path\n",
    "- **recordIDStart:** (str) The record ID for the starting entity of the search\n",
    "  path\n",
    "- **recordIDEnd:** (str) The record ID for the ending entity of the search path\n",
    "- **maxDegree:** (int) The number of relationship degrees to search\n",
    "- **excludedEntities:** (str) Entities that should be avoided on the path\n",
    "  (JSON document)\n",
    "- **requiredDsrcs:** (str) Entities that should be avoided on the path\n",
    "  (JSON document)\n",
    "- **response:** (StringBuffer) Object to store the output of the method. Can be used to print or store for later\n",
    "- **g2EngineFlags:** (long) control flags (applicable flags listed here [findPathIncludingSourceByRecordID flags](senzing-G2Engine-flags.ipynb#findPathIncludingSourceByRecordID))"
   ]
  },
  {
   "cell_type": "code",
   "execution_count": 64,
   "metadata": {},
   "outputs": [
    {
     "data": {
      "text/html": [
       "<div id=\"04769f5a-2755-467b-aee0-7f144f3737d7\" style=\"height:100%; width:100%; background-color: LightCyan\"></div>"
      ],
      "text/plain": [
       "<div id=\"04769f5a-2755-467b-aee0-7f144f3737d7\" style=\"height:100%; width:100%; background-color: LightCyan\"></div>"
      ]
     },
     "metadata": {},
     "output_type": "display_data"
    },
    {
     "data": {
      "application/javascript": [
       "require([\"https://rawgit.com/caldwell/renderjson/master/renderjson.js\"], function() {document.getElementById('04769f5a-2755-467b-aee0-7f144f3737d7').appendChild(renderjson({\"ENTITY_PATHS\":[{\"START_ENTITY_ID\":8,\"END_ENTITY_ID\":9,\"ENTITIES\":[]}],\"ENTITIES\":[{\"RESOLVED_ENTITY\":{\"ENTITY_ID\":8,\"ENTITY_NAME\":\"Max W Miller\",\"RECORD_SUMMARY\":[{\"DATA_SOURCE\":\"TEST\",\"RECORD_COUNT\":1,\"FIRST_SEEN_DT\":\"2022-11-05 16:18:13.899\",\"LAST_SEEN_DT\":\"2022-11-05 16:18:21.309\"}],\"LAST_SEEN_DT\":\"2022-11-05 16:18:21.309\"},\"RELATED_ENTITIES\":[]},{\"RESOLVED_ENTITY\":{\"ENTITY_ID\":9,\"ENTITY_NAME\":\"Mildred Miller\",\"RECORD_SUMMARY\":[{\"DATA_SOURCE\":\"TEST\",\"RECORD_COUNT\":1,\"FIRST_SEEN_DT\":\"2022-11-05 16:18:22.340\",\"LAST_SEEN_DT\":\"2022-11-05 16:18:22.340\"}],\"LAST_SEEN_DT\":\"2022-11-05 16:18:22.340\"},\"RELATED_ENTITIES\":[]}]}))});"
      ],
      "text/plain": [
       "require([\"https://rawgit.com/caldwell/renderjson/master/renderjson.js\"], function() {document.getElementById('04769f5a-2755-467b-aee0-7f144f3737d7').appendChild(renderjson({\"ENTITY_PATHS\":[{\"START_ENTITY_ID\":8,\"END_ENTITY_ID\":9,\"ENTITIES\":[]}],\"ENTITIES\":[{\"RESOLVED_ENTITY\":{\"ENTITY_ID\":8,\"ENTITY_NAME\":\"Max W Miller\",\"RECORD_SUMMARY\":[{\"DATA_SOURCE\":\"TEST\",\"RECORD_COUNT\":1,\"FIRST_SEEN_DT\":\"2022-11-05 16:18:13.899\",\"LAST_SEEN_DT\":\"2022-11-05 16:18:21.309\"}],\"LAST_SEEN_DT\":\"2022-11-05 16:18:21.309\"},\"RELATED_ENTITIES\":[]},{\"RESOLVED_ENTITY\":{\"ENTITY_ID\":9,\"ENTITY_NAME\":\"Mildred Miller\",\"RECORD_SUMMARY\":[{\"DATA_SOURCE\":\"TEST\",\"RECORD_COUNT\":1,\"FIRST_SEEN_DT\":\"2022-11-05 16:18:22.340\",\"LAST_SEEN_DT\":\"2022-11-05 16:18:22.340\"}],\"LAST_SEEN_DT\":\"2022-11-05 16:18:22.340\"},\"RELATED_ENTITIES\":[]}]}))});"
      ]
     },
     "metadata": {},
     "output_type": "display_data"
    }
   ],
   "source": [
    "StringBuffer response = new StringBuffer();\n",
    "\n",
    "int return_code = g2engine.findPathIncludingSourceByRecordID(\n",
    "                            dataSourceCodeStart,\n",
    "                            recordIDStart,\n",
    "                            dataSourceCodeEnd,\n",
    "                            recordIDEnd,\n",
    "                            maxDegree,\n",
    "                            excludedEntities,\n",
    "                            requiredDsrcs,\n",
    "                            response);\n",
    "\n",
    "if(return_code!=0)\n",
    "    System.out.print(g2engine.getLastException());\n",
    "else\n",
    "    RenderJSON(response);"
   ]
  },
  {
   "cell_type": "markdown",
   "metadata": {},
   "source": [
    "### Finding Networks\n",
    "\n",
    "The `findNetworkByEntityID()` and `findNetworkByRecordID()` functions\n",
    "can be used to find all entities surrounding a requested set of entities.\n",
    "This includes the requested entities, paths between them, and relations to\n",
    "other nearby entities.\n",
    "\n",
    "Entities can be searched for by either Entity ID or by Record ID,\n",
    "depending on which function is chosen.\n",
    "\n",
    "These functions have the following parameters:\n",
    "\n",
    "- **entityList:** (str) A list of entities, specified by Entity ID\n",
    "  (JSON document)\n",
    "- **recordList:** (str) A list of entities, specified by Record ID\n",
    "  (JSON document)\n",
    "- **maxDegree:** (int) The maximum number of degrees in paths between search\n",
    "  entities\n",
    "- **buildoutDegree:** (int) The number of degrees of relationships to show around\n",
    "  each search entity\n",
    "- **maxEntities:** (int) The maximum number of entities to return in the\n",
    "  discovered network\n",
    "- **flags:** (int) Control flags for specifying what data about the\n",
    "  entity to retrieve.\n",
    "- **response:** (StringBuffer) A memory buffer for returning the response\n",
    "  document; if an error occurred, an error response is stored here.\n",
    "  \n",
    "They also have various arguments used to return response documents\n",
    "\n",
    "The functions return a JSON document that identifies the path between the\n",
    "each set of search entities (if the path exists), and the information on the\n",
    "entities in question (search entities, path entities, and build-out entities."
   ]
  },
  {
   "cell_type": "markdown",
   "metadata": {},
   "source": [
    "#### findNetworkByEntityID\n",
    "\n",
    "The `findNetworkByEntityID()` function\n",
    "can be used to find all entities surrounding a requested set of entities.\n",
    "This includes the requested entities, paths between them, and relations to\n",
    "other nearby entities.\n",
    "\n",
    "###### Parameters\n",
    "\n",
    "- **maxDegree:** (int) The maximum number of degrees in paths between search\n",
    "  entities\n",
    "- **buildoutDegree:** (int) The number of degrees of relationships to show around\n",
    "  each search entity\n",
    "- **maxEntities:** (int) The maximum number of entities to return in the\n",
    "  discovered network\n",
    "- **response:** (StringBuffer) Object to store the output of the method. Can be used to print or store for later\n",
    "- **g2EngineFlags:** (long) control flags (applicable flags listed here [findNetworkByEntityID flags](senzing-G2Engine-flags.ipynb#findNetworkByEntityID))\n",
    "\n",
    "The functions return a JSON document that identifies the path between the\n",
    "each set of search entities (if the path exists), and the information on the\n",
    "entities in question (search entities, path entities, and build-out entities."
   ]
  },
  {
   "cell_type": "code",
   "execution_count": 65,
   "metadata": {
    "scrolled": true
   },
   "outputs": [
    {
     "data": {
      "text/html": [
       "<div id=\"2a8797b7-91d9-4be1-a247-ea86de462e9d\" style=\"height:100%; width:100%; background-color: LightCyan\"></div>"
      ],
      "text/plain": [
       "<div id=\"2a8797b7-91d9-4be1-a247-ea86de462e9d\" style=\"height:100%; width:100%; background-color: LightCyan\"></div>"
      ]
     },
     "metadata": {},
     "output_type": "display_data"
    },
    {
     "data": {
      "application/javascript": [
       "require([\"https://rawgit.com/caldwell/renderjson/master/renderjson.js\"], function() {document.getElementById('2a8797b7-91d9-4be1-a247-ea86de462e9d').appendChild(renderjson({\"ENTITY_PATHS\":[],\"ENTITIES\":[{\"RESOLVED_ENTITY\":{\"ENTITY_ID\":7,\"ENTITY_NAME\":\"Madelyn Caryn\",\"RECORD_SUMMARY\":[{\"DATA_SOURCE\":\"TEST\",\"RECORD_COUNT\":2,\"FIRST_SEEN_DT\":\"2022-11-05 16:18:01.451\",\"LAST_SEEN_DT\":\"2022-11-05 16:18:13.745\"}],\"LAST_SEEN_DT\":\"2022-11-05 16:18:13.745\"},\"RELATED_ENTITIES\":[]}]}))});"
      ],
      "text/plain": [
       "require([\"https://rawgit.com/caldwell/renderjson/master/renderjson.js\"], function() {document.getElementById('2a8797b7-91d9-4be1-a247-ea86de462e9d').appendChild(renderjson({\"ENTITY_PATHS\":[],\"ENTITIES\":[{\"RESOLVED_ENTITY\":{\"ENTITY_ID\":7,\"ENTITY_NAME\":\"Madelyn Caryn\",\"RECORD_SUMMARY\":[{\"DATA_SOURCE\":\"TEST\",\"RECORD_COUNT\":2,\"FIRST_SEEN_DT\":\"2022-11-05 16:18:01.451\",\"LAST_SEEN_DT\":\"2022-11-05 16:18:13.745\"}],\"LAST_SEEN_DT\":\"2022-11-05 16:18:13.745\"},\"RELATED_ENTITIES\":[]}]}))});"
      ]
     },
     "metadata": {},
     "output_type": "display_data"
    }
   ],
   "source": [
    "StringBuffer response = new StringBuffer();\n",
    "int maxDegree = 2;\n",
    "int buildoutDegree = 1;\n",
    "int maxEntities = 12;\n",
    "String entityList = \"{\\\"ENTITIES\\\": [{\\\"ENTITY_ID\\\":\"+entityID+\"}, {\\\"ENTITY_ID\\\":\"+entityID2+\"}]}\";\n",
    "\n",
    "int return_code = g2engine.findNetworkByEntityID(\n",
    "                            entityList, \n",
    "                            maxDegree, \n",
    "                            buildoutDegree, \n",
    "                            maxEntities,\n",
    "                            response);\n",
    "if(return_code!=0)\n",
    "    System.out.print(g2engine.getLastException());\n",
    "else\n",
    "    RenderJSON(response);"
   ]
  },
  {
   "cell_type": "markdown",
   "metadata": {},
   "source": [
    "#### findNetworkByRecordID\n",
    "\n",
    "The `findNetworkByRecordID()` function\n",
    "can be used to find all entities surrounding a requested set of entities.\n",
    "This includes the requested entities, paths between them, and relations to\n",
    "other nearby entities.\n",
    "\n",
    "###### Parameters\n",
    "\n",
    "- **recordList:** (str) A list of entities, specified by Record ID\n",
    "  (JSON document)\n",
    "- **maxDegree:** (int) The maximum number of degrees in paths between search\n",
    "  entities\n",
    "- **buildoutDegree:** (int) The number of degrees of relationships to show around\n",
    "  each search entity\n",
    "- **maxEntities:** (int) The maximum number of entities to return in the\n",
    "  discovered network\n",
    "- **response:** (StringBuffer) Object to store the output of the method. Can be used to print or store for later\n",
    "- **g2EngineFlags:** (long) control flags (applicable flags listed here [findNetworkByRecordID flags](senzing-G2Engine-flags.ipynb#findNetworkByRecordID))\n",
    "\n",
    "The functions return a JSON document that identifies the path between the\n",
    "each set of search entities (if the path exists), and the information on the\n",
    "entities in question (search entities, path entities, and build-out entities."
   ]
  },
  {
   "cell_type": "code",
   "execution_count": 66,
   "metadata": {
    "scrolled": true
   },
   "outputs": [
    {
     "data": {
      "text/html": [
       "<div id=\"6d62286a-68b3-4dc8-a37f-ff2d78554529\" style=\"height:100%; width:100%; background-color: LightCyan\"></div>"
      ],
      "text/plain": [
       "<div id=\"6d62286a-68b3-4dc8-a37f-ff2d78554529\" style=\"height:100%; width:100%; background-color: LightCyan\"></div>"
      ]
     },
     "metadata": {},
     "output_type": "display_data"
    },
    {
     "data": {
      "application/javascript": [
       "require([\"https://rawgit.com/caldwell/renderjson/master/renderjson.js\"], function() {document.getElementById('6d62286a-68b3-4dc8-a37f-ff2d78554529').appendChild(renderjson({\"ENTITY_PATHS\":[{\"START_ENTITY_ID\":7,\"END_ENTITY_ID\":8,\"ENTITIES\":[]}],\"ENTITIES\":[{\"RESOLVED_ENTITY\":{\"ENTITY_ID\":7,\"ENTITY_NAME\":\"Madelyn Caryn\",\"RECORD_SUMMARY\":[{\"DATA_SOURCE\":\"TEST\",\"RECORD_COUNT\":2,\"FIRST_SEEN_DT\":\"2022-11-05 16:18:01.451\",\"LAST_SEEN_DT\":\"2022-11-05 16:18:13.745\"}],\"LAST_SEEN_DT\":\"2022-11-05 16:18:13.745\"},\"RELATED_ENTITIES\":[]},{\"RESOLVED_ENTITY\":{\"ENTITY_ID\":8,\"ENTITY_NAME\":\"Max W Miller\",\"RECORD_SUMMARY\":[{\"DATA_SOURCE\":\"TEST\",\"RECORD_COUNT\":1,\"FIRST_SEEN_DT\":\"2022-11-05 16:18:13.899\",\"LAST_SEEN_DT\":\"2022-11-05 16:18:21.309\"}],\"LAST_SEEN_DT\":\"2022-11-05 16:18:21.309\"},\"RELATED_ENTITIES\":[]}]}))});"
      ],
      "text/plain": [
       "require([\"https://rawgit.com/caldwell/renderjson/master/renderjson.js\"], function() {document.getElementById('6d62286a-68b3-4dc8-a37f-ff2d78554529').appendChild(renderjson({\"ENTITY_PATHS\":[{\"START_ENTITY_ID\":7,\"END_ENTITY_ID\":8,\"ENTITIES\":[]}],\"ENTITIES\":[{\"RESOLVED_ENTITY\":{\"ENTITY_ID\":7,\"ENTITY_NAME\":\"Madelyn Caryn\",\"RECORD_SUMMARY\":[{\"DATA_SOURCE\":\"TEST\",\"RECORD_COUNT\":2,\"FIRST_SEEN_DT\":\"2022-11-05 16:18:01.451\",\"LAST_SEEN_DT\":\"2022-11-05 16:18:13.745\"}],\"LAST_SEEN_DT\":\"2022-11-05 16:18:13.745\"},\"RELATED_ENTITIES\":[]},{\"RESOLVED_ENTITY\":{\"ENTITY_ID\":8,\"ENTITY_NAME\":\"Max W Miller\",\"RECORD_SUMMARY\":[{\"DATA_SOURCE\":\"TEST\",\"RECORD_COUNT\":1,\"FIRST_SEEN_DT\":\"2022-11-05 16:18:13.899\",\"LAST_SEEN_DT\":\"2022-11-05 16:18:21.309\"}],\"LAST_SEEN_DT\":\"2022-11-05 16:18:21.309\"},\"RELATED_ENTITIES\":[]}]}))});"
      ]
     },
     "metadata": {},
     "output_type": "display_data"
    }
   ],
   "source": [
    "StringBuffer response = new StringBuffer();\n",
    "int maxDegree = 2;\n",
    "int buildoutDegree = 1;\n",
    "int maxEntities = 12;\n",
    "String recordList = \"{\\\"RECORDS\\\": [{\\\"RECORD_ID\\\": \\\"\"+recordID1+\"\\\", \\\"DATA_SOURCE\\\": \\\"\"+dataSourceCode1+\"\\\" }, {\\\"RECORD_ID\\\": \\\"\"+recordID2+\"\\\", \\\"DATA_SOURCE\\\": \\\"\"+dataSourceCode2+\"\\\" }]}\";\n",
    "\n",
    "int return_code = g2engine.findNetworkByRecordID(\n",
    "                            recordList, \n",
    "                            maxDegree, \n",
    "                            buildoutDegree, \n",
    "                            maxEntities, \n",
    "                            response);\n",
    "if(return_code!=0)\n",
    "    System.out.print(g2engine.getLastException());\n",
    "else\n",
    "    RenderJSON(response);"
   ]
  },
  {
   "cell_type": "markdown",
   "metadata": {},
   "source": [
    "## Connection details"
   ]
  },
  {
   "cell_type": "markdown",
   "metadata": {},
   "source": [
    "### findInterestingEntities\n",
    "\n",
    "`findInterestingEntitiesByEntityID` and `findInterestingEntitiesByRecordID` are early adopter features, contact support for their use."
   ]
  },
  {
   "cell_type": "markdown",
   "metadata": {},
   "source": [
    "The `whyEntities()`, `whyRecords()`, `whyEntityByRecordID()`,`whyEntityByEntityID()`, and `howEntityByEntityID()` functions can be used\n",
    "to determine why and how records belong to their resolved entities.\n",
    "These functions will compare the record data within an entity against the\n",
    "rest of the entity data, and show why they are connected.\n",
    "This is calculated based on the features that record data represents.\n",
    "\n",
    "###### Parameters\n",
    "\n",
    "- **dataSourceCode:** (str) The data source for the record to be analyzed\n",
    "- **entityID:** (int) The entity ID for the entity to be analyzed\n",
    "- **recordID:** (str) The record ID for the record to be analyzed\n",
    "- **response:** (StringBuffer) Object to store the output of the method. Can be used to print or store for later\n",
    "- **g2EngineFlags:** (long) Control flags\n",
    "\n",
    "The function returns a JSON document that gives the results of the record\n",
    "analysis.\n",
    "The document contains a section called \"WHY_RESULTS\",\n",
    "which shows how specific records relate to the rest of the entity.\n",
    "It has a \"WHY_KEY\", which is similar to a match key, in defining the relevant\n",
    "connected data.\n",
    "It shows candidate keys for features that initially cause the records\n",
    "to be analyzed for a relationship,\n",
    "plus a series of feature scores that show how similar the feature data was.\n",
    "\n",
    "The response document also contains a separate ENTITIES section,\n",
    "with the full information about the resolved entity.\n",
    "(Note: When working with this entity data,\n",
    "Senzing recommends using the flags `G2_ENTITY_OPTION_INCLUDE_INTERNAL_FEATURES`\n",
    "and `G2_ENTITY_OPTION_INCLUDE_FEATURE_STATS`.\n",
    "This will provide detailed feature data that is not included by default,\n",
    "but is useful for understanding the WHY_RESULTS data.)"
   ]
  },
  {
   "cell_type": "markdown",
   "metadata": {},
   "source": [
    "### whyEntities\n",
    "\n",
    "\n",
    "###### Parameters\n",
    "\n",
    "- **entityID1:** (int) The entity ID for the first entity to be analyzed\n",
    "- **entityID2:** (int) The entity ID for the second entity to be analyzed\n",
    "- **response:** (StringBuffer) Object to store the output of the method. Can be used to print or store for later.\n",
    "- **g2EngineFlags:** (long) control flags (applicable flags listed here [whyEntities flags](senzing-G2Engine-flags.ipynb#whyEntities))\n"
   ]
  },
  {
   "cell_type": "code",
   "execution_count": 67,
   "metadata": {},
   "outputs": [
    {
     "data": {
      "text/html": [
       "<div id=\"dab7ff00-9f02-4184-92bf-f740027d1102\" style=\"height:100%; width:100%; background-color: LightCyan\"></div>"
      ],
      "text/plain": [
       "<div id=\"dab7ff00-9f02-4184-92bf-f740027d1102\" style=\"height:100%; width:100%; background-color: LightCyan\"></div>"
      ]
     },
     "metadata": {},
     "output_type": "display_data"
    },
    {
     "data": {
      "application/javascript": [
       "require([\"https://rawgit.com/caldwell/renderjson/master/renderjson.js\"], function() {document.getElementById('dab7ff00-9f02-4184-92bf-f740027d1102').appendChild(renderjson({\"WHY_RESULTS\":[{\"ENTITY_ID\":7,\"ENTITY_ID_2\":7,\"MATCH_INFO\":{\"WHY_KEY\":\"+NAME+SSN\",\"WHY_ERRULE_CODE\":\"CNAME\",\"MATCH_LEVEL_CODE\":\"NAME_ONLY\",\"CANDIDATE_KEYS\":{\"NAME_KEY\":[{\"FEAT_ID\":34,\"FEAT_DESC\":\"KRN|MTLN\"},{\"FEAT_ID\":35,\"FEAT_DESC\":\"KRN|MTLN|SSN=1111\"}]},\"DISCLOSED_RELATIONS\":{},\"FEATURE_SCORES\":{\"NAME\":[{\"INBOUND_FEAT_ID\":33,\"INBOUND_FEAT\":\"Madelyn Caryn\",\"INBOUND_FEAT_USAGE_TYPE\":\"PRIMARY\",\"CANDIDATE_FEAT_ID\":33,\"CANDIDATE_FEAT\":\"Madelyn Caryn\",\"CANDIDATE_FEAT_USAGE_TYPE\":\"PRIMARY\",\"GNR_FN\":100,\"GNR_SN\":100,\"GNR_GN\":100,\"GENERATION_MATCH\":-1,\"GNR_ON\":-1,\"SCORE_BUCKET\":\"SAME\",\"SCORE_BEHAVIOR\":\"NAME\"}],\"SSN\":[{\"INBOUND_FEAT_ID\":3,\"INBOUND_FEAT\":\"111-11-1111\",\"INBOUND_FEAT_USAGE_TYPE\":\"\",\"CANDIDATE_FEAT_ID\":3,\"CANDIDATE_FEAT\":\"111-11-1111\",\"CANDIDATE_FEAT_USAGE_TYPE\":\"\",\"FULL_SCORE\":100,\"SCORE_BUCKET\":\"SAME\",\"SCORE_BEHAVIOR\":\"FVM\"}]}}}],\"ENTITIES\":[{\"RESOLVED_ENTITY\":{\"ENTITY_ID\":7,\"ENTITY_NAME\":\"Madelyn Caryn\",\"FEATURES\":{\"ID_KEY\":[{\"FEAT_DESC\":\"SSN=111-11-1111\",\"LIB_FEAT_ID\":10,\"FEAT_DESC_VALUES\":[{\"FEAT_DESC\":\"SSN=111-11-1111\",\"LIB_FEAT_ID\":10,\"USED_FOR_CAND\":\"Y\",\"USED_FOR_SCORING\":\"N\",\"ENTITY_COUNT\":8,\"CANDIDATE_CAP_REACHED\":\"Y\",\"SCORING_CAP_REACHED\":\"N\",\"SUPPRESSED\":\"N\"}]}],\"NAME\":[{\"FEAT_DESC\":\"Madelyn Caryn\",\"LIB_FEAT_ID\":33,\"USAGE_TYPE\":\"PRIMARY\",\"FEAT_DESC_VALUES\":[{\"FEAT_DESC\":\"Madelyn Caryn\",\"LIB_FEAT_ID\":33,\"USED_FOR_CAND\":\"N\",\"USED_FOR_SCORING\":\"Y\",\"ENTITY_COUNT\":1,\"CANDIDATE_CAP_REACHED\":\"N\",\"SCORING_CAP_REACHED\":\"N\",\"SUPPRESSED\":\"N\"}]}],\"NAME_KEY\":[{\"FEAT_DESC\":\"KRN|MTLN\",\"LIB_FEAT_ID\":34,\"FEAT_DESC_VALUES\":[{\"FEAT_DESC\":\"KRN|MTLN\",\"LIB_FEAT_ID\":34,\"USED_FOR_CAND\":\"Y\",\"USED_FOR_SCORING\":\"N\",\"ENTITY_COUNT\":1,\"CANDIDATE_CAP_REACHED\":\"N\",\"SCORING_CAP_REACHED\":\"N\",\"SUPPRESSED\":\"N\"}]},{\"FEAT_DESC\":\"KRN|MTLN|SSN=1111\",\"LIB_FEAT_ID\":35,\"FEAT_DESC_VALUES\":[{\"FEAT_DESC\":\"KRN|MTLN|SSN=1111\",\"LIB_FEAT_ID\":35,\"USED_FOR_CAND\":\"Y\",\"USED_FOR_SCORING\":\"N\",\"ENTITY_COUNT\":1,\"CANDIDATE_CAP_REACHED\":\"N\",\"SCORING_CAP_REACHED\":\"N\",\"SUPPRESSED\":\"N\"}]}],\"SSN\":[{\"FEAT_DESC\":\"111-11-1111\",\"LIB_FEAT_ID\":3,\"FEAT_DESC_VALUES\":[{\"FEAT_DESC\":\"111-11-1111\",\"LIB_FEAT_ID\":3,\"USED_FOR_CAND\":\"Y\",\"USED_FOR_SCORING\":\"Y\",\"ENTITY_COUNT\":8,\"CANDIDATE_CAP_REACHED\":\"Y\",\"SCORING_CAP_REACHED\":\"N\",\"SUPPRESSED\":\"N\"}]}]},\"RECORD_SUMMARY\":[{\"DATA_SOURCE\":\"TEST\",\"RECORD_COUNT\":2,\"FIRST_SEEN_DT\":\"2022-11-05 16:18:01.451\",\"LAST_SEEN_DT\":\"2022-11-05 16:18:13.745\"}],\"LAST_SEEN_DT\":\"2022-11-05 16:18:13.745\",\"RECORDS\":[{\"DATA_SOURCE\":\"TEST\",\"RECORD_ID\":\"1\",\"ENTITY_TYPE\":\"GENERIC\",\"INTERNAL_ID\":7,\"ENTITY_KEY\":\"ED809E0DCED3B9F3A411B5FABF62E2D866DBE02F\",\"ENTITY_DESC\":\"Madelyn Caryn\",\"MATCH_KEY\":\"\",\"MATCH_LEVEL\":0,\"MATCH_LEVEL_CODE\":\"\",\"ERRULE_CODE\":\"\",\"LAST_SEEN_DT\":\"2022-11-05 16:18:13.745\",\"FEATURES\":[{\"LIB_FEAT_ID\":3},{\"LIB_FEAT_ID\":10},{\"LIB_FEAT_ID\":33,\"USAGE_TYPE\":\"PRIMARY\"},{\"LIB_FEAT_ID\":34},{\"LIB_FEAT_ID\":35}]},{\"DATA_SOURCE\":\"TEST\",\"RECORD_ID\":\"8\",\"ENTITY_TYPE\":\"GENERIC\",\"INTERNAL_ID\":7,\"ENTITY_KEY\":\"ED809E0DCED3B9F3A411B5FABF62E2D866DBE02F\",\"ENTITY_DESC\":\"Madelyn Caryn\",\"MATCH_KEY\":\"+EXACTLY_SAME\",\"MATCH_LEVEL\":0,\"MATCH_LEVEL_CODE\":\"\",\"ERRULE_CODE\":\"\",\"LAST_SEEN_DT\":\"2022-11-05 16:18:01.451\",\"FEATURES\":[{\"LIB_FEAT_ID\":3},{\"LIB_FEAT_ID\":10},{\"LIB_FEAT_ID\":33,\"USAGE_TYPE\":\"PRIMARY\"},{\"LIB_FEAT_ID\":34},{\"LIB_FEAT_ID\":35}]}]},\"RELATED_ENTITIES\":[]}]}))});"
      ],
      "text/plain": [
       "require([\"https://rawgit.com/caldwell/renderjson/master/renderjson.js\"], function() {document.getElementById('dab7ff00-9f02-4184-92bf-f740027d1102').appendChild(renderjson({\"WHY_RESULTS\":[{\"ENTITY_ID\":7,\"ENTITY_ID_2\":7,\"MATCH_INFO\":{\"WHY_KEY\":\"+NAME+SSN\",\"WHY_ERRULE_CODE\":\"CNAME\",\"MATCH_LEVEL_CODE\":\"NAME_ONLY\",\"CANDIDATE_KEYS\":{\"NAME_KEY\":[{\"FEAT_ID\":34,\"FEAT_DESC\":\"KRN|MTLN\"},{\"FEAT_ID\":35,\"FEAT_DESC\":\"KRN|MTLN|SSN=1111\"}]},\"DISCLOSED_RELATIONS\":{},\"FEATURE_SCORES\":{\"NAME\":[{\"INBOUND_FEAT_ID\":33,\"INBOUND_FEAT\":\"Madelyn Caryn\",\"INBOUND_FEAT_USAGE_TYPE\":\"PRIMARY\",\"CANDIDATE_FEAT_ID\":33,\"CANDIDATE_FEAT\":\"Madelyn Caryn\",\"CANDIDATE_FEAT_USAGE_TYPE\":\"PRIMARY\",\"GNR_FN\":100,\"GNR_SN\":100,\"GNR_GN\":100,\"GENERATION_MATCH\":-1,\"GNR_ON\":-1,\"SCORE_BUCKET\":\"SAME\",\"SCORE_BEHAVIOR\":\"NAME\"}],\"SSN\":[{\"INBOUND_FEAT_ID\":3,\"INBOUND_FEAT\":\"111-11-1111\",\"INBOUND_FEAT_USAGE_TYPE\":\"\",\"CANDIDATE_FEAT_ID\":3,\"CANDIDATE_FEAT\":\"111-11-1111\",\"CANDIDATE_FEAT_USAGE_TYPE\":\"\",\"FULL_SCORE\":100,\"SCORE_BUCKET\":\"SAME\",\"SCORE_BEHAVIOR\":\"FVM\"}]}}}],\"ENTITIES\":[{\"RESOLVED_ENTITY\":{\"ENTITY_ID\":7,\"ENTITY_NAME\":\"Madelyn Caryn\",\"FEATURES\":{\"ID_KEY\":[{\"FEAT_DESC\":\"SSN=111-11-1111\",\"LIB_FEAT_ID\":10,\"FEAT_DESC_VALUES\":[{\"FEAT_DESC\":\"SSN=111-11-1111\",\"LIB_FEAT_ID\":10,\"USED_FOR_CAND\":\"Y\",\"USED_FOR_SCORING\":\"N\",\"ENTITY_COUNT\":8,\"CANDIDATE_CAP_REACHED\":\"Y\",\"SCORING_CAP_REACHED\":\"N\",\"SUPPRESSED\":\"N\"}]}],\"NAME\":[{\"FEAT_DESC\":\"Madelyn Caryn\",\"LIB_FEAT_ID\":33,\"USAGE_TYPE\":\"PRIMARY\",\"FEAT_DESC_VALUES\":[{\"FEAT_DESC\":\"Madelyn Caryn\",\"LIB_FEAT_ID\":33,\"USED_FOR_CAND\":\"N\",\"USED_FOR_SCORING\":\"Y\",\"ENTITY_COUNT\":1,\"CANDIDATE_CAP_REACHED\":\"N\",\"SCORING_CAP_REACHED\":\"N\",\"SUPPRESSED\":\"N\"}]}],\"NAME_KEY\":[{\"FEAT_DESC\":\"KRN|MTLN\",\"LIB_FEAT_ID\":34,\"FEAT_DESC_VALUES\":[{\"FEAT_DESC\":\"KRN|MTLN\",\"LIB_FEAT_ID\":34,\"USED_FOR_CAND\":\"Y\",\"USED_FOR_SCORING\":\"N\",\"ENTITY_COUNT\":1,\"CANDIDATE_CAP_REACHED\":\"N\",\"SCORING_CAP_REACHED\":\"N\",\"SUPPRESSED\":\"N\"}]},{\"FEAT_DESC\":\"KRN|MTLN|SSN=1111\",\"LIB_FEAT_ID\":35,\"FEAT_DESC_VALUES\":[{\"FEAT_DESC\":\"KRN|MTLN|SSN=1111\",\"LIB_FEAT_ID\":35,\"USED_FOR_CAND\":\"Y\",\"USED_FOR_SCORING\":\"N\",\"ENTITY_COUNT\":1,\"CANDIDATE_CAP_REACHED\":\"N\",\"SCORING_CAP_REACHED\":\"N\",\"SUPPRESSED\":\"N\"}]}],\"SSN\":[{\"FEAT_DESC\":\"111-11-1111\",\"LIB_FEAT_ID\":3,\"FEAT_DESC_VALUES\":[{\"FEAT_DESC\":\"111-11-1111\",\"LIB_FEAT_ID\":3,\"USED_FOR_CAND\":\"Y\",\"USED_FOR_SCORING\":\"Y\",\"ENTITY_COUNT\":8,\"CANDIDATE_CAP_REACHED\":\"Y\",\"SCORING_CAP_REACHED\":\"N\",\"SUPPRESSED\":\"N\"}]}]},\"RECORD_SUMMARY\":[{\"DATA_SOURCE\":\"TEST\",\"RECORD_COUNT\":2,\"FIRST_SEEN_DT\":\"2022-11-05 16:18:01.451\",\"LAST_SEEN_DT\":\"2022-11-05 16:18:13.745\"}],\"LAST_SEEN_DT\":\"2022-11-05 16:18:13.745\",\"RECORDS\":[{\"DATA_SOURCE\":\"TEST\",\"RECORD_ID\":\"1\",\"ENTITY_TYPE\":\"GENERIC\",\"INTERNAL_ID\":7,\"ENTITY_KEY\":\"ED809E0DCED3B9F3A411B5FABF62E2D866DBE02F\",\"ENTITY_DESC\":\"Madelyn Caryn\",\"MATCH_KEY\":\"\",\"MATCH_LEVEL\":0,\"MATCH_LEVEL_CODE\":\"\",\"ERRULE_CODE\":\"\",\"LAST_SEEN_DT\":\"2022-11-05 16:18:13.745\",\"FEATURES\":[{\"LIB_FEAT_ID\":3},{\"LIB_FEAT_ID\":10},{\"LIB_FEAT_ID\":33,\"USAGE_TYPE\":\"PRIMARY\"},{\"LIB_FEAT_ID\":34},{\"LIB_FEAT_ID\":35}]},{\"DATA_SOURCE\":\"TEST\",\"RECORD_ID\":\"8\",\"ENTITY_TYPE\":\"GENERIC\",\"INTERNAL_ID\":7,\"ENTITY_KEY\":\"ED809E0DCED3B9F3A411B5FABF62E2D866DBE02F\",\"ENTITY_DESC\":\"Madelyn Caryn\",\"MATCH_KEY\":\"+EXACTLY_SAME\",\"MATCH_LEVEL\":0,\"MATCH_LEVEL_CODE\":\"\",\"ERRULE_CODE\":\"\",\"LAST_SEEN_DT\":\"2022-11-05 16:18:01.451\",\"FEATURES\":[{\"LIB_FEAT_ID\":3},{\"LIB_FEAT_ID\":10},{\"LIB_FEAT_ID\":33,\"USAGE_TYPE\":\"PRIMARY\"},{\"LIB_FEAT_ID\":34},{\"LIB_FEAT_ID\":35}]}]},\"RELATED_ENTITIES\":[]}]}))});"
      ]
     },
     "metadata": {},
     "output_type": "display_data"
    }
   ],
   "source": [
    "StringBuffer response = new StringBuffer();\n",
    "\n",
    "int return_code = g2engine.whyEntities(\n",
    "                            entityID1,\n",
    "                            entityID2,\n",
    "                            response);\n",
    "if(return_code!=0)\n",
    "    System.out.print(g2engine.getLastException());\n",
    "else\n",
    "    RenderJSON(response);       "
   ]
  },
  {
   "cell_type": "markdown",
   "metadata": {},
   "source": [
    "### whyRecords\n",
    "\n",
    "###### Parameters\n",
    "\n",
    "- **dataSourceCode1:** (str) The name of the first data source the record\n",
    "  is associated with.\n",
    "  This value is configurable to the system\n",
    "- **recordID1:** (int) The record ID for the first record to be analyzed\n",
    "- **dataSourceCode2:** (str) The name of the second data source the record\n",
    "  is associated with.\n",
    "  This value is configurable to the system\n",
    "- **recordID2:** (int) The record ID for the second record to be analyzed\n",
    "- **response:** (StringBuffer) Object to store the output of the method. Can be used to print or store for later.\n",
    "- **g2EngineFlags:** (long) control flags (applicable flags listed here [whyRecords flags](senzing-G2Engine-flags.ipynb#whyRecords))"
   ]
  },
  {
   "cell_type": "code",
   "execution_count": 68,
   "metadata": {},
   "outputs": [
    {
     "data": {
      "text/html": [
       "<div id=\"b06dc21a-afb5-4f84-bae7-2bbe49628818\" style=\"height:100%; width:100%; background-color: LightCyan\"></div>"
      ],
      "text/plain": [
       "<div id=\"b06dc21a-afb5-4f84-bae7-2bbe49628818\" style=\"height:100%; width:100%; background-color: LightCyan\"></div>"
      ]
     },
     "metadata": {},
     "output_type": "display_data"
    },
    {
     "data": {
      "application/javascript": [
       "require([\"https://rawgit.com/caldwell/renderjson/master/renderjson.js\"], function() {document.getElementById('b06dc21a-afb5-4f84-bae7-2bbe49628818').appendChild(renderjson({\"WHY_RESULTS\":[{\"INTERNAL_ID\":7,\"ENTITY_ID\":7,\"FOCUS_RECORDS\":[{\"DATA_SOURCE\":\"TEST\",\"RECORD_ID\":\"1\"}],\"INTERNAL_ID_2\":8,\"ENTITY_ID_2\":8,\"FOCUS_RECORDS_2\":[{\"DATA_SOURCE\":\"TEST\",\"RECORD_ID\":\"2\"}],\"MATCH_INFO\":{\"WHY_KEY\":\"\",\"WHY_ERRULE_CODE\":\"\",\"MATCH_LEVEL_CODE\":\"\",\"CANDIDATE_KEYS\":{},\"DISCLOSED_RELATIONS\":{},\"FEATURE_SCORES\":{}}}],\"ENTITIES\":[{\"RESOLVED_ENTITY\":{\"ENTITY_ID\":7,\"ENTITY_NAME\":\"Madelyn Caryn\",\"FEATURES\":{\"ID_KEY\":[{\"FEAT_DESC\":\"SSN=111-11-1111\",\"LIB_FEAT_ID\":10,\"FEAT_DESC_VALUES\":[{\"FEAT_DESC\":\"SSN=111-11-1111\",\"LIB_FEAT_ID\":10,\"USED_FOR_CAND\":\"Y\",\"USED_FOR_SCORING\":\"N\",\"ENTITY_COUNT\":8,\"CANDIDATE_CAP_REACHED\":\"Y\",\"SCORING_CAP_REACHED\":\"N\",\"SUPPRESSED\":\"N\"}]}],\"NAME\":[{\"FEAT_DESC\":\"Madelyn Caryn\",\"LIB_FEAT_ID\":33,\"USAGE_TYPE\":\"PRIMARY\",\"FEAT_DESC_VALUES\":[{\"FEAT_DESC\":\"Madelyn Caryn\",\"LIB_FEAT_ID\":33,\"USED_FOR_CAND\":\"N\",\"USED_FOR_SCORING\":\"Y\",\"ENTITY_COUNT\":1,\"CANDIDATE_CAP_REACHED\":\"N\",\"SCORING_CAP_REACHED\":\"N\",\"SUPPRESSED\":\"N\"}]}],\"NAME_KEY\":[{\"FEAT_DESC\":\"KRN|MTLN\",\"LIB_FEAT_ID\":34,\"FEAT_DESC_VALUES\":[{\"FEAT_DESC\":\"KRN|MTLN\",\"LIB_FEAT_ID\":34,\"USED_FOR_CAND\":\"Y\",\"USED_FOR_SCORING\":\"N\",\"ENTITY_COUNT\":1,\"CANDIDATE_CAP_REACHED\":\"N\",\"SCORING_CAP_REACHED\":\"N\",\"SUPPRESSED\":\"N\"}]},{\"FEAT_DESC\":\"KRN|MTLN|SSN=1111\",\"LIB_FEAT_ID\":35,\"FEAT_DESC_VALUES\":[{\"FEAT_DESC\":\"KRN|MTLN|SSN=1111\",\"LIB_FEAT_ID\":35,\"USED_FOR_CAND\":\"Y\",\"USED_FOR_SCORING\":\"N\",\"ENTITY_COUNT\":1,\"CANDIDATE_CAP_REACHED\":\"N\",\"SCORING_CAP_REACHED\":\"N\",\"SUPPRESSED\":\"N\"}]}],\"SSN\":[{\"FEAT_DESC\":\"111-11-1111\",\"LIB_FEAT_ID\":3,\"FEAT_DESC_VALUES\":[{\"FEAT_DESC\":\"111-11-1111\",\"LIB_FEAT_ID\":3,\"USED_FOR_CAND\":\"Y\",\"USED_FOR_SCORING\":\"Y\",\"ENTITY_COUNT\":8,\"CANDIDATE_CAP_REACHED\":\"Y\",\"SCORING_CAP_REACHED\":\"N\",\"SUPPRESSED\":\"N\"}]}]},\"RECORD_SUMMARY\":[{\"DATA_SOURCE\":\"TEST\",\"RECORD_COUNT\":2,\"FIRST_SEEN_DT\":\"2022-11-05 16:18:01.451\",\"LAST_SEEN_DT\":\"2022-11-05 16:18:13.745\"}],\"LAST_SEEN_DT\":\"2022-11-05 16:18:13.745\",\"RECORDS\":[{\"DATA_SOURCE\":\"TEST\",\"RECORD_ID\":\"1\",\"ENTITY_TYPE\":\"GENERIC\",\"INTERNAL_ID\":7,\"ENTITY_KEY\":\"ED809E0DCED3B9F3A411B5FABF62E2D866DBE02F\",\"ENTITY_DESC\":\"Madelyn Caryn\",\"MATCH_KEY\":\"\",\"MATCH_LEVEL\":0,\"MATCH_LEVEL_CODE\":\"\",\"ERRULE_CODE\":\"\",\"LAST_SEEN_DT\":\"2022-11-05 16:18:13.745\",\"FEATURES\":[{\"LIB_FEAT_ID\":3},{\"LIB_FEAT_ID\":10},{\"LIB_FEAT_ID\":33,\"USAGE_TYPE\":\"PRIMARY\"},{\"LIB_FEAT_ID\":34},{\"LIB_FEAT_ID\":35}]},{\"DATA_SOURCE\":\"TEST\",\"RECORD_ID\":\"8\",\"ENTITY_TYPE\":\"GENERIC\",\"INTERNAL_ID\":7,\"ENTITY_KEY\":\"ED809E0DCED3B9F3A411B5FABF62E2D866DBE02F\",\"ENTITY_DESC\":\"Madelyn Caryn\",\"MATCH_KEY\":\"+EXACTLY_SAME\",\"MATCH_LEVEL\":0,\"MATCH_LEVEL_CODE\":\"\",\"ERRULE_CODE\":\"\",\"LAST_SEEN_DT\":\"2022-11-05 16:18:01.451\",\"FEATURES\":[{\"LIB_FEAT_ID\":3},{\"LIB_FEAT_ID\":10},{\"LIB_FEAT_ID\":33,\"USAGE_TYPE\":\"PRIMARY\"},{\"LIB_FEAT_ID\":34},{\"LIB_FEAT_ID\":35}]}]},\"RELATED_ENTITIES\":[]},{\"RESOLVED_ENTITY\":{\"ENTITY_ID\":8,\"ENTITY_NAME\":\"Max W Miller\",\"FEATURES\":{\"ID_KEY\":[{\"FEAT_DESC\":\"SSN=111-11-1111\",\"LIB_FEAT_ID\":10,\"FEAT_DESC_VALUES\":[{\"FEAT_DESC\":\"SSN=111-11-1111\",\"LIB_FEAT_ID\":10,\"USED_FOR_CAND\":\"Y\",\"USED_FOR_SCORING\":\"N\",\"ENTITY_COUNT\":8,\"CANDIDATE_CAP_REACHED\":\"Y\",\"SCORING_CAP_REACHED\":\"N\",\"SUPPRESSED\":\"N\"}]}],\"NAME\":[{\"FEAT_DESC\":\"Max W Miller\",\"LIB_FEAT_ID\":36,\"USAGE_TYPE\":\"PRIMARY\",\"FEAT_DESC_VALUES\":[{\"FEAT_DESC\":\"Max W Miller\",\"LIB_FEAT_ID\":36,\"USED_FOR_CAND\":\"N\",\"USED_FOR_SCORING\":\"Y\",\"ENTITY_COUNT\":1,\"CANDIDATE_CAP_REACHED\":\"N\",\"SCORING_CAP_REACHED\":\"N\",\"SUPPRESSED\":\"N\"}]}],\"NAME_KEY\":[{\"FEAT_DESC\":\"MKS|MLR\",\"LIB_FEAT_ID\":38,\"FEAT_DESC_VALUES\":[{\"FEAT_DESC\":\"MKS|MLR\",\"LIB_FEAT_ID\":38,\"USED_FOR_CAND\":\"Y\",\"USED_FOR_SCORING\":\"N\",\"ENTITY_COUNT\":1,\"CANDIDATE_CAP_REACHED\":\"N\",\"SCORING_CAP_REACHED\":\"N\",\"SUPPRESSED\":\"N\"}]},{\"FEAT_DESC\":\"MKS|MLR|SSN=1111\",\"LIB_FEAT_ID\":37,\"FEAT_DESC_VALUES\":[{\"FEAT_DESC\":\"MKS|MLR|SSN=1111\",\"LIB_FEAT_ID\":37,\"USED_FOR_CAND\":\"Y\",\"USED_FOR_SCORING\":\"N\",\"ENTITY_COUNT\":1,\"CANDIDATE_CAP_REACHED\":\"N\",\"SCORING_CAP_REACHED\":\"N\",\"SUPPRESSED\":\"N\"}]},{\"FEAT_DESC\":\"MKS|MLR|W\",\"LIB_FEAT_ID\":40,\"FEAT_DESC_VALUES\":[{\"FEAT_DESC\":\"MKS|MLR|W\",\"LIB_FEAT_ID\":40,\"USED_FOR_CAND\":\"Y\",\"USED_FOR_SCORING\":\"N\",\"ENTITY_COUNT\":1,\"CANDIDATE_CAP_REACHED\":\"N\",\"SCORING_CAP_REACHED\":\"N\",\"SUPPRESSED\":\"N\"}]},{\"FEAT_DESC\":\"MKS|MLR|W|SSN=1111\",\"LIB_FEAT_ID\":39,\"FEAT_DESC_VALUES\":[{\"FEAT_DESC\":\"MKS|MLR|W|SSN=1111\",\"LIB_FEAT_ID\":39,\"USED_FOR_CAND\":\"Y\",\"USED_FOR_SCORING\":\"N\",\"ENTITY_COUNT\":1,\"CANDIDATE_CAP_REACHED\":\"N\",\"SCORING_CAP_REACHED\":\"N\",\"SUPPRESSED\":\"N\"}]}],\"SSN\":[{\"FEAT_DESC\":\"111-11-1111\",\"LIB_FEAT_ID\":3,\"FEAT_DESC_VALUES\":[{\"FEAT_DESC\":\"111-11-1111\",\"LIB_FEAT_ID\":3,\"USED_FOR_CAND\":\"Y\",\"USED_FOR_SCORING\":\"Y\",\"ENTITY_COUNT\":8,\"CANDIDATE_CAP_REACHED\":\"Y\",\"SCORING_CAP_REACHED\":\"N\",\"SUPPRESSED\":\"N\"}]}]},\"RECORD_SUMMARY\":[{\"DATA_SOURCE\":\"TEST\",\"RECORD_COUNT\":1,\"FIRST_SEEN_DT\":\"2022-11-05 16:18:13.899\",\"LAST_SEEN_DT\":\"2022-11-05 16:18:21.309\"}],\"LAST_SEEN_DT\":\"2022-11-05 16:18:21.309\",\"RECORDS\":[{\"DATA_SOURCE\":\"TEST\",\"RECORD_ID\":\"2\",\"ENTITY_TYPE\":\"GENERIC\",\"INTERNAL_ID\":8,\"ENTITY_KEY\":\"814730F425BFCD47D56537D7408EBD4213DCB3E9\",\"ENTITY_DESC\":\"Max W Miller\",\"MATCH_KEY\":\"\",\"MATCH_LEVEL\":0,\"MATCH_LEVEL_CODE\":\"\",\"ERRULE_CODE\":\"\",\"LAST_SEEN_DT\":\"2022-11-05 16:18:21.309\",\"FEATURES\":[{\"LIB_FEAT_ID\":3},{\"LIB_FEAT_ID\":10},{\"LIB_FEAT_ID\":36,\"USAGE_TYPE\":\"PRIMARY\"},{\"LIB_FEAT_ID\":37},{\"LIB_FEAT_ID\":38},{\"LIB_FEAT_ID\":39},{\"LIB_FEAT_ID\":40}]}]},\"RELATED_ENTITIES\":[]}]}))});"
      ],
      "text/plain": [
       "require([\"https://rawgit.com/caldwell/renderjson/master/renderjson.js\"], function() {document.getElementById('b06dc21a-afb5-4f84-bae7-2bbe49628818').appendChild(renderjson({\"WHY_RESULTS\":[{\"INTERNAL_ID\":7,\"ENTITY_ID\":7,\"FOCUS_RECORDS\":[{\"DATA_SOURCE\":\"TEST\",\"RECORD_ID\":\"1\"}],\"INTERNAL_ID_2\":8,\"ENTITY_ID_2\":8,\"FOCUS_RECORDS_2\":[{\"DATA_SOURCE\":\"TEST\",\"RECORD_ID\":\"2\"}],\"MATCH_INFO\":{\"WHY_KEY\":\"\",\"WHY_ERRULE_CODE\":\"\",\"MATCH_LEVEL_CODE\":\"\",\"CANDIDATE_KEYS\":{},\"DISCLOSED_RELATIONS\":{},\"FEATURE_SCORES\":{}}}],\"ENTITIES\":[{\"RESOLVED_ENTITY\":{\"ENTITY_ID\":7,\"ENTITY_NAME\":\"Madelyn Caryn\",\"FEATURES\":{\"ID_KEY\":[{\"FEAT_DESC\":\"SSN=111-11-1111\",\"LIB_FEAT_ID\":10,\"FEAT_DESC_VALUES\":[{\"FEAT_DESC\":\"SSN=111-11-1111\",\"LIB_FEAT_ID\":10,\"USED_FOR_CAND\":\"Y\",\"USED_FOR_SCORING\":\"N\",\"ENTITY_COUNT\":8,\"CANDIDATE_CAP_REACHED\":\"Y\",\"SCORING_CAP_REACHED\":\"N\",\"SUPPRESSED\":\"N\"}]}],\"NAME\":[{\"FEAT_DESC\":\"Madelyn Caryn\",\"LIB_FEAT_ID\":33,\"USAGE_TYPE\":\"PRIMARY\",\"FEAT_DESC_VALUES\":[{\"FEAT_DESC\":\"Madelyn Caryn\",\"LIB_FEAT_ID\":33,\"USED_FOR_CAND\":\"N\",\"USED_FOR_SCORING\":\"Y\",\"ENTITY_COUNT\":1,\"CANDIDATE_CAP_REACHED\":\"N\",\"SCORING_CAP_REACHED\":\"N\",\"SUPPRESSED\":\"N\"}]}],\"NAME_KEY\":[{\"FEAT_DESC\":\"KRN|MTLN\",\"LIB_FEAT_ID\":34,\"FEAT_DESC_VALUES\":[{\"FEAT_DESC\":\"KRN|MTLN\",\"LIB_FEAT_ID\":34,\"USED_FOR_CAND\":\"Y\",\"USED_FOR_SCORING\":\"N\",\"ENTITY_COUNT\":1,\"CANDIDATE_CAP_REACHED\":\"N\",\"SCORING_CAP_REACHED\":\"N\",\"SUPPRESSED\":\"N\"}]},{\"FEAT_DESC\":\"KRN|MTLN|SSN=1111\",\"LIB_FEAT_ID\":35,\"FEAT_DESC_VALUES\":[{\"FEAT_DESC\":\"KRN|MTLN|SSN=1111\",\"LIB_FEAT_ID\":35,\"USED_FOR_CAND\":\"Y\",\"USED_FOR_SCORING\":\"N\",\"ENTITY_COUNT\":1,\"CANDIDATE_CAP_REACHED\":\"N\",\"SCORING_CAP_REACHED\":\"N\",\"SUPPRESSED\":\"N\"}]}],\"SSN\":[{\"FEAT_DESC\":\"111-11-1111\",\"LIB_FEAT_ID\":3,\"FEAT_DESC_VALUES\":[{\"FEAT_DESC\":\"111-11-1111\",\"LIB_FEAT_ID\":3,\"USED_FOR_CAND\":\"Y\",\"USED_FOR_SCORING\":\"Y\",\"ENTITY_COUNT\":8,\"CANDIDATE_CAP_REACHED\":\"Y\",\"SCORING_CAP_REACHED\":\"N\",\"SUPPRESSED\":\"N\"}]}]},\"RECORD_SUMMARY\":[{\"DATA_SOURCE\":\"TEST\",\"RECORD_COUNT\":2,\"FIRST_SEEN_DT\":\"2022-11-05 16:18:01.451\",\"LAST_SEEN_DT\":\"2022-11-05 16:18:13.745\"}],\"LAST_SEEN_DT\":\"2022-11-05 16:18:13.745\",\"RECORDS\":[{\"DATA_SOURCE\":\"TEST\",\"RECORD_ID\":\"1\",\"ENTITY_TYPE\":\"GENERIC\",\"INTERNAL_ID\":7,\"ENTITY_KEY\":\"ED809E0DCED3B9F3A411B5FABF62E2D866DBE02F\",\"ENTITY_DESC\":\"Madelyn Caryn\",\"MATCH_KEY\":\"\",\"MATCH_LEVEL\":0,\"MATCH_LEVEL_CODE\":\"\",\"ERRULE_CODE\":\"\",\"LAST_SEEN_DT\":\"2022-11-05 16:18:13.745\",\"FEATURES\":[{\"LIB_FEAT_ID\":3},{\"LIB_FEAT_ID\":10},{\"LIB_FEAT_ID\":33,\"USAGE_TYPE\":\"PRIMARY\"},{\"LIB_FEAT_ID\":34},{\"LIB_FEAT_ID\":35}]},{\"DATA_SOURCE\":\"TEST\",\"RECORD_ID\":\"8\",\"ENTITY_TYPE\":\"GENERIC\",\"INTERNAL_ID\":7,\"ENTITY_KEY\":\"ED809E0DCED3B9F3A411B5FABF62E2D866DBE02F\",\"ENTITY_DESC\":\"Madelyn Caryn\",\"MATCH_KEY\":\"+EXACTLY_SAME\",\"MATCH_LEVEL\":0,\"MATCH_LEVEL_CODE\":\"\",\"ERRULE_CODE\":\"\",\"LAST_SEEN_DT\":\"2022-11-05 16:18:01.451\",\"FEATURES\":[{\"LIB_FEAT_ID\":3},{\"LIB_FEAT_ID\":10},{\"LIB_FEAT_ID\":33,\"USAGE_TYPE\":\"PRIMARY\"},{\"LIB_FEAT_ID\":34},{\"LIB_FEAT_ID\":35}]}]},\"RELATED_ENTITIES\":[]},{\"RESOLVED_ENTITY\":{\"ENTITY_ID\":8,\"ENTITY_NAME\":\"Max W Miller\",\"FEATURES\":{\"ID_KEY\":[{\"FEAT_DESC\":\"SSN=111-11-1111\",\"LIB_FEAT_ID\":10,\"FEAT_DESC_VALUES\":[{\"FEAT_DESC\":\"SSN=111-11-1111\",\"LIB_FEAT_ID\":10,\"USED_FOR_CAND\":\"Y\",\"USED_FOR_SCORING\":\"N\",\"ENTITY_COUNT\":8,\"CANDIDATE_CAP_REACHED\":\"Y\",\"SCORING_CAP_REACHED\":\"N\",\"SUPPRESSED\":\"N\"}]}],\"NAME\":[{\"FEAT_DESC\":\"Max W Miller\",\"LIB_FEAT_ID\":36,\"USAGE_TYPE\":\"PRIMARY\",\"FEAT_DESC_VALUES\":[{\"FEAT_DESC\":\"Max W Miller\",\"LIB_FEAT_ID\":36,\"USED_FOR_CAND\":\"N\",\"USED_FOR_SCORING\":\"Y\",\"ENTITY_COUNT\":1,\"CANDIDATE_CAP_REACHED\":\"N\",\"SCORING_CAP_REACHED\":\"N\",\"SUPPRESSED\":\"N\"}]}],\"NAME_KEY\":[{\"FEAT_DESC\":\"MKS|MLR\",\"LIB_FEAT_ID\":38,\"FEAT_DESC_VALUES\":[{\"FEAT_DESC\":\"MKS|MLR\",\"LIB_FEAT_ID\":38,\"USED_FOR_CAND\":\"Y\",\"USED_FOR_SCORING\":\"N\",\"ENTITY_COUNT\":1,\"CANDIDATE_CAP_REACHED\":\"N\",\"SCORING_CAP_REACHED\":\"N\",\"SUPPRESSED\":\"N\"}]},{\"FEAT_DESC\":\"MKS|MLR|SSN=1111\",\"LIB_FEAT_ID\":37,\"FEAT_DESC_VALUES\":[{\"FEAT_DESC\":\"MKS|MLR|SSN=1111\",\"LIB_FEAT_ID\":37,\"USED_FOR_CAND\":\"Y\",\"USED_FOR_SCORING\":\"N\",\"ENTITY_COUNT\":1,\"CANDIDATE_CAP_REACHED\":\"N\",\"SCORING_CAP_REACHED\":\"N\",\"SUPPRESSED\":\"N\"}]},{\"FEAT_DESC\":\"MKS|MLR|W\",\"LIB_FEAT_ID\":40,\"FEAT_DESC_VALUES\":[{\"FEAT_DESC\":\"MKS|MLR|W\",\"LIB_FEAT_ID\":40,\"USED_FOR_CAND\":\"Y\",\"USED_FOR_SCORING\":\"N\",\"ENTITY_COUNT\":1,\"CANDIDATE_CAP_REACHED\":\"N\",\"SCORING_CAP_REACHED\":\"N\",\"SUPPRESSED\":\"N\"}]},{\"FEAT_DESC\":\"MKS|MLR|W|SSN=1111\",\"LIB_FEAT_ID\":39,\"FEAT_DESC_VALUES\":[{\"FEAT_DESC\":\"MKS|MLR|W|SSN=1111\",\"LIB_FEAT_ID\":39,\"USED_FOR_CAND\":\"Y\",\"USED_FOR_SCORING\":\"N\",\"ENTITY_COUNT\":1,\"CANDIDATE_CAP_REACHED\":\"N\",\"SCORING_CAP_REACHED\":\"N\",\"SUPPRESSED\":\"N\"}]}],\"SSN\":[{\"FEAT_DESC\":\"111-11-1111\",\"LIB_FEAT_ID\":3,\"FEAT_DESC_VALUES\":[{\"FEAT_DESC\":\"111-11-1111\",\"LIB_FEAT_ID\":3,\"USED_FOR_CAND\":\"Y\",\"USED_FOR_SCORING\":\"Y\",\"ENTITY_COUNT\":8,\"CANDIDATE_CAP_REACHED\":\"Y\",\"SCORING_CAP_REACHED\":\"N\",\"SUPPRESSED\":\"N\"}]}]},\"RECORD_SUMMARY\":[{\"DATA_SOURCE\":\"TEST\",\"RECORD_COUNT\":1,\"FIRST_SEEN_DT\":\"2022-11-05 16:18:13.899\",\"LAST_SEEN_DT\":\"2022-11-05 16:18:21.309\"}],\"LAST_SEEN_DT\":\"2022-11-05 16:18:21.309\",\"RECORDS\":[{\"DATA_SOURCE\":\"TEST\",\"RECORD_ID\":\"2\",\"ENTITY_TYPE\":\"GENERIC\",\"INTERNAL_ID\":8,\"ENTITY_KEY\":\"814730F425BFCD47D56537D7408EBD4213DCB3E9\",\"ENTITY_DESC\":\"Max W Miller\",\"MATCH_KEY\":\"\",\"MATCH_LEVEL\":0,\"MATCH_LEVEL_CODE\":\"\",\"ERRULE_CODE\":\"\",\"LAST_SEEN_DT\":\"2022-11-05 16:18:21.309\",\"FEATURES\":[{\"LIB_FEAT_ID\":3},{\"LIB_FEAT_ID\":10},{\"LIB_FEAT_ID\":36,\"USAGE_TYPE\":\"PRIMARY\"},{\"LIB_FEAT_ID\":37},{\"LIB_FEAT_ID\":38},{\"LIB_FEAT_ID\":39},{\"LIB_FEAT_ID\":40}]}]},\"RELATED_ENTITIES\":[]}]}))});"
      ]
     },
     "metadata": {},
     "output_type": "display_data"
    }
   ],
   "source": [
    "StringBuffer response = new StringBuffer();\n",
    "\n",
    "int return_code = g2engine.whyRecords(\n",
    "                            dataSourceCode1,\n",
    "                            recordID1,\n",
    "                            dataSourceCode2,\n",
    "                            recordID2,\n",
    "                            response);\n",
    "if(return_code!=0)\n",
    "    System.out.print(g2engine.getLastException());\n",
    "else\n",
    "    RenderJSON(response);       "
   ]
  },
  {
   "cell_type": "markdown",
   "metadata": {},
   "source": [
    "### whyEntityByEntityID\n",
    "\n",
    "###### Parameters\n",
    "\n",
    "- **entityID:** (int) The entity ID for the entity to be analyzed\n",
    "- **response:** (StringBuffer) Object to store the output of the method. Can be used to print or store for later.\n",
    "- **g2EngineFlags:** (long) control flags (applicable flags listed here [whyEntityByEntityID flags](senzing-G2Engine-flags.ipynb#whyEntityByEntityID))"
   ]
  },
  {
   "cell_type": "code",
   "execution_count": 69,
   "metadata": {},
   "outputs": [
    {
     "data": {
      "text/html": [
       "<div id=\"f0c799d6-dce7-4a32-bd45-3558e509e6db\" style=\"height:100%; width:100%; background-color: LightCyan\"></div>"
      ],
      "text/plain": [
       "<div id=\"f0c799d6-dce7-4a32-bd45-3558e509e6db\" style=\"height:100%; width:100%; background-color: LightCyan\"></div>"
      ]
     },
     "metadata": {},
     "output_type": "display_data"
    },
    {
     "data": {
      "application/javascript": [
       "require([\"https://rawgit.com/caldwell/renderjson/master/renderjson.js\"], function() {document.getElementById('f0c799d6-dce7-4a32-bd45-3558e509e6db').appendChild(renderjson({\"WHY_RESULTS\":[{\"INTERNAL_ID\":7,\"ENTITY_ID\":7,\"FOCUS_RECORDS\":[{\"DATA_SOURCE\":\"TEST\",\"RECORD_ID\":\"1\"},{\"DATA_SOURCE\":\"TEST\",\"RECORD_ID\":\"8\"}],\"MATCH_INFO\":{\"WHY_KEY\":\"\",\"WHY_ERRULE_CODE\":\"\",\"MATCH_LEVEL_CODE\":\"\",\"CANDIDATE_KEYS\":{},\"FEATURE_SCORES\":{}}}],\"ENTITIES\":[{\"RESOLVED_ENTITY\":{\"ENTITY_ID\":7,\"ENTITY_NAME\":\"Madelyn Caryn\",\"FEATURES\":{\"ID_KEY\":[{\"FEAT_DESC\":\"SSN=111-11-1111\",\"LIB_FEAT_ID\":10,\"FEAT_DESC_VALUES\":[{\"FEAT_DESC\":\"SSN=111-11-1111\",\"LIB_FEAT_ID\":10,\"USED_FOR_CAND\":\"Y\",\"USED_FOR_SCORING\":\"N\",\"ENTITY_COUNT\":8,\"CANDIDATE_CAP_REACHED\":\"Y\",\"SCORING_CAP_REACHED\":\"N\",\"SUPPRESSED\":\"N\"}]}],\"NAME\":[{\"FEAT_DESC\":\"Madelyn Caryn\",\"LIB_FEAT_ID\":33,\"USAGE_TYPE\":\"PRIMARY\",\"FEAT_DESC_VALUES\":[{\"FEAT_DESC\":\"Madelyn Caryn\",\"LIB_FEAT_ID\":33,\"USED_FOR_CAND\":\"N\",\"USED_FOR_SCORING\":\"Y\",\"ENTITY_COUNT\":1,\"CANDIDATE_CAP_REACHED\":\"N\",\"SCORING_CAP_REACHED\":\"N\",\"SUPPRESSED\":\"N\"}]}],\"NAME_KEY\":[{\"FEAT_DESC\":\"KRN|MTLN\",\"LIB_FEAT_ID\":34,\"FEAT_DESC_VALUES\":[{\"FEAT_DESC\":\"KRN|MTLN\",\"LIB_FEAT_ID\":34,\"USED_FOR_CAND\":\"Y\",\"USED_FOR_SCORING\":\"N\",\"ENTITY_COUNT\":1,\"CANDIDATE_CAP_REACHED\":\"N\",\"SCORING_CAP_REACHED\":\"N\",\"SUPPRESSED\":\"N\"}]},{\"FEAT_DESC\":\"KRN|MTLN|SSN=1111\",\"LIB_FEAT_ID\":35,\"FEAT_DESC_VALUES\":[{\"FEAT_DESC\":\"KRN|MTLN|SSN=1111\",\"LIB_FEAT_ID\":35,\"USED_FOR_CAND\":\"Y\",\"USED_FOR_SCORING\":\"N\",\"ENTITY_COUNT\":1,\"CANDIDATE_CAP_REACHED\":\"N\",\"SCORING_CAP_REACHED\":\"N\",\"SUPPRESSED\":\"N\"}]}],\"SSN\":[{\"FEAT_DESC\":\"111-11-1111\",\"LIB_FEAT_ID\":3,\"FEAT_DESC_VALUES\":[{\"FEAT_DESC\":\"111-11-1111\",\"LIB_FEAT_ID\":3,\"USED_FOR_CAND\":\"Y\",\"USED_FOR_SCORING\":\"Y\",\"ENTITY_COUNT\":8,\"CANDIDATE_CAP_REACHED\":\"Y\",\"SCORING_CAP_REACHED\":\"N\",\"SUPPRESSED\":\"N\"}]}]},\"RECORD_SUMMARY\":[{\"DATA_SOURCE\":\"TEST\",\"RECORD_COUNT\":2,\"FIRST_SEEN_DT\":\"2022-11-05 16:18:01.451\",\"LAST_SEEN_DT\":\"2022-11-05 16:18:13.745\"}],\"LAST_SEEN_DT\":\"2022-11-05 16:18:13.745\",\"RECORDS\":[{\"DATA_SOURCE\":\"TEST\",\"RECORD_ID\":\"1\",\"ENTITY_TYPE\":\"GENERIC\",\"INTERNAL_ID\":7,\"ENTITY_KEY\":\"ED809E0DCED3B9F3A411B5FABF62E2D866DBE02F\",\"ENTITY_DESC\":\"Madelyn Caryn\",\"MATCH_KEY\":\"\",\"MATCH_LEVEL\":0,\"MATCH_LEVEL_CODE\":\"\",\"ERRULE_CODE\":\"\",\"LAST_SEEN_DT\":\"2022-11-05 16:18:13.745\",\"FEATURES\":[{\"LIB_FEAT_ID\":3},{\"LIB_FEAT_ID\":10},{\"LIB_FEAT_ID\":33,\"USAGE_TYPE\":\"PRIMARY\"},{\"LIB_FEAT_ID\":34},{\"LIB_FEAT_ID\":35}]},{\"DATA_SOURCE\":\"TEST\",\"RECORD_ID\":\"8\",\"ENTITY_TYPE\":\"GENERIC\",\"INTERNAL_ID\":7,\"ENTITY_KEY\":\"ED809E0DCED3B9F3A411B5FABF62E2D866DBE02F\",\"ENTITY_DESC\":\"Madelyn Caryn\",\"MATCH_KEY\":\"+EXACTLY_SAME\",\"MATCH_LEVEL\":0,\"MATCH_LEVEL_CODE\":\"\",\"ERRULE_CODE\":\"\",\"LAST_SEEN_DT\":\"2022-11-05 16:18:01.451\",\"FEATURES\":[{\"LIB_FEAT_ID\":3},{\"LIB_FEAT_ID\":10},{\"LIB_FEAT_ID\":33,\"USAGE_TYPE\":\"PRIMARY\"},{\"LIB_FEAT_ID\":34},{\"LIB_FEAT_ID\":35}]}]},\"RELATED_ENTITIES\":[]}]}))});"
      ],
      "text/plain": [
       "require([\"https://rawgit.com/caldwell/renderjson/master/renderjson.js\"], function() {document.getElementById('f0c799d6-dce7-4a32-bd45-3558e509e6db').appendChild(renderjson({\"WHY_RESULTS\":[{\"INTERNAL_ID\":7,\"ENTITY_ID\":7,\"FOCUS_RECORDS\":[{\"DATA_SOURCE\":\"TEST\",\"RECORD_ID\":\"1\"},{\"DATA_SOURCE\":\"TEST\",\"RECORD_ID\":\"8\"}],\"MATCH_INFO\":{\"WHY_KEY\":\"\",\"WHY_ERRULE_CODE\":\"\",\"MATCH_LEVEL_CODE\":\"\",\"CANDIDATE_KEYS\":{},\"FEATURE_SCORES\":{}}}],\"ENTITIES\":[{\"RESOLVED_ENTITY\":{\"ENTITY_ID\":7,\"ENTITY_NAME\":\"Madelyn Caryn\",\"FEATURES\":{\"ID_KEY\":[{\"FEAT_DESC\":\"SSN=111-11-1111\",\"LIB_FEAT_ID\":10,\"FEAT_DESC_VALUES\":[{\"FEAT_DESC\":\"SSN=111-11-1111\",\"LIB_FEAT_ID\":10,\"USED_FOR_CAND\":\"Y\",\"USED_FOR_SCORING\":\"N\",\"ENTITY_COUNT\":8,\"CANDIDATE_CAP_REACHED\":\"Y\",\"SCORING_CAP_REACHED\":\"N\",\"SUPPRESSED\":\"N\"}]}],\"NAME\":[{\"FEAT_DESC\":\"Madelyn Caryn\",\"LIB_FEAT_ID\":33,\"USAGE_TYPE\":\"PRIMARY\",\"FEAT_DESC_VALUES\":[{\"FEAT_DESC\":\"Madelyn Caryn\",\"LIB_FEAT_ID\":33,\"USED_FOR_CAND\":\"N\",\"USED_FOR_SCORING\":\"Y\",\"ENTITY_COUNT\":1,\"CANDIDATE_CAP_REACHED\":\"N\",\"SCORING_CAP_REACHED\":\"N\",\"SUPPRESSED\":\"N\"}]}],\"NAME_KEY\":[{\"FEAT_DESC\":\"KRN|MTLN\",\"LIB_FEAT_ID\":34,\"FEAT_DESC_VALUES\":[{\"FEAT_DESC\":\"KRN|MTLN\",\"LIB_FEAT_ID\":34,\"USED_FOR_CAND\":\"Y\",\"USED_FOR_SCORING\":\"N\",\"ENTITY_COUNT\":1,\"CANDIDATE_CAP_REACHED\":\"N\",\"SCORING_CAP_REACHED\":\"N\",\"SUPPRESSED\":\"N\"}]},{\"FEAT_DESC\":\"KRN|MTLN|SSN=1111\",\"LIB_FEAT_ID\":35,\"FEAT_DESC_VALUES\":[{\"FEAT_DESC\":\"KRN|MTLN|SSN=1111\",\"LIB_FEAT_ID\":35,\"USED_FOR_CAND\":\"Y\",\"USED_FOR_SCORING\":\"N\",\"ENTITY_COUNT\":1,\"CANDIDATE_CAP_REACHED\":\"N\",\"SCORING_CAP_REACHED\":\"N\",\"SUPPRESSED\":\"N\"}]}],\"SSN\":[{\"FEAT_DESC\":\"111-11-1111\",\"LIB_FEAT_ID\":3,\"FEAT_DESC_VALUES\":[{\"FEAT_DESC\":\"111-11-1111\",\"LIB_FEAT_ID\":3,\"USED_FOR_CAND\":\"Y\",\"USED_FOR_SCORING\":\"Y\",\"ENTITY_COUNT\":8,\"CANDIDATE_CAP_REACHED\":\"Y\",\"SCORING_CAP_REACHED\":\"N\",\"SUPPRESSED\":\"N\"}]}]},\"RECORD_SUMMARY\":[{\"DATA_SOURCE\":\"TEST\",\"RECORD_COUNT\":2,\"FIRST_SEEN_DT\":\"2022-11-05 16:18:01.451\",\"LAST_SEEN_DT\":\"2022-11-05 16:18:13.745\"}],\"LAST_SEEN_DT\":\"2022-11-05 16:18:13.745\",\"RECORDS\":[{\"DATA_SOURCE\":\"TEST\",\"RECORD_ID\":\"1\",\"ENTITY_TYPE\":\"GENERIC\",\"INTERNAL_ID\":7,\"ENTITY_KEY\":\"ED809E0DCED3B9F3A411B5FABF62E2D866DBE02F\",\"ENTITY_DESC\":\"Madelyn Caryn\",\"MATCH_KEY\":\"\",\"MATCH_LEVEL\":0,\"MATCH_LEVEL_CODE\":\"\",\"ERRULE_CODE\":\"\",\"LAST_SEEN_DT\":\"2022-11-05 16:18:13.745\",\"FEATURES\":[{\"LIB_FEAT_ID\":3},{\"LIB_FEAT_ID\":10},{\"LIB_FEAT_ID\":33,\"USAGE_TYPE\":\"PRIMARY\"},{\"LIB_FEAT_ID\":34},{\"LIB_FEAT_ID\":35}]},{\"DATA_SOURCE\":\"TEST\",\"RECORD_ID\":\"8\",\"ENTITY_TYPE\":\"GENERIC\",\"INTERNAL_ID\":7,\"ENTITY_KEY\":\"ED809E0DCED3B9F3A411B5FABF62E2D866DBE02F\",\"ENTITY_DESC\":\"Madelyn Caryn\",\"MATCH_KEY\":\"+EXACTLY_SAME\",\"MATCH_LEVEL\":0,\"MATCH_LEVEL_CODE\":\"\",\"ERRULE_CODE\":\"\",\"LAST_SEEN_DT\":\"2022-11-05 16:18:01.451\",\"FEATURES\":[{\"LIB_FEAT_ID\":3},{\"LIB_FEAT_ID\":10},{\"LIB_FEAT_ID\":33,\"USAGE_TYPE\":\"PRIMARY\"},{\"LIB_FEAT_ID\":34},{\"LIB_FEAT_ID\":35}]}]},\"RELATED_ENTITIES\":[]}]}))});"
      ]
     },
     "metadata": {},
     "output_type": "display_data"
    }
   ],
   "source": [
    "StringBuffer response = new StringBuffer();\n",
    "\n",
    "\n",
    "int return_code = g2engine.whyEntityByEntityID(entityID1,response);\n",
    "\n",
    "\n",
    "if(return_code!=0)\n",
    "    System.out.print(g2engine.getLastException());\n",
    "else\n",
    "    RenderJSON(response);"
   ]
  },
  {
   "cell_type": "markdown",
   "metadata": {},
   "source": [
    "### whyEntityByRecordID\n",
    "\n",
    "###### Parameters\n",
    "\n",
    "- **dataSourceCode:** (str) The name of the data source the record\n",
    "  is associated with.\n",
    "  This value is configurable to the system\n",
    "- **recordID:** (int) The record ID for the record to be analyzed\n",
    "- **response:** (StringBuffer) Object to store the output of the method. Can be used to print or store for later.\n",
    "- **g2EngineFlags:** (long) control flags (applicable flags listed here [whyEntityByRecordID flags](senzing-G2Engine-flags.ipynb#whyEntityByRecordID))"
   ]
  },
  {
   "cell_type": "code",
   "execution_count": 70,
   "metadata": {},
   "outputs": [
    {
     "data": {
      "text/html": [
       "<div id=\"7730adbc-f544-4455-b6dd-e054def51c9a\" style=\"height:100%; width:100%; background-color: LightCyan\"></div>"
      ],
      "text/plain": [
       "<div id=\"7730adbc-f544-4455-b6dd-e054def51c9a\" style=\"height:100%; width:100%; background-color: LightCyan\"></div>"
      ]
     },
     "metadata": {},
     "output_type": "display_data"
    },
    {
     "data": {
      "application/javascript": [
       "require([\"https://rawgit.com/caldwell/renderjson/master/renderjson.js\"], function() {document.getElementById('7730adbc-f544-4455-b6dd-e054def51c9a').appendChild(renderjson({\"WHY_RESULTS\":[{\"INTERNAL_ID\":7,\"ENTITY_ID\":7,\"FOCUS_RECORDS\":[{\"DATA_SOURCE\":\"TEST\",\"RECORD_ID\":\"1\"},{\"DATA_SOURCE\":\"TEST\",\"RECORD_ID\":\"8\"}],\"MATCH_INFO\":{\"WHY_KEY\":\"\",\"WHY_ERRULE_CODE\":\"\",\"MATCH_LEVEL_CODE\":\"\",\"CANDIDATE_KEYS\":{},\"FEATURE_SCORES\":{}}}],\"ENTITIES\":[{\"RESOLVED_ENTITY\":{\"ENTITY_ID\":7,\"ENTITY_NAME\":\"Madelyn Caryn\",\"FEATURES\":{\"ID_KEY\":[{\"FEAT_DESC\":\"SSN=111-11-1111\",\"LIB_FEAT_ID\":10,\"FEAT_DESC_VALUES\":[{\"FEAT_DESC\":\"SSN=111-11-1111\",\"LIB_FEAT_ID\":10,\"USED_FOR_CAND\":\"Y\",\"USED_FOR_SCORING\":\"N\",\"ENTITY_COUNT\":8,\"CANDIDATE_CAP_REACHED\":\"Y\",\"SCORING_CAP_REACHED\":\"N\",\"SUPPRESSED\":\"N\"}]}],\"NAME\":[{\"FEAT_DESC\":\"Madelyn Caryn\",\"LIB_FEAT_ID\":33,\"USAGE_TYPE\":\"PRIMARY\",\"FEAT_DESC_VALUES\":[{\"FEAT_DESC\":\"Madelyn Caryn\",\"LIB_FEAT_ID\":33,\"USED_FOR_CAND\":\"N\",\"USED_FOR_SCORING\":\"Y\",\"ENTITY_COUNT\":1,\"CANDIDATE_CAP_REACHED\":\"N\",\"SCORING_CAP_REACHED\":\"N\",\"SUPPRESSED\":\"N\"}]}],\"NAME_KEY\":[{\"FEAT_DESC\":\"KRN|MTLN\",\"LIB_FEAT_ID\":34,\"FEAT_DESC_VALUES\":[{\"FEAT_DESC\":\"KRN|MTLN\",\"LIB_FEAT_ID\":34,\"USED_FOR_CAND\":\"Y\",\"USED_FOR_SCORING\":\"N\",\"ENTITY_COUNT\":1,\"CANDIDATE_CAP_REACHED\":\"N\",\"SCORING_CAP_REACHED\":\"N\",\"SUPPRESSED\":\"N\"}]},{\"FEAT_DESC\":\"KRN|MTLN|SSN=1111\",\"LIB_FEAT_ID\":35,\"FEAT_DESC_VALUES\":[{\"FEAT_DESC\":\"KRN|MTLN|SSN=1111\",\"LIB_FEAT_ID\":35,\"USED_FOR_CAND\":\"Y\",\"USED_FOR_SCORING\":\"N\",\"ENTITY_COUNT\":1,\"CANDIDATE_CAP_REACHED\":\"N\",\"SCORING_CAP_REACHED\":\"N\",\"SUPPRESSED\":\"N\"}]}],\"SSN\":[{\"FEAT_DESC\":\"111-11-1111\",\"LIB_FEAT_ID\":3,\"FEAT_DESC_VALUES\":[{\"FEAT_DESC\":\"111-11-1111\",\"LIB_FEAT_ID\":3,\"USED_FOR_CAND\":\"Y\",\"USED_FOR_SCORING\":\"Y\",\"ENTITY_COUNT\":8,\"CANDIDATE_CAP_REACHED\":\"Y\",\"SCORING_CAP_REACHED\":\"N\",\"SUPPRESSED\":\"N\"}]}]},\"RECORD_SUMMARY\":[{\"DATA_SOURCE\":\"TEST\",\"RECORD_COUNT\":2,\"FIRST_SEEN_DT\":\"2022-11-05 16:18:01.451\",\"LAST_SEEN_DT\":\"2022-11-05 16:18:13.745\"}],\"LAST_SEEN_DT\":\"2022-11-05 16:18:13.745\",\"RECORDS\":[{\"DATA_SOURCE\":\"TEST\",\"RECORD_ID\":\"1\",\"ENTITY_TYPE\":\"GENERIC\",\"INTERNAL_ID\":7,\"ENTITY_KEY\":\"ED809E0DCED3B9F3A411B5FABF62E2D866DBE02F\",\"ENTITY_DESC\":\"Madelyn Caryn\",\"MATCH_KEY\":\"\",\"MATCH_LEVEL\":0,\"MATCH_LEVEL_CODE\":\"\",\"ERRULE_CODE\":\"\",\"LAST_SEEN_DT\":\"2022-11-05 16:18:13.745\",\"FEATURES\":[{\"LIB_FEAT_ID\":3},{\"LIB_FEAT_ID\":10},{\"LIB_FEAT_ID\":33,\"USAGE_TYPE\":\"PRIMARY\"},{\"LIB_FEAT_ID\":34},{\"LIB_FEAT_ID\":35}]},{\"DATA_SOURCE\":\"TEST\",\"RECORD_ID\":\"8\",\"ENTITY_TYPE\":\"GENERIC\",\"INTERNAL_ID\":7,\"ENTITY_KEY\":\"ED809E0DCED3B9F3A411B5FABF62E2D866DBE02F\",\"ENTITY_DESC\":\"Madelyn Caryn\",\"MATCH_KEY\":\"+EXACTLY_SAME\",\"MATCH_LEVEL\":0,\"MATCH_LEVEL_CODE\":\"\",\"ERRULE_CODE\":\"\",\"LAST_SEEN_DT\":\"2022-11-05 16:18:01.451\",\"FEATURES\":[{\"LIB_FEAT_ID\":3},{\"LIB_FEAT_ID\":10},{\"LIB_FEAT_ID\":33,\"USAGE_TYPE\":\"PRIMARY\"},{\"LIB_FEAT_ID\":34},{\"LIB_FEAT_ID\":35}]}]},\"RELATED_ENTITIES\":[]}]}))});"
      ],
      "text/plain": [
       "require([\"https://rawgit.com/caldwell/renderjson/master/renderjson.js\"], function() {document.getElementById('7730adbc-f544-4455-b6dd-e054def51c9a').appendChild(renderjson({\"WHY_RESULTS\":[{\"INTERNAL_ID\":7,\"ENTITY_ID\":7,\"FOCUS_RECORDS\":[{\"DATA_SOURCE\":\"TEST\",\"RECORD_ID\":\"1\"},{\"DATA_SOURCE\":\"TEST\",\"RECORD_ID\":\"8\"}],\"MATCH_INFO\":{\"WHY_KEY\":\"\",\"WHY_ERRULE_CODE\":\"\",\"MATCH_LEVEL_CODE\":\"\",\"CANDIDATE_KEYS\":{},\"FEATURE_SCORES\":{}}}],\"ENTITIES\":[{\"RESOLVED_ENTITY\":{\"ENTITY_ID\":7,\"ENTITY_NAME\":\"Madelyn Caryn\",\"FEATURES\":{\"ID_KEY\":[{\"FEAT_DESC\":\"SSN=111-11-1111\",\"LIB_FEAT_ID\":10,\"FEAT_DESC_VALUES\":[{\"FEAT_DESC\":\"SSN=111-11-1111\",\"LIB_FEAT_ID\":10,\"USED_FOR_CAND\":\"Y\",\"USED_FOR_SCORING\":\"N\",\"ENTITY_COUNT\":8,\"CANDIDATE_CAP_REACHED\":\"Y\",\"SCORING_CAP_REACHED\":\"N\",\"SUPPRESSED\":\"N\"}]}],\"NAME\":[{\"FEAT_DESC\":\"Madelyn Caryn\",\"LIB_FEAT_ID\":33,\"USAGE_TYPE\":\"PRIMARY\",\"FEAT_DESC_VALUES\":[{\"FEAT_DESC\":\"Madelyn Caryn\",\"LIB_FEAT_ID\":33,\"USED_FOR_CAND\":\"N\",\"USED_FOR_SCORING\":\"Y\",\"ENTITY_COUNT\":1,\"CANDIDATE_CAP_REACHED\":\"N\",\"SCORING_CAP_REACHED\":\"N\",\"SUPPRESSED\":\"N\"}]}],\"NAME_KEY\":[{\"FEAT_DESC\":\"KRN|MTLN\",\"LIB_FEAT_ID\":34,\"FEAT_DESC_VALUES\":[{\"FEAT_DESC\":\"KRN|MTLN\",\"LIB_FEAT_ID\":34,\"USED_FOR_CAND\":\"Y\",\"USED_FOR_SCORING\":\"N\",\"ENTITY_COUNT\":1,\"CANDIDATE_CAP_REACHED\":\"N\",\"SCORING_CAP_REACHED\":\"N\",\"SUPPRESSED\":\"N\"}]},{\"FEAT_DESC\":\"KRN|MTLN|SSN=1111\",\"LIB_FEAT_ID\":35,\"FEAT_DESC_VALUES\":[{\"FEAT_DESC\":\"KRN|MTLN|SSN=1111\",\"LIB_FEAT_ID\":35,\"USED_FOR_CAND\":\"Y\",\"USED_FOR_SCORING\":\"N\",\"ENTITY_COUNT\":1,\"CANDIDATE_CAP_REACHED\":\"N\",\"SCORING_CAP_REACHED\":\"N\",\"SUPPRESSED\":\"N\"}]}],\"SSN\":[{\"FEAT_DESC\":\"111-11-1111\",\"LIB_FEAT_ID\":3,\"FEAT_DESC_VALUES\":[{\"FEAT_DESC\":\"111-11-1111\",\"LIB_FEAT_ID\":3,\"USED_FOR_CAND\":\"Y\",\"USED_FOR_SCORING\":\"Y\",\"ENTITY_COUNT\":8,\"CANDIDATE_CAP_REACHED\":\"Y\",\"SCORING_CAP_REACHED\":\"N\",\"SUPPRESSED\":\"N\"}]}]},\"RECORD_SUMMARY\":[{\"DATA_SOURCE\":\"TEST\",\"RECORD_COUNT\":2,\"FIRST_SEEN_DT\":\"2022-11-05 16:18:01.451\",\"LAST_SEEN_DT\":\"2022-11-05 16:18:13.745\"}],\"LAST_SEEN_DT\":\"2022-11-05 16:18:13.745\",\"RECORDS\":[{\"DATA_SOURCE\":\"TEST\",\"RECORD_ID\":\"1\",\"ENTITY_TYPE\":\"GENERIC\",\"INTERNAL_ID\":7,\"ENTITY_KEY\":\"ED809E0DCED3B9F3A411B5FABF62E2D866DBE02F\",\"ENTITY_DESC\":\"Madelyn Caryn\",\"MATCH_KEY\":\"\",\"MATCH_LEVEL\":0,\"MATCH_LEVEL_CODE\":\"\",\"ERRULE_CODE\":\"\",\"LAST_SEEN_DT\":\"2022-11-05 16:18:13.745\",\"FEATURES\":[{\"LIB_FEAT_ID\":3},{\"LIB_FEAT_ID\":10},{\"LIB_FEAT_ID\":33,\"USAGE_TYPE\":\"PRIMARY\"},{\"LIB_FEAT_ID\":34},{\"LIB_FEAT_ID\":35}]},{\"DATA_SOURCE\":\"TEST\",\"RECORD_ID\":\"8\",\"ENTITY_TYPE\":\"GENERIC\",\"INTERNAL_ID\":7,\"ENTITY_KEY\":\"ED809E0DCED3B9F3A411B5FABF62E2D866DBE02F\",\"ENTITY_DESC\":\"Madelyn Caryn\",\"MATCH_KEY\":\"+EXACTLY_SAME\",\"MATCH_LEVEL\":0,\"MATCH_LEVEL_CODE\":\"\",\"ERRULE_CODE\":\"\",\"LAST_SEEN_DT\":\"2022-11-05 16:18:01.451\",\"FEATURES\":[{\"LIB_FEAT_ID\":3},{\"LIB_FEAT_ID\":10},{\"LIB_FEAT_ID\":33,\"USAGE_TYPE\":\"PRIMARY\"},{\"LIB_FEAT_ID\":34},{\"LIB_FEAT_ID\":35}]}]},\"RELATED_ENTITIES\":[]}]}))});"
      ]
     },
     "metadata": {},
     "output_type": "display_data"
    }
   ],
   "source": [
    "StringBuffer response = new StringBuffer();\n",
    "\n",
    "int return_code = g2engine.whyEntityByRecordID(\n",
    "                            dataSourceCode1,\n",
    "                            recordID1,\n",
    "                            response);\n",
    "\n",
    "if(return_code!=0)\n",
    "    System.out.print(g2engine.getLastException());\n",
    "else\n",
    "    RenderJSON(response);"
   ]
  },
  {
   "cell_type": "markdown",
   "metadata": {},
   "source": [
    "### howEntityByEntityID\n",
    "\n",
    "###### Parameters\n",
    "\n",
    "- **entity_id:** (int) The entity ID for the entity to be analyzed\n",
    "- **response:** (StringBuffer) Object to store the output of the method. Can be used to print or store for later."
   ]
  },
  {
   "cell_type": "markdown",
   "metadata": {},
   "source": [
    "Create some records to show resolution steps"
   ]
  },
  {
   "cell_type": "code",
   "execution_count": 71,
   "metadata": {},
   "outputs": [],
   "source": [
    "String data1 =  \"{\\\"NAME_TYPE\\\": \\\"PRIMARY\\\", \\\"NAME_FIRST\\\": \\\"Joe\\\", \\\"NAME_LAST\\\": \\\"Schmoe\\\", \\\"SSN_NUMBER\\\": \\\"111-22-3456\\\", \\\"DOB\\\": \\\"03-22-1982\\\"}\";\n",
    "String data2 =  \"{\\\"NAME_TYPE\\\": \\\"PRIMARY\\\", \\\"NAME_FIRST\\\": \\\"Joe\\\", \\\"NAME_LAST\\\": \\\"Schmoe\\\", \\\"SSN_NUMBER\\\": \\\"111-22-3456\\\", \\\"CITIZENSHIP\\\": \\\"British\\\"}\";\n",
    "String data3 =  \"{\\\"NAME_TYPE\\\": \\\"PRIMARY\\\", \\\"NAME_FIRST\\\": \\\"Joe\\\", \\\"NAME_LAST\\\": \\\"Schmoe\\\", \\\"SSN_NUMBER\\\": \\\"111-22-3456\\\", \\\"NATIONALITY\\\": \\\"Australian\\\"}\";\n",
    "\n",
    "String recordID1 = \"10\";\n",
    "String recordID2 = \"11\";\n",
    "String recordID3 = \"12\";\n",
    "String dataSourceCode = \"TEST\";\n",
    "\n",
    "g2engine.addRecord(dataSourceCode, recordID1, data1, loadID);\n",
    "g2engine.addRecord(dataSourceCode, recordID2, data2, loadID);\n",
    "g2engine.addRecord(dataSourceCode, recordID3, data3, loadID);\n",
    "\n",
    "StringBuffer response = new StringBuffer();\n",
    "\n",
    "g2engine.getEntityByRecordID(dataSourceCode, recordID1, response);\n",
    "JsonObject jsonObject = JsonUtil.parseJsonObject(response.toString());\n",
    "long entityID = jsonObject.getJsonObject(\"RESOLVED_ENTITY\").getJsonNumber(\"ENTITY_ID\").longValue();"
   ]
  },
  {
   "cell_type": "code",
   "execution_count": 72,
   "metadata": {},
   "outputs": [
    {
     "data": {
      "text/html": [
       "<div id=\"1005ae71-751e-4998-85d5-f1554abc1e0f\" style=\"height:100%; width:100%; background-color: LightCyan\"></div>"
      ],
      "text/plain": [
       "<div id=\"1005ae71-751e-4998-85d5-f1554abc1e0f\" style=\"height:100%; width:100%; background-color: LightCyan\"></div>"
      ]
     },
     "metadata": {},
     "output_type": "display_data"
    },
    {
     "data": {
      "application/javascript": [
       "require([\"https://rawgit.com/caldwell/renderjson/master/renderjson.js\"], function() {document.getElementById('1005ae71-751e-4998-85d5-f1554abc1e0f').appendChild(renderjson({\"HOW_RESULTS\":{\"RESOLUTION_STEPS\":[{\"STEP\":1,\"VIRTUAL_ENTITY_1\":{\"VIRTUAL_ENTITY_ID\":\"V11\",\"MEMBER_RECORDS\":[{\"INTERNAL_ID\":11,\"RECORDS\":[{\"DATA_SOURCE\":\"TEST\",\"RECORD_ID\":\"11\"}]}]},\"VIRTUAL_ENTITY_2\":{\"VIRTUAL_ENTITY_ID\":\"V12\",\"MEMBER_RECORDS\":[{\"INTERNAL_ID\":12,\"RECORDS\":[{\"DATA_SOURCE\":\"TEST\",\"RECORD_ID\":\"12\"}]}]},\"INBOUND_VIRTUAL_ENTITY_ID\":\"V12\",\"RESULT_VIRTUAL_ENTITY_ID\":\"V11-S1\",\"MATCH_INFO\":{\"MATCH_KEY\":\"+NAME+SSN\",\"ERRULE_CODE\":\"SF1_PNAME_CSTAB\",\"FEATURE_SCORES\":{\"NAME\":[{\"INBOUND_FEAT_ID\":46,\"INBOUND_FEAT\":\"Joe Schmoe\",\"INBOUND_FEAT_USAGE_TYPE\":\"PRIMARY\",\"CANDIDATE_FEAT_ID\":46,\"CANDIDATE_FEAT\":\"Joe Schmoe\",\"CANDIDATE_FEAT_USAGE_TYPE\":\"PRIMARY\",\"GNR_FN\":100,\"GNR_SN\":100,\"GNR_GN\":100,\"GENERATION_MATCH\":-1,\"GNR_ON\":-1,\"SCORE_BUCKET\":\"SAME\",\"SCORE_BEHAVIOR\":\"NAME\"}],\"SSN\":[{\"INBOUND_FEAT_ID\":47,\"INBOUND_FEAT\":\"111-22-3456\",\"INBOUND_FEAT_USAGE_TYPE\":\"\",\"CANDIDATE_FEAT_ID\":47,\"CANDIDATE_FEAT\":\"111-22-3456\",\"CANDIDATE_FEAT_USAGE_TYPE\":\"\",\"FULL_SCORE\":100,\"SCORE_BUCKET\":\"SAME\",\"SCORE_BEHAVIOR\":\"F1ES\"}]}}},{\"STEP\":2,\"VIRTUAL_ENTITY_1\":{\"VIRTUAL_ENTITY_ID\":\"V10\",\"MEMBER_RECORDS\":[{\"INTERNAL_ID\":10,\"RECORDS\":[{\"DATA_SOURCE\":\"TEST\",\"RECORD_ID\":\"10\"}]}]},\"VIRTUAL_ENTITY_2\":{\"VIRTUAL_ENTITY_ID\":\"V11-S1\",\"MEMBER_RECORDS\":[{\"INTERNAL_ID\":11,\"RECORDS\":[{\"DATA_SOURCE\":\"TEST\",\"RECORD_ID\":\"11\"}]},{\"INTERNAL_ID\":12,\"RECORDS\":[{\"DATA_SOURCE\":\"TEST\",\"RECORD_ID\":\"12\"}]}]},\"INBOUND_VIRTUAL_ENTITY_ID\":\"V11-S1\",\"RESULT_VIRTUAL_ENTITY_ID\":\"V10-S2\",\"MATCH_INFO\":{\"MATCH_KEY\":\"+NAME+SSN\",\"ERRULE_CODE\":\"SF1_PNAME_CSTAB\",\"FEATURE_SCORES\":{\"NAME\":[{\"INBOUND_FEAT_ID\":46,\"INBOUND_FEAT\":\"Joe Schmoe\",\"INBOUND_FEAT_USAGE_TYPE\":\"PRIMARY\",\"CANDIDATE_FEAT_ID\":46,\"CANDIDATE_FEAT\":\"Joe Schmoe\",\"CANDIDATE_FEAT_USAGE_TYPE\":\"PRIMARY\",\"GNR_FN\":100,\"GNR_SN\":100,\"GNR_GN\":100,\"GENERATION_MATCH\":-1,\"GNR_ON\":-1,\"SCORE_BUCKET\":\"SAME\",\"SCORE_BEHAVIOR\":\"NAME\"}],\"SSN\":[{\"INBOUND_FEAT_ID\":47,\"INBOUND_FEAT\":\"111-22-3456\",\"INBOUND_FEAT_USAGE_TYPE\":\"\",\"CANDIDATE_FEAT_ID\":47,\"CANDIDATE_FEAT\":\"111-22-3456\",\"CANDIDATE_FEAT_USAGE_TYPE\":\"\",\"FULL_SCORE\":100,\"SCORE_BUCKET\":\"SAME\",\"SCORE_BEHAVIOR\":\"F1ES\"}]}}}],\"FINAL_STATE\":{\"NEED_REEVALUATION\":0,\"VIRTUAL_ENTITIES\":[{\"VIRTUAL_ENTITY_ID\":\"V10-S2\",\"MEMBER_RECORDS\":[{\"INTERNAL_ID\":10,\"RECORDS\":[{\"DATA_SOURCE\":\"TEST\",\"RECORD_ID\":\"10\"}]},{\"INTERNAL_ID\":11,\"RECORDS\":[{\"DATA_SOURCE\":\"TEST\",\"RECORD_ID\":\"11\"}]},{\"INTERNAL_ID\":12,\"RECORDS\":[{\"DATA_SOURCE\":\"TEST\",\"RECORD_ID\":\"12\"}]}]}]}}}))});"
      ],
      "text/plain": [
       "require([\"https://rawgit.com/caldwell/renderjson/master/renderjson.js\"], function() {document.getElementById('1005ae71-751e-4998-85d5-f1554abc1e0f').appendChild(renderjson({\"HOW_RESULTS\":{\"RESOLUTION_STEPS\":[{\"STEP\":1,\"VIRTUAL_ENTITY_1\":{\"VIRTUAL_ENTITY_ID\":\"V11\",\"MEMBER_RECORDS\":[{\"INTERNAL_ID\":11,\"RECORDS\":[{\"DATA_SOURCE\":\"TEST\",\"RECORD_ID\":\"11\"}]}]},\"VIRTUAL_ENTITY_2\":{\"VIRTUAL_ENTITY_ID\":\"V12\",\"MEMBER_RECORDS\":[{\"INTERNAL_ID\":12,\"RECORDS\":[{\"DATA_SOURCE\":\"TEST\",\"RECORD_ID\":\"12\"}]}]},\"INBOUND_VIRTUAL_ENTITY_ID\":\"V12\",\"RESULT_VIRTUAL_ENTITY_ID\":\"V11-S1\",\"MATCH_INFO\":{\"MATCH_KEY\":\"+NAME+SSN\",\"ERRULE_CODE\":\"SF1_PNAME_CSTAB\",\"FEATURE_SCORES\":{\"NAME\":[{\"INBOUND_FEAT_ID\":46,\"INBOUND_FEAT\":\"Joe Schmoe\",\"INBOUND_FEAT_USAGE_TYPE\":\"PRIMARY\",\"CANDIDATE_FEAT_ID\":46,\"CANDIDATE_FEAT\":\"Joe Schmoe\",\"CANDIDATE_FEAT_USAGE_TYPE\":\"PRIMARY\",\"GNR_FN\":100,\"GNR_SN\":100,\"GNR_GN\":100,\"GENERATION_MATCH\":-1,\"GNR_ON\":-1,\"SCORE_BUCKET\":\"SAME\",\"SCORE_BEHAVIOR\":\"NAME\"}],\"SSN\":[{\"INBOUND_FEAT_ID\":47,\"INBOUND_FEAT\":\"111-22-3456\",\"INBOUND_FEAT_USAGE_TYPE\":\"\",\"CANDIDATE_FEAT_ID\":47,\"CANDIDATE_FEAT\":\"111-22-3456\",\"CANDIDATE_FEAT_USAGE_TYPE\":\"\",\"FULL_SCORE\":100,\"SCORE_BUCKET\":\"SAME\",\"SCORE_BEHAVIOR\":\"F1ES\"}]}}},{\"STEP\":2,\"VIRTUAL_ENTITY_1\":{\"VIRTUAL_ENTITY_ID\":\"V10\",\"MEMBER_RECORDS\":[{\"INTERNAL_ID\":10,\"RECORDS\":[{\"DATA_SOURCE\":\"TEST\",\"RECORD_ID\":\"10\"}]}]},\"VIRTUAL_ENTITY_2\":{\"VIRTUAL_ENTITY_ID\":\"V11-S1\",\"MEMBER_RECORDS\":[{\"INTERNAL_ID\":11,\"RECORDS\":[{\"DATA_SOURCE\":\"TEST\",\"RECORD_ID\":\"11\"}]},{\"INTERNAL_ID\":12,\"RECORDS\":[{\"DATA_SOURCE\":\"TEST\",\"RECORD_ID\":\"12\"}]}]},\"INBOUND_VIRTUAL_ENTITY_ID\":\"V11-S1\",\"RESULT_VIRTUAL_ENTITY_ID\":\"V10-S2\",\"MATCH_INFO\":{\"MATCH_KEY\":\"+NAME+SSN\",\"ERRULE_CODE\":\"SF1_PNAME_CSTAB\",\"FEATURE_SCORES\":{\"NAME\":[{\"INBOUND_FEAT_ID\":46,\"INBOUND_FEAT\":\"Joe Schmoe\",\"INBOUND_FEAT_USAGE_TYPE\":\"PRIMARY\",\"CANDIDATE_FEAT_ID\":46,\"CANDIDATE_FEAT\":\"Joe Schmoe\",\"CANDIDATE_FEAT_USAGE_TYPE\":\"PRIMARY\",\"GNR_FN\":100,\"GNR_SN\":100,\"GNR_GN\":100,\"GENERATION_MATCH\":-1,\"GNR_ON\":-1,\"SCORE_BUCKET\":\"SAME\",\"SCORE_BEHAVIOR\":\"NAME\"}],\"SSN\":[{\"INBOUND_FEAT_ID\":47,\"INBOUND_FEAT\":\"111-22-3456\",\"INBOUND_FEAT_USAGE_TYPE\":\"\",\"CANDIDATE_FEAT_ID\":47,\"CANDIDATE_FEAT\":\"111-22-3456\",\"CANDIDATE_FEAT_USAGE_TYPE\":\"\",\"FULL_SCORE\":100,\"SCORE_BUCKET\":\"SAME\",\"SCORE_BEHAVIOR\":\"F1ES\"}]}}}],\"FINAL_STATE\":{\"NEED_REEVALUATION\":0,\"VIRTUAL_ENTITIES\":[{\"VIRTUAL_ENTITY_ID\":\"V10-S2\",\"MEMBER_RECORDS\":[{\"INTERNAL_ID\":10,\"RECORDS\":[{\"DATA_SOURCE\":\"TEST\",\"RECORD_ID\":\"10\"}]},{\"INTERNAL_ID\":11,\"RECORDS\":[{\"DATA_SOURCE\":\"TEST\",\"RECORD_ID\":\"11\"}]},{\"INTERNAL_ID\":12,\"RECORDS\":[{\"DATA_SOURCE\":\"TEST\",\"RECORD_ID\":\"12\"}]}]}]}}}))});"
      ]
     },
     "metadata": {},
     "output_type": "display_data"
    }
   ],
   "source": [
    "StringBuffer response = new StringBuffer();\n",
    "\n",
    "int return_code = g2engine.howEntityByEntityID(\n",
    "                            entityID,\n",
    "                            response);\n",
    "                            \n",
    "if(return_code!=0)\n",
    "    System.out.print(g2engine.getLastException());\n",
    "else\n",
    "    RenderJSON(response);"
   ]
  },
  {
   "cell_type": "markdown",
   "metadata": {},
   "source": [
    "## Reporting\n",
    "\n",
    "Exporting entity data from resolved entities is one of the core purposes of\n",
    "Senzing software.\n",
    "In just a few short steps, the Senzing engine allows users to export entity\n",
    "data in either JSON or CSV format."
   ]
  },
  {
   "cell_type": "markdown",
   "metadata": {},
   "source": [
    "### exportJSONEntityReport\n",
    "\n",
    "There are three steps to exporting resolved entity data from the G2Engine\n",
    "object in JSON format.\n",
    "First, use the `exportJSONEntityReport()` method to generate the `exportHandle`.\n",
    "\n",
    "###### Parameters\n",
    "\n",
    "- **exportHandle:** (long) A long from which resolved entity data may be\n",
    "- **g2EngineFlags:** (long) control flags (applicable flags listed here [exportJSONEntityReport flags](senzing-G2Engine-flags.ipynb#exportJSONEntityReport))"
   ]
  },
  {
   "cell_type": "code",
   "execution_count": 73,
   "metadata": {
    "scrolled": true
   },
   "outputs": [
    {
     "name": "stdout",
     "output_type": "stream",
     "text": [
      "0"
     ]
    }
   ],
   "source": [
    "StringBuffer response = new StringBuffer();\n",
    "Result<Long> exportHandle = new Result<Long>();\n",
    "\n",
    "long g2EngineFlags = g2engine.G2_EXPORT_DEFAULT_FLAGS;\n",
    "int return_code = g2engine.exportJSONEntityReport(g2EngineFlags, exportHandle);\n",
    "\n",
    "if(return_code!=0)\n",
    "    System.out.print(g2engine.getLastException());\n",
    "else\n",
    "    System.out.print(return_code);"
   ]
  },
  {
   "cell_type": "markdown",
   "metadata": {},
   "source": [
    "### fetchNext\n",
    "\n",
    "Second, use the `fetchNext()` method to read the exportHandle and export a\n",
    "row of JSON output containing the entity data for a single entity.\n",
    "Note that successive calls of `fetchNext()` will export successive rows of\n",
    "entity data.\n",
    "\n",
    "###### Parameters\n",
    "\n",
    "- **exportHandle:** (long) A long from which resolved entity data may be\n",
    "  read and exported.\n",
    "- **response:** (StringBuffer) Object to store the output of the method. Can be used to print or store for later"
   ]
  },
  {
   "cell_type": "code",
   "execution_count": 74,
   "metadata": {
    "scrolled": true
   },
   "outputs": [
    {
     "name": "stdout",
     "output_type": "stream",
     "text": [
      "{\"RESOLVED_ENTITY\":{\"ENTITY_ID\":1,\"ENTITY_NAME\":\"JANE SMITH\",\"FEATURES\":{\"ADDRESS\":[{\"FEAT_DESC\":\"653 STATE ROUTE 7 FRESNO CA 55073-1234\",\"LIB_FEAT_ID\":2,\"USAGE_TYPE\":\"HOME\",\"FEAT_DESC_VALUES\":[{\"FEAT_DESC\":\"653 STATE ROUTE 7 FRESNO CA 55073-1234\",\"LIB_FEAT_ID\":2}]}],\"NAME\":[{\"FEAT_DESC\":\"JANE SMITH\",\"LIB_FEAT_ID\":1,\"USAGE_TYPE\":\"PRIMARY\",\"FEAT_DESC_VALUES\":[{\"FEAT_DESC\":\"JANE SMITH\",\"LIB_FEAT_ID\":1}]}],\"SSN\":[{\"FEAT_DESC\":\"111-11-1111\",\"LIB_FEAT_ID\":3,\"FEAT_DESC_VALUES\":[{\"FEAT_DESC\":\"111-11-1111\",\"LIB_FEAT_ID\":3}]}]},\"RECORDS\":[{\"DATA_SOURCE\":\"TEST\",\"RECORD_ID\":\"06C29624478FF1C3285E294E5657796E3A67244A\",\"ENTITY_TYPE\":\"GENERIC\",\"INTERNAL_ID\":1,\"ENTITY_KEY\":\"F0932495C523ED54B7E0B8D326F82AA6F4F3FE0D\",\"ENTITY_DESC\":\"JANE SMITH\",\"MATCH_KEY\":\"\",\"MATCH_LEVEL\":0,\"MATCH_LEVEL_CODE\":\"\",\"ERRULE_CODE\":\"\",\"LAST_SEEN_DT\":\"2022-11-05 16:18:07.592\"}]},\"RELATED_ENTITIES\":[]}\n",
      "\n",
      "{\"RESOLVED_ENTITY\":{\"ENTITY_ID\":3,\"ENTITY_NAME\":\"Lily Owens\",\"FEATURES\":{\"NAME\":[{\"FEAT_DESC\":\"Lily Owens\",\"LIB_FEAT_ID\":15,\"USAGE_TYPE\":\"PRIMARY\",\"FEAT_DESC_VALUES\":[{\"FEAT_DESC\":\"Lily Owens\",\"LIB_FEAT_ID\":15}]}],\"SSN\":[{\"FEAT_DESC\":\"111-11-1111\",\"LIB_FEAT_ID\":3,\"FEAT_DESC_VALUES\":[{\"FEAT_DESC\":\"111-11-1111\",\"LIB_FEAT_ID\":3}]}]},\"RECORDS\":[{\"DATA_SOURCE\":\"TEST\",\"RECORD_ID\":\"4\",\"ENTITY_TYPE\":\"GENERIC\",\"INTERNAL_ID\":3,\"ENTITY_KEY\":\"C1F081BB9C9EDA71A73873FAF39774DF802A3B9F\",\"ENTITY_DESC\":\"Lily Owens\",\"MATCH_KEY\":\"\",\"MATCH_LEVEL\":0,\"MATCH_LEVEL_CODE\":\"\",\"ERRULE_CODE\":\"\",\"LAST_SEEN_DT\":\"2022-11-05 16:18:06.821\"}]},\"RELATED_ENTITIES\":[]}\n",
      "\n",
      "{\"RESOLVED_ENTITY\":{\"ENTITY_ID\":4,\"ENTITY_NAME\":\"August E Bauler\",\"FEATURES\":{\"NAME\":[{\"FEAT_DESC\":\"August E Bauler\",\"LIB_FEAT_ID\":18,\"USAGE_TYPE\":\"PRIMARY\",\"FEAT_DESC_VALUES\":[{\"FEAT_DESC\":\"August E Bauler\",\"LIB_FEAT_ID\":18}]}],\"SSN\":[{\"FEAT_DESC\":\"111-11-1111\",\"LIB_FEAT_ID\":3,\"FEAT_DESC_VALUES\":[{\"FEAT_DESC\":\"111-11-1111\",\"LIB_FEAT_ID\":3}]}]},\"RECORDS\":[{\"DATA_SOURCE\":\"TEST\",\"RECORD_ID\":\"5\",\"ENTITY_TYPE\":\"GENERIC\",\"INTERNAL_ID\":4,\"ENTITY_KEY\":\"C9CD56EAFDE58BFE828693F3AE3A0B6BE234599E\",\"ENTITY_DESC\":\"August E Bauler\",\"MATCH_KEY\":\"\",\"MATCH_LEVEL\":0,\"MATCH_LEVEL_CODE\":\"\",\"ERRULE_CODE\":\"\",\"LAST_SEEN_DT\":\"2022-11-05 16:18:08.584\"}]},\"RELATED_ENTITIES\":[]}\n",
      "\n",
      "{\"RESOLVED_ENTITY\":{\"ENTITY_ID\":5,\"ENTITY_NAME\":\"Brian H Barcy\",\"FEATURES\":{\"NAME\":[{\"FEAT_DESC\":\"Brian H Barcy\",\"LIB_FEAT_ID\":23,\"USAGE_TYPE\":\"PRIMARY\",\"FEAT_DESC_VALUES\":[{\"FEAT_DESC\":\"Brian H Barcy\",\"LIB_FEAT_ID\":23}]}],\"SSN\":[{\"FEAT_DESC\":\"111-11-1111\",\"LIB_FEAT_ID\":3,\"FEAT_DESC_VALUES\":[{\"FEAT_DESC\":\"111-11-1111\",\"LIB_FEAT_ID\":3}]}]},\"RECORDS\":[{\"DATA_SOURCE\":\"TEST\",\"RECORD_ID\":\"6\",\"ENTITY_TYPE\":\"GENERIC\",\"INTERNAL_ID\":5,\"ENTITY_KEY\":\"483377E67EF630768293483D48E2073804096612\",\"ENTITY_DESC\":\"Brian H Barcy\",\"MATCH_KEY\":\"\",\"MATCH_LEVEL\":0,\"MATCH_LEVEL_CODE\":\"\",\"ERRULE_CODE\":\"\",\"LAST_SEEN_DT\":\"2022-11-05 16:17:58.506\"}]},\"RELATED_ENTITIES\":[]}\n",
      "\n",
      "{\"RESOLVED_ENTITY\":{\"ENTITY_ID\":6,\"ENTITY_NAME\":\"Jack H Miller\",\"FEATURES\":{\"NAME\":[{\"FEAT_DESC\":\"Jack H Miller\",\"LIB_FEAT_ID\":28,\"USAGE_TYPE\":\"PRIMARY\",\"FEAT_DESC_VALUES\":[{\"FEAT_DESC\":\"Jack H Miller\",\"LIB_FEAT_ID\":28}]}],\"SSN\":[{\"FEAT_DESC\":\"111-11-1111\",\"LIB_FEAT_ID\":3,\"FEAT_DESC_VALUES\":[{\"FEAT_DESC\":\"111-11-1111\",\"LIB_FEAT_ID\":3}]}]},\"RECORDS\":[{\"DATA_SOURCE\":\"TEST\",\"RECORD_ID\":\"7\",\"ENTITY_TYPE\":\"GENERIC\",\"INTERNAL_ID\":6,\"ENTITY_KEY\":\"F5F3629B1E3A8AFCA29A54E4F6E636CBF3DEE4BC\",\"ENTITY_DESC\":\"Jack H Miller\",\"MATCH_KEY\":\"\",\"MATCH_LEVEL\":0,\"MATCH_LEVEL_CODE\":\"\",\"ERRULE_CODE\":\"\",\"LAST_SEEN_DT\":\"2022-11-05 16:18:00.063\"}]},\"RELATED_ENTITIES\":[]}\n",
      "\n",
      "{\"RESOLVED_ENTITY\":{\"ENTITY_ID\":7,\"ENTITY_NAME\":\"Madelyn Caryn\",\"FEATURES\":{\"NAME\":[{\"FEAT_DESC\":\"Madelyn Caryn\",\"LIB_FEAT_ID\":33,\"USAGE_TYPE\":\"PRIMARY\",\"FEAT_DESC_VALUES\":[{\"FEAT_DESC\":\"Madelyn Caryn\",\"LIB_FEAT_ID\":33}]}],\"SSN\":[{\"FEAT_DESC\":\"111-11-1111\",\"LIB_FEAT_ID\":3,\"FEAT_DESC_VALUES\":[{\"FEAT_DESC\":\"111-11-1111\",\"LIB_FEAT_ID\":3}]}]},\"RECORDS\":[{\"DATA_SOURCE\":\"TEST\",\"RECORD_ID\":\"1\",\"ENTITY_TYPE\":\"GENERIC\",\"INTERNAL_ID\":7,\"ENTITY_KEY\":\"ED809E0DCED3B9F3A411B5FABF62E2D866DBE02F\",\"ENTITY_DESC\":\"Madelyn Caryn\",\"MATCH_KEY\":\"\",\"MATCH_LEVEL\":0,\"MATCH_LEVEL_CODE\":\"\",\"ERRULE_CODE\":\"\",\"LAST_SEEN_DT\":\"2022-11-05 16:18:13.745\"},{\"DATA_SOURCE\":\"TEST\",\"RECORD_ID\":\"8\",\"ENTITY_TYPE\":\"GENERIC\",\"INTERNAL_ID\":7,\"ENTITY_KEY\":\"ED809E0DCED3B9F3A411B5FABF62E2D866DBE02F\",\"ENTITY_DESC\":\"Madelyn Caryn\",\"MATCH_KEY\":\"+EXACTLY_SAME\",\"MATCH_LEVEL\":0,\"MATCH_LEVEL_CODE\":\"\",\"ERRULE_CODE\":\"\",\"LAST_SEEN_DT\":\"2022-11-05 16:18:01.451\"}]},\"RELATED_ENTITIES\":[]}\n",
      "\n",
      "{\"RESOLVED_ENTITY\":{\"ENTITY_ID\":8,\"ENTITY_NAME\":\"Max W Miller\",\"FEATURES\":{\"NAME\":[{\"FEAT_DESC\":\"Max W Miller\",\"LIB_FEAT_ID\":36,\"USAGE_TYPE\":\"PRIMARY\",\"FEAT_DESC_VALUES\":[{\"FEAT_DESC\":\"Max W Miller\",\"LIB_FEAT_ID\":36}]}],\"SSN\":[{\"FEAT_DESC\":\"111-11-1111\",\"LIB_FEAT_ID\":3,\"FEAT_DESC_VALUES\":[{\"FEAT_DESC\":\"111-11-1111\",\"LIB_FEAT_ID\":3}]}]},\"RECORDS\":[{\"DATA_SOURCE\":\"TEST\",\"RECORD_ID\":\"2\",\"ENTITY_TYPE\":\"GENERIC\",\"INTERNAL_ID\":8,\"ENTITY_KEY\":\"814730F425BFCD47D56537D7408EBD4213DCB3E9\",\"ENTITY_DESC\":\"Max W Miller\",\"MATCH_KEY\":\"\",\"MATCH_LEVEL\":0,\"MATCH_LEVEL_CODE\":\"\",\"ERRULE_CODE\":\"\",\"LAST_SEEN_DT\":\"2022-11-05 16:18:21.309\"}]},\"RELATED_ENTITIES\":[]}\n",
      "\n",
      "{\"RESOLVED_ENTITY\":{\"ENTITY_ID\":9,\"ENTITY_NAME\":\"Mildred Miller\",\"FEATURES\":{\"NAME\":[{\"FEAT_DESC\":\"Mildred Miller\",\"LIB_FEAT_ID\":41,\"USAGE_TYPE\":\"PRIMARY\",\"FEAT_DESC_VALUES\":[{\"FEAT_DESC\":\"Mildred Miller\",\"LIB_FEAT_ID\":41}]}],\"SSN\":[{\"FEAT_DESC\":\"111-11-1111\",\"LIB_FEAT_ID\":3,\"FEAT_DESC_VALUES\":[{\"FEAT_DESC\":\"111-11-1111\",\"LIB_FEAT_ID\":3}]}]},\"RECORDS\":[{\"DATA_SOURCE\":\"TEST\",\"RECORD_ID\":\"3\",\"ENTITY_TYPE\":\"GENERIC\",\"INTERNAL_ID\":9,\"ENTITY_KEY\":\"B4C5F2D4B888C71C115DE44C8E6389FC57B6B2C5\",\"ENTITY_DESC\":\"Mildred Miller\",\"MATCH_KEY\":\"\",\"MATCH_LEVEL\":0,\"MATCH_LEVEL_CODE\":\"\",\"ERRULE_CODE\":\"\",\"LAST_SEEN_DT\":\"2022-11-05 16:18:22.340\"}]},\"RELATED_ENTITIES\":[]}\n",
      "\n",
      "{\"RESOLVED_ENTITY\":{\"ENTITY_ID\":10,\"ENTITY_NAME\":\"Joe Schmoe\",\"FEATURES\":{\"CITIZENSHIP\":[{\"FEAT_DESC\":\"British\",\"LIB_FEAT_ID\":53,\"FEAT_DESC_VALUES\":[{\"FEAT_DESC\":\"British\",\"LIB_FEAT_ID\":53}]}],\"NAME\":[{\"FEAT_DESC\":\"Joe Schmoe\",\"LIB_FEAT_ID\":46,\"USAGE_TYPE\":\"PRIMARY\",\"FEAT_DESC_VALUES\":[{\"FEAT_DESC\":\"Joe Schmoe\",\"LIB_FEAT_ID\":46}]}],\"NATIONALITY\":[{\"FEAT_DESC\":\"Australian\",\"LIB_FEAT_ID\":54,\"FEAT_DESC_VALUES\":[{\"FEAT_DESC\":\"Australian\",\"LIB_FEAT_ID\":54}]}],\"SSN\":[{\"FEAT_DESC\":\"111-22-3456\",\"LIB_FEAT_ID\":47,\"FEAT_DESC_VALUES\":[{\"FEAT_DESC\":\"111-22-3456\",\"LIB_FEAT_ID\":47}]}]},\"RECORDS\":[{\"DATA_SOURCE\":\"TEST\",\"RECORD_ID\":\"10\",\"ENTITY_TYPE\":\"GENERIC\",\"INTERNAL_ID\":10,\"ENTITY_KEY\":\"61F3A6DF572582CAE09083A702FFCA6BFA2F7617\",\"ENTITY_DESC\":\"Joe Schmoe\",\"MATCH_KEY\":\"\",\"MATCH_LEVEL\":0,\"MATCH_LEVEL_CODE\":\"\",\"ERRULE_CODE\":\"\",\"LAST_SEEN_DT\":\"2022-11-05 16:18:42.451\"},{\"DATA_SOURCE\":\"TEST\",\"RECORD_ID\":\"11\",\"ENTITY_TYPE\":\"GENERIC\",\"INTERNAL_ID\":11,\"ENTITY_KEY\":\"E9994E6D3185F7AAEB628ECA2E13B668196A81DE\",\"ENTITY_DESC\":\"Joe Schmoe\",\"MATCH_KEY\":\"+NAME+SSN\",\"MATCH_LEVEL\":1,\"MATCH_LEVEL_CODE\":\"RESOLVED\",\"ERRULE_CODE\":\"SF1_PNAME_CSTAB\",\"LAST_SEEN_DT\":\"2022-11-05 16:18:42.511\"},{\"DATA_SOURCE\":\"TEST\",\"RECORD_ID\":\"12\",\"ENTITY_TYPE\":\"GENERIC\",\"INTERNAL_ID\":12,\"ENTITY_KEY\":\"7A29140FCD5CE1ADDB87B8A8B03148A65889C47A\",\"ENTITY_DESC\":\"Joe Schmoe\",\"MATCH_KEY\":\"+NAME+SSN\",\"MATCH_LEVEL\":1,\"MATCH_LEVEL_CODE\":\"RESOLVED\",\"ERRULE_CODE\":\"SF1_PNAME_CSTAB\",\"LAST_SEEN_DT\":\"2022-11-05 16:18:42.566\"}]},\"RELATED_ENTITIES\":[]}\n",
      "\n"
     ]
    }
   ],
   "source": [
    "while(true){\n",
    "    StringBuffer response = new StringBuffer();\n",
    "    int return_code = g2engine.fetchNext(exportHandle.getValue(), response);\n",
    "    if(return_code != 0){\n",
    "        System.out.print(g2engine.getLastException());\n",
    "        break;\n",
    "    }\n",
    "    if(response.length() == 0){\n",
    "        break;\n",
    "    }\n",
    "    System.out.println(response.toString());\n",
    "}"
   ]
  },
  {
   "cell_type": "markdown",
   "metadata": {},
   "source": [
    "### closeExport\n",
    "\n",
    "###### Parameters\n",
    "\n",
    "- **exportHandle:** (long) A long from which resolved entity data may be\n",
    "  read and exported."
   ]
  },
  {
   "cell_type": "code",
   "execution_count": 75,
   "metadata": {},
   "outputs": [
    {
     "name": "stdout",
     "output_type": "stream",
     "text": [
      "0"
     ]
    }
   ],
   "source": [
    "int return_code = g2engine.closeExport(exportHandle.getValue());\n",
    "\n",
    "if(return_code!=0)\n",
    "    System.out.print(g2engine.getLastException());\n",
    "else\n",
    "    System.out.print(return_code);"
   ]
  },
  {
   "cell_type": "markdown",
   "metadata": {},
   "source": [
    "### exportCSVEntityReport\n",
    "\n",
    "There are three steps to exporting resolved entity data from the G2Engine\n",
    "object in CSV format.\n",
    "First, use the `exportCSVEntityReport()` method to generate a long integer,\n",
    "referred to here as an 'exportHandle'.\n",
    "\n",
    "###### Parameters\n",
    "\n",
    "- **headers:** (str) A comma-separated list of column names for the CSV\n",
    "  export. (These are listed a little further down.)\n",
    "- **g2EngineFlags:** (long) control flags (applicable flags listed here [exportCSVEntityReport flags](senzing-G2Engine-flags.ipynb#exportCSVEntityReport))\n",
    "- **exportHandle:** (long) A long from which resolved entity data may be\n",
    "  read and exported.\n",
    "  \n",
    "Second, use the `fetchNext()` method to read the exportHandle and export a\n",
    "row of CSV output containing the entity data for a single entity.\n",
    "Note that the first call of `fetchNext()` will yield a header row,\n",
    "and that successive calls of `fetchNext()` will export successive rows of\n",
    "entity data."
   ]
  },
  {
   "cell_type": "code",
   "execution_count": 76,
   "metadata": {
    "scrolled": true
   },
   "outputs": [
    {
     "name": "stdout",
     "output_type": "stream",
     "text": [
      "RESOLVED_ENTITY_ID,RESOLVED_ENTITY_NAME,RELATED_ENTITY_ID,MATCH_LEVEL,MATCH_KEY,IS_DISCLOSED,IS_AMBIGUOUS,DATA_SOURCE,RECORD_ID,JSON_DATA,LAST_SEEN_DT,NAME_DATA,ATTRIBUTE_DATA,IDENTIFIER_DATA,ADDRESS_DATA,PHONE_DATA,RELATIONSHIP_DATA,ENTITY_DATA,OTHER_DATA\n",
      "\n",
      "1,\"JANE SMITH\",0,0,\"\",0,0,\"TEST\",\"06C29624478FF1C3285E294E5657796E3A67244A\",\"{\"\"NAME_TYPE\"\":\"\"PRIMARY\"\",\"\"NAME_FIRST\"\":\"\"JANE\"\",\"\"NAME_LAST\"\":\"\"SMITH\"\",\"\"ADDR_TYPE\"\":\"\"HOME\"\",\"\"ADDR_LINE1\"\":\"\"653 STATE ROUTE 7\"\",\"\"ADDR_CITY\"\":\"\"FRESNO\"\",\"\"ADDR_STATE\"\":\"\"CA\"\",\"\"ADDR_POSTAL_CODE\"\":\"\"55073-1234\"\",\"\"SSN_NUMBER\"\":\"\"111-11-1111\"\",\"\"DATA_SOURCE\"\":\"\"TEST\"\",\"\"ENTITY_TYPE\"\":\"\"GENERIC\"\",\"\"DSRC_ACTION\"\":\"\"A\"\",\"\"RECORD_ID\"\":\"\"\"\"}\",\"2022-11-05 16:18:07.592\",\"PRIMARY: SMITH JANE\",\"\",\"SSN: 111-11-1111\",\"HOME: 653 STATE ROUTE 7 FRESNO CA 55073-1234\",\"\",\"\",\"\",\"\"\n",
      "\n",
      "3,\"Lily Owens\",0,0,\"\",0,0,\"TEST\",\"4\",\"{\"\"NAME_TYPE\"\":\"\"PRIMARY\"\",\"\"NAME_FIRST\"\":\"\"Lily\"\",\"\"NAME_LAST\"\":\"\"Owens\"\",\"\"SSN_NUMBER\"\":\"\"111-11-1111\"\",\"\"DATA_SOURCE\"\":\"\"TEST\"\",\"\"ENTITY_TYPE\"\":\"\"GENERIC\"\",\"\"DSRC_ACTION\"\":\"\"A\"\",\"\"RECORD_ID\"\":\"\"4\"\"}\",\"2022-11-05 16:18:06.821\",\"PRIMARY: Owens Lily\",\"\",\"SSN: 111-11-1111\",\"\",\"\",\"\",\"\",\"\"\n",
      "\n",
      "4,\"August E Bauler\",0,0,\"\",0,0,\"TEST\",\"5\",\"{\"\"NAME_TYPE\"\":\"\"PRIMARY\"\",\"\"NAME_FIRST\"\":\"\"August\"\",\"\"NAME_LAST\"\":\"\"Bauler\"\",\"\"NAME_MIDDLE\"\":\"\"E\"\",\"\"SSN_NUMBER\"\":\"\"111-11-1111\"\",\"\"DATA_SOURCE\"\":\"\"TEST\"\",\"\"ENTITY_TYPE\"\":\"\"GENERIC\"\",\"\"DSRC_ACTION\"\":\"\"A\"\",\"\"RECORD_ID\"\":\"\"5\"\"}\",\"2022-11-05 16:18:08.584\",\"PRIMARY: Bauler August E\",\"\",\"SSN: 111-11-1111\",\"\",\"\",\"\",\"\",\"\"\n",
      "\n",
      "5,\"Brian H Barcy\",0,0,\"\",0,0,\"TEST\",\"6\",\"{\"\"NAME_TYPE\"\":\"\"PRIMARY\"\",\"\"NAME_FIRST\"\":\"\"Brian\"\",\"\"NAME_LAST\"\":\"\"Barcy\"\",\"\"NAME_MIDDLE\"\":\"\"H\"\",\"\"SSN_NUMBER\"\":\"\"111-11-1111\"\",\"\"DATA_SOURCE\"\":\"\"TEST\"\",\"\"ENTITY_TYPE\"\":\"\"GENERIC\"\",\"\"DSRC_ACTION\"\":\"\"A\"\",\"\"RECORD_ID\"\":\"\"6\"\"}\",\"2022-11-05 16:17:58.506\",\"PRIMARY: Barcy Brian H\",\"\",\"SSN: 111-11-1111\",\"\",\"\",\"\",\"\",\"\"\n",
      "\n",
      "6,\"Jack H Miller\",0,0,\"\",0,0,\"TEST\",\"7\",\"{\"\"NAME_TYPE\"\":\"\"PRIMARY\"\",\"\"NAME_FIRST\"\":\"\"Jack\"\",\"\"NAME_LAST\"\":\"\"Miller\"\",\"\"NAME_MIDDLE\"\":\"\"H\"\",\"\"SSN_NUMBER\"\":\"\"111-11-1111\"\",\"\"DATA_SOURCE\"\":\"\"TEST\"\",\"\"ENTITY_TYPE\"\":\"\"GENERIC\"\",\"\"DSRC_ACTION\"\":\"\"A\"\",\"\"RECORD_ID\"\":\"\"7\"\"}\",\"2022-11-05 16:18:00.063\",\"PRIMARY: Miller Jack H\",\"\",\"SSN: 111-11-1111\",\"\",\"\",\"\",\"\",\"\"\n",
      "\n",
      "7,\"Madelyn Caryn\",0,0,\"\",0,0,\"TEST\",\"1\",\"{\"\"NAME_TYPE\"\":\"\"PRIMARY\"\",\"\"NAME_FIRST\"\":\"\"Madelyn\"\",\"\"NAME_LAST\"\":\"\"Caryn\"\",\"\"SSN_NUMBER\"\":\"\"111-11-1111\"\",\"\"DATA_SOURCE\"\":\"\"TEST\"\",\"\"ENTITY_TYPE\"\":\"\"GENERIC\"\",\"\"DSRC_ACTION\"\":\"\"A\"\",\"\"RECORD_ID\"\":\"\"1\"\"}\",\"2022-11-05 16:18:13.745\",\"PRIMARY: Caryn Madelyn\",\"\",\"SSN: 111-11-1111\",\"\",\"\",\"\",\"\",\"\"\n",
      "\n",
      "7,\"Madelyn Caryn\",0,0,\"+EXACTLY_SAME\",0,0,\"TEST\",\"8\",\"{\"\"NAME_TYPE\"\":\"\"PRIMARY\"\",\"\"NAME_FIRST\"\":\"\"Madelyn\"\",\"\"NAME_LAST\"\":\"\"Caryn\"\",\"\"SSN_NUMBER\"\":\"\"111-11-1111\"\",\"\"DATA_SOURCE\"\":\"\"TEST\"\",\"\"ENTITY_TYPE\"\":\"\"GENERIC\"\",\"\"DSRC_ACTION\"\":\"\"A\"\",\"\"RECORD_ID\"\":\"\"8\"\"}\",\"2022-11-05 16:18:01.451\",\"PRIMARY: Caryn Madelyn\",\"\",\"SSN: 111-11-1111\",\"\",\"\",\"\",\"\",\"\"\n",
      "\n",
      "8,\"Max W Miller\",0,0,\"\",0,0,\"TEST\",\"2\",\"{\"\"NAME_TYPE\"\":\"\"PRIMARY\"\",\"\"NAME_FIRST\"\":\"\"Max\"\",\"\"NAME_LAST\"\":\"\"Miller\"\",\"\"NAME_MIDDLE\"\":\"\"W\"\",\"\"SSN_NUMBER\"\":\"\"111-11-1111\"\",\"\"DATA_SOURCE\"\":\"\"TEST\"\",\"\"ENTITY_TYPE\"\":\"\"GENERIC\"\",\"\"DSRC_ACTION\"\":\"\"A\"\",\"\"RECORD_ID\"\":\"\"2\"\"}\",\"2022-11-05 16:18:21.309\",\"PRIMARY: Miller Max W\",\"\",\"SSN: 111-11-1111\",\"\",\"\",\"\",\"\",\"\"\n",
      "\n",
      "9,\"Mildred Miller\",0,0,\"\",0,0,\"TEST\",\"3\",\"{\"\"NAME_TYPE\"\":\"\"PRIMARY\"\",\"\"NAME_FIRST\"\":\"\"Mildred\"\",\"\"NAME_LAST\"\":\"\"Miller\"\",\"\"SSN_NUMBER\"\":\"\"111-11-1111\"\",\"\"DATA_SOURCE\"\":\"\"TEST\"\",\"\"ENTITY_TYPE\"\":\"\"GENERIC\"\",\"\"DSRC_ACTION\"\":\"\"A\"\",\"\"RECORD_ID\"\":\"\"3\"\"}\",\"2022-11-05 16:18:22.340\",\"PRIMARY: Miller Mildred\",\"\",\"SSN: 111-11-1111\",\"\",\"\",\"\",\"\",\"\"\n",
      "\n",
      "10,\"Joe Schmoe\",0,0,\"\",0,0,\"TEST\",\"10\",\"{\"\"NAME_TYPE\"\":\"\"PRIMARY\"\",\"\"NAME_FIRST\"\":\"\"Joe\"\",\"\"NAME_LAST\"\":\"\"Schmoe\"\",\"\"SSN_NUMBER\"\":\"\"111-22-3456\"\",\"\"DOB\"\":\"\"03-22-1982\"\",\"\"DATA_SOURCE\"\":\"\"TEST\"\",\"\"ENTITY_TYPE\"\":\"\"GENERIC\"\",\"\"DSRC_ACTION\"\":\"\"A\"\",\"\"RECORD_ID\"\":\"\"10\"\"}\",\"2022-11-05 16:18:42.451\",\"PRIMARY: Schmoe Joe\",\"\",\"SSN: 111-22-3456\",\"\",\"\",\"\",\"\",\"DOB: 03-22-1982\"\n",
      "\n",
      "10,\"Joe Schmoe\",0,1,\"+NAME+SSN\",0,0,\"TEST\",\"11\",\"{\"\"NAME_TYPE\"\":\"\"PRIMARY\"\",\"\"NAME_FIRST\"\":\"\"Joe\"\",\"\"NAME_LAST\"\":\"\"Schmoe\"\",\"\"SSN_NUMBER\"\":\"\"111-22-3456\"\",\"\"CITIZENSHIP\"\":\"\"British\"\",\"\"DATA_SOURCE\"\":\"\"TEST\"\",\"\"ENTITY_TYPE\"\":\"\"GENERIC\"\",\"\"DSRC_ACTION\"\":\"\"A\"\",\"\"RECORD_ID\"\":\"\"11\"\"}\",\"2022-11-05 16:18:42.511\",\"PRIMARY: Schmoe Joe\",\"CITIZENSHIP: British\",\"SSN: 111-22-3456\",\"\",\"\",\"\",\"\",\"\"\n",
      "\n",
      "10,\"Joe Schmoe\",0,1,\"+NAME+SSN\",0,0,\"TEST\",\"12\",\"{\"\"NAME_TYPE\"\":\"\"PRIMARY\"\",\"\"NAME_FIRST\"\":\"\"Joe\"\",\"\"NAME_LAST\"\":\"\"Schmoe\"\",\"\"SSN_NUMBER\"\":\"\"111-22-3456\"\",\"\"NATIONALITY\"\":\"\"Australian\"\",\"\"DATA_SOURCE\"\":\"\"TEST\"\",\"\"ENTITY_TYPE\"\":\"\"GENERIC\"\",\"\"DSRC_ACTION\"\":\"\"A\"\",\"\"RECORD_ID\"\":\"\"12\"\"}\",\"2022-11-05 16:18:42.566\",\"PRIMARY: Schmoe Joe\",\"NATIONALITY: Australian\",\"SSN: 111-22-3456\",\"\",\"\",\"\",\"\",\"\"\n",
      "\n"
     ]
    },
    {
     "data": {
      "text/plain": [
       "0"
      ]
     },
     "execution_count": 76,
     "metadata": {},
     "output_type": "execute_result"
    }
   ],
   "source": [
    "String headers = \"RESOLVED_ENTITY_ID,RESOLVED_ENTITY_NAME,RELATED_ENTITY_ID,MATCH_LEVEL,MATCH_KEY,IS_DISCLOSED,IS_AMBIGUOUS,DATA_SOURCE,RECORD_ID,JSON_DATA,LAST_SEEN_DT,NAME_DATA,ATTRIBUTE_DATA,IDENTIFIER_DATA,ADDRESS_DATA,PHONE_DATA,RELATIONSHIP_DATA,ENTITY_DATA,OTHER_DATA\";\n",
    "Result<Long> exportHandle = new Result<Long>();\n",
    "StringBuffer response = new StringBuffer();\n",
    "\n",
    "g2engine.exportCSVEntityReport(headers, g2EngineFlags, exportHandle);\n",
    "\n",
    "while(true){\n",
    "    StringBuffer response = new StringBuffer();\n",
    "    int return_code = g2engine.fetchNext(exportHandle.getValue(), response);\n",
    "    if(return_code != 0){\n",
    "        System.out.print(g2engine.getLastException());\n",
    "        break;\n",
    "    }\n",
    "    if(response.length() == 0){\n",
    "        break;\n",
    "    }\n",
    "    System.out.println(response.toString());\n",
    "}\n",
    "g2engine.closeExport(exportHandle.getValue());"
   ]
  },
  {
   "cell_type": "markdown",
   "metadata": {},
   "source": [
    "## Cleanup"
   ]
  },
  {
   "cell_type": "markdown",
   "metadata": {},
   "source": [
    "### purgeRepository\n",
    "\n",
    "**Before** calling `purgeRepository()` all other instances of the Senzing API (whether in custom code, REST API, stream-loader, redoer, G2Loader, etc) **MUST** be destroyed or shutdown."
   ]
  },
  {
   "cell_type": "code",
   "execution_count": 77,
   "metadata": {},
   "outputs": [
    {
     "name": "stdout",
     "output_type": "stream",
     "text": [
      "0"
     ]
    }
   ],
   "source": [
    "int return_code= g2engine.purgeRepository();\n",
    "if(return_code!=0)\n",
    "    System.out.print(g2engine.getLastException());\n",
    "else\n",
    "    System.out.print(return_code)"
   ]
  },
  {
   "cell_type": "markdown",
   "metadata": {},
   "source": [
    "### destroy\n",
    "Once all searching is done in a process call `destroy()` to uninitialize Senzing and clean up resources. You should always do this once at the end of each process."
   ]
  },
  {
   "cell_type": "code",
   "execution_count": 78,
   "metadata": {
    "scrolled": true
   },
   "outputs": [
    {
     "name": "stdout",
     "output_type": "stream",
     "text": [
      "0"
     ]
    }
   ],
   "source": [
    "int return_code = g2engine.destroy();\n",
    "\n",
    "if(return_code!=0)\n",
    "    System.out.print(g2engine.getLastException());\n",
    "else\n",
    "    System.out.print(return_code);"
   ]
  }
 ],
 "metadata": {
  "finalized": {
   "timestamp": 1577474557387,
   "trusted": true
  },
  "kernelspec": {
   "display_name": "Java",
   "language": "java",
   "name": "java"
  },
  "language_info": {
   "codemirror_mode": "java",
   "file_extension": ".jshell",
   "mimetype": "text/x-java-source",
   "name": "Java",
   "pygments_lexer": "java",
   "version": "11.0.15+10-Ubuntu-0ubuntu0.20.04.1"
  },
  "toc": {
   "base_numbering": 1,
   "nav_menu": {},
   "number_sections": true,
   "sideBar": true,
   "skip_h1_title": true,
   "title_cell": "Table of Contents",
   "title_sidebar": "Contents",
   "toc_cell": false,
   "toc_position": {
    "height": "calc(100% - 180px)",
    "left": "10px",
    "top": "150px",
    "width": "248.8px"
   },
   "toc_section_display": true,
   "toc_window_display": true
  }
 },
 "nbformat": 4,
 "nbformat_minor": 4
}
