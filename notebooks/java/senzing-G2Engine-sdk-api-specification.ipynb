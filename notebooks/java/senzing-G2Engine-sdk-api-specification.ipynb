{
 "cells": [
  {
   "cell_type": "markdown",
   "metadata": {},
   "source": [
    "# G2Engine Reference"
   ]
  },
  {
   "cell_type": "markdown",
   "metadata": {},
   "source": [
    "## Prepare Environment"
   ]
  },
  {
   "cell_type": "code",
   "execution_count": null,
   "metadata": {},
   "outputs": [],
   "source": [
    "import com.senzing.g2.engine.G2Engine;\n",
    "import com.senzing.g2.engine.G2JNI;\n",
    "import com.senzing.g2.engine.G2ConfigMgr;\n",
    "import com.senzing.g2.engine.G2ConfigMgrJNI;\n",
    "import com.senzing.g2.engine.Result;"
   ]
  },
  {
   "cell_type": "markdown",
   "metadata": {},
   "source": [
    "### Helper class for Json Rendering"
   ]
  },
  {
   "cell_type": "code",
   "execution_count": null,
   "metadata": {},
   "outputs": [],
   "source": [
    "%%loadFromPOM\n",
    "<dependency>\n",
    "    <groupId>org.glassfish</groupId>\n",
    "    <artifactId>javax.json</artifactId>\n",
    "    <version>1.1.4</version>\n",
    "</dependency>"
   ]
  },
  {
   "cell_type": "code",
   "execution_count": null,
   "metadata": {},
   "outputs": [],
   "source": [
    "import javax.json.*;\n",
    "import static java.util.Collections.*;\n",
    "import static javax.json.stream.JsonGenerator.PRETTY_PRINTING;"
   ]
  },
  {
   "cell_type": "code",
   "execution_count": null,
   "metadata": {},
   "outputs": [],
   "source": [
    "public class JsonUtil {\n",
    "    private static final JsonWriterFactory PRETTY_FACTORY\n",
    "        = Json.createWriterFactory(singletonMap(PRETTY_PRINTING, true));\n",
    "        \n",
    "    private static final JsonWriterFactory UGLY_FACTORY\n",
    "        = Json.createWriterFactory(emptyMap());\n",
    "    \n",
    "    public static String toJsonText(JsonValue val) {\n",
    "        return toJsonText(val, true);\n",
    "    }\n",
    "\n",
    "    public static String toJsonText(JsonValue val, boolean prettyPrint) {\n",
    "        JsonWriterFactory factory = (prettyPrint) ? PRETTY_FACTORY : UGLY_FACTORY;\n",
    "        StringWriter sw = new StringWriter();\n",
    "        JsonWriter writer = factory.createWriter(sw);\n",
    "        writer.write(val);\n",
    "        sw.flush();\n",
    "        return sw.toString();\n",
    "    }\n",
    "    \n",
    "    public static JsonObject parseJsonObject(String jsonText) {\n",
    "        if (jsonText == null) return null;\n",
    "        StringReader sr = new StringReader(jsonText);\n",
    "        JsonReader jsonReader = Json.createReader(sr);\n",
    "        return jsonReader.readObject();\n",
    "  }\n",
    "\n",
    "    public static JsonArray parseJsonArray(String jsonText) {\n",
    "        if (jsonText == null) return null;\n",
    "        StringReader sr = new StringReader(jsonText);\n",
    "        JsonReader jsonReader = Json.createReader(sr);\n",
    "        return jsonReader.readArray();\n",
    "  }\n",
    "    \n",
    "    \n",
    "}"
   ]
  },
  {
   "cell_type": "code",
   "execution_count": null,
   "metadata": {},
   "outputs": [],
   "source": [
    "import java.util.UUID;\n",
    "public static void RenderJSON(Object obj){\n",
    "    String str = obj.toString();\n",
    "    JsonObject json = JsonUtil.parseJsonObject(str);\n",
    "    String Config = JsonUtil.toJsonText(json, false);\n",
    "    UUID id = UUID.randomUUID();\n",
    "    String uuid = id.toString();\n",
    "    String div = \"<div id=\\\"\"+ uuid +\"\\\" style=\\\"height:100%; width:100%; background-color: LightCyan\\\"></div>\";\n",
    "    display(div, \"text/html\");\n",
    "    String jav = \"require([\\\"https://rawgit.com/caldwell/renderjson/master/renderjson.js\\\"], function() {document.getElementById(\\'\"+ uuid +\"\\').appendChild(renderjson(\"+json+\"))});\";\n",
    "    display(jav, \"application/javascript\");\n",
    "}"
   ]
  },
  {
   "cell_type": "markdown",
   "metadata": {},
   "source": [
    "### Initialize Senzing configuration\n",
    "\n",
    "Using environment variables and default values, create `senzingConfigJson`.\n",
    "This value is used when instantiating Senzing objects."
   ]
  },
  {
   "cell_type": "code",
   "execution_count": null,
   "metadata": {
    "scrolled": true
   },
   "outputs": [],
   "source": [
    "// Get variables used in constructing Senzing Engine configuration.\n",
    "\n",
    "String configPath = System.getenv(\"SENZING_ETC_DIR\");\n",
    "if (configPath == null) {\n",
    "    configPath = \"/etc/opt/senzing\";\n",
    "}\n",
    "\n",
    "String supportPath = System.getenv(\"SENZING_DATA_VERSION_DIR\");\n",
    "if (supportPath == null) {\n",
    "    supportPath = \"/opt/senzing/data\";\n",
    "}\n",
    "\n",
    "String g2Path = System.getenv(\"SENZING_G2_DIR\");\n",
    "if (g2Path == null) {\n",
    "    g2Path = \"/opt/senzing/g2\";\n",
    "}\n",
    "\n",
    "String resourcePath = g2Path + \"/resources\";\n",
    "\n",
    "String sqlConnection = System.getenv(\"SENZING_SQL_CONNECTION\");\n",
    "if (sqlConnection == null) {\n",
    "    sqlConnection = \"sqlite3://na:na@/var/opt/senzing/sqlite/G2C.db\";\n",
    "}\n",
    "\n",
    "// Construct the JSON string used for Senzing Engine configuration.\n",
    "\n",
    "String senzingConfigJson = \"{\"\n",
    "   + \"\\\"PIPELINE\\\": {\"\n",
    "   +     \"\\\"CONFIGPATH\\\": \\\"\" + configPath + \"\\\",\"\n",
    "   +     \"\\\"SUPPORTPATH\\\": \\\"\" + supportPath + \"\\\",\"\n",
    "   +     \"\\\"RESOURCEPATH\\\": \\\"\" + resourcePath + \"\\\"\"\n",
    "   + \"},\"\n",
    "   + \"\\\"SQL\\\": {\"\n",
    "   +     \"\\\"CONNECTION\\\": \\\"\" + sqlConnection + \"\\\"\"\n",
    "   + \"}}\";\n",
    "\n",
    "RenderJSON(senzingConfigJson);"
   ]
  },
  {
   "cell_type": "markdown",
   "metadata": {},
   "source": [
    "## G2Engine"
   ]
  },
  {
   "cell_type": "markdown",
   "metadata": {},
   "source": [
    "### G2Engine initialization\n",
    "\n",
    "To start using Senzing G2Engine, create and initialize an instance.\n",
    "This should be done once per process.\n",
    "###### Parameters\n",
    "\n",
    "- **moduleName:** (str) A short name given to this instance of the G2Engine\n",
    "  object.\n",
    "- **senzingConfigJson:** (str) A JSON string containing configuration parameters.\n",
    "- **verboseLogging:** (bool) A boolean which enables diagnostic logging.\n",
    "\n",
    "Calling this function will return \"0\" upon success."
   ]
  },
  {
   "cell_type": "code",
   "execution_count": null,
   "metadata": {},
   "outputs": [],
   "source": [
    "G2Engine g2engine = new G2JNI();\n",
    "\n",
    "String moduleName = \"ExampleG2Engine\";\n",
    "boolean verboseLogging = true;\n",
    "int return_code = g2engine.init(moduleName, senzingConfigJson, verboseLogging);\n",
    "System.out.print(return_code);"
   ]
  },
  {
   "cell_type": "markdown",
   "metadata": {},
   "source": [
    "#### destroy()\n",
    "destroy the engine so that we can initalize differently"
   ]
  },
  {
   "cell_type": "code",
   "execution_count": null,
   "metadata": {},
   "outputs": [],
   "source": [
    "g2engine.destroy();"
   ]
  },
  {
   "cell_type": "markdown",
   "metadata": {},
   "source": [
    "### initWithConfigID\n",
    "\n",
    "Alternatively `initWithConfigID()` can be used to specify a configuration.\n",
    "\n",
    "###### Parameters\n",
    "\n",
    "- **moduleName:** (str) A short name given to this instance of the G2Engine\n",
    "  object.\n",
    "- **senzingConfigJson:** (str) A JSON string containing configuration parameters.\n",
    "- **verboseLogging:** (bool) A boolean which enables diagnostic logging."
   ]
  },
  {
   "cell_type": "markdown",
   "metadata": {},
   "source": [
    "Create G2Config so that we can use a configID"
   ]
  },
  {
   "cell_type": "code",
   "execution_count": null,
   "metadata": {},
   "outputs": [],
   "source": [
    "String moduleName = \"ExampleG2Config\";\n",
    "boolean verboseLogging = true;\n",
    "\n",
    "G2ConfigMgr g2configMgr = new G2ConfigMgrJNI();\n",
    "int return_code = g2configMgr.init(moduleName, senzingConfigJson, verboseLogging);\n",
    "Result<Long> config = new Result<Long>();\n",
    "g2configMgr.getDefaultConfigID(config);\n",
    "if(return_code!=0)\n",
    "    System.out.print(g2configMgr.getLastException());\n",
    "else\n",
    "    System.out.print(return_code);"
   ]
  },
  {
   "cell_type": "code",
   "execution_count": null,
   "metadata": {},
   "outputs": [],
   "source": [
    "String moduleName = \"ExampleG2Engine\";\n",
    "boolean verboseLogging = true;\n",
    "int return_code = g2engine.initWithConfigID(moduleName, senzingConfigJson, config.getValue(), verboseLogging);\n",
    "\n",
    "System.out.print(return_code);"
   ]
  },
  {
   "cell_type": "markdown",
   "metadata": {},
   "source": [
    "### reinit\n",
    "\n",
    "The `reinit()` function may be used to reinitialize the engine with a configuration"
   ]
  },
  {
   "cell_type": "code",
   "execution_count": null,
   "metadata": {},
   "outputs": [],
   "source": [
    "String moduleName = \"ExampleG2Engine\";\n",
    "boolean verboseLogging = true;\n",
    "int return_code = g2engine.reinit(config.getValue());\n",
    "\n",
    "System.out.print(return_code);"
   ]
  },
  {
   "cell_type": "markdown",
   "metadata": {},
   "source": [
    "### primeEngine\n",
    "\n",
    "The `primeEngine()` method may optionally be called to pre-initialize\n",
    "some of the heavier weight internal resources of the G2 engine."
   ]
  },
  {
   "cell_type": "code",
   "execution_count": null,
   "metadata": {},
   "outputs": [],
   "source": [
    "int return_code= g2engine.primeEngine();\n",
    "if(return_code!=0)\n",
    "    System.out.print(g2engine.getLastException());\n",
    "System.out.print(return_code)"
   ]
  },
  {
   "cell_type": "markdown",
   "metadata": {},
   "source": [
    "### getActiveConfigID\n",
    "\n",
    "Call `getActiveConfigID()` to return an identifier for the loaded\n",
    "Senzing engine configuration.\n",
    "The call will assign a long integer to a user-designated variable\n",
    "\n",
    "###### Parameters\n",
    "\n",
    "- **configID:** (long) The identifier value for the engine configuration. The result of function call is returned here"
   ]
  },
  {
   "cell_type": "code",
   "execution_count": null,
   "metadata": {},
   "outputs": [],
   "source": [
    "Result<Long> configID = new Result<Long>();\n",
    "g2engine.getActiveConfigID(configID);\n",
    "\n",
    "System.out.print(configID.getValue());"
   ]
  },
  {
   "cell_type": "markdown",
   "metadata": {},
   "source": [
    "### exportConfig\n",
    "\n",
    "Call `exportConfig()` to retrieve your Senzing engine's configuration.\n",
    "The call will assign a JSON document to a user-designated buffer,\n",
    "containing all relevant configuration information\n",
    "-- the function itself will return \"0\" upon success.\n",
    "The exportConfig function accepts the following parameters as input:\n",
    "\n",
    "###### Parameters\n",
    "\n",
    "- **response:** (StringBuffer) Object to store the output of the method. Can be used to print or store for later.\n",
    "- **configID:** (long) The identifier value for the engine configuration. The result of function call is returned here"
   ]
  },
  {
   "cell_type": "code",
   "execution_count": null,
   "metadata": {},
   "outputs": [],
   "source": [
    "StringBuffer response = new StringBuffer();\n",
    "\n",
    "g2engine.exportConfig(response, configID);\n",
    "RenderJSON(response)"
   ]
  },
  {
   "cell_type": "markdown",
   "metadata": {},
   "source": [
    "### stats\n",
    "\n",
    "Call `stats()` to retrieve workload statistics for the current process.\n",
    "These statistics will automatically reset after retrieval.\n",
    "\n",
    "- **respone:** (String) Object to store the output of the method. can be used to print or store for later"
   ]
  },
  {
   "cell_type": "code",
   "execution_count": null,
   "metadata": {
    "scrolled": true
   },
   "outputs": [],
   "source": [
    "String response = g2engine.stats();\n",
    "RenderJSON(response);"
   ]
  },
  {
   "cell_type": "markdown",
   "metadata": {},
   "source": [
    "### getRepositoryLastModifiedTime\n",
    "\n",
    "Call `getRepositoryLastModifiedTime()` to obtain the last modified time of\n",
    "the Senzing repository,measured in the number of seconds between the last\n",
    "modified time and January 1, 1970 12:00am GMT (epoch time).\n",
    "The call will assign a long integer to a user-designated buffer\n",
    "\n",
    "###### Parameters\n",
    "\n",
    "- **lastModifiedTime:** (long) The last modified time. The result of function\n",
    "  call is returned here\n"
   ]
  },
  {
   "cell_type": "code",
   "execution_count": null,
   "metadata": {},
   "outputs": [],
   "source": [
    "Result<Long> lastModifiedTime = new Result<Long>();\n",
    "\n",
    "g2engine.getRepositoryLastModifiedTime(lastModifiedTime);\n",
    "\n",
    "System.out.print(lastModifiedTime.getValue());"
   ]
  },
  {
   "cell_type": "markdown",
   "metadata": {},
   "source": [
    "## Insert"
   ]
  },
  {
   "cell_type": "markdown",
   "metadata": {},
   "source": [
    "### Insert parameters\n",
    "\n",
    "The following variables are used as parameters to the Senzing API."
   ]
  },
  {
   "cell_type": "code",
   "execution_count": null,
   "metadata": {},
   "outputs": [],
   "source": [
    "String dataSourceCode1 = \"TEST\";\n",
    "String recordID1 = \"1\";\n",
    "String dataSourceCode2 = \"TEST\";\n",
    "String recordID2 = \"2\";\n",
    "String dataSourceCode3 = \"TEST\";\n",
    "String recordID3 = \"3\";\n",
    "String dataSourceCode4 = \"TEST\";\n",
    "String recordID4 = \"4\";\n",
    "String dataSourceCode5 = \"TEST\";\n",
    "String recordID5 = \"5\";\n",
    "String dataSourceCode6 = \"TEST\";\n",
    "String recordID6 = \"6\";\n",
    "String dataSourceCode7 = \"TEST\";\n",
    "String recordID7 = \"7\";\n",
    "String dataSourceCode8 = \"TEST\";\n",
    "String recordID8 = \"8\";\n",
    "\n",
    "String loadID = null;"
   ]
  },
  {
   "cell_type": "markdown",
   "metadata": {},
   "source": [
    "### addRecord\n",
    "\n",
    "Once the Senzing engine is initialized, use `addRecord()` to load a record\n",
    "into the Senzing repository\n",
    "-- `addRecord()` can be called as many times as desired and from multiple\n",
    "threads at the same time.\n",
    "The `addRecord()` function returns \"0\" upon success, and accepts four\n",
    "parameters as input:\n",
    "\n",
    "###### Parameters\n",
    "\n",
    "- **dataSourceCode:** (str) The name of the data source the record\n",
    "  is associated with.\n",
    "  This value is configurable to the system\n",
    "- **recordID:** (str) The record ID, used to identify distinct records\n",
    "- **jsonData:** (str) A JSON document with the attribute data for the record\n",
    "- **loadID:** (str) The observation load ID for the record;\n",
    "  value can be null and will default to data_source"
   ]
  },
  {
   "cell_type": "code",
   "execution_count": null,
   "metadata": {},
   "outputs": [],
   "source": [
    "String jsonData =  \"{\\\"NAME_TYPE\\\": \\\"PRIMARY\\\", \\\"NAME_FIRST\\\": \\\"JANE\\\", \\\"NAME_LAST\\\": \\\"SMITH\\\", \\\"ADDR_TYPE\\\": \\\"HOME\\\", \\\"ADDR_LINE1\\\": \\\"653 STATE ROUTE 7\\\", \\\"ADDR_CITY\\\": \\\"FRESNO\\\", \\\"ADDR_STATE\\\": \\\"CA\\\", \\\"ADDR_POSTAL_CODE\\\": \\\"55073-1234\\\", \\\"SSN_NUMBER\\\": \\\"111-11-1111\\\"}\";\n",
    "StringBuffer response = new StringBuffer();\n",
    "String dataSourceCode = dataSourceCode1;\n",
    "String recordID = recordID1;\n",
    "\n",
    "int return_code= g2engine.addRecord(\n",
    "                    dataSourceCode, \n",
    "                    recordID, \n",
    "                    jsonData, \n",
    "                    loadID);\n",
    "\n",
    "if(return_code!=0)\n",
    "    System.out.print(g2engine.getLastException());"
   ]
  },
  {
   "cell_type": "markdown",
   "metadata": {},
   "source": [
    "### addRecordWithReturnedRecordID\n",
    "\n",
    "Alternatively `addRecordWithReturnedRecordID()` can be used to return the record ID\n",
    "\n",
    "###### Parameters\n",
    "\n",
    "- **dataSourceCode:** (str) The name of the data source the record\n",
    "  is associated with.\n",
    "  This value is configurable to the system\n",
    "- **response:** (StringBuffer) Object to store the output of the method. Can be used to print or store for later.- **record_id:** (str) The record ID, used to identify distinct records\n",
    "- **jsonData:** (str) A JSON document with the attribute data for the record\n",
    "- **loadID:** (str) the observation load ID for the record;\n",
    "  value can be null."
   ]
  },
  {
   "cell_type": "code",
   "execution_count": null,
   "metadata": {},
   "outputs": [],
   "source": [
    "StringBuffer responseBuffer = new StringBuffer();\n",
    "\n",
    "int return_code = g2engine.addRecordWithReturnedRecordID(\n",
    "                            dataSourceCode, \n",
    "                            responseBuffer, \n",
    "                            jsonData, \n",
    "                            loadID);\n",
    "\n",
    "if(return_code!=0)\n",
    "    System.out.print(g2engine.getLastException());\n",
    "else\n",
    "    System.out.print(\"New Record ID: \" + responseBuffer.toString());"
   ]
  },
  {
   "cell_type": "markdown",
   "metadata": {},
   "source": [
    "### addRecordWithInfo\n",
    "\n",
    "Use if you would like to know what resolved entities were modified when\n",
    "adding the new record.\n",
    "It behaves identically to addRecord(),\n",
    "but returns a json document containing the IDs of the affected entities.\n",
    "\n",
    "###### Parameters\n",
    "\n",
    "- **dataSourceCode:** (str) The name of the data source the record is associated\n",
    "  with.  This value is configurable to the system.\n",
    "- **recordID:** (str) The record ID, used to identify distinct records\n",
    "- **jsonData:** (str) A JSON document with the attribute data for the record\n",
    "- **loadID:** (str) the observation load ID for the record;\n",
    "  value can be null.\n",
    "- **g2EngineFlags:** (long) Control flags for specifying what data about the\n",
    "  entity to retrieve\n",
    "- **response:** (StringBuffer) Object to store the output of the method. Can be used to print or store for later."
   ]
  },
  {
   "cell_type": "code",
   "execution_count": null,
   "metadata": {},
   "outputs": [],
   "source": [
    "StringBuffer response = new StringBuffer();\n",
    "long g2EngineFlags = 0;\n",
    "int return_code = g2engine.addRecordWithInfo(\n",
    "                    dataSourceCode, \n",
    "                    recordID, \n",
    "                    jsonData, \n",
    "                    loadID, \n",
    "                    g2EngineFlags,\n",
    "                    response);\n",
    "\n",
    "if(return_code!=0)\n",
    "    System.out.print(g2engine.getLastException());\n",
    "else\n",
    "    RenderJSON(response);"
   ]
  },
  {
   "cell_type": "markdown",
   "metadata": {},
   "source": [
    "### addRecordWithInfoWithReturnedRecordID\n",
    "\n",
    "\n",
    "###### Parameters\n",
    "\n",
    "- **dataSourceCode:** (str) The name of the data source the record is associated\n",
    "  with.  This value is configurable to the system.\n",
    "- **jsonData:** (str) A JSON document with the attribute data for the record\n",
    "- **loadID:** (str) the observation load ID for the record;\n",
    "  value can be null.\n",
    "- **g2EngineFlags:** (long) Control flags for specifying what data about the\n",
    "  entity to retrieve\n",
    "- **recordResponse:** (StringBuffer) The record ID of the added record.\n",
    "- **response:** (StringBuffer) Object to store the output of the method. Can be used to print or store for later."
   ]
  },
  {
   "cell_type": "code",
   "execution_count": null,
   "metadata": {},
   "outputs": [],
   "source": [
    "StringBuffer response = new StringBuffer();\n",
    "StringBuffer recordResponse = new StringBuffer();\n",
    "\n",
    "int return_code = g2engine.addRecordWithInfoWithReturnedRecordID(\n",
    "                    dataSourceCode, \n",
    "                    jsonData,\n",
    "                    loadID,\n",
    "                    g2EngineFlags,\n",
    "                    recordResponse,   \n",
    "                    response);\n",
    "\n",
    "if(return_code!=0)\n",
    "    System.out.print(g2engine.getLastException());\n",
    "else\n",
    "    System.out.print(record_response);\n",
    "    RenderJSON(response)"
   ]
  },
  {
   "cell_type": "markdown",
   "metadata": {},
   "source": [
    "## Replace"
   ]
  },
  {
   "cell_type": "markdown",
   "metadata": {},
   "source": [
    "### replaceRecord\n",
    "\n",
    "Use the `replaceRecord()` function to update or replace a record in the data\n",
    "repository.\n",
    "If record doesn't exist, a new record is added to the data repository.\n",
    "Like the above functions, `replaceRecord()` returns \"0\" upon success,\n",
    "and it can be called as many times as desired and from multiple threads at\n",
    "the same time.\n",
    "\n",
    "###### Parameters\n",
    "\n",
    "- **dataSourceCode:** (str) The name of the data source the record is associated\n",
    "  with.  This value is configurable to the system\n",
    "- **recordID:** (str) The record ID, used to identify distinct records\n",
    "- **jsonData:** (str) A JSON document with the attribute data for the record\n",
    "- **loadID:** (str) the observation load ID for the record;\n",
    "  value can be null."
   ]
  },
  {
   "cell_type": "code",
   "execution_count": null,
   "metadata": {},
   "outputs": [],
   "source": [
    "String jsonData =  \"{\\\"NAME_TYPE\\\": \\\"PRIMARY\\\", \\\"NAME_FIRST\\\": \\\"JANE\\\", \\\"NAME_LAST\\\": \\\"ADAMS\\\", \\\"ADDR_TYPE\\\": \\\"HOME\\\", \\\"ADDR_LINE1\\\": \\\"653 STATE ROUTE 7\\\", \\\"ADDR_CITY\\\": \\\"FRESNO\\\", \\\"ADDR_STATE\\\": \\\"CA\\\", \\\"ADDR_POSTAL_CODE\\\": \\\"55073-1234\\\"}\";\n",
    "\n",
    "int return_code= g2engine.replaceRecord(\n",
    "                    dataSourceCode, \n",
    "                    recordID, \n",
    "                    jsonData, \n",
    "                    loadID);\n",
    "\n",
    "if(return_code!=0)\n",
    "    System.out.print(g2engine.getLastException());\n",
    "else\n",
    "    System.out.print(return_code)"
   ]
  },
  {
   "cell_type": "markdown",
   "metadata": {},
   "source": [
    "### replaceRecordWithInfo\n",
    "\n",
    "`replaceRecordWithInfo()` is available if you would like to know what\n",
    "resolved entities were modified when replacing a record.\n",
    "It behaves identically to `replaceRecord()`,\n",
    "but also returns a json document containing the IDs of the affected entities.\n",
    "\n",
    "###### Parameters\n",
    "\n",
    "- **dataSourceCode:** (str) The name of the data source the record is associated\n",
    "  with.  This value is configurable to the system.\n",
    "- **recordID:** (str) The record ID, used to identify distinct records\n",
    "- **jsonData:** (str) A JSON document with the attribute data for the record\n",
    "- **loadID:** (str) the observation load ID for the record;\n",
    "  value can be null.\n",
    "- **g2EngineFlags:** (long) Control flags for specifying what data about the\n",
    "- **response:** (StringBuffer) Object to store the output of the method. Can be used to print or store for later."
   ]
  },
  {
   "cell_type": "code",
   "execution_count": null,
   "metadata": {},
   "outputs": [],
   "source": [
    "String jsonData =  \"{\\\"NAME_TYPE\\\": \\\"PRIMARY\\\", \\\"NAME_FIRST\\\": \\\"JANE\\\", \\\"NAME_LAST\\\": \\\"ADAMS\\\", \\\"ADDR_TYPE\\\": \\\"HOME\\\", \\\"ADDR_LINE1\\\": \\\"653 STATE ROUTE 7\\\", \\\"ADDR_CITY\\\": \\\"FRESNO\\\", \\\"ADDR_STATE\\\": \\\"CA\\\", \\\"ADDR_POSTAL_CODE\\\": \\\"55073-1234\\\"}\";\n",
    "\n",
    "StringBuffer response = new StringBuffer();\n",
    "\n",
    "int return_code= g2engine.replaceRecordWithInfo(\n",
    "                            dataSourceCode, \n",
    "                            recordID, \n",
    "                            jsonData, \n",
    "                            loadID, \n",
    "                            g2EngineFlags, \n",
    "                            response);\n",
    "if(return_code!=0)\n",
    "    System.out.print(g2engine.getLastException());\n",
    "else\n",
    "    RenderJSON(response)"
   ]
  },
  {
   "cell_type": "markdown",
   "metadata": {},
   "source": [
    "## Re-evaluate"
   ]
  },
  {
   "cell_type": "markdown",
   "metadata": {},
   "source": [
    "### reevaluateRecord\n",
    "\n",
    "###### Parameters\n",
    "\n",
    "- **dataSourceCode:** (str) The name of the data source the record is associated\n",
    "  with.  This value is configurable to the system.\n",
    "- **recordID:** (str) The record ID, used to identify distinct records\n",
    "- **g2EngineFlags:** (long) Control flags for outputting entities"
   ]
  },
  {
   "cell_type": "code",
   "execution_count": null,
   "metadata": {},
   "outputs": [],
   "source": [
    "String dataSourceCode = dataSourceCode1;\n",
    "String recordID = recordID1;\n",
    "\n",
    "int return_code = g2engine.reevaluateRecord(\n",
    "                            dataSourceCode, \n",
    "                            recordID, \n",
    "                            g2EngineFlags);\n",
    "\n",
    "if(return_code!=0)\n",
    "    System.out.print(g2engine.getLastException());\n",
    "else\n",
    "    System.out.print(return_code);"
   ]
  },
  {
   "cell_type": "markdown",
   "metadata": {},
   "source": [
    "### reevaluateRecordWithInfo\n",
    "\n",
    "###### Parameters\n",
    "\n",
    "- **dataSourceCode:** (str) The name of the data source the record is associated\n",
    "  with.  This value is configurable to the system.\n",
    "- **recordID:** (str) The record ID, used to identify distinct records\n",
    "- **g2EngineFlags:** (long) Control flags for outputting entities\n",
    "- **response:** (StringBuffer) Object to store the output of the method. Can be used to print or store for later."
   ]
  },
  {
   "cell_type": "code",
   "execution_count": null,
   "metadata": {},
   "outputs": [],
   "source": [
    "StringBuffer response = new StringBuffer();\n",
    "\n",
    "int return_code = g2engine.reevaluateRecordWithInfo(\n",
    "                            dataSourceCode, \n",
    "                            recordID, \n",
    "                            g2EngineFlags, \n",
    "                            response);\n",
    "\n",
    "if(return_code!=0)\n",
    "    System.out.print(g2engine.getLastException());\n",
    "else\n",
    "    RenderJSON(response);"
   ]
  },
  {
   "cell_type": "markdown",
   "metadata": {},
   "source": [
    "### reevaluateEntity\n",
    "\n",
    "- **entityID:** (int) The entity ID for the entity to be analyzed\n",
    "- **g2EngineFlags:** (int) Control flags for specifying what data about the entity to retrieve"
   ]
  },
  {
   "cell_type": "markdown",
   "metadata": {},
   "source": [
    "Find an entity"
   ]
  },
  {
   "cell_type": "code",
   "execution_count": null,
   "metadata": {},
   "outputs": [],
   "source": [
    "String dataSourceCode = dataSourceCode1;\n",
    "String recordID = recordID1;\n",
    "StringBuffer response = new StringBuffer();\n",
    "\n",
    "int return_code = g2engine.getEntityByRecordID(dataSourceCode, recordID, g2EngineFlags, response);\n",
    "                            \n",
    "JsonObject jsonObject = JsonUtil.parseJsonObject(response.toString());\n",
    "long entityID = jsonObject.getJsonObject(\"RESOLVED_ENTITY\").getJsonNumber(\"ENTITY_ID\").longValue();"
   ]
  },
  {
   "cell_type": "markdown",
   "metadata": {},
   "source": [
    "Re-evaluate the entity.\n",
    "\n",
    "###### Parameters\n",
    "\n",
    "- **entityID:** (int) The entity ID for the entity to be analyzed\n",
    "- **g2EngineFlags:** (long) Control flags for specifying what data about the"
   ]
  },
  {
   "cell_type": "code",
   "execution_count": null,
   "metadata": {},
   "outputs": [],
   "source": [
    "int return_code = g2engine.reevaluateEntity(entityID, g2EngineFlags);\n",
    "\n",
    "if(return_code!=0)\n",
    "    System.out.print(g2engine.getLastException());\n",
    "else\n",
    "    System.out.print(return_code);"
   ]
  },
  {
   "cell_type": "markdown",
   "metadata": {},
   "source": [
    "### reevaluateEntityWithInfo\n",
    "\n",
    "###### Parameters\n",
    "\n",
    "- **entityID:** (int) The entity ID for the entity to be analyzed\n",
    "- **g2EngineFlags:** (long) Control flags for specifying what data about the entity to retrieve\n",
    "- **response:** (StringBuffer) Object to store the output of the method. Can be used to print or store for later."
   ]
  },
  {
   "cell_type": "code",
   "execution_count": null,
   "metadata": {},
   "outputs": [],
   "source": [
    "StringBuffer response = new StringBuffer();\n",
    "\n",
    "return_code = g2engine.reevaluateEntityWithInfo(entityID, g2EngineFlags, response);\n",
    "\n",
    "if(return_code!=0)\n",
    "    System.out.print(return_code);\n",
    "else\n",
    "    RenderJSON(response);"
   ]
  },
  {
   "cell_type": "markdown",
   "metadata": {},
   "source": [
    "## Redo Processing\n",
    "\n",
    "Redo records are automatically created by Senzing when certain conditions\n",
    "occur where it believes more processing may be needed.\n",
    "Some examples:\n",
    "\n",
    "- A value becomes generic and previous decisions may need to be revisited\n",
    "- Clean up after some record deletes\n",
    "- Detected related entities were being changed at the same time\n",
    "- A table inconsistency exists, potentially after a non-graceful shutdown\n",
    "\n",
    "First we will need to have a total of 6 data sources so let's add 5 more."
   ]
  },
  {
   "cell_type": "markdown",
   "metadata": {},
   "source": [
    "Create Record and Entity for redo"
   ]
  },
  {
   "cell_type": "code",
   "execution_count": null,
   "metadata": {},
   "outputs": [],
   "source": [
    "String jsonData =  \"{\\\"NAME_TYPE\\\": \\\"PRIMARY\\\", \\\"NAME_FIRST\\\": \\\"Lily\\\", \\\"NAME_LAST\\\": \\\"Owens\\\", \\\"SSN_NUMBER\\\": \\\"111-11-1111\\\"}\";\n",
    "\n",
    "String dataSourceCode = dataSourceCode4;\n",
    "String recordID = recordID4;\n",
    "int return_code= g2engine.addRecord(\n",
    "                    dataSourceCode, \n",
    "                    recordID, \n",
    "                    jsonData, \n",
    "                    loadID);\n",
    "\n",
    "if(return_code!=0)\n",
    "    System.out.print(g2engine.getLastException());"
   ]
  },
  {
   "cell_type": "code",
   "execution_count": null,
   "metadata": {},
   "outputs": [],
   "source": [
    "StringBuffer response = new StringBuffer();\n",
    "\n",
    "int return_code = g2engine.getEntityByRecordID(dataSourceCode, recordID, g2EngineFlags, response);\n",
    "                            \n",
    "JsonObject jsonObject = JsonUtil.parseJsonObject(response.toString());\n",
    "long entityID6 = jsonObject.getJsonObject(\"RESOLVED_ENTITY\").getJsonNumber(\"ENTITY_ID\").longValue();\n",
    "System.out.println(\"Entity ID: \" + entityID6);\n",
    "\n",
    "if(return_code!=0)\n",
    "    System.out.print(g2engine.getLastException());\n",
    "else\n",
    "    RenderJSON(response);"
   ]
  },
  {
   "cell_type": "markdown",
   "metadata": {},
   "source": [
    "Create another Record and Entity"
   ]
  },
  {
   "cell_type": "code",
   "execution_count": null,
   "metadata": {},
   "outputs": [],
   "source": [
    "String jsonData =  \"{\\\"NAME_TYPE\\\": \\\"PRIMARY\\\", \\\"NAME_FIRST\\\": \\\"August\\\", \\\"NAME_LAST\\\": \\\"Bauler\\\", \\\"NAME_MIDDLE\\\": \\\"E\\\", \\\"SSN_NUMBER\\\": \\\"111-11-1111\\\"}\";\n",
    "\n",
    "String dataSourceCode = dataSourceCode5;\n",
    "String recordID = recordID5;\n",
    "int return_code= g2engine.addRecord(\n",
    "                    dataSourceCode, \n",
    "                    recordID, \n",
    "                    jsonData, \n",
    "                    loadID);\n",
    "\n",
    "if(return_code!=0)\n",
    "    System.out.print(g2engine.getLastException());"
   ]
  },
  {
   "cell_type": "code",
   "execution_count": null,
   "metadata": {},
   "outputs": [],
   "source": [
    "StringBuffer response = new StringBuffer();\n",
    "\n",
    "int return_code = g2engine.getEntityByRecordID(dataSourceCode, recordID, g2EngineFlags, response);\n",
    "                            \n",
    "JsonObject jsonObject = JsonUtil.parseJsonObject(response.toString());\n",
    "long entityID7 = jsonObject.getJsonObject(\"RESOLVED_ENTITY\").getJsonNumber(\"ENTITY_ID\").longValue();\n",
    "System.out.println(entityID7);\n",
    "\n",
    "if(return_code!=0)\n",
    "    System.out.print(g2engine.getLastException());\n",
    "else\n",
    "    RenderJSON(response);"
   ]
  },
  {
   "cell_type": "markdown",
   "metadata": {},
   "source": [
    "Create another Record and Entity"
   ]
  },
  {
   "cell_type": "code",
   "execution_count": null,
   "metadata": {},
   "outputs": [],
   "source": [
    "String jsonData =  \"{\\\"NAME_TYPE\\\": \\\"PRIMARY\\\", \\\"NAME_FIRST\\\": \\\"Brian\\\", \\\"NAME_LAST\\\": \\\"Barcy\\\", \\\"NAME_MIDDLE\\\": \\\"H\\\", \\\"SSN_NUMBER\\\": \\\"111-11-1111\\\"}\";\n",
    "\n",
    "String dataSourceCode = dataSourceCode6;\n",
    "String recordID = recordID6;\n",
    "int return_code= g2engine.addRecord(\n",
    "                    dataSourceCode, \n",
    "                    recordID, \n",
    "                    jsonData, \n",
    "                    loadID);\n",
    "\n",
    "if(return_code!=0)\n",
    "    System.out.print(g2engine.getLastException());"
   ]
  },
  {
   "cell_type": "code",
   "execution_count": null,
   "metadata": {},
   "outputs": [],
   "source": [
    "StringBuffer response = new StringBuffer();\n",
    "\n",
    "int return_code = g2engine.getEntityByRecordID(dataSourceCode, recordID, g2EngineFlags, response);\n",
    "                            \n",
    "JsonObject jsonObject = JsonUtil.parseJsonObject(response.toString());\n",
    "long entityID8 = jsonObject.getJsonObject(\"RESOLVED_ENTITY\").getJsonNumber(\"ENTITY_ID\").longValue();\n",
    "System.out.println(entityID8);\n",
    "\n",
    "if(return_code!=0)\n",
    "    System.out.print(g2engine.getLastException());\n",
    "else\n",
    "    RenderJSON(response);"
   ]
  },
  {
   "cell_type": "markdown",
   "metadata": {},
   "source": [
    "Create another Record and Entity"
   ]
  },
  {
   "cell_type": "code",
   "execution_count": null,
   "metadata": {},
   "outputs": [],
   "source": [
    "String jsonData =  \"{\\\"NAME_TYPE\\\": \\\"PRIMARY\\\", \\\"NAME_FIRST\\\": \\\"Jack\\\", \\\"NAME_LAST\\\": \\\"Miller\\\", \\\"NAME_MIDDLE\\\": \\\"H\\\", \\\"SSN_NUMBER\\\": \\\"111-11-1111\\\"}\";\n",
    "\n",
    "String dataSourceCode = dataSourceCode7;\n",
    "String recordID = recordID7;\n",
    "int return_code= g2engine.addRecord(\n",
    "                    dataSourceCode, \n",
    "                    recordID, \n",
    "                    jsonData, \n",
    "                    loadID);\n",
    "\n",
    "if(return_code!=0)\n",
    "    System.out.print(g2engine.getLastException());"
   ]
  },
  {
   "cell_type": "code",
   "execution_count": null,
   "metadata": {},
   "outputs": [],
   "source": [
    "StringBuffer response = new StringBuffer();\n",
    "\n",
    "int return_code = g2engine.getEntityByRecordID(dataSourceCode, recordID, g2EngineFlags, response);\n",
    "                            \n",
    "JsonObject jsonObject = JsonUtil.parseJsonObject(response.toString());\n",
    "long entityID9 = jsonObject.getJsonObject(\"RESOLVED_ENTITY\").getJsonNumber(\"ENTITY_ID\").longValue();\n",
    "System.out.println(entityID9);\n",
    "\n",
    "if(return_code!=0)\n",
    "    System.out.print(g2engine.getLastException());\n",
    "else\n",
    "    RenderJSON(response);"
   ]
  },
  {
   "cell_type": "markdown",
   "metadata": {},
   "source": [
    "Create another Record and Entity"
   ]
  },
  {
   "cell_type": "code",
   "execution_count": null,
   "metadata": {},
   "outputs": [],
   "source": [
    "String jsonData =  \"{\\\"NAME_TYPE\\\": \\\"PRIMARY\\\", \\\"NAME_FIRST\\\": \\\"Madelyn\\\", \\\"NAME_LAST\\\": \\\"Caryn\\\", \\\"SSN_NUMBER\\\": \\\"111-11-1111\\\"}\";\n",
    "\n",
    "String dataSourceCode = dataSourceCode8;\n",
    "String recordID = recordID8;\n",
    "int return_code= g2engine.addRecord(\n",
    "                    dataSourceCode, \n",
    "                    recordID, \n",
    "                    jsonData, \n",
    "                    loadID);\n",
    "\n",
    "if(return_code!=0)\n",
    "    System.out.print(g2engine.getLastException());"
   ]
  },
  {
   "cell_type": "code",
   "execution_count": null,
   "metadata": {
    "scrolled": true
   },
   "outputs": [],
   "source": [
    "StringBuffer response = new StringBuffer();\n",
    "\n",
    "int return_code = g2engine.getEntityByRecordID(dataSourceCode, recordID, g2EngineFlags, response);\n",
    "                            \n",
    "JsonObject jsonObject = JsonUtil.parseJsonObject(response.toString());\n",
    "long entityID10 = jsonObject.getJsonObject(\"RESOLVED_ENTITY\").getJsonNumber(\"ENTITY_ID\").longValue();\n",
    "System.out.println(entityID10);\n",
    "\n",
    "if(return_code!=0)\n",
    "    System.out.print(g2engine.getLastException());\n",
    "else\n",
    "    RenderJSON(response);"
   ]
  },
  {
   "cell_type": "markdown",
   "metadata": {},
   "source": [
    "### countRedoRecords\n",
    "\n",
    "Once the Senzing engine is initialized, use `countRedoRecords()`\n",
    "to return the remaining internally queued maintenance records in the\n",
    "Senzing repository.\n",
    "`countRedoRecords()` takes no arguments and returns <0 for errors."
   ]
  },
  {
   "cell_type": "code",
   "execution_count": null,
   "metadata": {},
   "outputs": [],
   "source": [
    "long return_code = g2engine.countRedoRecords();\n",
    "System.out.print(return_code);"
   ]
  },
  {
   "cell_type": "markdown",
   "metadata": {},
   "source": [
    "### getRedoRecord\n",
    "\n",
    "Once the Senzing engine is initialized, \n",
    "use `getRedoRecord()` to retrieve the next internally queued maintenance\n",
    "record into the Senzing repository\n",
    "-- `getRedoRecord()` can be called as many times as desired and from multiple\n",
    "threads at the same time but all threads are required to be in the same\n",
    "process.\n",
    "`getRedoRecord()` should not be called from multiple processes.\n",
    "Unlike `processRedoRecord()`, `getRedoRecord()` does not actually process the\n",
    "record.\n",
    "To process the record, you would use the G2Engine `process()` function.\n",
    "The `getRedoRecord()` function returns \"0\" upon success and an empty response\n",
    "if there is nothing to do.\n",
    "\n",
    "###### Parameters\n",
    "\n",
    "- **response:** (StringBuffer) Object to store the output of the method. Can be used to print or store for later."
   ]
  },
  {
   "cell_type": "code",
   "execution_count": null,
   "metadata": {},
   "outputs": [],
   "source": [
    "StringBuffer response = new StringBuffer();\n",
    "\n",
    "int return_code = g2engine.getRedoRecord(response);\n",
    "\n",
    "if(return_code!=0)\n",
    "    System.out.print(g2engine.getLastException());\n",
    "else\n",
    "    RenderJSON(response)"
   ]
  },
  {
   "cell_type": "markdown",
   "metadata": {},
   "source": [
    "### processWithInfo\n",
    "\n",
    "###### Parameters\n",
    "\n",
    "- **response:** (StringBuffer) the input record to add\n",
    "- **processResponse:** (StringBuffer) Object to store the output of the method. Can be used to print or store for later.\n",
    "- **g2EngineFlags:** (long) Control flags for specifying what data about the\n"
   ]
  },
  {
   "cell_type": "code",
   "execution_count": null,
   "metadata": {},
   "outputs": [],
   "source": [
    "StringBuffer processResponse = new StringBuffer();\n",
    "\n",
    "int return_code = g2engine.processWithInfo(\n",
    "                            response.toString(),\n",
    "                            g2EngineFlags,\n",
    "                            processResponse);\n",
    "                            \n",
    "if(return_code!=0)\n",
    "    System.out.print(g2engine.getLastException());\n",
    "else\n",
    "    RenderJSON(response)"
   ]
  },
  {
   "cell_type": "markdown",
   "metadata": {},
   "source": [
    "### process\n",
    "\n",
    "###### Parameters\n",
    "\n",
    "- **response:** (bytearray) the input record to process"
   ]
  },
  {
   "cell_type": "code",
   "execution_count": null,
   "metadata": {},
   "outputs": [],
   "source": [
    "int return_code = g2engine.process(response.toString());\n",
    "                            \n",
    "if(return_code!=0)\n",
    "    System.out.print(g2engine.getLastException());\n",
    "else\n",
    "    RenderJSON(response)"
   ]
  },
  {
   "cell_type": "markdown",
   "metadata": {},
   "source": [
    "### processRedoRecord\n",
    "\n",
    "This processes the next redo record and returns it\n",
    "(If `processRedoRecord()` \"response\" returns 0\n",
    "and \"response_bytearray\" is blank then there are no more redo records to\n",
    "process and if you do `countRedoRecords()` again it will return 0)\n",
    "Has potential to create more redo records in certian situations.\n",
    "\n",
    "###### Parameters\n",
    "\n",
    "- **response:** (StringBuffer) Object to store the output of the method. Can be used to print or store for later."
   ]
  },
  {
   "cell_type": "code",
   "execution_count": null,
   "metadata": {},
   "outputs": [],
   "source": [
    "StringBuffer response = new StringBuffer();\n",
    "\n",
    "int return_code = g2engine.processRedoRecord(response);\n",
    "\n",
    "if(return_code!=0)\n",
    "    System.out.print(g2engine.getLastException());\n",
    "else\n",
    "    RenderJSON(response)"
   ]
  },
  {
   "cell_type": "markdown",
   "metadata": {},
   "source": [
    "### processRedoRecordWithInfo\n",
    "\n",
    "`processRedoRecordWithInfo()` is available if you would like to know what\n",
    "resolved entities were modified when processing a redo record.\n",
    "It behaves identically to `processRedoRecord()`,\n",
    "but also returns a json document containing the IDs of the affected entities.\n",
    "It accepts the following parameters:\n",
    "\n",
    "###### Parameters\n",
    "\n",
    "- **g2EngineFlags:** (long) Control flags for specifying what data about the\n",
    "- **info:** (StringBuffer) Returns the \"withInfo\" section \n",
    "- **response:** (StringBuffer) Object to store the output of the method. Can be used to print or store for later."
   ]
  },
  {
   "cell_type": "code",
   "execution_count": null,
   "metadata": {
    "scrolled": true
   },
   "outputs": [],
   "source": [
    "StringBuffer response = new StringBuffer();\n",
    "StringBuffer info = new StringBuffer();\n",
    "\n",
    "int return_code = g2engine.processRedoRecordWithInfo(\n",
    "    g2EngineFlags,\n",
    "    info,\n",
    "    response);\n",
    "\n",
    "if(return_code!=0)\n",
    "    System.out.print(g2engine.getLastException());\n",
    "else\n",
    "    RenderJSON(response);\n",
    "    RenderJSON(info)"
   ]
  },
  {
   "cell_type": "markdown",
   "metadata": {},
   "source": [
    "## Delete"
   ]
  },
  {
   "cell_type": "markdown",
   "metadata": {},
   "source": [
    "### deleteRecord\n",
    "\n",
    "Use `deleteRecord()` to remove a record from the data repository\n",
    "(returns \"0\" upon success);\n",
    "`deleteRecord()` can be called as many times as desired and from multiple\n",
    "threads at the same time.\n",
    "\n",
    "###### Parameters\n",
    "\n",
    "- **dataSourceCode:** (str) The name of the data source the record is associated\n",
    "  with.  This value is configurable to the system.\n",
    "- **recordID:** (str) The record ID, used to identify distinct records\n",
    "- **loadID:** (str) the observation load ID for the record;\n",
    "  value can be null."
   ]
  },
  {
   "cell_type": "code",
   "execution_count": null,
   "metadata": {},
   "outputs": [],
   "source": [
    "String dataSourceCode = dataSourceCode1;\n",
    "String recordID = recordID1;\n",
    "\n",
    "int return_code= g2engine.deleteRecord(dataSourceCode, recordID, loadID);\n",
    "\n",
    "if(return_code!=0)\n",
    "    System.out.print(g2engine.getLastException());\n",
    "else\n",
    "    System.out.print(return_code);"
   ]
  },
  {
   "cell_type": "markdown",
   "metadata": {},
   "source": [
    "### deleteRecordWithInfo\n",
    "\n",
    "`deleteRecordWithInfo()` behaves the same as `deleteRecord()`\n",
    "but also returns a json document containing the IDs of the affected entities.\n",
    "\n",
    "###### Parameters\n",
    "\n",
    "- **dataSourceCode:** (str) The name of the data source the record is associated\n",
    "  with. This value is configurable to the system.\n",
    "- **recordID:** (str) The record ID, used to identify distinct records.\n",
    "- **response:** (StringBuffer) Object to store the output of the method. Can be used to print or store for later.\n",
    "- **loadID:** (str) the observation load ID for the record;\n",
    "  value can be null.\n",
    "- **g2EngineFlags:** (long) Control flags for specifying what data about the  included in the export."
   ]
  },
  {
   "cell_type": "code",
   "execution_count": null,
   "metadata": {},
   "outputs": [],
   "source": [
    "String dataSourceCode = dataSourceCode2;\n",
    "String recordID = recordID2;\n",
    "StringBuffer response = new StringBuffer();\n",
    "\n",
    "int return_code = g2engine.deleteRecordWithInfo(\n",
    "                            dataSourceCode, \n",
    "                            recordID, \n",
    "                            loadID, \n",
    "                            g2EngineFlags, \n",
    "                            response);\n",
    "\n",
    "if(return_code!=0)\n",
    "    System.out.print(g2engine.getLastException());\n",
    "else\n",
    "    RenderJSON(response);"
   ]
  },
  {
   "cell_type": "markdown",
   "metadata": {},
   "source": [
    "Attempt to get the record again. It should error and give an output similar to \"Unknown record\""
   ]
  },
  {
   "cell_type": "code",
   "execution_count": null,
   "metadata": {},
   "outputs": [],
   "source": [
    "StringBuffer response = new StringBuffer();\n",
    "int return_code = g2engine.getRecord(dataSourceCode, recordID, response);\n",
    "\n",
    "if(return_code!=0)\n",
    "    System.out.print(g2engine.getLastException());"
   ]
  },
  {
   "cell_type": "markdown",
   "metadata": {},
   "source": [
    "Add record back for later API calls"
   ]
  },
  {
   "cell_type": "code",
   "execution_count": null,
   "metadata": {},
   "outputs": [],
   "source": [
    "String dataSourceCode = dataSourceCode1;\n",
    "String recordID = recordID1;\n",
    "\n",
    "int return_code = g2engine.addRecord(dataSourceCode, recordID, jsonData, loadID);\n",
    "\n",
    "if(return_code!=0)\n",
    "    System.out.print(g2engine.getLastException());\n",
    "\n",
    "String dataSourceCode = dataSourceCode2;\n",
    "String recordID = recordID2;\n",
    "\n",
    "int return_code = g2engine.addRecord(dataSourceCode, recordID, jsonData, loadID);\n",
    "\n",
    "if(return_code!=0)\n",
    "    System.out.print(g2engine.getLastException());"
   ]
  },
  {
   "cell_type": "markdown",
   "metadata": {},
   "source": [
    "## Search"
   ]
  },
  {
   "cell_type": "markdown",
   "metadata": {},
   "source": [
    "### Record search"
   ]
  },
  {
   "cell_type": "markdown",
   "metadata": {},
   "source": [
    "#### getRecord\n",
    "\n",
    "Use `getRecord()` to retrieve a single record from the data repository;\n",
    "the record is assigned in JSON form to a user-designated buffer.\n",
    "Once the Senzing engine is initialized,\n",
    "`getRecord()` can be called as many times as desired and from multiple\n",
    "threads at the same time.\n",
    "\n",
    "###### Parameters\n",
    "\n",
    "- **dataSourceCode:** (str) The name of the data source the record is associated\n",
    "  with.  This value is configurable to the system.\n",
    "- **recordID:** (str) The record ID, used to identify the record for retrieval\n",
    "- **g2EngineFlags:** (long) Control flags for specifying what data about the\n",
    "  record to retrieve.\n",
    "- **response:** (StringBuffer) Object to store the output of the method. Can be used to print or store for later."
   ]
  },
  {
   "cell_type": "code",
   "execution_count": null,
   "metadata": {},
   "outputs": [],
   "source": [
    "int flags = 0;\n",
    "String dataSourceCode = \"TEST\";\n",
    "String recordID = \"1\";\n",
    "StringBuffer response = new StringBuffer();\n",
    "int return_code= g2engine.getRecord(\n",
    "                    dataSourceCode, \n",
    "                    recordID, \n",
    "                    flags, \n",
    "                    response);\n",
    "\n",
    "if(return_code!=0)\n",
    "    System.out.print(g2engine.getLastException());\n",
    "else\n",
    "    RenderJSON(response)"
   ]
  },
  {
   "cell_type": "markdown",
   "metadata": {},
   "source": [
    "### Entity search"
   ]
  },
  {
   "cell_type": "markdown",
   "metadata": {},
   "source": [
    "#### getEntityByRecordID\n",
    "\n",
    "Entity searching is a key component for interactive use of Entity Resolution\n",
    "intelligence.\n",
    "The core Senzing engine provides real-time search capabilities that are\n",
    "easily accessed via the Senzing API.\n",
    "Senzing offers methods for entity searching, all of which can be called\n",
    "as many times as desired and from multiple threads at the same time\n",
    "(and all of which return \"0\" upon success).\n",
    "\n",
    "Use `getEntityByRecordID()` to retrieve entity data based on the ID of a\n",
    "resolved identity.\n",
    "\n",
    "###### Parameters\n",
    "\n",
    "- **dataSourceCode:** (str) The name of the data source the record is associated\n",
    "  with.  This value is configurable to the system.\n",
    "- **recordID:** (str) The record ID, used to identify the record for retrieval\n",
    "- **g2EngineFlags:** (long) Control flags for specifying what data about the\n",
    "  record to retrieve.\n",
    "- **response:** (StringBuffer) Object to store the output of the method. Can be used to print or store for later."
   ]
  },
  {
   "cell_type": "code",
   "execution_count": null,
   "metadata": {
    "scrolled": false
   },
   "outputs": [],
   "source": [
    "String dataSourceCode = \"TEST\";\n",
    "String recordID = \"1\";\n",
    "\n",
    "StringBuffer response = new StringBuffer();\n",
    "\n",
    "int return_code = g2engine.getEntityByRecordID(\n",
    "                            dataSourceCode, \n",
    "                            recordID, \n",
    "                            flags, \n",
    "                            response);\n",
    "\n",
    "JsonObject jsonObject = JsonUtil.parseJsonObject(response.toString());\n",
    "long entityID1 = jsonObject.getJsonObject(\"RESOLVED_ENTITY\").getJsonNumber(\"ENTITY_ID\").longValue();\n",
    "\n",
    "if(return_code!=0)\n",
    "    RenderJSON(g2engine.getLastException());\n",
    "else\n",
    "    RenderJSON(response);"
   ]
  },
  {
   "cell_type": "markdown",
   "metadata": {},
   "source": [
    "#### getEntityByEntityID\n",
    "\n",
    "Use `getEntityByEntityID()` to retrieve entity data based on the ID of a\n",
    "resolved identity.\n",
    "\n",
    "###### Parameters\n",
    "\n",
    "- **entityID:** (long) The numeric ID of a resolved entity\n",
    "- **response:** (StringBuffer) Object to store the output of the method. Can be used to print or store for later"
   ]
  },
  {
   "cell_type": "code",
   "execution_count": null,
   "metadata": {},
   "outputs": [],
   "source": [
    "long entityID = entityID1;\n",
    "StringBuffer response = new StringBuffer();\n",
    "\n",
    "int return_code = g2engine.getEntityByEntityID(entityID, response);\n",
    "\n",
    "if(return_code!=0)\n",
    "    RenderJSON(g2engine.getLastException());\n",
    "else\n",
    "    RenderJSON(response);"
   ]
  },
  {
   "cell_type": "markdown",
   "metadata": {},
   "source": [
    "#### searchByAttributes\n",
    "\n",
    "This function is similar but preferable to the searchByAttributes() function.\n",
    "\n",
    "Use `searchByAttributes()` to retrieve entity data based on\n",
    "a user-specified set of entity attributes.\n",
    "\n",
    "###### Parameters\n",
    "\n",
    "- **jsonData:** (str) A JSON document with the attribute data to search for.\n",
    "- **response:** (StringBuffer) Object to store the output of the method. Can be used to print or store for later\n",
    "- **g2EngineFlags:** (long) Operational flags"
   ]
  },
  {
   "cell_type": "code",
   "execution_count": null,
   "metadata": {
    "scrolled": true
   },
   "outputs": [],
   "source": [
    "StringBuffer response = new StringBuffer();\n",
    "\n",
    "int return_code = g2engine.searchByAttributes(jsonData, g2EngineFlags, response);\n",
    "\n",
    "if(return_code!=0)\n",
    "    System.out.print(g2engine.getLastException());\n",
    "else\n",
    "    RenderJSON(response);"
   ]
  },
  {
   "cell_type": "markdown",
   "metadata": {},
   "source": [
    "#### getVirtualEntityByRecordID\n",
    "\n",
    "###### Parameters\n",
    "\n",
    "- **records:** (str) A JSON document with the datasource codes and recordID's of the records to check against\n",
    "- **response:** (StringBuffer) Object to store the output of the method. Can be used to print or store for later"
   ]
  },
  {
   "cell_type": "code",
   "execution_count": null,
   "metadata": {},
   "outputs": [],
   "source": [
    "StringBuffer response = new StringBuffer();\n",
    "String records =  \"{\\\"RECORDS\\\": [{\\\"DATA_SOURCE\\\": \\\"\"+dataSourceCode1+\"\\\", \\\"RECORD_ID\\\": \\\"\"+recordID1+\"\\\"}, {\\\"DATA_SOURCE\\\": \\\"\"+dataSourceCode2+\"\\\", \\\"RECORD_ID\\\": \\\"\"+recordID2+\"\\\"}]}\";\n",
    "\n",
    "int return_code = g2engine.getVirtualEntityByRecordID(\n",
    "                            records,\n",
    "                            response);\n",
    "\n",
    "if(return_code!=0)\n",
    "    System.out.print(g2engine.getLastException());\n",
    "else\n",
    "    RenderJSON(response);"
   ]
  },
  {
   "cell_type": "markdown",
   "metadata": {},
   "source": [
    "### Finding Paths\n",
    "\n",
    "First you will need to create some records so that you have some that you can\n",
    "compare.\n",
    "Can you see what is the same between this record and the previous one?"
   ]
  },
  {
   "cell_type": "markdown",
   "metadata": {},
   "source": [
    "#### Create records for paths"
   ]
  },
  {
   "cell_type": "code",
   "execution_count": null,
   "metadata": {},
   "outputs": [],
   "source": [
    "String jsonData =  \"{\\\"NAME_TYPE\\\": \\\"PRIMARY\\\", \\\"NAME_FIRST\\\": \\\"Max\\\", \\\"NAME_LAST\\\": \\\"Miller\\\", \\\"NAME_MIDDLE\\\": \\\"W\\\",\\\"SSN_NUMBER\\\": \\\"111-11-1111\\\"}\";\n",
    "\n",
    "String dataSourceCode = dataSourceCode2;\n",
    "String recordID = recordID2;\n",
    "int return_code = g2engine.replaceRecord(dataSourceCode, recordID, jsonData, loadID);\n",
    "\n",
    "if(return_code!=0)\n",
    "    System.out.print(g2engine.getLastException());"
   ]
  },
  {
   "cell_type": "markdown",
   "metadata": {},
   "source": [
    "Replace values for Record #3"
   ]
  },
  {
   "cell_type": "code",
   "execution_count": null,
   "metadata": {},
   "outputs": [],
   "source": [
    "String jsonData =  \"{\\\"NAME_TYPE\\\": \\\"PRIMARY\\\", \\\"NAME_FIRST\\\": \\\"Mildred\\\", \\\"NAME_LAST\\\": \\\"Miller\\\", \\\"SSN_NUMBER\\\": \\\"111-11-1111\\\"}\";\n",
    "\n",
    "String dataSourceCode = dataSourceCode3;\n",
    "String recordID = recordID3;\n",
    "int return_code = g2engine.replaceRecord(dataSourceCode, recordID, jsonData, loadID);\n",
    "\n",
    "if(return_code!=0)\n",
    "    System.out.print(g2engine.getLastException());"
   ]
  },
  {
   "cell_type": "markdown",
   "metadata": {},
   "source": [
    "Locate \"entity identifier\" for Record #1"
   ]
  },
  {
   "cell_type": "code",
   "execution_count": null,
   "metadata": {},
   "outputs": [],
   "source": [
    "String dataSourceCode = dataSourceCode1;\n",
    "String recordID = recordID1;\n",
    "StringBuffer response = new StringBuffer();\n",
    "\n",
    "int return_code = g2engine.getEntityByRecordID(\n",
    "                            dataSourceCode,\n",
    "                            recordID,\n",
    "                            response);\n",
    "                            \n",
    "JsonObject jsonObject = JsonUtil.parseJsonObject(response.toString());\n",
    "long entityID2 = jsonObject.getJsonObject(\"RESOLVED_ENTITY\").getJsonNumber(\"ENTITY_ID\").longValue();\n",
    "\n",
    "if(return_code!=0)\n",
    "    System.out.print(g2engine.getLastException());\n",
    "else\n",
    "    RenderJSON(response);"
   ]
  },
  {
   "cell_type": "markdown",
   "metadata": {},
   "source": [
    "Locate \"entity identifier\" for Record #3"
   ]
  },
  {
   "cell_type": "code",
   "execution_count": null,
   "metadata": {},
   "outputs": [],
   "source": [
    "String dataSourceCode = dataSourceCode3;\n",
    "String recordID = recordID3;\n",
    "StringBuffer response = new StringBuffer();\n",
    "\n",
    "int return_code = g2engine.getEntityByRecordID(\n",
    "                            dataSourceCode,\n",
    "                            recordID,\n",
    "                            response);\n",
    "                            \n",
    "JsonObject jsonObject = JsonUtil.parseJsonObject(response.toString());\n",
    "long entityID3 = jsonObject.getJsonObject(\"RESOLVED_ENTITY\").getJsonNumber(\"ENTITY_ID\").longValue();\n",
    "\n",
    "if(return_code!=0)\n",
    "    System.out.print(g2engine.getLastException());\n",
    "else\n",
    "    RenderJSON(response);"
   ]
  },
  {
   "cell_type": "markdown",
   "metadata": {},
   "source": [
    "#### findPathByEntityID\n",
    "\n",
    "The `findPathByEntityID()` function can be used to find single relationship paths between two entities. Paths are found using known relationships with other entities.\n",
    "\n",
    "###### Parameters\n",
    "\n",
    "- **entityIDStart:** (int) The entity ID for the starting entity of the search path\n",
    "- **entityIDEnd:** (int) The entity ID for the ending entity of the search path\n",
    "- **maxDegree:** (int) The number of relationship degrees to search\n",
    "- **response:** (StringBuffer) Object to store the output of the method. Can be used to print or store for later\n",
    "- **g2EngineFlags:** (long) Control flags for specifying what data about the entity to retrieve\n",
    "\n",
    "The functions return a JSON document that identifies the path between the\n",
    "entities,\n",
    "and the information on the entities in question.\n",
    "The document contains a section called \"ENTITY_PATHS\" which gives\n",
    "the path from one entity to the other."
   ]
  },
  {
   "cell_type": "code",
   "execution_count": null,
   "metadata": {
    "scrolled": true
   },
   "outputs": [],
   "source": [
    "long entityIDStart = entityID2;\n",
    "long entityIDEnd = entityID3;\n",
    "\n",
    "int maxDegree = 3;\n",
    "\n",
    "StringBuffer response = new StringBuffer();\n",
    "\n",
    "int ret_code = g2engine.findPathByEntityID(\n",
    "                            entityIDStart,\n",
    "                            entityIDEnd,\n",
    "                            maxDegree, \n",
    "                            g2EngineFlags, \n",
    "                            response);\n",
    "\n",
    "if(ret_code!=0)\n",
    "    System.out.print(g2engine.getLastException());\n",
    "else\n",
    "    RenderJSON(response);"
   ]
  },
  {
   "cell_type": "markdown",
   "metadata": {},
   "source": [
    "#### findPathByRecordID\n",
    "\n",
    "The `findPathByRecordID()` function\n",
    "can be used to find single relationship paths between two entities.\n",
    "Paths are found using known relationships with other entities.\n",
    "\n",
    "###### Parameters\n",
    "\n",
    "- **dataSourceCodeStart:** (str) The data source for the starting entity of the\n",
    "  search path\n",
    "- **dataSourceCodeEnd:** (str) The data source for the ending entity of the search\n",
    "  path\n",
    "- **recordIDStart:** (int) The record ID for the starting entity of the search path\n",
    "- **recordIDEnd:** (int) The record ID for the ending entity of the search path\n",
    "- **maxDegree:** (int) The number of relationship degrees to search\n",
    "- **g2EngineFlags:** (long) Control flags for specifying what data about the entity to retrieve\n",
    "\n",
    "- **response:** (StringBuffer) Object to store the output of the method. Can be used to print or store for later.\n",
    "\n",
    "The functions return a JSON document that identifies the path between the\n",
    "entities,\n",
    "and the information on the entities in question.\n",
    "The document contains a section called \"ENTITY_PATHS\" which gives\n",
    "the path from one entity to the other."
   ]
  },
  {
   "cell_type": "code",
   "execution_count": null,
   "metadata": {
    "scrolled": true
   },
   "outputs": [],
   "source": [
    "String dataSourceCodeStart = dataSourceCode2;\n",
    "String dataSourceCodeEnd = dataSourceCode3;\n",
    "String recordIDStart = recordID2;\n",
    "String recordIDEnd = recordID3;\n",
    "int maxDegree = 3;\n",
    "\n",
    "ret_code = g2engine.findPathByRecordID(\n",
    "                        dataSourceCodeStart,\n",
    "                        recordIDStart,\n",
    "                        dataSourceCodeEnd,\n",
    "                        recordIDEnd,\n",
    "                        maxDegree,\n",
    "                        g2EngineFlags,\n",
    "                        response);\n",
    "\n",
    "if(ret_code!=0)\n",
    "    System.out.print(g2engine.getLastException());\n",
    "else\n",
    "    RenderJSON(response);"
   ]
  },
  {
   "cell_type": "markdown",
   "metadata": {},
   "source": [
    "#### findPathExcludingByEntityID\n",
    "\n",
    "The `findPathExcludingByEntityID()` function can be used to find single relationship paths between two\n",
    "entities.\n",
    "Paths are found using known relationships with other entities.\n",
    "In addition, it will find paths that exclude certain entities from being on\n",
    "the path.\n",
    "\n",
    "\n",
    "When excluding entities, the user may choose to either (a) strictly exclude\n",
    "the entities,\n",
    "or (b) prefer to exclude the entities, but still include them if no other\n",
    "path is found.\n",
    "By default, entities will be strictly excluded.\n",
    "A \"preferred exclude\" may be done by specifying the\n",
    "`G2_FIND_PATH_PREFER_EXCLUDE` control flag.\n",
    "\n",
    "###### Parameters\n",
    "\n",
    "- **entityIDStart:** (int) The entity ID for the starting entity of the search path\n",
    "- **entityIDEnd:** (int) The entity ID for the ending entity of the search path\n",
    "- **maxDegree:** (int) The number of relationship degrees to search\n",
    "- **excludedEntities:** (str) Entities that should be avoided on the path\n",
    "  (JSON document)\n",
    "- **response:** (StringBuffer) Object to store the output of the method. Can be used to print or store for later\n",
    "- **g2EngineFlags:** (long) Operational flags"
   ]
  },
  {
   "cell_type": "code",
   "execution_count": null,
   "metadata": {
    "scrolled": true
   },
   "outputs": [],
   "source": [
    "int maxDegree = 4;\n",
    "String excludedEntities = new String(\"{\\\"ENTITIES\\\":[{\\\"ENTITY_ID\\\":\\\"1\\\"}]}\");\n",
    "\n",
    "StringBuffer response = new StringBuffer();\n",
    "\n",
    "long entityIDStart = entityID2;\n",
    "long entityIDEnd = entityID3;\n",
    "\n",
    "int return_code = g2engine.findPathExcludingByEntityID(\n",
    "                            entityIDStart,\n",
    "                            entityIDEnd,\n",
    "                            maxDegree,\n",
    "                            excludedEntities,\n",
    "                            response);\n",
    "\n",
    "if(ret_code!=0)\n",
    "    System.out.print(g2engine.getLastException());\n",
    "else\n",
    "    RenderJSON(response);"
   ]
  },
  {
   "cell_type": "markdown",
   "metadata": {},
   "source": [
    "#### findPathExcludingByRecordID\n",
    "\n",
    "The `findPathExcludingByRecordID()`\n",
    "function can be used to find single relationship paths between two\n",
    "entities.\n",
    "Paths are found using known relationships with other entities.\n",
    "In addition, it will find paths that exclude certain entities from being on\n",
    "the path.\n",
    "\n",
    "When excluding entities, the user may choose to either (a) strictly exclude\n",
    "the entities,\n",
    "or (b) prefer to exclude the entities, but still include them if no other\n",
    "path is found.\n",
    "By default, entities will be strictly excluded.\n",
    "A \"preferred exclude\" may be done by specifying the\n",
    "`G2_FIND_PATH_PREFER_EXCLUDE` control flag.\n",
    "\n",
    "###### Parameters\n",
    "\n",
    "- **dataSourceCodeStart:** (str) The data source for the starting entity of the\n",
    "  search path\n",
    "- **dataSourceCodeEnd:** (str) The data source for the ending entity of the search\n",
    "  path\n",
    "- **recordIDStart:** (str) The record ID for the starting entity of the search path\n",
    "- **recordIDEnd:** (str) The record ID for the ending entity of the search path\n",
    "- **maxDegree:** (int) The number of relationship degrees to search\n",
    "- **excludedEntities:** (str) Entities that should be avoided on the path\n",
    "  (JSON document)\n",
    "- **response:** (StringBuffer) Object to store the output of the method. Can be used to print or store for later.\n",
    "- **g2EngineFlags:** (long) Operational flags\n"
   ]
  },
  {
   "cell_type": "code",
   "execution_count": null,
   "metadata": {
    "scrolled": true
   },
   "outputs": [],
   "source": [
    "String dataSourceCodeStart = dataSourceCode2;\n",
    "String dataSourceCodeEnd = dataSourceCode3;\n",
    "String recordIDStart = recordID2;\n",
    "String recordIDEnd = recordID3;\n",
    "StringBuffer response = new StringBuffer();\n",
    "\n",
    "String excludedRecords = new String(\"{\\\"RECORDS\\\":[{\\\"RECORD_ID\\\":\\\"1\\\",\\\"DATA_SOURCE\\\":\\\"TEST\\\"}]}\");\n",
    "\n",
    "return_code = g2engine.findPathExcludingByRecordID(\n",
    "                        dataSourceCodeStart,\n",
    "                        recordIDStart,\n",
    "                        dataSourceCodeEnd,\n",
    "                        recordIDEnd,\n",
    "                        maxDegree,\n",
    "                        excludedRecords,\n",
    "                        response);\n",
    "\n",
    "if(return_code!=0)\n",
    "    System.out.print(g2engine.getLastException());\n",
    "else\n",
    "    RenderJSON(response);"
   ]
  },
  {
   "cell_type": "markdown",
   "metadata": {},
   "source": [
    "### Finding Paths with Required Sources"
   ]
  },
  {
   "cell_type": "markdown",
   "metadata": {},
   "source": [
    "#### findPathIncludingSourceByEntityID\n",
    "\n",
    "The `findPathIncludingSourceByEntityID()` function\n",
    "can be used to find single relationship paths between two entities.\n",
    "In addition, one of the enties along the path must include a specified data\n",
    "source.\n",
    "\n",
    "Specific entities may also be excluded, using the same methodology as the\n",
    "`findPathExcludingByEntityID()` and `findPathExcludingByRecordID()`\n",
    "functions use.\n",
    "\n",
    "###### Parameters\n",
    "\n",
    "- **entityIDStart:** (int) The entity ID for the starting entity of the search path\n",
    "- **entityIDEnd:** (int) The entity ID for the ending entity of the search path\n",
    "- **maxDegree:** (int) The number of relationship degrees to search\n",
    "- **excludedEntities:** (str) Entities that should be avoided on the path\n",
    "  (JSON document)\n",
    "- **requiredDsrcs:** (str) Entities that should be avoided on the path\n",
    "  (JSON document)\n",
    "- **response:** (StringBuffer) Object to store the output of the method. Can be used to print or store for later\n",
    "- **g2EngineFlags:** (long) Operational flags\n"
   ]
  },
  {
   "cell_type": "code",
   "execution_count": null,
   "metadata": {
    "scrolled": false
   },
   "outputs": [],
   "source": [
    "int maxDegree = 4;\n",
    "String excludedEntities = new String(\"{\\\"ENTITIES\\\":[{\\\"ENTITY_ID\\\":\\\"1\\\"}]}\");\n",
    "String requiredDsrcs = new String(\"{\\\"DATA_SOURCES\\\":[\\\"TEST\\\"]}\");\n",
    "\n",
    "StringBuffer response = new StringBuffer();\n",
    "\n",
    "int ret_code = g2engine.findPathIncludingSourceByEntityID(\n",
    "                            entityIDStart,\n",
    "                            entityIDEnd,\n",
    "                            maxDegree,\n",
    "                            excludedEntities,\n",
    "                            requiredDsrcs,\n",
    "                            response);\n",
    "\n",
    "if(return_code!=0)\n",
    "    System.out.print(g2engine.getLastException());\n",
    "else\n",
    "    RenderJSON(response);"
   ]
  },
  {
   "cell_type": "markdown",
   "metadata": {},
   "source": [
    "#### findPathIncludingSourceByRecordID\n",
    "\n",
    "\n",
    "The \n",
    "`findPathIncludingSourceByRecordID()` function\n",
    "can be used to find single relationship paths between two entities.\n",
    "In addition, one of the enties along the path must include a specified data\n",
    "source.\n",
    "\n",
    "Specific entities may also be excluded, using the same methodology as the\n",
    "`findPathExcludingByEntityID()` and `findPathExcludingByRecordID()`\n",
    "functions use.\n",
    "\n",
    "###### Parameters\n",
    "\n",
    "- **dataSourceCodeStart:** (str) The data source for the starting entity of the\n",
    "  search path\n",
    "- **dataSourceCodeEnd:** (str) The data source for the ending entity of the search\n",
    "  path\n",
    "- **recordIDStart:** (str) The record ID for the starting entity of the search\n",
    "  path\n",
    "- **recordIDEnd:** (str) The record ID for the ending entity of the search path\n",
    "- **maxDegree:** (int) The number of relationship degrees to search\n",
    "- **excludedEntities:** (str) Entities that should be avoided on the path\n",
    "  (JSON document)\n",
    "- **requiredDsrcs:** (str) Entities that should be avoided on the path\n",
    "  (JSON document)\n",
    "- **response:** (StringBuffer) Object to store the output of the method. Can be used to print or store for later\n",
    "- **g2EngineFlags:** (long) Operational flags\n"
   ]
  },
  {
   "cell_type": "code",
   "execution_count": null,
   "metadata": {},
   "outputs": [],
   "source": [
    "StringBuffer response = new StringBuffer();\n",
    "\n",
    "int return_code = g2engine.findPathIncludingSourceByRecordID(\n",
    "                            dataSourceCodeStart,\n",
    "                            recordIDStart,\n",
    "                            dataSourceCodeEnd,\n",
    "                            recordIDEnd,\n",
    "                            maxDegree,\n",
    "                            excludedEntities,\n",
    "                            requiredDsrcs,\n",
    "                            response);\n",
    "\n",
    "if(return_code!=0)\n",
    "    System.out.print(g2engine.getLastException());\n",
    "else\n",
    "    RenderJSON(response);"
   ]
  },
  {
   "cell_type": "markdown",
   "metadata": {},
   "source": [
    "### Finding Networks\n",
    "\n",
    "The `findNetworkByEntityID()` and `findNetworkByRecordID()` functions\n",
    "can be used to find all entities surrounding a requested set of entities.\n",
    "This includes the requested entities, paths between them, and relations to\n",
    "other nearby entities.\n",
    "\n",
    "Entities can be searched for by either Entity ID or by Record ID,\n",
    "depending on which function is chosen.\n",
    "\n",
    "These functions have the following parameters:\n",
    "\n",
    "- **entityList:** (str) A list of entities, specified by Entity ID\n",
    "  (JSON document)\n",
    "- **recordList:** (str) A list of entities, specified by Record ID\n",
    "  (JSON document)\n",
    "- **maxDegree:** (int) The maximum number of degrees in paths between search\n",
    "  entities\n",
    "- **buildoutDegree:** (int) The number of degrees of relationships to show around\n",
    "  each search entity\n",
    "- **maxEntities:** (int) The maximum number of entities to return in the\n",
    "  discovered network\n",
    "- **flags:** (int) Control flags for specifying what data about the\n",
    "  entity to retrieve.\n",
    "- **response:** (StringBuffer) A memory buffer for returning the response\n",
    "  document; if an error occurred, an error response is stored here.\n",
    "  \n",
    "They also have various arguments used to return response documents\n",
    "\n",
    "The functions return a JSON document that identifies the path between the\n",
    "each set of search entities (if the path exists), and the information on the\n",
    "entities in question (search entities, path entities, and build-out entities."
   ]
  },
  {
   "cell_type": "markdown",
   "metadata": {},
   "source": [
    "#### findNetworkByEntityID\n",
    "\n",
    "The `findNetworkByEntityID()` function\n",
    "can be used to find all entities surrounding a requested set of entities.\n",
    "This includes the requested entities, paths between them, and relations to\n",
    "other nearby entities.\n",
    "\n",
    "###### Parameters\n",
    "\n",
    "- **maxDegree:** (int) The maximum number of degrees in paths between search\n",
    "  entities\n",
    "- **buildoutDegree:** (int) The number of degrees of relationships to show around\n",
    "  each search entity\n",
    "- **maxEntities:** (int) The maximum number of entities to return in the\n",
    "  discovered network\n",
    "- **response:** (StringBuffer) Object to store the output of the method. Can be used to print or store for later\n",
    "\n",
    "The functions return a JSON document that identifies the path between the\n",
    "each set of search entities (if the path exists), and the information on the\n",
    "entities in question (search entities, path entities, and build-out entities."
   ]
  },
  {
   "cell_type": "code",
   "execution_count": null,
   "metadata": {
    "scrolled": true
   },
   "outputs": [],
   "source": [
    "StringBuffer response = new StringBuffer();\n",
    "int maxDegree = 2;\n",
    "int buildoutDegree = 1;\n",
    "int maxEntities = 12;\n",
    "String entityList = \"{\\\"ENTITIES\\\": [{\\\"ENTITY_ID\\\":\"+entityID+\"}, {\\\"ENTITY_ID\\\":\"+entityID2+\"}]}\";\n",
    "\n",
    "int return_code = g2engine.findNetworkByEntityID(\n",
    "                            entityList, \n",
    "                            maxDegree, \n",
    "                            buildoutDegree, \n",
    "                            maxEntities,\n",
    "                            response);\n",
    "if(return_code!=0)\n",
    "    System.out.print(g2engine.getLastException());\n",
    "else\n",
    "    RenderJSON(response);"
   ]
  },
  {
   "cell_type": "markdown",
   "metadata": {},
   "source": [
    "#### findNetworkByRecordID\n",
    "\n",
    "The `findNetworkByRecordID()` function\n",
    "can be used to find all entities surrounding a requested set of entities.\n",
    "This includes the requested entities, paths between them, and relations to\n",
    "other nearby entities.\n",
    "\n",
    "###### Parameters\n",
    "\n",
    "- **recordList:** (str) A list of entities, specified by Record ID\n",
    "  (JSON document)\n",
    "- **maxDegree:** (int) The maximum number of degrees in paths between search\n",
    "  entities\n",
    "- **buildoutDegree:** (int) The number of degrees of relationships to show around\n",
    "  each search entity\n",
    "- **maxEntities:** (int) The maximum number of entities to return in the\n",
    "  discovered network\n",
    "- **response:** (StringBuffer) Object to store the output of the method. Can be used to print or store for later\n",
    "\n",
    "The functions return a JSON document that identifies the path between the\n",
    "each set of search entities (if the path exists), and the information on the\n",
    "entities in question (search entities, path entities, and build-out entities."
   ]
  },
  {
   "cell_type": "code",
   "execution_count": null,
   "metadata": {
    "scrolled": true
   },
   "outputs": [],
   "source": [
    "StringBuffer response = new StringBuffer();\n",
    "int maxDegree = 2;\n",
    "int buildoutDegree = 1;\n",
    "int maxEntities = 12;\n",
    "String recordList = \"{\\\"RECORDS\\\": [{\\\"RECORD_ID\\\": \\\"\"+recordID1+\"\\\", \\\"DATA_SOURCE\\\": \\\"\"+dataSourceCode1+\"\\\" }, {\\\"RECORD_ID\\\": \\\"\"+recordID2+\"\\\", \\\"DATA_SOURCE\\\": \\\"\"+dataSourceCode2+\"\\\" }]}\";\n",
    "\n",
    "int return_code = g2engine.findNetworkByRecordID(\n",
    "                            recordList, \n",
    "                            maxDegree, \n",
    "                            buildoutDegree, \n",
    "                            maxEntities, \n",
    "                            response);\n",
    "if(return_code!=0)\n",
    "    System.out.print(g2engine.getLastException());\n",
    "else\n",
    "    RenderJSON(response);"
   ]
  },
  {
   "cell_type": "markdown",
   "metadata": {},
   "source": [
    "## Connection details"
   ]
  },
  {
   "cell_type": "markdown",
   "metadata": {},
   "source": [
    "### findInterestingEntities\n",
    "\n",
    "`findInterestingEntitiesByEntityID` and `findInterestingEntitiesByRecordID` are early adopter features, contact support for their use."
   ]
  },
  {
   "cell_type": "markdown",
   "metadata": {},
   "source": [
    "The `whyEntities()`, `whyRecords()`, `whyEntityByRecordID()`,`whyEntityByEntityID()`, and `howEntityByEntityID()` functions can be used\n",
    "to determine why and how records belong to their resolved entities.\n",
    "These functions will compare the record data within an entity against the\n",
    "rest of the entity data, and show why they are connected.\n",
    "This is calculated based on the features that record data represents.\n",
    "\n",
    "###### Parameters\n",
    "\n",
    "- **dataSourceCode:** (str) The data source for the record to be analyzed\n",
    "- **entityID:** (int) The entity ID for the entity to be analyzed\n",
    "- **recordID:** (str) The record ID for the record to be analyzed\n",
    "- **response:** (StringBuffer) Object to store the output of the method. Can be used to print or store for later\n",
    "- **g2EngineFlags:** (long) Operational flags\n",
    "\n",
    "The function returns a JSON document that gives the results of the record\n",
    "analysis.\n",
    "The document contains a section called \"WHY_RESULTS\",\n",
    "which shows how specific records relate to the rest of the entity.\n",
    "It has a \"WHY_KEY\", which is similar to a match key, in defining the relevant\n",
    "connected data.\n",
    "It shows candidate keys for features that initially cause the records\n",
    "to be analyzed for a relationship,\n",
    "plus a series of feature scores that show how similar the feature data was.\n",
    "\n",
    "The response document also contains a separate ENTITIES section,\n",
    "with the full information about the resolved entity.\n",
    "(Note: When working with this entity data,\n",
    "Senzing recommends using the flags `G2_ENTITY_OPTION_INCLUDE_INTERNAL_FEATURES`\n",
    "and `G2_ENTITY_OPTION_INCLUDE_FEATURE_STATS`.\n",
    "This will provide detailed feature data that is not included by default,\n",
    "but is useful for understanding the WHY_RESULTS data.)"
   ]
  },
  {
   "cell_type": "markdown",
   "metadata": {},
   "source": [
    "### whyEntities\n",
    "\n",
    "\n",
    "###### Parameters\n",
    "\n",
    "- **entityID1:** (int) The entity ID for the first entity to be analyzed\n",
    "- **entityID2:** (int) The entity ID for the second entity to be analyzed\n",
    "- **response:** (StringBuffer) Object to store the output of the method. Can be used to print or store for later."
   ]
  },
  {
   "cell_type": "code",
   "execution_count": null,
   "metadata": {},
   "outputs": [],
   "source": [
    "StringBuffer response = new StringBuffer();\n",
    "\n",
    "int return_code = g2engine.whyEntities(\n",
    "                            entityID1,\n",
    "                            entityID2,\n",
    "                            response);\n",
    "if(return_code!=0)\n",
    "    System.out.print(g2engine.getLastException());\n",
    "else\n",
    "    RenderJSON(response);       "
   ]
  },
  {
   "cell_type": "markdown",
   "metadata": {},
   "source": [
    "### whyRecords\n",
    "\n",
    "###### Parameters\n",
    "\n",
    "- **dataSourceCode1:** (str) The name of the first data source the record\n",
    "  is associated with.\n",
    "  This value is configurable to the system\n",
    "- **recordID1:** (int) The record ID for the first record to be analyzed\n",
    "- **dataSourceCode2:** (str) The name of the second data source the record\n",
    "  is associated with.\n",
    "  This value is configurable to the system\n",
    "- **recordID2:** (int) The record ID for the second record to be analyzed\n",
    "- **response:** (StringBuffer) Object to store the output of the method. Can be used to print or store for later."
   ]
  },
  {
   "cell_type": "code",
   "execution_count": null,
   "metadata": {},
   "outputs": [],
   "source": [
    "StringBuffer response = new StringBuffer();\n",
    "\n",
    "int return_code = g2engine.whyRecords(\n",
    "                            dataSourceCode1,\n",
    "                            recordID1,\n",
    "                            dataSourceCode2,\n",
    "                            recordID2,\n",
    "                            response);\n",
    "if(return_code!=0)\n",
    "    System.out.print(g2engine.getLastException());\n",
    "else\n",
    "    RenderJSON(response);       "
   ]
  },
  {
   "cell_type": "markdown",
   "metadata": {},
   "source": [
    "### whyEntityByEntityID\n",
    "\n",
    "###### Parameters\n",
    "\n",
    "- **entityID:** (int) The entity ID for the entity to be analyzed\n",
    "- **response:** (StringBuffer) Object to store the output of the method. Can be used to print or store for later."
   ]
  },
  {
   "cell_type": "code",
   "execution_count": null,
   "metadata": {},
   "outputs": [],
   "source": [
    "StringBuffer response = new StringBuffer();\n",
    "\n",
    "\n",
    "int return_code = g2engine.whyEntityByEntityID(entityID1,response);\n",
    "\n",
    "\n",
    "if(return_code!=0)\n",
    "    System.out.print(g2engine.getLastException());\n",
    "else\n",
    "    RenderJSON(response);"
   ]
  },
  {
   "cell_type": "markdown",
   "metadata": {},
   "source": [
    "### whyEntityByRecordID\n",
    "\n",
    "###### Parameters\n",
    "\n",
    "- **dataSourceCode:** (str) The name of the data source the record\n",
    "  is associated with.\n",
    "  This value is configurable to the system\n",
    "- **recordID:** (int) The record ID for the record to be analyzed\n",
    "- **response:** (StringBuffer) Object to store the output of the method. Can be used to print or store for later."
   ]
  },
  {
   "cell_type": "code",
   "execution_count": null,
   "metadata": {},
   "outputs": [],
   "source": [
    "StringBuffer response = new StringBuffer();\n",
    "\n",
    "int return_code = g2engine.whyEntityByRecordID(\n",
    "                            dataSourceCode1,\n",
    "                            recordID1,\n",
    "                            response);\n",
    "\n",
    "if(return_code!=0)\n",
    "    System.out.print(g2engine.getLastException());\n",
    "else\n",
    "    RenderJSON(response);"
   ]
  },
  {
   "cell_type": "markdown",
   "metadata": {},
   "source": [
    "### howEntityByEntityID\n",
    "\n",
    "###### Parameters\n",
    "\n",
    "- **entity_id:** (int) The entity ID for the entity to be analyzed\n",
    "- **response:** (StringBuffer) Object to store the output of the method. Can be used to print or store for later."
   ]
  },
  {
   "cell_type": "markdown",
   "metadata": {},
   "source": [
    "Create some records to show resolution steps"
   ]
  },
  {
   "cell_type": "code",
   "execution_count": null,
   "metadata": {},
   "outputs": [],
   "source": [
    "String data1 =  \"{\\\"NAME_TYPE\\\": \\\"PRIMARY\\\", \\\"NAME_FIRST\\\": \\\"Joe\\\", \\\"NAME_LAST\\\": \\\"Schmoe\\\", \\\"SSN_NUMBER\\\": \\\"111-22-3456\\\", \\\"DOB\\\": \\\"03-22-1982\\\"}\";\n",
    "String data2 =  \"{\\\"NAME_TYPE\\\": \\\"PRIMARY\\\", \\\"NAME_FIRST\\\": \\\"Joe\\\", \\\"NAME_LAST\\\": \\\"Schmoe\\\", \\\"SSN_NUMBER\\\": \\\"111-22-3456\\\", \\\"CITIZENSHIP\\\": \\\"British\\\"}\";\n",
    "String data3 =  \"{\\\"NAME_TYPE\\\": \\\"PRIMARY\\\", \\\"NAME_FIRST\\\": \\\"Joe\\\", \\\"NAME_LAST\\\": \\\"Schmoe\\\", \\\"SSN_NUMBER\\\": \\\"111-22-3456\\\", \\\"NATIONALITY\\\": \\\"Australian\\\"}\";\n",
    "\n",
    "String recordID1 = \"10\";\n",
    "String recordID2 = \"11\";\n",
    "String recordID3 = \"12\";\n",
    "String dataSourceCode = \"TEST\";\n",
    "\n",
    "g2engine.addRecord(dataSourceCode, recordID1, data1, loadID);\n",
    "g2engine.addRecord(dataSourceCode, recordID2, data2, loadID);\n",
    "g2engine.addRecord(dataSourceCode, recordID3, data3, loadID);\n",
    "\n",
    "StringBuffer response = new StringBuffer();\n",
    "\n",
    "g2engine.getEntityByRecordID(dataSourceCode, recordID1, g2EngineFlags, response);\n",
    "JsonObject jsonObject = JsonUtil.parseJsonObject(response.toString());\n",
    "long entityID = jsonObject.getJsonObject(\"RESOLVED_ENTITY\").getJsonNumber(\"ENTITY_ID\").longValue();"
   ]
  },
  {
   "cell_type": "code",
   "execution_count": null,
   "metadata": {},
   "outputs": [],
   "source": [
    "StringBuffer response = new StringBuffer();\n",
    "\n",
    "int return_code = g2engine.howEntityByEntityID(\n",
    "                            entityID,\n",
    "                            response);\n",
    "                            \n",
    "if(return_code!=0)\n",
    "    System.out.print(g2engine.getLastException());\n",
    "else\n",
    "    RenderJSON(response);"
   ]
  },
  {
   "cell_type": "markdown",
   "metadata": {},
   "source": [
    "## Reporting\n",
    "\n",
    "Exporting entity data from resolved entities is one of the core purposes of\n",
    "Senzing software.\n",
    "In just a few short steps, the Senzing engine allows users to export entity\n",
    "data in either JSON or CSV format."
   ]
  },
  {
   "cell_type": "markdown",
   "metadata": {},
   "source": [
    "### exportJSONEntityReport\n",
    "\n",
    "There are three steps to exporting resolved entity data from the G2Engine\n",
    "object in JSON format.\n",
    "First, use the `exportJSONEntityReport()` method to generate the `exportHandle`.\n",
    "\n",
    "###### Parameters\n",
    "\n",
    "- **g2EngineFlags**: (int) An integer specifying which entity details should be\n",
    "  included in the export.\n",
    "- **exportHandle:** (long) A long from which resolved entity data may be"
   ]
  },
  {
   "cell_type": "code",
   "execution_count": null,
   "metadata": {
    "scrolled": true
   },
   "outputs": [],
   "source": [
    "StringBuffer response = new StringBuffer();\n",
    "Result<Long> exportHandle = new Result<Long>();\n",
    "\n",
    "long g2EngineFlags = g2engine.G2_EXPORT_DEFAULT_FLAGS;\n",
    "int return_code = g2engine.exportJSONEntityReport(g2EngineFlags, exportHandle);\n",
    "\n",
    "if(return_code!=0)\n",
    "    System.out.print(g2engine.getLastException());\n",
    "else\n",
    "    System.out.print(return_code);"
   ]
  },
  {
   "cell_type": "markdown",
   "metadata": {},
   "source": [
    "### fetchNext\n",
    "\n",
    "Second, use the `fetchNext()` method to read the exportHandle and export a\n",
    "row of JSON output containing the entity data for a single entity.\n",
    "Note that successive calls of `fetchNext()` will export successive rows of\n",
    "entity data.\n",
    "\n",
    "###### Parameters\n",
    "\n",
    "- **exportHandle:** (long) A long from which resolved entity data may be\n",
    "  read and exported.\n",
    "- **response:** (StringBuffer) Object to store the output of the method. Can be used to print or store for later"
   ]
  },
  {
   "cell_type": "code",
   "execution_count": null,
   "metadata": {
    "scrolled": true
   },
   "outputs": [],
   "source": [
    "while(true){\n",
    "    StringBuffer response = new StringBuffer();\n",
    "    int return_code = g2engine.fetchNext(exportHandle.getValue(), response);\n",
    "    if(return_code != 0){\n",
    "        System.out.print(g2engine.getLastException());\n",
    "        break;\n",
    "    }\n",
    "    if(response.length() == 0){\n",
    "        break;\n",
    "    }\n",
    "    System.out.println(response.toString());\n",
    "}"
   ]
  },
  {
   "cell_type": "markdown",
   "metadata": {},
   "source": [
    "### closeExport\n",
    "\n",
    "###### Parameters\n",
    "\n",
    "- **exportHandle:** (long) A long from which resolved entity data may be\n",
    "  read and exported."
   ]
  },
  {
   "cell_type": "code",
   "execution_count": null,
   "metadata": {},
   "outputs": [],
   "source": [
    "int return_code = g2engine.closeExport(exportHandle.getValue());\n",
    "\n",
    "if(return_code!=0)\n",
    "    System.out.print(g2engine.getLastException());\n",
    "else\n",
    "    System.out.print(return_code);"
   ]
  },
  {
   "cell_type": "markdown",
   "metadata": {},
   "source": [
    "### exportCSVEntityReport\n",
    "\n",
    "There are three steps to exporting resolved entity data from the G2Engine\n",
    "object in CSV format.\n",
    "First, use the `exportCSVEntityReport()` method to generate a long integer,\n",
    "referred to here as an 'exportHandle'.\n",
    "\n",
    "###### Parameters\n",
    "\n",
    "- **headers:** (str) A comma-separated list of column names for the CSV\n",
    "  export. (These are listed a little further down.)\n",
    "- **g2EngineFlags:** (long) An integer specifying which entity details should be\n",
    "  included in the export.\n",
    "  See the \"Entity Export Flags\" section in the link below for further details.\n",
    "- **exportHandle:** (long) A long from which resolved entity data may be\n",
    "  read and exported.\n",
    "  \n",
    "Second, use the `fetchNext()` method to read the exportHandle and export a\n",
    "row of CSV output containing the entity data for a single entity.\n",
    "Note that the first call of `fetchNext()` will yield a header row,\n",
    "and that successive calls of `fetchNext()` will export successive rows of\n",
    "entity data."
   ]
  },
  {
   "cell_type": "code",
   "execution_count": null,
   "metadata": {
    "scrolled": true
   },
   "outputs": [],
   "source": [
    "String headers = \"RESOLVED_ENTITY_ID,RESOLVED_ENTITY_NAME,RELATED_ENTITY_ID,MATCH_LEVEL,MATCH_KEY,IS_DISCLOSED,IS_AMBIGUOUS,DATA_SOURCE,RECORD_ID,JSON_DATA,LAST_SEEN_DT,NAME_DATA,ATTRIBUTE_DATA,IDENTIFIER_DATA,ADDRESS_DATA,PHONE_DATA,RELATIONSHIP_DATA,ENTITY_DATA,OTHER_DATA\";\n",
    "Result<Long> exportHandle = new Result<Long>();\n",
    "StringBuffer response = new StringBuffer();\n",
    "\n",
    "g2engine.exportCSVEntityReport(headers, g2EngineFlags, exportHandle);\n",
    "\n",
    "while(true){\n",
    "    StringBuffer response = new StringBuffer();\n",
    "    int return_code = g2engine.fetchNext(exportHandle.getValue(), response);\n",
    "    if(return_code != 0){\n",
    "        System.out.print(g2engine.getLastException());\n",
    "        break;\n",
    "    }\n",
    "    if(response.length() == 0){\n",
    "        break;\n",
    "    }\n",
    "    System.out.println(response.toString());\n",
    "}\n",
    "g2engine.closeExport(exportHandle.getValue());"
   ]
  },
  {
   "cell_type": "markdown",
   "metadata": {},
   "source": [
    "## Cleanup"
   ]
  },
  {
   "cell_type": "markdown",
   "metadata": {},
   "source": [
    "### purgeRepository\n",
    "\n",
    "**Before** calling `purgeRepository()` all other instances of the Senzing API (whether in custom code, REST API, stream-loader, redoer, G2Loader, etc) **MUST** be destroyed or shutdown."
   ]
  },
  {
   "cell_type": "code",
   "execution_count": null,
   "metadata": {},
   "outputs": [],
   "source": [
    "int return_code= g2engine.purgeRepository();\n",
    "if(return_code!=0)\n",
    "    System.out.print(g2engine.getLastException());\n",
    "else\n",
    "    System.out.print(return_code)"
   ]
  },
  {
   "cell_type": "markdown",
   "metadata": {},
   "source": [
    "### destroy\n",
    "Once all searching is done in a process call `destroy()` to uninitialize Senzing and clean up resources. You should always do this once at the end of each process."
   ]
  },
  {
   "cell_type": "code",
   "execution_count": null,
   "metadata": {
    "scrolled": true
   },
   "outputs": [],
   "source": [
    "int return_code = g2engine.destroy();\n",
    "\n",
    "if(return_code!=0)\n",
    "    System.out.print(g2engine.getLastException());\n",
    "else\n",
    "    System.out.print(return_code);"
   ]
  }
 ],
 "metadata": {
  "finalized": {
   "timestamp": 1577474557387,
   "trusted": true
  },
  "kernelspec": {
   "display_name": "Java",
   "language": "java",
   "name": "java"
  },
  "language_info": {
   "codemirror_mode": "java",
   "file_extension": ".jshell",
   "mimetype": "text/x-java-source",
   "name": "Java",
   "pygments_lexer": "java",
   "version": "11.0.15+10-Ubuntu-0ubuntu0.20.04.1"
  },
  "toc": {
   "base_numbering": 1,
   "nav_menu": {},
   "number_sections": true,
   "sideBar": true,
   "skip_h1_title": true,
   "title_cell": "Table of Contents",
   "title_sidebar": "Contents",
   "toc_cell": false,
   "toc_position": {
    "height": "calc(100% - 180px)",
    "left": "10px",
    "top": "150px",
    "width": "248.8px"
   },
   "toc_section_display": true,
   "toc_window_display": true
  }
 },
 "nbformat": 4,
 "nbformat_minor": 2
}
