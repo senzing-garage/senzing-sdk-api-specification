{
 "cells": [
  {
   "cell_type": "markdown",
   "id": "80a49859",
   "metadata": {},
   "source": [
    "# G2Product Reference"
   ]
  },
  {
   "cell_type": "markdown",
   "id": "d503752e",
   "metadata": {},
   "source": [
    "## Prepare Environment"
   ]
  },
  {
   "cell_type": "code",
   "execution_count": null,
   "id": "6f946277",
   "metadata": {},
   "outputs": [],
   "source": [
    "import com.senzing.g2.engine.G2Product;\n",
    "import com.senzing.g2.engine.G2ProductJNI;"
   ]
  },
  {
   "cell_type": "markdown",
   "id": "e39aae37",
   "metadata": {},
   "source": [
    "### Helper class for Json Rendering"
   ]
  },
  {
   "cell_type": "code",
   "execution_count": null,
   "id": "039dda2e",
   "metadata": {},
   "outputs": [],
   "source": [
    "%%loadFromPOM\n",
    "<dependency>\n",
    "    <groupId>org.glassfish</groupId>\n",
    "    <artifactId>javax.json</artifactId>\n",
    "    <version>1.1.4</version>\n",
    "</dependency>"
   ]
  },
  {
   "cell_type": "code",
   "execution_count": null,
   "id": "76d31eac",
   "metadata": {},
   "outputs": [],
   "source": [
    "import javax.json.*;\n",
    "import static java.util.Collections.*;\n",
    "import static javax.json.stream.JsonGenerator.PRETTY_PRINTING;"
   ]
  },
  {
   "cell_type": "code",
   "execution_count": null,
   "id": "199ba3f0",
   "metadata": {},
   "outputs": [],
   "source": [
    "public class JsonUtil {\n",
    "    private static final JsonWriterFactory PRETTY_FACTORY\n",
    "        = Json.createWriterFactory(singletonMap(PRETTY_PRINTING, true));\n",
    "        \n",
    "    private static final JsonWriterFactory UGLY_FACTORY\n",
    "        = Json.createWriterFactory(emptyMap());\n",
    "    \n",
    "    public static String toJsonText(JsonValue val) {\n",
    "        return toJsonText(val, true);\n",
    "    }\n",
    "\n",
    "    public static String toJsonText(JsonValue val, boolean prettyPrint) {\n",
    "        JsonWriterFactory factory = (prettyPrint) ? PRETTY_FACTORY : UGLY_FACTORY;\n",
    "        StringWriter sw = new StringWriter();\n",
    "        JsonWriter writer = factory.createWriter(sw);\n",
    "        writer.write(val);\n",
    "        sw.flush();\n",
    "        return sw.toString();\n",
    "    }\n",
    "    \n",
    "    public static JsonObject parseJsonObject(String jsonText) {\n",
    "        if (jsonText == null) return null;\n",
    "        StringReader sr = new StringReader(jsonText);\n",
    "        JsonReader jsonReader = Json.createReader(sr);\n",
    "        return jsonReader.readObject();\n",
    "  }\n",
    "\n",
    "    public static JsonArray parseJsonArray(String jsonText) {\n",
    "        if (jsonText == null) return null;\n",
    "        StringReader sr = new StringReader(jsonText);\n",
    "        JsonReader jsonReader = Json.createReader(sr);\n",
    "        return jsonReader.readArray();\n",
    "  }\n",
    "    \n",
    "    \n",
    "}"
   ]
  },
  {
   "cell_type": "code",
   "execution_count": null,
   "id": "c181743e",
   "metadata": {},
   "outputs": [],
   "source": [
    "import java.util.UUID;\n",
    "String str;\n",
    "public static void RenderJSON(Object obj){\n",
    "    str = obj.toString();\n",
    "    JsonObject json = JsonUtil.parseJsonObject(str);\n",
    "    String Config = JsonUtil.toJsonText(json, false);\n",
    "    UUID id = UUID.randomUUID();\n",
    "    String uuid = id.toString();\n",
    "    String div = \"<div id=\\\"\"+ uuid +\"\\\" style=\\\"height:100%; width:100%; background-color: LightCyan\\\"></div>\";\n",
    "    display(div, \"text/html\");\n",
    "    String jav = \"require([\\\"https://rawgit.com/caldwell/renderjson/master/renderjson.js\\\"], function() {document.getElementById(\\'\"+ uuid +\"\\').appendChild(renderjson(\"+json+\"))});\";\n",
    "    display(jav, \"application/javascript\");\n",
    "}"
   ]
  },
  {
   "cell_type": "markdown",
   "id": "7d624afc",
   "metadata": {},
   "source": [
    "### Initialize Senzing configuration\n",
    "\n",
    "Using environment variables and default values, create `senzingConfigJson`.\n",
    "This value is used when instantiating Senzing objects."
   ]
  },
  {
   "cell_type": "code",
   "execution_count": null,
   "id": "7680c315",
   "metadata": {},
   "outputs": [],
   "source": [
    "// Get variables used in constructing Senzing Engine configuration.\n",
    "\n",
    "String configPath = System.getenv(\"SENZING_ETC_DIR\");\n",
    "if (configPath == null) {\n",
    "    configPath = \"/etc/opt/senzing\";\n",
    "}\n",
    "\n",
    "String supportPath = System.getenv(\"SENZING_DATA_VERSION_DIR\");\n",
    "if (supportPath == null) {\n",
    "    supportPath = \"/opt/senzing/data\";\n",
    "}\n",
    "\n",
    "String g2Path = System.getenv(\"SENZING_G2_DIR\");\n",
    "if (g2Path == null) {\n",
    "    g2Path = \"/opt/senzing/g2\";\n",
    "}\n",
    "\n",
    "String resourcePath = g2Path + \"/resources\";\n",
    "\n",
    "String sqlConnection = System.getenv(\"SENZING_SQL_CONNECTION\");\n",
    "if (sqlConnection == null) {\n",
    "    sqlConnection = \"sqlite3://na:na@/var/opt/senzing/sqlite/G2C.db\";\n",
    "}\n",
    "\n",
    "// Construct the JSON string used for Senzing Engine configuration.\n",
    "\n",
    "String senzingConfigJson = \"{\"\n",
    "   + \"\\\"PIPELINE\\\": {\"\n",
    "   +     \"\\\"CONFIGPATH\\\": \\\"\" + configPath + \"\\\",\"\n",
    "   +     \"\\\"SUPPORTPATH\\\": \\\"\" + supportPath + \"\\\",\"\n",
    "   +     \"\\\"RESOURCEPATH\\\": \\\"\" + resourcePath + \"\\\"\"\n",
    "   + \"},\"\n",
    "   + \"\\\"SQL\\\": {\"\n",
    "   +     \"\\\"CONNECTION\\\": \\\"\" + sqlConnection + \"\\\"\"\n",
    "   + \"}}\";\n",
    "   \n",
    "RenderJSON(senzingConfigJson);"
   ]
  },
  {
   "cell_type": "markdown",
   "id": "54602bbc",
   "metadata": {},
   "source": [
    "### G2Product initialization\n",
    "\n",
    "To start using Senzing G2Product, create and initialize an instance.\n",
    "This should be done once per process.\n",
    "###### Parameters\n",
    "\n",
    "- **module_name:** (str) A short name given to this instance of the G2Product\n",
    "  object.\n",
    "- **senzing_config_json:** A JSON string containing configuration parameters.\n",
    "- **verbose_logging:** A boolean which enables diagnostic logging.\n",
    "\n",
    "Calling this function will return \"0\" upon success."
   ]
  },
  {
   "cell_type": "code",
   "execution_count": null,
   "id": "985e9850",
   "metadata": {
    "scrolled": false
   },
   "outputs": [],
   "source": [
    "String moduleName = \"ExampleG2Product\";\n",
    "boolean verboseLogging = true;\n",
    "\n",
    "G2Product g2product = new G2ProductJNI();\n",
    "int return_code = g2product.init(moduleName, senzingConfigJson, verboseLogging);\n",
    "\n",
    "if(return_code!=0)\n",
    "    System.out.print(g2product.getLastException());\n",
    "else\n",
    "    System.out.print(return_code);"
   ]
  },
  {
   "cell_type": "markdown",
   "id": "67cdd348",
   "metadata": {},
   "source": [
    "### license\n",
    "\n",
    "Call `license()` to show information about the currently used license by the Senzing API"
   ]
  },
  {
   "cell_type": "code",
   "execution_count": null,
   "id": "c81cde56",
   "metadata": {
    "scrolled": true
   },
   "outputs": [],
   "source": [
    "String response = g2product.license();\n",
    "\n",
    "RenderJSON(response)"
   ]
  },
  {
   "cell_type": "markdown",
   "id": "971db75e",
   "metadata": {},
   "source": [
    "### version\n",
    "\n",
    "Call `version()` to get the version information of the current Senzing API being used"
   ]
  },
  {
   "cell_type": "code",
   "execution_count": null,
   "id": "4c39d3f6",
   "metadata": {
    "scrolled": true
   },
   "outputs": [],
   "source": [
    "String response = g2product.version();\n",
    "\n",
    "RenderJSON(response)"
   ]
  },
  {
   "cell_type": "markdown",
   "id": "b46b615e",
   "metadata": {},
   "source": [
    "### validateLicenseFile\n",
    "\n",
    "call `validateLicenseFile()` to validate the licence file that is passed in as a parameter, returns 0 for success and 1 for failure"
   ]
  },
  {
   "cell_type": "code",
   "execution_count": null,
   "id": "d3c98d0e",
   "metadata": {
    "scrolled": false
   },
   "outputs": [],
   "source": [
    "StringBuffer response = new StringBuffer();\n",
    "\n",
    "int return_code = g2product.validateLicenseFile(\"/notebooks/senzing-examples/senzing-jupyter-licenses/g2.lic\", response);\n",
    "\n",
    "if(return_code!=0)\n",
    "    System.out.print(g2product.getLastException());\n",
    "else\n",
    "    System.out.println(return_code);\n",
    "    System.out.print(response);"
   ]
  },
  {
   "cell_type": "markdown",
   "id": "225f40a1",
   "metadata": {},
   "source": [
    "### validateLicenseStringBase64\n",
    "\n",
    "call `validateLicenseStringBase64()` to validate the licence string that is passed in as a parameter, returns 0 for success and 1 for failure"
   ]
  },
  {
   "cell_type": "code",
   "execution_count": null,
   "id": "a4546fa9",
   "metadata": {
    "scrolled": false
   },
   "outputs": [],
   "source": [
    "String licenseString = \"AQAAADgCAAAAAAAAU2VuemluZyBJbnRlcm5hbCBHaXRIdWIAAAAAAAAAAAAAAAAAAAAAAAAAAAAAAAAAAAAAAAAAAAAAAAAAAAAAAAAAAAAAAAAAAAAAAAAAAAAAAAAAAAAAAAAAAAAAAAAAAAAAAAAAAAAAAAAAAAAAAAAAAAAAAAAAAAAAAAAAAAAAAAAAAAAAAAAAAAAAAAAAAAAAAAAAAAAAAAAAAAAAAAAAAAAAAAAAAAAAAAAAAAAAAAAAAAAAAAAAAAAAAAAAAAAAAAAAAAAAAAAAAAAAAAAAAAAAAAAAAAAAAAAAAAAAAAAAAAAAAAAAAAAAAAAAAAAAAAAAAAAAAAAAAAAAU2VuemluZyBJbnRlcm5hbCBHaXRIdSAtIDFrAAAAAAAAAAAAAAAAAAAAAAAAAAAAAAAAAAAAAAAAAAAAAAAAADIwMjItMDYtMDgAAAAAAAAAAAAARVZBTAAAAAAAAAAAAAAAAAAAAAAAAAAAAAAAAAAAAAAAAAAAAAAAAAAAAAAAAAAAAAAAAAAAAAAAAAAAAAAAAFNUQU5EQVJEAAAAAAAAAAAAAAAAAAAAAAAAAAAAAAAAAAAAAAAAAAAAAAAAAAAAAAAAAAAAAAAAAAAAAAAAAAAAAAAAAOgDAAAAAAAAMjAyNy0wNi0wOAAAAAAAAAAAAABNT05USExZAAAAAAAAAAAAAAAAAAAAAAAAAAAAAAAAAAAAAAAAAAAAAAAAAAAAAAAAAAAAAAAAAAAAAAAAAAAAr38AAKFYXo35JIUTnmAPAKrmINg4vo5Dzeklb/wEg6MqFWCkgUaMbGuJnskv4PbYvnpDFYqrdwPc3YbBmD0fYXn5fT6UgV7oCkKmKr0UV+/uzsqVOJU+xcPquoDGjC8Egjqs29YDXzhl/nQTou1QqbltfzEM5B0Z58xKteHWl+Ycr+iy43pUZ1K1hECrd33hP16q1nOd/0zSDzraEeeeghbzZI6QPWEMEAw7HdBwYuoH5g9OW2EACrEUaDVgM/G9F39Qo8vulQawz0/tbd48bmuQPowsrbS6r1J5gzXMHu/zZICxU3DhktDTZ7AMGGm2ya8IBFcg9DIgtUiAzTR1rMMIn58gbgjIsnc05TgdpmwHonU4ZPYJr31ijlh1rpy25N2xSStOkqLJJwSYHiIfwP1emQ3edSXI03H50WHTtAwYIYq9ccf1cffAhdnpi0nXAFzClrskcYEb8RTBD7WV0jZwijkPq3dFnZrCX881I6RnCnux/ZHKoNrB1xnsa8KMFQw2v8An3oWWRw7VVO/8LElPVBmw0X7zpQs5wzv0u/7quM0mJvY5ouyoEhJC/t4oxgTrs54JG//v3ZZsAh47MTJYmxxEKWfG2CaaCIeLnG1oKEob8CIkJHTkyKolUjWdDxcZ+twqQrackmXB16VG/7rwnSupIRfuMKkG5kbAsNJNfx36\";\n",
    "\n",
    "StringBuffer response = new StringBuffer();\n",
    "\n",
    "int return_code = g2product.validateLicenseStringBase64(licenseString, response);\n",
    "\n",
    "if(return_code!=0)\n",
    "    System.out.print(g2product.getLastException());\n",
    "else\n",
    "    System.out.println(return_code);\n",
    "    System.out.print(response);"
   ]
  },
  {
   "cell_type": "markdown",
   "id": "e47b141a",
   "metadata": {},
   "source": [
    "## Cleanup"
   ]
  },
  {
   "cell_type": "code",
   "execution_count": null,
   "id": "df953ec4",
   "metadata": {},
   "outputs": [],
   "source": [
    "g2product.destroy()"
   ]
  }
 ],
 "metadata": {
  "kernelspec": {
   "display_name": "Java",
   "language": "java",
   "name": "java"
  },
  "language_info": {
   "codemirror_mode": "java",
   "file_extension": ".jshell",
   "mimetype": "text/x-java-source",
   "name": "Java",
   "pygments_lexer": "java",
   "version": "11.0.15+10-Ubuntu-0ubuntu0.20.04.1"
  },
  "toc": {
   "base_numbering": 1,
   "nav_menu": {},
   "number_sections": true,
   "sideBar": true,
   "skip_h1_title": false,
   "title_cell": "Table of Contents",
   "title_sidebar": "Contents",
   "toc_cell": false,
   "toc_position": {},
   "toc_section_display": true,
   "toc_window_display": false
  }
 },
 "nbformat": 4,
 "nbformat_minor": 5
}
