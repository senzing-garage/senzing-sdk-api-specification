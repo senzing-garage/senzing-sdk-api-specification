{
 "cells": [
  {
   "cell_type": "markdown",
   "id": "94ba6709",
   "metadata": {},
   "source": [
    "# G2Product Reference"
   ]
  },
  {
   "cell_type": "markdown",
   "id": "fe7e4b13",
   "metadata": {},
   "source": [
    "## Prepare environment"
   ]
  },
  {
   "cell_type": "markdown",
   "id": "67ef4032",
   "metadata": {},
   "source": [
    "### Initialize Senzing configuration\n",
    "\n",
    "Run [senzing-G2ConfigMgr-reference.ipynb](senzing-G2ConfigMgr-reference.ipynb)\n",
    "to install a Senzing Engine configuration in the database."
   ]
  },
  {
   "cell_type": "markdown",
   "id": "b00a1762",
   "metadata": {},
   "source": [
    "### Initialize python environment"
   ]
  },
  {
   "cell_type": "code",
   "execution_count": null,
   "id": "4db118e5",
   "metadata": {},
   "outputs": [],
   "source": [
    "import os\n",
    "import sys\n",
    "import json\n",
    "\n",
    "from IPython.display import JSON"
   ]
  },
  {
   "cell_type": "markdown",
   "id": "2f6b1fea",
   "metadata": {},
   "source": [
    "### Helper class for JSON rendering\n",
    "\n",
    "A class for pretty-printing JSON.\n",
    "Not required by Senzing, \n",
    "but helps visualize JSON."
   ]
  },
  {
   "cell_type": "code",
   "execution_count": null,
   "id": "e2c74dde",
   "metadata": {},
   "outputs": [],
   "source": [
    "def as_dict(json_data):\n",
    "    if isinstance(json_data, dict):\n",
    "        return an_object\n",
    "    elif isinstance(json_data, bytearray):\n",
    "        return json.loads(json_data.decode())\n",
    "    elif isinstance(json_data, bytes):\n",
    "        return json.loads(json_data.decode())\n",
    "    elif isinstance(json_data, str):\n",
    "        return json.loads(json_data)\n",
    "    return {}"
   ]
  },
  {
   "cell_type": "markdown",
   "id": "e29f4431",
   "metadata": {},
   "source": [
    "### System path\n",
    "\n",
    "Update system path."
   ]
  },
  {
   "cell_type": "code",
   "execution_count": null,
   "id": "d136338c",
   "metadata": {},
   "outputs": [],
   "source": [
    "python_path = \"{0}/python\".format(\n",
    "    os.environ.get(\"SENZING_G2_DIR\", \"/opt/senzing/g2\"))\n",
    "sys.path.append(python_path)"
   ]
  },
  {
   "cell_type": "markdown",
   "id": "6616c577",
   "metadata": {},
   "source": [
    "### Initialize variables\n",
    "\n",
    "Create variables used for G2Product."
   ]
  },
  {
   "cell_type": "code",
   "execution_count": null,
   "id": "7c18d5b9",
   "metadata": {
    "scrolled": true
   },
   "outputs": [],
   "source": [
    "%run senzing-init-config.ipynb"
   ]
  },
  {
   "cell_type": "code",
   "execution_count": null,
   "id": "49dc9323",
   "metadata": {},
   "outputs": [],
   "source": [
    "%store -r senzing_config_json\n",
    "%store -r config_id_bytearray"
   ]
  },
  {
   "cell_type": "code",
   "execution_count": null,
   "id": "2711501a",
   "metadata": {},
   "outputs": [],
   "source": [
    "JSON(as_dict(senzing_config_json))"
   ]
  },
  {
   "cell_type": "markdown",
   "id": "cb25289d",
   "metadata": {},
   "source": [
    "## G2Product"
   ]
  },
  {
   "cell_type": "code",
   "execution_count": null,
   "id": "42c55d97",
   "metadata": {},
   "outputs": [],
   "source": [
    "from senzing import G2Product, G2Exception"
   ]
  },
  {
   "cell_type": "markdown",
   "id": "54602bbc",
   "metadata": {},
   "source": [
    "### G2Product initialization\n",
    "\n",
    "To start using Senzing G2Product, create and initialize an instance.\n",
    "This should be done once per process.\n",
    "###### Parameters\n",
    "\n",
    "- **module_name:** (str) A short name given to this instance of the G2Product\n",
    "  object.\n",
    "- **senzing_config_json:** A JSON string containing configuration parameters.\n",
    "- **verbose_logging:** A boolean which enables diagnostic logging.\n",
    "\n",
    "Calling this function will return \"0\" upon success."
   ]
  },
  {
   "cell_type": "code",
   "execution_count": null,
   "id": "985e9850",
   "metadata": {},
   "outputs": [],
   "source": [
    "g2_product = G2Product()\n",
    "try:\n",
    "    return_code = g2_product.init(\n",
    "        module_name,\n",
    "        senzing_config_json,\n",
    "        verbose_logging)\n",
    "\n",
    "except G2Exception as err:\n",
    "    print(err)"
   ]
  },
  {
   "cell_type": "markdown",
   "id": "67cdd348",
   "metadata": {},
   "source": [
    "### license\n",
    "\n",
    "Call `license()` to show information about the currently used license by the Senzing API"
   ]
  },
  {
   "cell_type": "code",
   "execution_count": null,
   "id": "c81cde56",
   "metadata": {
    "scrolled": true
   },
   "outputs": [],
   "source": [
    "try:\n",
    "    response = g2_product.license()\n",
    "\n",
    "except G2Exception as err:\n",
    "    print(err)\n",
    "JSON(as_dict(response))"
   ]
  },
  {
   "cell_type": "markdown",
   "id": "971db75e",
   "metadata": {},
   "source": [
    "### version\n",
    "\n",
    "Call `version()` to get the version information of the current Senzing API being used"
   ]
  },
  {
   "cell_type": "code",
   "execution_count": null,
   "id": "4c39d3f6",
   "metadata": {
    "scrolled": true
   },
   "outputs": [],
   "source": [
    "try:\n",
    "    response = g2_product.version()\n",
    "\n",
    "except G2Exception as err:\n",
    "    print(err)\n",
    "JSON(as_dict(response))"
   ]
  },
  {
   "cell_type": "markdown",
   "id": "b46b615e",
   "metadata": {},
   "source": [
    "### validateLicenseFile\n",
    "\n",
    "call `validateLicenseFile()` to validate the licence file that is passed in as a parameter, returns 0 for success and 1 for failure"
   ]
  },
  {
   "cell_type": "code",
   "execution_count": null,
   "id": "d3c98d0e",
   "metadata": {},
   "outputs": [],
   "source": [
    "try:\n",
    "    ret_code = g2_product.validateLicenseFile(\"/notebooks/senzing-examples/senzing-jupyter-licenses/g2.lic\")\n",
    "\n",
    "except G2Exception as err:\n",
    "    print(err)\n",
    "    \n",
    "print(ret_code)"
   ]
  },
  {
   "cell_type": "markdown",
   "id": "225f40a1",
   "metadata": {},
   "source": [
    "### validateLicenseStringBase64\n",
    "\n",
    "call `validateLicenseStringBase64()` to validate the licence string that is passed in as a parameter, returns 0 for success and 1 for failure"
   ]
  },
  {
   "cell_type": "code",
   "execution_count": null,
   "id": "a4546fa9",
   "metadata": {},
   "outputs": [],
   "source": [
    "license_string = \"AQAAADgCAAAAAAAAU2VuemluZyBJbnRlcm5hbCBHaXRIdWIAAAAAAAAAAAAAAAAAAAAAAAAAAAAAAAAAAAAAAAAAAAAAAAAAAAAAAAAAAAAAAAAAAAAAAAAAAAAAAAAAAAAAAAAAAAAAAAAAAAAAAAAAAAAAAAAAAAAAAAAAAAAAAAAAAAAAAAAAAAAAAAAAAAAAAAAAAAAAAAAAAAAAAAAAAAAAAAAAAAAAAAAAAAAAAAAAAAAAAAAAAAAAAAAAAAAAAAAAAAAAAAAAAAAAAAAAAAAAAAAAAAAAAAAAAAAAAAAAAAAAAAAAAAAAAAAAAAAAAAAAAAAAAAAAAAAAAAAAAAAAAAAAAAAAU2VuemluZyBJbnRlcm5hbCBHaXRIdSAtIDFrAAAAAAAAAAAAAAAAAAAAAAAAAAAAAAAAAAAAAAAAAAAAAAAAADIwMjItMDYtMDgAAAAAAAAAAAAARVZBTAAAAAAAAAAAAAAAAAAAAAAAAAAAAAAAAAAAAAAAAAAAAAAAAAAAAAAAAAAAAAAAAAAAAAAAAAAAAAAAAFNUQU5EQVJEAAAAAAAAAAAAAAAAAAAAAAAAAAAAAAAAAAAAAAAAAAAAAAAAAAAAAAAAAAAAAAAAAAAAAAAAAAAAAAAAAOgDAAAAAAAAMjAyNy0wNi0wOAAAAAAAAAAAAABNT05USExZAAAAAAAAAAAAAAAAAAAAAAAAAAAAAAAAAAAAAAAAAAAAAAAAAAAAAAAAAAAAAAAAAAAAAAAAAAAAr38AAKFYXo35JIUTnmAPAKrmINg4vo5Dzeklb/wEg6MqFWCkgUaMbGuJnskv4PbYvnpDFYqrdwPc3YbBmD0fYXn5fT6UgV7oCkKmKr0UV+/uzsqVOJU+xcPquoDGjC8Egjqs29YDXzhl/nQTou1QqbltfzEM5B0Z58xKteHWl+Ycr+iy43pUZ1K1hECrd33hP16q1nOd/0zSDzraEeeeghbzZI6QPWEMEAw7HdBwYuoH5g9OW2EACrEUaDVgM/G9F39Qo8vulQawz0/tbd48bmuQPowsrbS6r1J5gzXMHu/zZICxU3DhktDTZ7AMGGm2ya8IBFcg9DIgtUiAzTR1rMMIn58gbgjIsnc05TgdpmwHonU4ZPYJr31ijlh1rpy25N2xSStOkqLJJwSYHiIfwP1emQ3edSXI03H50WHTtAwYIYq9ccf1cffAhdnpi0nXAFzClrskcYEb8RTBD7WV0jZwijkPq3dFnZrCX881I6RnCnux/ZHKoNrB1xnsa8KMFQw2v8An3oWWRw7VVO/8LElPVBmw0X7zpQs5wzv0u/7quM0mJvY5ouyoEhJC/t4oxgTrs54JG//v3ZZsAh47MTJYmxxEKWfG2CaaCIeLnG1oKEob8CIkJHTkyKolUjWdDxcZ+twqQrackmXB16VG/7rwnSupIRfuMKkG5kbAsNJNfx36\"\n",
    "\n",
    "try:\n",
    "    ret_code = g2_product.validateLicenseStringBase64(license_string)\n",
    "\n",
    "except G2Exception as err:\n",
    "    print(err)\n",
    "    \n",
    "print(ret_code)"
   ]
  },
  {
   "cell_type": "markdown",
   "id": "e47b141a",
   "metadata": {},
   "source": [
    "## Cleanup"
   ]
  },
  {
   "cell_type": "code",
   "execution_count": null,
   "id": "df953ec4",
   "metadata": {},
   "outputs": [],
   "source": [
    "g2_product.destroy()"
   ]
  }
 ],
 "metadata": {
  "kernelspec": {
   "display_name": "Python 3 (ipykernel)",
   "language": "python",
   "name": "python3"
  },
  "language_info": {
   "codemirror_mode": {
    "name": "ipython",
    "version": 3
   },
   "file_extension": ".py",
   "mimetype": "text/x-python",
   "name": "python",
   "nbconvert_exporter": "python",
   "pygments_lexer": "ipython3",
   "version": "3.9.12"
  },
  "toc": {
   "base_numbering": 1,
   "nav_menu": {},
   "number_sections": true,
   "sideBar": true,
   "skip_h1_title": false,
   "title_cell": "Table of Contents",
   "title_sidebar": "Contents",
   "toc_cell": false,
   "toc_position": {},
   "toc_section_display": true,
   "toc_window_display": false
  }
 },
 "nbformat": 4,
 "nbformat_minor": 5
}
