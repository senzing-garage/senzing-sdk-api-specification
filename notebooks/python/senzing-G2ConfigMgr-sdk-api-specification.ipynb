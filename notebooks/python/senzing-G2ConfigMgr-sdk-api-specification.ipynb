{
 "cells": [
  {
   "cell_type": "markdown",
   "metadata": {},
   "source": [
    "# G2ConfigMgr Reference"
   ]
  },
  {
   "cell_type": "markdown",
   "metadata": {},
   "source": [
    "## Prepare environment"
   ]
  },
  {
   "cell_type": "code",
   "execution_count": null,
   "metadata": {},
   "outputs": [],
   "source": [
    "import os\n",
    "import sys\n",
    "import json\n",
    "\n",
    "# For RenderJSON\n",
    "\n",
    "import uuid\n",
    "from IPython.display import display_javascript, display_html, display"
   ]
  },
  {
   "cell_type": "markdown",
   "metadata": {},
   "source": [
    "### Helper class for JSON rendering\n",
    "\n",
    "A class for pretty-printing JSON.\n",
    "Not required by Senzing, \n",
    "but helps visualize JSON."
   ]
  },
  {
   "cell_type": "code",
   "execution_count": null,
   "metadata": {},
   "outputs": [],
   "source": [
    "class RenderJSON():\n",
    "    def __init__(self, json_data):\n",
    "        if isinstance(json_data, dict):\n",
    "            self.json_str = json.dumps(json_data)\n",
    "        elif isinstance(json_data, bytearray):\n",
    "            self.json_str = json_data.decode()\n",
    "        else:\n",
    "            self.json_str = json_data\n",
    "        self.uuid = str(uuid.uuid4())\n",
    "\n",
    "    def _ipython_display_(self):\n",
    "        display_html('<div id=\"{}\" style=\"height:100%; width:100%; background-color: LightCyan\"></div>'.format(self.uuid), raw=True)\n",
    "        display_javascript(\"\"\"\n",
    "        require([\"https://rawgit.com/caldwell/renderjson/master/renderjson.js\"], function() {\n",
    "        document.getElementById('%s').appendChild(renderjson(%s))\n",
    "        });\n",
    "        \"\"\" % (self.uuid, self.json_str), raw=True)"
   ]
  },
  {
   "cell_type": "markdown",
   "metadata": {},
   "source": [
    "### System path\n",
    "\n",
    "Update system path."
   ]
  },
  {
   "cell_type": "code",
   "execution_count": null,
   "metadata": {},
   "outputs": [],
   "source": [
    "python_path = \"{0}/python\".format(\n",
    "    os.environ.get(\"SENZING_G2_DIR\", \"/opt/senzing/g2\"))\n",
    "sys.path.append(python_path)"
   ]
  },
  {
   "cell_type": "markdown",
   "metadata": {},
   "source": [
    "### Initialize variables\n",
    "\n",
    "Create variables used for G2Config and G2ConfigMgr."
   ]
  },
  {
   "cell_type": "code",
   "execution_count": null,
   "metadata": {},
   "outputs": [],
   "source": [
    "%run senzing-init-config.ipynb"
   ]
  },
  {
   "cell_type": "code",
   "execution_count": null,
   "metadata": {},
   "outputs": [],
   "source": [
    "%store -r senzing_config_json"
   ]
  },
  {
   "cell_type": "code",
   "execution_count": null,
   "metadata": {},
   "outputs": [],
   "source": [
    "print(senzing_config_json)"
   ]
  },
  {
   "cell_type": "markdown",
   "metadata": {},
   "source": [
    "### Create configuration object\n",
    "\n",
    "The G2Config API is used to create a new JSON configuration from the default template.\n",
    "For more information, \n",
    "view the [senzing-G2Config-sdk-api-specification.ipynb](senzing-G2Config-sdk-api-specification.ipynb) notebook."
   ]
  },
  {
   "cell_type": "code",
   "execution_count": null,
   "metadata": {},
   "outputs": [],
   "source": [
    "from senzing import G2Config, G2Exception\n",
    "\n",
    "g2_config = G2Config()\n",
    "try:\n",
    "    g2_config.init(module_name, senzing_config_json, verbose_logging)\n",
    "\n",
    "    # Create configuration from template file.\n",
    "\n",
    "    config_handle = g2_config.create()\n",
    "\n",
    "    # Save JSON to string variable.\n",
    "\n",
    "    response_bytearray = bytearray()\n",
    "    g2_config.save(config_handle, response_bytearray)\n",
    "    senzing_model_config_json = response_bytearray.decode()\n",
    "\n",
    "except G2Exception as err:\n",
    "    print(g2_config.getLastException())\n",
    "\n",
    "print(response_bytearray.decode())"
   ]
  },
  {
   "cell_type": "markdown",
   "metadata": {},
   "source": [
    "## G2ConfigMgr\n",
    "\n",
    "The G2ConfigMgr API is used to add specific JSON configurations to the database,\n",
    "so that they may be shared across remote systems.\n",
    "Such configurations are added to the database, and a configuration ID is created for each of them.\n",
    "The system may then be configured with a specific configuratin ID that points to one of those configurations.\n",
    "That configuration ID will then be the shared global config."
   ]
  },
  {
   "cell_type": "code",
   "execution_count": null,
   "metadata": {},
   "outputs": [],
   "source": [
    "from senzing import G2ConfigMgr"
   ]
  },
  {
   "cell_type": "markdown",
   "metadata": {},
   "source": [
    "### G2ConfigMgr Initialization\n",
    "\n",
    "To start using G2ConfigMgr, you must first create and initialize an instance of the config manager.\n",
    "This should be done once per process.\n",
    "\n",
    "Create a new instance of the config manager and assign it to a variable.\n",
    "Then, call the appropriate initialization method to initialize the config manager.\n",
    "\n",
    "###### Parameters\n",
    "\n",
    "- **module_name:** (str) A short name given to this instance of the G2 engine (i.e. your G2Module object)\n",
    "- **senzing_config_json:** (JSON str) A JSON document containing system parameters.\n",
    "- **verbose_logging:** (bool) A boolean which enables diagnostic logging - this will print a massive amount of information to stdout (default = False)"
   ]
  },
  {
   "cell_type": "code",
   "execution_count": null,
   "metadata": {},
   "outputs": [],
   "source": [
    "g2_configuration_manager = G2ConfigMgr()\n",
    "try:\n",
    "    g2_configuration_manager.init(\n",
    "        module_name,\n",
    "        senzing_config_json,\n",
    "        verbose_logging)\n",
    "\n",
    "except G2Exception as err:\n",
    "    print(g2_configuration_manager.getLastException())"
   ]
  },
  {
   "cell_type": "markdown",
   "metadata": {},
   "source": [
    "### addConfig\n",
    "\n",
    "Use `addConfig()` to add a configuration JSON document to the data repository.\n",
    "\n",
    "###### Parameters\n",
    "\n",
    "- **senzing_model_config_json:** (JSON str) The configuration JSON document.\n",
    "- **config_comment:** (str) A free-form string of comments describing the configuration document.\n",
    "- **config_id_bytearray:** (bytearray) The returned configID for the new config document registered in the data store."
   ]
  },
  {
   "cell_type": "code",
   "execution_count": null,
   "metadata": {},
   "outputs": [],
   "source": [
    "config_comment = \"Configuration added from G2SetupConfig.\"\n",
    "config_id_bytearray = bytearray()\n",
    "try:\n",
    "    g2_configuration_manager.addConfig(\n",
    "        senzing_model_config_json,\n",
    "        config_comment,\n",
    "        config_id_bytearray)\n",
    "\n",
    "except G2Exception as err:\n",
    "    print(g2_configuration_manager.getLastException())\n",
    "print(\"Config ID: {0}\".format(config_id_bytearray.decode()))"
   ]
  },
  {
   "cell_type": "markdown",
   "metadata": {},
   "source": [
    "###  getConfigList\n",
    "\n",
    "Use `getConfigList()` to retrieve a list of the configuration JSON documents contained in the data repository.\n",
    "###### Parameters\n",
    "\n",
    "- **response_bytearray:** (bytearray) Object to store the output of the method. Can be used to print or store for later. **Warning:** This is not a *string*"
   ]
  },
  {
   "cell_type": "code",
   "execution_count": null,
   "metadata": {},
   "outputs": [],
   "source": [
    "response_bytearray = bytearray()\n",
    "try:\n",
    "    g2_configuration_manager.getConfigList(response_bytearray)\n",
    "\n",
    "except G2Exception as err:\n",
    "    print(g2_configuration_manager.getLastException())\n",
    "\n",
    "RenderJSON(response_bytearray)"
   ]
  },
  {
   "cell_type": "markdown",
   "metadata": {},
   "source": [
    "### getConfig\n",
    "\n",
    "Use `getConfig()` to retrieve a specific configuration JSON document from the data repository. \n",
    "\n",
    "###### Parameters\n",
    "\n",
    "- **config_id_bytearray:** (bytearray) The configID for the config document that you wish to retrieve.\n",
    "\n",
    "- **response_bytearray:** (bytearray) Object to store the output of the method. Can be used to print or store for later. **Warning:** This is not a *string*"
   ]
  },
  {
   "cell_type": "code",
   "execution_count": null,
   "metadata": {},
   "outputs": [],
   "source": [
    "response_bytearray = bytearray()\n",
    "try:\n",
    "    g2_configuration_manager.getConfig(\n",
    "        config_id_bytearray,\n",
    "        response_bytearray)\n",
    "\n",
    "except G2Exception as err:\n",
    "    print(g2_configuration_manager.getLastException())\n",
    "\n",
    "RenderJSON(response_bytearray)"
   ]
  },
  {
   "cell_type": "markdown",
   "metadata": {},
   "source": [
    "### setDefaultConfigID\n",
    "\n",
    "Use `setDefaultConfigID()` to set the default configuration JSON document in the data repository. \n",
    "\n",
    "###### Parameters\n",
    "\n",
    "- **config_id_bytearray:** (bytearray or int) The configuration ID for a configuration JSON document previously added to the database."
   ]
  },
  {
   "cell_type": "code",
   "execution_count": null,
   "metadata": {},
   "outputs": [],
   "source": [
    "try:\n",
    "    g2_configuration_manager.setDefaultConfigID(config_id_bytearray)\n",
    "\n",
    "except G2Exception as err:\n",
    "    print(g2_configuration_manager.getLastException())"
   ]
  },
  {
   "cell_type": "markdown",
   "metadata": {},
   "source": [
    "### getDefaultConfigID\n",
    "\n",
    "Use `getDefaultConfigID()` to retrieve a specific configuration JSON document from the data repository.\n",
    "\n",
    "###### Parameters\n",
    "\n",
    "- **config_id_bytearray:** (bytearray) Returns the configID for the current default configuration, or 0 if none is set."
   ]
  },
  {
   "cell_type": "code",
   "execution_count": null,
   "metadata": {},
   "outputs": [],
   "source": [
    "try:\n",
    "    g2_configuration_manager.getDefaultConfigID(config_id_bytearray)\n",
    "\n",
    "except G2Exception as err:\n",
    "    print(g2_configuration_manager.getLastException())\n",
    "print(\"Configuration ID: {0}\".format(config_id_bytearray.decode()))"
   ]
  },
  {
   "cell_type": "markdown",
   "metadata": {},
   "source": [
    "## Cleanup"
   ]
  },
  {
   "cell_type": "markdown",
   "metadata": {},
   "source": [
    "### getLastException"
   ]
  },
  {
   "cell_type": "code",
   "execution_count": null,
   "metadata": {},
   "outputs": [],
   "source": [
    "print(g2_config.getLastException())"
   ]
  },
  {
   "cell_type": "markdown",
   "metadata": {},
   "source": [
    "### clearLastException"
   ]
  },
  {
   "cell_type": "code",
   "execution_count": null,
   "metadata": {},
   "outputs": [],
   "source": [
    "try:\n",
    "    g2_config.clearLastException()\n",
    "\n",
    "except G2Exception as err:\n",
    "    print(g2_config.getLastException())"
   ]
  },
  {
   "cell_type": "markdown",
   "metadata": {},
   "source": [
    "### close\n",
    "\n",
    "- **config_handle:** (int) variable containg the the number of the used config"
   ]
  },
  {
   "cell_type": "code",
   "execution_count": null,
   "metadata": {},
   "outputs": [],
   "source": [
    "try:\n",
    "    g2_config.close(config_handle)\n",
    "\n",
    "except G2Exception as err:\n",
    "    print(g2_config.getLastException())"
   ]
  },
  {
   "cell_type": "markdown",
   "metadata": {},
   "source": [
    "### destroy"
   ]
  },
  {
   "cell_type": "code",
   "execution_count": null,
   "metadata": {},
   "outputs": [],
   "source": [
    "try:\n",
    "    g2_config.destroy()\n",
    "\n",
    "except G2Exception as err:\n",
    "    print(g2_config.getLastException())"
   ]
  }
 ],
 "metadata": {
  "kernelspec": {
   "display_name": "Python 3",
   "language": "python",
   "name": "python3"
  },
  "language_info": {
   "codemirror_mode": {
    "name": "ipython",
    "version": 3
   },
   "file_extension": ".py",
   "mimetype": "text/x-python",
   "name": "python",
   "nbconvert_exporter": "python",
   "pygments_lexer": "ipython3",
   "version": "3.7.8"
  },
  "toc": {
   "base_numbering": 1,
   "nav_menu": {},
   "number_sections": true,
   "sideBar": true,
   "skip_h1_title": true,
   "title_cell": "Table of Contents",
   "title_sidebar": "Contents",
   "toc_cell": false,
   "toc_position": {},
   "toc_section_display": true,
   "toc_window_display": true
  }
 },
 "nbformat": 4,
 "nbformat_minor": 2
}
