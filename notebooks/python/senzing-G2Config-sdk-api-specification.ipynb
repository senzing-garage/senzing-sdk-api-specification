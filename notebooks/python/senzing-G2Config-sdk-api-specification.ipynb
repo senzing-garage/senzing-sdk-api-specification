{
 "cells": [
  {
   "cell_type": "markdown",
   "metadata": {},
   "source": [
    "# G2Config Reference"
   ]
  },
  {
   "cell_type": "markdown",
   "metadata": {},
   "source": [
    "## Prepare environment"
   ]
  },
  {
   "cell_type": "code",
   "execution_count": null,
   "metadata": {},
   "outputs": [],
   "source": [
    "import os\n",
    "import sys\n",
    "import json\n",
    "\n",
    "# For RenderJSON\n",
    "\n",
    "import uuid\n",
    "from IPython.display import display_javascript, display_html, display"
   ]
  },
  {
   "cell_type": "markdown",
   "metadata": {},
   "source": [
    "### Helper class for JSON rendering\n",
    "\n",
    "A class for pretty-printing JSON.\n",
    "Not required by Senzing,\n",
    "but helps visualize JSON."
   ]
  },
  {
   "cell_type": "code",
   "execution_count": null,
   "metadata": {},
   "outputs": [],
   "source": [
    "class RenderJSON():\n",
    "    def __init__(self, json_data):\n",
    "        if isinstance(json_data, dict):\n",
    "            self.json_str = json.dumps(json_data)\n",
    "        elif isinstance(json_data, bytearray):\n",
    "            self.json_str = json_data.decode()\n",
    "        else:\n",
    "            self.json_str = json_data\n",
    "        self.uuid = str(uuid.uuid4())\n",
    "\n",
    "    def _ipython_display_(self):\n",
    "        display_html('<div id=\"{}\" style=\"height:100%; width:100%; background-color: LightCyan\"></div>'.format(self.uuid), raw=True)\n",
    "        display_javascript(\"\"\"\n",
    "        require([\"https://rawgit.com/caldwell/renderjson/master/renderjson.js\"], function() {\n",
    "        document.getElementById('%s').appendChild(renderjson(%s))\n",
    "        });\n",
    "        \"\"\" % (self.uuid, self.json_str), raw=True)"
   ]
  },
  {
   "cell_type": "markdown",
   "metadata": {},
   "source": [
    "### Initialize variables\n",
    "\n",
    "Create variables used for G2Config."
   ]
  },
  {
   "cell_type": "code",
   "execution_count": null,
   "metadata": {},
   "outputs": [],
   "source": [
    "%run senzing-init-config.ipynb"
   ]
  },
  {
   "cell_type": "code",
   "execution_count": null,
   "metadata": {},
   "outputs": [],
   "source": [
    "%store -r senzing_config_json"
   ]
  },
  {
   "cell_type": "code",
   "execution_count": null,
   "metadata": {},
   "outputs": [],
   "source": [
    "RenderJSON(senzing_config_json)"
   ]
  },
  {
   "cell_type": "code",
   "execution_count": null,
   "metadata": {},
   "outputs": [],
   "source": [
    "python_path = \"{0}/python\".format(\n",
    "    os.environ.get(\"SENZING_G2_DIR\", \"/opt/senzing/g2\"))\n",
    "sys.path.append(python_path)"
   ]
  },
  {
   "cell_type": "markdown",
   "metadata": {},
   "source": [
    "## G2Config\n",
    "\n",
    "The G2Config API..."
   ]
  },
  {
   "cell_type": "code",
   "execution_count": null,
   "metadata": {},
   "outputs": [],
   "source": [
    "from G2Config import G2Config\n",
    "import G2Exception"
   ]
  },
  {
   "cell_type": "markdown",
   "metadata": {},
   "source": [
    "### Initialize G2Config\n",
    "\n",
    "###### Parameters\n",
    "\n",
    "- **module_name:** (str) A short name given to this instance of the G2Config\n",
    "  object.\n",
    "- **senzing_config_json:** (str) A JSON string containing configuration parameters.\n",
    "- **verbose_logging:** (bool) A boolean which enables diagnostic logging."
   ]
  },
  {
   "cell_type": "code",
   "execution_count": null,
   "metadata": {},
   "outputs": [],
   "source": [
    "g2_config = G2Config()\n",
    "try:\n",
    "    g2_config.initV2(module_name, senzing_config_json, verbose_logging)\n",
    "\n",
    "except G2Exception.G2ModuleGenericException as err:\n",
    "    print(g2_config.getLastException())"
   ]
  },
  {
   "cell_type": "markdown",
   "metadata": {},
   "source": [
    "### Create configuration handle\n"
   ]
  },
  {
   "cell_type": "code",
   "execution_count": null,
   "metadata": {},
   "outputs": [],
   "source": [
    "try:\n",
    "    config_handle = g2_config.create()\n",
    "\n",
    "except G2Exception.G2ModuleGenericException as err:\n",
    "    print(g2_config.getLastException())"
   ]
  },
  {
   "cell_type": "markdown",
   "metadata": {},
   "source": [
    "### save\n",
    "\n",
    "###### Parameters\n",
    "\n",
    "- ?**config_handle:** (int) variable containg the the number of the used config\n",
    "- **response_bytearray:** (bytearray) Object to store the output of the method. Can be used to print or store for later. **Warning:** This is not a *string*"
   ]
  },
  {
   "cell_type": "code",
   "execution_count": null,
   "metadata": {},
   "outputs": [],
   "source": [
    "try:\n",
    "    response_bytearray = bytearray()\n",
    "    g2_config.save(config_handle, response_bytearray)\n",
    "\n",
    "except G2Exception.G2ModuleGenericException as err:\n",
    "    print(g2_config.getLastException())\n",
    "\n",
    "RenderJSON(response_bytearray)"
   ]
  },
  {
   "cell_type": "markdown",
   "metadata": {},
   "source": [
    "### load\n",
    "\n",
    "###### Parameters\n",
    "\n",
    "- **response_bytearray:** (bytearray) Object to store the output of the method. Can be used to print or store for later. **Warning:** This is not a *string*"
   ]
  },
  {
   "cell_type": "code",
   "execution_count": null,
   "metadata": {},
   "outputs": [],
   "source": [
    "try:\n",
    "    # example using the saved config from the `save()` method\n",
    "    g2_config.load(response_bytearray)\n",
    "\n",
    "except G2Exception.G2ModuleGenericException as err:\n",
    "    print(g2_config.getLastException())\n",
    "\n",
    "RenderJSON(response_bytearray)"
   ]
  },
  {
   "cell_type": "markdown",
   "metadata": {},
   "source": [
    "## Datasources"
   ]
  },
  {
   "cell_type": "markdown",
   "metadata": {},
   "source": [
    "### listDataSourcesV2\n",
    "\n",
    "Call G2Config's `listDataSourcesV2()` method and pretty-printsresults.\n",
    "\n",
    "###### Parameters\n",
    "\n",
    "- ?**config_handle:** (int) variable containg the the number of the used config\n",
    "- **response_bytearray:** (bytearray) Object to store the output of the method. Can be used to print or store for later. **Warning:** This is not a *string*"
   ]
  },
  {
   "cell_type": "code",
   "execution_count": null,
   "metadata": {},
   "outputs": [],
   "source": [
    "try:\n",
    "    response_bytearray = bytearray()\n",
    "\n",
    "    g2_config.listDataSourcesV2(config_handle, response_bytearray)\n",
    "\n",
    "except G2Exception.G2ModuleGenericException as err:\n",
    "    print(g2_config.getLastException())\n",
    "\n",
    "RenderJSON(response_bytearray)"
   ]
  },
  {
   "cell_type": "markdown",
   "metadata": {},
   "source": [
    "### addDataSourceV2\n",
    "\n",
    "Call G2Config's `addDataSourceV2()` method and pretty-prints results.\n",
    "\n",
    "###### Parameters\n",
    "\n",
    "- ?**config_handle:** (int) variable containg the the number of the used config\n",
    "- ?**datasource_json:** (str) json containing the name of the datasource to be added\n",
    "- **response_bytearray:** (bytearray) Object to store the output of the method. Can be used to print or store for later. **Warning:** This is not a *string*"
   ]
  },
  {
   "cell_type": "code",
   "execution_count": null,
   "metadata": {
    "scrolled": true
   },
   "outputs": [],
   "source": [
    "try:\n",
    "    datasource = {\n",
    "        \"DSRC_CODE\": \"CUSTOMER\"\n",
    "    }\n",
    "    datasource_json = json.dumps(datasource)\n",
    "    response_bytearray = bytearray()\n",
    "\n",
    "    g2_config.addDataSourceV2(config_handle, datasource_json, response_bytearray)\n",
    "\n",
    "except G2Exception.G2ModuleGenericException as err:\n",
    "    print(g2_config.getLastException())\n",
    "\n",
    "RenderJSON(response_bytearray)"
   ]
  },
  {
   "cell_type": "markdown",
   "metadata": {},
   "source": [
    "### addDataSourceWithID\n",
    "\n",
    "###### Parameters\n",
    "\n",
    "- ?**config_handle:** (int) variable containg the the number of the used config\n",
    "- ?**datasource_json:** (str) json containing the name of the datasource to be added\n",
    "- **id:** (int) variable used to set the id of the added datasource"
   ]
  },
  {
   "cell_type": "code",
   "execution_count": null,
   "metadata": {},
   "outputs": [],
   "source": [
    "try:\n",
    "    datasource = {\n",
    "        \"DSRC_CODE\": \"CUSTOMER\"\n",
    "    }\n",
    "    datasource_json = json.dumps(datasource)\n",
    "    response_bytearray = bytearray()\n",
    "\n",
    "    id = 0\n",
    "\n",
    "    g2_config.addDataSourceWithID(config_handle, datasource_json, id)\n",
    "\n",
    "except G2Exception.G2ModuleGenericException as err:\n",
    "    print(g2_config.getLastException())"
   ]
  },
  {
   "cell_type": "markdown",
   "metadata": {},
   "source": [
    "### listDataSources again\n",
    "\n",
    "Call G2Config's `listDataSourcesV2()` method and pretty-prints results.\n",
    "Notice that the list now contains the newly added datasource_code of \"CUSTOMER\".\n",
    "\n",
    "###### Parameters\n",
    "\n",
    "- ?**config_handle:** (int) variable containg the the number of the used config\n",
    "- **response_bytearray:** (bytearray) Object to store the output of the method. Can be used to print or store for later. **Warning:** This is not a *string*"
   ]
  },
  {
   "cell_type": "code",
   "execution_count": null,
   "metadata": {},
   "outputs": [],
   "source": [
    "try:\n",
    "    response_bytearray = bytearray()\n",
    "\n",
    "    g2_config.listDataSourcesV2(config_handle, response_bytearray)\n",
    "\n",
    "except G2Exception.G2ModuleGenericException as err:\n",
    "    print(g2_config.getLastException())\n",
    "RenderJSON(response_bytearray)"
   ]
  },
  {
   "cell_type": "markdown",
   "metadata": {},
   "source": [
    "## Entities"
   ]
  },
  {
   "cell_type": "markdown",
   "metadata": {},
   "source": [
    "### listEntityClassesV2\n",
    "Calls G2Config's `listEntityClassesV2()` method and pretty-prints results.\n",
    "\n",
    "###### Parameters\n",
    "\n",
    "- ?**config_handle:** (int) variable containg the the number of the used config\n",
    "- **response_bytearray:** (bytearray) Object to store the output of the method. Can be used to print or store for later. **Warning:** This is not a *string*"
   ]
  },
  {
   "cell_type": "code",
   "execution_count": null,
   "metadata": {},
   "outputs": [],
   "source": [
    "try:\n",
    "    response_bytearray = bytearray()\n",
    "\n",
    "    g2_config.listEntityClassesV2(config_handle, response_bytearray)\n",
    "\n",
    "except G2Exception.G2ModuleGenericException as err:\n",
    "    print(g2_config.getLastException())\n",
    "    \n",
    "RenderJSON(response_bytearray)"
   ]
  },
  {
   "cell_type": "markdown",
   "metadata": {},
   "source": [
    "### listEntityTypesV2\n",
    "Calls G2Config's `listEntityTypesV2()` method and pretty-prints results.\n",
    "\n",
    "###### Parameters\n",
    "\n",
    "- ?**config_handle:** (int) variable containg the the number of the used config\n",
    "- **response_bytearray:** (bytearray) Object to store the output of the method. Can be used to print or store for later. **Warning:** This is not a *string*"
   ]
  },
  {
   "cell_type": "code",
   "execution_count": null,
   "metadata": {},
   "outputs": [],
   "source": [
    "try:\n",
    "    response_bytearray = bytearray()\n",
    "\n",
    "    g2_config.listEntityTypesV2(config_handle, response_bytearray)\n",
    "\n",
    "except G2Exception.G2ModuleGenericException as err:\n",
    "    print(g2_config.getLastException())\n",
    "    \n",
    "RenderJSON(response_bytearray)"
   ]
  },
  {
   "cell_type": "markdown",
   "metadata": {},
   "source": [
    "### listEntityClasses again\n",
    "\n",
    "###### Parameters\n",
    "\n",
    "- ?**config_handle:** (int) variable containg the the number of the used config\n",
    "- **response_bytearray:** (bytearray) Object to store the output of the method. Can be used to print or store for later. **Warning:** This is not a *string*"
   ]
  },
  {
   "cell_type": "code",
   "execution_count": null,
   "metadata": {},
   "outputs": [],
   "source": [
    "try:\n",
    "    response_bytearray = bytearray()\n",
    "\n",
    "    g2_config.listEntityClassesV2(config_handle, response_bytearray)\n",
    "\n",
    "\n",
    "except G2Exception.G2ModuleGenericException as err:\n",
    "    print(g2_config.getLastException())\n",
    "    \n",
    "RenderJSON(response_bytearray)"
   ]
  },
  {
   "cell_type": "markdown",
   "metadata": {},
   "source": [
    "### addEntityTypeV2\n",
    "\n",
    "###### Parameters\n",
    "\n",
    "- ?**config_handle:** (int) variable containg the the number of the used config\n",
    "- ?**entitytype_json:** (str) json containg the entity type and entity class code of the entity to be added\n",
    "- **response_bytearray:** (bytearray) Object to store the output of the method. Can be used to print or store for later. **Warning:** This is not a *string*"
   ]
  },
  {
   "cell_type": "code",
   "execution_count": null,
   "metadata": {},
   "outputs": [],
   "source": [
    "try:\n",
    "    entitytype = {\n",
    "        \"ETYPE_CODE\": \"PROFESSIONAL\",\n",
    "        \"ECLASS_CODE\": \"ACTOR\"\n",
    "    }\n",
    "    entitytype_json = json.dumps(entitytype)\n",
    "    response_bytearray = bytearray()\n",
    "\n",
    "    g2_config.addEntityTypeV2(config_handle, entitytype_json, response_bytearray)\n",
    "\n",
    "except G2Exception.G2ModuleGenericException as err:\n",
    "    print(g2_config.getLastException())\n",
    "\n",
    "RenderJSON(response_bytearray.decode())"
   ]
  },
  {
   "cell_type": "markdown",
   "metadata": {},
   "source": [
    "### listEntityTypes again\n",
    "\n",
    "###### Parameters\n",
    "\n",
    "- ?**config_handle:** (int) variable containg the the number of the used config\n",
    "- **response_bytearray:** (bytearray) Object to store the output of the method. Can be used to print or store for later. **Warning:** This is not a *string*"
   ]
  },
  {
   "cell_type": "code",
   "execution_count": null,
   "metadata": {},
   "outputs": [],
   "source": [
    "try:\n",
    "    response_bytearray = bytearray()\n",
    "\n",
    "    g2_config.listEntityTypesV2(config_handle, response_bytearray)\n",
    "\n",
    "except G2Exception.G2ModuleGenericException as err:\n",
    "    print(g2_config.getLastException())\n",
    "    \n",
    "RenderJSON(response_bytearray)"
   ]
  },
  {
   "cell_type": "markdown",
   "metadata": {},
   "source": [
    "### deleteEntityTypesV2\n",
    "\n",
    "###### Parameters\n",
    "\n",
    "- ?**config_handle:** (int) variable containg the the number of the used config\n",
    "- ?**entitytype_json:** (str) json containg the entity type and entity class code of the entity to be deleted"
   ]
  },
  {
   "cell_type": "code",
   "execution_count": null,
   "metadata": {},
   "outputs": [],
   "source": [
    "try:\n",
    "    entitytype = {\n",
    "        \"ETYPE_CODE\": \"PROFESSIONAL\",\n",
    "        \"ECLASS_CODE\": \"ACTOR\"\n",
    "    }\n",
    "    entitytype_json = json.dumps(entitytype)\n",
    "    g2_config.deleteEntityTypeV2(config_handle, entitytype_json)\n",
    "\n",
    "except G2Exception.G2ModuleGenericException as err:\n",
    "    print(g2_config.getLastException())"
   ]
  },
  {
   "cell_type": "markdown",
   "metadata": {},
   "source": [
    "## Feature"
   ]
  },
  {
   "cell_type": "markdown",
   "metadata": {},
   "source": [
    "### listFeatureElementsV2\n",
    "\n",
    "###### Parameters\n",
    "\n",
    "- ?**config_handle:** (int) variable containg the the number of the used config\n",
    "- **response_bytearray:** (bytearray) Object to store the output of the method. Can be used to print or store for later. **Warning:** This is not a *string*"
   ]
  },
  {
   "cell_type": "code",
   "execution_count": null,
   "metadata": {
    "scrolled": true
   },
   "outputs": [],
   "source": [
    "try:\n",
    "    response_bytearray = bytearray()\n",
    "\n",
    "    g2_config.listFeatureElementsV2(config_handle, response_bytearray)\n",
    "\n",
    "except G2Exception.G2ModuleGenericException as err:\n",
    "    print(g2_config.getLastException())\n",
    "    \n",
    "RenderJSON(response_bytearray)"
   ]
  },
  {
   "cell_type": "markdown",
   "metadata": {},
   "source": [
    "### getFeatureElementV2\n",
    "\n",
    "###### Parameters\n",
    "\n",
    "- ?**config_handle:** (int) variable containg the the number of the used config\n",
    "- ?**feature_element_json:** (str) the name of the feature element to be retrieved\n",
    "- **response_bytearray:** (bytearray) Object to store the output of the method. Can be used to print or store for later. **Warning:** This is not a *string*"
   ]
  },
  {
   "cell_type": "code",
   "execution_count": null,
   "metadata": {},
   "outputs": [],
   "source": [
    "try:\n",
    "    response_bytearray = bytearray()\n",
    "    featureElm={\n",
    "        \"FELEM_CODE\": \"GIVEN_NAME\"\n",
    "    }\n",
    "    featureElm_json = json.dumps(featureElm)\n",
    "    g2_config.getFeatureElementV2(config_handle, featureElm_json, response_bytearray)\n",
    "\n",
    "except G2Exception.G2ModuleGenericException as err:\n",
    "    print(g2_config.getLastException())\n",
    "\n",
    "RenderJSON(response_bytearray)"
   ]
  },
  {
   "cell_type": "markdown",
   "metadata": {},
   "source": [
    "### addFeatureElementV2\n",
    "\n",
    "###### Parameters\n",
    "\n",
    "- ?**config_handle:** (int) variable containg the the number of the used config\n",
    "- ?**feature_element_json:** (str) json containing the data for the feature element to add\n",
    "- **response_bytearray:** (bytearray) Object to store the output of the method. Can be used to print or store for later. **Warning:** This is not a *string*"
   ]
  },
  {
   "cell_type": "code",
   "execution_count": null,
   "metadata": {},
   "outputs": [],
   "source": [
    "try:\n",
    "    response_bytearray = bytearray()\n",
    "    featureElm = {\n",
    "        \"FELEM_CODE\": \"myNewFelem\",\n",
    "        \"FELEM_ID\": 789,\n",
    "        \"TOKENIZE\": 1,\n",
    "        \"DATA_TYPE\": \"string\"\n",
    "    }\n",
    "    featureElm_json = json.dumps(featureElm)\n",
    "    g2_config.addFeatureElementV2(config_handle, featureElm_json, response_bytearray)\n",
    "\n",
    "except G2Exception.G2ModuleGenericException as err:\n",
    "    print(g2_config.getLastException())\n",
    "\n",
    "RenderJSON(response_bytearray)"
   ]
  },
  {
   "cell_type": "markdown",
   "metadata": {},
   "source": [
    "### deleteFeatureElementV2\n",
    "\n",
    "###### Parameters\n",
    "\n",
    "- ?**config_handle:** (int) variable containg the the number of the used config\n",
    "- **featureElm_json:** (str) feature element code for the feature element to be deleted"
   ]
  },
  {
   "cell_type": "code",
   "execution_count": null,
   "metadata": {},
   "outputs": [],
   "source": [
    "try:\n",
    "    featureElm = {\n",
    "        \"FELEM_CODE\": \"myNewFelem\"\n",
    "    }\n",
    "    featureElm_json = json.dumps(featureElm)\n",
    "    g2_config.deleteFeatureElementV2(config_handle, featureElm_json)\n",
    "\n",
    "except G2Exception.G2ModuleGenericException as err:\n",
    "    print(g2_config.getLastException())"
   ]
  },
  {
   "cell_type": "markdown",
   "metadata": {},
   "source": [
    "### listFeatureClassesV2\n",
    "\n",
    "###### Parameters\n",
    "\n",
    "- ?**config_handle:** (int) variable containg the the number of the used config\n",
    "- **response_bytearray:** (bytearray) Object to store the output of the method. Can be used to print or store for later. **Warning:** This is not a *string*"
   ]
  },
  {
   "cell_type": "code",
   "execution_count": null,
   "metadata": {},
   "outputs": [],
   "source": [
    "try:\n",
    "    response_bytearray = bytearray()\n",
    "\n",
    "    g2_config.listFeatureClassesV2(config_handle, response_bytearray)\n",
    "\n",
    "except G2Exception.G2ModuleGenericException as err:\n",
    "    print(g2_config.getLastException())\n",
    "    \n",
    "RenderJSON(response_bytearray)"
   ]
  },
  {
   "cell_type": "markdown",
   "metadata": {},
   "source": [
    "### listFeaturesV2\n",
    "\n",
    "###### Parameters\n",
    "\n",
    "- ?**config_handle:** (int) variable containg the the number of the used config\n",
    "- **response_bytearray:** (bytearray) Object to store the output of the method. Can be used to print or store for later. **Warning:** This is not a *string*"
   ]
  },
  {
   "cell_type": "code",
   "execution_count": null,
   "metadata": {
    "scrolled": true
   },
   "outputs": [],
   "source": [
    "try:\n",
    "    response_bytearray = bytearray()\n",
    "\n",
    "    g2_config.listFeaturesV2(config_handle, response_bytearray)\n",
    "\n",
    "except G2Exception.G2ModuleGenericException as err:\n",
    "    print(g2_config.getLastException())\n",
    "    \n",
    "RenderJSON(response_bytearray)"
   ]
  },
  {
   "cell_type": "markdown",
   "metadata": {},
   "source": [
    "### getFeatureV2\n",
    "\n",
    "###### Parameters\n",
    "\n",
    "- ?**config_handle:** (int) variable containg the the number of the used config\n",
    "- ?**feature_json:** (str) name of the feature to retrieve\n",
    "- **response_bytearray:** (bytearray) Object to store the output of the method. Can be used to print or store for later. **Warning:** This is not a *string*"
   ]
  },
  {
   "cell_type": "code",
   "execution_count": null,
   "metadata": {},
   "outputs": [],
   "source": [
    "try:\n",
    "    response_bytearray = bytearray()\n",
    "    feature = {\n",
    "        \"FTYPE_CODE\": \"name\"\n",
    "    }\n",
    "    feature_json = json.dumps(feature)\n",
    "    g2_config.getFeatureV2(config_handle, feature_json, response_bytearray)\n",
    "\n",
    "except G2Exception.G2ModuleGenericException as err:\n",
    "    print(g2_config.getLastException())\n",
    "    \n",
    "RenderJSON(response_bytearray)"
   ]
  },
  {
   "cell_type": "markdown",
   "metadata": {},
   "source": [
    "### addFeatureV2\n",
    "\n",
    "###### Parameters\n",
    "\n",
    "- ?**config_handle:** (int) variable containg the the number of the used config\n",
    "- ?**feature_json:** (str) json containing the data of the feature to be added\n",
    "- **response_bytearray:** (bytearray) Object to store the output of the method. Can be used to print or store for later. **Warning:** This is not a *string*"
   ]
  },
  {
   "cell_type": "code",
   "execution_count": null,
   "metadata": {},
   "outputs": [],
   "source": [
    "try:\n",
    "    response_bytearray = bytearray()\n",
    "    feature = {\n",
    "        \"FTYPE_CODE\": \"myNewFtype\",\n",
    "        \"FTYPE_ID\": 789,\n",
    "        \"FCLASS_CODE\": \"ELECTED_ID\",\n",
    "        \"FTYPE_FREQ\": \"FF\",\n",
    "        \"FEATURE_ELEMENTS\": [{\n",
    "            \"FELEM_CODE\": \"expression\"\n",
    "        }]\n",
    "    }\n",
    "    feature_json = json.dumps(feature)\n",
    "    g2_config.addFeatureV2(config_handle, feature_json, response_bytearray)\n",
    "\n",
    "except G2Exception.G2ModuleGenericException as err:\n",
    "    print(g2_config.getLastException())\n",
    "    \n",
    "RenderJSON(response_bytearray)"
   ]
  },
  {
   "cell_type": "markdown",
   "metadata": {},
   "source": [
    "### deleteFeatureV2\n",
    "\n",
    "###### Parameters\n",
    "\n",
    "- ?**config_handle:** (int) variable containg the the number of the used config\n",
    "- ?**feature_json:** (str) name of the feature to be deleted"
   ]
  },
  {
   "cell_type": "code",
   "execution_count": null,
   "metadata": {},
   "outputs": [],
   "source": [
    "try:\n",
    "    feature = {\n",
    "        \"FTYPE_CODE\": \"NAME\"\n",
    "    }\n",
    "    feature_json = json.dumps(feature)\n",
    "    g2_config.deleteFeatureV2(config_handle, feature_json)\n",
    "\n",
    "except G2Exception.G2ModuleGenericException as err:\n",
    "    print(g2_config.getLastException())"
   ]
  },
  {
   "cell_type": "markdown",
   "metadata": {},
   "source": [
    "### addElementToFeatureV2\n",
    "\n",
    "###### Parameters\n",
    "\n",
    "- ?**config_handle:** (int) variable containg the the number of the used config\n",
    "- ?**elmnt_json:** (str) json containing the data of the element and the feature to add it to"
   ]
  },
  {
   "cell_type": "code",
   "execution_count": null,
   "metadata": {},
   "outputs": [],
   "source": [
    "try:\n",
    "    elmnt = {\n",
    "        \"FTYPE_CODE\": \"myNewFtype\",\n",
    "        \"FELEM_CODE\": \"expression\",\n",
    "        \"EXEC_ORDER\": 4\n",
    "    }\n",
    "    elmnt_json = json.dumps(elmnt)\n",
    "    g2_config.addElementToFeatureV2(config_handle, elmnt_json)\n",
    "\n",
    "except G2Exception.G2ModuleGenericException as err:\n",
    "    print(g2_config.getLastException())"
   ]
  },
  {
   "cell_type": "markdown",
   "metadata": {},
   "source": [
    "### deleteElementFromFeatureV2\n",
    "\n",
    "###### Parameters\n",
    "\n",
    "- ?**config_handle:** (int) variable containg the the number of the used config\n",
    "- ?**elmnt_json:** (str) json containing the name of the element and the feature to remove it from"
   ]
  },
  {
   "cell_type": "code",
   "execution_count": null,
   "metadata": {},
   "outputs": [],
   "source": [
    "try:\n",
    "    elmnt = {\n",
    "        \"FTYPE_CODE\": \"myNewFtype\",\n",
    "        \"FELEM_CODE\": \"expression\"\n",
    "    }\n",
    "    elmnt_json = json.dumps(elmnt)\n",
    "    g2_config.deleteElementFromFeatureV2(config_handle, elmnt_json)\n",
    "\n",
    "except G2Exception.G2ModuleGenericException as err:\n",
    "    print(g2_config.getLastException())"
   ]
  },
  {
   "cell_type": "markdown",
   "metadata": {},
   "source": [
    "### Standardization"
   ]
  },
  {
   "cell_type": "markdown",
   "metadata": {},
   "source": [
    "#### listFeatureStandardizationFunctionsV2\n",
    "\n",
    "###### Parameters\n",
    "\n",
    "- ?**config_handle:** (int) variable containg the the number of the used config\n",
    "- **response_bytearray:** (bytearray) Object to store the output of the method. Can be used to print or store for later. **Warning:** This is not a *string*"
   ]
  },
  {
   "cell_type": "code",
   "execution_count": null,
   "metadata": {},
   "outputs": [],
   "source": [
    "try:\n",
    "    response_bytearray = bytearray()\n",
    "\n",
    "    g2_config.listFeatureStandardizationFunctionsV2(config_handle, response_bytearray)\n",
    "\n",
    "except G2Exception.G2ModuleGenericException as err:\n",
    "    print(g2_config.getLastException())\n",
    "    \n",
    "RenderJSON(response_bytearray)"
   ]
  },
  {
   "cell_type": "markdown",
   "metadata": {},
   "source": [
    "#### listFeaturesStandardizationFunctionCallsV2\n",
    "\n",
    "###### Parameters\n",
    "\n",
    "- ?**config_handle:** (int) variable containg the the number of the used config\n",
    "- **response_bytearray:** (bytearray) Object to store the output of the method. Can be used to print or store for later. **Warning:** This is not a *string*"
   ]
  },
  {
   "cell_type": "code",
   "execution_count": null,
   "metadata": {},
   "outputs": [],
   "source": [
    "try:\n",
    "    response_bytearray = bytearray()\n",
    "\n",
    "    g2_config.listFeatureStandardizationFunctionCallsV2(config_handle, response_bytearray)\n",
    "\n",
    "except G2Exception.G2ModuleGenericException as err:\n",
    "    print(g2_config.getLastException())\n",
    "    \n",
    "RenderJSON(response_bytearray)"
   ]
  },
  {
   "cell_type": "markdown",
   "metadata": {},
   "source": [
    "#### getFeatureStandardizationFunctionCallV2\n",
    "\n",
    "###### Parameters\n",
    "\n",
    "- ?**config_handle:** (int) variable containg the the number of the used config\n",
    "- ?**featureStandard_json:** (str) the id of the feature standardization function to retrieve\n",
    "- **response_bytearray:** (bytearray) Object to store the output of the method. Can be used to print or store for later. **Warning:** This is not a *string*"
   ]
  },
  {
   "cell_type": "code",
   "execution_count": null,
   "metadata": {},
   "outputs": [],
   "source": [
    "try:\n",
    "    response_bytearray = bytearray()\n",
    "    featureStandard = {\n",
    "        \"SFCALL_ID\": 4\n",
    "    }\n",
    "    featureStandard_json = json.dumps(featureStandard)\n",
    "    g2_config.getFeatureStandardizationFunctionCallV2(config_handle, featureStandard_json, response_bytearray)\n",
    "\n",
    "except G2Exception.G2ModuleGenericException as err:\n",
    "    print(g2_config.getLastException())\n",
    "\n",
    "RenderJSON(response_bytearray)"
   ]
  },
  {
   "cell_type": "markdown",
   "metadata": {},
   "source": [
    "#### addFeatureStandardizationFunctionCallV2\n",
    "\n",
    "###### Parameters\n",
    "\n",
    "- ?**config_handle:** (int) variable containg the the number of the used config\n",
    "- ?**featureStandard_json:** (str) json containing the data of the feature standardization function to add\n",
    "- **response_bytearray:** (bytearray) Object to store the output of the method. Can be used to print or store for later. **Warning:** This is not a *string*"
   ]
  },
  {
   "cell_type": "code",
   "execution_count": null,
   "metadata": {},
   "outputs": [],
   "source": [
    "try:\n",
    "    response_bytearray = bytearray()\n",
    "    featureStandard = {\n",
    "        \"FTYPE_CODE\": \"veh_vin\",\n",
    "        \"SFCALL_ID\": 789,\n",
    "        \"SFUNC_CODE\": \"PARSE_ID\",\n",
    "        \"EXEC_ORDER\": 15\n",
    "    }\n",
    "    featureStandard_json = json.dumps(featureStandard)\n",
    "    g2_config.addFeatureStandardizationFunctionCallV2(config_handle, featureStandard_json, response_bytearray)\n",
    "\n",
    "except G2Exception.G2ModuleGenericException as err:\n",
    "    print(g2_config.getLastException())\n",
    "\n",
    "RenderJSON(response_bytearray)"
   ]
  },
  {
   "cell_type": "markdown",
   "metadata": {},
   "source": [
    "#### deleteFeatureStandardizationFunctionCallV2\n",
    "\n",
    "###### Parameters\n",
    "\n",
    "- ?**config_handle:** (int) variable containg the the number of the used config\n",
    "- ?**featureStandard_json:** (str) the id of the feature standardization function to delete"
   ]
  },
  {
   "cell_type": "code",
   "execution_count": null,
   "metadata": {},
   "outputs": [],
   "source": [
    "# Get the json from the previous function\n",
    "try:\n",
    "    featureStandard = {\n",
    "        \"SFCALL_ID\": 789\n",
    "    }\n",
    "    featureStandard_json = json.dumps(featureStandard)\n",
    "    g2_config.deleteFeatureStandardizationFunctionCallV2(config_handle, featureStandard_json)\n",
    "\n",
    "except G2Exception.G2ModuleGenericException as err:\n",
    "    print(g2_config.getLastException())"
   ]
  },
  {
   "cell_type": "markdown",
   "metadata": {},
   "source": [
    "### Expression"
   ]
  },
  {
   "cell_type": "markdown",
   "metadata": {},
   "source": [
    "#### listFeatureExpressionFunctionsV2\n",
    "\n",
    "###### Parameters\n",
    "\n",
    "- ?**config_handle:** (int) variable containg the the number of the used config\n",
    "- **response_bytearray:** (bytearray) Object to store the output of the method. Can be used to print or store for later. **Warning:** This is not a *string*"
   ]
  },
  {
   "cell_type": "code",
   "execution_count": null,
   "metadata": {},
   "outputs": [],
   "source": [
    "try:\n",
    "    response_bytearray = bytearray()\n",
    "    g2_config.listFeatureExpressionFunctionsV2(config_handle, response_bytearray)\n",
    "\n",
    "except G2Exception.G2ModuleGenericException as err:\n",
    "    print(g2_config.getLastException())\n",
    "    \n",
    "RenderJSON(response_bytearray)"
   ]
  },
  {
   "cell_type": "markdown",
   "metadata": {},
   "source": [
    "#### listFeatureExpressionFunctionCallsV2\n",
    "\n",
    "###### Parameters\n",
    "\n",
    "- ?**config_handle:** (int) variable containg the the number of the used config\n",
    "- **response_bytearray:** (bytearray) Object to store the output of the method. Can be used to print or store for later. **Warning:** This is not a *string*"
   ]
  },
  {
   "cell_type": "code",
   "execution_count": null,
   "metadata": {},
   "outputs": [],
   "source": [
    "try:\n",
    "    response_bytearray = bytearray()\n",
    "\n",
    "    g2_config.listFeatureExpressionFunctionCallsV2(config_handle, response_bytearray)\n",
    "\n",
    "except G2Exception.G2ModuleGenericException as err:\n",
    "    print(g2_config.getLastException())\n",
    "    \n",
    "RenderJSON(response_bytearray)"
   ]
  },
  {
   "cell_type": "markdown",
   "metadata": {},
   "source": [
    "#### getFeatureExpressionFunctionCallV2\n",
    "\n",
    "###### Parameters\n",
    "\n",
    "- ?**config_handle:** (int) variable containg the the number of the used config\n",
    "- ?**featureExpress_json:** (str) the id of the feature expression function to retrieve\n",
    "- **response_bytearray:** (bytearray) Object to store the output of the method. Can be used to print or store for later. **Warning:** This is not a *string*"
   ]
  },
  {
   "cell_type": "code",
   "execution_count": null,
   "metadata": {},
   "outputs": [],
   "source": [
    "try:\n",
    "    response_bytearray = bytearray()\n",
    "    featureExpress = {\n",
    "        \"EFCALL_ID\": 1\n",
    "    }\n",
    "    featureExpress_json = json.dumps(featureExpress)\n",
    "    g2_config.getFeatureExpressionFunctionCallV2(config_handle, featureExpress_json, response_bytearray)\n",
    "\n",
    "except G2Exception.G2ModuleGenericException as err:\n",
    "    print(g2_config.getLastException())\n",
    "\n",
    "RenderJSON(response_bytearray)"
   ]
  },
  {
   "cell_type": "markdown",
   "metadata": {},
   "source": [
    "#### addFeatureExpressionFunctionCallV2\n",
    "\n",
    "###### Parameters\n",
    "\n",
    "- ?**config_handle:** (int) variable containg the the number of the used config\n",
    "- ?**featureExpress_json:** (str) the data of the feature expression function to add\n",
    "- **response_bytearray:** (bytearray) Object to store the output of the method. Can be used to print or store for later. **Warning:** This is not a *string*"
   ]
  },
  {
   "cell_type": "code",
   "execution_count": null,
   "metadata": {},
   "outputs": [],
   "source": [
    "try:\n",
    "    response_bytearray = bytearray()\n",
    "    featureExpress = {\n",
    "        \"FTYPE_CODE\": \"veh_vin\",\n",
    "        \"EFCALL_ID\": 789,\n",
    "        \"EFUNC_CODE\": \"EXPRESS_ID\",\n",
    "        \"EXEC_ORDER\": 15,\n",
    "        \"BOM_ELEMENTS\": [{\n",
    "            \"FTYPE_CODE\": \"veh_vin\",\n",
    "            \"FELEM_CODE\": \"id_num\",\n",
    "            \"REQUIRED\": \"Yes\"\n",
    "        }]\n",
    "    }\n",
    "    featureExpress_json = json.dumps(featureExpress)\n",
    "    g2_config.addFeatureExpressionFunctionCallV2(config_handle, featureExpress_json, response_bytearray)\n",
    "\n",
    "except G2Exception.G2ModuleGenericException as err:\n",
    "    print(g2_config.getLastException())\n",
    "\n",
    "RenderJSON(response_bytearray)"
   ]
  },
  {
   "cell_type": "markdown",
   "metadata": {},
   "source": [
    "#### addFeatureExpressionFunctionCallElementV2\n",
    "\n",
    "###### Parameters\n",
    "\n",
    "- ?**config_handle:** (int) variable containg the the number of the used config\n",
    "- ?**featureExpressElm_json:** (str) ???"
   ]
  },
  {
   "cell_type": "code",
   "execution_count": null,
   "metadata": {},
   "outputs": [],
   "source": [
    "try:\n",
    "    featureExpressElm = {\n",
    "        \"EFCALL_ID\": 789,\n",
    "        \"FTYPE_CODE\": \"address\",\n",
    "        \"FELEM_CODE\": \"addr5\",\n",
    "        \"REQUIRED\": \"Yes\"\n",
    "    }\n",
    "    featureExpressElm_json = json.dumps(featureExpressElm)\n",
    "    g2_config.addFeatureExpressionFunctionCallElementV2(config_handle, featureExpressElm_json)\n",
    "\n",
    "except G2Exception.G2ModuleGenericException as err:\n",
    "    print(g2_config.getLastException())"
   ]
  },
  {
   "cell_type": "markdown",
   "metadata": {},
   "source": [
    "#### deleteFeatureExpressionFunctionCallElementV2\n",
    "\n",
    "###### Parameters\n",
    "\n",
    "- ?**config_handle:** (int) variable containg the the number of the used config\n",
    "- ?**featureExpressElm_json** (str) ???"
   ]
  },
  {
   "cell_type": "code",
   "execution_count": null,
   "metadata": {},
   "outputs": [],
   "source": [
    "try:\n",
    "    featureExpressElm = {\n",
    "        \"EFCALL_ID\": 789,\n",
    "        \"FTYPE_CODE\": \"ADDRESS\",\n",
    "        \"FELEM_CODE\": \"ADDR5\"\n",
    "    }\n",
    "    featureExpressElm_json = json.dumps(featureExpressElm)\n",
    "    g2_config.deleteFeatureExpressionFunctionCallElementV2(config_handle, featureExpressElm_json)\n",
    "\n",
    "except G2Exception.G2ModuleGenericException as err:\n",
    "    print(g2_config.getLastException())"
   ]
  },
  {
   "cell_type": "markdown",
   "metadata": {},
   "source": [
    "#### deleteFeatureExpressionFunctionCallV2\n",
    "\n",
    "###### Parameters\n",
    "\n",
    "- ?**config_handle:** (int) variable containg the the number of the used config\n",
    "- ?**featureExpress_json** (str) the id of the feature expression function to delete"
   ]
  },
  {
   "cell_type": "code",
   "execution_count": null,
   "metadata": {},
   "outputs": [],
   "source": [
    "# Get the json from the previous function\n",
    "try:\n",
    "    featureExpress = {\n",
    "        \"EFCALL_ID\": 789\n",
    "    }\n",
    "    featureExpress_json = json.dumps(featureExpress)\n",
    "    g2_config.deleteFeatureExpressionFunctionCallV2(config_handle, featureExpress_json)\n",
    "\n",
    "except G2Exception.G2ModuleGenericException as err:\n",
    "    print(g2_config.getLastException())"
   ]
  },
  {
   "cell_type": "markdown",
   "metadata": {},
   "source": [
    "### Comparison"
   ]
  },
  {
   "cell_type": "markdown",
   "metadata": {},
   "source": [
    "#### listFeatureComparisonFunctionsV2\n",
    "\n",
    "###### Parameters\n",
    "\n",
    "- ?**config_handle:** (int) variable containg the the number of the used config\n",
    "- **response_bytearray:** (bytearray) Object to store the output of the method. Can be used to print or store for later. **Warning:** This is not a *string*"
   ]
  },
  {
   "cell_type": "code",
   "execution_count": null,
   "metadata": {},
   "outputs": [],
   "source": [
    "try:\n",
    "    response_bytearray = bytearray()\n",
    "    g2_config.listFeatureComparisonFunctionsV2(config_handle, response_bytearray)\n",
    "\n",
    "except G2Exception.G2ModuleGenericException as err:\n",
    "    print(g2_config.getLastException())\n",
    "    \n",
    "RenderJSON(response_bytearray)"
   ]
  },
  {
   "cell_type": "markdown",
   "metadata": {},
   "source": [
    "#### listFeatureComparisonFunctionCallsV2\n",
    "\n",
    "###### Parameters\n",
    "\n",
    "- ?**config_handle:** (int) variable containg the the number of the used config\n",
    "- **response_bytearray:** (bytearray) Object to store the output of the method. Can be used to print or store for later. **Warning:** This is not a *string*"
   ]
  },
  {
   "cell_type": "code",
   "execution_count": null,
   "metadata": {
    "scrolled": true
   },
   "outputs": [],
   "source": [
    "try:\n",
    "    response_bytearray = bytearray()\n",
    "\n",
    "    g2_config.listFeatureComparisonFunctionCallsV2(config_handle, response_bytearray)\n",
    "\n",
    "except G2Exception.G2ModuleGenericException as err:\n",
    "    print(g2_config.getLastException())\n",
    "    \n",
    "RenderJSON(response_bytearray)"
   ]
  },
  {
   "cell_type": "markdown",
   "metadata": {},
   "source": [
    "#### getFeatureComparisonFunctionCallV2\n",
    "\n",
    "###### Parameters\n",
    "\n",
    "- ?**config_handle:** (int) variable containg the the number of the used config\n",
    "- ?**featureCompFunc_json:** (str) the id of the feature comparison function to retrieve\n",
    "- **response_bytearray:** (bytearray) Object to store the output of the method. Can be used to print or store for later. **Warning:** This is not a *string*"
   ]
  },
  {
   "cell_type": "code",
   "execution_count": null,
   "metadata": {},
   "outputs": [],
   "source": [
    "try:\n",
    "    response_bytearray = bytearray()\n",
    "    featureCompFunc = {\n",
    "        \"CFCALL_ID\": 2\n",
    "    }\n",
    "    featureCompFunc_json = json.dumps(featureCompFunc)\n",
    "    g2_config.getFeatureComparisonFunctionCallV2(config_handle, featureCompFunc_json, response_bytearray)\n",
    "\n",
    "except G2Exception.G2ModuleGenericException as err:\n",
    "    print(g2_config.getLastException())\n",
    "\n",
    "RenderJSON(response_bytearray)"
   ]
  },
  {
   "cell_type": "markdown",
   "metadata": {},
   "source": [
    "#### addFeatureComparisonFunctionCallV2\n",
    "\n",
    "###### Parameters\n",
    "\n",
    "- ?**config_handle:** (int) variable containg the the number of the used config\n",
    "- ?**featureCompFunc_json:** (str) json containing the data for the feature comparison function to add\n",
    "- **response_bytearray:** (bytearray) Object to store the output of the method. Can be used to print or store for later. **Warning:** This is not a *string*"
   ]
  },
  {
   "cell_type": "code",
   "execution_count": null,
   "metadata": {},
   "outputs": [],
   "source": [
    "try:\n",
    "    response_bytearray = bytearray()\n",
    "    featureCompFunc = {\n",
    "        \"FTYPE_CODE\": \"name_key\",\n",
    "        \"CFCALL_ID\": 789,\n",
    "        \"CFUNC_CODE\": \"ID_COMP\",\n",
    "        \"EXEC_ORDER\": 15,\n",
    "        \"BOM_ELEMENTS\": [{\n",
    "            \"FELEM_CODE\": \"expression\"\n",
    "        }]\n",
    "    }\n",
    "    featureCompFunc_json = json.dumps(featureCompFunc)\n",
    "    g2_config.addFeatureComparisonFunctionCallV2(config_handle, featureCompFunc_json, response_bytearray)\n",
    "\n",
    "except G2Exception.G2ModuleGenericException as err:\n",
    "    print(g2_config.getLastException())\n",
    "\n",
    "RenderJSON(response_bytearray)"
   ]
  },
  {
   "cell_type": "markdown",
   "metadata": {},
   "source": [
    "#### deleteFeatureComparisonFunctionCallV2\n",
    "\n",
    "###### Parameters\n",
    "\n",
    "- ?**config_handle:** (int) variable containg the the number of the used config\n",
    "- ?**featureComp_json:** the id of the feature comparison function to delete"
   ]
  },
  {
   "cell_type": "code",
   "execution_count": null,
   "metadata": {},
   "outputs": [],
   "source": [
    "# Get input_json from previous function\n",
    "try:\n",
    "    featureComp = {\n",
    "        \"CFCALL_ID\": 789\n",
    "    }\n",
    "    featureComp_json = json.dumps(featureComp)\n",
    "    g2_config.deleteFeatureComparisonFunctionCallV2(config_handle, featureComp_json)\n",
    "\n",
    "except G2Exception.G2ModuleGenericException as err:\n",
    "    print(g2_config.getLastException())"
   ]
  },
  {
   "cell_type": "markdown",
   "metadata": {},
   "source": [
    "#### addFeatureComparsionFunctionCallElementV2\n",
    "\n",
    "###### Parameters\n",
    "\n",
    "- ?**config_handle:** (int) variable containg the the number of the used config\n",
    "- ?**featureCompElm_json:** (str) ???"
   ]
  },
  {
   "cell_type": "code",
   "execution_count": null,
   "metadata": {},
   "outputs": [],
   "source": [
    "try:\n",
    "    featureCompElm = {\n",
    "        \"CFCALL_ID\": 5,\n",
    "        \"FELEM_CODE\": \"addr6\"\n",
    "    }\n",
    "    featureCompElm_json = json.dumps(featureCompElm)\n",
    "    g2_config.addFeatureComparisonFunctionCallElementV2(config_handle, featureCompElm_json)\n",
    "\n",
    "except G2Exception.G2ModuleGenericException as err:\n",
    "    print(g2_config.getLastException())"
   ]
  },
  {
   "cell_type": "markdown",
   "metadata": {},
   "source": [
    "#### deleteFeatureComparsionFunctionCallElementV2\n",
    "\n",
    "- ?**config_handle:** (int) variable containg the the number of the used config\n",
    "- ?**featureCompElm_json:** (str) ???"
   ]
  },
  {
   "cell_type": "code",
   "execution_count": null,
   "metadata": {},
   "outputs": [],
   "source": [
    "try:\n",
    "    featureCompElm = {\n",
    "        \"CFCALL_ID\": 5,\n",
    "        \"FELEM_CODE\": \"ADDR4\"\n",
    "    }\n",
    "    featureCompElm_json = json.dumps(featureCompElm)\n",
    "    g2_config.deleteFeatureComparisonFunctionCallElementV2(config_handle, featureCompElm_json)\n",
    "\n",
    "except G2Exception.G2ModuleGenericException as err:\n",
    "    print(g2_config.getLastException())"
   ]
  },
  {
   "cell_type": "markdown",
   "metadata": {},
   "source": [
    "### Distinct"
   ]
  },
  {
   "cell_type": "markdown",
   "metadata": {},
   "source": [
    "#### listFeatureDistinctFunctionsV2\n",
    "\n",
    "- ?**config_handle:** (int) variable containg the the number of the used config\n",
    "- **response_bytearray:** (bytearray) Object to store the output of the method. Can be used to print or store for later. **Warning:** This is not a *string*"
   ]
  },
  {
   "cell_type": "code",
   "execution_count": null,
   "metadata": {},
   "outputs": [],
   "source": [
    "try:\n",
    "    response_bytearray = bytearray()\n",
    "\n",
    "    g2_config.listFeatureDistinctFunctionsV2(config_handle, response_bytearray)\n",
    "\n",
    "except G2Exception.G2ModuleGenericException as err:\n",
    "    print(g2_config.getLastException())\n",
    "    \n",
    "RenderJSON(response_bytearray)"
   ]
  },
  {
   "cell_type": "markdown",
   "metadata": {},
   "source": [
    "#### listFeatureDistinctFunctionCallsV2\n",
    "\n",
    "- ?**config_handle:** (int) variable containg the the number of the used config\n",
    "- **response_bytearray:** (bytearray) Object to store the output of the method. Can be used to print or store for later. **Warning:** This is not a *string*"
   ]
  },
  {
   "cell_type": "code",
   "execution_count": null,
   "metadata": {
    "scrolled": true
   },
   "outputs": [],
   "source": [
    "try:\n",
    "    response_bytearray = bytearray()\n",
    "\n",
    "    g2_config.listFeatureDistinctFunctionCallsV2(config_handle, response_bytearray)\n",
    "\n",
    "except G2Exception.G2ModuleGenericException as err:\n",
    "    print(g2_config.getLastException())\n",
    "    \n",
    "RenderJSON(response_bytearray)"
   ]
  },
  {
   "cell_type": "markdown",
   "metadata": {},
   "source": [
    "#### getFeatureDistinctFunctionCallV2\n",
    "- ?**config_handle:** (int) variable containg the the number of the used config\n",
    "- ?**featureFunc_json:** (str) the id of the feature distinct function to retrieve\n",
    "- **response_bytearray:** (bytearray) Object to store the output of the method. Can be used to print or store for later. **Warning:** This is not a *string*"
   ]
  },
  {
   "cell_type": "code",
   "execution_count": null,
   "metadata": {},
   "outputs": [],
   "source": [
    "try:\n",
    "    response_bytearray = bytearray()\n",
    "    featureFunc = {\n",
    "        \"DFCALL_ID\": 2\n",
    "    }\n",
    "    featureFunc_json = json.dumps(featureFunc)\n",
    "    g2_config.getFeatureDistinctFunctionCallV2(config_handle, featureFunc_json, response_bytearray)\n",
    "\n",
    "except G2Exception.G2ModuleGenericException as err:\n",
    "    print(g2_config.getLastException())\n",
    "\n",
    "RenderJSON(response_bytearray)"
   ]
  },
  {
   "cell_type": "markdown",
   "metadata": {},
   "source": [
    "#### addFeatureDistinctFunctionCallV2\n",
    "\n",
    "- ?**config_handle:** (int) variable containg the the number of the used config\n",
    "- ?**featureFunc_json:** (str) json containing the data of the feature distinct function to add\n",
    "- **response_bytearray:** (bytearray) Object to store the output of the method. Can be used to print or store for later. **Warning:** This is not a *string*"
   ]
  },
  {
   "cell_type": "code",
   "execution_count": null,
   "metadata": {},
   "outputs": [],
   "source": [
    "try:\n",
    "    response_bytearray = bytearray()\n",
    "    featureFunc = {\n",
    "        \"FTYPE_CODE\": \"name_key\",\n",
    "        \"DFCALL_ID\": 789,\n",
    "        \"DFUNC_CODE\": \"FELEM_STRICT_SUBSET\",\n",
    "        \"EXEC_ORDER\": 15,\n",
    "        \"BOM_ELEMENTS\": [{\n",
    "            \"FELEM_CODE\": \"expression\"\n",
    "        }]\n",
    "    }\n",
    "    featureFunc_json = json.dumps(featureFunc)\n",
    "    g2_config.addFeatureDistinctFunctionCallV2(config_handle, featureFunc_json, response_bytearray)\n",
    "\n",
    "except G2Exception.G2ModuleGenericException as err:\n",
    "    print(g2_config.getLastException())\n",
    "\n",
    "RenderJSON(response_bytearray)"
   ]
  },
  {
   "cell_type": "markdown",
   "metadata": {},
   "source": [
    "#### deleteFeatureDistinctFunctionCallV2\n",
    "\n",
    "- ?**config_handle:** (int) variable containg the the number of the used config\n",
    "- ?**featureFunc_json:** (str) the id of the feature distinct function to delete"
   ]
  },
  {
   "cell_type": "code",
   "execution_count": null,
   "metadata": {},
   "outputs": [],
   "source": [
    "try:\n",
    "    featureFunc = {\n",
    "        \"DFCALL_ID\": 1002\n",
    "    }\n",
    "    featureFunc_json = json.dumps(featureFunc)\n",
    "    g2_config.deleteFeatureDistinctFunctionCallV2(config_handle, featureFunc_json)\n",
    "\n",
    "except G2Exception.G2ModuleGenericException as err:\n",
    "    print(g2_config.getLastException())"
   ]
  },
  {
   "cell_type": "markdown",
   "metadata": {},
   "source": [
    "#### addFeatureDistinctFunctionCallElementV2\n",
    "\n",
    "- ?**config_handle:** (int) variable containg the the number of the used config\n",
    "- ?**featureElmt_json:** (str) ???"
   ]
  },
  {
   "cell_type": "code",
   "execution_count": null,
   "metadata": {},
   "outputs": [],
   "source": [
    "try:\n",
    "    featureElmt = {\n",
    "        \"DFCALL_ID\": 5,\n",
    "        \"FELEM_CODE\": \"addr6\"\n",
    "    }\n",
    "    featureElmt_json = json.dumps(featureElmt)\n",
    "    g2_config.addFeatureDistinctFunctionCallElementV2(config_handle, featureElmt_json)\n",
    "\n",
    "except G2Exception.G2ModuleGenericException as err:\n",
    "    print(g2_config.getLastException())"
   ]
  },
  {
   "cell_type": "markdown",
   "metadata": {},
   "source": [
    "#### deleteFeatureDistinctFunctionCallElementV2\n",
    "\n",
    "- ?**config_handle:** (int) variable containg the the number of the used config\n",
    "- ?**featureElmt_json:** (str) ???"
   ]
  },
  {
   "cell_type": "code",
   "execution_count": null,
   "metadata": {},
   "outputs": [],
   "source": [
    "try:\n",
    "    featureElmt = {\n",
    "        \"DFCALL_ID\": 5,\n",
    "        \"FELEM_CODE\": \"ADDR4\"\n",
    "    }\n",
    "    featureElmt_json = json.dumps(featureElmt)\n",
    "    g2_config.deleteFeatureDistinctFunctionCallElementV2(config_handle, featureElmt_json)\n",
    "\n",
    "except G2Exception.G2ModuleGenericException as err:\n",
    "    print(g2_config.getLastException())"
   ]
  },
  {
   "cell_type": "markdown",
   "metadata": {},
   "source": [
    "## Attributes"
   ]
  },
  {
   "cell_type": "markdown",
   "metadata": {},
   "source": [
    "### listAttributeClassesV2\n",
    "\n",
    "- ?**config_handle:** (int) variable containg the the number of the used config\n",
    "- **response_bytearray:** (bytearray) Object to store the output of the method. Can be used to print or store for later. **Warning:** This is not a *string*"
   ]
  },
  {
   "cell_type": "code",
   "execution_count": null,
   "metadata": {},
   "outputs": [],
   "source": [
    "try:\n",
    "    response_bytearray = bytearray()\n",
    "\n",
    "    g2_config.listAttributeClassesV2(config_handle, response_bytearray)\n",
    "\n",
    "except G2Exception.G2ModuleGenericException as err:\n",
    "    print(g2_config.getLastException())\n",
    "    \n",
    "RenderJSON(response_bytearray)"
   ]
  },
  {
   "cell_type": "markdown",
   "metadata": {},
   "source": [
    "### listAttributesV2\n",
    "\n",
    "- ?**config_handle:** (int) variable containg the the number of the used config\n",
    "- **response_bytearray:** (bytearray) Object to store the output of the method. Can be used to print or store for later. **Warning:** This is not a *string*"
   ]
  },
  {
   "cell_type": "code",
   "execution_count": null,
   "metadata": {
    "scrolled": true
   },
   "outputs": [],
   "source": [
    "try:\n",
    "    response_bytearray = bytearray()\n",
    "\n",
    "    g2_config.listAttributesV2(config_handle, response_bytearray)\n",
    "\n",
    "except G2Exception.G2ModuleGenericException as err:\n",
    "    print(g2_config.getLastException())\n",
    "    \n",
    "RenderJSON(response_bytearray)"
   ]
  },
  {
   "cell_type": "markdown",
   "metadata": {},
   "source": [
    "### getAttributeV2\n",
    "\n",
    "- ?**config_handle:** (int) variable containg the the number of the used config\n",
    "- ?**data_json:** (str) the name of the attribute to retrieve\n",
    "- **response_bytearray:** (bytearray) Object to store the output of the method. Can be used to print or store for later. **Warning:** This is not a *string*"
   ]
  },
  {
   "cell_type": "code",
   "execution_count": null,
   "metadata": {},
   "outputs": [],
   "source": [
    "try:\n",
    "    response_bytearray = bytearray()\n",
    "    data = {\n",
    "        \"ATTR_CODE\": \"DATA_SOURCE\"\n",
    "    }\n",
    "    data_json = json.dumps(data)\n",
    "    g2_config.getAttributeV2(config_handle, data_json, response_bytearray)\n",
    "\n",
    "except G2Exception.G2ModuleGenericException as err:\n",
    "    print(g2_config.getLastException())\n",
    "\n",
    "RenderJSON(response_bytearray)"
   ]
  },
  {
   "cell_type": "markdown",
   "metadata": {},
   "source": [
    "### addAttributeV2\n",
    "\n",
    "- ?**config_handle:** (int) variable containg the the number of the used config\n",
    "- ?**attr_json:** (str) json of the data fo the attribute to add\n",
    "- **response_bytearray:** (bytearray) Object to store the output of the method. Can be used to print or store for later. **Warning:** This is not a *string*"
   ]
  },
  {
   "cell_type": "code",
   "execution_count": null,
   "metadata": {},
   "outputs": [],
   "source": [
    "try:\n",
    "    response_bytearray = bytearray()\n",
    "    attr = {\n",
    "        \"ATTR_CODE\": \"myNewAttr\",\n",
    "        \"ATTR_ID\": 789,\n",
    "        \"ATTR_CLASS\": \"attribute\",\n",
    "        \"FTYPE_CODE\": \"name_key\",\n",
    "        \"FELEM_CODE\": \"latitude\",\n",
    "        \"FELEM_REQ\": \"myReqValue\",\n",
    "        \"DEFAULT_VALUE\": \"myDefault\",\n",
    "        \"ADVANCED\": \"Y\",\n",
    "        \"INTERNAL\": 1\n",
    "    }\n",
    "    attr_json = json.dumps(attr)\n",
    "    g2_config.addAttributeV2(config_handle, attr_json, response_bytearray)\n",
    "\n",
    "except G2Exception.G2ModuleGenericException as err:\n",
    "    print(g2_config.getLastException())\n",
    "\n",
    "RenderJSON(response_bytearray)"
   ]
  },
  {
   "cell_type": "markdown",
   "metadata": {},
   "source": [
    "### deleteAttributeV2\n",
    "\n",
    "- ?**config_handle:** (int) variable containg the the number of the used config\n",
    "- ?**data_json:** (str) the name of the attribute to delete"
   ]
  },
  {
   "cell_type": "code",
   "execution_count": null,
   "metadata": {},
   "outputs": [],
   "source": [
    "try:\n",
    "    data = {\n",
    "        \"ATTR_CODE\": \"NAME_FIRST\"\n",
    "    }\n",
    "    data_json = json.dumps(data)\n",
    "    g2_config.deleteAttributeV2(config_handle, data_json)\n",
    "\n",
    "except G2Exception.G2ModuleGenericException as err:\n",
    "    print(g2_config.getLastException())"
   ]
  },
  {
   "cell_type": "markdown",
   "metadata": {},
   "source": [
    "## Cleanup"
   ]
  },
  {
   "cell_type": "markdown",
   "metadata": {},
   "source": [
    "### getLastException"
   ]
  },
  {
   "cell_type": "code",
   "execution_count": null,
   "metadata": {},
   "outputs": [],
   "source": [
    "print(g2_config.getLastException())"
   ]
  },
  {
   "cell_type": "markdown",
   "metadata": {},
   "source": [
    "### clearLastException"
   ]
  },
  {
   "cell_type": "code",
   "execution_count": null,
   "metadata": {},
   "outputs": [],
   "source": [
    "try:\n",
    "    g2_config.clearLastException()\n",
    "\n",
    "except G2Exception.G2ModuleGenericException as err:\n",
    "    print(g2_config.getLastException())"
   ]
  },
  {
   "cell_type": "markdown",
   "metadata": {},
   "source": [
    "### close\n",
    "\n",
    "- ?**config_handle:** (int) variable containg the the number of the used config"
   ]
  },
  {
   "cell_type": "code",
   "execution_count": null,
   "metadata": {},
   "outputs": [],
   "source": [
    "try:\n",
    "    g2_config.close(config_handle)\n",
    "\n",
    "except G2Exception.G2ModuleGenericException as err:\n",
    "    print(g2_config.getLastException())"
   ]
  },
  {
   "cell_type": "markdown",
   "metadata": {},
   "source": [
    "### destroy"
   ]
  },
  {
   "cell_type": "code",
   "execution_count": null,
   "metadata": {},
   "outputs": [],
   "source": [
    "try:\n",
    "    g2_config.destroy()\n",
    "\n",
    "except G2Exception.G2ModuleGenericException as err:\n",
    "    print(g2_config.getLastException())"
   ]
  }
 ],
 "metadata": {
  "kernelspec": {
   "display_name": "Python 3",
   "language": "python",
   "name": "python3"
  },
  "language_info": {
   "codemirror_mode": {
    "name": "ipython",
    "version": 3
   },
   "file_extension": ".py",
   "mimetype": "text/x-python",
   "name": "python",
   "nbconvert_exporter": "python",
   "pygments_lexer": "ipython3",
   "version": "3.7.8"
  },
  "toc": {
   "base_numbering": 1,
   "nav_menu": {},
   "number_sections": true,
   "sideBar": true,
   "skip_h1_title": true,
   "title_cell": "Table of Contents",
   "title_sidebar": "Contents",
   "toc_cell": false,
   "toc_position": {
    "height": "calc(100% - 180px)",
    "left": "10px",
    "top": "150px",
    "width": "309.767px"
   },
   "toc_section_display": true,
   "toc_window_display": true
  }
 },
 "nbformat": 4,
 "nbformat_minor": 2
}
