{
 "cells": [
  {
   "cell_type": "markdown",
   "metadata": {},
   "source": [
    "# G2Config Reference"
   ]
  },
  {
   "cell_type": "markdown",
   "metadata": {},
   "source": [
    "## Prepare environment"
   ]
  },
  {
   "cell_type": "code",
   "execution_count": null,
   "metadata": {},
   "outputs": [],
   "source": [
    "import os\n",
    "import sys\n",
    "import json\n",
    "\n",
    "from IPython.display import JSON"
   ]
  },
  {
   "cell_type": "markdown",
   "metadata": {},
   "source": [
    "### Helper class for JSON rendering\n",
    "\n",
    "A class for pretty-printing JSON.\n",
    "Not required by Senzing, \n",
    "but helps visualize JSON."
   ]
  },
  {
   "cell_type": "code",
   "execution_count": null,
   "metadata": {},
   "outputs": [],
   "source": [
    "def as_dict(json_data):\n",
    "    if isinstance(json_data, dict):\n",
    "        return an_object\n",
    "    elif isinstance(json_data, bytearray):\n",
    "        return json.loads(json_data.decode())\n",
    "    elif isinstance(json_data, bytes):\n",
    "        return json.loads(json_data.decode())\n",
    "    elif isinstance(json_data, str):\n",
    "        return json.loads(json_data)\n",
    "    return {}"
   ]
  },
  {
   "cell_type": "markdown",
   "metadata": {},
   "source": [
    "### System path\n",
    "\n",
    "Update system path."
   ]
  },
  {
   "cell_type": "code",
   "execution_count": null,
   "metadata": {},
   "outputs": [],
   "source": [
    "python_path = \"{0}/python\".format(\n",
    "    os.environ.get(\"SENZING_G2_DIR\", \"/opt/senzing/g2\"))\n",
    "sys.path.append(python_path)"
   ]
  },
  {
   "cell_type": "markdown",
   "metadata": {},
   "source": [
    "### Initialize variables\n",
    "\n",
    "Create variables used for G2Config and G2ConfigMgr."
   ]
  },
  {
   "cell_type": "code",
   "execution_count": null,
   "metadata": {},
   "outputs": [],
   "source": [
    "%run senzing-init-config.ipynb"
   ]
  },
  {
   "cell_type": "code",
   "execution_count": null,
   "metadata": {},
   "outputs": [],
   "source": [
    "%store -r senzing_config_json"
   ]
  },
  {
   "cell_type": "code",
   "execution_count": null,
   "metadata": {},
   "outputs": [],
   "source": [
    "JSON(as_dict(senzing_config_json))"
   ]
  },
  {
   "cell_type": "markdown",
   "metadata": {},
   "source": [
    "## G2Config\n",
    "\n",
    "The G2Config API..."
   ]
  },
  {
   "cell_type": "code",
   "execution_count": null,
   "metadata": {},
   "outputs": [],
   "source": [
    "from senzing import G2Config, G2Exception"
   ]
  },
  {
   "cell_type": "markdown",
   "metadata": {},
   "source": [
    "### Initialize G2Config\n",
    "\n",
    "**Parameters**\n",
    "\n",
    "- **module_name:** (str) A short name given to this instance of the G2Config\n",
    "  object.\n",
    "- **senzing_config_json:** (str) A JSON string containing configuration parameters.\n",
    "- **verbose_logging:** (bool) A boolean which enables diagnostic logging."
   ]
  },
  {
   "cell_type": "code",
   "execution_count": null,
   "metadata": {},
   "outputs": [],
   "source": [
    "g2_config = G2Config()\n",
    "try:\n",
    "    g2_config.init(module_name, senzing_config_json, verbose_logging)\n",
    "\n",
    "except G2Exception as err:\n",
    "    print(err)"
   ]
  },
  {
   "cell_type": "markdown",
   "metadata": {},
   "source": [
    "### Create configuration handle\n",
    "`create()` creates an in-memory handle for an editable configuration document.  It does so by pulling from the default template config document, stored in the product installation."
   ]
  },
  {
   "cell_type": "code",
   "execution_count": null,
   "metadata": {},
   "outputs": [],
   "source": [
    "try:\n",
    "    config_handle = g2_config.create()\n",
    "\n",
    "except G2Exception as err:\n",
    "    print(err)"
   ]
  },
  {
   "cell_type": "markdown",
   "metadata": {
    "tags": []
   },
   "source": [
    "### save\n",
    "`save()` takes an in-memory handle for an editable configuration document, and exports it as a string through the function parameters.\n",
    "**Parameters**\n",
    "\n",
    "- **config_handle:** (int) the handle of the config object to get the config json data from\n",
    "- **response_bytearray:** (bytearray) Object to store the output of the method. Can be used to print or store for later. **Warning:** This is not a *string*"
   ]
  },
  {
   "cell_type": "code",
   "execution_count": null,
   "metadata": {},
   "outputs": [],
   "source": [
    "try:\n",
    "    response_bytearray = bytearray()\n",
    "    g2_config.save(config_handle, response_bytearray)\n",
    "    config_bytearray = response_bytearray\n",
    "except G2Exception as err:\n",
    "    print(err)\n",
    "\n",
    "JSON(as_dict(response_bytearray))"
   ]
  },
  {
   "cell_type": "markdown",
   "metadata": {},
   "source": [
    "### load\n",
    "`load()` creates an in-memory handle for an editable configuration document. It does so by loading the config document, provided as an input parameter string.\n",
    "**Parameters**\n",
    "\n",
    "- **config_bytearray:** (bytearray) the config data to load into the config handle."
   ]
  },
  {
   "cell_type": "code",
   "execution_count": null,
   "metadata": {},
   "outputs": [],
   "source": [
    "try:\n",
    "    # example using the saved config from the `save()` method\n",
    "    config_handle = g2_config.load(config_bytearray)\n",
    "\n",
    "except G2Exception as err:\n",
    "    print(err)\n",
    "\n",
    "print(\"config handle: \" + str(config_handle))\n",
    "JSON(as_dict(config_bytearray))"
   ]
  },
  {
   "cell_type": "markdown",
   "metadata": {},
   "source": [
    "## Datasources"
   ]
  },
  {
   "cell_type": "markdown",
   "metadata": {},
   "source": [
    "### listDataSources\n",
    "\n",
    "`listDataSources()` returns a list of data sources contained in an in-memory handle for an editable configuration document\n",
    "**Parameters**\n",
    "\n",
    "- **config_handle:** (int) the handle of the config object to get the config json data from\n",
    "- **response_bytearray:** (bytearray) Object to store the output of the method. Can be used to print or store for later. **Warning:** This is not a *string*"
   ]
  },
  {
   "cell_type": "code",
   "execution_count": null,
   "metadata": {},
   "outputs": [],
   "source": [
    "try:\n",
    "    response_bytearray = bytearray()\n",
    "\n",
    "    g2_config.listDataSources(config_handle, response_bytearray)\n",
    "\n",
    "except G2Exception as err:\n",
    "    print(err)\n",
    "\n",
    "JSON(as_dict(response_bytearray))"
   ]
  },
  {
   "cell_type": "markdown",
   "metadata": {},
   "source": [
    "### addDataSource\n",
    "\n",
    "`addDataSource()` adds a new data source to an in-memory handle for an editable configuration document\n",
    "**Parameters**\n",
    "\n",
    "- **config_handle:** (int) the handle of the config object to get the config json data from\n",
    "- **datasource_json:** (str) json containing the name of the datasource to be added\n",
    "- **response_bytearray:** (bytearray) Object to store the output of the method. Can be used to print or store for later. **Warning:** This is not a *string*"
   ]
  },
  {
   "cell_type": "code",
   "execution_count": null,
   "metadata": {
    "scrolled": true
   },
   "outputs": [],
   "source": [
    "try:\n",
    "    datasource = {\n",
    "        \"DSRC_CODE\": \"CUSTOMER\"\n",
    "    }\n",
    "    datasource_json = json.dumps(datasource)\n",
    "    response_bytearray = bytearray()\n",
    "\n",
    "    g2_config.addDataSource(config_handle, datasource_json, response_bytearray)\n",
    "\n",
    "except G2Exception as err:\n",
    "    print(err)\n",
    "\n",
    "JSON(as_dict(response_bytearray))"
   ]
  },
  {
   "cell_type": "markdown",
   "metadata": {},
   "source": [
    "### listDataSources again\n",
    "\n",
    "Call G2Config's `listDataSources()` method and pretty-prints results.\n",
    "Notice that the list now contains the newly added datasource_code of \"CUSTOMER\".\n",
    "\n",
    "**Parameters**\n",
    "\n",
    "- **config_handle:** (int) the handle of the config object to get the config json data from\n",
    "- **response_bytearray:** (bytearray) Object to store the output of the method. Can be used to print or store for later. **Warning:** This is not a *string*"
   ]
  },
  {
   "cell_type": "code",
   "execution_count": null,
   "metadata": {},
   "outputs": [],
   "source": [
    "try:\n",
    "    response_bytearray = bytearray()\n",
    "\n",
    "    g2_config.listDataSources(config_handle, response_bytearray)\n",
    "\n",
    "except G2Exception as err:\n",
    "    print(err)\n",
    "\n",
    "JSON(as_dict(response_bytearray))"
   ]
  },
  {
   "cell_type": "markdown",
   "metadata": {},
   "source": [
    "### deleteDataSource\n",
    "\n",
    "`deleteDataSource()` removes a data source from an in-memory handle for an editable configuration document\n",
    "**Parameters**\n",
    "\n",
    "- **config_handle:** (int) the handle of the config object to get the config json data from\n",
    "- **datasource_json:** (str) json containing the name of the datasource to be added"
   ]
  },
  {
   "cell_type": "code",
   "execution_count": null,
   "metadata": {},
   "outputs": [],
   "source": [
    "try:\n",
    "    datasource = {\n",
    "        \"DSRC_CODE\": \"CUSTOMER\"\n",
    "    }\n",
    "    datasource_json = json.dumps(datasource)\n",
    "    response_bytearray = bytearray()\n",
    "\n",
    "    g2_config.deleteDataSource(config_handle, datasource_json)\n",
    "\n",
    "except G2Exception as err:\n",
    "    print(err)"
   ]
  },
  {
   "cell_type": "markdown",
   "metadata": {},
   "source": [
    "## Cleanup"
   ]
  },
  {
   "cell_type": "markdown",
   "metadata": {},
   "source": [
    "### close\n",
    "\n",
    "`close()` deletes an in-memory handle for an editable configuration document, and frees it’s internal memory resources.\n",
    "\n",
    "**Parameters**\n",
    "- **config_handle:** (int) the handle of the config object to get the config json data from"
   ]
  },
  {
   "cell_type": "code",
   "execution_count": null,
   "metadata": {},
   "outputs": [],
   "source": [
    "try:\n",
    "    g2_config.close(config_handle)\n",
    "\n",
    "except G2Exception as err:\n",
    "    print(err)"
   ]
  },
  {
   "cell_type": "markdown",
   "metadata": {},
   "source": [
    "### destroy"
   ]
  },
  {
   "cell_type": "code",
   "execution_count": null,
   "metadata": {},
   "outputs": [],
   "source": [
    "try:\n",
    "    g2_config.destroy()\n",
    "\n",
    "except G2Exception as err:\n",
    "    print(err)"
   ]
  }
 ],
 "metadata": {
  "kernelspec": {
   "display_name": "Python 3 (ipykernel)",
   "language": "python",
   "name": "python3"
  },
  "language_info": {
   "codemirror_mode": {
    "name": "ipython",
    "version": 3
   },
   "file_extension": ".py",
   "mimetype": "text/x-python",
   "name": "python",
   "nbconvert_exporter": "python",
   "pygments_lexer": "ipython3",
   "version": "3.9.12"
  },
  "toc": {
   "base_numbering": 1,
   "nav_menu": {},
   "number_sections": true,
   "sideBar": true,
   "skip_h1_title": true,
   "title_cell": "Table of Contents",
   "title_sidebar": "Contents",
   "toc_cell": false,
   "toc_position": {
    "height": "calc(100% - 180px)",
    "left": "10px",
    "top": "150px",
    "width": "309.767px"
   },
   "toc_section_display": true,
   "toc_window_display": true
  },
  "toc-autonumbering": true
 },
 "nbformat": 4,
 "nbformat_minor": 4
}
