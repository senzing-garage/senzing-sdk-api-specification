{
 "cells": [
  {
   "cell_type": "markdown",
   "metadata": {},
   "source": [
    "# G2Engine Reference"
   ]
  },
  {
   "cell_type": "markdown",
   "metadata": {},
   "source": [
    "## Prepare environment"
   ]
  },
  {
   "cell_type": "markdown",
   "metadata": {},
   "source": [
    "### Initialize Senzing configuration\n",
    "\n",
    "Run [senzing-G2ConfigMgr-reference.ipynb](senzing-G2ConfigMgr-reference.ipynb)\n",
    "to install a Senzing Engine configuration in the database."
   ]
  },
  {
   "cell_type": "markdown",
   "metadata": {},
   "source": [
    "### Initialize python environment"
   ]
  },
  {
   "cell_type": "code",
   "execution_count": null,
   "metadata": {},
   "outputs": [],
   "source": [
    "import os\n",
    "import sys\n",
    "import json\n",
    "\n",
    "# For RenderJSON\n",
    "\n",
    "import uuid\n",
    "from IPython.display import display_javascript, display_html, display"
   ]
  },
  {
   "cell_type": "markdown",
   "metadata": {},
   "source": [
    "### Helper class for JSON rendering\n",
    "\n",
    "A class for pretty-printing JSON.\n",
    "Not required by Senzing, \n",
    "but helps visualize JSON."
   ]
  },
  {
   "cell_type": "code",
   "execution_count": null,
   "metadata": {},
   "outputs": [],
   "source": [
    "class RenderJSON():\n",
    "    def __init__(self, json_data):\n",
    "        if isinstance(json_data, dict):\n",
    "            self.json_str = json.dumps(json_data)\n",
    "        elif isinstance(json_data, bytearray):\n",
    "            self.json_str = json_data.decode()\n",
    "        else:\n",
    "            self.json_str = json_data\n",
    "        self.uuid = str(uuid.uuid4())\n",
    "\n",
    "    def _ipython_display_(self):\n",
    "        display_html('<div id=\"{}\" style=\"height:100%; width:100%; background-color: LightCyan\"></div>'.format(self.uuid), raw=True)\n",
    "        display_javascript(\"\"\"\n",
    "        require([\"https://rawgit.com/caldwell/renderjson/master/renderjson.js\"], function() {\n",
    "        document.getElementById('%s').appendChild(renderjson(%s))\n",
    "        });\n",
    "        \"\"\" % (self.uuid, self.json_str), raw=True)"
   ]
  },
  {
   "cell_type": "markdown",
   "metadata": {},
   "source": [
    "### System path\n",
    "\n",
    "Update system path."
   ]
  },
  {
   "cell_type": "code",
   "execution_count": null,
   "metadata": {},
   "outputs": [],
   "source": [
    "python_path = \"{0}/python\".format(\n",
    "    os.environ.get(\"SENZING_G2_DIR\", \"/opt/senzing/g2\"))\n",
    "sys.path.append(python_path)"
   ]
  },
  {
   "cell_type": "markdown",
   "metadata": {},
   "source": [
    "### Initialize variables\n",
    "\n",
    "Create variables used for G2Engine."
   ]
  },
  {
   "cell_type": "code",
   "execution_count": null,
   "metadata": {
    "scrolled": true
   },
   "outputs": [],
   "source": [
    "%run senzing-init-config.ipynb"
   ]
  },
  {
   "cell_type": "code",
   "execution_count": null,
   "metadata": {},
   "outputs": [],
   "source": [
    "%store -r senzing_config_json\n",
    "%store -r config_id_bytearray"
   ]
  },
  {
   "cell_type": "code",
   "execution_count": null,
   "metadata": {},
   "outputs": [],
   "source": [
    "RenderJSON(senzing_config_json)"
   ]
  },
  {
   "cell_type": "markdown",
   "metadata": {},
   "source": [
    "## G2Engine"
   ]
  },
  {
   "cell_type": "code",
   "execution_count": null,
   "metadata": {},
   "outputs": [],
   "source": [
    "from senzing import G2Engine, G2Exception"
   ]
  },
  {
   "cell_type": "markdown",
   "metadata": {},
   "source": [
    "### G2Engine initialization\n",
    "\n",
    "To start using Senzing G2Engine, create and initialize an instance.\n",
    "This should be done once per process.\n",
    "###### Parameters\n",
    "\n",
    "- **module_name:** (str) A short name given to this instance of the G2Engine\n",
    "  object.\n",
    "- **senzing_config_json:** A JSON string containing configuration parameters.\n",
    "- **verbose_logging:** A boolean which enables diagnostic logging.\n",
    "\n",
    "Calling this function will return \"0\" upon success."
   ]
  },
  {
   "cell_type": "code",
   "execution_count": null,
   "metadata": {
    "scrolled": false
   },
   "outputs": [],
   "source": [
    "g2_engine = G2Engine()\n",
    "try:\n",
    "    return_code = g2_engine.init(\n",
    "        module_name,\n",
    "        senzing_config_json,\n",
    "        verbose_logging)\n",
    "\n",
    "except G2Exception as err:\n",
    "    print(g2_engine.getLastException())"
   ]
  },
  {
   "cell_type": "markdown",
   "metadata": {},
   "source": [
    "#### destroy()\n",
    "destroy the engine so that we can initalize differently"
   ]
  },
  {
   "cell_type": "code",
   "execution_count": null,
   "metadata": {},
   "outputs": [],
   "source": [
    "g2_engine.destroy()"
   ]
  },
  {
   "cell_type": "markdown",
   "metadata": {},
   "source": [
    "### initWithConfigID\n",
    "\n",
    "Alternatively `initWithConfigID()` can be used to specify a configuration.\n",
    "\n",
    "###### Parameters\n",
    "\n",
    "- **module_name:** (str) A short name given to this instance of the G2Engine\n",
    "  object.\n",
    "- **senzing_config_json:** (str) A JSON string containing configuration parameters.\n",
    "- **config_id_bytearray:** (bytearray) The configID that you want to initialize the engine with.\n",
    "- **verbose_logging:** (bool) A boolean which enables diagnostic logging."
   ]
  },
  {
   "cell_type": "code",
   "execution_count": null,
   "metadata": {},
   "outputs": [],
   "source": [
    "try:\n",
    "    return_code = g2_engine.initWithConfigID(\n",
    "        module_name,\n",
    "        senzing_config_json,\n",
    "        config_id_bytearray,\n",
    "        verbose_logging)\n",
    "\n",
    "except G2Exception as err:\n",
    "    print(g2_engine.getLastException())"
   ]
  },
  {
   "cell_type": "markdown",
   "metadata": {},
   "source": [
    "### reinit\n",
    "\n",
    "The `reinit()` function may be used to reinitialize the engine\n",
    "using a specified initConfigID.\n",
    "\n",
    "###### Parameters\n",
    "\n",
    "- **config_id_bytearray:** (bytearray) The configID that you want to initialize the engine with."
   ]
  },
  {
   "cell_type": "code",
   "execution_count": null,
   "metadata": {},
   "outputs": [],
   "source": [
    "try:\n",
    "    return_code = g2_engine.reinit(\n",
    "        config_id_bytearray)\n",
    "\n",
    "except G2Exception as err:\n",
    "    print(g2_engine.getLastException())"
   ]
  },
  {
   "cell_type": "markdown",
   "metadata": {},
   "source": [
    "### primeEngine\n",
    "\n",
    "The `primeEngine()` method may optionally be called to pre-initialize\n",
    "some of the heavier weight internal resources of the G2 engine."
   ]
  },
  {
   "cell_type": "code",
   "execution_count": null,
   "metadata": {},
   "outputs": [],
   "source": [
    "try:\n",
    "    g2_engine.primeEngine()\n",
    "\n",
    "except G2Exception as err:\n",
    "    print(g2_engine.getLastException())"
   ]
  },
  {
   "cell_type": "markdown",
   "metadata": {},
   "source": [
    "### getActiveConfigID\n",
    "\n",
    "Call `getActiveConfigID()` to return an identifier for the loaded\n",
    "Senzing engine configuration.\n",
    "The call will assign a long integer to a user-designated variable\n",
    "\n",
    "###### Parameters\n",
    "\n",
    "- **configuration_id_bytearray:** (bytearray) The identifier value for the engine configuration.\n",
    "  The result of function call is returned here"
   ]
  },
  {
   "cell_type": "code",
   "execution_count": null,
   "metadata": {},
   "outputs": [],
   "source": [
    "configuration_id_bytearray = bytearray()\n",
    "try:\n",
    "    g2_engine.getActiveConfigID(configuration_id_bytearray)\n",
    "    print(\"Configuration id: {0}\".format(configuration_id_bytearray.decode()))\n",
    "\n",
    "except G2Exception as err:\n",
    "    print(g2_engine.getlastException())"
   ]
  },
  {
   "cell_type": "markdown",
   "metadata": {},
   "source": [
    "### exportConfig\n",
    "\n",
    "Call `exportConfig()` to retrieve your Senzing engine's configuration.\n",
    "The call will assign a JSON document to a user-designated buffer,\n",
    "containing all relevant configuration information\n",
    "-- the function itself will return \"0\" upon success.\n",
    "The exportConfig function accepts the following parameters as input:\n",
    "\n",
    "###### Parameters\n",
    "\n",
    "- **response_bytearray:** (bytearray) Object to store the output of the method. Can be used to print or store for later. **Warning:** This is not a *string*\n",
    "- **config_id_bytearray:** (bytearray) The identifier value for the engine configuration\n",
    "  can be returned here."
   ]
  },
  {
   "cell_type": "code",
   "execution_count": null,
   "metadata": {},
   "outputs": [],
   "source": [
    "response_bytearray = bytearray()\n",
    "config_id_bytearray = bytearray()\n",
    "\n",
    "try:\n",
    "    g2_engine.exportConfig(response_bytearray, config_id_bytearray)\n",
    "    print(\"Configuration ID: {0}\".format(config_id_bytearray.decode()))\n",
    "\n",
    "except G2Exception as err:\n",
    "    print(g2_engine.getLastException())\n",
    "RenderJSON(response_bytearray)"
   ]
  },
  {
   "cell_type": "markdown",
   "metadata": {},
   "source": [
    "### stats\n",
    "\n",
    "Call `stats()` to retrieve workload statistics for the current process.\n",
    "These statistics will automatically reset after retrieval.\n",
    "\n",
    "###### Parameters\n",
    "\n",
    "- **response_bytearray:** (bytearray) Object to store the output of the method. Can be used to print or store for later. **Warning:** This is not a *string*"
   ]
  },
  {
   "cell_type": "code",
   "execution_count": null,
   "metadata": {},
   "outputs": [],
   "source": [
    "response_bytearray = bytearray()\n",
    "\n",
    "try:\n",
    "    g2_engine.stats(response_bytearray)\n",
    "\n",
    "except G2Exception as err:\n",
    "    print(g2_engine.getLastException())\n",
    "RenderJSON(response_bytearray)"
   ]
  },
  {
   "cell_type": "markdown",
   "metadata": {},
   "source": [
    "### getRepositoryLastModifiedTime\n",
    "\n",
    "Call `getRepositoryLastModifiedTime()` to obtain the last modified time of\n",
    "the Senzing repository,measured in the number of seconds between the last\n",
    "modified time and January 1, 1970 12:00am GMT (epoch time).\n",
    "The call will assign a long integer to a user-designated buffer\n",
    "\n",
    "###### Parameters\n",
    "\n",
    "- **last_modified_time_bytearray:** (bytearray) The last modified time. The result of function\n",
    "  call is returned here\n"
   ]
  },
  {
   "cell_type": "code",
   "execution_count": null,
   "metadata": {},
   "outputs": [],
   "source": [
    "last_modified_time_bytearray = bytearray()\n",
    "\n",
    "try:\n",
    "    g2_engine.getRepositoryLastModifiedTime(last_modified_time_bytearray)\n",
    "\n",
    "# Human readable output.\n",
    "\n",
    "    from datetime import datetime\n",
    "    last_modified_unixtime = int(int(last_modified_time_bytearray.decode()) / 1000)\n",
    "    last_modified_datetime = datetime.fromtimestamp(last_modified_unixtime)\n",
    "\n",
    "    print(\"Last modified timestamp: {0}\\nLast modified time: {1}\"\n",
    "          .format(last_modified_time_bytearray.decode(), last_modified_datetime))\n",
    "\n",
    "except G2Exception as err:\n",
    "    print(g2_engine.getLastException())"
   ]
  },
  {
   "cell_type": "markdown",
   "metadata": {},
   "source": [
    "### Flags\n",
    "flags are optional parameters that specify what data about an entity or record to retrive. If no flag parameter is given then the default flags are used, and this will be the practice throughout this notebook but an example is give below"
   ]
  },
  {
   "cell_type": "code",
   "execution_count": null,
   "metadata": {},
   "outputs": [],
   "source": [
    "from senzing import G2EngineFlags\n",
    "\n",
    "g2_engine_record_flags = G2EngineFlags.G2_RECORD_DEFAULT_FLAGS\n",
    "\n",
    "load_id = None\n",
    "response_bytearray = bytearray()\n",
    "flags_example_datasource_code = \"TEST\"\n",
    "flags_example_record_id = \"100\"\n",
    "flags_example_data = {\n",
    "    \"NAMES\": [{\n",
    "        \"NAME_TYPE\": \"PRIMARY\",\n",
    "        \"NAME_LAST\": \"John\",\n",
    "        \"NAME_FIRST\": \"Smith\",\n",
    "        \"NAME_MIDDLE\": \"E\"\n",
    "    }],\n",
    "    \"PASSPORT_NUMBER\": \"PP12345\",\n",
    "    \"PASSPORT_COUNTRY\": \"US\",\n",
    "    \"DRIVERS_LICENSE_NUMBER\": \"DL12345\",\n",
    "    \"SSN_NUMBER\": \"123-45-6789\"\n",
    "}\n",
    "flags_example_data_as_json = json.dumps(flags_example_data)\n",
    "\n",
    "try:\n",
    "    g2_engine.addRecordWithInfo(\n",
    "        flags_example_datasource_code,\n",
    "        flags_example_record_id,\n",
    "        flags_example_data_as_json,\n",
    "        response_bytearray,\n",
    "        load_id,\n",
    "        g2_engine_record_flags)\n",
    "\n",
    "except G2Exception as err:\n",
    "    print(g2_engine.getLastException())\n",
    "RenderJSON(response_bytearray)"
   ]
  },
  {
   "cell_type": "markdown",
   "metadata": {},
   "source": [
    "## Insert"
   ]
  },
  {
   "cell_type": "markdown",
   "metadata": {},
   "source": [
    "### Insert parameters\n",
    "\n",
    "The following variables are used as parameters to the Senzing API."
   ]
  },
  {
   "cell_type": "code",
   "execution_count": null,
   "metadata": {},
   "outputs": [],
   "source": [
    "datasource_code_1 = \"TEST\"\n",
    "record_id_1 = \"1\"\n",
    "datasource_code_2 = \"TEST\"\n",
    "record_id_2 = \"2\"\n",
    "datasource_code_3 = \"TEST\"\n",
    "record_id_3 = \"3\"\n",
    "datasource_code_4 = \"TEST\"\n",
    "record_id_4 = \"4\"\n",
    "datasource_code_5 = \"TEST\"\n",
    "record_id_5 = \"5\"\n",
    "datasource_code_6 = \"TEST\"\n",
    "record_id_6 = \"6\"\n",
    "datasource_code_7 = \"TEST\"\n",
    "record_id_7 = \"7\"\n",
    "datasource_code_8 = \"TEST\"\n",
    "record_id_8 = \"8\"\n",
    "\n",
    "load_id = None"
   ]
  },
  {
   "cell_type": "markdown",
   "metadata": {},
   "source": [
    "Initial data."
   ]
  },
  {
   "cell_type": "code",
   "execution_count": null,
   "metadata": {},
   "outputs": [],
   "source": [
    "data = {\n",
    "    \"NAMES\": [{\n",
    "        \"NAME_TYPE\": \"PRIMARY\",\n",
    "        \"NAME_LAST\": \"Smith\",\n",
    "        \"NAME_FIRST\": \"John\",\n",
    "        \"NAME_MIDDLE\": \"M\"\n",
    "    }],\n",
    "    \"PASSPORT_NUMBER\": \"PP11111\",\n",
    "    \"PASSPORT_COUNTRY\": \"US\",\n",
    "    \"DRIVERS_LICENSE_NUMBER\": \"DL11111\",\n",
    "    \"SSN_NUMBER\": \"111-11-1111\"\n",
    "}\n",
    "data_as_json = json.dumps(data)"
   ]
  },
  {
   "cell_type": "markdown",
   "metadata": {},
   "source": [
    "### addRecord\n",
    "\n",
    "Once the Senzing engine is initialized, use `addRecord()` to load a record\n",
    "into the Senzing repository\n",
    "-- `addRecord()` can be called as many times as desired and from multiple\n",
    "threads at the same time.\n",
    "The `addRecord()` function returns \"0\" upon success, and accepts four\n",
    "parameters as input:\n",
    "\n",
    "###### Parameters\n",
    "\n",
    "- **datasource_code:** (str) The name of the data source the record\n",
    "  is associated with.\n",
    "  This value is configurable to the system\n",
    "- **record_id:** (str) The record ID, used to identify distinct records\n",
    "- **data_as_json:** (str) A JSON document with the attribute data for the record\n",
    "- **load_id:** (str **[optional]** ) the observation load ID for the record;\n",
    "  value can be null."
   ]
  },
  {
   "cell_type": "code",
   "execution_count": null,
   "metadata": {},
   "outputs": [],
   "source": [
    "try:\n",
    "    datasource_code = datasource_code_1\n",
    "    record_id = record_id_1\n",
    "    g2_engine.addRecord(\n",
    "        datasource_code,\n",
    "        record_id,\n",
    "        data_as_json,\n",
    "        load_id)\n",
    "    \n",
    "except G2Exception as err:\n",
    "    print(g2_engine.getLastException())"
   ]
  },
  {
   "cell_type": "markdown",
   "metadata": {},
   "source": [
    "### addRecordWithReturnedRecordID\n",
    "\n",
    "Alternatively `addRecordWithReturnedRecordID()` can be used to return the record ID\n",
    "\n",
    "###### Parameters\n",
    "\n",
    "- **datasource_code:** (str) The name of the data source the record\n",
    "  is associated with.\n",
    "  This value is configurable to the system\n",
    "- **response_bytearray:** (bytearray) Object to store the output of the method. Can be used to print or store for later. **Warning:** This is not a *string*\n",
    "- **record_id:** (str) The record ID, used to identify distinct records\n",
    "- **data_as_json:** (str) A JSON document with the attribute data for the record\n",
    "- **load_id:** (str **[optional]** ) the observation load ID for the record;\n",
    "  value can be null."
   ]
  },
  {
   "cell_type": "code",
   "execution_count": null,
   "metadata": {},
   "outputs": [],
   "source": [
    "response = bytearray()\n",
    "try:\n",
    "    g2_engine.addRecordWithReturnedRecordID(\n",
    "        datasource_code,\n",
    "        response_bytearray,\n",
    "        data_as_json,\n",
    "        load_id)\n",
    "    \n",
    "except G2Exception as err:\n",
    "    print(g2_engine.getLastException())\n",
    "print(response_bytearray.decode())"
   ]
  },
  {
   "cell_type": "markdown",
   "metadata": {},
   "source": [
    "### addRecordWithInfo\n",
    "\n",
    "Use if you would like to know what resolved entities were modified when\n",
    "adding the new record.\n",
    "It behaves identically to addRecord(),\n",
    "but returns a json document containing the IDs of the affected entities.\n",
    "\n",
    "###### Parameters\n",
    "\n",
    "- **datasource_code:** (str) The name of the data source the record is associated\n",
    "  with.  This value is configurable to the system.\n",
    "- **record_id:** (str) The record ID, used to identify distinct records\n",
    "- **data_as_json:** (str) A JSON document with the attribute data for the record\n",
    "- **response_bytearray:** (bytearray) Object to store the output of the method. Can be used to print or store for later. **Warning:** This is not a *string*\n",
    "- **load_id:** (str **[optional]** ) the observation load ID for the record;\n",
    "  value can be null.\n",
    "- **g2_engine_flags:** (int **[optional]** ) Control flags for specifying what data about the\n",
    "  entity to retrieve\n"
   ]
  },
  {
   "cell_type": "code",
   "execution_count": null,
   "metadata": {},
   "outputs": [],
   "source": [
    "response_bytearray = bytearray()\n",
    "try:\n",
    "    g2_engine.addRecordWithInfo(\n",
    "        datasource_code,\n",
    "        record_id,\n",
    "        data_as_json,\n",
    "        response_bytearray,\n",
    "        load_id)\n",
    "\n",
    "except G2Exception as err:\n",
    "    print(g2_engine.getLastException())\n",
    "RenderJSON(response_bytearray)"
   ]
  },
  {
   "cell_type": "markdown",
   "metadata": {},
   "source": [
    "### addRecordWithInfoWithReturnedRecordID\n",
    "\n",
    "\n",
    "###### Parameters\n",
    "\n",
    "- **datasource_code:** (str) The name of the data source the record is associated\n",
    "  with.  This value is configurable to the system.\n",
    "- **record_response:** (bytearray) The record ID of the added record.\n",
    "- **data_as_json:** (str) A JSON document with the attribute data for the record\n",
    "- **response_bytearray:** (bytearray) Object to store the output of the method. Can be used to print or store for later. **Warning:** This is not a *string*\n",
    "- **load_id:** (str **[optional]** ) the observation load ID for the record;\n",
    "  value can be null.\n",
    "- **g2_engine_flags:** (int **[optional]** ) Control flags for specifying what data about the\n",
    "  entity to retrieve\n"
   ]
  },
  {
   "cell_type": "code",
   "execution_count": null,
   "metadata": {},
   "outputs": [],
   "source": [
    "response_bytearray = bytearray()\n",
    "record_response = bytearray()\n",
    "try:\n",
    "    g2_engine.addRecordWithInfoWithReturnedRecordID(\n",
    "        datasource_code,\n",
    "        data_as_json,\n",
    "        record_response,\n",
    "        response_bytearray,\n",
    "        load_id)\n",
    "\n",
    "except G2Exception as err:\n",
    "    print(g2_engine.getLastException())\n",
    "print(record_response.decode())"
   ]
  },
  {
   "cell_type": "markdown",
   "metadata": {},
   "source": [
    "## Replace"
   ]
  },
  {
   "cell_type": "markdown",
   "metadata": {},
   "source": [
    "### replaceRecord\n",
    "\n",
    "Use the `replaceRecord()` function to update or replace a record in the data\n",
    "repository.\n",
    "If record doesn't exist, a new record is added to the data repository.\n",
    "Like the above functions, `replaceRecord()` returns \"0\" upon success,\n",
    "and it can be called as many times as desired and from multiple threads at\n",
    "the same time.\n",
    "\n",
    "###### Parameters\n",
    "\n",
    "- **datasource_code:** (str) The name of the data source the record is associated\n",
    "  with.  This value is configurable to the system\n",
    "- **record_id:** (str) The record ID, used to identify distinct records\n",
    "- **data_as_json:** (str) A JSON document with the attribute data for the record\n",
    "- **load_id:** (str **[optional]** ) the observation load ID for the record;\n",
    "  value can be null."
   ]
  },
  {
   "cell_type": "code",
   "execution_count": null,
   "metadata": {},
   "outputs": [],
   "source": [
    "data = {\n",
    "    \"NAMES\": [{\n",
    "        \"NAME_TYPE\": \"PRIMARY\",\n",
    "        \"NAME_LAST\": \"Miller\",\n",
    "        \"NAME_FIRST\": \"John\",\n",
    "        \"NAME_MIDDLE\": \"M\"\n",
    "    }],\n",
    "    \"PASSPORT_NUMBER\": \"PP11111\",\n",
    "    \"PASSPORT_COUNTRY\": \"US\",\n",
    "    \"DRIVERS_LICENSE_NUMBER\": \"DL11111\",\n",
    "    \"SSN_NUMBER\": \"111-11-1111\"\n",
    "}\n",
    "data_as_json = json.dumps(data)\n",
    "\n",
    "try:\n",
    "    g2_engine.replaceRecord(\n",
    "        datasource_code,\n",
    "        record_id,\n",
    "        data_as_json,\n",
    "        load_id)\n",
    "\n",
    "except G2Exception as err:\n",
    "    print(g2_engine.getLastException())"
   ]
  },
  {
   "cell_type": "markdown",
   "metadata": {},
   "source": [
    "### replaceRecordWithInfo\n",
    "\n",
    "`replaceRecordWithInfo()` is available if you would like to know what\n",
    "resolved entities were modified when replacing a record.\n",
    "It behaves identically to `replaceRecord()`,\n",
    "but also returns a json document containing the IDs of the affected entities.\n",
    "\n",
    "###### Parameters\n",
    "\n",
    "- **datasource_code:** (str) The name of the data source the record is associated\n",
    "  with.  This value is configurable to the system.\n",
    "- **record_id:** (str) The record ID, used to identify distinct records\n",
    "- **data_as_json:** (str) A JSON document with the attribute data for the record\n",
    "- **response_bytearray:** (bytearray) Object to store the output of the method. Can be used to print or store for later. **Warning:** This is not a *string*\n",
    "- **load_id:** (str **[optional]** ) the observation load ID for the record;\n",
    "  value can be null."
   ]
  },
  {
   "cell_type": "code",
   "execution_count": null,
   "metadata": {},
   "outputs": [],
   "source": [
    "data = {\n",
    "    \"NAMES\": [{\n",
    "        \"NAME_TYPE\": \"PRIMARY\",\n",
    "        \"NAME_LAST\": \"Jones\",\n",
    "        \"NAME_FIRST\": \"John\",\n",
    "        \"NAME_MIDDLE\": \"M\"\n",
    "    }],\n",
    "    \"PASSPORT_NUMBER\": \"PP11111\",\n",
    "    \"PASSPORT_COUNTRY\": \"US\",\n",
    "    \"DRIVERS_LICENSE_NUMBER\": \"DL11111\",\n",
    "    \"SSN_NUMBER\": \"111-11-1111\"\n",
    "}\n",
    "data_as_json = json.dumps(data)\n",
    "response_bytearray = bytearray()\n",
    "\n",
    "try:\n",
    "    g2_engine.replaceRecordWithInfo(\n",
    "        datasource_code,\n",
    "        record_id,\n",
    "        data_as_json,\n",
    "        response_bytearray,\n",
    "        load_id)\n",
    "\n",
    "except G2Exception as err:\n",
    "    print(g2_engine.getLastException())\n",
    "RenderJSON(response_bytearray)"
   ]
  },
  {
   "cell_type": "markdown",
   "metadata": {},
   "source": [
    "## Re-evaluate"
   ]
  },
  {
   "cell_type": "markdown",
   "metadata": {},
   "source": [
    "### reevaluateRecord\n",
    "\n",
    "###### Parameters\n",
    "\n",
    "- **datasource_code:** (str) The name of the data source the record is associated\n",
    "  with.  This value is configurable to the system.\n",
    "- **record_id:** (str) The record ID, used to identify distinct records\n",
    "- **g2_engine_flags:** (int **[optional]**) Control flags for outputting entities"
   ]
  },
  {
   "cell_type": "code",
   "execution_count": null,
   "metadata": {},
   "outputs": [],
   "source": [
    "try:\n",
    "    g2_engine.reevaluateRecord(\n",
    "        datasource_code,\n",
    "        record_id,)\n",
    "\n",
    "except G2Exception as err:\n",
    "    print(g2_engine.getLastException())"
   ]
  },
  {
   "cell_type": "markdown",
   "metadata": {},
   "source": [
    "### reevaluateRecordWithInfo\n",
    "\n",
    "###### Parameters\n",
    "\n",
    "- **datasource_code:** (str) The name of the data source the record is associated\n",
    "  with.  This value is configurable to the system.\n",
    "- **record_id:** (str) The record ID, used to identify distinct records\n",
    "- **response_bytearray:** (bytearray) Object to store the output of the method. Can be used to print or store for later. **Warning:** This is not a *string*\n",
    "- **g2_engine_flags:** (int **[optional]**) Control flags for outputting entities"
   ]
  },
  {
   "cell_type": "code",
   "execution_count": null,
   "metadata": {},
   "outputs": [],
   "source": [
    "response_bytearray = bytearray()\n",
    "\n",
    "try:\n",
    "    g2_engine.reevaluateRecordWithInfo(\n",
    "        datasource_code,\n",
    "        record_id,\n",
    "        response_bytearray,)\n",
    "\n",
    "except G2Exception as err:\n",
    "    print(g2_engine.getLastException())\n",
    "RenderJSON(response_bytearray)"
   ]
  },
  {
   "cell_type": "markdown",
   "metadata": {},
   "source": [
    "### reevaluateEntity\n",
    "\n",
    "###### Parameters\n",
    "\n",
    "- **entity_id:** (int) The entity ID for the entity to be analyzed\n",
    "- **g2_engine_flags:** (int **[optional]**) Control flags for outputting entities"
   ]
  },
  {
   "cell_type": "markdown",
   "metadata": {},
   "source": [
    "First get an entity"
   ]
  },
  {
   "cell_type": "code",
   "execution_count": null,
   "metadata": {},
   "outputs": [],
   "source": [
    "response_bytearray = bytearray()\n",
    "\n",
    "try:\n",
    "    g2_engine.getEntityByRecordID(\n",
    "        datasource_code,\n",
    "        record_id,\n",
    "        response_bytearray)\n",
    "\n",
    "    response_dictionary = json.loads(response_bytearray)\n",
    "    entity_id_1 = response_dictionary[\"RESOLVED_ENTITY\"][\"ENTITY_ID\"]\n",
    "\n",
    "except G2Exception as err:\n",
    "    print(g2_engine.getLastException())\n",
    "RenderJSON(response_bytearray)"
   ]
  },
  {
   "cell_type": "markdown",
   "metadata": {},
   "source": [
    "Re-evaluate the entity."
   ]
  },
  {
   "cell_type": "code",
   "execution_count": null,
   "metadata": {},
   "outputs": [],
   "source": [
    "try:\n",
    "    entity_id = entity_id_1\n",
    "    g2_engine.reevaluateEntity(entity_id)\n",
    "\n",
    "except G2Exception as err:\n",
    "    print(g2_engine.getLastException())"
   ]
  },
  {
   "cell_type": "markdown",
   "metadata": {},
   "source": [
    "### reevaluateEntityWithInfo\n",
    "\n",
    "###### Parameters\n",
    "\n",
    "- **entity_id:** (int) The entity ID for the entity to be analyzed\n",
    "- **response_bytearray:** (bytearray) Object to store the output of the method. Can be used to print or store for - **later. Warning:** This is not a string\n",
    "- **g2_engine_flags:** (int **[optional]**) Control flags for outputting entities"
   ]
  },
  {
   "cell_type": "code",
   "execution_count": null,
   "metadata": {},
   "outputs": [],
   "source": [
    "response_bytearray = bytearray()\n",
    "\n",
    "try:\n",
    "    entity_id = entity_id_1\n",
    "    g2_engine.reevaluateEntityWithInfo(\n",
    "        entity_id,\n",
    "        response_bytearray)\n",
    "\n",
    "except G2Exception as err:\n",
    "    print(g2_engine.getLastException())\n",
    "RenderJSON(response_bytearray)"
   ]
  },
  {
   "cell_type": "markdown",
   "metadata": {},
   "source": [
    "## Redo Processing\n",
    "\n",
    "Redo records are automatically created by Senzing when certain conditions\n",
    "occur where it believes more processing may be needed.\n",
    "Some examples:\n",
    "\n",
    "- A value becomes generic and previous decisions may need to be revisited\n",
    "- Clean up after some record deletes\n",
    "- Detected related entities were being changed at the same time\n",
    "- A table inconsistency exists, potentially after a non-graceful shutdown\n",
    "\n",
    "First we will need to have a total of 6 data sources so let's add 5 more."
   ]
  },
  {
   "cell_type": "markdown",
   "metadata": {},
   "source": [
    "Create Record and Entity for redo "
   ]
  },
  {
   "cell_type": "code",
   "execution_count": null,
   "metadata": {},
   "outputs": [],
   "source": [
    "data = {\n",
    "    \"NAMES\": [{\n",
    "        \"NAME_TYPE\": \"PRIMARY\",\n",
    "        \"NAME_LAST\": \"Owens\",\n",
    "        \"NAME_FIRST\": \"Lily\"\n",
    "    }],\n",
    "    \"SSN_NUMBER\": \"111-11-1111\"\n",
    "}\n",
    "data_as_json = json.dumps(data)\n",
    "\n",
    "try:\n",
    "    datasource_code = datasource_code_4\n",
    "    record_id = record_id_4\n",
    "    g2_engine.addRecord(\n",
    "        datasource_code,\n",
    "        record_id,\n",
    "        data_as_json)\n",
    "\n",
    "except G2Exception as err:\n",
    "    print(g2_engine.getLastException())"
   ]
  },
  {
   "cell_type": "code",
   "execution_count": null,
   "metadata": {},
   "outputs": [],
   "source": [
    "response_bytearray = bytearray()\n",
    "\n",
    "try:\n",
    "    g2_engine.getEntityByRecordID(\n",
    "        datasource_code,\n",
    "        record_id,\n",
    "        response_bytearray)\n",
    "\n",
    "    response_dictionary = json.loads(response_bytearray)\n",
    "    entity_id_6 = response_dictionary[\"RESOLVED_ENTITY\"][\"ENTITY_ID\"]\n",
    "    print(\"Entity ID: {0}\".format(entity_id_6))\n",
    "\n",
    "except G2Exception as err:\n",
    "    print(g2_engine.getLastException())\n",
    "RenderJSON(response_bytearray)"
   ]
  },
  {
   "cell_type": "markdown",
   "metadata": {},
   "source": [
    "Create another Record and Entity"
   ]
  },
  {
   "cell_type": "code",
   "execution_count": null,
   "metadata": {},
   "outputs": [],
   "source": [
    "data = {\n",
    "    \"NAMES\": [{\n",
    "        \"NAME_TYPE\": \"PRIMARY\",\n",
    "        \"NAME_LAST\": \"Bauler\",\n",
    "        \"NAME_FIRST\": \"August\",\n",
    "        \"NAME_MIDDLE\": \"E\"\n",
    "    }],\n",
    "    \"SSN_NUMBER\": \"111-11-1111\"\n",
    "}\n",
    "data_as_json = json.dumps(data)\n",
    "\n",
    "try:\n",
    "    datasource_code = datasource_code_5\n",
    "    record_id = record_id_5\n",
    "    g2_engine.addRecord(\n",
    "        datasource_code,\n",
    "        record_id,\n",
    "        data_as_json)\n",
    "\n",
    "except G2Exception as err:\n",
    "    print(g2_engine.getLastException())"
   ]
  },
  {
   "cell_type": "code",
   "execution_count": null,
   "metadata": {},
   "outputs": [],
   "source": [
    "response_bytearray = bytearray()\n",
    "\n",
    "try:\n",
    "    g2_engine.getEntityByRecordID(\n",
    "        datasource_code,\n",
    "        record_id,\n",
    "        response_bytearray)\n",
    "\n",
    "    response_dictionary = json.loads(response_bytearray)\n",
    "    entity_id_7 = response_dictionary[\"RESOLVED_ENTITY\"][\"ENTITY_ID\"]\n",
    "    print(\"Entity ID: {0}\".format(entity_id_7))\n",
    "\n",
    "except G2Exception as err:\n",
    "    print(g2_engine.getLastException())\n",
    "RenderJSON(response_bytearray)"
   ]
  },
  {
   "cell_type": "markdown",
   "metadata": {},
   "source": [
    "Create another Record and Entity"
   ]
  },
  {
   "cell_type": "code",
   "execution_count": null,
   "metadata": {},
   "outputs": [],
   "source": [
    "data = {\n",
    "    \"NAMES\": [{\n",
    "        \"NAME_TYPE\": \"PRIMARY\",\n",
    "        \"NAME_LAST\": \"Barcy\",\n",
    "        \"NAME_FIRST\": \"Brian\",\n",
    "        \"NAME_MIDDLE\": \"H\"\n",
    "    }],\n",
    "    \"SSN_NUMBER\": \"111-11-1111\"\n",
    "}\n",
    "data_as_json = json.dumps(data)\n",
    "\n",
    "try:\n",
    "    datasource_code = datasource_code_6\n",
    "    record_id = record_id_6\n",
    "    g2_engine.addRecord(\n",
    "        datasource_code,\n",
    "        record_id,\n",
    "        data_as_json)\n",
    "\n",
    "except G2Exception as err:\n",
    "    print(g2_engine.getLastException())"
   ]
  },
  {
   "cell_type": "code",
   "execution_count": null,
   "metadata": {},
   "outputs": [],
   "source": [
    "response_bytearray = bytearray()\n",
    "\n",
    "try:\n",
    "    g2_engine.getEntityByRecordID(\n",
    "        datasource_code,\n",
    "        record_id,\n",
    "        response_bytearray)\n",
    "\n",
    "    response_dictionary = json.loads(response_bytearray)\n",
    "    entity_id_8 = response_dictionary[\"RESOLVED_ENTITY\"][\"ENTITY_ID\"]\n",
    "    print(\"Entity ID: {0}\".format(entity_id_8))\n",
    "\n",
    "except G2Exception as err:\n",
    "    print(g2_engine.getLastException())\n",
    "RenderJSON(response_bytearray)"
   ]
  },
  {
   "cell_type": "markdown",
   "metadata": {},
   "source": [
    "Create another Record and Entity"
   ]
  },
  {
   "cell_type": "code",
   "execution_count": null,
   "metadata": {},
   "outputs": [],
   "source": [
    "data = {\n",
    "    \"NAMES\": [{\n",
    "        \"NAME_TYPE\": \"PRIMARY\",\n",
    "        \"NAME_LAST\": \"Miller\",\n",
    "        \"NAME_FIRST\": \"Jack\",\n",
    "        \"NAME_MIDDLE\": \"H\"\n",
    "    }],\n",
    "    \"SSN_NUMBER\": \"111-11-1111\"\n",
    "}\n",
    "data_as_json = json.dumps(data)\n",
    "\n",
    "try:\n",
    "    datasource_code = datasource_code_7\n",
    "    record_id = record_id_7\n",
    "    g2_engine.replaceRecord(\n",
    "        datasource_code,\n",
    "        record_id,\n",
    "        data_as_json)\n",
    "\n",
    "except G2Exception as err:\n",
    "    print(g2_engine.getLastException())"
   ]
  },
  {
   "cell_type": "code",
   "execution_count": null,
   "metadata": {},
   "outputs": [],
   "source": [
    "response_bytearray = bytearray()\n",
    "\n",
    "try:\n",
    "    g2_engine.getEntityByRecordID(\n",
    "        datasource_code,\n",
    "        record_id,\n",
    "        response_bytearray)\n",
    "\n",
    "    response_dictionary = json.loads(response_bytearray)\n",
    "    entity_id_9 = response_dictionary[\"RESOLVED_ENTITY\"][\"ENTITY_ID\"]\n",
    "    print(\"Entity ID: {0}\".format(entity_id_9))\n",
    "\n",
    "except G2Exception as err:\n",
    "    print(g2_engine.getLastException())\n",
    "RenderJSON(response_bytearray)"
   ]
  },
  {
   "cell_type": "markdown",
   "metadata": {},
   "source": [
    "Create another Record and Entity"
   ]
  },
  {
   "cell_type": "code",
   "execution_count": null,
   "metadata": {},
   "outputs": [],
   "source": [
    "data = {\n",
    "    \"NAMES\": [{\n",
    "        \"NAME_TYPE\": \"PRIMARY\",\n",
    "        \"NAME_LAST\": \"Caryn\",\n",
    "        \"NAME_FIRST\": \"Madelynn\",\n",
    "    }],\n",
    "    \"SSN_NUMBER\": \"111-11-1111\"\n",
    "}\n",
    "data_as_json = json.dumps(data)\n",
    "\n",
    "try:\n",
    "    datasource_code = datasource_code_8\n",
    "    record_id = record_id_8\n",
    "    g2_engine.addRecord(\n",
    "        datasource_code,\n",
    "        record_id,\n",
    "        data_as_json)\n",
    "\n",
    "except G2Exception as err:\n",
    "    print(g2_engine.getLastException())"
   ]
  },
  {
   "cell_type": "code",
   "execution_count": null,
   "metadata": {
    "scrolled": true
   },
   "outputs": [],
   "source": [
    "response_bytearray = bytearray()\n",
    "\n",
    "try:\n",
    "    g2_engine.getEntityByRecordID(\n",
    "        datasource_code,\n",
    "        record_id,\n",
    "        response_bytearray)\n",
    "\n",
    "    response_dictionary = json.loads(response_bytearray)\n",
    "    entity_id_10 = response_dictionary[\"RESOLVED_ENTITY\"][\"ENTITY_ID\"]\n",
    "    print(\"Entity ID: {0}\".format(entity_id_10))\n",
    "\n",
    "except G2Exception as err:\n",
    "    print(g2_engine.getLastException())\n",
    "RenderJSON(response_bytearray)"
   ]
  },
  {
   "cell_type": "markdown",
   "metadata": {},
   "source": [
    "### countRedoRecords\n",
    "\n",
    "Once the Senzing engine is initialized, use `countRedoRecords()`\n",
    "to return the remaining internally queued maintenance records in the\n",
    "Senzing repository.\n",
    "`countRedoRecords()` takes no arguments and returns <0 for errors."
   ]
  },
  {
   "cell_type": "code",
   "execution_count": null,
   "metadata": {
    "scrolled": true
   },
   "outputs": [],
   "source": [
    "return_code = g2_engine.countRedoRecords()\n",
    "RenderJSON(return_code)"
   ]
  },
  {
   "cell_type": "markdown",
   "metadata": {},
   "source": [
    "### getRedoRecord\n",
    "\n",
    "Once the Senzing engine is initialized, \n",
    "use `getRedoRecord()` to retrieve the next internally queued maintenance\n",
    "record into the Senzing repository\n",
    "-- `getRedoRecord()` can be called as many times as desired and from multiple\n",
    "threads at the same time but all threads are required to be in the same\n",
    "process.\n",
    "`getRedoRecord()` should not be called from multiple processes.\n",
    "Unlike `processRedoRecord()`, `getRedoRecord()` does not actually process the\n",
    "record.\n",
    "To process the record, you would use the G2Engine `process()` function.\n",
    "The `getRedoRecord()` function returns \"0\" upon success and an empty response\n",
    "if there is nothing to do.\n",
    "\n",
    "###### Parameters\n",
    "\n",
    "- **response_bytearray:** (bytearray) Object to store the output of the method. Can be used to print or store for later. **Warning:** This is not a *string*"
   ]
  },
  {
   "cell_type": "code",
   "execution_count": null,
   "metadata": {},
   "outputs": [],
   "source": [
    "response_bytearray = bytearray()\n",
    "\n",
    "try:\n",
    "    g2_engine.getRedoRecord(response_bytearray)\n",
    "\n",
    "except G2Exception as err:\n",
    "    print(g2_engine.getLastException())\n",
    "    \n",
    "RenderJSON(response_bytearray)"
   ]
  },
  {
   "cell_type": "markdown",
   "metadata": {},
   "source": [
    "### processWithInfo\n",
    "\n",
    "###### Parameters\n",
    "\n",
    "- **response_bytearray:** (bytearray) the input record to add\n",
    "- **process_response_bytearray:** (bytearray) Object to store the output of the method. Can be used to print or store for later. **Warning:** This is not a *string*"
   ]
  },
  {
   "cell_type": "code",
   "execution_count": null,
   "metadata": {},
   "outputs": [],
   "source": [
    "if (response_bytearray):\n",
    "    try:\n",
    "        process_response_bytearray = bytearray()\n",
    "\n",
    "        g2_engine.processWithInfo(\n",
    "            response_bytearray.decode(),\n",
    "            process_response_bytearray)\n",
    "\n",
    "    except G2Exception as err:\n",
    "        print(g2_engine.getLastException())\n",
    "\n",
    "RenderJSON(process_response_bytearray)"
   ]
  },
  {
   "cell_type": "markdown",
   "metadata": {},
   "source": [
    "### process\n",
    "\n",
    "###### Parameters\n",
    "\n",
    "- **response_bytearray:** (bytearray) the input record to add"
   ]
  },
  {
   "cell_type": "code",
   "execution_count": null,
   "metadata": {},
   "outputs": [],
   "source": [
    "if (response_bytearray):\n",
    "    try:\n",
    "        g2_engine.process(response_bytearray.decode())\n",
    "\n",
    "    except G2Exception as err:\n",
    "        print(g2_engine.getLastException())"
   ]
  },
  {
   "cell_type": "markdown",
   "metadata": {},
   "source": [
    "### processWithResponse\n",
    "\n",
    "###### Parameters\n",
    "\n",
    "- **response_bytearray:** (bytearray) the input record to add\n",
    "- **response:** (bytearray) Object to store the output of the method. Can be used to print or store for later. **Warning:** This is not a *string*"
   ]
  },
  {
   "cell_type": "code",
   "execution_count": null,
   "metadata": {},
   "outputs": [],
   "source": [
    "if (response_bytearray):\n",
    "    response = bytearray()\n",
    "    try:\n",
    "        g2_engine.processWithResponse(response_bytearray.decode(), response)\n",
    "\n",
    "    except G2Exception as err:\n",
    "        print(g2_engine.getLastException())\n",
    "RenderJSON(response)"
   ]
  },
  {
   "cell_type": "markdown",
   "metadata": {},
   "source": [
    "### processRedoRecord\n",
    "\n",
    "This processes the next redo record and returns it\n",
    "(If `processRedoRecord()` \"response\" returns 0\n",
    "and \"response_bytearray\" is blank then there are no more redo records to\n",
    "process and if you do `count.RedoRecords()` again it will return 0)\n",
    "Has potential to create more redo records in certian situations.\n",
    "\n",
    "###### Parameters\n",
    "\n",
    "- **response_bytearray:** (bytearray) Object to store the output of the method. Can be used to print or store for later. **Warning:** This is not a *string*"
   ]
  },
  {
   "cell_type": "code",
   "execution_count": null,
   "metadata": {
    "scrolled": true
   },
   "outputs": [],
   "source": [
    "response_bytearray = bytearray()\n",
    "try:\n",
    "    g2_engine.processRedoRecord(response_bytearray)\n",
    "\n",
    "except G2Exception as err:\n",
    "    print(g2_engine.getLastException())\n",
    "    \n",
    "RenderJSON(response_bytearray)"
   ]
  },
  {
   "cell_type": "markdown",
   "metadata": {},
   "source": [
    "### processRedoRecordWithInfo\n",
    "\n",
    "`processRedoRecordWithInfo()` is available if you would like to know what\n",
    "resolved entities were modified when processing a redo record.\n",
    "It behaves identically to `processRedoRecord()`,\n",
    "but also returns a json document containing the IDs of the affected entities.\n",
    "It accepts the following parameters:\n",
    "\n",
    "###### Parameters\n",
    "\n",
    "- **response_bytearray:** (bytearray) Object to store the output of the method. Can be used to print or store for later. **Warning:** This is not a *string*\n",
    "- **info_bytearray:** (bytearray) Returns the \"withInfo\" section "
   ]
  },
  {
   "cell_type": "code",
   "execution_count": null,
   "metadata": {
    "scrolled": true
   },
   "outputs": [],
   "source": [
    "response_bytearray = bytearray()\n",
    "info_bytearray = bytearray()\n",
    "\n",
    "try:\n",
    "    g2_engine.processRedoRecordWithInfo(\n",
    "        response_bytearray,\n",
    "        info_bytearray)\n",
    "\n",
    "except G2Exception as err:\n",
    "    print(g2_engine.getLastException())\n",
    "\n",
    "# Pretty-print XML.\n",
    "\n",
    "RenderJSON(response_bytearray)\n",
    "\n",
    "# Pretty-print JSON\n",
    "\n",
    "RenderJSON(info_bytearray)"
   ]
  },
  {
   "cell_type": "markdown",
   "metadata": {},
   "source": [
    "## Delete"
   ]
  },
  {
   "cell_type": "markdown",
   "metadata": {},
   "source": [
    "### deleteRecord\n",
    "\n",
    "Use `deleteRecord()` to remove a record from the data repository\n",
    "(returns \"0\" upon success);\n",
    "`deleteRecord()` can be called as many times as desired and from multiple\n",
    "threads at the same time.\n",
    "\n",
    "###### Parameters\n",
    "\n",
    "- **datasource_code:** (str) The name of the data source the record is associated\n",
    "  with.  This value is configurable to the system.\n",
    "- **record_id:** (str) The record ID, used to identify distinct records\n",
    "- **load_id:** (str **[optional]** ) the observation load ID for the record;\n",
    "  value can be null."
   ]
  },
  {
   "cell_type": "code",
   "execution_count": null,
   "metadata": {
    "scrolled": false
   },
   "outputs": [],
   "source": [
    "try:\n",
    "    datasource_code = datasource_code_1\n",
    "    record_id = record_id_1\n",
    "    g2_engine.deleteRecord(datasource_code, record_id, load_id)\n",
    "\n",
    "except G2Exception as err:\n",
    "    print(g2_engine.getLastException())"
   ]
  },
  {
   "cell_type": "markdown",
   "metadata": {},
   "source": [
    "### deleteRecordWithInfo\n",
    "\n",
    "`deleteRecordWithInfo()` behaves the same as `deleteRecord()`\n",
    "but also returns a json document containing the IDs of the affected entities.\n",
    "\n",
    "###### Parameters\n",
    "\n",
    "- **datasource_code:** (str) The name of the data source the record is associated\n",
    "  with. This value is configurable to the system.\n",
    "- **record_id:** (str) The record ID, used to identify distinct records.\n",
    "- **response_bytearray:** (bytearray) Object to store the output of the method. Can be used to print or store for later. **Warning:** This is not a *string*\n",
    "- **load_id:** (str **[optional]** ) the observation load ID for the record;\n",
    "  value can be null.\n",
    "- **g2_engine_flags:** (int **[optioanl]** ) An integer specifying which entity details should be\n",
    "  included in the export."
   ]
  },
  {
   "cell_type": "code",
   "execution_count": null,
   "metadata": {},
   "outputs": [],
   "source": [
    "response_bytearray = bytearray()\n",
    "\n",
    "try:\n",
    "    datasource_code = datasource_code_2\n",
    "    record_id = record_id_2\n",
    "    g2_engine.deleteRecordWithInfo(\n",
    "        datasource_code,\n",
    "        record_id,\n",
    "        response_bytearray,\n",
    "        load_id,)\n",
    "\n",
    "except G2Exception as err:\n",
    "    print(g2_engine.getLastException())\n",
    "RenderJSON(response_bytearray)"
   ]
  },
  {
   "cell_type": "markdown",
   "metadata": {},
   "source": [
    "Attempt to get the record again.\n",
    "It should error and give an output similar to \"Unknown record\"."
   ]
  },
  {
   "cell_type": "code",
   "execution_count": null,
   "metadata": {},
   "outputs": [],
   "source": [
    "try:\n",
    "    response_bytearray = bytearray()\n",
    "\n",
    "    datasource_code = datasource_code_1\n",
    "    record_id = record_id_1\n",
    "    return_code = g2_engine.getRecord(\n",
    "        datasource_code,\n",
    "        record_id,\n",
    "        response_bytearray)\n",
    "\n",
    "    response_dictionary = json.loads(response_bytearray)\n",
    "    response = json.dumps(response_dictionary, sort_keys=True, indent=4)\n",
    "    print(\"Return Code: {0}\\n{1}\".format(return_code, response))\n",
    "except G2Exception as err:\n",
    "    print(\"Exception: {0}\".format(err))"
   ]
  },
  {
   "cell_type": "markdown",
   "metadata": {},
   "source": [
    "Add record back for later API calls"
   ]
  },
  {
   "cell_type": "code",
   "execution_count": null,
   "metadata": {},
   "outputs": [],
   "source": [
    "try:\n",
    "    datasource_code = datasource_code_1\n",
    "    record_id = record_id_1\n",
    "    g2_engine.addRecord(\n",
    "        datasource_code,\n",
    "        record_id,\n",
    "        data_as_json,\n",
    "        load_id)\n",
    "    \n",
    "except G2Exception as err:\n",
    "    print(g2_engine.getLastException())"
   ]
  },
  {
   "cell_type": "markdown",
   "metadata": {},
   "source": [
    "## Search"
   ]
  },
  {
   "cell_type": "markdown",
   "metadata": {},
   "source": [
    "### Record search"
   ]
  },
  {
   "cell_type": "markdown",
   "metadata": {},
   "source": [
    "#### getRecord\n",
    "\n",
    "Use `getRecord()` to retrieve a single record from the data repository;\n",
    "the record is assigned in JSON form to a user-designated buffer.\n",
    "Once the Senzing engine is initialized,\n",
    "`getRecord()` can be called as many times as desired and from multiple\n",
    "threads at the same time.\n",
    "\n",
    "###### Parameters\n",
    "\n",
    "- **datasource_code:** (str) The name of the data source the record is associated\n",
    "  with.  This value is configurable to the system.\n",
    "- **record_id:** (str) The record ID, used to identify the record for retrieval\n",
    "- **response_bytearray:** (bytearray) Object to store the output of the method. Can be used to print or store for later. **Warning:** This is not a *string*\n",
    "- **g2_engine_flags:** (int **[optional]**) Control flags for specifying what data about the record to retrieve."
   ]
  },
  {
   "cell_type": "code",
   "execution_count": null,
   "metadata": {
    "scrolled": true
   },
   "outputs": [],
   "source": [
    "response_bytearray = bytearray()\n",
    "\n",
    "try:\n",
    "    g2_engine.getRecord(\n",
    "        datasource_code,\n",
    "        record_id,\n",
    "        response_bytearray)\n",
    "\n",
    "except G2Exception as err:\n",
    "    print(g2_engine.getLastException())\n",
    "RenderJSON(response_bytearray)"
   ]
  },
  {
   "cell_type": "markdown",
   "metadata": {},
   "source": [
    "### Entity Search"
   ]
  },
  {
   "cell_type": "markdown",
   "metadata": {},
   "source": [
    "#### getEntityByRecordID\n",
    "\n",
    "Use `getEntityByRecordID()` to retrieve entity data based on the ID of a\n",
    "resolved identity.\n",
    "\n",
    "###### Parameters\n",
    "\n",
    "- **datasource_code:** (str) The name of the data source the record is associated\n",
    "  with.  This value is configurable to the system.\n",
    "- **record_id:** (str) The numeric ID of a resolved entity\n",
    "- **response_bytearray:** (bytearray) Object to store the output of the method. Can be used to print or store for later. **Warning:** This is not a *string*\n",
    "- **g2_engine_flags:** (int **[optional]**) Control flags for specifying what data about the entity to retrieve."
   ]
  },
  {
   "cell_type": "code",
   "execution_count": null,
   "metadata": {},
   "outputs": [],
   "source": [
    "response_bytearray = bytearray()\n",
    "\n",
    "try:\n",
    "    g2_engine.getEntityByRecordID(\n",
    "        datasource_code,\n",
    "        record_id,\n",
    "        response_bytearray)\n",
    "\n",
    "    response_dictionary = json.loads(response_bytearray)\n",
    "    entity_id_1 = response_dictionary[\"RESOLVED_ENTITY\"][\"ENTITY_ID\"]\n",
    "\n",
    "except G2Exception as err:\n",
    "    print(g2_engine.getLastException())\n",
    "RenderJSON(response_bytearray)"
   ]
  },
  {
   "cell_type": "markdown",
   "metadata": {},
   "source": [
    "#### getEntityByEntityID\n",
    "\n",
    "Use `getEntityByEntityID()` to retrieve entity data based on the ID of a\n",
    "resolved identity.\n",
    "\n",
    "###### Parameters\n",
    "\n",
    "- **entity_id:** (int) The numeric ID of a resolved entity\n",
    "- **response_bytearray:** (bytearray) Object to store the output of the method. Can be used to print or store for later. **Warning:** This is not a *string*\n",
    "- **g2_engine_flags:** (int **[optional]**) Control flags for specifying what data about the entity to retrieve."
   ]
  },
  {
   "cell_type": "code",
   "execution_count": null,
   "metadata": {
    "scrolled": true
   },
   "outputs": [],
   "source": [
    "response_bytearray = bytearray()\n",
    "\n",
    "try:\n",
    "    entity_id = entity_id_1\n",
    "    g2_engine.getEntityByEntityID(\n",
    "        entity_id,\n",
    "        response_bytearray)\n",
    "\n",
    "except G2Exception as err:\n",
    "    print(g2_engine.getLastException())\n",
    "RenderJSON(response_bytearray)"
   ]
  },
  {
   "cell_type": "markdown",
   "metadata": {},
   "source": [
    "### Search By Attributes"
   ]
  },
  {
   "cell_type": "markdown",
   "metadata": {},
   "source": [
    "#### searchByAttributes\n",
    "\n",
    "This function is similar but preferable to the searchByAttributes() function.\n",
    "\n",
    "Use `searchByAttributes()` to retrieve entity data based on\n",
    "a user-specified set of entity attributes.\n",
    "\n",
    "###### Parameters\n",
    "\n",
    "- **data_as_json:** (str) A JSON document with the attribute data to search for.\n",
    "- **response_bytearray:** (bytearray) Object to store the output of the method. Can be used to print or store for later. **Warning:** This is not a *string*\n",
    "- **g2_engine_flags:** (int **[optional]**) Operational flags"
   ]
  },
  {
   "cell_type": "code",
   "execution_count": null,
   "metadata": {
    "scrolled": true
   },
   "outputs": [],
   "source": [
    "response_bytearray = bytearray()\n",
    "\n",
    "try:\n",
    "    g2_engine.searchByAttributes(\n",
    "        data_as_json,\n",
    "        response_bytearray)\n",
    "\n",
    "except G2Exception as err:\n",
    "    print(g2_engine.getLastException())\n",
    "RenderJSON(response_bytearray)"
   ]
  },
  {
   "cell_type": "markdown",
   "metadata": {},
   "source": [
    "### Finding Paths"
   ]
  },
  {
   "cell_type": "markdown",
   "metadata": {},
   "source": [
    "First you will need to create some records so that you have some that you can\n",
    "compare.\n",
    "Can you see what is the same between this record and the previous one?"
   ]
  },
  {
   "cell_type": "markdown",
   "metadata": {},
   "source": [
    "#### Create records for paths"
   ]
  },
  {
   "cell_type": "code",
   "execution_count": null,
   "metadata": {},
   "outputs": [],
   "source": [
    "data = {\n",
    "    \"NAMES\": [{\n",
    "        \"NAME_TYPE\": \"PRIMARY\",\n",
    "        \"NAME_LAST\": \"Miller\",\n",
    "        \"NAME_FIRST\": \"Max\",\n",
    "        \"NAME_MIDDLE\": \"W\"\n",
    "    }],\n",
    "    \"SSN_NUMBER\": \"111-11-1111\"\n",
    "}\n",
    "data_as_json = json.dumps(data)\n",
    "\n",
    "try:\n",
    "    datasource_code = datasource_code_2\n",
    "    record_id = record_id_2\n",
    "    g2_engine.replaceRecord(\n",
    "        datasource_code,\n",
    "        record_id,\n",
    "        data_as_json)\n",
    "\n",
    "except G2Exception as err:\n",
    "    print(g2_engine.getLastException())"
   ]
  },
  {
   "cell_type": "markdown",
   "metadata": {},
   "source": [
    "Replace values for Record #3"
   ]
  },
  {
   "cell_type": "code",
   "execution_count": null,
   "metadata": {},
   "outputs": [],
   "source": [
    "data = {\n",
    "    \"NAMES\": [{\n",
    "        \"NAME_TYPE\": \"PRIMARY\",\n",
    "        \"NAME_LAST\": \"Miller\",\n",
    "        \"NAME_FIRST\": \"Mildred\"\n",
    "    }],\n",
    "    \"SSN_NUMBER\": \"111-11-1111\"\n",
    "}\n",
    "data_as_json = json.dumps(data)\n",
    "\n",
    "try:\n",
    "    datasource_code = datasource_code_3\n",
    "    record_id = record_id_3\n",
    "    g2_engine.replaceRecord(\n",
    "        datasource_code,\n",
    "        record_id,\n",
    "        data_as_json,\n",
    "        None)\n",
    "\n",
    "except G2Exception as err:\n",
    "    print(g2_engine.getLastException())"
   ]
  },
  {
   "cell_type": "markdown",
   "metadata": {},
   "source": [
    "Locate \"entity identifier\" for Record #1"
   ]
  },
  {
   "cell_type": "code",
   "execution_count": null,
   "metadata": {},
   "outputs": [],
   "source": [
    "response_bytearray = bytearray()\n",
    "\n",
    "try:\n",
    "    datasource_code = datasource_code_1\n",
    "    record_id = record_id_1\n",
    "    g2_engine.getEntityByRecordID(\n",
    "        datasource_code,\n",
    "        record_id,\n",
    "        response_bytearray)\n",
    "\n",
    "    response_dictionary = json.loads(response_bytearray)\n",
    "    entity_id_1 = response_dictionary[\"RESOLVED_ENTITY\"][\"ENTITY_ID\"]\n",
    "\n",
    "    print(\"Entity ID: {0}\".format(entity_id_1))\n",
    "\n",
    "except G2Exception as err:\n",
    "    print(g2_engine.getlastException())"
   ]
  },
  {
   "cell_type": "markdown",
   "metadata": {},
   "source": [
    "Locate \"entity identifier\" for Record #2"
   ]
  },
  {
   "cell_type": "code",
   "execution_count": null,
   "metadata": {},
   "outputs": [],
   "source": [
    "response_bytearray = bytearray()\n",
    "\n",
    "try:\n",
    "    datasource_code = datasource_code_2\n",
    "    record_id = record_id_2\n",
    "    g2_engine.getEntityByRecordID(\n",
    "        datasource_code,\n",
    "        record_id,\n",
    "        response_bytearray)\n",
    "\n",
    "    response_dictionary = json.loads(response_bytearray)\n",
    "    entity_id_2 = response_dictionary[\"RESOLVED_ENTITY\"][\"ENTITY_ID\"]\n",
    "\n",
    "    print(\"Entity ID: {0}\".format(entity_id_2))\n",
    "\n",
    "except G2Exception as err:\n",
    "    print(g2_engine.getLastException())\n",
    "RenderJSON(response_bytearray)"
   ]
  },
  {
   "cell_type": "markdown",
   "metadata": {},
   "source": [
    "Locate \"entity identifier\" for Record #3"
   ]
  },
  {
   "cell_type": "code",
   "execution_count": null,
   "metadata": {},
   "outputs": [],
   "source": [
    "response_bytearray = bytearray()\n",
    "\n",
    "try:\n",
    "    datasource_code = datasource_code_3\n",
    "    record_id = record_id_3\n",
    "    g2_engine.getEntityByRecordID(\n",
    "        datasource_code,\n",
    "        record_id,\n",
    "        response_bytearray)\n",
    "\n",
    "    response_dictionary = json.loads(response_bytearray)\n",
    "    entity_id_3 = response_dictionary[\"RESOLVED_ENTITY\"][\"ENTITY_ID\"]\n",
    "\n",
    "    print(\"Entity ID: {0}\".format(entity_id_3))\n",
    "\n",
    "except G2Exception as err:\n",
    "    print(g2_engine.getlastException())\n",
    "RenderJSON(response_bytearray)"
   ]
  },
  {
   "cell_type": "markdown",
   "metadata": {},
   "source": [
    "#### findPathByEntityID\n",
    "\n",
    "The `findPathByEntityID()` function can be used to find single relationship paths between two entities. Paths are found using known relationships with other entities.\n",
    "\n",
    "###### Parameters\n",
    "\n",
    "- **entity_id_start:** (int) The entity ID for the starting entity of the search path\n",
    "- **entity_id_end:** (int) The entity ID for the ending entity of the search path\n",
    "- **max_degree:** (int) The number of relationship degrees to search\n",
    "- **response_bytearray:** (bytearray) Object to store the output of the method. Can be used to print or store for later. **Warning:** This is not a *string*\n",
    "\n",
    "The functions return a JSON document that identifies the path between the\n",
    "entities,\n",
    "and the information on the entities in question.\n",
    "The document contains a section called \"ENTITY_PATHS\" which gives\n",
    "the path from one entity to the other."
   ]
  },
  {
   "cell_type": "code",
   "execution_count": null,
   "metadata": {},
   "outputs": [],
   "source": [
    "# Define search variables.\n",
    "\n",
    "max_degree = 3\n",
    "\n",
    "# Find the path by entity ID.\n",
    "\n",
    "response_bytearray = bytearray([])\n",
    "\n",
    "try:\n",
    "    entity_id_start = entity_id_2\n",
    "    entity_id_end = entity_id_3\n",
    "    g2_engine.findPathByEntityID(\n",
    "        entity_id_start,\n",
    "        entity_id_end,\n",
    "        max_degree,\n",
    "        response_bytearray)\n",
    "\n",
    "except G2Exception as err:\n",
    "    print(g2_engine.getLastException())\n",
    "# Print the results.\n",
    "\n",
    "RenderJSON(response_bytearray)"
   ]
  },
  {
   "cell_type": "markdown",
   "metadata": {},
   "source": [
    "#### findPathByRecordID\n",
    "\n",
    "The `findPathByRecordID()` function\n",
    "can be used to find single relationship paths between two entities.\n",
    "Paths are found using known relationships with other entities.\n",
    "\n",
    "###### Parameters\n",
    "\n",
    "- **datasource_code_start:** (str) The data source for the starting entity of the\n",
    "  search path\n",
    "- **datasource_code_end:** (str) The data source for the ending entity of the search\n",
    "  path\n",
    "- **record_id_start:** (int) The record ID for the starting entity of the search path\n",
    "- **record_id_end:** (int) The record ID for the ending entity of the search path\n",
    "- **max_degree:** (int) The number of relationship degrees to search\n",
    "- **response_bytearray:** (bytearray) Object to store the output of the method. Can be used to print or store for later. **Warning:** This is not a *string*\n",
    "\n",
    "The functions return a JSON document that identifies the path between the\n",
    "entities,\n",
    "and the information on the entities in question.\n",
    "The document contains a section called \"ENTITY_PATHS\" which gives\n",
    "the path from one entity to the other."
   ]
  },
  {
   "cell_type": "code",
   "execution_count": null,
   "metadata": {},
   "outputs": [],
   "source": [
    "# Define search variables.\n",
    "\n",
    "max_degree = 3\n",
    "\n",
    "# Find the path by record ID.\n",
    "\n",
    "response_bytearray = bytearray([])\n",
    "\n",
    "try:\n",
    "    datasource_code_start = datasource_code_2\n",
    "    datasource_code_end = datasource_code_3\n",
    "    record_id_start = record_id_2\n",
    "    record_id_end = record_id_3\n",
    "    g2_engine.findPathByRecordID(\n",
    "        datasource_code_start, record_id_start,\n",
    "        datasource_code_end, record_id_end,\n",
    "        max_degree,\n",
    "        \n",
    "        response_bytearray)\n",
    "\n",
    "except G2Exception as err:\n",
    "    print(g2_engine.getlastException())\n",
    "# Print the results.\n",
    "\n",
    "RenderJSON(response_bytearray)"
   ]
  },
  {
   "cell_type": "markdown",
   "metadata": {},
   "source": [
    "#### findPathExcludingByEntityID\n",
    "\n",
    "The `findPathExcludingByEntityID()` function can be used to find single relationship paths between two\n",
    "entities.\n",
    "Paths are found using known relationships with other entities.\n",
    "In addition, it will find paths that exclude certain entities from being on\n",
    "the path.\n",
    "\n",
    "\n",
    "When excluding entities, the user may choose to either (a) strictly exclude\n",
    "the entities,\n",
    "or (b) prefer to exclude the entities, but still include them if no other\n",
    "path is found.\n",
    "By default, entities will be strictly excluded.\n",
    "A \"preferred exclude\" may be done by specifying the\n",
    "`G2_FIND_PATH_PREFER_EXCLUDE` control flag.\n",
    "\n",
    "###### Parameters\n",
    "\n",
    "- **entity_id_start:** (int) The entity ID for the starting entity of the search path\n",
    "- **entity_id_end:** (int) The entity ID for the ending entity of the search path\n",
    "- **max_degree:** (int) The number of relationship degrees to search\n",
    "- **excluded_entities_as_json:** (str) Entities that should be avoided on the path\n",
    "  (JSON document)\n",
    "- **response_bytearray:** (bytearray) Object to store the output of the method. Can be used to print or store for later. **Warning:** This is not a *string*\n",
    "- **g2_engine_flags:** (int **[optional]**) Operational flags"
   ]
  },
  {
   "cell_type": "code",
   "execution_count": null,
   "metadata": {
    "scrolled": true
   },
   "outputs": [],
   "source": [
    "# Define search variables.\n",
    "\n",
    "max_degree = 4\n",
    "excluded_entities = {\n",
    "    \"ENTITIES\": [{\n",
    "        \"ENTITY_ID\": entity_id_1\n",
    "    }]}\n",
    "excluded_entities_as_json = json.dumps(excluded_entities)\n",
    "\n",
    "# Find the path by entity ID.\n",
    "\n",
    "response_bytearray = bytearray([])\n",
    "\n",
    "try:\n",
    "    entity_id_start = entity_id_2\n",
    "    entity_id_end = entity_id_3\n",
    "    g2_engine.findPathExcludingByEntityID(\n",
    "        entity_id_start,\n",
    "        entity_id_end,\n",
    "        max_degree,\n",
    "        excluded_entities_as_json,\n",
    "        response_bytearray)\n",
    "\n",
    "except G2Exception as err:\n",
    "    print(g2_engine.getLastException())\n",
    "# Print the results.\n",
    "\n",
    "RenderJSON(response_bytearray)"
   ]
  },
  {
   "cell_type": "markdown",
   "metadata": {},
   "source": [
    "#### findPathExcludingByRecordID\n",
    "\n",
    "The `findPathExcludingByRecordID()`\n",
    "function can be used to find single relationship paths between two\n",
    "entities.\n",
    "Paths are found using known relationships with other entities.\n",
    "In addition, it will find paths that exclude certain entities from being on\n",
    "the path.\n",
    "\n",
    "When excluding entities, the user may choose to either (a) strictly exclude\n",
    "the entities,\n",
    "or (b) prefer to exclude the entities, but still include them if no other\n",
    "path is found.\n",
    "By default, entities will be strictly excluded.\n",
    "A \"preferred exclude\" may be done by specifying the\n",
    "`G2_FIND_PATH_PREFER_EXCLUDE` control flag.\n",
    "\n",
    "###### Parameters\n",
    "\n",
    "- **datasource_code_start:** (str) The data source for the starting entity of the\n",
    "  search path\n",
    "- **datasource_code_end:** (str) The data source for the ending entity of the search\n",
    "  path\n",
    "- **record_id_start:** (str) The record ID for the starting entity of the search path\n",
    "- **record_id_end:** (str) The record ID for the ending entity of the search path\n",
    "- **max_degree:** (int) The number of relationship degrees to search\n",
    "- **excluded_entities_as_json:** (str) Entities that should be avoided on the path\n",
    "  (JSON document)\n",
    "- **response_bytearray:** (bytearray) Object to store the output of the method. Can be used to print or store for later. **Warning:** This is not a *string*\n",
    "- **g2_engine_flags:** (int **[optional]**) Operational flags\n"
   ]
  },
  {
   "cell_type": "code",
   "execution_count": null,
   "metadata": {},
   "outputs": [],
   "source": [
    "# Define search variables.\n",
    "\n",
    "excluded_records = {\n",
    "    \"RECORDS\": [{\n",
    "        \"RECORD_ID\": record_id_1,\n",
    "        \"DATA_SOURCE\": datasource_code_1\n",
    "    }]}\n",
    "excluded_records_as_json = json.dumps(excluded_records)\n",
    "\n",
    "# Find the path by record ID.\n",
    "\n",
    "response_bytearray = bytearray([])\n",
    "\n",
    "try:\n",
    "    datasource_code_start = datasource_code_2\n",
    "    datasource_code_end = datasource_code_3\n",
    "    record_id_start = record_id_2\n",
    "    record_id_end = record_id_3\n",
    "    g2_engine.findPathExcludingByRecordID(\n",
    "        datasource_code_start, record_id_start,\n",
    "        datasource_code_end, record_id_end,\n",
    "        max_degree,\n",
    "        excluded_records_as_json,\n",
    "        response_bytearray)\n",
    "\n",
    "except G2Exception as err:\n",
    "    print(g2_engine.getLastException())\n",
    "# Print the results.\n",
    "\n",
    "RenderJSON(response_bytearray)"
   ]
  },
  {
   "cell_type": "markdown",
   "metadata": {},
   "source": [
    "### Finding Paths with Required Sources"
   ]
  },
  {
   "cell_type": "markdown",
   "metadata": {},
   "source": [
    "#### findPathIncludingSourceByEntityID\n",
    "\n",
    "The `findPathIncludingSourceByEntityID()` function\n",
    "can be used to find single relationship paths between two entities.\n",
    "In addition, one of the enties along the path must include a specified data\n",
    "source.\n",
    "\n",
    "Specific entities may also be excluded, using the same methodology as the\n",
    "`findPathExcludingByEntityID()` and `findPathExcludingByRecordID()`\n",
    "functions use.\n",
    "\n",
    "###### Parameters\n",
    "\n",
    "- **entity_id_start:** (int) The entity ID for the starting entity of the search path\n",
    "- **entity_id_end:** (int) The entity ID for the ending entity of the search path\n",
    "- **max_degree:** (int) The number of relationship degrees to search\n",
    "- **excluded_entities_as_json:** (str) Entities that should be avoided on the path\n",
    "  (JSON document)\n",
    "- **required_dsrcs_as_json:** (str) Entities that should be avoided on the path\n",
    "  (JSON document)\n",
    "- **response_bytearray:** (bytearray) Object to store the output of the method. Can be used to print or store for later. **Warning:** This is not a *string*\n",
    "- **g2_engine_flags:** (int **[optional]**) Operational flags\n"
   ]
  },
  {
   "cell_type": "code",
   "execution_count": null,
   "metadata": {},
   "outputs": [],
   "source": [
    "# Define search variables.\n",
    "\n",
    "max_degree = 4\n",
    "excluded_entities = {\n",
    "    \"ENTITIES\": [{\n",
    "        \"ENTITY_ID\": entity_id_1\n",
    "    }]}\n",
    "excluded_entities_as_json = json.dumps(excluded_entities)\n",
    "required_dsrcs = {\n",
    "    \"DATA_SOURCES\": [\n",
    "        datasource_code_1\n",
    "    ]}\n",
    "required_dsrcs_as_json = json.dumps(excluded_entities)\n",
    "\n",
    "# Find the path by entity ID.\n",
    "\n",
    "response_bytearray = bytearray([])\n",
    "\n",
    "try:\n",
    "    entity_id_start = entity_id_2\n",
    "    entity_id_end = entity_id_3\n",
    "    g2_engine.findPathIncludingSourceByEntityID(\n",
    "        entity_id_start,\n",
    "        entity_id_end,\n",
    "        max_degree,\n",
    "        excluded_entities_as_json,\n",
    "        required_dsrcs_as_json,\n",
    "        response_bytearray)\n",
    "\n",
    "except G2Exception as err:\n",
    "    print(g2_engine.getLastException())\n",
    "# Print the results.\n",
    "\n",
    "RenderJSON(response_bytearray)"
   ]
  },
  {
   "cell_type": "markdown",
   "metadata": {},
   "source": [
    "#### findPathIncludingSourceByRecordID\n",
    "\n",
    "\n",
    "The \n",
    "`findPathIncludingSourceByRecordID()` function\n",
    "can be used to find single relationship paths between two entities.\n",
    "In addition, one of the enties along the path must include a specified data\n",
    "source.\n",
    "\n",
    "Specific entities may also be excluded, using the same methodology as the\n",
    "`findPathExcludingByEntityID()` and `findPathExcludingByRecordID()`\n",
    "functions use.\n",
    "\n",
    "###### Parameters\n",
    "\n",
    "- **datasource_code_start:** (str) The data source for the starting entity of the\n",
    "  search path\n",
    "- **datasource_code_end:** (str) The data source for the ending entity of the search\n",
    "  path\n",
    "- **record_id_start:** (str) The record ID for the starting entity of the search\n",
    "  path\n",
    "- **record_id_end:** (str) The record ID for the ending entity of the search path\n",
    "- **max_degree:** (int) The number of relationship degrees to search\n",
    "- **excluded_entities_as_json:** (str) Entities that should be avoided on the path\n",
    "  (JSON document)\n",
    "- **required_dsrcs_as_json:** (str) Entities that should be avoided on the path\n",
    "  (JSON document)\n",
    "- **response_bytearray:** (bytearray) Object to store the output of the method. Can be used to print or store for later. **Warning:** This is not a *string*\n",
    "- **g2_engine_flags:** (int **[optional]**) Operational flags\n"
   ]
  },
  {
   "cell_type": "code",
   "execution_count": null,
   "metadata": {},
   "outputs": [],
   "source": [
    "# Define search variables.\n",
    "\n",
    "excluded_records = {\n",
    "    \"RECORDS\": [{\n",
    "        \"RECORD_ID\": record_id_1,\n",
    "        \"DATA_SOURCE\": datasource_code_1\n",
    "    }]}\n",
    "excluded_records_as_json = json.dumps(excluded_records)\n",
    "\n",
    "# Find the path by record ID.\n",
    "\n",
    "response_bytearray = bytearray([])\n",
    "\n",
    "try:\n",
    "    datasource_code_start = datasource_code_2\n",
    "    datasource_code_end = datasource_code_3\n",
    "    record_id_start = record_id_2\n",
    "    record_id_end = record_id_3\n",
    "    g2_engine.findPathIncludingSourceByRecordID(\n",
    "        datasource_code_start, record_id_start,\n",
    "        datasource_code_end, record_id_end,\n",
    "        max_degree,\n",
    "        excluded_records_as_json,\n",
    "        required_dsrcs_as_json,\n",
    "        response_bytearray)\n",
    "\n",
    "except G2Exception as err:\n",
    "    print(g2_engine.getLastException())\n",
    "# Print the results.\n",
    "\n",
    "RenderJSON(response_bytearray)"
   ]
  },
  {
   "cell_type": "markdown",
   "metadata": {},
   "source": [
    "### Finding Networks\n",
    "\n",
    "The `findNetworkByEntityID()` and `findNetworkByRecordID()` functions\n",
    "can be used to find all entities surrounding a requested set of entities.\n",
    "This includes the requested entities, paths between them, and relations to\n",
    "other nearby entities.\n",
    "\n",
    "Entities can be searched for by either Entity ID or by Record ID,\n",
    "depending on which function is chosen.\n",
    "\n",
    "These functions have the following parameters:\n",
    "\n",
    "- **entity_list_as_json:** A list of entities, specified by Entity ID\n",
    "  (JSON document)\n",
    "- **record_list_as_json:** A list of entities, specified by Record ID\n",
    "  (JSON document)\n",
    "- **max_degree:** The maximum number of degrees in paths between search\n",
    "  entities\n",
    "- **buildout_degree:** The number of degrees of relationships to show around\n",
    "  each search entity\n",
    "- **max_entities:** The maximum number of entities to return in the\n",
    "  discovered network\n",
    "\n",
    "They also have various arguments used to return response documents\n",
    "\n",
    "The functions return a JSON document that identifies the path between the\n",
    "each set of search entities (if the path exists), and the information on the\n",
    "entities in question (search entities, path entities, and build-out entities."
   ]
  },
  {
   "cell_type": "markdown",
   "metadata": {},
   "source": [
    "#### findNetworkByEntityID\n",
    "\n",
    "The `findNetworkByEntityID()` function\n",
    "can be used to find all entities surrounding a requested set of entities.\n",
    "This includes the requested entities, paths between them, and relations to\n",
    "other nearby entities.\n",
    "\n",
    "###### Parameters\n",
    "\n",
    "- **max_degree:** (int) The maximum number of degrees in paths between search\n",
    "  entities\n",
    "- **buildout_degree:** (int) The number of degrees of relationships to show around\n",
    "  each search entity\n",
    "- **max_entities:** (int) The maximum number of entities to return in the\n",
    "  discovered network\n",
    "- **response_bytearray:** (bytearray) Object to store the output of the method. Can be used to print or store for later. **Warning:** This is not a *string*\n",
    "- **g2_engine_flags:** (int **[optional]**) Operational flags\n",
    "\n",
    "\n",
    "The functions return a JSON document that identifies the path between the\n",
    "each set of search entities (if the path exists), and the information on the\n",
    "entities in question (search entities, path entities, and build-out entities."
   ]
  },
  {
   "cell_type": "code",
   "execution_count": null,
   "metadata": {},
   "outputs": [],
   "source": [
    "# Define search variables.\n",
    "\n",
    "entity_list = {\n",
    "    \"ENTITIES\": [{\n",
    "        \"ENTITY_ID\": entity_id_1\n",
    "    }, {\n",
    "        \"ENTITY_ID\": entity_id_2\n",
    "    }, {\n",
    "        \"ENTITY_ID\": entity_id_3\n",
    "    }]}\n",
    "entity_list_as_json = json.dumps(entity_list)\n",
    "max_degree = 2\n",
    "buildout_degree = 1\n",
    "max_entities = 12\n",
    "\n",
    "# Find the network by entity ID.\n",
    "\n",
    "response_bytearray = bytearray()\n",
    "\n",
    "try:\n",
    "    g2_engine.findNetworkByEntityID(\n",
    "        entity_list_as_json,\n",
    "        max_degree, \n",
    "        buildout_degree,\n",
    "        max_entities,\n",
    "        \n",
    "        response_bytearray)\n",
    "\n",
    "except G2Exception as err:\n",
    "    print(g2_engine.getLastException())\n",
    "# Print the results.\n",
    "\n",
    "RenderJSON(response_bytearray)"
   ]
  },
  {
   "cell_type": "markdown",
   "metadata": {},
   "source": [
    "#### findNetworkByRecordID\n",
    "\n",
    "The `findNetworkByRecordID()` function\n",
    "can be used to find all entities surrounding a requested set of entities.\n",
    "This includes the requested entities, paths between them, and relations to\n",
    "other nearby entities.\n",
    "\n",
    "###### Parameters\n",
    "\n",
    "- **record_list_as_json:** (str) A list of entities, specified by Record ID\n",
    "  (JSON document)\n",
    "- **max_degree:** (int) The maximum number of degrees in paths between search\n",
    "  entities\n",
    "- **buildout_degree:** (int) The number of degrees of relationships to show around\n",
    "  each search entity\n",
    "- **max_entities:** (int) The maximum number of entities to return in the\n",
    "  discovered network\n",
    "- **response_bytearray:** (bytearray) Object to store the output of the method. Can be used to print or store for later. **Warning:** This is not a *string*\n",
    "- **g2_engine_flags:** (int **[optional]**) Operational flags\n",
    "\n",
    "\n",
    "The functions return a JSON document that identifies the path between the\n",
    "each set of search entities (if the path exists), and the information on the\n",
    "entities in question (search entities, path entities, and build-out entities."
   ]
  },
  {
   "cell_type": "code",
   "execution_count": null,
   "metadata": {},
   "outputs": [],
   "source": [
    "# Define search variables.\n",
    "\n",
    "record_list = {\n",
    "    \"RECORDS\": [{\n",
    "        \"RECORD_ID\": record_id_1,\n",
    "        \"DATA_SOURCE\": datasource_code_1\n",
    "    }, {\n",
    "        \"RECORD_ID\": record_id_2,\n",
    "        \"DATA_SOURCE\": datasource_code_2\n",
    "    }, {\n",
    "        \"RECORD_ID\": record_id_3,\n",
    "        \"DATA_SOURCE\": datasource_code_3\n",
    "    }]}\n",
    "record_list_as_json = json.dumps(record_list)\n",
    "\n",
    "# Find the network by record ID.\n",
    "\n",
    "response_bytearray = bytearray()\n",
    "\n",
    "try:\n",
    "    g2_engine.findNetworkByRecordID(\n",
    "        record_list_as_json,\n",
    "        max_degree,\n",
    "        buildout_degree,\n",
    "        max_entities,\n",
    "        response_bytearray)\n",
    "\n",
    "except G2Exception as err:\n",
    "    print(g2_engine.getLastException())\n",
    "# Print the results.\n",
    "\n",
    "RenderJSON(response_bytearray)"
   ]
  },
  {
   "cell_type": "markdown",
   "metadata": {},
   "source": [
    "## Connection Details"
   ]
  },
  {
   "cell_type": "markdown",
   "metadata": {},
   "source": [
    "### findInterestingEntitiesByEntityID"
   ]
  },
  {
   "cell_type": "code",
   "execution_count": null,
   "metadata": {},
   "outputs": [],
   "source": [
    "response_bytearray = bytearray()\n",
    "\n",
    "try:\n",
    "    g2_engine.findInterestingEntitiesByEntityID(\n",
    "        entity_id_3,\n",
    "        response_bytearray)\n",
    "\n",
    "except G2Exception as err:\n",
    "    print(g2_engine.getLastException())\n",
    "RenderJSON(response_bytearray)"
   ]
  },
  {
   "cell_type": "markdown",
   "metadata": {},
   "source": [
    "### findInterestingEntitiesByRecordID"
   ]
  },
  {
   "cell_type": "code",
   "execution_count": null,
   "metadata": {},
   "outputs": [],
   "source": [
    "response_bytearray = bytearray()\n",
    "\n",
    "try:\n",
    "    g2_engine.findInterestingEntitiesByRecordID(\n",
    "        datasource_code_1,\n",
    "        record_id_1,\n",
    "        response_bytearray)\n",
    "\n",
    "except G2Exception as err:\n",
    "    print(g2_engine.getLastException())\n",
    "RenderJSON(response_bytearray)"
   ]
  },
  {
   "cell_type": "markdown",
   "metadata": {},
   "source": [
    "The `whyEntities()`, `whyRecords()`, `whyEntityByRecordID()`,`whyEntityByEntityID()`, and `howEntityByEntityID()` functions can be used\n",
    "to determine why and how records belong to their resolved entities.\n",
    "These functions will compare the record data within an entity against the\n",
    "rest of the entity data, and show why they are connected.\n",
    "This is calculated based on the features that record data represents.\n",
    "\n",
    "###### Parameters\n",
    "\n",
    "- **datasource_code:** (str) The data source for the record to be analyzed\n",
    "- **entity_id:** (int) The entity ID for the entity to be analyzed\n",
    "- **record_id:** (str) The record ID for the record to be analyzed\n",
    "- **response_bytearray:** (bytearray) Object to store the output of the method. Can be used to print or store for later. **Warning:** This is not a *string*\n",
    "- **g2_engine_flags:** (int **[optional]**) Operational flags\n",
    "\n",
    "The function returns a JSON document that gives the results of the record\n",
    "analysis.\n",
    "The document contains a section called \"WHY_RESULTS\",\n",
    "which shows how specific records relate to the rest of the entity.\n",
    "It has a \"WHY_KEY\", which is similar to a match key, in defining the relevant\n",
    "connected data.\n",
    "It shows candidate keys for features that initially cause the records\n",
    "to be analyzed for a relationship,\n",
    "plus a series of feature scores that show how similar the feature data was.\n",
    "\n",
    "The response document also contains a separate ENTITIES section,\n",
    "with the full information about the resolved entity.\n",
    "(Note: When working with this entity data,\n",
    "Senzing recommends using the flags `G2_ENTITY_OPTION_INCLUDE_INTERNAL_FEATURES`\n",
    "and `G2_ENTITY_OPTION_INCLUDE_FEATURE_STATS`.\n",
    "This will provide detailed feature data that is not included by default,\n",
    "but is useful for understanding the WHY_RESULTS data.)"
   ]
  },
  {
   "cell_type": "markdown",
   "metadata": {},
   "source": [
    "### whyEntities\n",
    "\n",
    "\n",
    "###### Parameters\n",
    "\n",
    "- **entity_id_1:** (int) The entity ID for the first entity to be analyzed\n",
    "- **entity_id_2:** (int) The entity ID for the second entity to be analyzed\n",
    "- **response_bytearray:** (bytearray) Object to store the output of the method. Can be used to print or store for later. **Warning:** This is not a *string*\n",
    "- **g2_engine_flags:** (int **[optional]**) Control flags for outputting entities"
   ]
  },
  {
   "cell_type": "code",
   "execution_count": null,
   "metadata": {},
   "outputs": [],
   "source": [
    "response_bytearray = bytearray()\n",
    "\n",
    "try:\n",
    "    g2_engine.whyEntities(\n",
    "        entity_id_1,\n",
    "        entity_id_2,\n",
    "        response_bytearray)\n",
    "\n",
    "except G2Exception as err:\n",
    "    print(g2_engine.getLastException())\n",
    "RenderJSON(response_bytearray)"
   ]
  },
  {
   "cell_type": "markdown",
   "metadata": {},
   "source": [
    "### whyRecords\n",
    "\n",
    "###### Parameters\n",
    "\n",
    "- **datasource_code_1:** (str) The name of the first data source the record\n",
    "  is associated with.\n",
    "  This value is configurable to the system\n",
    "- **record_id_1:** (int) The record ID for the first record to be analyzed\n",
    "- **datasource_code_2:** (str) The name of the second data source the record\n",
    "  is associated with.\n",
    "  This value is configurable to the system\n",
    "- **record_id_1:** (int) The record ID for the second record to be analyzed\n",
    "- **response_bytearray:** (bytearray) Object to store the output of the method. Can be used to print or store for later. **Warning:** This is not a *string*\n",
    "- **g2_engine_flags:** (int **[optional]**) Control flags for outputting entities"
   ]
  },
  {
   "cell_type": "code",
   "execution_count": null,
   "metadata": {},
   "outputs": [],
   "source": [
    "response_bytearray = bytearray()\n",
    "\n",
    "try:\n",
    "    g2_engine.whyRecords(\n",
    "        datasource_code_1,\n",
    "        record_id_1,\n",
    "        datasource_code_2,\n",
    "        record_id_2,\n",
    "        response_bytearray)\n",
    "\n",
    "except G2Exception as err:\n",
    "    print(g2_engine.getLastException())\n",
    "RenderJSON(response_bytearray)"
   ]
  },
  {
   "cell_type": "markdown",
   "metadata": {},
   "source": [
    "### whyEntityByRecordID\n",
    "\n",
    "###### Parameters\n",
    "\n",
    "- **datasource_code:** (str) The name of the data source the record\n",
    "  is associated with.\n",
    "  This value is configurable to the system\n",
    "- **record_id:** (int) The record ID for the record to be analyzed\n",
    "- **response_bytearray:** (bytearray) Object to store the output of the method. Can be used to print or store for later. **Warning:** This is not a *string*\n",
    "- **g2_engine_flags:** (int **[optional]**) Control flags for outputting entities"
   ]
  },
  {
   "cell_type": "code",
   "execution_count": null,
   "metadata": {},
   "outputs": [],
   "source": [
    "response_bytearray = bytearray()\n",
    "\n",
    "try:\n",
    "    g2_engine.whyEntityByRecordID(\n",
    "        datasource_code_1,\n",
    "        record_id_1,\n",
    "        response_bytearray)\n",
    "\n",
    "except G2Exception as err:\n",
    "    print(g2_engine.getLastException())\n",
    "RenderJSON(response_bytearray)"
   ]
  },
  {
   "cell_type": "markdown",
   "metadata": {},
   "source": [
    "### whyEntityByEntityID\n",
    "\n",
    "###### Parameters\n",
    "\n",
    "- **entity_id:** (int) The entity ID for the entity to be analyzed\n",
    "- **response_bytearray:** (bytearray) Object to store the output of the method. Can be used to print or store for later. **Warning:** This is not a *string*\n",
    "- **g2_engine_flags:** (int **[optional]**) Control flags for outputting entities"
   ]
  },
  {
   "cell_type": "code",
   "execution_count": null,
   "metadata": {},
   "outputs": [],
   "source": [
    "response_bytearray = bytearray()\n",
    "\n",
    "try:\n",
    "    entity_id = entity_id_1\n",
    "    g2_engine.whyEntityByEntityID(\n",
    "        entity_id,\n",
    "        response_bytearray)\n",
    "\n",
    "except G2Exception as err:\n",
    "    print(g2_engine.getLastException())\n",
    "RenderJSON(response_bytearray)"
   ]
  },
  {
   "cell_type": "markdown",
   "metadata": {},
   "source": [
    "### howEntityByEntityID\n",
    "\n",
    "###### Parameters\n",
    "\n",
    "- **entity_id:** (int) The entity ID for the entity to be analyzed\n",
    "- **response_bytearray:** (bytearray) Object to store the output of the method. Can be used to print or store for later. **Warning:** This is not a *string*\n",
    "- **g2_engine_flags:** (int **[optional]**) Control flags for outputting entities"
   ]
  },
  {
   "cell_type": "markdown",
   "metadata": {},
   "source": [
    "Create some records to show resolution steps"
   ]
  },
  {
   "cell_type": "code",
   "execution_count": null,
   "metadata": {},
   "outputs": [],
   "source": [
    "data1 = {\n",
    "    \"NAMES\": [{\n",
    "        \"NAME_TYPE\": \"PRIMARY\",\n",
    "        \"NAME_LAST\": \"Schmoe\",\n",
    "        \"NAME_FIRST\": \"Joe\",\n",
    "        \"NAME_MIDDLE\": \"M\"\n",
    "    }],\n",
    "    \"SSN_NUMBER\": \"111-22-3456\",\n",
    "    \"DOB\": \"03/22/1982\"\n",
    "}\n",
    "data2 = {\n",
    "    \"NAMES\": [{\n",
    "        \"NAME_TYPE\": \"PRIMARY\",\n",
    "        \"NAME_LAST\": \"Schmoe\",\n",
    "        \"NAME_FIRST\": \"Joe\",\n",
    "        \"NAME_MIDDLE\": \"M\"\n",
    "    }],\n",
    "    \"SSN_NUMBER\": \"111-22-3456\",\n",
    "    \"CITIZENSHIP\": \"British\"\n",
    "}\n",
    "data3 = {\n",
    "    \"NAMES\": [{\n",
    "        \"NAME_TYPE\": \"PRIMARY\",\n",
    "        \"NAME_LAST\": \"Schmoe\",\n",
    "        \"NAME_FIRST\": \"Joe\",\n",
    "        \"NAME_MIDDLE\": \"M\"\n",
    "    }],\n",
    "    \"SSN_NUMBER\": \"111-22-3456\",\n",
    "    \"NATIONALITY\": \"Australian\"\n",
    "}\n",
    "data_as_json1 = json.dumps(data1)\n",
    "data_as_json2 = json.dumps(data2)\n",
    "data_as_json3 = json.dumps(data3)\n",
    "\n",
    "record_id1 = \"10\"\n",
    "record_id2 = \"11\"\n",
    "record_id3 = \"12\"\n",
    "datasource_code = \"TEST\"\n",
    "g2_engine.addRecord(datasource_code,record_id1,data_as_json1,load_id)\n",
    "g2_engine.addRecord(datasource_code,record_id2,data_as_json2,load_id)\n",
    "g2_engine.addRecord(datasource_code,record_id3,data_as_json3,load_id)\n",
    "\n",
    "response_bytearray = bytearray()\n",
    "\n",
    "try:\n",
    "    g2_engine.getEntityByRecordID(\n",
    "        datasource_code,\n",
    "        record_id1,\n",
    "        response_bytearray)\n",
    "\n",
    "    response_dictionary = json.loads(response_bytearray)\n",
    "    entity_id = response_dictionary[\"RESOLVED_ENTITY\"][\"ENTITY_ID\"]\n",
    "\n",
    "except G2Exception as err:\n",
    "    print(g2_engine.getLastException())"
   ]
  },
  {
   "cell_type": "code",
   "execution_count": null,
   "metadata": {
    "scrolled": true
   },
   "outputs": [],
   "source": [
    "response_bytearray = bytearray()\n",
    "\n",
    "try:\n",
    "    g2_engine.howEntityByEntityID(\n",
    "        entity_id,\n",
    "        response_bytearray)\n",
    "\n",
    "except G2Exception as err:\n",
    "    print(g2_engine.getLastException())\n",
    "RenderJSON(response_bytearray.decode())"
   ]
  },
  {
   "cell_type": "markdown",
   "metadata": {},
   "source": [
    "## Reporting\n",
    "\n",
    "Exporting entity data from resolved entities is one of the core purposes of\n",
    "Senzing software.\n",
    "In just a few short steps, the Senzing engine allows users to export entity\n",
    "data in either JSON or CSV format."
   ]
  },
  {
   "cell_type": "markdown",
   "metadata": {},
   "source": [
    "### exportJSONEntityReport\n",
    "\n",
    "There are three steps to exporting resolved entity data from the G2Engine\n",
    "object in JSON format.\n",
    "First, use the `exportJSONEntityReport()` method to generate the `export_handle`.\n",
    "\n",
    "###### Parameters\n",
    "\n",
    "- **g2_engine_flags**: (int **[optional]**) An integer specifying which entity details should be\n",
    "  included in the export."
   ]
  },
  {
   "cell_type": "code",
   "execution_count": null,
   "metadata": {
    "scrolled": true
   },
   "outputs": [],
   "source": [
    "try:\n",
    "    export_handle = g2_engine.exportJSONEntityReport()\n",
    "\n",
    "except G2Exception as err:\n",
    "    print(g2_engine.getLastException())"
   ]
  },
  {
   "cell_type": "markdown",
   "metadata": {},
   "source": [
    "### fetchNext\n",
    "\n",
    "Second, use the `fetchNext()` method to read the exportHandle and export a\n",
    "row of JSON output containing the entity data for a single entity.\n",
    "Note that successive calls of `fetchNext()` will export successive rows of\n",
    "entity data.\n",
    "\n",
    "###### Parameters\n",
    "\n",
    "- **export_handle:** (int) A long integer from which resolved entity data may be\n",
    "  read and exported.\n",
    "- **response_bytearray:** (bytearray) Object to store the output of the method. Can be used to print or store for later. **Warning:** This is not a *string*"
   ]
  },
  {
   "cell_type": "code",
   "execution_count": null,
   "metadata": {},
   "outputs": [],
   "source": [
    "try:\n",
    "    while True:\n",
    "        response_bytearray = bytearray()\n",
    "        g2_engine.fetchNext(export_handle, response_bytearray)\n",
    "        if not response_bytearray:\n",
    "            break\n",
    "        response_dictionary = json.loads(response_bytearray)\n",
    "        response = json.dumps(response_dictionary, sort_keys=True, indent=4)\n",
    "        print(response)\n",
    "        \n",
    "except G2Exception as err:\n",
    "    print(g2_engine.getLastException())"
   ]
  },
  {
   "cell_type": "markdown",
   "metadata": {},
   "source": [
    "### closeExport\n",
    "\n",
    "###### Parameters\n",
    "\n",
    "- **export_handle:** (int) A long integer from which resolved entity data may be\n",
    "  read and exported."
   ]
  },
  {
   "cell_type": "code",
   "execution_count": null,
   "metadata": {},
   "outputs": [],
   "source": [
    "try:\n",
    "    g2_engine.closeExport(export_handle)\n",
    "\n",
    "except G2Exception as err:\n",
    "    print(g2_engine.getLastException())"
   ]
  },
  {
   "cell_type": "markdown",
   "metadata": {},
   "source": [
    "### exportCSVEntityReport\n",
    "\n",
    "There are three steps to exporting resolved entity data from the G2Engine\n",
    "object in CSV format.\n",
    "First, use the `exportCSVEntityReport()` method to generate a long integer,\n",
    "referred to here as an 'export_handle'.\n",
    "\n",
    "###### Parameters\n",
    "\n",
    "- **csv_column_list:** (str) A comma-separated list of column names for the CSV\n",
    "  export. (These are listed a little further down.)\n",
    "- **g2_engine_flags:** (int **[optional]**) An integer specifying which entity details should be\n",
    "  included in the export.\n",
    "  See the \"Entity Export Flags\" section in the link below for further details.\n",
    "\n",
    "Second, use the `fetchNext()` method to read the exportHandle and export a\n",
    "row of CSV output containing the entity data for a single entity.\n",
    "Note that the first call of `fetchNext()` will yield a header row,\n",
    "and that successive calls of `fetchNext()` will export successive rows of\n",
    "entity data."
   ]
  },
  {
   "cell_type": "code",
   "execution_count": null,
   "metadata": {},
   "outputs": [],
   "source": [
    "try:\n",
    "    headers = 'RESOLVED_ENTITY_ID,RESOLVED_ENTITY_NAME,RELATED_ENTITY_ID,MATCH_LEVEL,MATCH_KEY,IS_DISCLOSED,IS_AMBIGUOUS,DATA_SOURCE,RECORD_ID,JSON_DATA,LAST_SEEN_DT,NAME_DATA,ATTRIBUTE_DATA,IDENTIFIER_DATA,ADDRESS_DATA,PHONE_DATA,RELATIONSHIP_DATA,ENTITY_DATA,OTHER_DATA'\n",
    "    export_handle = g2_engine.exportCSVEntityReport(headers)\n",
    "\n",
    "    while True:\n",
    "        response_bytearray = bytearray()\n",
    "        g2_engine.fetchNext(export_handle, response_bytearray)\n",
    "        if not response_bytearray:\n",
    "            break\n",
    "        print(response_bytearray.decode())\n",
    "\n",
    "    g2_engine.closeExport(export_handle)\n",
    "\n",
    "except G2Exception as err:\n",
    "    print(g2_engine.getLastException())"
   ]
  },
  {
   "cell_type": "markdown",
   "metadata": {},
   "source": [
    "## Cleanup\n",
    "\n",
    "To purge the G2 repository, use the aptly named `purgeRepository()` method.\n",
    "This will remove every record in your current repository."
   ]
  },
  {
   "cell_type": "markdown",
   "metadata": {},
   "source": [
    "### purgeRepository"
   ]
  },
  {
   "cell_type": "code",
   "execution_count": null,
   "metadata": {},
   "outputs": [],
   "source": [
    "try:\n",
    "    g2_engine.purgeRepository()\n",
    "\n",
    "except G2Exception as err:\n",
    "    print(g2_engine.getLastException())"
   ]
  },
  {
   "cell_type": "markdown",
   "metadata": {},
   "source": [
    "### destroy\n",
    "\n",
    "Once all searching is done in a given process,\n",
    "call `destroy()` to uninitialize Senzing and clean up resources.\n",
    "You should always do this once at the end of each process."
   ]
  },
  {
   "cell_type": "code",
   "execution_count": null,
   "metadata": {},
   "outputs": [],
   "source": [
    "try:\n",
    "    g2_engine.destroy()\n",
    "\n",
    "except G2Exception as err:\n",
    "    print(g2_engine.getLastException)"
   ]
  }
 ],
 "metadata": {
  "kernelspec": {
   "display_name": "Python 3 (ipykernel)",
   "language": "python",
   "name": "python3"
  },
  "language_info": {
   "codemirror_mode": {
    "name": "ipython",
    "version": 3
   },
   "file_extension": ".py",
   "mimetype": "text/x-python",
   "name": "python",
   "nbconvert_exporter": "python",
   "pygments_lexer": "ipython3",
   "version": "3.10.4"
  },
  "toc": {
   "base_numbering": 1,
   "nav_menu": {},
   "number_sections": true,
   "sideBar": true,
   "skip_h1_title": true,
   "title_cell": "Table of Contents",
   "title_sidebar": "Contents",
   "toc_cell": false,
   "toc_position": {
    "height": "597px",
    "left": "22px",
    "top": "111.133px",
    "width": "283px"
   },
   "toc_section_display": true,
   "toc_window_display": true
  }
 },
 "nbformat": 4,
 "nbformat_minor": 2
}
